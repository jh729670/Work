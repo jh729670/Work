{
 "cells": [
  {
   "cell_type": "code",
   "execution_count": 1,
   "id": "e550791e",
   "metadata": {},
   "outputs": [],
   "source": [
    "import pandas as pd\n",
    "import os \n",
    "import seaborn as sns\n",
    "import numpy as np\n",
    "import matplotlib.pyplot as plt\n",
    "from datetime import datetime,date,timedelta\n",
    "import pyodbc as odbc\n",
    "os.chdir(r'L:\\J.Harned\\PVM Analysis')"
   ]
  },
  {
   "cell_type": "code",
   "execution_count": 2,
   "id": "b81073b2",
   "metadata": {},
   "outputs": [
    {
     "name": "stdout",
     "output_type": "stream",
     "text": [
      "<pyodbc.Connection object at 0x0000024CFD191920>\n"
     ]
    }
   ],
   "source": [
    "# Names the needed driver, server name, and database\n",
    "driver_name='SQL Server'\n",
    "server_name='10.0.1.218'\n",
    "database='ritascoolnet_live'\n",
    "#Creates the connection string\n",
    "connection_string=f\"\"\"\n",
    "DRIVER={{{driver_name}}};\n",
    "SERVER={server_name};\n",
    "DATABASE={database};\n",
    "Trust_Connection=yes\"\"\"\n",
    "#Creates the Connection to SQL Server\n",
    "connection=odbc.connect(connection_string)\n",
    "print(connection)"
   ]
  },
  {
   "cell_type": "code",
   "execution_count": 3,
   "id": "fef7d41a",
   "metadata": {},
   "outputs": [
    {
     "name": "stderr",
     "output_type": "stream",
     "text": [
      "C:\\Users\\jharned\\AppData\\Local\\Temp\\ipykernel_24852\\1911494579.py:1: UserWarning: pandas only supports SQLAlchemy connectable (engine/connection) or database string URI or sqlite3 DBAPI2 connection. Other DBAPI2 objects are not tested. Please consider using SQLAlchemy.\n",
      "  data=pd.read_sql_query('''SELECT *\n"
     ]
    }
   ],
   "source": [
    "data=pd.read_sql_query('''SELECT *\n",
    "  FROM [ritas_bi].[dbo].[tmp_raw_plda]\n",
    "  WHERE YEAR(StartDate)>=2023''',connection)"
   ]
  },
  {
   "cell_type": "code",
   "execution_count": 52,
   "id": "88b690ee",
   "metadata": {},
   "outputs": [
    {
     "name": "stderr",
     "output_type": "stream",
     "text": [
      "C:\\Users\\jharned\\AppData\\Local\\Temp\\ipykernel_24852\\3328852166.py:2: SettingWithCopyWarning: \n",
      "A value is trying to be set on a copy of a slice from a DataFrame.\n",
      "Try using .loc[row_indexer,col_indexer] = value instead\n",
      "\n",
      "See the caveats in the documentation: https://pandas.pydata.org/pandas-docs/stable/user_guide/indexing.html#returning-a-view-versus-a-copy\n",
      "  data_f['Year']=data_f.StartDate.dt.year\n"
     ]
    },
    {
     "data": {
      "text/plain": [
       "0          1\n",
       "1          2\n",
       "2          3\n",
       "3          4\n",
       "4          6\n",
       "       ...  \n",
       "606    20096\n",
       "607    20289\n",
       "609    20714\n",
       "610    20882\n",
       "613    30332\n",
       "Name: ShopID, Length: 549, dtype: int64"
      ]
     },
     "execution_count": 52,
     "metadata": {},
     "output_type": "execute_result"
    }
   ],
   "source": [
    "data_f=data[data.Week<=26]\n",
    "data_f['Year']=data_f.StartDate.dt.year\n",
    "comps=data_f.pivot_table(index='ShopID',columns='Year',values='SalesMny',aggfunc='sum',fill_value=0).reset_index()\n",
    "shops=comps[(comps.iloc[:,-2]>0)&(comps.iloc[:,-1]>0)].ShopID\n",
    "shops\n"
   ]
  },
  {
   "cell_type": "code",
   "execution_count": 53,
   "id": "2b25fe82",
   "metadata": {},
   "outputs": [
    {
     "name": "stderr",
     "output_type": "stream",
     "text": [
      "C:\\Users\\jharned\\AppData\\Local\\Temp\\ipykernel_24852\\111706096.py:1: SettingWithCopyWarning: \n",
      "A value is trying to be set on a copy of a slice from a DataFrame.\n",
      "Try using .loc[row_indexer,col_indexer] = value instead\n",
      "\n",
      "See the caveats in the documentation: https://pandas.pydata.org/pandas-docs/stable/user_guide/indexing.html#returning-a-view-versus-a-copy\n",
      "  data_f['Year']=data_f.Year.astype('str')\n"
     ]
    }
   ],
   "source": [
    "data_f['Year']=data_f.Year.astype('str')\n",
    "data_sales=data_f[data_f.ShopID.isin(shops)].pivot_table(index='ProductSizeName',columns='Year',values=['SalesMny','SalesQty'],aggfunc='sum')\n",
    "data_perc=data_f[data_f.ShopID.isin(shops)].pivot_table(index='ProductSizeName',columns='Year',values=['SalesMny','SalesQty'],aggfunc='sum',fill_value=0)\\\n",
    ".apply(lambda x: x/sum(x))\n",
    "data_sales.columns=['_'.join(col).strip() \n",
    " for col in data_sales.columns.values]\n",
    "data_perc.columns=['_'.join(col).strip() \n",
    " for col in data_perc.columns.values]"
   ]
  },
  {
   "cell_type": "code",
   "execution_count": 54,
   "id": "8ae2aa6c",
   "metadata": {},
   "outputs": [],
   "source": [
    "data_perc.columns=data_perc.columns.str.replace('SalesMny','Sales%',regex=True)\n",
    "data_perc.columns=data_perc.columns.str.replace('SalesQty','Qty%',regex=True)"
   ]
  },
  {
   "cell_type": "code",
   "execution_count": 55,
   "id": "7b336dea",
   "metadata": {},
   "outputs": [],
   "source": [
    "data_sales['Price_23']=data_sales.iloc[:,0]/data_sales.iloc[:,2]\n",
    "data_sales['Price_24']=data_sales.iloc[:,1]/data_sales.iloc[:,3]"
   ]
  },
  {
   "cell_type": "code",
   "execution_count": 56,
   "id": "160f9879",
   "metadata": {},
   "outputs": [],
   "source": [
    "data_sales.merge(data_perc,on='ProductSizeName').to_excel('Comp 23-24 Jan-June PVM Analysis.xlsx')"
   ]
  },
  {
   "cell_type": "code",
   "execution_count": 44,
   "id": "776021f7",
   "metadata": {},
   "outputs": [
    {
     "data": {
      "text/plain": [
       "(238, 6)"
      ]
     },
     "execution_count": 44,
     "metadata": {},
     "output_type": "execute_result"
    }
   ],
   "source": [
    "data_sales.shape"
   ]
  },
  {
   "cell_type": "code",
   "execution_count": null,
   "id": "ab2324b3",
   "metadata": {},
   "outputs": [],
   "source": []
  }
 ],
 "metadata": {
  "kernelspec": {
   "display_name": "Python 3 (ipykernel)",
   "language": "python",
   "name": "python3"
  },
  "language_info": {
   "codemirror_mode": {
    "name": "ipython",
    "version": 3
   },
   "file_extension": ".py",
   "mimetype": "text/x-python",
   "name": "python",
   "nbconvert_exporter": "python",
   "pygments_lexer": "ipython3",
   "version": "3.9.12"
  }
 },
 "nbformat": 4,
 "nbformat_minor": 5
}
