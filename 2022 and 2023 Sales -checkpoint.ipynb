{
 "cells": [
  {
   "cell_type": "code",
   "execution_count": 1,
   "id": "f10d5b08",
   "metadata": {},
   "outputs": [],
   "source": [
    "import pandas as pd\n",
    "import os"
   ]
  },
  {
   "cell_type": "code",
   "execution_count": 2,
   "id": "6a25baec",
   "metadata": {},
   "outputs": [],
   "source": [
    "os.chdir(r'G:\\FinanceReports\\2022\\Wk52')"
   ]
  },
  {
   "cell_type": "code",
   "execution_count": 3,
   "id": "a966cd5a",
   "metadata": {},
   "outputs": [],
   "source": [
    "data=pd.read_excel('2022-SRSsales-productLevel-wk1-52 1.18.2023.xlsx',sheet_name='2022')"
   ]
  },
  {
   "cell_type": "code",
   "execution_count": 4,
   "id": "6c88bd29",
   "metadata": {},
   "outputs": [],
   "source": [
    "os.chdir(r'G:\\FinanceReports\\2023\\Wk12')"
   ]
  },
  {
   "cell_type": "code",
   "execution_count": 5,
   "id": "76b97f03",
   "metadata": {},
   "outputs": [],
   "source": [
    "data1=pd.read_excel('2023-SRSsales-productLevel-wk12.xlsx',sheet_name='2023')"
   ]
  },
  {
   "cell_type": "code",
   "execution_count": 34,
   "id": "2a3fcb9c",
   "metadata": {},
   "outputs": [],
   "source": [
    "df=pd.concat([data,data1])"
   ]
  },
  {
   "cell_type": "code",
   "execution_count": 35,
   "id": "3fba49e6",
   "metadata": {},
   "outputs": [
    {
     "data": {
      "text/plain": [
       "(727447, 27)"
      ]
     },
     "execution_count": 35,
     "metadata": {},
     "output_type": "execute_result"
    }
   ],
   "source": [
    "df.shape"
   ]
  },
  {
   "cell_type": "code",
   "execution_count": 10,
   "id": "c04c8280",
   "metadata": {},
   "outputs": [],
   "source": [
    "df.Year=df.EndDate.dt.year"
   ]
  },
  {
   "cell_type": "code",
   "execution_count": 12,
   "id": "377d8e96",
   "metadata": {},
   "outputs": [
    {
     "data": {
      "text/plain": [
       "array([  22,   39,  306,   73,   78,  114,  347,  142,  250,  245,  332,\n",
       "        385,  467,  468,  536,  463,  413,  691,  617,  753,  714,  485,\n",
       "        835,  498,  863,  836,  501,  585,  892,  952, 1055,  888,  764,\n",
       "       1119, 1126, 1139,  779,  843, 1159, 1071,  847, 1276,  858, 1130,\n",
       "       1132, 1328, 1334,  905,  903, 1268,  934, 1335, 1352, 1302, 1044,\n",
       "       1040, 1369, 1318, 1378, 1379, 1133, 1336, 1337, 1381, 1385, 1403,\n",
       "       1357, 1322, 1362, 1409, 1351, 1419, 1377, 1422, 1396, 1454, 1398,\n",
       "       1460, 1405, 1416, 1383, 1417, 1356, 1418, 1432, 1371, 1450, 1394,\n",
       "       1451, 1478, 1423, 1449,   26, 1468, 1472, 1390, 1453, 1436, 1420,\n",
       "       1400, 1397,  427,  476,  289,  127,  148,  187,  231,  496,  503,\n",
       "        872, 1053,  556, 1254, 1407, 1482, 1479, 1459,  149,  344,  134,\n",
       "         97,  278,  259, 1171, 1237, 1456, 1172,  436,  182,  337,  292,\n",
       "        263,  161,  400,  152,  183,  405,  429,  712,  860, 1072, 1476,\n",
       "       1368, 1364,  930,  649,  571,  355,  248,  285,  394,  487,  313,\n",
       "        288,  399,  417,  365,   54,   86,  324,  139,  227,  178,  403,\n",
       "        410,  639,  711,  514,  676,  663,  734, 1121, 1065, 1212, 1269,\n",
       "       1413, 1427,  412, 1440, 1389, 1401, 1406, 1355, 1365, 1347, 1344,\n",
       "       1170, 1088,  940,  937, 1047,  824,  638,  927,  681,  729,  525,\n",
       "        543,  521,  626,  552,  473,  518,  287,  354,  477,  350,  261,\n",
       "        237,  164,  173,  314,   92,  204,   42,   64,  254,  243,   29,\n",
       "          8,    9,   11,   18,  154,   48,   68,   83,  123,   88,    1,\n",
       "         87,   37,  122,   43,   21,  171,   81,  145,   96,   94,  349,\n",
       "        340,   82,  279,  280,  209,  195,  330,  218,  221,  213,  197,\n",
       "        241,  341,  274,  358,  440,  532,  516,  628,  889, 1253, 1187,\n",
       "       1445, 1395, 1049,  866,  803,  579,  545,  392,  428,  493,  474,\n",
       "        484,  452,  293,  295,  402,  386,  353,  388,  369,  382,  383,\n",
       "        267,  359,  175,  372,  260,  214,  301,  335,  333,  129,  150,\n",
       "        316,  291,  172,  362,  118,  339,  105,  225,  322,  104,  290,\n",
       "         55,  192,   65,   66,  181,   53,  169,   31,   98,  136,   20,\n",
       "         15,   58,    6,    2,   12,   57,  133,   70,   19,   10,  102,\n",
       "         56,   44,  100,   71,  158,   40,  135,   60,  125,   61,   41,\n",
       "        111,  364,  128,  194,  211,  188,  270,  206,  215,  238,  345,\n",
       "        246,  235,  343,  312,  298,  342,  453,  560,  331,  435,  874,\n",
       "        575,  929,  912,  559,  790,  886,  932,  931,  944, 1399, 1404,\n",
       "       1410,  882,  511, 1462,  159, 1457, 1446, 1425, 1387, 1376, 1271,\n",
       "       1272, 1231, 1273, 1046, 1045, 1060, 1018,  933,  887,  885,  853,\n",
       "        899,  896,  897,  777,  746,  744,  731,  658,  519,  704,  550,\n",
       "        490,  534,  510,  423,  465,  393,  486,  380,  414,  381,  390,\n",
       "        441,  397,  444,  387,  507,  376,  446,  384,  370,  217,  200,\n",
       "        371,  366,  311,  163,  198,  180,  185,  186,  286,  294,  303,\n",
       "        184,  309,  334,  205,  230,  229,  271,  247,  368,  256,  257,\n",
       "        379,  242,  338,  249,  239,  305,  304,  212,  374,  224,  323,\n",
       "        207,  153,  190,  155,  166,  167,   95,   85,   84,  113,  106,\n",
       "          7,  108,  109,   16,  138,   28,  144,   59,   91,  156,   47,\n",
       "        151,  124,  170,   34,   45,  101,   14,   89,    4,   30,    3,\n",
       "         36,  120,   69,  361,  299,  421,  472,  391,  689,  650, 1424,\n",
       "       1474, 1428, 1492, 1458, 1266,  495,  438,  928, 1160, 1265,  564,\n",
       "        223,  117, 1402,  938,  935, 1448, 1348,  943, 1360,  445, 1414,\n",
       "       1127, 1234, 1310, 1393, 1455, 1489, 1520, 1435])"
      ]
     },
     "execution_count": 12,
     "metadata": {},
     "output_type": "execute_result"
    }
   ],
   "source": [
    "df['StringID']=df.ShopID.astype('int')\n",
    "#data=pd.merge(data,franchise,on=['StringID'])\n",
    "df['StringID']=df.ShopID.astype('str')\n",
    "df['StringID']=df.StringID.str[-4:]\n",
    "df['StringID']=df.StringID.astype('int')\n",
    "df.StringID.unique()"
   ]
  },
  {
   "cell_type": "code",
   "execution_count": 15,
   "id": "8b72e328",
   "metadata": {},
   "outputs": [],
   "source": [
    "df.drop_duplicates(keep='first').to_excel('2022-23 Sales.xlsx',index=False)"
   ]
  },
  {
   "cell_type": "code",
   "execution_count": 6,
   "id": "2883f9db",
   "metadata": {},
   "outputs": [
    {
     "data": {
      "text/plain": [
       "Timestamp('2023-01-15 00:00:00')"
      ]
     },
     "execution_count": 6,
     "metadata": {},
     "output_type": "execute_result"
    }
   ],
   "source": [
    "data.EndDate.max()"
   ]
  },
  {
   "cell_type": "code",
   "execution_count": 8,
   "id": "78c00282",
   "metadata": {},
   "outputs": [],
   "source": [
    "df2=data[data.EndDate<='2023-01-01']"
   ]
  },
  {
   "cell_type": "code",
   "execution_count": 20,
   "id": "2b703200",
   "metadata": {},
   "outputs": [],
   "source": [
    "df2group=round(df2.groupby(['ProductTypeName'])['SalesMny'].sum(),2).reset_index()"
   ]
  },
  {
   "cell_type": "code",
   "execution_count": 19,
   "id": "5901d743",
   "metadata": {},
   "outputs": [],
   "source": [
    "total=df2group.sum()"
   ]
  },
  {
   "cell_type": "code",
   "execution_count": 26,
   "id": "5a3cc1fb",
   "metadata": {},
   "outputs": [],
   "source": [
    "df2group['Sales%']=df2group.SalesMny/total"
   ]
  },
  {
   "cell_type": "code",
   "execution_count": 27,
   "id": "fdbf0073",
   "metadata": {},
   "outputs": [
    {
     "data": {
      "text/html": [
       "<div>\n",
       "<style scoped>\n",
       "    .dataframe tbody tr th:only-of-type {\n",
       "        vertical-align: middle;\n",
       "    }\n",
       "\n",
       "    .dataframe tbody tr th {\n",
       "        vertical-align: top;\n",
       "    }\n",
       "\n",
       "    .dataframe thead th {\n",
       "        text-align: right;\n",
       "    }\n",
       "</style>\n",
       "<table border=\"1\" class=\"dataframe\">\n",
       "  <thead>\n",
       "    <tr style=\"text-align: right;\">\n",
       "      <th></th>\n",
       "      <th>ProductTypeName</th>\n",
       "      <th>SalesMny</th>\n",
       "      <th>Sales%</th>\n",
       "    </tr>\n",
       "  </thead>\n",
       "  <tbody>\n",
       "    <tr>\n",
       "      <th>0</th>\n",
       "      <td>3rd Party Delivery</td>\n",
       "      <td>8684919.26</td>\n",
       "      <td>5.515673e-02</td>\n",
       "    </tr>\n",
       "    <tr>\n",
       "      <th>1</th>\n",
       "      <td>Additional Toppings</td>\n",
       "      <td>1456558.21</td>\n",
       "      <td>9.250401e-03</td>\n",
       "    </tr>\n",
       "    <tr>\n",
       "      <th>2</th>\n",
       "      <td>Beverages</td>\n",
       "      <td>309979.18</td>\n",
       "      <td>1.968635e-03</td>\n",
       "    </tr>\n",
       "    <tr>\n",
       "      <th>3</th>\n",
       "      <td>Blendini/Concrete</td>\n",
       "      <td>10512889.23</td>\n",
       "      <td>6.676591e-02</td>\n",
       "    </tr>\n",
       "    <tr>\n",
       "      <th>4</th>\n",
       "      <td>Catering (Bulk Ice)</td>\n",
       "      <td>1789816.10</td>\n",
       "      <td>1.136688e-02</td>\n",
       "    </tr>\n",
       "    <tr>\n",
       "      <th>5</th>\n",
       "      <td>Cookies</td>\n",
       "      <td>1205.78</td>\n",
       "      <td>7.657743e-06</td>\n",
       "    </tr>\n",
       "    <tr>\n",
       "      <th>6</th>\n",
       "      <td>Cool Stuff Consumer Goods</td>\n",
       "      <td>15675.21</td>\n",
       "      <td>9.955110e-05</td>\n",
       "    </tr>\n",
       "    <tr>\n",
       "      <th>7</th>\n",
       "      <td>Custard</td>\n",
       "      <td>31271029.76</td>\n",
       "      <td>1.985980e-01</td>\n",
       "    </tr>\n",
       "    <tr>\n",
       "      <th>8</th>\n",
       "      <td>Discount</td>\n",
       "      <td>-2203207.67</td>\n",
       "      <td>-1.399227e-02</td>\n",
       "    </tr>\n",
       "    <tr>\n",
       "      <th>9</th>\n",
       "      <td>Donut Catering</td>\n",
       "      <td>89.44</td>\n",
       "      <td>5.680211e-07</td>\n",
       "    </tr>\n",
       "    <tr>\n",
       "      <th>10</th>\n",
       "      <td>Donuts</td>\n",
       "      <td>3917.08</td>\n",
       "      <td>2.487684e-05</td>\n",
       "    </tr>\n",
       "    <tr>\n",
       "      <th>11</th>\n",
       "      <td>Fresh Baked Treats</td>\n",
       "      <td>54782.14</td>\n",
       "      <td>3.479138e-04</td>\n",
       "    </tr>\n",
       "    <tr>\n",
       "      <th>12</th>\n",
       "      <td>Frozen Beverages</td>\n",
       "      <td>2169341.64</td>\n",
       "      <td>1.377719e-02</td>\n",
       "    </tr>\n",
       "    <tr>\n",
       "      <th>13</th>\n",
       "      <td>Full Service Catering (Open $)</td>\n",
       "      <td>1798766.85</td>\n",
       "      <td>1.142372e-02</td>\n",
       "    </tr>\n",
       "    <tr>\n",
       "      <th>14</th>\n",
       "      <td>Fundraiser Cards</td>\n",
       "      <td>16833.17</td>\n",
       "      <td>1.069051e-04</td>\n",
       "    </tr>\n",
       "    <tr>\n",
       "      <th>15</th>\n",
       "      <td>Gelati</td>\n",
       "      <td>40149436.72</td>\n",
       "      <td>2.549835e-01</td>\n",
       "    </tr>\n",
       "    <tr>\n",
       "      <th>16</th>\n",
       "      <td>Good to Go</td>\n",
       "      <td>4975.07</td>\n",
       "      <td>3.159598e-05</td>\n",
       "    </tr>\n",
       "    <tr>\n",
       "      <th>17</th>\n",
       "      <td>Hand Scooped Custard</td>\n",
       "      <td>1296300.15</td>\n",
       "      <td>8.232624e-03</td>\n",
       "    </tr>\n",
       "    <tr>\n",
       "      <th>18</th>\n",
       "      <td>Italian Ice</td>\n",
       "      <td>42291791.70</td>\n",
       "      <td>2.685893e-01</td>\n",
       "    </tr>\n",
       "    <tr>\n",
       "      <th>19</th>\n",
       "      <td>Milkshakes</td>\n",
       "      <td>6157304.80</td>\n",
       "      <td>3.910419e-02</td>\n",
       "    </tr>\n",
       "    <tr>\n",
       "      <th>20</th>\n",
       "      <td>Misto</td>\n",
       "      <td>5747872.34</td>\n",
       "      <td>3.650395e-02</td>\n",
       "    </tr>\n",
       "    <tr>\n",
       "      <th>21</th>\n",
       "      <td>MobileCart</td>\n",
       "      <td>1516548.56</td>\n",
       "      <td>9.631391e-03</td>\n",
       "    </tr>\n",
       "    <tr>\n",
       "      <th>22</th>\n",
       "      <td>Nathans</td>\n",
       "      <td>19045.11</td>\n",
       "      <td>1.209529e-04</td>\n",
       "    </tr>\n",
       "    <tr>\n",
       "      <th>23</th>\n",
       "      <td>Non-Coded Revenue Sales</td>\n",
       "      <td>1571163.22</td>\n",
       "      <td>9.978241e-03</td>\n",
       "    </tr>\n",
       "    <tr>\n",
       "      <th>24</th>\n",
       "      <td>Novelties</td>\n",
       "      <td>1450792.48</td>\n",
       "      <td>9.213783e-03</td>\n",
       "    </tr>\n",
       "    <tr>\n",
       "      <th>25</th>\n",
       "      <td>Sandellas</td>\n",
       "      <td>178.52</td>\n",
       "      <td>1.133756e-06</td>\n",
       "    </tr>\n",
       "    <tr>\n",
       "      <th>26</th>\n",
       "      <td>Shared Mobile Event - Non-Mobile Store</td>\n",
       "      <td>1.00</td>\n",
       "      <td>6.350862e-09</td>\n",
       "    </tr>\n",
       "    <tr>\n",
       "      <th>27</th>\n",
       "      <td>Smoothie</td>\n",
       "      <td>6448.53</td>\n",
       "      <td>4.095373e-05</td>\n",
       "    </tr>\n",
       "    <tr>\n",
       "      <th>28</th>\n",
       "      <td>Snacks</td>\n",
       "      <td>1364481.02</td>\n",
       "      <td>8.665631e-03</td>\n",
       "    </tr>\n",
       "  </tbody>\n",
       "</table>\n",
       "</div>"
      ],
      "text/plain": [
       "                           ProductTypeName     SalesMny        Sales%\n",
       "0                       3rd Party Delivery   8684919.26  5.515673e-02\n",
       "1                      Additional Toppings   1456558.21  9.250401e-03\n",
       "2                                Beverages    309979.18  1.968635e-03\n",
       "3                        Blendini/Concrete  10512889.23  6.676591e-02\n",
       "4                      Catering (Bulk Ice)   1789816.10  1.136688e-02\n",
       "5                                  Cookies      1205.78  7.657743e-06\n",
       "6                Cool Stuff Consumer Goods     15675.21  9.955110e-05\n",
       "7                                  Custard  31271029.76  1.985980e-01\n",
       "8                                 Discount  -2203207.67 -1.399227e-02\n",
       "9                           Donut Catering        89.44  5.680211e-07\n",
       "10                                  Donuts      3917.08  2.487684e-05\n",
       "11                      Fresh Baked Treats     54782.14  3.479138e-04\n",
       "12                        Frozen Beverages   2169341.64  1.377719e-02\n",
       "13          Full Service Catering (Open $)   1798766.85  1.142372e-02\n",
       "14                        Fundraiser Cards     16833.17  1.069051e-04\n",
       "15                                  Gelati  40149436.72  2.549835e-01\n",
       "16                              Good to Go      4975.07  3.159598e-05\n",
       "17                    Hand Scooped Custard   1296300.15  8.232624e-03\n",
       "18                             Italian Ice  42291791.70  2.685893e-01\n",
       "19                              Milkshakes   6157304.80  3.910419e-02\n",
       "20                                   Misto   5747872.34  3.650395e-02\n",
       "21                              MobileCart   1516548.56  9.631391e-03\n",
       "22                                 Nathans     19045.11  1.209529e-04\n",
       "23                 Non-Coded Revenue Sales   1571163.22  9.978241e-03\n",
       "24                               Novelties   1450792.48  9.213783e-03\n",
       "25                               Sandellas       178.52  1.133756e-06\n",
       "26  Shared Mobile Event - Non-Mobile Store         1.00  6.350862e-09\n",
       "27                                Smoothie      6448.53  4.095373e-05\n",
       "28                                  Snacks   1364481.02  8.665631e-03"
      ]
     },
     "execution_count": 27,
     "metadata": {},
     "output_type": "execute_result"
    }
   ],
   "source": [
    "df2group"
   ]
  },
  {
   "cell_type": "code",
   "execution_count": 31,
   "id": "6400ae21",
   "metadata": {},
   "outputs": [],
   "source": [
    "total1=round(data1.groupby('ProductTypeName')['SalesMny'].sum(),2).sum()"
   ]
  },
  {
   "cell_type": "code",
   "execution_count": 32,
   "id": "60bbe8dc",
   "metadata": {},
   "outputs": [],
   "source": [
    "df3group=data1.groupby('ProductTypeName')['SalesMny'].sum().reset_index()\n",
    "df3group['Sales%']=df3group.SalesMny/total1"
   ]
  },
  {
   "cell_type": "code",
   "execution_count": 33,
   "id": "f4835440",
   "metadata": {},
   "outputs": [
    {
     "name": "stderr",
     "output_type": "stream",
     "text": [
      "C:\\Users\\jharned\\Anaconda3\\lib\\site-packages\\xlsxwriter\\workbook.py:339: UserWarning: Calling close() on already closed file.\n",
      "  warn(\"Calling close() on already closed file.\")\n"
     ]
    }
   ],
   "source": [
    "writer=pd.ExcelWriter('Product Mix.xlsx')\n",
    "df3group.to_excel(writer, sheet_name='2023 thru Week '+str(data1.Week.max()),index=False)\n",
    "df2group.to_excel(writer, sheet_name='2022',index=False)\n",
    "writer.save()\n",
    "writer.close()"
   ]
  },
  {
   "cell_type": "code",
   "execution_count": null,
   "id": "3b96bc7e",
   "metadata": {},
   "outputs": [],
   "source": []
  }
 ],
 "metadata": {
  "kernelspec": {
   "display_name": "Python 3 (ipykernel)",
   "language": "python",
   "name": "python3"
  },
  "language_info": {
   "codemirror_mode": {
    "name": "ipython",
    "version": 3
   },
   "file_extension": ".py",
   "mimetype": "text/x-python",
   "name": "python",
   "nbconvert_exporter": "python",
   "pygments_lexer": "ipython3",
   "version": "3.9.12"
  }
 },
 "nbformat": 4,
 "nbformat_minor": 5
}
