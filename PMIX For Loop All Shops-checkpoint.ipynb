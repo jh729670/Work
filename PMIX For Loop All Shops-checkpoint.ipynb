{
 "cells": [
  {
   "cell_type": "code",
   "execution_count": 1,
   "id": "3aa0c3b5",
   "metadata": {},
   "outputs": [],
   "source": [
    "#Imports the necessary libraries\n",
    "import pandas as pd\n",
    "import os\n",
    "import numpy as np\n",
    "import pyodbc as odbc\n",
    "from datetime import date,timedelta,datetime\n",
    "import xlsxwriter\n",
    "import matplotlib.image as mpimg\n",
    "import matplotlib.pyplot as plt\n",
    "os.chdir(r'G:\\FinanceReports\\2025\\Wk1')\n",
    "#Get Logo\n",
    "img = mpimg.imread('Logo.png')"
   ]
  },
  {
   "cell_type": "code",
   "execution_count": 2,
   "id": "793a4d23",
   "metadata": {},
   "outputs": [
    {
     "name": "stdout",
     "output_type": "stream",
     "text": [
      "<pyodbc.Connection object at 0x000002882DDE2440>\n"
     ]
    },
    {
     "name": "stderr",
     "output_type": "stream",
     "text": [
      "C:\\Users\\jharned\\AppData\\Local\\Temp\\ipykernel_4224\\928888764.py:15: UserWarning: pandas only supports SQLAlchemy connectable (engine/connection) or database string URI or sqlite3 DBAPI2 connection. Other DBAPI2 objects are not tested. Please consider using SQLAlchemy.\n",
      "  df=pd.read_sql_query('''SELECT *\n"
     ]
    }
   ],
   "source": [
    "# Names the needed driver, server name, and database\n",
    "driver_name='SQL Server'\n",
    "server_name='10.0.1.218'\n",
    "database='ritascoolnet_live'\n",
    "#Creates the connection string\n",
    "connection_string=f\"\"\"\n",
    "DRIVER={{{driver_name}}};\n",
    "SERVER={server_name};\n",
    "DATABASE={database};\n",
    "Trust_Connection=yes\"\"\"\n",
    "#Creates the Connection to SQL Server\n",
    "connection=odbc.connect(connection_string)\n",
    "print(connection)\n",
    "# Reads in the Weekly Sales in 2024\n",
    "df=pd.read_sql_query('''SELECT *\n",
    "  FROM [ritas_bi].[dbo].[tmp_raw_plda]\n",
    "  WHERE YEAR(StartDate)=2024''',connection)"
   ]
  },
  {
   "cell_type": "code",
   "execution_count": 4,
   "id": "1a1797ff",
   "metadata": {},
   "outputs": [
    {
     "data": {
      "text/plain": [
       "(796019, 25)"
      ]
     },
     "execution_count": 4,
     "metadata": {},
     "output_type": "execute_result"
    }
   ],
   "source": [
    "df.shape"
   ]
  },
  {
   "cell_type": "code",
   "execution_count": 5,
   "id": "f0c94635",
   "metadata": {},
   "outputs": [
    {
     "name": "stderr",
     "output_type": "stream",
     "text": [
      "C:\\Users\\jharned\\AppData\\Local\\Temp\\ipykernel_4224\\508925922.py:2: UserWarning: pandas only supports SQLAlchemy connectable (engine/connection) or database string URI or sqlite3 DBAPI2 connection. Other DBAPI2 objects are not tested. Please consider using SQLAlchemy.\n",
      "  data3=pd.read_sql_query('''Select intstoreid as intStoreID,RitasID as ShopID, FC,CoolNetGroup,LegacyStoreType,State,MSAName,DMA,StoreName as ShopName,\n"
     ]
    }
   ],
   "source": [
    "#ShopDetail\n",
    "data3=pd.read_sql_query('''Select intstoreid as intStoreID,RitasID as ShopID, FC,CoolNetGroup,LegacyStoreType,State,MSAName,DMA,StoreName as ShopName,\n",
    "CoOpName,Franchisee,[Parent Shop #] as ParentID,[Special Venue] as SV,StoreStatus,[Re Open Date] as ReOpenDate,OpenDate,StoreType from ritascoolnet_live.dbo.vShopDetail''',connection)"
   ]
  },
  {
   "cell_type": "code",
   "execution_count": 6,
   "id": "747455be",
   "metadata": {},
   "outputs": [
    {
     "name": "stderr",
     "output_type": "stream",
     "text": [
      "C:\\Users\\jharned\\AppData\\Local\\Temp\\ipykernel_4224\\845349543.py:1: UserWarning: pandas only supports SQLAlchemy connectable (engine/connection) or database string URI or sqlite3 DBAPI2 connection. Other DBAPI2 objects are not tested. Please consider using SQLAlchemy.\n",
      "  data4=pd.read_sql_query('''select intstoreid as intStoreID,StoreName from ritas_bi.dbo.shopSalesRankingWeekly''',connection)\n"
     ]
    }
   ],
   "source": [
    "data4=pd.read_sql_query('''select intstoreid as intStoreID,StoreName from ritas_bi.dbo.shopSalesRankingWeekly''',connection)"
   ]
  },
  {
   "cell_type": "code",
   "execution_count": 7,
   "id": "7cc3836c",
   "metadata": {},
   "outputs": [],
   "source": [
    "data=df.merge(data3[['intStoreID','ParentID','StoreStatus']],on='intStoreID',how='left')\n",
    "data=data.merge(data4[['intStoreID','StoreName']],on='intStoreID',how='left')\n",
    "data=data[data.StoreStatus=='Open']\n",
    "data.ParentID=data.ParentID.astype('int')"
   ]
  },
  {
   "cell_type": "code",
   "execution_count": 8,
   "id": "5fd5711c",
   "metadata": {},
   "outputs": [
    {
     "data": {
      "text/plain": [
       "(781803, 28)"
      ]
     },
     "execution_count": 8,
     "metadata": {},
     "output_type": "execute_result"
    }
   ],
   "source": [
    "data.shape"
   ]
  },
  {
   "cell_type": "code",
   "execution_count": 14,
   "id": "73b1058c",
   "metadata": {},
   "outputs": [
    {
     "name": "stdout",
     "output_type": "stream",
     "text": [
      "Changed to: G:\\FinanceReports\\2024\\PMIX Test\n"
     ]
    },
    {
     "name": "stderr",
     "output_type": "stream",
     "text": [
      "Exception ignored in: <function ZipFile.__del__ at 0x000002881B8C85E0>\n",
      "Traceback (most recent call last):\n",
      "  File \"C:\\Users\\jharned\\Anaconda3\\lib\\zipfile.py\", line 1816, in __del__\n",
      "  File \"C:\\Users\\jharned\\Anaconda3\\lib\\zipfile.py\", line 1833, in close\n",
      "ValueError: seek of closed file\n"
     ]
    },
    {
     "ename": "KeyboardInterrupt",
     "evalue": "",
     "output_type": "error",
     "traceback": [
      "\u001b[1;31m---------------------------------------------------------------------------\u001b[0m",
      "\u001b[1;31mKeyboardInterrupt\u001b[0m                         Traceback (most recent call last)",
      "Input \u001b[1;32mIn [14]\u001b[0m, in \u001b[0;36m<cell line: 14>\u001b[1;34m()\u001b[0m\n\u001b[0;32m    123\u001b[0m ws1\u001b[38;5;241m.\u001b[39mhide_gridlines(\u001b[38;5;241m2\u001b[39m)\n\u001b[0;32m    124\u001b[0m ws1\u001b[38;5;241m.\u001b[39mwrite_row(\u001b[38;5;124m'\u001b[39m\u001b[38;5;124mA6\u001b[39m\u001b[38;5;124m'\u001b[39m,item\u001b[38;5;241m.\u001b[39mreset_index()\u001b[38;5;241m.\u001b[39mcolumns,col_header)\n\u001b[1;32m--> 125\u001b[0m \u001b[43mwriter\u001b[49m\u001b[38;5;241;43m.\u001b[39;49m\u001b[43mclose\u001b[49m\u001b[43m(\u001b[49m\u001b[43m)\u001b[49m\n",
      "File \u001b[1;32m~\\Anaconda3\\lib\\site-packages\\pandas\\io\\excel\\_base.py:1375\u001b[0m, in \u001b[0;36mExcelWriter.close\u001b[1;34m(self)\u001b[0m\n\u001b[0;32m   1373\u001b[0m \u001b[38;5;124;03m\"\"\"synonym for save, to make it more file-like\"\"\"\u001b[39;00m\n\u001b[0;32m   1374\u001b[0m \u001b[38;5;28mself\u001b[39m\u001b[38;5;241m.\u001b[39m_save()\n\u001b[1;32m-> 1375\u001b[0m \u001b[38;5;28;43mself\u001b[39;49m\u001b[38;5;241;43m.\u001b[39;49m\u001b[43m_handles\u001b[49m\u001b[38;5;241;43m.\u001b[39;49m\u001b[43mclose\u001b[49m\u001b[43m(\u001b[49m\u001b[43m)\u001b[49m\n",
      "File \u001b[1;32m~\\Anaconda3\\lib\\site-packages\\pandas\\io\\common.py:134\u001b[0m, in \u001b[0;36mIOHandles.close\u001b[1;34m(self)\u001b[0m\n\u001b[0;32m    132\u001b[0m     \u001b[38;5;28mself\u001b[39m\u001b[38;5;241m.\u001b[39mcreated_handles\u001b[38;5;241m.\u001b[39mremove(\u001b[38;5;28mself\u001b[39m\u001b[38;5;241m.\u001b[39mhandle)\n\u001b[0;32m    133\u001b[0m \u001b[38;5;28;01mfor\u001b[39;00m handle \u001b[38;5;129;01min\u001b[39;00m \u001b[38;5;28mself\u001b[39m\u001b[38;5;241m.\u001b[39mcreated_handles:\n\u001b[1;32m--> 134\u001b[0m     \u001b[43mhandle\u001b[49m\u001b[38;5;241;43m.\u001b[39;49m\u001b[43mclose\u001b[49m\u001b[43m(\u001b[49m\u001b[43m)\u001b[49m\n\u001b[0;32m    135\u001b[0m \u001b[38;5;28mself\u001b[39m\u001b[38;5;241m.\u001b[39mcreated_handles \u001b[38;5;241m=\u001b[39m []\n\u001b[0;32m    136\u001b[0m \u001b[38;5;28mself\u001b[39m\u001b[38;5;241m.\u001b[39mis_wrapped \u001b[38;5;241m=\u001b[39m \u001b[38;5;28;01mFalse\u001b[39;00m\n",
      "\u001b[1;31mKeyboardInterrupt\u001b[0m: "
     ]
    }
   ],
   "source": [
    "other_user_onedrive_path = r\"G:\\FinanceReports\\2024\\PMIX Test\"\n",
    "# Change the directory (if you have permissions)\n",
    "try:\n",
    "    os.chdir(other_user_onedrive_path)\n",
    "    print(\"Changed to:\", os.getcwd())\n",
    "except FileNotFoundError:\n",
    "    print(\"The path does not exist.\")\n",
    "except PermissionError:\n",
    "    print(\"You do not have permission to access this directory.\")\n",
    "# Add Logo to New Folder\n",
    "plt.imsave('Logo.png', img)\n",
    "shop_list=data.ParentID.unique()\n",
    "\n",
    "for i, j in zip((enumerate(shop_list)),enumerate(data.StoreName.unique())):\n",
    "    sales_cat=data[data.ParentID==i[1]].pivot_table(index='ProductTypeName',values='SalesMny',aggfunc='sum',fill_value=0)\n",
    "    \n",
    "    sales_cat_perc=data[data.ParentID==i[1]].pivot_table(index='ProductTypeName',values='SalesMny',aggfunc='sum',fill_value=0)\\\n",
    "    .apply(lambda x: x/sum(x))\n",
    "    \n",
    "    vol_cat=data[data.ParentID==i[1]].pivot_table(index='ProductTypeName',values='SalesQty',aggfunc='sum',fill_value=0)\n",
    "    \n",
    "    vol_cat_perc=data[data.ParentID==i[1]].pivot_table(index='ProductTypeName',values='SalesQty',aggfunc='sum',fill_value=0)\\\n",
    "    .apply(lambda x: x/sum(x))\n",
    "    \n",
    "    sales_item=data[data.ParentID==i[1]].pivot_table(index='ProductSizeName',values='SalesMny',aggfunc='sum',fill_value=0)\n",
    "    \n",
    "    sales_item_perc=data[data.ParentID==i[1]].pivot_table(index='ProductSizeName',values='SalesMny',aggfunc='sum',fill_value=0)\\\n",
    "    .apply(lambda x: x/sum(x))\n",
    "    \n",
    "    vol_item=data[data.ParentID==i[1]].pivot_table(index='ProductSizeName',values='SalesQty',aggfunc='sum',fill_value=0)\n",
    "    \n",
    "    vol_item_perc=data[data.ParentID==i[1]].pivot_table(index='ProductSizeName',values='SalesQty',aggfunc='sum',fill_value=0)\\\n",
    "    .apply(lambda x: x/sum(x))\n",
    "    \n",
    "    column_names=['Sales','Volume','Sales%','Volume%']\n",
    "    \n",
    "    category=sales_cat.merge(vol_cat,left_index=True,right_index=True).merge(sales_cat_perc,left_index=True,right_index=True)\\\n",
    "    .merge(vol_cat_perc,left_index=True,right_index=True)\n",
    "    \n",
    "    category.columns=column_names\n",
    "    \n",
    "    item=sales_item.merge(vol_item,left_index=True,right_index=True).merge(sales_item_perc,left_index=True,right_index=True)\\\n",
    "    .merge(vol_item_perc,left_index=True,right_index=True)\n",
    "    \n",
    "    item.columns=column_names\n",
    "    \n",
    "    writer=pd.ExcelWriter('2024 PMIX for Shop '+str(i[1])+' '+str(j[1])+'.xlsx')\n",
    "    category.sort_values(by='Sales',ascending=False).to_excel(writer,sheet_name='Category',startrow=5, startcol=0)\n",
    "    item.sort_values(by='Sales',ascending=False).to_excel(writer,sheet_name='Item',startrow=5, startcol=0)\n",
    "    \n",
    "    wb=writer.book\n",
    "    dollar_format=wb.add_format({'num_format':'$#,##0.00'})\n",
    "    perc_format=wb.add_format({'num_format':'0.0%'})\n",
    "    vol_format=wb.add_format({'num_format':'#,##0'})\n",
    "    header_format=wb.add_format({'bold':True,'italic':True,'align':'center','valign':'vcenter'})\n",
    "    border_format=wb.add_format({'top':1,'bottom':1,'left':1,'right':1})\n",
    "    odd_row_format = wb.add_format({'bg_color': '#FFFFFF'})  # White for odd rows\n",
    "    even_row_format = wb.add_format({'bg_color': '#DCE6F1'})  # Light Blue for even rows\n",
    "    col_header=wb.add_format({'bg_color':'#8DB4E2','bold':True,'align':'center','valign':'vcenter'})\n",
    "    word_format=wb.add_format({'align':'center','valign':'vcenter','text_wrap':True})\n",
    "    \n",
    "    ws=writer.sheets['Category']\n",
    "    ws1=writer.sheets['Item']\n",
    "    \n",
    "    #Creates the Header Text\n",
    "    text1='Ritas Franchise Company,LLC'\n",
    "    text2='2024 Product Mix Report by Category'\n",
    "    text3='2024 Product Mix Report by Item'\n",
    "    text4='Shop '+str(i[1])+' '+str(j[1])+' - All Sales Rolled Up to Parent Shop'\n",
    "    text5='Source Code: ritascoolnet_live-tmp_raw_pdla, vShopDetail'\n",
    "    \n",
    "    ws.write(0,2,text1,header_format)\n",
    "    ws.write(1,2,text2,header_format)\n",
    "    ws.write(2,2,text4,header_format)\n",
    "    ws.write(3,2,text5,header_format)\n",
    "    \n",
    "    ws.set_column('A:A',25,word_format)\n",
    "    ws.set_column('B:B',12,dollar_format)\n",
    "    ws.set_column('C:C',12,vol_format)\n",
    "    ws.set_column('D:E',12,perc_format)\n",
    "    \n",
    "    ws.conditional_format(xlsxwriter.utility.xl_range(5,0,len(category)+5,len(category.columns)),\n",
    "                              {'type': 'no_errors', 'format': border_format})\n",
    "    ws.conditional_format(6, 0, len(category) + 5, len(category.columns), {\n",
    "                'type': 'formula',\n",
    "                'criteria': 'ISEVEN(ROW()-5)',\n",
    "                'format': even_row_format\n",
    "            })\n",
    "    ws.conditional_format(6, 0, len(category) + 5, len(category.columns), {\n",
    "                'type': 'formula',\n",
    "                'criteria': 'ISODD(ROW()-5)',\n",
    "                'format': odd_row_format\n",
    "            })\n",
    "    \n",
    "    ws.insert_image('A1','Logo.png')\n",
    "    ws.hide_gridlines(2)\n",
    "    ws.write_row('A6',category.reset_index().columns,col_header)\n",
    "    \n",
    "    ws1.write(0,2,text1,header_format)\n",
    "    ws1.write(1,2,text3,header_format)\n",
    "    ws1.write(2,2,text4,header_format)\n",
    "    ws1.write(3,2,text5,header_format)\n",
    "    \n",
    "    ws1.set_column('A:A',32,word_format)\n",
    "    ws1.set_column('B:B',12,dollar_format)\n",
    "    ws1.set_column('C:C',12,vol_format)\n",
    "    ws1.set_column('D:E',12,perc_format)\n",
    "    \n",
    "    ws1.conditional_format(xlsxwriter.utility.xl_range(5,0,len(item)+5,len(item.columns)),\n",
    "                              {'type': 'no_errors', 'format': border_format})\n",
    "    ws1.conditional_format(6, 0, len(item) + 5, len(item.columns), {\n",
    "                'type': 'formula',\n",
    "                'criteria': 'ISEVEN(ROW()-5)',\n",
    "                'format': even_row_format\n",
    "            })\n",
    "    ws1.conditional_format(6, 0, len(item) + 5, len(item.columns), {\n",
    "                'type': 'formula',\n",
    "                'criteria': 'ISODD(ROW()-5)',\n",
    "                'format': odd_row_format\n",
    "            })\n",
    "    \n",
    "    ws1.insert_image('A1','Logo.png')\n",
    "    ws1.hide_gridlines(2)\n",
    "    ws1.write_row('A6',item.reset_index().columns,col_header)\n",
    "    writer.close()"
   ]
  },
  {
   "cell_type": "code",
   "execution_count": null,
   "id": "bce3136e",
   "metadata": {},
   "outputs": [],
   "source": []
  }
 ],
 "metadata": {
  "kernelspec": {
   "display_name": "Python 3 (ipykernel)",
   "language": "python",
   "name": "python3"
  },
  "language_info": {
   "codemirror_mode": {
    "name": "ipython",
    "version": 3
   },
   "file_extension": ".py",
   "mimetype": "text/x-python",
   "name": "python",
   "nbconvert_exporter": "python",
   "pygments_lexer": "ipython3",
   "version": "3.9.12"
  }
 },
 "nbformat": 4,
 "nbformat_minor": 5
}
