{
 "cells": [
  {
   "cell_type": "markdown",
   "id": "d74385a9",
   "metadata": {},
   "source": [
    "# Creates the Product Level Report\n",
    "# Creates the Moving Averages for Shops"
   ]
  },
  {
   "cell_type": "code",
   "execution_count": 1,
   "id": "7a8ec311",
   "metadata": {},
   "outputs": [],
   "source": [
    "import pandas as pd\n",
    "import os\n",
    "import pyodbc as odbc\n"
   ]
  },
  {
   "cell_type": "code",
   "execution_count": 2,
   "id": "1073d7e5",
   "metadata": {},
   "outputs": [],
   "source": [
    "# Names the needed driver, server name, and database\n",
    "driver_name='SQL Server'\n",
    "server_name='10.0.1.218'\n",
    "database='ritascoolnet_live'"
   ]
  },
  {
   "cell_type": "code",
   "execution_count": 3,
   "id": "45c39de3",
   "metadata": {},
   "outputs": [],
   "source": [
    "#Creates the connection string\n",
    "connection_string=f\"\"\"\n",
    "DRIVER={{{driver_name}}};\n",
    "SERVER={server_name};\n",
    "DATABASE={database};\n",
    "Trust_Connection=yes\"\"\""
   ]
  },
  {
   "cell_type": "code",
   "execution_count": 4,
   "id": "99152671",
   "metadata": {},
   "outputs": [
    {
     "name": "stdout",
     "output_type": "stream",
     "text": [
      "<pyodbc.Connection object at 0x00000171E24F9E00>\n"
     ]
    }
   ],
   "source": [
    "#Creates the Connection to SQL Server\n",
    "connection=odbc.connect(connection_string)\n",
    "print(connection)"
   ]
  },
  {
   "cell_type": "code",
   "execution_count": 5,
   "id": "b5471d09",
   "metadata": {},
   "outputs": [
    {
     "name": "stderr",
     "output_type": "stream",
     "text": [
      "C:\\Users\\jharned\\AppData\\Local\\Temp\\ipykernel_6208\\1854291108.py:3: UserWarning: pandas only supports SQLAlchemy connectable (engine/connection) or database string URI or sqlite3 DBAPI2 connection. Other DBAPI2 objects are not tested. Please consider using SQLAlchemy.\n",
      "  df=pd.read_sql_query('''SELECT *\n"
     ]
    }
   ],
   "source": [
    "# Queries the tables from SQL\n",
    "# Reads in the Weekly Sales in 2024\n",
    "df=pd.read_sql_query('''SELECT *\n",
    "  FROM [ritas_bi].[dbo].[tmp_raw_plda]\n",
    "  WHERE StartDate >= '2024-12-30' ''',connection)"
   ]
  },
  {
   "cell_type": "code",
   "execution_count": 6,
   "id": "c3f342a2",
   "metadata": {},
   "outputs": [],
   "source": [
    "os.chdir(r'G:\\FinanceReports\\2025\\Wk3')"
   ]
  },
  {
   "cell_type": "code",
   "execution_count": 7,
   "id": "32d87095",
   "metadata": {},
   "outputs": [],
   "source": [
    "#os.chdir(r'G:\\FinanceReports\\2022\\Wk52')"
   ]
  },
  {
   "cell_type": "code",
   "execution_count": 8,
   "id": "e68afd45",
   "metadata": {},
   "outputs": [],
   "source": [
    "# df=pd.read_excel('2023-SRSsales-productLevel-wk26.xlsx', sheet_name='2023')"
   ]
  },
  {
   "cell_type": "code",
   "execution_count": 9,
   "id": "3fd1edf6",
   "metadata": {},
   "outputs": [],
   "source": [
    "#data=pd.read_excel('2022-SRSsales-productLevel-wk1-52 1.18.2023.xlsx',sheet_name='2022')"
   ]
  },
  {
   "cell_type": "code",
   "execution_count": 10,
   "id": "c691a62a",
   "metadata": {},
   "outputs": [],
   "source": [
    "#List of Shops to Exclude from Rolling up to Parent\n",
    "exclude=[10511,11390,20096,20882,21360,31360]\n",
    "data=df[~df.ShopID.isin(exclude)]\n",
    "satellite=df[df.ShopID.isin(exclude)]\n",
    "satellite['StringID']=satellite.ShopID.astype('int')"
   ]
  },
  {
   "cell_type": "code",
   "execution_count": 11,
   "id": "39759f05",
   "metadata": {},
   "outputs": [],
   "source": [
    "#Converts the Store ID to String to be able to manipulate the ID to in order to properly group Stores together\n",
    "data['StringID']=data.ShopID.astype('str')\n",
    "data['StringID']=data.StringID.str[-4:]\n",
    "data['StringID']=data.StringID.astype('int')"
   ]
  },
  {
   "cell_type": "code",
   "execution_count": 12,
   "id": "98c166be",
   "metadata": {},
   "outputs": [],
   "source": [
    "data=pd.concat([data,satellite])"
   ]
  },
  {
   "cell_type": "code",
   "execution_count": 13,
   "id": "7489f4a2",
   "metadata": {},
   "outputs": [],
   "source": [
    "group=data.groupby(['StringID','Week'])['SalesMny'].sum().reset_index()"
   ]
  },
  {
   "cell_type": "code",
   "execution_count": 14,
   "id": "4ff29410",
   "metadata": {},
   "outputs": [],
   "source": [
    "pivot=group.pivot_table(index='Week',columns='StringID',values='SalesMny', fill_value=0)"
   ]
  },
  {
   "cell_type": "code",
   "execution_count": 15,
   "id": "817e8071",
   "metadata": {},
   "outputs": [
    {
     "data": {
      "text/html": [
       "<div>\n",
       "<style scoped>\n",
       "    .dataframe tbody tr th:only-of-type {\n",
       "        vertical-align: middle;\n",
       "    }\n",
       "\n",
       "    .dataframe tbody tr th {\n",
       "        vertical-align: top;\n",
       "    }\n",
       "\n",
       "    .dataframe thead th {\n",
       "        text-align: right;\n",
       "    }\n",
       "</style>\n",
       "<table border=\"1\" class=\"dataframe\">\n",
       "  <thead>\n",
       "    <tr style=\"text-align: right;\">\n",
       "      <th>Week</th>\n",
       "      <th>1</th>\n",
       "      <th>2</th>\n",
       "      <th>3</th>\n",
       "    </tr>\n",
       "    <tr>\n",
       "      <th>StringID</th>\n",
       "      <th></th>\n",
       "      <th></th>\n",
       "      <th></th>\n",
       "    </tr>\n",
       "  </thead>\n",
       "  <tbody>\n",
       "    <tr>\n",
       "      <th>22</th>\n",
       "      <td>10079.0200</td>\n",
       "      <td>5758.2700</td>\n",
       "      <td>6849.0800</td>\n",
       "    </tr>\n",
       "    <tr>\n",
       "      <th>26</th>\n",
       "      <td>5146.6920</td>\n",
       "      <td>0.0000</td>\n",
       "      <td>0.0000</td>\n",
       "    </tr>\n",
       "    <tr>\n",
       "      <th>39</th>\n",
       "      <td>7082.6525</td>\n",
       "      <td>4874.9250</td>\n",
       "      <td>6146.2025</td>\n",
       "    </tr>\n",
       "    <tr>\n",
       "      <th>42</th>\n",
       "      <td>0.0000</td>\n",
       "      <td>0.0000</td>\n",
       "      <td>1.0000</td>\n",
       "    </tr>\n",
       "    <tr>\n",
       "      <th>73</th>\n",
       "      <td>7452.2425</td>\n",
       "      <td>5310.1100</td>\n",
       "      <td>6777.9550</td>\n",
       "    </tr>\n",
       "    <tr>\n",
       "      <th>...</th>\n",
       "      <td>...</td>\n",
       "      <td>...</td>\n",
       "      <td>...</td>\n",
       "    </tr>\n",
       "    <tr>\n",
       "      <th>1537</th>\n",
       "      <td>4408.2270</td>\n",
       "      <td>3230.6377</td>\n",
       "      <td>3694.6092</td>\n",
       "    </tr>\n",
       "    <tr>\n",
       "      <th>1539</th>\n",
       "      <td>3915.8520</td>\n",
       "      <td>2343.4140</td>\n",
       "      <td>2918.3240</td>\n",
       "    </tr>\n",
       "    <tr>\n",
       "      <th>1542</th>\n",
       "      <td>8550.7220</td>\n",
       "      <td>6306.6330</td>\n",
       "      <td>6181.7700</td>\n",
       "    </tr>\n",
       "    <tr>\n",
       "      <th>1545</th>\n",
       "      <td>2208.9596</td>\n",
       "      <td>1394.8218</td>\n",
       "      <td>1749.2308</td>\n",
       "    </tr>\n",
       "    <tr>\n",
       "      <th>1571</th>\n",
       "      <td>6391.4990</td>\n",
       "      <td>4435.1990</td>\n",
       "      <td>4820.1605</td>\n",
       "    </tr>\n",
       "  </tbody>\n",
       "</table>\n",
       "<p>157 rows × 3 columns</p>\n",
       "</div>"
      ],
      "text/plain": [
       "Week               1          2          3\n",
       "StringID                                  \n",
       "22        10079.0200  5758.2700  6849.0800\n",
       "26         5146.6920     0.0000     0.0000\n",
       "39         7082.6525  4874.9250  6146.2025\n",
       "42            0.0000     0.0000     1.0000\n",
       "73         7452.2425  5310.1100  6777.9550\n",
       "...              ...        ...        ...\n",
       "1537       4408.2270  3230.6377  3694.6092\n",
       "1539       3915.8520  2343.4140  2918.3240\n",
       "1542       8550.7220  6306.6330  6181.7700\n",
       "1545       2208.9596  1394.8218  1749.2308\n",
       "1571       6391.4990  4435.1990  4820.1605\n",
       "\n",
       "[157 rows x 3 columns]"
      ]
     },
     "execution_count": 15,
     "metadata": {},
     "output_type": "execute_result"
    }
   ],
   "source": [
    "pivot.transpose()"
   ]
  },
  {
   "cell_type": "code",
   "execution_count": 16,
   "id": "212a9f5b",
   "metadata": {},
   "outputs": [],
   "source": [
    "pivot.rolling(3).apply(lambda x:x[x!=0].mean()).to_excel('2025 3 Week Moving Avg.xlsx')"
   ]
  },
  {
   "cell_type": "code",
   "execution_count": 17,
   "id": "57e2344c",
   "metadata": {},
   "outputs": [],
   "source": [
    "pivot.ewm(span=3).mean().to_excel('2025 3 Week Moving Avg (EMA).xlsx')"
   ]
  },
  {
   "cell_type": "code",
   "execution_count": 18,
   "id": "cb2655b1",
   "metadata": {},
   "outputs": [],
   "source": [
    "df.to_excel('2025-SRSsales-productLevel-wk'+str(df.Week.max())+' .xlsx',sheet_name='2025',index=False)"
   ]
  },
  {
   "cell_type": "code",
   "execution_count": 19,
   "id": "47f849e9",
   "metadata": {},
   "outputs": [
    {
     "data": {
      "text/plain": [
       "1285868.7553"
      ]
     },
     "execution_count": 19,
     "metadata": {},
     "output_type": "execute_result"
    }
   ],
   "source": [
    "df.SalesMny.sum()"
   ]
  },
  {
   "cell_type": "code",
   "execution_count": null,
   "id": "d9752c12",
   "metadata": {},
   "outputs": [],
   "source": []
  }
 ],
 "metadata": {
  "kernelspec": {
   "display_name": "Python 3 (ipykernel)",
   "language": "python",
   "name": "python3"
  },
  "language_info": {
   "codemirror_mode": {
    "name": "ipython",
    "version": 3
   },
   "file_extension": ".py",
   "mimetype": "text/x-python",
   "name": "python",
   "nbconvert_exporter": "python",
   "pygments_lexer": "ipython3",
   "version": "3.9.12"
  }
 },
 "nbformat": 4,
 "nbformat_minor": 5
}
