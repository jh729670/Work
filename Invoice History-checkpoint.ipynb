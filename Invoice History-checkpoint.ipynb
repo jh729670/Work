{
 "cells": [
  {
   "cell_type": "code",
   "execution_count": 1,
   "id": "0a4e451b",
   "metadata": {},
   "outputs": [],
   "source": [
    "import pandas as pd\n",
    "import os\n",
    "import numpy as np\n",
    "import pyodbc as odbc\n",
    "from datetime import date,timedelta\n",
    "os.chdir(r'L:\\J.Harned\\Royalty\\Royalty Regression\\Weekly Orders for Kathy')"
   ]
  },
  {
   "cell_type": "code",
   "execution_count": 2,
   "id": "f4f4afab",
   "metadata": {},
   "outputs": [],
   "source": [
    "# Names the needed driver, server name, and database\n",
    "driver_name='SQL Server'\n",
    "server_name='10.0.1.127'\n",
    "database='MAS_RFC'"
   ]
  },
  {
   "cell_type": "code",
   "execution_count": 3,
   "id": "eacad04b",
   "metadata": {},
   "outputs": [],
   "source": [
    "#Creates the connection string\n",
    "connection_string=f\"\"\"\n",
    "DRIVER={{{driver_name}}};\n",
    "SERVER={server_name};\n",
    "DATABASE={database};\n",
    "Trust_Connection=yes\"\"\""
   ]
  },
  {
   "cell_type": "code",
   "execution_count": 4,
   "id": "ecabf64f",
   "metadata": {},
   "outputs": [
    {
     "name": "stdout",
     "output_type": "stream",
     "text": [
      "<pyodbc.Connection object at 0x000002D4D6302850>\n"
     ]
    }
   ],
   "source": [
    "connection=odbc.connect(connection_string)\n",
    "print(connection)"
   ]
  },
  {
   "cell_type": "code",
   "execution_count": 5,
   "id": "0fdd120c",
   "metadata": {},
   "outputs": [
    {
     "name": "stderr",
     "output_type": "stream",
     "text": [
      "C:\\Users\\jharned\\Anaconda3\\lib\\site-packages\\pandas\\io\\sql.py:761: UserWarning: pandas only support SQLAlchemy connectable(engine/connection) ordatabase string URI or sqlite3 DBAPI2 connectionother DBAPI2 objects are not tested, please consider using SQLAlchemy\n",
      "  warnings.warn(\n"
     ]
    }
   ],
   "source": [
    "invoice_history=pd.read_sql_query(\"\"\"SELECT * from MAS_RFC.dbo.AR_InvoiceHistoryHeader\n",
    "Where Year(ShipDate)>=2018\"\"\",connection)"
   ]
  },
  {
   "cell_type": "code",
   "execution_count": 6,
   "id": "4b77f6c4",
   "metadata": {},
   "outputs": [
    {
     "name": "stderr",
     "output_type": "stream",
     "text": [
      "C:\\Users\\jharned\\Anaconda3\\lib\\site-packages\\pandas\\io\\sql.py:761: UserWarning: pandas only support SQLAlchemy connectable(engine/connection) ordatabase string URI or sqlite3 DBAPI2 connectionother DBAPI2 objects are not tested, please consider using SQLAlchemy\n",
      "  warnings.warn(\n"
     ]
    }
   ],
   "source": [
    "customer=pd.read_sql_query('''select * from MAS_RFC.dbo.AR_Customer''',connection)"
   ]
  },
  {
   "cell_type": "code",
   "execution_count": 7,
   "id": "06743b85",
   "metadata": {},
   "outputs": [
    {
     "name": "stderr",
     "output_type": "stream",
     "text": [
      "C:\\Users\\jharned\\Anaconda3\\lib\\site-packages\\pandas\\io\\sql.py:761: UserWarning: pandas only support SQLAlchemy connectable(engine/connection) ordatabase string URI or sqlite3 DBAPI2 connectionother DBAPI2 objects are not tested, please consider using SQLAlchemy\n",
      "  warnings.warn(\n"
     ]
    }
   ],
   "source": [
    "invoice_detail=pd.read_sql_query('''select InvoiceNo,ItemCode,ItemCodeDesc,ItemType,UnitPrice,QuantityShipped, UDF_ROYALTY_AMT,UDF_STD_UNIT_PRICE,ProductLine from MAS_RFC.dbo.AR_InvoiceHistoryDetail''',connection)"
   ]
  },
  {
   "cell_type": "code",
   "execution_count": 8,
   "id": "1a22da67",
   "metadata": {},
   "outputs": [
    {
     "name": "stderr",
     "output_type": "stream",
     "text": [
      "C:\\Users\\jharned\\Anaconda3\\lib\\site-packages\\pandas\\io\\sql.py:761: UserWarning: pandas only support SQLAlchemy connectable(engine/connection) ordatabase string URI or sqlite3 DBAPI2 connectionother DBAPI2 objects are not tested, please consider using SQLAlchemy\n",
      "  warnings.warn(\n"
     ]
    }
   ],
   "source": [
    "product_line=pd.read_sql_query('''select * from MAS_RFC.dbo.IM_ProductLine''',connection)"
   ]
  },
  {
   "cell_type": "code",
   "execution_count": 9,
   "id": "16485e1c",
   "metadata": {},
   "outputs": [
    {
     "data": {
      "text/html": [
       "<div>\n",
       "<style scoped>\n",
       "    .dataframe tbody tr th:only-of-type {\n",
       "        vertical-align: middle;\n",
       "    }\n",
       "\n",
       "    .dataframe tbody tr th {\n",
       "        vertical-align: top;\n",
       "    }\n",
       "\n",
       "    .dataframe thead th {\n",
       "        text-align: right;\n",
       "    }\n",
       "</style>\n",
       "<table border=\"1\" class=\"dataframe\">\n",
       "  <thead>\n",
       "    <tr style=\"text-align: right;\">\n",
       "      <th></th>\n",
       "      <th>InvoiceNo</th>\n",
       "      <th>ItemCode</th>\n",
       "      <th>ItemCodeDesc</th>\n",
       "      <th>ItemType</th>\n",
       "      <th>UnitPrice</th>\n",
       "      <th>QuantityShipped</th>\n",
       "      <th>UDF_ROYALTY_AMT</th>\n",
       "      <th>UDF_STD_UNIT_PRICE</th>\n",
       "      <th>ProductLine</th>\n",
       "    </tr>\n",
       "  </thead>\n",
       "  <tbody>\n",
       "    <tr>\n",
       "      <th>0</th>\n",
       "      <td>0000148</td>\n",
       "      <td>1101</td>\n",
       "      <td>VANILLA CUSTARD MIX</td>\n",
       "      <td>1</td>\n",
       "      <td>28.65</td>\n",
       "      <td>20.0</td>\n",
       "      <td>0.0</td>\n",
       "      <td>0.0</td>\n",
       "      <td>RO05</td>\n",
       "    </tr>\n",
       "    <tr>\n",
       "      <th>1</th>\n",
       "      <td>0000148</td>\n",
       "      <td>1102</td>\n",
       "      <td>CHOCOLATE CUSTARD MIX</td>\n",
       "      <td>1</td>\n",
       "      <td>28.80</td>\n",
       "      <td>5.0</td>\n",
       "      <td>0.0</td>\n",
       "      <td>0.0</td>\n",
       "      <td>RO05</td>\n",
       "    </tr>\n",
       "    <tr>\n",
       "      <th>2</th>\n",
       "      <td>0000149</td>\n",
       "      <td>1101</td>\n",
       "      <td>VANILLA CUSTARD MIX</td>\n",
       "      <td>1</td>\n",
       "      <td>28.08</td>\n",
       "      <td>15.0</td>\n",
       "      <td>0.0</td>\n",
       "      <td>0.0</td>\n",
       "      <td>RO05</td>\n",
       "    </tr>\n",
       "    <tr>\n",
       "      <th>3</th>\n",
       "      <td>0000149</td>\n",
       "      <td>1102</td>\n",
       "      <td>CHOCOLATE CUSTARD MIX</td>\n",
       "      <td>1</td>\n",
       "      <td>28.23</td>\n",
       "      <td>8.0</td>\n",
       "      <td>0.0</td>\n",
       "      <td>0.0</td>\n",
       "      <td>RO05</td>\n",
       "    </tr>\n",
       "    <tr>\n",
       "      <th>4</th>\n",
       "      <td>0000149</td>\n",
       "      <td>0107</td>\n",
       "      <td>BLUEBERRY MIX</td>\n",
       "      <td>1</td>\n",
       "      <td>82.70</td>\n",
       "      <td>3.0</td>\n",
       "      <td>0.0</td>\n",
       "      <td>0.0</td>\n",
       "      <td>RO01</td>\n",
       "    </tr>\n",
       "  </tbody>\n",
       "</table>\n",
       "</div>"
      ],
      "text/plain": [
       "  InvoiceNo ItemCode           ItemCodeDesc ItemType  UnitPrice  \\\n",
       "0   0000148     1101    VANILLA CUSTARD MIX        1      28.65   \n",
       "1   0000148     1102  CHOCOLATE CUSTARD MIX        1      28.80   \n",
       "2   0000149     1101    VANILLA CUSTARD MIX        1      28.08   \n",
       "3   0000149     1102  CHOCOLATE CUSTARD MIX        1      28.23   \n",
       "4   0000149     0107          BLUEBERRY MIX        1      82.70   \n",
       "\n",
       "   QuantityShipped  UDF_ROYALTY_AMT  UDF_STD_UNIT_PRICE ProductLine  \n",
       "0             20.0              0.0                 0.0        RO05  \n",
       "1              5.0              0.0                 0.0        RO05  \n",
       "2             15.0              0.0                 0.0        RO05  \n",
       "3              8.0              0.0                 0.0        RO05  \n",
       "4              3.0              0.0                 0.0        RO01  "
      ]
     },
     "execution_count": 9,
     "metadata": {},
     "output_type": "execute_result"
    }
   ],
   "source": [
    "invoice_detail.head()"
   ]
  },
  {
   "cell_type": "code",
   "execution_count": 10,
   "id": "173f2b28",
   "metadata": {},
   "outputs": [],
   "source": [
    "inv_hist=invoice_history[['CustomerNo','InvoiceNo','InvoiceType','ShipDate','InvoiceDate','BillToState']]"
   ]
  },
  {
   "cell_type": "code",
   "execution_count": 11,
   "id": "d51af2d0",
   "metadata": {},
   "outputs": [
    {
     "data": {
      "text/plain": [
       "(283295, 6)"
      ]
     },
     "execution_count": 11,
     "metadata": {},
     "output_type": "execute_result"
    }
   ],
   "source": [
    "inv_hist.shape"
   ]
  },
  {
   "cell_type": "code",
   "execution_count": 12,
   "id": "264b697f",
   "metadata": {},
   "outputs": [],
   "source": [
    "inv_merged=inv_hist.merge(invoice_detail,on='InvoiceNo',how='left')"
   ]
  },
  {
   "cell_type": "code",
   "execution_count": 13,
   "id": "390c6673",
   "metadata": {},
   "outputs": [],
   "source": [
    "inv_merge=inv_hist.merge(invoice_detail,on='InvoiceNo',how='inner').drop_duplicates(keep='first')"
   ]
  },
  {
   "cell_type": "code",
   "execution_count": 14,
   "id": "2ee1c6b4",
   "metadata": {},
   "outputs": [
    {
     "data": {
      "text/html": [
       "<div>\n",
       "<style scoped>\n",
       "    .dataframe tbody tr th:only-of-type {\n",
       "        vertical-align: middle;\n",
       "    }\n",
       "\n",
       "    .dataframe tbody tr th {\n",
       "        vertical-align: top;\n",
       "    }\n",
       "\n",
       "    .dataframe thead th {\n",
       "        text-align: right;\n",
       "    }\n",
       "</style>\n",
       "<table border=\"1\" class=\"dataframe\">\n",
       "  <thead>\n",
       "    <tr style=\"text-align: right;\">\n",
       "      <th></th>\n",
       "      <th>CustomerNo</th>\n",
       "      <th>InvoiceNo</th>\n",
       "      <th>InvoiceType</th>\n",
       "      <th>ShipDate</th>\n",
       "      <th>InvoiceDate</th>\n",
       "      <th>BillToState</th>\n",
       "      <th>ItemCode</th>\n",
       "      <th>ItemCodeDesc</th>\n",
       "      <th>ItemType</th>\n",
       "      <th>UnitPrice</th>\n",
       "      <th>QuantityShipped</th>\n",
       "      <th>UDF_ROYALTY_AMT</th>\n",
       "      <th>UDF_STD_UNIT_PRICE</th>\n",
       "      <th>ProductLine</th>\n",
       "    </tr>\n",
       "  </thead>\n",
       "  <tbody>\n",
       "    <tr>\n",
       "      <th>1438246</th>\n",
       "      <td>0001450</td>\n",
       "      <td>1325949</td>\n",
       "      <td>IN</td>\n",
       "      <td>2022-01-03</td>\n",
       "      <td>2022-01-04</td>\n",
       "      <td>PA</td>\n",
       "      <td>2720</td>\n",
       "      <td>HERSHEY HOT FUDGE (4/48oz)</td>\n",
       "      <td>1</td>\n",
       "      <td>30.25</td>\n",
       "      <td>2.0</td>\n",
       "      <td>0.00</td>\n",
       "      <td>30.25</td>\n",
       "      <td>NR01</td>\n",
       "    </tr>\n",
       "    <tr>\n",
       "      <th>1438247</th>\n",
       "      <td>0001450</td>\n",
       "      <td>1325949</td>\n",
       "      <td>IN</td>\n",
       "      <td>2022-01-03</td>\n",
       "      <td>2022-01-04</td>\n",
       "      <td>PA</td>\n",
       "      <td>5103</td>\n",
       "      <td>VANILLA CUSTARD (2/2.5GAL BAG)</td>\n",
       "      <td>1</td>\n",
       "      <td>101.29</td>\n",
       "      <td>8.0</td>\n",
       "      <td>26.62</td>\n",
       "      <td>62.38</td>\n",
       "      <td>RO05</td>\n",
       "    </tr>\n",
       "    <tr>\n",
       "      <th>1438248</th>\n",
       "      <td>0001450</td>\n",
       "      <td>1325949</td>\n",
       "      <td>IN</td>\n",
       "      <td>2022-01-03</td>\n",
       "      <td>2022-01-04</td>\n",
       "      <td>PA</td>\n",
       "      <td>5104</td>\n",
       "      <td>CHOCO CUSTARD (2/2.5GAL BAG)</td>\n",
       "      <td>1</td>\n",
       "      <td>100.99</td>\n",
       "      <td>2.0</td>\n",
       "      <td>26.62</td>\n",
       "      <td>62.08</td>\n",
       "      <td>RO05</td>\n",
       "    </tr>\n",
       "    <tr>\n",
       "      <th>1438249</th>\n",
       "      <td>0000467</td>\n",
       "      <td>1325958</td>\n",
       "      <td>IN</td>\n",
       "      <td>2022-01-01</td>\n",
       "      <td>2022-01-05</td>\n",
       "      <td>NJ</td>\n",
       "      <td>1976</td>\n",
       "      <td>YESPAC SMALL PAPER LID  (10/10</td>\n",
       "      <td>1</td>\n",
       "      <td>26.33</td>\n",
       "      <td>1.0</td>\n",
       "      <td>0.00</td>\n",
       "      <td>26.33</td>\n",
       "      <td>NR03</td>\n",
       "    </tr>\n",
       "    <tr>\n",
       "      <th>1438250</th>\n",
       "      <td>0000905</td>\n",
       "      <td>1325959</td>\n",
       "      <td>IN</td>\n",
       "      <td>2022-01-01</td>\n",
       "      <td>2022-01-05</td>\n",
       "      <td>CA</td>\n",
       "      <td>1976</td>\n",
       "      <td>YESPAC SMALL PAPER LID  (10/10</td>\n",
       "      <td>1</td>\n",
       "      <td>26.33</td>\n",
       "      <td>1.0</td>\n",
       "      <td>0.00</td>\n",
       "      <td>26.33</td>\n",
       "      <td>NR03</td>\n",
       "    </tr>\n",
       "    <tr>\n",
       "      <th>...</th>\n",
       "      <td>...</td>\n",
       "      <td>...</td>\n",
       "      <td>...</td>\n",
       "      <td>...</td>\n",
       "      <td>...</td>\n",
       "      <td>...</td>\n",
       "      <td>...</td>\n",
       "      <td>...</td>\n",
       "      <td>...</td>\n",
       "      <td>...</td>\n",
       "      <td>...</td>\n",
       "      <td>...</td>\n",
       "      <td>...</td>\n",
       "      <td>...</td>\n",
       "    </tr>\n",
       "    <tr>\n",
       "      <th>1830694</th>\n",
       "      <td>0001422</td>\n",
       "      <td>1377895</td>\n",
       "      <td>CM</td>\n",
       "      <td>2022-12-31</td>\n",
       "      <td>2023-01-04</td>\n",
       "      <td>FL</td>\n",
       "      <td>/WINTER</td>\n",
       "      <td>WINTER WASTE ROYALTY REIMB</td>\n",
       "      <td>5</td>\n",
       "      <td>13.57</td>\n",
       "      <td>-1.0</td>\n",
       "      <td>0.00</td>\n",
       "      <td>0.00</td>\n",
       "      <td></td>\n",
       "    </tr>\n",
       "    <tr>\n",
       "      <th>1830695</th>\n",
       "      <td>0001422</td>\n",
       "      <td>1377895</td>\n",
       "      <td>CM</td>\n",
       "      <td>2022-12-31</td>\n",
       "      <td>2023-01-04</td>\n",
       "      <td>FL</td>\n",
       "      <td>/WINTER</td>\n",
       "      <td>WINTER WASTE ROYALTY REIMB</td>\n",
       "      <td>5</td>\n",
       "      <td>15.64</td>\n",
       "      <td>-1.0</td>\n",
       "      <td>0.00</td>\n",
       "      <td>0.00</td>\n",
       "      <td></td>\n",
       "    </tr>\n",
       "    <tr>\n",
       "      <th>1830696</th>\n",
       "      <td>0001422</td>\n",
       "      <td>1377895</td>\n",
       "      <td>CM</td>\n",
       "      <td>2022-12-31</td>\n",
       "      <td>2023-01-04</td>\n",
       "      <td>FL</td>\n",
       "      <td>/WINTER</td>\n",
       "      <td>WINTER WASTE ROYALTY REIMB</td>\n",
       "      <td>5</td>\n",
       "      <td>9.04</td>\n",
       "      <td>-1.0</td>\n",
       "      <td>0.00</td>\n",
       "      <td>0.00</td>\n",
       "      <td></td>\n",
       "    </tr>\n",
       "    <tr>\n",
       "      <th>1830697</th>\n",
       "      <td>0001422</td>\n",
       "      <td>1377895</td>\n",
       "      <td>CM</td>\n",
       "      <td>2022-12-31</td>\n",
       "      <td>2023-01-04</td>\n",
       "      <td>FL</td>\n",
       "      <td>/WINTER</td>\n",
       "      <td>WINTER WASTE ROYALTY REIMB</td>\n",
       "      <td>5</td>\n",
       "      <td>9.08</td>\n",
       "      <td>-1.0</td>\n",
       "      <td>0.00</td>\n",
       "      <td>0.00</td>\n",
       "      <td></td>\n",
       "    </tr>\n",
       "    <tr>\n",
       "      <th>1830702</th>\n",
       "      <td>0001520</td>\n",
       "      <td>1377898</td>\n",
       "      <td>IN</td>\n",
       "      <td>2022-12-30</td>\n",
       "      <td>2022-12-30</td>\n",
       "      <td>MD</td>\n",
       "      <td>/TRFEE</td>\n",
       "      <td>TRANSFER FEE</td>\n",
       "      <td>5</td>\n",
       "      <td>17500.00</td>\n",
       "      <td>1.0</td>\n",
       "      <td>0.00</td>\n",
       "      <td>0.00</td>\n",
       "      <td></td>\n",
       "    </tr>\n",
       "  </tbody>\n",
       "</table>\n",
       "<p>387546 rows × 14 columns</p>\n",
       "</div>"
      ],
      "text/plain": [
       "        CustomerNo InvoiceNo InvoiceType   ShipDate InvoiceDate BillToState  \\\n",
       "1438246    0001450   1325949          IN 2022-01-03  2022-01-04          PA   \n",
       "1438247    0001450   1325949          IN 2022-01-03  2022-01-04          PA   \n",
       "1438248    0001450   1325949          IN 2022-01-03  2022-01-04          PA   \n",
       "1438249    0000467   1325958          IN 2022-01-01  2022-01-05          NJ   \n",
       "1438250    0000905   1325959          IN 2022-01-01  2022-01-05          CA   \n",
       "...            ...       ...         ...        ...         ...         ...   \n",
       "1830694    0001422   1377895          CM 2022-12-31  2023-01-04          FL   \n",
       "1830695    0001422   1377895          CM 2022-12-31  2023-01-04          FL   \n",
       "1830696    0001422   1377895          CM 2022-12-31  2023-01-04          FL   \n",
       "1830697    0001422   1377895          CM 2022-12-31  2023-01-04          FL   \n",
       "1830702    0001520   1377898          IN 2022-12-30  2022-12-30          MD   \n",
       "\n",
       "        ItemCode                    ItemCodeDesc ItemType  UnitPrice  \\\n",
       "1438246     2720      HERSHEY HOT FUDGE (4/48oz)        1      30.25   \n",
       "1438247     5103  VANILLA CUSTARD (2/2.5GAL BAG)        1     101.29   \n",
       "1438248     5104    CHOCO CUSTARD (2/2.5GAL BAG)        1     100.99   \n",
       "1438249     1976  YESPAC SMALL PAPER LID  (10/10        1      26.33   \n",
       "1438250     1976  YESPAC SMALL PAPER LID  (10/10        1      26.33   \n",
       "...          ...                             ...      ...        ...   \n",
       "1830694  /WINTER      WINTER WASTE ROYALTY REIMB        5      13.57   \n",
       "1830695  /WINTER      WINTER WASTE ROYALTY REIMB        5      15.64   \n",
       "1830696  /WINTER      WINTER WASTE ROYALTY REIMB        5       9.04   \n",
       "1830697  /WINTER      WINTER WASTE ROYALTY REIMB        5       9.08   \n",
       "1830702   /TRFEE                    TRANSFER FEE        5   17500.00   \n",
       "\n",
       "         QuantityShipped  UDF_ROYALTY_AMT  UDF_STD_UNIT_PRICE ProductLine  \n",
       "1438246              2.0             0.00               30.25        NR01  \n",
       "1438247              8.0            26.62               62.38        RO05  \n",
       "1438248              2.0            26.62               62.08        RO05  \n",
       "1438249              1.0             0.00               26.33        NR03  \n",
       "1438250              1.0             0.00               26.33        NR03  \n",
       "...                  ...              ...                 ...         ...  \n",
       "1830694             -1.0             0.00                0.00              \n",
       "1830695             -1.0             0.00                0.00              \n",
       "1830696             -1.0             0.00                0.00              \n",
       "1830697             -1.0             0.00                0.00              \n",
       "1830702              1.0             0.00                0.00              \n",
       "\n",
       "[387546 rows x 14 columns]"
      ]
     },
     "execution_count": 14,
     "metadata": {},
     "output_type": "execute_result"
    }
   ],
   "source": [
    "inv_merge[inv_merge.ShipDate.dt.year==2022]"
   ]
  },
  {
   "cell_type": "code",
   "execution_count": 15,
   "id": "8e2b328e",
   "metadata": {},
   "outputs": [],
   "source": [
    "inv_merge['Ext Base Cost']=inv_merge.QuantityShipped*inv_merge.UDF_STD_UNIT_PRICE\n",
    "inv_merge['Ext Royalty']=inv_merge.QuantityShipped*inv_merge.UDF_ROYALTY_AMT"
   ]
  },
  {
   "cell_type": "code",
   "execution_count": 16,
   "id": "276a461d",
   "metadata": {},
   "outputs": [
    {
     "data": {
      "text/plain": [
       "(2210998, 16)"
      ]
     },
     "execution_count": 16,
     "metadata": {},
     "output_type": "execute_result"
    }
   ],
   "source": [
    "inv_merge.shape"
   ]
  },
  {
   "cell_type": "code",
   "execution_count": 17,
   "id": "cce1e4de",
   "metadata": {},
   "outputs": [],
   "source": [
    "cust=customer[['CustomerNo','CustomerName','City','ARDivisionNo','UDF_ROYALTY_METHOD','UDF_DISTRIBUTOR']]"
   ]
  },
  {
   "cell_type": "code",
   "execution_count": 18,
   "id": "2591b008",
   "metadata": {},
   "outputs": [],
   "source": [
    "all_merge=inv_merge.merge(cust,on='CustomerNo',how='inner').drop_duplicates(keep='first')"
   ]
  },
  {
   "cell_type": "code",
   "execution_count": 19,
   "id": "ae24f96a",
   "metadata": {},
   "outputs": [
    {
     "data": {
      "text/plain": [
       "(2355318, 21)"
      ]
     },
     "execution_count": 19,
     "metadata": {},
     "output_type": "execute_result"
    }
   ],
   "source": [
    "all_merge.shape"
   ]
  },
  {
   "cell_type": "code",
   "execution_count": 20,
   "id": "4024e781",
   "metadata": {},
   "outputs": [],
   "source": [
    "filtered=all_merge[(all_merge.ItemType=='1')&(all_merge.ARDivisionNo=='01')]"
   ]
  },
  {
   "cell_type": "code",
   "execution_count": 47,
   "id": "60f1c2ad",
   "metadata": {},
   "outputs": [],
   "source": [
    "total_df=filtered.merge(product_line[['ProductLine','ProductLineDesc']],on='ProductLine').drop_duplicates(keep='first')"
   ]
  },
  {
   "cell_type": "code",
   "execution_count": 48,
   "id": "d1b150f8",
   "metadata": {},
   "outputs": [
    {
     "data": {
      "text/plain": [
       "array(['SALES ROYALTY', 'REPORTED ROYALTY', 'MIXES',\n",
       "       'OTHER INGRED - AMBIENT', 'PAPER PRODUCTS', 'SUGAR',\n",
       "       'BOTTLED WATER', 'CUSTARD', 'OTHER INGRED - REFRIG', 'WAFFLE CONE',\n",
       "       'MIXES - SUGARFREE', 'SMALL WARES', 'CLEANING/JANITOR SUPPLIES',\n",
       "       'TABLET & SCANNERS', 'FUEL SURCHARGE', 'SPECIAL VENUE ROYALTY',\n",
       "       'CA REDEMPTION FEE', 'NATURAL MIXES', 'UNIFORMS',\n",
       "       'PRODUCT CREDITS', 'PRETZELS', 'INVENTORY CONVERSION CDTS',\n",
       "       'CATERING BAGS', 'MISC ROYALTY/AD FUND', 'CUSTARD - KOSHER',\n",
       "       'MUSTARD - IN INVENTORY', 'CUSTARD CONE/CUP SETS',\n",
       "       'INTERNATIONAL ROYALTY', 'BUNZL - PHILIPPINES',\n",
       "       'CUMBERLAND - PHILIPPINES', 'EQUIPMENT - IN INVENTORY',\n",
       "       'BUNZL - CANADA', 'PUMP & RACK - INVENTORY',\n",
       "       'ITEMS NOT ON ORDER GUIDE'], dtype=object)"
      ]
     },
     "execution_count": 48,
     "metadata": {},
     "output_type": "execute_result"
    }
   ],
   "source": [
    "total_df.ProductLineDesc.unique()"
   ]
  },
  {
   "cell_type": "code",
   "execution_count": 49,
   "id": "382ec55f",
   "metadata": {},
   "outputs": [],
   "source": [
    "total_df=total_df[(total_df.ProductLineDesc=='MIXES')|(total_df.ProductLineDesc=='CUSTARD')\n",
    "         |(total_df.ProductLineDesc=='MIXES - SUGARFREE')|(total_df.ProductLineDesc=='CUSTARD - KOSHER')|\n",
    "         ((total_df.ProductLineDesc=='BOTTLED WATER'))]"
   ]
  },
  {
   "cell_type": "code",
   "execution_count": 50,
   "id": "dd83019d",
   "metadata": {},
   "outputs": [
    {
     "data": {
      "text/plain": [
       "Index(['CustomerNo', 'InvoiceNo', 'InvoiceType', 'ShipDate', 'InvoiceDate',\n",
       "       'BillToState', 'ItemCode', 'ItemCodeDesc', 'ItemType', 'UnitPrice',\n",
       "       'QuantityShipped', 'UDF_ROYALTY_AMT', 'UDF_STD_UNIT_PRICE',\n",
       "       'ProductLine', 'Ext Base Cost', 'Ext Royalty', 'CustomerName', 'City',\n",
       "       'ARDivisionNo', 'UDF_ROYALTY_METHOD', 'UDF_DISTRIBUTOR',\n",
       "       'ProductLineDesc'],\n",
       "      dtype='object')"
      ]
     },
     "execution_count": 50,
     "metadata": {},
     "output_type": "execute_result"
    }
   ],
   "source": [
    "total_df.columns"
   ]
  },
  {
   "cell_type": "code",
   "execution_count": 51,
   "id": "bddfd439",
   "metadata": {},
   "outputs": [],
   "source": [
    "total_df['Year']=total_df.ShipDate.dt.year"
   ]
  },
  {
   "cell_type": "code",
   "execution_count": 52,
   "id": "5234148a",
   "metadata": {},
   "outputs": [
    {
     "data": {
      "text/plain": [
       "Index(['CustomerNo', 'InvoiceNo', 'InvoiceType', 'ShipDate', 'InvoiceDate',\n",
       "       'BillToState', 'ItemCode', 'ItemCodeDesc', 'ItemType', 'UnitPrice',\n",
       "       'QuantityShipped', 'UDF_ROYALTY_AMT', 'UDF_STD_UNIT_PRICE',\n",
       "       'ProductLine', 'Ext Base Cost', 'Ext Royalty', 'CustomerName', 'City',\n",
       "       'ARDivisionNo', 'UDF_ROYALTY_METHOD', 'UDF_DISTRIBUTOR',\n",
       "       'ProductLineDesc', 'Year'],\n",
       "      dtype='object')"
      ]
     },
     "execution_count": 52,
     "metadata": {},
     "output_type": "execute_result"
    }
   ],
   "source": [
    "total_df.columns"
   ]
  },
  {
   "cell_type": "code",
   "execution_count": 72,
   "id": "3ca2f16b",
   "metadata": {},
   "outputs": [],
   "source": [
    "total_df['ARS']=total_df['Ext Royalty']/.065"
   ]
  },
  {
   "cell_type": "code",
   "execution_count": 73,
   "id": "8634b606",
   "metadata": {},
   "outputs": [],
   "source": [
    "total_df_piv=round(total_df.pivot_table(index=['CustomerNo','CustomerName'],columns='Year',values=['Ext Royalty','ARS'],\n",
    "                    aggfunc=sum),2).reset_index()"
   ]
  },
  {
   "cell_type": "code",
   "execution_count": 74,
   "id": "a121fb75",
   "metadata": {},
   "outputs": [],
   "source": [
    "total_df_piv=total_df_piv.iloc[:-2,]"
   ]
  },
  {
   "cell_type": "code",
   "execution_count": 75,
   "id": "8699def6",
   "metadata": {},
   "outputs": [],
   "source": [
    "total_df_piv['ParentID']=total_df_piv.CustomerNo.astype('str')\n",
    "total_df_piv['ParentID']=total_df_piv.ParentID.str[-4:]\n",
    "total_df_piv['ParentID']=total_df_piv.ParentID.astype('int')"
   ]
  },
  {
   "cell_type": "code",
   "execution_count": 29,
   "id": "b4daefdb",
   "metadata": {},
   "outputs": [],
   "source": [
    "os.chdir(r'G:\\FinanceReports')"
   ]
  },
  {
   "cell_type": "code",
   "execution_count": 30,
   "id": "cf0e8600",
   "metadata": {},
   "outputs": [],
   "source": [
    "data_1=pd.read_excel('2018-SRSsales-productLevel-2.xlsx', sheet_name='2018')\n",
    "data_2=pd.read_excel('2019-SRSsales-productLevel-2.xlsx', sheet_name='2019')"
   ]
  },
  {
   "cell_type": "code",
   "execution_count": 31,
   "id": "1dc7283d",
   "metadata": {},
   "outputs": [],
   "source": [
    "os.chdir(r'G:\\FinanceReports\\YTD Files')"
   ]
  },
  {
   "cell_type": "code",
   "execution_count": 32,
   "id": "29126f72",
   "metadata": {},
   "outputs": [],
   "source": [
    "data_3=pd.read_excel('2020-SRSsales-productLevel-wk1-53.xlsx', sheet_name='2020')"
   ]
  },
  {
   "cell_type": "code",
   "execution_count": 33,
   "id": "1c9e3a2f",
   "metadata": {},
   "outputs": [
    {
     "name": "stdout",
     "output_type": "stream",
     "text": [
      "<pyodbc.Connection object at 0x000002D4F27E35E0>\n"
     ]
    }
   ],
   "source": [
    "# Names the needed driver, server name, and database\n",
    "driver_name='SQL Server'\n",
    "server_name='10.0.1.218'\n",
    "database='ritascoolnet_live'\n",
    "\n",
    "#Creates the connection string\n",
    "connection_string=f\"\"\"\n",
    "DRIVER={{{driver_name}}};\n",
    "SERVER={server_name};\n",
    "DATABASE={database};\n",
    "Trust_Connection=yes\"\"\"\n",
    "\n",
    "#Creates the Connection to SQL Server\n",
    "connection=odbc.connect(connection_string)\n",
    "print(connection)"
   ]
  },
  {
   "cell_type": "code",
   "execution_count": 34,
   "id": "caeb2bd9",
   "metadata": {},
   "outputs": [
    {
     "name": "stderr",
     "output_type": "stream",
     "text": [
      "C:\\Users\\jharned\\Anaconda3\\lib\\site-packages\\pandas\\io\\sql.py:761: UserWarning: pandas only support SQLAlchemy connectable(engine/connection) ordatabase string URI or sqlite3 DBAPI2 connectionother DBAPI2 objects are not tested, please consider using SQLAlchemy\n",
      "  warnings.warn(\n",
      "C:\\Users\\jharned\\Anaconda3\\lib\\site-packages\\pandas\\io\\sql.py:761: UserWarning: pandas only support SQLAlchemy connectable(engine/connection) ordatabase string URI or sqlite3 DBAPI2 connectionother DBAPI2 objects are not tested, please consider using SQLAlchemy\n",
      "  warnings.warn(\n",
      "C:\\Users\\jharned\\Anaconda3\\lib\\site-packages\\pandas\\io\\sql.py:761: UserWarning: pandas only support SQLAlchemy connectable(engine/connection) ordatabase string URI or sqlite3 DBAPI2 connectionother DBAPI2 objects are not tested, please consider using SQLAlchemy\n",
      "  warnings.warn(\n"
     ]
    }
   ],
   "source": [
    "data=pd.read_sql_query('''SELECT *\n",
    "  FROM [ritas_bi].[dbo].[tmp_raw_plda]\n",
    "  WHERE YEAR(StartDate)=2023\n",
    "  ORDER BY Week DESC''',connection)\n",
    "data1=pd.read_sql_query('''SELECT *\n",
    "  FROM [ritas_bi].[dbo].[tmp_raw_plda]\n",
    "  WHERE YEAR(StartDate)=2022\n",
    "  ORDER BY Week DESC''',connection)\n",
    "data2=pd.read_sql_query('''SELECT *\n",
    "  FROM [ritas_bi].[dbo].[tmp_raw_pldb]\n",
    "  WHERE YEAR(StartDate)=2021''',connection)"
   ]
  },
  {
   "cell_type": "code",
   "execution_count": 35,
   "id": "14b07034",
   "metadata": {},
   "outputs": [],
   "source": [
    "data_1['Year']='2018'\n",
    "data_2['Year']='2019'\n",
    "data_3['Year']='2020'\n",
    "data2['Year']='2021'\n",
    "data1['Year']='2022'\n",
    "data['Year']='2023'"
   ]
  },
  {
   "cell_type": "code",
   "execution_count": 37,
   "id": "25872a62",
   "metadata": {},
   "outputs": [],
   "source": [
    "combined_sales=pd.concat([data_1,data_2,data_3,data2,data1,data])"
   ]
  },
  {
   "cell_type": "code",
   "execution_count": 38,
   "id": "f19b8321",
   "metadata": {},
   "outputs": [],
   "source": [
    "royalty=combined_sales[(combined_sales.ProductTypeName=='Italian Ice')|(combined_sales.ProductTypeName=='Gelati')|(combined_sales.ProductTypeName=='Misto')|(combined_sales.ProductTypeName=='Custard')|(combined_sales.ProductTypeName=='Milkshakes')|(combined_sales.ProductTypeName=='Frozen Beverages')|(combined_sales.ProductTypeName=='Hand Scooped Custard')|\n",
    "(combined_sales.ProductTypeName=='Concrete')|(combined_sales.ProductTypeName=='Blendini')|(combined_sales.ProductSizeName.str.contains('water'))|(\n",
    "combined_sales.ProductSizeName.str.contains('Custard Pints'))]"
   ]
  },
  {
   "cell_type": "code",
   "execution_count": 39,
   "id": "4f714a8b",
   "metadata": {},
   "outputs": [],
   "source": [
    "#Converts ShopID to Parent ID in order to roll up all necessary sales\n",
    "combined_sales['ParentID']=combined_sales.ShopID.astype('str')\n",
    "combined_sales['ParentID']=combined_sales.ParentID.str[-4:]\n",
    "combined_sales['ParentID']=combined_sales.ParentID.astype('int')"
   ]
  },
  {
   "cell_type": "code",
   "execution_count": 61,
   "id": "9e634143",
   "metadata": {},
   "outputs": [],
   "source": [
    "sales_piv=combined_sales.pivot_table(index=['ParentID'],columns='Year',values='SalesMny',aggfunc=sum,fill_value=0).reset_index()"
   ]
  },
  {
   "cell_type": "code",
   "execution_count": 76,
   "id": "fa71fd4a",
   "metadata": {},
   "outputs": [
    {
     "name": "stderr",
     "output_type": "stream",
     "text": [
      "C:\\Users\\jharned\\AppData\\Local\\Temp\\ipykernel_12700\\3560181998.py:2: FutureWarning: merging between different levels is deprecated and will be removed in a future version. (2 levels on the left, 1 on the right)\n",
      "  total_df_piv.merge(sales_piv,on='ParentID').to_excel('ARS History 2018-2023.xlsx',index=False)\n"
     ]
    }
   ],
   "source": [
    "os.chdir(r'L:\\J.Harned\\Royalty\\Royalty Regression\\Weekly Orders for Kathy')\n",
    "total_df_piv.merge(sales_piv,on='ParentID').to_excel('ARS History 2018-2023.xlsx',index=False)"
   ]
  },
  {
   "cell_type": "code",
   "execution_count": null,
   "id": "e9bd53a7",
   "metadata": {},
   "outputs": [],
   "source": []
  }
 ],
 "metadata": {
  "kernelspec": {
   "display_name": "Python 3 (ipykernel)",
   "language": "python",
   "name": "python3"
  },
  "language_info": {
   "codemirror_mode": {
    "name": "ipython",
    "version": 3
   },
   "file_extension": ".py",
   "mimetype": "text/x-python",
   "name": "python",
   "nbconvert_exporter": "python",
   "pygments_lexer": "ipython3",
   "version": "3.9.12"
  }
 },
 "nbformat": 4,
 "nbformat_minor": 5
}
