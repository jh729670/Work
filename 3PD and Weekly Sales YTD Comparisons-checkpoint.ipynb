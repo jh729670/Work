{
 "cells": [
  {
   "cell_type": "markdown",
   "id": "87ed49d8",
   "metadata": {},
   "source": [
    "# This script runs the Weekly Sales Reports. This is done every Wednesday\n",
    "## We connect directly to our data server to pull all of the sales and shop info needed\n",
    "### The script will run and produce the following reports in Excel:\n",
    " - Weekly Sales Summary. This creates several reports in one spreadsheet\n",
    "     1. 3rd Party Sales by Week by Year (Will use this for 3rd Party Report to FC)\n",
    "     2. 3rd Party Sales by Shop by Platform for current year ( Will use this for 3rd Party Report to FC)\n",
    "     3. Sales and Qty sold by by week by year\n",
    "     4. Weekly Shop Averages (Will use this for Shop Ranking Report)\n",
    "     5. Sales by Shop by Week (Use this to verify sales are correct and which shops haven't reported Sales)\n",
    "     6. Guest Count by Week by Shop\n",
    "     7. Sales and Guest Count by Shop\n",
    " - Year Over Year Sales by Category\n",
    "     1. Breaks down sales by Total, Retail, Catering, Mobile and 3rd Party\n",
    " - New Shop Comps\n",
    "     1. Produces a list of shops that have recently opened within two years of the date running this report.\n",
    " - Comp Sales and Guest Count\n",
    "     1. Comp Sales and Guest Count by Week (This goes to Mark and Kent in Marketing)\n",
    " - Guest Count and Sales by Month (This goes to Linda)\n",
    " - Product Mix "
   ]
  },
  {
   "cell_type": "code",
   "execution_count": 1,
   "id": "7ebca0c0",
   "metadata": {},
   "outputs": [],
   "source": [
    "#Imports the necessary libraries\n",
    "import pandas as pd\n",
    "import os\n",
    "import numpy as np\n",
    "import pyodbc as odbc\n",
    "from datetime import date,timedelta\n",
    "import seaborn as sns\n",
    "os.chdir(r'G:\\FinanceReports\\2023\\2023 Final 2.7.2025')# This is the file location to which we save the excel documents. Update this weekly"
   ]
  },
  {
   "cell_type": "code",
   "execution_count": 2,
   "id": "2a9437f7",
   "metadata": {},
   "outputs": [
    {
     "data": {
      "text/plain": [
       "'G:\\\\FinanceReports\\\\2023\\\\2023 Final 2.7.2025'"
      ]
     },
     "execution_count": 2,
     "metadata": {},
     "output_type": "execute_result"
    }
   ],
   "source": [
    "os.getcwd()"
   ]
  },
  {
   "cell_type": "code",
   "execution_count": 3,
   "id": "9f75a74b",
   "metadata": {},
   "outputs": [],
   "source": [
    "# Type in the month (first) & day (second) of the previous Sunday\n",
    "last_week='12-31'"
   ]
  },
  {
   "cell_type": "code",
   "execution_count": 4,
   "id": "b469d0af",
   "metadata": {},
   "outputs": [],
   "source": [
    "# Names the needed driver, server name, and database\n",
    "driver_name='SQL Server'\n",
    "server_name='10.0.1.218'\n",
    "database='ritascoolnet_live'"
   ]
  },
  {
   "cell_type": "code",
   "execution_count": 5,
   "id": "98f2b28d",
   "metadata": {},
   "outputs": [],
   "source": [
    "#Creates the connection string\n",
    "connection_string=f\"\"\"\n",
    "DRIVER={{{driver_name}}};\n",
    "SERVER={server_name};\n",
    "DATABASE={database};\n",
    "Trust_Connection=yes\"\"\""
   ]
  },
  {
   "cell_type": "code",
   "execution_count": 6,
   "id": "30a131c2",
   "metadata": {},
   "outputs": [
    {
     "name": "stdout",
     "output_type": "stream",
     "text": [
      "<pyodbc.Connection object at 0x00000206E4C16370>\n"
     ]
    }
   ],
   "source": [
    "#Creates the Connection to SQL Server\n",
    "connection=odbc.connect(connection_string)\n",
    "print(connection)"
   ]
  },
  {
   "cell_type": "code",
   "execution_count": 7,
   "id": "efd2e32e",
   "metadata": {},
   "outputs": [
    {
     "name": "stderr",
     "output_type": "stream",
     "text": [
      "C:\\Users\\jharned\\AppData\\Local\\Temp\\ipykernel_21720\\3137951185.py:3: UserWarning: pandas only supports SQLAlchemy connectable (engine/connection) or database string URI or sqlite3 DBAPI2 connection. Other DBAPI2 objects are not tested. Please consider using SQLAlchemy.\n",
      "  data1=pd.read_sql_query('''SELECT * from ritascoolnet_live.dbo.smartDailyZTape Where intZTapeID=6 and Year(dteDate)>=2022 and Year(dteDate)<=2023''',connection)\n",
      "C:\\Users\\jharned\\AppData\\Local\\Temp\\ipykernel_21720\\3137951185.py:4: UserWarning: pandas only supports SQLAlchemy connectable (engine/connection) or database string URI or sqlite3 DBAPI2 connection. Other DBAPI2 objects are not tested. Please consider using SQLAlchemy.\n",
      "  payments=pd.read_sql_query('''SELECT * from ritascoolnet_live.dbo.smartDailyZTape Where intZTapeID>=7 and intZTapeID<=9 and Year(dteDate)>=2023''',connection)\n"
     ]
    }
   ],
   "source": [
    "# Queries the tables from SQL\n",
    "# Reads in the Daily Guest Count from 2022 onwards\n",
    "data1=pd.read_sql_query('''SELECT * from ritascoolnet_live.dbo.smartDailyZTape Where intZTapeID=6 and Year(dteDate)>=2022 and Year(dteDate)<=2023''',connection)\n",
    "payments=pd.read_sql_query('''SELECT * from ritascoolnet_live.dbo.smartDailyZTape Where intZTapeID>=7 and intZTapeID<=9 and Year(dteDate)>=2023''',connection)"
   ]
  },
  {
   "cell_type": "code",
   "execution_count": 8,
   "id": "419565ff",
   "metadata": {},
   "outputs": [
    {
     "name": "stderr",
     "output_type": "stream",
     "text": [
      "C:\\Users\\jharned\\AppData\\Local\\Temp\\ipykernel_21720\\2683513420.py:2: UserWarning: pandas only supports SQLAlchemy connectable (engine/connection) or database string URI or sqlite3 DBAPI2 connection. Other DBAPI2 objects are not tested. Please consider using SQLAlchemy.\n",
      "  data2=pd.read_sql_query('''Select intStoreID, intRitasStoreID, vchStoreState,vchStoreName,dteOpenDate,dteTransferDate,dteSeasonalOpenDate,dteSeasonalCloseDate from ritascoolnet_live.dbo.GOOGLE_MAP_store''',connection)\n"
     ]
    }
   ],
   "source": [
    "# Reads in the Google Map to be able to join the inStoreID to the RitasID\n",
    "data2=pd.read_sql_query('''Select intStoreID, intRitasStoreID, vchStoreState,vchStoreName,dteOpenDate,dteTransferDate,dteSeasonalOpenDate,dteSeasonalCloseDate from ritascoolnet_live.dbo.GOOGLE_MAP_store''',connection)"
   ]
  },
  {
   "cell_type": "code",
   "execution_count": 9,
   "id": "2bdc0993",
   "metadata": {},
   "outputs": [
    {
     "name": "stderr",
     "output_type": "stream",
     "text": [
      "C:\\Users\\jharned\\AppData\\Local\\Temp\\ipykernel_21720\\2786742228.py:2: UserWarning: pandas only supports SQLAlchemy connectable (engine/connection) or database string URI or sqlite3 DBAPI2 connection. Other DBAPI2 objects are not tested. Please consider using SQLAlchemy.\n",
      "  data3=pd.read_sql_query('''Select intstoreid,RitasID, FC,CoolNetGroup,LegacyStoreType,State,MSAName,DMA,StoreName as ShopName,CoOpName,OpenDate from ritascoolnet_live.dbo.vShopDetail''',connection)\n"
     ]
    }
   ],
   "source": [
    "# Pulls Marketing info needed like Coolnet Group, MSA, and DMA\n",
    "data3=pd.read_sql_query('''Select intstoreid,RitasID, FC,CoolNetGroup,LegacyStoreType,State,MSAName,DMA,StoreName as ShopName,CoOpName,OpenDate from ritascoolnet_live.dbo.vShopDetail''',connection)"
   ]
  },
  {
   "cell_type": "markdown",
   "id": "5daa2cf4",
   "metadata": {},
   "source": [
    "# The Following Query Will pull in the sales data"
   ]
  },
  {
   "cell_type": "code",
   "execution_count": null,
   "id": "4b96114a",
   "metadata": {
    "scrolled": true
   },
   "outputs": [
    {
     "name": "stderr",
     "output_type": "stream",
     "text": [
      "C:\\Users\\jharned\\AppData\\Local\\Temp\\ipykernel_21720\\2467144158.py:3: UserWarning: pandas only supports SQLAlchemy connectable (engine/connection) or database string URI or sqlite3 DBAPI2 connection. Other DBAPI2 objects are not tested. Please consider using SQLAlchemy.\n",
      "  data=pd.read_sql_query('''SELECT *\n"
     ]
    }
   ],
   "source": [
    "# Queries the tables from SQL\n",
    "# Reads in the Weekly Sales in 2023\n",
    "data=pd.read_sql_query('''SELECT *\n",
    "  FROM [ritas_bi].[dbo].[tmp_raw_plda]\n",
    "  WHERE YEAR(StartDate)=2023\n",
    "  ORDER BY Week DESC''',connection)\n",
    "# Reads in the Weekly Sales in 2022\n",
    "df=pd.read_sql_query('''SELECT *\n",
    "  FROM [ritas_bi].[dbo].[tmp_raw_plda]\n",
    "  WHERE YEAR(StartDate)=2022 AND Week <=52''',connection)"
   ]
  },
  {
   "cell_type": "code",
   "execution_count": null,
   "id": "04106520",
   "metadata": {},
   "outputs": [],
   "source": [
    "data.SalesMny.sum()"
   ]
  },
  {
   "cell_type": "markdown",
   "id": "7d393938",
   "metadata": {},
   "source": [
    "# Guest Count"
   ]
  },
  {
   "cell_type": "code",
   "execution_count": null,
   "id": "2f428ee6",
   "metadata": {},
   "outputs": [],
   "source": [
    "# Renames the Column to ShopID, will make easier when merging dataframes\n",
    "data3.rename(columns={'RitasID':'ShopID'},inplace=True)"
   ]
  },
  {
   "cell_type": "code",
   "execution_count": null,
   "id": "39dfa5d6",
   "metadata": {},
   "outputs": [],
   "source": [
    "data1"
   ]
  },
  {
   "cell_type": "code",
   "execution_count": null,
   "id": "2a1f04b0",
   "metadata": {},
   "outputs": [],
   "source": [
    "data2"
   ]
  },
  {
   "cell_type": "code",
   "execution_count": null,
   "id": "30bdcafd",
   "metadata": {},
   "outputs": [],
   "source": [
    "#Merges Guest Counts with Shop Info to get more details about the Guest Counts\n",
    "gc=pd.merge(data1,data2,on='intStoreID')\n",
    "gc.head()"
   ]
  },
  {
   "cell_type": "code",
   "execution_count": null,
   "id": "65911d6f",
   "metadata": {},
   "outputs": [],
   "source": [
    "#Changes the the type of the data from strings to numbers\n",
    "gc.vchValue=gc.vchValue.astype('int')\n",
    "gc.intRitasStoreID=gc.intRitasStoreID.astype('int')"
   ]
  },
  {
   "cell_type": "code",
   "execution_count": null,
   "id": "eb77ba1f",
   "metadata": {},
   "outputs": [],
   "source": [
    "# Gets the last 4 digits of the Ritas ID, important when rolling numbers up\n",
    "gc['Ritas ID']=gc.intRitasStoreID.astype('str')\n",
    "gc['Ritas ID']=gc['Ritas ID'].str[-4:]\n",
    "gc['Ritas ID']=gc['Ritas ID'].astype('int')"
   ]
  },
  {
   "cell_type": "code",
   "execution_count": null,
   "id": "2787c497",
   "metadata": {},
   "outputs": [],
   "source": [
    "# Gets the Year and Month of the Guest Count\n",
    "gc['Year']=gc.dteDate.dt.year\n",
    "gc['Month']=gc.dteDate.dt.month"
   ]
  },
  {
   "cell_type": "code",
   "execution_count": null,
   "id": "ed13c386",
   "metadata": {},
   "outputs": [],
   "source": [
    "gc[(gc['Ritas ID']==626)&(gc.dteDate.dt.year==2023)].pivot_table(index=pd.Grouper(key='dteDate',freq='W'),values='vchValue',aggfunc='sum',margins=True)"
   ]
  },
  {
   "cell_type": "code",
   "execution_count": null,
   "id": "6d181ead",
   "metadata": {},
   "outputs": [],
   "source": [
    "gc_week=gc.set_index('dteDate')"
   ]
  },
  {
   "cell_type": "code",
   "execution_count": null,
   "id": "bc418b48",
   "metadata": {},
   "outputs": [],
   "source": [
    "resampled=gc_week.groupby(['Ritas ID'])['vchValue'].resample('W').sum().reset_index()\n",
    "\n",
    "resampled_pivot=resampled.pivot_table(index='Ritas ID',columns='dteDate',values='vchValue',fill_value=0).reset_index()"
   ]
  },
  {
   "cell_type": "code",
   "execution_count": null,
   "id": "57a91ca8",
   "metadata": {},
   "outputs": [],
   "source": [
    "#list(sorted(enumerate(resampled.dteDate.unique()),key=lambda x:x[1]))"
   ]
  },
  {
   "cell_type": "markdown",
   "id": "f396fb94",
   "metadata": {},
   "source": [
    "# Payment Types"
   ]
  },
  {
   "cell_type": "code",
   "execution_count": null,
   "id": "bd023413",
   "metadata": {},
   "outputs": [],
   "source": [
    "payments"
   ]
  },
  {
   "cell_type": "code",
   "execution_count": null,
   "id": "f68df104",
   "metadata": {},
   "outputs": [],
   "source": [
    "payments.vchValue=payments.vchValue.astype('float')\n",
    "payments=pd.merge(payments,data2,on='intStoreID',how='left')\n",
    "payments.intRitasStoreID=payments.intRitasStoreID.astype('int')\n",
    "payments.pivot_table(index=['intRitasStoreID'],columns='intZTapeID',values='vchValue',aggfunc='sum')"
   ]
  },
  {
   "cell_type": "code",
   "execution_count": null,
   "id": "3573a43a",
   "metadata": {},
   "outputs": [],
   "source": [
    "pay_piv=payments.pivot_table(index=['intRitasStoreID','vchStoreName'],columns='intZTapeID',values='vchValue',aggfunc='sum').reset_index()\n",
    "pay_piv.rename(columns={7:'Credit_Card',8:'Gift_Card',9:'Gift_Certificates','intRitasStoreID':'ShopID','vchStoreName':'ShopName'},inplace=True)"
   ]
  },
  {
   "cell_type": "code",
   "execution_count": null,
   "id": "cd7f5dcb",
   "metadata": {},
   "outputs": [],
   "source": [
    "pay_piv\n",
    "pay_type=pd.merge(data.groupby(['ShopID','ShopName'])['SalesMny'].sum().reset_index(),pay_piv,on=['ShopID','ShopName'],how='left').fillna(0)\n",
    "pay_type.loc['Total']=pay_type.iloc[:,[2,3,4,5]].sum(axis=0)\n",
    "pay_type['%Credit_Card']=pay_type['Credit_Card']/pay_type['SalesMny']\n",
    "pay_type['%Gift_Card']=pay_type['Gift_Card']/pay_type['SalesMny']\n",
    "pay_type['%Gift_Certificates']=pay_type['Gift_Certificates']/pay_type['SalesMny']\n",
    "# pay_type.to_excel('Payments.xlsx',index=False)"
   ]
  },
  {
   "cell_type": "code",
   "execution_count": null,
   "id": "f3f935b9",
   "metadata": {},
   "outputs": [],
   "source": [
    "pay_type=pd.merge(pay_type,data3[['ShopID','ShopName','FC','LegacyStoreType']],on=['ShopID','ShopName'],how='left').drop_duplicates(subset=['ShopID'],keep='last')"
   ]
  },
  {
   "cell_type": "code",
   "execution_count": null,
   "id": "a8e2a0f3",
   "metadata": {},
   "outputs": [],
   "source": [
    "pay_type=pay_type.iloc[:,[0,1,-1,-2,2,3,4,5,6,7,8]]\n",
    "# pay_type.to_excel('Payments.xlsx',index=False)"
   ]
  },
  {
   "cell_type": "code",
   "execution_count": null,
   "id": "c6cdecee",
   "metadata": {},
   "outputs": [],
   "source": [
    "# # Queries the tables from SQL\n",
    "# # Reads in the Weekly Sales in 2023\n",
    "# data=pd.read_sql_query('''SELECT *\n",
    "#   FROM [ritas_bi].[dbo].[tmp_raw_plda]\n",
    "#   WHERE YEAR(StartDate)=2023\n",
    "#   ORDER BY Week DESC''',connection)\n",
    "# # Reads in the Weekly Sales in 2022\n",
    "# df=pd.read_sql_query('''SELECT *\n",
    "#   FROM [ritas_bi].[dbo].[tmp_raw_plda]\n",
    "#   WHERE YEAR(StartDate)=2022 AND Week <=35''',connection)"
   ]
  },
  {
   "cell_type": "code",
   "execution_count": null,
   "id": "d34d07a5",
   "metadata": {},
   "outputs": [],
   "source": [
    "# os.chdir(r'G:\\FinanceReports\\2023\\Wk26')\n",
    "# data=pd.read_excel('2023-SRSsales-productLevel-wk26.xlsx',sheet_name='2023')\n",
    "# df=pd.read_excel('2023-SRSsales-productLevel-wk26.xlsx',sheet_name='2022')"
   ]
  },
  {
   "cell_type": "markdown",
   "id": "0731eb95",
   "metadata": {},
   "source": [
    "# Sales by Category"
   ]
  },
  {
   "cell_type": "code",
   "execution_count": null,
   "id": "6fd342d3",
   "metadata": {},
   "outputs": [],
   "source": [
    "#Creates a Year Column for each DataFrame based on Start Date\n",
    "data['Year']=data.StartDate.dt.year# 2023 Sales Data\n",
    "df['Year']=df.StartDate.dt.year# 2022 Sales Data\n",
    "total=pd.concat([data,df])# Combines the dataframes into one"
   ]
  },
  {
   "cell_type": "code",
   "execution_count": null,
   "id": "24fc2186",
   "metadata": {},
   "outputs": [],
   "source": [
    "#Creates Month Name and Month Columns\n",
    "total['Month']=total.StartDate.dt.month\n",
    "total['Month_Name']=total.StartDate.dt.strftime('%b')"
   ]
  },
  {
   "cell_type": "markdown",
   "id": "19823b36",
   "metadata": {},
   "source": [
    "# Rolling Up Sales to Parent Level\n",
    "## We need to roll up mobile and satellite sales into their parent shop\n",
    "### All satellite and mobile shops will have the suffix (the last 3 or 4 numbers in the ShopID) as the Parent Shop\n",
    "For Example:\n",
    "    1. Mobile shop 10363 parent Shop is 363\n",
    "    2. Satellite Shop 11332 parent Shop is 1332\n",
    "A good rule of thumb is if the ShopID has 5 numbers, it is either a mobile or satellite.\n",
    "If the second number is 0, then the Parent Shop's ShopID has 3 digits\n",
    "If the second number is 1, then the Parent Shop's ShopID has 4 digits.\n",
    "Some Shops have multiple satellite and mobile shops. The suffixes will still be the same as the Parent Shop, the only thing\n",
    "that changes is the 1st digit. For example:\n",
    " - 11323 and 21323 are two different satellite shops for the same parent shop 1323\n",
    "### How we roll the mobile and satellite sales into the correct Parent Shop, is by taking the last four digits of the ShopID and then grouping those together and summing them up.\n",
    "### This is demonstrated in the code block below"
   ]
  },
  {
   "cell_type": "code",
   "execution_count": null,
   "id": "6d49dfaf",
   "metadata": {},
   "outputs": [],
   "source": [
    "exclude=[10511,11390,20096,20882,21360,31360,11360,10061,10374]# List of Satellite Shops that are considered shops.\n",
    "# Need to exclude these\n",
    "df_1=total[~total.ShopID.isin(exclude)]# Excludes Satellite Shops\n",
    "satellite=total[total.ShopID.isin(exclude)]# Grabs only the Satellite Shops\n",
    "satellite['StringID']=satellite.ShopID.astype('int')\n",
    "df_1['StringID']=df_1.ShopID.astype('int')\n",
    "df_1['StringID']=df_1.ShopID.astype('str')\n",
    "df_1['StringID']=df_1.StringID.str[-4:]\n",
    "df_1['StringID']=df_1.StringID.astype('int')\n",
    "total=pd.concat([df_1,satellite])\n",
    "# Creates a new DataFrame called Total with a new column called StringID. This is the column we use to aggregate all of the\n",
    "## satellite and mobile sales into the Parent Shops"
   ]
  },
  {
   "cell_type": "code",
   "execution_count": null,
   "id": "38f13a9c",
   "metadata": {},
   "outputs": [],
   "source": [
    "# unique=total[(total.Year==2023)&(total.ProductTypeName.isin(items))&(total.SalesMny>0)].StringID.nunique()\n",
    "# total_shops=total[total.Year==2023].StringID.nunique()\n",
    "# total_weeks=total[(total.Year==2023)].groupby('StringID')['Week'].nunique().reset_index()\n",
    "# total_weeks.rename(columns={'Week':'Num_Weeks_Open'},inplace=True)\n",
    "# total_sales=total[(total.Year==2023)&(total.ProductTypeName.isin(items))&(total.SalesMny>0)].groupby(['StringID'])['SalesMny'].sum().reset_index()\n",
    "# total_sales=total_sales.merge(total_weeks,on='StringID',how='left')\n",
    "# total_sales['Avg_Weekly_Sales']=total_sales.SalesMny/total_sales.Num_Weeks_Open\n",
    "# total_sales.rename(columns={'SalesMny':'Total_Sales'},inplace=True)\n",
    "# summary=pd.DataFrame({'Total Number of Shops':[total_shops],\n",
    "#                      'Shops w Novelty':[unique],\n",
    "#                      '% of Shops':[unique/total_shops]})\n"
   ]
  },
  {
   "cell_type": "code",
   "execution_count": null,
   "id": "fea0f9e8",
   "metadata": {},
   "outputs": [],
   "source": [
    "# total_sales=total_sales.loc[:,['StringID','Num_Weeks_Open','Total_Sales','Avg_Weekly_Sales']]"
   ]
  },
  {
   "cell_type": "code",
   "execution_count": null,
   "id": "bec33f81",
   "metadata": {},
   "outputs": [],
   "source": [
    "# cierra=pd.ExcelWriter('Novelty Information 2023.xlsx')\n",
    "# summary.to_excel(cierra, sheet_name='Summary',index=False)\n",
    "# total_sales.to_excel(cierra, sheet_name='Sales Info',index=False)\n",
    "# cierra.close()"
   ]
  },
  {
   "cell_type": "code",
   "execution_count": null,
   "id": "34582cdd",
   "metadata": {},
   "outputs": [],
   "source": [
    "# total_sales=total.pivot_table(index='StringID',columns='Year',values='SalesMny',aggfunc='sum',fill_value=0).reset_index()\n",
    "# total_sales=pd.merge(total_sales,data3[['ShopID','State','FC','DMA','MSAName','CoOpName']],on='ShopID',how='left').drop_duplicates(subset=[2022,2023],keep='last')\n",
    "# total_sales=total_sales[['ShopID','FC','State','CoOpName','DMA','MSAName',2022,2023]]\n",
    "# total_sales=pd.merge(total_sales,data[['ShopID','ShopName']],how='left',on='ShopID').drop_duplicates(subset='ShopID',keep='last')\n",
    "# total_sales.loc['Total']=total_sales[[2023,2022]].sum(axis=0)\n",
    "# total_sales['%_Change']=total_sales[2023]/total_sales[2022]-1\n",
    "# total_sales=total_sales[['ShopID','ShopName','FC','State','CoOpName','DMA','MSAName',2023,2022,'%_Change']]\n",
    "# total_sales.replace([np.inf,-np.inf],0,inplace=True)\n",
    "# total_sales"
   ]
  },
  {
   "cell_type": "code",
   "execution_count": null,
   "id": "689706f9",
   "metadata": {},
   "outputs": [],
   "source": [
    "total[total.ShopID==10167].CoOpStatus"
   ]
  },
  {
   "cell_type": "code",
   "execution_count": null,
   "id": "86a57eb6",
   "metadata": {},
   "outputs": [],
   "source": [
    "# Creates a pivot table by shop totaling up all sales\n",
    "total_sales=total.pivot_table(index='StringID',columns='Year',values='SalesMny',aggfunc='sum',fill_value=0).reset_index()\n",
    "total_sales=pd.merge(total_sales,data3[['ShopID','ShopName','State','FC','DMA','MSAName','CoOpName']],left_on='StringID',right_on='ShopID').drop_duplicates(subset=[2023,2022],keep='last')\n",
    "total_sales=total_sales[['ShopID','ShopName','FC','State','CoOpName','DMA','MSAName',2023,2022,]]\n",
    "total_sales.loc['Total']=total_sales[[2023,2022]].sum(axis=0)\n",
    "total_sales['%_Change']=total_sales[2023]/total_sales[2022]-1\n",
    "total_sales.replace([np.inf,-np.inf],0,inplace=True)\n",
    "total_sales"
   ]
  },
  {
   "cell_type": "code",
   "execution_count": null,
   "id": "d316c7bc",
   "metadata": {},
   "outputs": [],
   "source": [
    "# Filters on the Catering Product Type Name\n",
    "cater=['Catering (Bulk Ice)','Full Service Catering (Open $)']"
   ]
  },
  {
   "cell_type": "code",
   "execution_count": null,
   "id": "5745bdaf",
   "metadata": {},
   "outputs": [],
   "source": [
    "# Filters on retail only. Removes Mobile, 3rd Party and Catering Sales\n",
    "retail=total[(~total.LegacyShopType.str.contains('Mobile'))&(total.ProductTypeName!='3rd Party Delivery')&(~total.ProductTypeName.isin(cater))].pivot_table(index='ShopID',columns='Year',values='SalesMny',aggfunc='sum',fill_value=0).reset_index()"
   ]
  },
  {
   "cell_type": "code",
   "execution_count": null,
   "id": "6074382e",
   "metadata": {},
   "outputs": [],
   "source": [
    "# total[(total.SpecialVenue=='No')&(~total.LegacyShopType.str.contains('Mobile'))&(total.ProductTypeName!='3rd Party Delivery')&(total.ProductTypeName!='Full Service Catering (Open $)')].pivot_table(index='ShopID',columns='Year',values='SalesMny',aggfunc='sum',fill_value=0).reset_index()"
   ]
  },
  {
   "cell_type": "code",
   "execution_count": null,
   "id": "24090e93",
   "metadata": {},
   "outputs": [],
   "source": [
    "#Grabs the Catering Sales\n",
    "catering=round(total[((total.ProductTypeName=='Full Service Catering (Open $)')|(total.ProductTypeName=='Catering (Bulk Ice)'))&(~total.LegacyShopType.str.contains('Mobile'))].pivot_table(index='ShopID',columns='Year',values='SalesMny',aggfunc='sum',fill_value=0).reset_index(),2)\n",
    "catering_fc=pd.merge(catering,data3[['ShopID','State','FC','DMA','MSAName','CoOpName']],on='ShopID',how='left').drop_duplicates(subset=[2022,2023],keep='last')\n",
    "catering_fc=catering_fc[['ShopID','FC','State','CoOpName','DMA','MSAName',2023,2022]]\n",
    "catering_fc=pd.merge(catering_fc,data[['ShopID','ShopName']],how='left',on='ShopID').drop_duplicates(subset='ShopID',keep='last')\n",
    "catering_fc.loc['Total']=catering_fc[[2023,2022]].sum(axis=0)\n",
    "catering_fc['%_Change']=catering_fc[2023]/catering_fc[2022]-1\n",
    "catering_fc=catering_fc[['ShopID','ShopName','FC','State','CoOpName','DMA','MSAName',2023,2022,'%_Change']]\n",
    "catering_fc.replace([np.inf,-np.inf],0,inplace=True)\n",
    "catering_fc"
   ]
  },
  {
   "cell_type": "code",
   "execution_count": null,
   "id": "a68655f0",
   "metadata": {},
   "outputs": [],
   "source": [
    "# satellite=[10511,11390,20096,20882,21360,31360,11360,10061,10374,20374,10026]\n",
    "# satellite=round(total[(total.ShopID.isin(satellite))].pivot_table(index='ShopID',columns='Year',values='SalesMny',aggfunc='sum',fill_value=0).reset_index(),2)\n",
    "# satellite_fc=pd.merge(satellite,data3[['ShopID','State','FC','DMA','MSAName','CoOpName']],on='ShopID',how='left').drop_duplicates(subset=[2022,2023],keep='last')\n",
    "# satellite_fc=satellite_fc[['ShopID','FC','State','CoOpName','DMA','MSAName',2022,2023]]\n",
    "# satellite_fc=pd.merge(satellite_fc,data[['ShopID','ShopName']],how='left',on='ShopID').drop_duplicates(subset='ShopID',keep='last')\n",
    "# satellite_fc.loc['Total']=satellite_fc[[2023,2022]].sum(axis=0)\n",
    "# satellite_fc['%_Change']=satellite_fc[2023]/satellite_fc[2022]-1\n",
    "# satellite_fc=satellite_fc[['ShopID','ShopName','FC','State','CoOpName','DMA','MSAName',2023,2022,'%_Change']]\n",
    "# satellite_fc.replace([np.inf,-np.inf],0,inplace=True)\n",
    "# satellite_fc.to_excel('Satellite Sales 2022-23.xlsx',index=False)"
   ]
  },
  {
   "cell_type": "code",
   "execution_count": null,
   "id": "a2bde989",
   "metadata": {
    "scrolled": true
   },
   "outputs": [],
   "source": [
    "# Grabs the Mobile Sales\n",
    "mobile=round(total[(total.LegacyShopType.str.contains('Mobile'))].pivot_table(index='ShopID',columns='Year',values='SalesMny',aggfunc='sum',fill_value=0).reset_index(),2)\n",
    "mobile_fc=pd.merge(mobile,data3[['ShopID','State','FC','DMA','MSAName','CoOpName']],on='ShopID',how='left').drop_duplicates(subset=[2022,2023],keep='last')\n",
    "mobile_fc=mobile_fc[['ShopID','FC','State','CoOpName','DMA','MSAName',2022,2023]]\n",
    "mobile_fc=pd.merge(mobile_fc,data[['ShopID','ShopName']],how='left',on='ShopID').drop_duplicates(subset='ShopID',keep='last')\n",
    "mobile_fc.loc['Total']=mobile_fc[[2023,2022]].sum(axis=0)\n",
    "mobile_fc['%_Change']=mobile_fc[2023]/mobile_fc[2022]-1\n",
    "mobile_fc=mobile_fc[['ShopID','ShopName','FC','State','CoOpName','DMA','MSAName',2023,2022,'%_Change']]\n",
    "mobile_fc.replace([np.inf,-np.inf],0,inplace=True)\n",
    "mobile_fc"
   ]
  },
  {
   "cell_type": "code",
   "execution_count": null,
   "id": "b1054a5c",
   "metadata": {},
   "outputs": [],
   "source": [
    "#Grabs the Delivery Sales \n",
    "delivery=round(total[total.ProductTypeName=='3rd Party Delivery'].pivot_table(index='ShopID',columns='Year',values='SalesMny',aggfunc='sum',fill_value=0).reset_index(),2)\n",
    "delivery_fc=pd.merge(delivery,data3[['ShopID','State','FC','DMA','MSAName','CoOpName']],on='ShopID',how='left').drop_duplicates(subset=[2022,2023],keep='last')\n",
    "delivery_fc=delivery_fc[['ShopID','FC','State','CoOpName','DMA','MSAName',2022,2023]]\n",
    "delivery_fc=pd.merge(delivery_fc,data[['ShopID','ShopName']],how='left',on='ShopID').drop_duplicates(subset='ShopID',keep='last')\n",
    "delivery_fc.loc['Total']=delivery_fc[[2023,2022]].sum(axis=0)\n",
    "delivery_fc['%_Change']=delivery_fc[2023]/delivery_fc[2022]-1\n",
    "delivery_fc=delivery_fc[['ShopID','ShopName','FC','State','CoOpName','DMA','MSAName',2023,2022,'%_Change']]\n",
    "delivery_fc.replace([np.inf,-np.inf],0,inplace=True)\n",
    "delivery_fc\n"
   ]
  },
  {
   "cell_type": "code",
   "execution_count": null,
   "id": "69d3958b",
   "metadata": {},
   "outputs": [],
   "source": [
    "#Grabs the Retail Sales \n",
    "retail_fc=pd.merge(retail,data3[['ShopID','State','FC','DMA','MSAName','CoOpName']],on='ShopID',how='left').drop_duplicates(subset=[2022,2023],keep='last')\n",
    "retail_fc=retail_fc[['ShopID','FC','State','CoOpName','DMA','MSAName',2022,2023]]\n",
    "retail_fc=pd.merge(retail_fc,data[['ShopID','ShopName']],how='left',on='ShopID').drop_duplicates(subset='ShopID',keep='last')\n",
    "retail_fc.loc['Total']=retail_fc[[2023,2022]].sum(axis=0)\n",
    "retail_fc['%_Change']=retail_fc[2023]/retail_fc[2022]-1\n",
    "retail_fc=retail_fc[['ShopID','ShopName','FC','State','CoOpName','DMA','MSAName',2023,2022,'%_Change']]\n",
    "retail_fc.replace([np.inf,-np.inf],0,inplace=True)\n",
    "retail_fc\n",
    "# retail_fc.to_excel('22-23 Retail Sales Only.xlsx',index=False)"
   ]
  },
  {
   "cell_type": "code",
   "execution_count": null,
   "id": "801730c7",
   "metadata": {},
   "outputs": [],
   "source": [
    "# writer8=pd.ExcelWriter('YoY Sales by Category.xlsx')\n",
    "# retail_fc.to_excel(writer8, sheet_name='Retail',index=False)\n",
    "# catering_fc.to_excel(writer8, sheet_name='Catering',index=False)\n",
    "# mobile_fc.to_excel(writer8,sheet_name='Mobile',index=False)\n",
    "# delivery_fc.to_excel(writer8, sheet_name='Delivery',index=False)\n",
    "# writer8.save()\n",
    "# writer8.close()"
   ]
  },
  {
   "cell_type": "code",
   "execution_count": null,
   "id": "9295b91c",
   "metadata": {},
   "outputs": [],
   "source": [
    "# retail_fc.replace([np.inf,-np.inf],0,inplace=True)\n",
    "#retail_fc.to_excel('22-23 Retail Sales Onlyv2.xlsx',index=False)"
   ]
  },
  {
   "cell_type": "code",
   "execution_count": null,
   "id": "a445be46",
   "metadata": {},
   "outputs": [],
   "source": [
    "retail_fc.tail()"
   ]
  },
  {
   "cell_type": "code",
   "execution_count": null,
   "id": "a80a970a",
   "metadata": {},
   "outputs": [],
   "source": [
    "print(sns.__version__)"
   ]
  },
  {
   "cell_type": "code",
   "execution_count": null,
   "id": "b9bbbdc6",
   "metadata": {},
   "outputs": [],
   "source": [
    "# total[(total.Week<=26)&(total.StartDate.dt.strftime('%m-%d')>='03-01')].pivot_table(index='ShopID',columns='Year',values='SalesMny',aggfunc='sum',fill_value=0).reset_index().to_excel(\n",
    "# 'Comp Sales through 6-30.xlsx',index=False)"
   ]
  },
  {
   "cell_type": "markdown",
   "id": "f93c609c",
   "metadata": {},
   "source": [
    "# 3rd Party Sales"
   ]
  },
  {
   "cell_type": "code",
   "execution_count": null,
   "id": "86a093ba",
   "metadata": {},
   "outputs": [],
   "source": [
    "# Breaks down the third Party Sales by Week\n",
    "pd3=total[(total.ProductSizeName=='UberEats')&(total.Year==2023)&(total.ShopID==84)].pivot_table(index=['StringID','StartDate','EndDate'],\n",
    "                                                                                                 values='SalesMny',\n",
    "                                                                                                 aggfunc='sum',fill_value=0).reset_index()\n",
    "# pd3.loc['Total']=pd3.sum(axis=0)\n",
    "# pd3=pd3.style.format({\n",
    "#     2022:'{:,.2f}'.format,\n",
    "#     2023:'{:,.2f}'.format\n",
    "# })\n",
    "pd3.to_excel('Shop 84 Uber Eats.xlsx')"
   ]
  },
  {
   "cell_type": "code",
   "execution_count": null,
   "id": "f4002ed2",
   "metadata": {},
   "outputs": [],
   "source": [
    "# data[data.ProductTypeName=='3rd Party Delivery'].pivot_table(index='StringID',columns='Week',values='SalesMny',aggfunc='sum',fill_value=0).to_excel(\n",
    "# '2023 3PD Sales by Shop by Week 1.25.24.xlsx')"
   ]
  },
  {
   "cell_type": "code",
   "execution_count": null,
   "id": "e3c77d1d",
   "metadata": {
    "scrolled": true
   },
   "outputs": [],
   "source": [
    "# os.chdir(r'L:\\3PD-WeeklyReport\\2023\\WE 12.10.2023')\n",
    "# total[(total.ProductTypeName=='3rd Party Delivery')&(total.Week==49)&(total.Year==2023)].pivot_table(\n",
    "#     index='ShopID',columns='ProductSizeName',values='SalesMny',aggfunc='sum',fill_value=0).to_excel('Week 49 3PD.xlsx')"
   ]
  },
  {
   "cell_type": "code",
   "execution_count": null,
   "id": "615df067",
   "metadata": {},
   "outputs": [],
   "source": [
    "# Breaks down the 3rd Party Sales by Platform\n",
    "pd3_platform=data[(data.ProductTypeName=='3rd Party Delivery')&(data.Week==data.Week.max())].pivot_table(index='ShopID',columns='ProductSizeName',values='SalesMny',aggfunc='sum',fill_value=0)\n",
    "pd3_platform.loc['Total']=pd3_platform.sum(axis=0)\n",
    "# pd3_platform.to_excel('Rec.xlsx')\n",
    "pd3_platform"
   ]
  },
  {
   "cell_type": "code",
   "execution_count": null,
   "id": "b573d9a3",
   "metadata": {},
   "outputs": [],
   "source": [
    "# pd3_platform=df[(df.ProductTypeName=='3rd Party Delivery')&(df.Year==2022)].pivot_table(index='ShopID',columns='ProductSizeName',values='SalesMny',aggfunc='sum',fill_value=0)\n",
    "# pd3_platform.loc['Total']=pd3_platform.sum(axis=0)\n",
    "# pd3_platform.to_excel('2022 3PD Sales.xlsx')"
   ]
  },
  {
   "cell_type": "code",
   "execution_count": null,
   "id": "1d83632a",
   "metadata": {},
   "outputs": [],
   "source": [
    "df.Year.unique()"
   ]
  },
  {
   "cell_type": "code",
   "execution_count": null,
   "id": "283e47ca",
   "metadata": {},
   "outputs": [],
   "source": [
    "# data[(data.ProductTypeName=='3rd Party Delivery')&(data.ProductSizeName=='DoorDash')].pivot_table(\n",
    "#     index='ShopID',columns='StartDate',values='SalesMny',aggfunc='sum',fill_value=0).reset_index().to_excel('JM Door Dash.xlsx',index=False)\n"
   ]
  },
  {
   "cell_type": "code",
   "execution_count": null,
   "id": "c1907542",
   "metadata": {
    "scrolled": true
   },
   "outputs": [],
   "source": [
    "sales_year=total.pivot_table(index='Week',columns='Year',values=['SalesMny','SalesQty'],aggfunc='sum',fill_value=0)\n",
    "sales_year.loc['Total']=sales_year.sum(axis=0)\n",
    "sales_year"
   ]
  },
  {
   "cell_type": "code",
   "execution_count": null,
   "id": "f1e3841e",
   "metadata": {},
   "outputs": [],
   "source": [
    "data.columns"
   ]
  },
  {
   "cell_type": "code",
   "execution_count": null,
   "id": "074d0d06",
   "metadata": {},
   "outputs": [],
   "source": [
    "exclude=[10511,11390,20096,20882,21360,31360,11360,10061,10374]\n",
    "df=data[~data.ShopID.isin(exclude)]\n",
    "satellite=data[data.ShopID.isin(exclude)]\n",
    "satellite['StringID']=satellite.ShopID.astype('int')"
   ]
  },
  {
   "cell_type": "code",
   "execution_count": null,
   "id": "a2b31d6b",
   "metadata": {
    "scrolled": true
   },
   "outputs": [],
   "source": [
    "df['StringID']=df.ShopID.astype('int')\n",
    "df['StringID']=df.ShopID.astype('str')\n",
    "df['StringID']=df.StringID.str[-4:]\n",
    "df['StringID']=df.StringID.astype('int')\n",
    "df.StringID.unique()"
   ]
  },
  {
   "cell_type": "markdown",
   "id": "bc21f329",
   "metadata": {},
   "source": [
    "# Weekly Sales Data\n",
    "## Week by Week Sales by Shops for the Current Year only"
   ]
  },
  {
   "cell_type": "code",
   "execution_count": null,
   "id": "4d148abd",
   "metadata": {},
   "outputs": [],
   "source": [
    "data=pd.concat([df,satellite])"
   ]
  },
  {
   "cell_type": "code",
   "execution_count": null,
   "id": "4ac7d587",
   "metadata": {},
   "outputs": [],
   "source": [
    "data['Month_Name']=data.StartDate.dt.strftime('%b')"
   ]
  },
  {
   "cell_type": "code",
   "execution_count": null,
   "id": "c4398f46",
   "metadata": {},
   "outputs": [],
   "source": [
    "month_piv=data.pivot_table(index='StringID',columns='Month_Name',values='SalesMny',aggfunc='sum',fill_value=0,margins=True)\n",
    "month_piv.columns\n",
    "# month_piv[['Jan','Feb','Mar','Apr','May','Jun','Jul','Aug','Sep','All']].to_excel('23 Monthly Sales.xlsx',sheet_name='Sales Rank by Month 2023')"
   ]
  },
  {
   "cell_type": "code",
   "execution_count": null,
   "id": "00774fe1",
   "metadata": {},
   "outputs": [],
   "source": [
    "grouped=data.groupby(['StringID','Week'])['SalesMny'].sum().reset_index()\n"
   ]
  },
  {
   "cell_type": "code",
   "execution_count": null,
   "id": "7270eeaf",
   "metadata": {},
   "outputs": [],
   "source": [
    "grouped[grouped.StringID==8]"
   ]
  },
  {
   "cell_type": "code",
   "execution_count": null,
   "id": "1ad3e913",
   "metadata": {},
   "outputs": [],
   "source": [
    "pivot=round(grouped.pivot_table(index='StringID',values='SalesMny'),2).reset_index()"
   ]
  },
  {
   "cell_type": "code",
   "execution_count": null,
   "id": "395b698d",
   "metadata": {},
   "outputs": [],
   "source": [
    "shop_names=data[['StringID','ShopName']].sort_values(by='StringID',ascending=True).drop_duplicates(subset='StringID')\n",
    "# Gets Unique ShopName and StringID\n",
    "sales_weekly=round(data.pivot_table(index=['StringID','Region'],columns='Week',values='SalesMny',aggfunc='sum',margins=True,fill_value=0),2).reset_index()\n",
    "# Creates a pivot table by week and String ID for sales\n",
    "sales_weekly_names=pd.merge(sales_weekly,shop_names,on='StringID',how='left')\n",
    "#Merges the ShopNames with the String ID\n",
    "sales_weekly_names=sales_weekly_names.iloc[:,np.r_[0,-1,1:len(sales_weekly_names.columns)-1]]\n",
    "# Rearranges the Columns"
   ]
  },
  {
   "cell_type": "code",
   "execution_count": null,
   "id": "512ba0b1",
   "metadata": {},
   "outputs": [],
   "source": [
    "for_sales_week=data2.rename(columns={'intRitasStoreID':'StringID','vchStoreName':'ShopName'})# Changes the Column Names"
   ]
  },
  {
   "cell_type": "code",
   "execution_count": null,
   "id": "a1447073",
   "metadata": {},
   "outputs": [],
   "source": [
    "for_sales_week.StringID=for_sales_week.StringID.astype('str')"
   ]
  },
  {
   "cell_type": "code",
   "execution_count": null,
   "id": "5f727a22",
   "metadata": {},
   "outputs": [],
   "source": [
    "sales_weekly_names.StringID=sales_weekly_names.StringID.astype('str')"
   ]
  },
  {
   "cell_type": "code",
   "execution_count": null,
   "id": "bafbbe7a",
   "metadata": {},
   "outputs": [],
   "source": [
    "sales_dates=sales_weekly_names.merge(for_sales_week[['StringID','dteSeasonalOpenDate','dteSeasonalCloseDate']],how='left',\n",
    "                        on=['StringID']).drop_duplicates(subset='StringID',keep='last')# Merges more shop info to the sales"
   ]
  },
  {
   "cell_type": "code",
   "execution_count": null,
   "id": "0d4ac826",
   "metadata": {},
   "outputs": [],
   "source": [
    "pd.to_datetime(date.today())"
   ]
  },
  {
   "cell_type": "code",
   "execution_count": null,
   "id": "e7005821",
   "metadata": {},
   "outputs": [],
   "source": [
    "sales_dates.loc[sales_dates.StringID=='218','dteSeasonalOpenDate']='2023-02-12'\n",
    "sales_dates.loc[sales_dates.StringID=='218','dteSeasonalCloseDate']='2023-10-15'"
   ]
  },
  {
   "cell_type": "code",
   "execution_count": null,
   "id": "62b0675f",
   "metadata": {},
   "outputs": [],
   "source": [
    "# sales_dates['Open_Status']=np.where(sales_dates['dteSeasonalCloseDate']>=pd.to_datetime(date.today()),'Open',np.where(sales_dates['dteSeasonalCloseDate']<pd.to_datetime(date.today()),'Close',\n",
    "#          np.where(pd.to_datetime(date.today())>=sales_dates['dteSeasonalOpenDate'],'Open','Close')))"
   ]
  },
  {
   "cell_type": "code",
   "execution_count": null,
   "id": "c8a39ae3",
   "metadata": {},
   "outputs": [],
   "source": [
    "sales_dates['Open_Status']=np.where((pd.to_datetime(date.today())<=sales_dates['dteSeasonalCloseDate'])&(\n",
    "    pd.to_datetime(date.today())>=sales_dates['dteSeasonalOpenDate']),'Open',\n",
    "        np.where((pd.to_datetime(date.today())>sales_dates['dteSeasonalCloseDate'])|(\n",
    "            pd.to_datetime(date.today())<sales_dates['dteSeasonalOpenDate']),'Close','Open'))\n",
    "# Creates the logic to determine if shop is open or closed"
   ]
  },
  {
   "cell_type": "code",
   "execution_count": null,
   "id": "17ae37a4",
   "metadata": {},
   "outputs": [],
   "source": [
    "sales_dates.loc[sales_dates.StringID=='1276','Open_Status']='Close'\n",
    "sales_dates.loc[sales_dates.StringID=='1432','Open_Status']='Close'"
   ]
  },
  {
   "cell_type": "code",
   "execution_count": null,
   "id": "3b63d774",
   "metadata": {},
   "outputs": [],
   "source": [
    "sales_dates=sales_dates.iloc[:,np.r_[0,1,2,-3,-2,-1,3:len(sales_dates.columns)-3]]# Rearranges the Columns"
   ]
  },
  {
   "cell_type": "code",
   "execution_count": null,
   "id": "7018a1c8",
   "metadata": {},
   "outputs": [],
   "source": [
    "sales_dates.loc[sales_dates.StringID=='858','Open_Status']='Close'"
   ]
  },
  {
   "cell_type": "markdown",
   "id": "818582f1",
   "metadata": {},
   "source": [
    "# For Shops that Have Opened in the Past Two Years"
   ]
  },
  {
   "cell_type": "code",
   "execution_count": null,
   "id": "d093e23f",
   "metadata": {},
   "outputs": [],
   "source": [
    "# Reads in the Weekly Sales in 2022\n",
    "data_5=pd.read_sql_query('''SELECT *\n",
    "  FROM [ritas_bi].[dbo].[tmp_raw_plda]\n",
    "  WHERE YEAR(StartDate)=2022''',connection)"
   ]
  },
  {
   "cell_type": "code",
   "execution_count": null,
   "id": "3c778f7f",
   "metadata": {},
   "outputs": [],
   "source": [
    "data_5['Year']=data_5.StartDate.dt.year\n",
    "data_5['Month_Name']=data_5.StartDate.dt.strftime('%b')\n",
    "filter_22=data_5[data_5.Year==2022]"
   ]
  },
  {
   "cell_type": "code",
   "execution_count": null,
   "id": "65b654fc",
   "metadata": {},
   "outputs": [],
   "source": [
    "filter_23=total[total.Year==2023]"
   ]
  },
  {
   "cell_type": "code",
   "execution_count": null,
   "id": "1a5a640a",
   "metadata": {},
   "outputs": [],
   "source": [
    "filtered=pd.concat([filter_22,filter_23])"
   ]
  },
  {
   "cell_type": "code",
   "execution_count": null,
   "id": "585c1d99",
   "metadata": {},
   "outputs": [],
   "source": [
    "filtered[filtered.ProductTypeName.str.contains('Catering')].SalesMny.sum()"
   ]
  },
  {
   "cell_type": "code",
   "execution_count": null,
   "id": "8dd4fa36",
   "metadata": {},
   "outputs": [],
   "source": [
    "filter_group=filtered.groupby(['ShopID','ShopName','State','SpecialVenue','Year','Month_Name'])['SalesMny'].sum().reset_index()\n",
    "filter_group.Month_Name.unique()"
   ]
  },
  {
   "cell_type": "code",
   "execution_count": null,
   "id": "2387b4df",
   "metadata": {},
   "outputs": [],
   "source": [
    "filter_group[filter_group.ShopID==1492]"
   ]
  },
  {
   "cell_type": "code",
   "execution_count": null,
   "id": "0a295e9e",
   "metadata": {},
   "outputs": [],
   "source": [
    "gc.rename(columns={'intRitasStoreID':'ShopID','vchStoreName':'ShopName','vchValue':'Guest_Count'},inplace=True)"
   ]
  },
  {
   "cell_type": "code",
   "execution_count": null,
   "id": "85d11f0c",
   "metadata": {},
   "outputs": [],
   "source": [
    "gc['Month_Name']=gc.dteDate.dt.strftime('%b')"
   ]
  },
  {
   "cell_type": "code",
   "execution_count": null,
   "id": "f25bc0c3",
   "metadata": {},
   "outputs": [],
   "source": [
    "gc_group=gc.groupby(['ShopID','Year','Month_Name'])[['Guest_Count','dteOpenDate']].agg({'Guest_Count':'sum',\n",
    "                                                                                             'dteOpenDate':'max'}).reset_index()"
   ]
  },
  {
   "cell_type": "code",
   "execution_count": null,
   "id": "62be78e4",
   "metadata": {},
   "outputs": [],
   "source": [
    "gc_group"
   ]
  },
  {
   "cell_type": "code",
   "execution_count": null,
   "id": "2819e538",
   "metadata": {},
   "outputs": [],
   "source": [
    "# filter_group=filtered.groupby(['ShopID','ShopName','LegacyShopType','SpecialVenue','Year','Month','State','Month_Name'])['SalesMny'].sum().reset_index()"
   ]
  },
  {
   "cell_type": "code",
   "execution_count": null,
   "id": "f1cd9308",
   "metadata": {
    "scrolled": true
   },
   "outputs": [],
   "source": [
    "combined=pd.merge(filter_group,gc_group[['ShopID','Year','Guest_Count','dteOpenDate','Month_Name']],on=['ShopID','Year','Month_Name'],how='left')\n",
    "combined"
   ]
  },
  {
   "cell_type": "code",
   "execution_count": null,
   "id": "6349bb79",
   "metadata": {},
   "outputs": [],
   "source": [
    "combined[combined.ShopID==1534]"
   ]
  },
  {
   "cell_type": "code",
   "execution_count": null,
   "id": "9c253010",
   "metadata": {},
   "outputs": [],
   "source": [
    "combined.loc[combined.ShopID==1534,'dteOpenDate']='2023-06-27'\n",
    "combined.loc[combined.ShopID==1534,'SpecialVenue']='No'\n",
    "combined.loc[combined.ShopID==1534,'ShopName']='Sea World CA'"
   ]
  },
  {
   "cell_type": "code",
   "execution_count": null,
   "id": "419817ac",
   "metadata": {},
   "outputs": [],
   "source": [
    "combined.loc[combined.ShopID==31360,'dteOpenDate']='2023-04-15'"
   ]
  },
  {
   "cell_type": "code",
   "execution_count": null,
   "id": "f061ff51",
   "metadata": {},
   "outputs": [],
   "source": [
    "combined.loc[combined.ShopID==160,'dteOpenDate']='2023-06-28'"
   ]
  },
  {
   "cell_type": "code",
   "execution_count": null,
   "id": "eb297cfd",
   "metadata": {},
   "outputs": [],
   "source": [
    "combined.loc[combined.ShopID==32,'dteOpenDate']='2023-05-05'"
   ]
  },
  {
   "cell_type": "code",
   "execution_count": null,
   "id": "7bb446a2",
   "metadata": {},
   "outputs": [],
   "source": [
    "combined.loc[combined.ShopID==445,'dteOpenDate']='2023-04-12'"
   ]
  },
  {
   "cell_type": "code",
   "execution_count": null,
   "id": "c378b42c",
   "metadata": {},
   "outputs": [],
   "source": [
    "combined.loc[combined.ShopID==835,'dteOpenDate']='2022-10-28'"
   ]
  },
  {
   "cell_type": "code",
   "execution_count": null,
   "id": "156be2a4",
   "metadata": {},
   "outputs": [],
   "source": [
    "combined.loc[combined.ShopID==1519,'dteOpenDate']='2023-08-03'"
   ]
  },
  {
   "cell_type": "code",
   "execution_count": null,
   "id": "43a69654",
   "metadata": {},
   "outputs": [],
   "source": [
    "combined.loc[combined.ShopID==10374,'dteOpenDate']='2023-09-09'"
   ]
  },
  {
   "cell_type": "code",
   "execution_count": null,
   "id": "827856fa",
   "metadata": {},
   "outputs": [],
   "source": [
    "combined.loc[combined.ShopID==1492,'dteOpenDate']='2022-04-08'"
   ]
  },
  {
   "cell_type": "code",
   "execution_count": null,
   "id": "7e6fb843",
   "metadata": {},
   "outputs": [],
   "source": [
    "combined.loc[combined.ShopID==325,'dteOpenDate']='2023-12-20'"
   ]
  },
  {
   "cell_type": "code",
   "execution_count": null,
   "id": "ce106948",
   "metadata": {},
   "outputs": [],
   "source": [
    "combined.loc[combined.ShopID==1234,'dteOpenDate']='2023-12-20'"
   ]
  },
  {
   "cell_type": "code",
   "execution_count": null,
   "id": "f34b530c",
   "metadata": {},
   "outputs": [],
   "source": [
    "#Changes the Opening Date for Store 160\n",
    "# combined.at[1563,'dteOpenDate']='2023-06-28'"
   ]
  },
  {
   "cell_type": "code",
   "execution_count": null,
   "id": "5d3cd03b",
   "metadata": {},
   "outputs": [],
   "source": [
    "combined.info()"
   ]
  },
  {
   "cell_type": "code",
   "execution_count": null,
   "id": "d0f77f48",
   "metadata": {},
   "outputs": [],
   "source": [
    "# combined.to_excel('All Shops.xlsx',index=False)"
   ]
  },
  {
   "cell_type": "code",
   "execution_count": null,
   "id": "07363b45",
   "metadata": {},
   "outputs": [],
   "source": [
    "\n",
    "all_pivot=filter_group.pivot_table(index='Year',\n",
    "                     columns=['ShopID','Month_Name'],values='SalesMny',aggfunc='sum',fill_value=0)"
   ]
  },
  {
   "cell_type": "code",
   "execution_count": null,
   "id": "bd731533",
   "metadata": {},
   "outputs": [],
   "source": [
    "all_pivot"
   ]
  },
  {
   "cell_type": "code",
   "execution_count": null,
   "id": "24a7d41f",
   "metadata": {},
   "outputs": [],
   "source": [
    "new_shops=combined[combined.dteOpenDate>=np.datetime64(date.today()-timedelta(days=730))]"
   ]
  },
  {
   "cell_type": "code",
   "execution_count": null,
   "id": "fdbfffc5",
   "metadata": {},
   "outputs": [],
   "source": [
    "# new_shop_pivot=new_shops.pivot_table(index=['ShopID','LegacyShopType','State','dteOpenDate'],\n",
    "#                       columns=['Month_Name','Year'],values=['SalesMny','Guest_Count'],\n",
    "#                       aggfunc='sum',fill_value=0).reset_index()"
   ]
  },
  {
   "cell_type": "code",
   "execution_count": null,
   "id": "e57825fe",
   "metadata": {},
   "outputs": [],
   "source": [
    "new_shop_pivot=new_shops.pivot_table(index=['ShopID','ShopName','State','dteOpenDate','Year'],\n",
    "                      columns='Month_Name',values='SalesMny',\n",
    "                      aggfunc='sum',fill_value=0)"
   ]
  },
  {
   "cell_type": "code",
   "execution_count": null,
   "id": "15a37097",
   "metadata": {},
   "outputs": [],
   "source": [
    "new_shop_pivot"
   ]
  },
  {
   "cell_type": "code",
   "execution_count": null,
   "id": "b2759bae",
   "metadata": {},
   "outputs": [],
   "source": [
    "columns=['Jan','Feb','Mar','Apr','May','Jun','Jul','Aug','Sep','Oct','Nov','Dec']\n",
    "new_shop_pivot.columns"
   ]
  },
  {
   "cell_type": "code",
   "execution_count": null,
   "id": "0edcfabf",
   "metadata": {
    "scrolled": false
   },
   "outputs": [],
   "source": [
    "monthly=new_shop_pivot.reindex(columns, axis=1)"
   ]
  },
  {
   "cell_type": "code",
   "execution_count": null,
   "id": "fb68433a",
   "metadata": {},
   "outputs": [],
   "source": [
    "monthly"
   ]
  },
  {
   "cell_type": "code",
   "execution_count": null,
   "id": "acde87dc",
   "metadata": {},
   "outputs": [],
   "source": [
    "monthly['Totals']=monthly[columns].sum(axis=1)"
   ]
  },
  {
   "cell_type": "code",
   "execution_count": null,
   "id": "025f2248",
   "metadata": {},
   "outputs": [],
   "source": [
    "monthly=monthly.reset_index()\n",
    "monthly=monthly[(monthly.dteOpenDate.dt.year<=2022)&(monthly.ShopID<10000)]\n",
    "monthly.sort_values(by=['dteOpenDate','Year'],ascending=[False,True],inplace=True)"
   ]
  },
  {
   "cell_type": "code",
   "execution_count": null,
   "id": "f798bd1e",
   "metadata": {},
   "outputs": [],
   "source": [
    "monthly"
   ]
  },
  {
   "cell_type": "code",
   "execution_count": null,
   "id": "49a51f51",
   "metadata": {},
   "outputs": [],
   "source": [
    "data.StartDate.max().month\n",
    "data.StartDate.max()"
   ]
  },
  {
   "cell_type": "code",
   "execution_count": null,
   "id": "1d493973",
   "metadata": {},
   "outputs": [],
   "source": [
    "new_shops_df=new_shops.pivot_table(index=['ShopID','ShopName','SpecialVenue','dteOpenDate']\n",
    "                      ,columns='Year',values='SalesMny',aggfunc='sum',fill_value=0).reset_index()\n",
    "new_shops_df['%_Change']=new_shops_df.iloc[:,-1]/new_shops_df.iloc[:,4]-1"
   ]
  },
  {
   "cell_type": "code",
   "execution_count": null,
   "id": "c46025a2",
   "metadata": {},
   "outputs": [],
   "source": [
    "new_shops_df['%_Change'].replace(np.inf,0,inplace=True)"
   ]
  },
  {
   "cell_type": "code",
   "execution_count": null,
   "id": "3e222319",
   "metadata": {},
   "outputs": [],
   "source": [
    "new_shops_df.columns=new_shops_df.columns.astype('str')"
   ]
  },
  {
   "cell_type": "code",
   "execution_count": null,
   "id": "1fb3fab1",
   "metadata": {},
   "outputs": [],
   "source": [
    "new_shops_df.sort_values('dteOpenDate',ascending=False)"
   ]
  },
  {
   "cell_type": "code",
   "execution_count": null,
   "id": "36799b77",
   "metadata": {},
   "outputs": [],
   "source": [
    "filter_df=new_shops_df[(new_shops_df['2022']>0)&(new_shops_df['2023']>0)]"
   ]
  },
  {
   "cell_type": "code",
   "execution_count": null,
   "id": "5c46e521",
   "metadata": {},
   "outputs": [],
   "source": [
    "new_shop_list=list(new_shops_df.ShopID.unique())"
   ]
  },
  {
   "cell_type": "code",
   "execution_count": null,
   "id": "feb487b4",
   "metadata": {},
   "outputs": [],
   "source": [
    "pd.merge(total[(total.ShopID.isin(new_shop_list))&(total.Week>=total.Week.max()-4)].groupby([\n",
    "    'ShopID','ShopName','State','SpecialVenue','Year'\n",
    "])['SalesMny'].sum().reset_index(),\n",
    "         gc_group[['ShopID','Year','dteOpenDate']],on=['ShopID','Year'],how='left').drop_duplicates(keep='first').set_index('Year')"
   ]
  },
  {
   "cell_type": "code",
   "execution_count": null,
   "id": "d2532cac",
   "metadata": {},
   "outputs": [],
   "source": [
    "last_four=total[(total.ShopID.isin(new_shop_list))&(total.Week>=total.Week.max()-4)].groupby([\n",
    "    'ShopID','ShopName','State','SpecialVenue','Year'\n",
    "])['SalesMny'].sum().unstack('Year').dropna().reset_index()"
   ]
  },
  {
   "cell_type": "code",
   "execution_count": null,
   "id": "2d577876",
   "metadata": {},
   "outputs": [],
   "source": [
    "last_four.columns"
   ]
  },
  {
   "cell_type": "code",
   "execution_count": null,
   "id": "f92fe24b",
   "metadata": {},
   "outputs": [],
   "source": [
    "last_four_df=pd.merge(last_four,gc_group[['ShopID','dteOpenDate']],on='ShopID',how='left').drop_duplicates(keep='first')\n",
    "last_four_df=last_four_df[['ShopID','ShopName','State','SpecialVenue','dteOpenDate',2022,2023]]\n",
    "last_four_df['%_Change']=last_four_df.iloc[:,-1]/last_four_df.iloc[:,-2]-1\n",
    "last_four_df"
   ]
  },
  {
   "cell_type": "code",
   "execution_count": null,
   "id": "41c25f33",
   "metadata": {},
   "outputs": [],
   "source": [
    "shop_names=total.groupby('ShopID')['ShopName'].unique().reset_index()"
   ]
  },
  {
   "cell_type": "markdown",
   "id": "5a045772",
   "metadata": {},
   "source": [
    "# Product Mix"
   ]
  },
  {
   "cell_type": "code",
   "execution_count": null,
   "id": "e7b6aac5",
   "metadata": {},
   "outputs": [],
   "source": [
    "data.info()"
   ]
  },
  {
   "cell_type": "code",
   "execution_count": null,
   "id": "1e2277a6",
   "metadata": {},
   "outputs": [],
   "source": [
    "pmix=data.pivot_table(index='ProductTypeName',values=['SalesMny','SalesQty'],aggfunc='sum').reset_index()\n",
    "sales_total=data.SalesMny.sum()\n",
    "qty_total=data.SalesQty.sum()\n",
    "pmix['Sales%']=pmix.SalesMny/sales_total\n",
    "pmix['Qty%']=pmix.SalesQty/qty_total"
   ]
  },
  {
   "cell_type": "code",
   "execution_count": null,
   "id": "28a4c5b6",
   "metadata": {},
   "outputs": [],
   "source": [
    "# data[data.ShopID==shop].groupby(['ProductTypeName','ProductSizeName'])[['SalesMny','SalesQty']].sum().reset_index().sort_values(by=['ProductTypeName','SalesMny'],\n",
    "#                                                                                                                   ascending=False)\n"
   ]
  },
  {
   "cell_type": "code",
   "execution_count": null,
   "id": "9a2bad37",
   "metadata": {},
   "outputs": [],
   "source": [
    "# shop=836\n",
    "# pmix_item=data[data.ShopID==shop].pivot_table(index='ProductSizeName',values=['SalesMny','SalesQty'],aggfunc='sum').reset_index()\n",
    "# pmix_item['Sales%']=pmix_item.SalesMny/data[data.ShopID==shop].SalesMny.sum()\n",
    "# pmix_item['Qty%']=pmix_item.SalesQty/data[data.ShopID==shop].SalesQty.sum()\n",
    "# pmix_item.to_excel('Pmix Shop '+str(shop)+'.xlsx',index=False)"
   ]
  },
  {
   "cell_type": "code",
   "execution_count": null,
   "id": "a93b99d6",
   "metadata": {},
   "outputs": [],
   "source": [
    "pmix_item=data.pivot_table(index='ProductSizeName',values=['SalesMny','SalesQty'],aggfunc='sum').reset_index()\n",
    "pmix_item['Sales%']=pmix_item.SalesMny/sales_total\n",
    "pmix_item['Qty%']=pmix_item.SalesQty/qty_total"
   ]
  },
  {
   "cell_type": "code",
   "execution_count": null,
   "id": "61b60f7a",
   "metadata": {},
   "outputs": [],
   "source": [
    "week_pmix=data[data.Week==data.Week.max()].pivot_table(index='ProductTypeName',values=['SalesMny','SalesQty'],aggfunc='sum').reset_index()\n",
    "week_sales_total=data[data.Week==data.Week.max()].SalesMny.sum()\n",
    "week_qty_total=data[data.Week==data.Week.max()].SalesQty.sum()\n",
    "week_pmix['Sales%']=week_pmix.SalesMny/week_sales_total\n",
    "week_pmix['Qty%']=week_pmix.SalesQty/week_qty_total"
   ]
  },
  {
   "cell_type": "code",
   "execution_count": null,
   "id": "9295edcb",
   "metadata": {},
   "outputs": [],
   "source": [
    "week_pmix_item=data[data.Week==data.Week.max()].pivot_table(index='ProductSizeName',values=['SalesMny','SalesQty'],aggfunc='sum').reset_index()\n",
    "week_pmix_item['Sales%']=week_pmix_item.SalesMny/week_sales_total\n",
    "week_pmix_item['Qty%']=week_pmix_item.SalesQty/week_qty_total"
   ]
  },
  {
   "cell_type": "code",
   "execution_count": null,
   "id": "acc7238b",
   "metadata": {},
   "outputs": [],
   "source": [
    "week_pmix_item"
   ]
  },
  {
   "cell_type": "code",
   "execution_count": null,
   "id": "6cbb43ec",
   "metadata": {},
   "outputs": [],
   "source": [
    "# pmix_items=pmix_item.style.format({\n",
    "#     'SalesMny':'{:,.2f}'.format,\n",
    "#     'SalesQty':'{:,.2f}'.format,\n",
    "#     'Sales%':'{:,.2%}'.format,\n",
    "#     'Qty%':'{:,.2%}'.format\n",
    "# })"
   ]
  },
  {
   "cell_type": "code",
   "execution_count": null,
   "id": "41230374",
   "metadata": {},
   "outputs": [],
   "source": [
    "# pmix_cat=pmix.style.format({\n",
    "#     'SalesMny':'{:,.2f}'.format,\n",
    "#     'SalesQty':'{:,.2f}'.format,\n",
    "#     'Sales%':'{:,.2%}'.format,\n",
    "#     'Qty%':'{:,.2%}'.format\n",
    "# })\n",
    "# pmix_cat"
   ]
  },
  {
   "cell_type": "code",
   "execution_count": null,
   "id": "ed541aa2",
   "metadata": {},
   "outputs": [],
   "source": [
    "weekly_index=data.set_index('StartDate').resample('W').agg({'SalesMny':'sum','SalesQty':'sum','StringID':'nunique'})\n",
    "weekly_index['Qty/Shops']=round(weekly_index['SalesQty']/weekly_index['StringID']/7,0)\n",
    "weekly_index.rename(columns={'StringID':'Number_Stores','Qty/Shops':'Avg_Daily_Qty/Shops'},inplace=True)\n",
    "weekly_index=weekly_index[['Number_Stores','SalesMny','SalesQty','Avg_Daily_Qty/Shops']]"
   ]
  },
  {
   "cell_type": "code",
   "execution_count": null,
   "id": "013a9ee1",
   "metadata": {},
   "outputs": [],
   "source": [
    "data.groupby('ProductTypeName').resample('W',on='StartDate').agg({'SalesMny':'sum','SalesQty':'sum','StringID':'nunique'})"
   ]
  },
  {
   "cell_type": "code",
   "execution_count": null,
   "id": "0ace84cf",
   "metadata": {},
   "outputs": [],
   "source": [
    "# weekly_index.plot(y='Qty/Shops',use_index=True,figsize=(20,10))"
   ]
  },
  {
   "cell_type": "markdown",
   "id": "ef2b8370",
   "metadata": {},
   "source": [
    "# Total Sales and Guest Count By Month"
   ]
  },
  {
   "cell_type": "code",
   "execution_count": null,
   "id": "1e9cc9a3",
   "metadata": {},
   "outputs": [],
   "source": [
    "filtered.CoOpName.unique()"
   ]
  },
  {
   "cell_type": "code",
   "execution_count": null,
   "id": "bd39c6ca",
   "metadata": {},
   "outputs": [],
   "source": [
    "monthly_sales=round(filtered.pivot_table(index='Month_Name',columns='Year',values='SalesMny',aggfunc='sum',fill_value=0),2)\n",
    "monthly_sales=monthly_sales.reindex(columns)\n",
    "monthly_sales['%_Change']=monthly_sales.iloc[:,1]/monthly_sales.iloc[:,0]-1\n",
    "monthly_sales"
   ]
  },
  {
   "cell_type": "code",
   "execution_count": null,
   "id": "0a1ff57e",
   "metadata": {},
   "outputs": [],
   "source": [
    "filtered[filtered.Year==2023].SalesMny.sum()"
   ]
  },
  {
   "cell_type": "code",
   "execution_count": null,
   "id": "dc3b112e",
   "metadata": {},
   "outputs": [],
   "source": [
    "# # Queries the tables from SQL\n",
    "# # Reads in the Daily Sales from 2023\n",
    "# daily_sales=pd.read_sql_query('''SELECT * FROM [dbo].[smartDailySales] WHERE YEAR(dteDate)>=2022''',connection)"
   ]
  },
  {
   "cell_type": "code",
   "execution_count": null,
   "id": "bb01fd2e",
   "metadata": {},
   "outputs": [],
   "source": [
    "# daily_sales['Month_Name']=daily_sales.dteDate.dt.strftime('%b')\n",
    "# daily_sales['Year']=daily_sales.dteDate.dt.year\n",
    "# daily_sales_piv=round(daily_sales.pivot_table(index='Month_Name',columns='Year',values='mnyPosSales',aggfunc='sum',fill_value=0),2)\n",
    "# daily_sales_piv=daily_sales_piv.reindex(columns)\n",
    "# daily_sales_piv['%_Change']=daily_sales_piv.iloc[:,1]/daily_sales_piv.iloc[:,0]-1\n",
    "# daily_sales_piv"
   ]
  },
  {
   "cell_type": "code",
   "execution_count": null,
   "id": "a6054ca3",
   "metadata": {},
   "outputs": [],
   "source": [
    "gc_new=gc.pivot_table(index='Month_Name',columns='Year',values='Guest_Count',aggfunc='sum',fill_value=0)\n",
    "gc_new=gc_new.reindex(['Jan','Feb','Mar','Apr','May','Jun','Jul','Aug','Sep','Oct','Nov','Dec'])\n",
    "gc_new['%_Change']=gc_new.iloc[:,1]/gc_new.iloc[:,0]-1\n",
    "gc_new"
   ]
  },
  {
   "cell_type": "code",
   "execution_count": null,
   "id": "fe76193f",
   "metadata": {},
   "outputs": [],
   "source": [
    "# gc.set_index('dteDate').groupby(['Year','ShopID']).resample('W').agg({'Guest_Count':'sum'}).reset_index().to_excel('Test w Shops.xlsx',index=False)"
   ]
  },
  {
   "cell_type": "code",
   "execution_count": null,
   "id": "06459c8d",
   "metadata": {},
   "outputs": [],
   "source": [
    "# gc[(gc.Year==2023)&(gc.dteDate<='2023-07-09')].groupby('ShopID')['Guest_Count'].sum().reset_index().to_excel('Test Groupby.xlsx',index=False)"
   ]
  },
  {
   "cell_type": "code",
   "execution_count": null,
   "id": "a161f4ce",
   "metadata": {},
   "outputs": [],
   "source": [
    "merged=pd.merge(monthly_sales,gc_new, on='Month_Name',how='left')\n",
    "merged=merged.iloc[:,[1,0,2,4,3,5]]"
   ]
  },
  {
   "cell_type": "markdown",
   "id": "bc138dae",
   "metadata": {},
   "source": [
    "# Weekly Sales and Guest Comp\n"
   ]
  },
  {
   "cell_type": "code",
   "execution_count": null,
   "id": "cb584b89",
   "metadata": {},
   "outputs": [],
   "source": [
    "weekly_piv=total.pivot_table(index=['ShopID','Week'],columns='Year',values='SalesMny',aggfunc='sum',fill_value=0).reset_index()\n",
    "weekly_piv"
   ]
  },
  {
   "cell_type": "code",
   "execution_count": null,
   "id": "9902e0fa",
   "metadata": {},
   "outputs": [],
   "source": [
    "weekly_piv[(weekly_piv.Week==52)&(weekly_piv[2023]>0)&(weekly_piv[2022]>0)].sum(axis=0)"
   ]
  },
  {
   "cell_type": "code",
   "execution_count": null,
   "id": "59e64d2a",
   "metadata": {},
   "outputs": [],
   "source": [
    "total.pivot_table(index=['ShopID','Week',pd.Grouper(key='StartDate',freq='W')],columns='Year',values='SalesMny',aggfunc='sum',fill_value=0).reset_index()"
   ]
  },
  {
   "cell_type": "code",
   "execution_count": null,
   "id": "d36abcde",
   "metadata": {},
   "outputs": [],
   "source": [
    "comp_shops=weekly_piv[(weekly_piv[2022]>0)&(weekly_piv[2023]>0)].ShopID.unique()\n",
    "len(comp_shops)"
   ]
  },
  {
   "cell_type": "code",
   "execution_count": null,
   "id": "0847d304",
   "metadata": {},
   "outputs": [],
   "source": [
    "weekly_piv[(weekly_piv[2022]>0)&(weekly_piv[2023]>0)].sum(axis=0)"
   ]
  },
  {
   "cell_type": "code",
   "execution_count": null,
   "id": "c0c3c8a7",
   "metadata": {},
   "outputs": [],
   "source": [
    "gc[gc.ShopID==127]"
   ]
  },
  {
   "cell_type": "code",
   "execution_count": null,
   "id": "4528d69e",
   "metadata": {},
   "outputs": [],
   "source": [
    "weekly_piv_dates=total.pivot_table(index=['ShopID','Week',pd.Grouper(key='StartDate',freq='W')],columns='Year',values='SalesMny',aggfunc='sum',fill_value=0).reset_index()"
   ]
  },
  {
   "cell_type": "code",
   "execution_count": null,
   "id": "172c28a6",
   "metadata": {},
   "outputs": [],
   "source": [
    "weekly_piv_dates.groupby('Week')[[2022,2023]].sum().sum()"
   ]
  },
  {
   "cell_type": "code",
   "execution_count": null,
   "id": "2aafa9be",
   "metadata": {},
   "outputs": [],
   "source": [
    "# comp_sales=weekly_piv[(weekly_piv[2022]>0)&(weekly_piv[2023]>0)]"
   ]
  },
  {
   "cell_type": "code",
   "execution_count": null,
   "id": "7406593c",
   "metadata": {},
   "outputs": [],
   "source": [
    "# filtered.groupby(['Year',pd.Grouper(key='StartDate',freq='W')])['SalesMny'].sum()"
   ]
  },
  {
   "cell_type": "code",
   "execution_count": null,
   "id": "18e210a7",
   "metadata": {},
   "outputs": [],
   "source": [
    "# filtered.pivot_table(index=pd.Grouper(key='StartDate',freq='w'),columns='Year',values='SalesMny',aggfunc='sum')"
   ]
  },
  {
   "cell_type": "code",
   "execution_count": null,
   "id": "044adac2",
   "metadata": {},
   "outputs": [],
   "source": [
    "gc_week=gc.pivot_table(index=['ShopID',pd.Grouper(key='dteDate',freq='w')],columns='Year',values='Guest_Count',aggfunc='sum').reset_index()"
   ]
  },
  {
   "cell_type": "code",
   "execution_count": null,
   "id": "16500254",
   "metadata": {},
   "outputs": [],
   "source": [
    "gc_week.rename(columns={'dteDate':'StartDate'},inplace=True)"
   ]
  },
  {
   "cell_type": "code",
   "execution_count": null,
   "id": "8e8edbc3",
   "metadata": {},
   "outputs": [],
   "source": [
    "gc_week.rename(columns={2022:'Guest_Count22',2023:'Guest_Count23'},inplace=True)"
   ]
  },
  {
   "cell_type": "code",
   "execution_count": null,
   "id": "4077bf4d",
   "metadata": {},
   "outputs": [],
   "source": [
    "gc_week"
   ]
  },
  {
   "cell_type": "code",
   "execution_count": null,
   "id": "585f7ef7",
   "metadata": {},
   "outputs": [],
   "source": [
    "weekly_sales_gc=pd.merge(weekly_piv_dates,gc_week[['ShopID','StartDate','Guest_Count22','Guest_Count23']],on=['ShopID','StartDate'],how='left').fillna(0)"
   ]
  },
  {
   "cell_type": "code",
   "execution_count": null,
   "id": "f4a4ff30",
   "metadata": {},
   "outputs": [],
   "source": [
    "weekly_sales_gc[weekly_sales_gc.Week==52]"
   ]
  },
  {
   "cell_type": "code",
   "execution_count": null,
   "id": "65ba99fe",
   "metadata": {},
   "outputs": [],
   "source": [
    "weekly_sales_gc.rename(columns={2022:'Sales_22',2023:'Sales_23'},inplace=True)"
   ]
  },
  {
   "cell_type": "code",
   "execution_count": null,
   "id": "bd21fcba",
   "metadata": {},
   "outputs": [],
   "source": [
    "round(weekly_sales_gc[weekly_sales_gc.ShopID.isin(comp_shops)].drop(['ShopID','StartDate'],axis=1).groupby(\n",
    "    'Week')[['Sales_22','Sales_23','Guest_Count22','Guest_Count23']].sum(),2)"
   ]
  },
  {
   "cell_type": "code",
   "execution_count": null,
   "id": "3e1068f4",
   "metadata": {},
   "outputs": [],
   "source": [
    "round(weekly_sales_gc[weekly_sales_gc.ShopID.isin(comp_shops)].drop(['StartDate'],axis=1).groupby(\n",
    "    'ShopID')[['Sales_22','Sales_23','Guest_Count22','Guest_Count23']].sum(),2).reset_index()"
   ]
  },
  {
   "cell_type": "markdown",
   "id": "dc0be83b",
   "metadata": {},
   "source": [
    "# For Kent Comps"
   ]
  },
  {
   "cell_type": "code",
   "execution_count": null,
   "id": "3ce2ed39",
   "metadata": {},
   "outputs": [],
   "source": [
    "new_kent=weekly_sales_gc.rename(columns={'ShopID':'Ritas ID'})"
   ]
  },
  {
   "cell_type": "code",
   "execution_count": null,
   "id": "ef8b167a",
   "metadata": {},
   "outputs": [],
   "source": [
    "new_kent"
   ]
  },
  {
   "cell_type": "code",
   "execution_count": null,
   "id": "be009e6a",
   "metadata": {},
   "outputs": [],
   "source": [
    "# kent=new_kent.merge(rename[['Ritas ID','ShopName','State','DMA','MSAName','CoOpName']],on='Ritas ID',how='left').drop_duplicates(subset=['Ritas ID','Week','StartDate'],\n",
    "#                                                                                                             keep='first')\n",
    "# kent.drop('StartDate',axis=1,inplace=True)"
   ]
  },
  {
   "cell_type": "code",
   "execution_count": null,
   "id": "7fb643e5",
   "metadata": {},
   "outputs": [],
   "source": [
    "# kent"
   ]
  },
  {
   "cell_type": "code",
   "execution_count": null,
   "id": "f10c4111",
   "metadata": {},
   "outputs": [],
   "source": [
    "# kent['Ritas ID'].nunique()\n",
    "# kent=kent[kent.Week<=39]\n",
    "# kent.CoOpName=kent.CoOpName.fillna('No')\n",
    "# kent.loc[kent['CoOpName'].str.contains('CO-OP'),'CoOp_Y/N']='Yes'\n",
    "# kent.loc[kent['CoOpName'].str.contains('No'),'CoOp_Y/N']='No'\n",
    "# kent['CoOp_Y/N']=kent['CoOp_Y/N'].fillna('No')\n",
    "# kent.to_excel('For Kent Week 39.xlsx',index=False)"
   ]
  },
  {
   "cell_type": "code",
   "execution_count": null,
   "id": "bcd37007",
   "metadata": {},
   "outputs": [],
   "source": [
    "# kent[kent.Week<=39].pivot_table(index=['Ritas ID','ShopName','State','DMA','MSAName','CoOpName'],columns='Week',\n",
    "#                                values=['Sales_22', 'Sales_23', 'Guest_Count22','Guest_Count23'],aggfunc='sum')"
   ]
  },
  {
   "cell_type": "code",
   "execution_count": null,
   "id": "20b8c78d",
   "metadata": {},
   "outputs": [],
   "source": [
    "# kent.drop('StartDate',axis=1).to_excel('For Kent.xlsx',index=False)"
   ]
  },
  {
   "cell_type": "code",
   "execution_count": null,
   "id": "9c141add",
   "metadata": {},
   "outputs": [],
   "source": [
    "#kent.Sales_23.sum()"
   ]
  },
  {
   "cell_type": "code",
   "execution_count": null,
   "id": "4c24b9ff",
   "metadata": {},
   "outputs": [],
   "source": [
    "#kent_combined=round(kent.drop(['StartDate'],axis=1).groupby(['Ritas ID','ShopName','State','State','CoOpName','DMA','MSAName','Week'])[['Sales_22','Sales_23',\n",
    "                                                                                                                    #'Guest_Count22','Guest_Count23']].sum(),2)"
   ]
  },
  {
   "cell_type": "code",
   "execution_count": null,
   "id": "01db133b",
   "metadata": {},
   "outputs": [],
   "source": [
    "#kent_combined.Sales_23.sum()"
   ]
  },
  {
   "cell_type": "code",
   "execution_count": null,
   "id": "adc59c79",
   "metadata": {},
   "outputs": [],
   "source": [
    "#kent_combined"
   ]
  },
  {
   "cell_type": "markdown",
   "id": "75678a27",
   "metadata": {},
   "source": [
    "# Sales and Guest Count by Shop"
   ]
  },
  {
   "cell_type": "code",
   "execution_count": null,
   "id": "aa55d06f",
   "metadata": {},
   "outputs": [],
   "source": [
    "exclude=[10511,11390,20096,20882,21360,31360,11360,10061,10374]\n",
    "df=total[~total.ShopID.isin(exclude)]\n",
    "satellite=total[total.ShopID.isin(exclude)]\n",
    "satellite['StringID']=satellite.ShopID.astype('int')\n",
    "df['StringID']=df.ShopID.astype('int')\n",
    "df['StringID']=df.ShopID.astype('str')\n",
    "df['StringID']=df.StringID.str[-4:]\n",
    "df['StringID']=df.StringID.astype('int')\n",
    "total_2=pd.concat([df,satellite])\n",
    "total_2.rename(columns={'StringID':'Ritas ID'},inplace=True)"
   ]
  },
  {
   "cell_type": "code",
   "execution_count": null,
   "id": "44b47857",
   "metadata": {},
   "outputs": [],
   "source": [
    "gc_last_week=gc[gc.dteDate.dt.strftime('%m-%d')<=last_week]"
   ]
  },
  {
   "cell_type": "code",
   "execution_count": null,
   "id": "e3f3b100",
   "metadata": {},
   "outputs": [],
   "source": [
    "gc_year=gc_last_week.pivot_table(index=['Ritas ID'],columns='Year',values='Guest_Count',aggfunc='sum',fill_value=0).reset_index()\n",
    "gc_year=pd.merge(gc_year,gc[['Ritas ID','ShopName']],on='Ritas ID',how='left').drop_duplicates(subset='Ritas ID',keep='last')\n",
    "gc_year"
   ]
  },
  {
   "cell_type": "code",
   "execution_count": null,
   "id": "b09aaa2a",
   "metadata": {},
   "outputs": [],
   "source": [
    "gc_year.rename(columns={2022:'Guest_Count22',2023:'Guest_Count23'},inplace=True)"
   ]
  },
  {
   "cell_type": "code",
   "execution_count": null,
   "id": "4e8bed08",
   "metadata": {},
   "outputs": [],
   "source": [
    "total_piv=total_2.pivot_table(index='Ritas ID',columns='Year',values='SalesMny',aggfunc='sum',fill_value=0)\n",
    "shop_sales_gc=pd.merge(gc_year,total_piv,on='Ritas ID',how='right')\n",
    "shop_sales_gc.rename(columns={2022:'Sales_22',2023:'Sales_23'},inplace=True)"
   ]
  },
  {
   "cell_type": "code",
   "execution_count": null,
   "id": "454ee48e",
   "metadata": {},
   "outputs": [],
   "source": [
    "shop_sales_gc.drop_duplicates(subset='Ritas ID',keep='last')"
   ]
  },
  {
   "cell_type": "code",
   "execution_count": null,
   "id": "befcbbab",
   "metadata": {},
   "outputs": [],
   "source": [
    "shop_sales_gc[['Ritas ID','ShopName','Guest_Count22','Guest_Count23','Sales_22','Sales_23']]#.to_excel('Shop Sales and Guest Count.xlsx',index=False)"
   ]
  },
  {
   "cell_type": "code",
   "execution_count": null,
   "id": "2c050968",
   "metadata": {},
   "outputs": [],
   "source": [
    "rename=data3.rename(columns={'ShopID':'Ritas ID'})"
   ]
  },
  {
   "cell_type": "code",
   "execution_count": null,
   "id": "9afaddf4",
   "metadata": {},
   "outputs": [],
   "source": [
    "shop_sales_gc=shop_sales_gc.merge(rename[['Ritas ID','CoOpName','MSAName','DMA']],on='Ritas ID',how='left').drop_duplicates(subset='Ritas ID',\n",
    "                                                                                                             keep='first')"
   ]
  },
  {
   "cell_type": "code",
   "execution_count": null,
   "id": "56eeff13",
   "metadata": {},
   "outputs": [],
   "source": [
    "shop_sales_gc.head()"
   ]
  },
  {
   "cell_type": "code",
   "execution_count": null,
   "id": "040e6e34",
   "metadata": {},
   "outputs": [],
   "source": [
    "shop_sales_gc=shop_sales_gc.iloc[:,[0,3,6,7,8,1,2,4,5]]"
   ]
  },
  {
   "cell_type": "code",
   "execution_count": null,
   "id": "7b3daa12",
   "metadata": {},
   "outputs": [],
   "source": [
    "writer=pd.ExcelWriter('Week '+str(data.Week.max())+' Sales Summary.xlsx')\n",
    "pd3.to_excel(writer,sheet_name='3PD Sales By Year')\n",
    "pd3_platform.to_excel(writer,sheet_name='3PD by Platform')\n",
    "sales_year.to_excel(writer, sheet_name='Sales By Year')\n",
    "pivot.to_excel(writer, sheet_name='Weekly AVG',index=False)\n",
    "sales_dates.to_excel(writer,sheet_name='Weekly Sales',index=False)\n",
    "resampled_pivot.to_excel(writer,sheet_name='Guest Count by Week')\n",
    "shop_sales_gc.to_excel(writer,sheet_name='Sales and GC by Shop',index=False)\n",
    "writer.close()\n",
    "writer2=pd.ExcelWriter('New Shops Comp for '+str(data.Year.max())+' Week '+str(data.Week.max())+' v2.xlsx')\n",
    "new_shops_df.sort_values('dteOpenDate',ascending=False).reset_index().to_excel(writer2, sheet_name='YTD',index=False)\n",
    "monthly.sort_values(by=['ShopID','dteOpenDate'],ascending=True).to_excel(writer2,sheet_name='Month by Month',index=False)\n",
    "last_four_df.sort_values('%_Change',ascending=False).head(5).to_excel(writer2,sheet_name='Top 5 % Change',index=False)\n",
    "last_four_df.sort_values('%_Change',ascending=False).tail(5).to_excel(writer2,sheet_name='Bottom 5 % Change',index=False)\n",
    "last_four_df.sort_values(2023,ascending=False).head(5).to_excel(writer2,sheet_name='Top 5 in Sales',index=False)\n",
    "last_four_df.sort_values(2023,ascending=False).tail(5).to_excel(writer2,sheet_name='Bottom 5 in Sales',index=False)\n",
    "writer2.close()\n",
    "writer3=pd.ExcelWriter('2023 Week '+str(data.Week.max())+' Product Mix v2.xlsx')\n",
    "pmix.to_excel(writer3, sheet_name='YTD Category',index=False,engine='openpyxl')\n",
    "pmix_item.to_excel(writer3, sheet_name='YTD Items',index=False,engine='openpyxl')\n",
    "week_pmix.to_excel(writer3, sheet_name='Weekly Category',index=False, engine='openpyxl')\n",
    "week_pmix_item.to_excel(writer3, sheet_name='Weekly Items',index=False, engine='openpyxl')\n",
    "weekly_index.to_excel(writer3,sheet_name='Qty by Shop',engine='openpyxl')\n",
    "writer3.close()\n",
    "writer4=pd.ExcelWriter('Guest Count and Sales 22-23 v2 for Wk'+str(data.Week.max())+'.xlsx')\n",
    "merged.to_excel(writer4, sheet_name='Guest and Sales')\n",
    "writer4.close()\n",
    "writer5=pd.ExcelWriter('Comp Sales and Guest Count for Wk'+str(data.Week.max())+'.xlsx')\n",
    "weekly_sales_gc[weekly_sales_gc.ShopID.isin(comp_shops)].drop(['ShopID','StartDate'],axis=1).groupby(\n",
    "    'Week')[['Sales_22','Sales_23','Guest_Count22','Guest_Count23']].sum().to_excel(writer5, sheet_name='Comps')\n",
    "writer5.close()\n",
    "pay_type.to_excel('Payments Wk'+str(data.Week.max())+'.xlsx',index=False)\n",
    "writer8=pd.ExcelWriter('YoY Sales by Category Wk'+str(data.Week.max())+'.xlsx')\n",
    "total_sales.to_excel(writer8, sheet_name='Total Sales',index=False)\n",
    "retail_fc.to_excel(writer8, sheet_name='Retail',index=False)\n",
    "catering_fc.to_excel(writer8, sheet_name='Catering',index=False)\n",
    "mobile_fc.to_excel(writer8,sheet_name='Mobile',index=False)\n",
    "delivery_fc.to_excel(writer8, sheet_name='Delivery',index=False)\n",
    "writer8.close()"
   ]
  },
  {
   "cell_type": "markdown",
   "id": "fb022305",
   "metadata": {},
   "source": [
    "# Pricing Solutions 2023"
   ]
  },
  {
   "cell_type": "code",
   "execution_count": null,
   "id": "61145d3f",
   "metadata": {},
   "outputs": [],
   "source": [
    "# psl_prod=data.groupby('ProductSizeName')[['SalesMny','SalesQty']].sum().reset_index()\n",
    "# psl_prod['Avg Price']=round(psl_prod['SalesMny']/psl_prod['SalesQty'],2)\n",
    "# psl_prod"
   ]
  },
  {
   "cell_type": "code",
   "execution_count": null,
   "id": "244e4578",
   "metadata": {},
   "outputs": [],
   "source": [
    "# psl_shop=data.groupby(['StringID','ProductSizeName'])[['SalesMny','SalesQty']].sum().reset_index()\n",
    "# psl_shop['Avg_Price']=round(psl_shop['SalesMny']/psl_shop['SalesQty'],2)\n",
    "# psl_shop"
   ]
  },
  {
   "cell_type": "code",
   "execution_count": null,
   "id": "cd1f938e",
   "metadata": {},
   "outputs": [],
   "source": [
    "# product_list=data[['ProductSizeName','ProductCode','ProdSizeCode']].drop_duplicates(keep='first')"
   ]
  },
  {
   "cell_type": "code",
   "execution_count": null,
   "id": "430b6890",
   "metadata": {},
   "outputs": [],
   "source": [
    "# shop_sales_week=data.pivot_table(index=['StringID','ProductTypeName','ProductSizeName'],columns=pd.Grouper(key='StartDate',freq='W'),\n",
    "#                  values=['SalesMny'],aggfunc='sum',fill_value=0)"
   ]
  },
  {
   "cell_type": "code",
   "execution_count": null,
   "id": "fd73eb15",
   "metadata": {},
   "outputs": [],
   "source": [
    "# shop_qty_week=data.pivot_table(index=['StringID','ProductTypeName','ProductSizeName'],columns=pd.Grouper(key='StartDate',freq='W'),\n",
    "#                  values=['SalesQty'],aggfunc='sum',fill_value=0)"
   ]
  },
  {
   "cell_type": "code",
   "execution_count": null,
   "id": "29a5c3f4",
   "metadata": {},
   "outputs": [],
   "source": [
    "# sales_week=data.pivot_table(index=['ProductTypeName','ProductSizeName'],columns=pd.Grouper(key='StartDate',freq='W'),\n",
    "#                  values=['SalesMny'],aggfunc='sum',fill_value=0)"
   ]
  },
  {
   "cell_type": "code",
   "execution_count": null,
   "id": "029b1c3a",
   "metadata": {},
   "outputs": [],
   "source": [
    "# qty_week=data.pivot_table(index=['ProductTypeName','ProductSizeName'],columns=pd.Grouper(key='StartDate',freq='W'),\n",
    "#                  values=['SalesQty'],aggfunc='sum',fill_value=0)"
   ]
  },
  {
   "cell_type": "code",
   "execution_count": null,
   "id": "6fb7d9dd",
   "metadata": {},
   "outputs": [],
   "source": [
    "# open_dates=combined[['ShopID','dteOpenDate']].drop_duplicates(keep='last').dropna()"
   ]
  },
  {
   "cell_type": "code",
   "execution_count": null,
   "id": "fe21d96d",
   "metadata": {},
   "outputs": [],
   "source": [
    "# writer7=pd.ExcelWriter('PSL '+str(data.EndDate.max().strftime('%Y-%m-%d'))+'.xlsx')\n",
    "# sales_week.to_excel(writer7,sheet_name='Sales Week')\n",
    "# qty_week.to_excel(writer7, sheet_name='Qty Week')\n",
    "# shop_sales_week.to_excel(writer7, sheet_name='Shop Sales by Week')\n",
    "# shop_qty_week.to_excel(writer7, sheet_name='Shop Qty by Week')\n",
    "# open_dates.to_excel(writer7, sheet_name='Open Dates',index=False)\n",
    "# writer7.save()\n",
    "# writer7.close()"
   ]
  },
  {
   "cell_type": "code",
   "execution_count": null,
   "id": "8593f3d5",
   "metadata": {},
   "outputs": [],
   "source": [
    "# writer6=pd.ExcelWriter('PSL 2023 8.18.2023.xlsx')\n",
    "# psl_prod.to_excel(writer6, sheet_name='Avg Product Price',index=False)\n",
    "# psl_shop.to_excel(writer6, sheet_name='Retail Price by Shop',index=False)\n",
    "# product_list.to_excel(writer6,sheet_name='Product List',index=False)\n",
    "# writer6.save()\n",
    "# writer6.close()"
   ]
  },
  {
   "cell_type": "markdown",
   "id": "9f65ab73",
   "metadata": {},
   "source": [
    "# For Kent an Natalie Philly Co-Op Weekly Sales and Guest Count"
   ]
  },
  {
   "cell_type": "code",
   "execution_count": null,
   "id": "80698f89",
   "metadata": {},
   "outputs": [],
   "source": [
    "# philly=df[(df.CoOpName=='CO-OP PH/WI/TR')&(df.CoOpStatus=='Yes')]\n",
    "\n",
    "# philly_group=philly.groupby(['StringID','EndDate','Week'])['SalesMny'].sum().reset_index()\n",
    "\n",
    "# philly_pivot=philly_group.pivot_table(index='StringID',columns='Week',values='SalesMny',aggfunc='sum',margins=True,fill_value=0).reset_index()\n"
   ]
  },
  {
   "cell_type": "code",
   "execution_count": null,
   "id": "3bde55a5",
   "metadata": {},
   "outputs": [],
   "source": [
    "# resampled.rename(columns={'Ritas ID':'StringID','dteDate':'EndDate'},inplace=True)"
   ]
  },
  {
   "cell_type": "code",
   "execution_count": null,
   "id": "991a82ec",
   "metadata": {},
   "outputs": [],
   "source": [
    "# gc_philly=pd.merge(philly_group,resampled,on=['StringID','EndDate'],how='left')"
   ]
  },
  {
   "cell_type": "code",
   "execution_count": null,
   "id": "774d0a32",
   "metadata": {},
   "outputs": [],
   "source": [
    "# gc_philly_pivot=gc_philly.pivot_table(index='StringID',columns='Week',values='vchValue',aggfunc='sum',fill_value=0,margins=True).reset_index()"
   ]
  },
  {
   "cell_type": "code",
   "execution_count": null,
   "id": "95a1225d",
   "metadata": {},
   "outputs": [],
   "source": [
    "# philly_pivot.rename(columns={'StringID':'RitasID'},inplace=True)\n",
    "# gc_philly_pivot.rename(columns={'StringID':'RitasID'},inplace=True)"
   ]
  },
  {
   "cell_type": "code",
   "execution_count": null,
   "id": "acf8f772",
   "metadata": {},
   "outputs": [],
   "source": [
    "# writer2=pd.ExcelWriter('Philly Co-Op Week '+str(data.Week.max())+' Summary.xlsx')\n",
    "# philly_pivot.to_excel(writer2, sheet_name='Weekly Sales')\n",
    "# gc_philly_pivot.to_excel(writer2, sheet_name='Weekly Guest Count')\n",
    "# writer2.close()\n",
    "# writer2.save()"
   ]
  },
  {
   "cell_type": "code",
   "execution_count": null,
   "id": "66c6eec2",
   "metadata": {},
   "outputs": [],
   "source": [
    "#round(data.groupby('Region')['SalesMny'].sum())"
   ]
  },
  {
   "cell_type": "code",
   "execution_count": null,
   "id": "ceaeba17",
   "metadata": {},
   "outputs": [],
   "source": [
    "#round(data.pivot_table(index=['StringID','Region'],values='SalesMny',aggfunc='sum'),2).reset_index().to_excel('Test(3).xlsx')"
   ]
  },
  {
   "cell_type": "code",
   "execution_count": null,
   "id": "1baff203",
   "metadata": {},
   "outputs": [],
   "source": [
    "#data[data.ProductTypeName=='3rd Party Delivery'].pivot_table(index=['StringID','Region'],columns=['ProductSizeName'],values='SalesMny',aggfunc='sum',fill_value=0).reset_index().to_excel('3PD Pivot.xlsx')"
   ]
  },
  {
   "cell_type": "code",
   "execution_count": null,
   "id": "72c8e27c",
   "metadata": {},
   "outputs": [],
   "source": [
    "#round(data.pivot_table(index=['StringID','Region'],columns='Week',values='SalesMny',aggfunc='sum',margins=True),2).reset_index().to_excel('Test(4).xlsx')"
   ]
  },
  {
   "cell_type": "code",
   "execution_count": null,
   "id": "be09f2dd",
   "metadata": {},
   "outputs": [],
   "source": [
    "#data.head()"
   ]
  },
  {
   "cell_type": "code",
   "execution_count": null,
   "id": "861b7791",
   "metadata": {},
   "outputs": [],
   "source": [
    "#comps=total.groupby(['ShopID','Year'])[['StartDate','SalesMny']].agg({'StartDate':'min','SalesMny':'sum'}).reset_index()\n",
    "#comps.Year.min()"
   ]
  },
  {
   "cell_type": "code",
   "execution_count": null,
   "id": "c94fb537",
   "metadata": {},
   "outputs": [],
   "source": [
    "#comps[comps.StartDate.dt.strftime('%m%d')<='0301'].pivot_table(\n",
    "    #index='ShopID',columns='Year',values='SalesMny',fill_value=0).reset_index().to_excel('2022-23 YTD comp by Date.xlsx',index=False)"
   ]
  },
  {
   "cell_type": "code",
   "execution_count": null,
   "id": "21311e75",
   "metadata": {},
   "outputs": [],
   "source": [
    "#total_df=total[total.ShopID!=11390]\n",
    "#altoona=total[total.ShopID==11390]\n",
    "#altoona['StringID']=altoona.ShopID.astype('int')\n",
    "#total_df['StringID']=total_df.ShopID.astype('int')\n",
    "#total_df['StringID']=total_df.ShopID.astype('str')\n",
    "#total_df['StringID']=total_df.StringID.str[-4:]\n",
    "#total_df['StringID']=total_df.StringID.astype('int')\n",
    "#total_df.StringID.unique()\n",
    "#total_df=pd.concat([total_df,altoona])"
   ]
  },
  {
   "cell_type": "code",
   "execution_count": null,
   "id": "7a9e85c6",
   "metadata": {},
   "outputs": [],
   "source": [
    "#comps=total_df.groupby(['StringID','Year'])[['StartDate','SalesMny']].agg({'StartDate':'min','SalesMny':'sum'}).reset_index()\n",
    "#comps.Year.min()"
   ]
  },
  {
   "cell_type": "code",
   "execution_count": null,
   "id": "cafa5f8e",
   "metadata": {},
   "outputs": [],
   "source": [
    "#comps[comps.StartDate.dt.strftime('%m%d')<='0330'].pivot_table(\n",
    "    #index='StringID',columns='Year',values='SalesMny',fill_value=0).reset_index().to_excel('2022-23 YTD comp by Date(reduced).xlsx',index=False)"
   ]
  },
  {
   "cell_type": "code",
   "execution_count": null,
   "id": "648a1640",
   "metadata": {},
   "outputs": [],
   "source": [
    "#data.columns"
   ]
  },
  {
   "cell_type": "code",
   "execution_count": null,
   "id": "10da80d8",
   "metadata": {},
   "outputs": [],
   "source": [
    "#total_df[(total_df.Year==2023)&(total_df.SpecialVenue=='No')&total_df.]"
   ]
  },
  {
   "cell_type": "code",
   "execution_count": null,
   "id": "d00eee73",
   "metadata": {},
   "outputs": [],
   "source": [
    "#pd3_platform=total[(total.ProductTypeName=='3rd Party Delivery')&(total.StartDate.dt.strftime('%m-%d')>='03-27')].pivot_table(index='ShopID',columns='Year',values='SalesMny',aggfunc='sum',fill_value=0).reset_index()"
   ]
  },
  {
   "cell_type": "code",
   "execution_count": null,
   "id": "94c990cd",
   "metadata": {},
   "outputs": [],
   "source": [
    "#os.chdir(r'L:\\J.Harned\\Marketing\\Inner City')\n",
    "#inner_city=[2,3,4,6,11,14,29,30,31,48,53,64,66,101,155,171,185,225,312,342,349,376,560,886,889,931,932,933,1045,\n",
    "            #1046,1047,1049]\n",
    "#pd3_platform[pd3_platform.ShopID.isin(inner_city)].to_excel('Inner City 3PD by Year.xlsx')"
   ]
  },
  {
   "cell_type": "markdown",
   "id": "95b67d72",
   "metadata": {},
   "source": [
    "# 2023 vs 2022 PMIX"
   ]
  },
  {
   "cell_type": "code",
   "execution_count": null,
   "id": "96d5fdb1",
   "metadata": {},
   "outputs": [],
   "source": [
    "# total=total[total.ShopID!=11390]\n",
    "# altoona=total[total.ShopID==11390]\n",
    "# altoona['StringID']=altoona.ShopID.astype('int')"
   ]
  },
  {
   "cell_type": "code",
   "execution_count": null,
   "id": "16a6a400",
   "metadata": {},
   "outputs": [],
   "source": [
    "# total['StringID']=total.ShopID.astype('int')\n",
    "# total['StringID']=total.ShopID.astype('str')\n",
    "# total['StringID']=total.StringID.str[-4:]\n",
    "# total['StringID']=total.StringID.astype('int')\n"
   ]
  },
  {
   "cell_type": "code",
   "execution_count": null,
   "id": "bdb43563",
   "metadata": {},
   "outputs": [],
   "source": [
    "# total=pd.concat([total,altoona])"
   ]
  },
  {
   "cell_type": "code",
   "execution_count": null,
   "id": "af82c9c9",
   "metadata": {},
   "outputs": [],
   "source": [
    "# df_filtered=total[(total.Week>=16)&(total.Week<=21)]"
   ]
  },
  {
   "cell_type": "code",
   "execution_count": null,
   "id": "d5e5b663",
   "metadata": {},
   "outputs": [],
   "source": [
    "# total.rename(columns={'StringID':'RitasID'},inplace=True)"
   ]
  },
  {
   "cell_type": "code",
   "execution_count": null,
   "id": "89f7c889",
   "metadata": {},
   "outputs": [],
   "source": [
    "# #Gets Dma List\n",
    "# os.chdir(r'L:\\12 Sales Rank Report')\n",
    "# dma=pd.read_excel('DMA List.xlsx')\n",
    "# dma.rename(columns={'Ritas ID':'RitasID'},inplace=True)"
   ]
  },
  {
   "cell_type": "code",
   "execution_count": null,
   "id": "585c8a25",
   "metadata": {},
   "outputs": [],
   "source": [
    "# df_filtered.shape"
   ]
  },
  {
   "cell_type": "code",
   "execution_count": null,
   "id": "5dbbcb91",
   "metadata": {},
   "outputs": [],
   "source": [
    "# dma_open=dma[dma['Shop Status']=='Open']"
   ]
  },
  {
   "cell_type": "code",
   "execution_count": null,
   "id": "8bdb4ebb",
   "metadata": {},
   "outputs": [],
   "source": [
    "# total_merge=pd.merge(total,dma_open[['RitasID','FC']],on='RitasID',how='left')"
   ]
  },
  {
   "cell_type": "code",
   "execution_count": null,
   "id": "61084949",
   "metadata": {},
   "outputs": [],
   "source": [
    "# total_merge.Year.unique()"
   ]
  },
  {
   "cell_type": "code",
   "execution_count": null,
   "id": "457d3838",
   "metadata": {},
   "outputs": [],
   "source": [
    "# total_merge.StartDate.min()"
   ]
  },
  {
   "cell_type": "code",
   "execution_count": null,
   "id": "d01bb18b",
   "metadata": {},
   "outputs": [],
   "source": [
    "# total_merge.EndDate.max()"
   ]
  },
  {
   "cell_type": "code",
   "execution_count": null,
   "id": "be468d6d",
   "metadata": {},
   "outputs": [],
   "source": [
    "# total_merge.Week.min()"
   ]
  },
  {
   "cell_type": "code",
   "execution_count": null,
   "id": "c69b32b3",
   "metadata": {},
   "outputs": [],
   "source": [
    "# total_merge.Week.max()"
   ]
  },
  {
   "cell_type": "code",
   "execution_count": null,
   "id": "db7df2e8",
   "metadata": {},
   "outputs": [],
   "source": [
    "# total_merge.CoOpName.fillna('LSM',inplace=True)"
   ]
  },
  {
   "cell_type": "code",
   "execution_count": null,
   "id": "8c775c6b",
   "metadata": {},
   "outputs": [],
   "source": [
    "# os.chdir(r'L:\\J.Harned\\Marketing')\n",
    "# total_merge.pivot_table(index=['RitasID','ProductTypeName','FC','Region','CoOpName','State'],columns='Year',\n",
    "#                        values=['SalesMny','SalesQty'],aggfunc='sum').reset_index()#.to_excel('2023 vs 2022 PMIX.xlsx')"
   ]
  },
  {
   "cell_type": "code",
   "execution_count": null,
   "id": "56c08c72",
   "metadata": {},
   "outputs": [],
   "source": [
    "# total_merge.CoOpName.unique()"
   ]
  },
  {
   "cell_type": "code",
   "execution_count": null,
   "id": "a7eba102",
   "metadata": {},
   "outputs": [],
   "source": [
    "# round(total_merge.pivot_table(index=['Region','FC'],columns='Year',values=['SalesMny','SalesQty'],aggfunc='sum'),2).reset_index().to_excel(\n",
    "# '23 vs 22 PMIX by Region.xlsx')"
   ]
  },
  {
   "cell_type": "code",
   "execution_count": null,
   "id": "8a580523",
   "metadata": {},
   "outputs": [],
   "source": [
    "# round(total_merge.pivot_table(index=['CoOpName','FC'],columns='Year',values=['SalesMny','SalesQty'],aggfunc='sum'),2).reset_index().to_excel(\n",
    "# '23 vs 22 PMIX by Co-Op.xlsx')"
   ]
  },
  {
   "cell_type": "code",
   "execution_count": null,
   "id": "523e9ea5",
   "metadata": {},
   "outputs": [],
   "source": [
    "# total_merge.pivot_table(index=['ProductTypeName'],columns='Year',\n",
    "#                        values=['SalesMny','SalesQty'],aggfunc='sum').reset_index().to_excel('2023 vs 2022 PMIX YTD.xlsx')"
   ]
  },
  {
   "cell_type": "code",
   "execution_count": null,
   "id": "65df0910",
   "metadata": {},
   "outputs": [],
   "source": [
    "# df_filtered.pivot_table(index=['ProductTypeName'],columns='Year',\n",
    "#                        values=['SalesMny','SalesQty'],aggfunc='sum').reset_index().to_excel('2023 Coffee PMIX YTD.xlsx')"
   ]
  },
  {
   "cell_type": "markdown",
   "id": "e55f9158",
   "metadata": {},
   "source": [
    "# For Jeanette and FC\n",
    "   Year End Reporting for FC. Making a pivot table based on sales and Pmix by store"
   ]
  },
  {
   "cell_type": "code",
   "execution_count": null,
   "id": "1ebc7a13",
   "metadata": {},
   "outputs": [],
   "source": [
    "sales=data.pivot_table(index='ProductSizeName',columns='StringID',values='SalesMny',aggfunc='sum',fill_value=0)"
   ]
  },
  {
   "cell_type": "code",
   "execution_count": null,
   "id": "218107ed",
   "metadata": {},
   "outputs": [],
   "source": [
    "sales_perc=data.pivot_table(index='ProductSizeName',columns='StringID',values='SalesMny',aggfunc='sum',fill_value=0).apply(\n",
    "lambda x: x/x.sum())"
   ]
  },
  {
   "cell_type": "code",
   "execution_count": null,
   "id": "8d3621ef",
   "metadata": {},
   "outputs": [],
   "source": [
    "qty=data.pivot_table(index='ProductSizeName',columns='StringID',values='SalesQty',aggfunc='sum',fill_value=0)"
   ]
  },
  {
   "cell_type": "code",
   "execution_count": null,
   "id": "9647cf91",
   "metadata": {},
   "outputs": [],
   "source": [
    "retail=data.groupby(['StringID','ProductSizeName'])[['SalesMny','SalesQty']].sum().reset_index()\n",
    "retail['Price']=round(retail.iloc[:,-2]/retail.iloc[:,-1],2)\n",
    "retail"
   ]
  },
  {
   "cell_type": "code",
   "execution_count": null,
   "id": "62db3d2b",
   "metadata": {},
   "outputs": [],
   "source": [
    "# sales_excel=pd.ExcelWriter('Jeanette Sales v4.xlsx')\n",
    "# sales.to_excel(sales_excel,sheet_name='Sales')\n",
    "# sales_perc.to_excel(sales_excel,sheet_name='Sales %')\n",
    "# retail.to_excel(sales_excel,sheet_name='Retail Price')\n",
    "# qty.to_excel(sales_excel,sheet_name='Qty')\n",
    "# sales_excel.close()"
   ]
  },
  {
   "cell_type": "code",
   "execution_count": null,
   "id": "62960c0c",
   "metadata": {},
   "outputs": [],
   "source": [
    "# total=total.drop('OpenDate',axis=1)"
   ]
  },
  {
   "cell_type": "code",
   "execution_count": null,
   "id": "168819f1",
   "metadata": {},
   "outputs": [],
   "source": [
    "# data3.loc[data3.RitasID==32,'OpenDate']='2023-05-05'\n",
    "# data3.loc[data3.RitasID==160,'OpenDate']='2023-06-28'\n",
    "# data3.loc[data3.RitasID==445,'OpenDate']='2023-04-12'\n",
    "# data3.loc[data3.RitasID==835,'OpenDate']='2022-10-28'\n",
    "# data3.loc[data3.RitasID==325,'OpenDate']='2023-12-20'\n",
    "# data3.loc[data3.RitasID==1234,'OpenDate']='2022-12-20'"
   ]
  },
  {
   "cell_type": "code",
   "execution_count": null,
   "id": "ccf992ae",
   "metadata": {},
   "outputs": [],
   "source": [
    "data3=data3.sort_values('intstoreid',ascending=False)\n",
    "data3.rename(columns={'intstoreid':'intStoreID'},inplace=True)\n"
   ]
  },
  {
   "cell_type": "code",
   "execution_count": null,
   "id": "652c8c3d",
   "metadata": {},
   "outputs": [],
   "source": [
    "data3=data3.drop_duplicates(subset=['RitasID'],keep='first')\n",
    "data3=data3[~data.ShopName.str.contains('Mobile')]\n",
    "data3"
   ]
  },
  {
   "cell_type": "code",
   "execution_count": null,
   "id": "8aa53bed",
   "metadata": {},
   "outputs": [],
   "source": [
    "data3.rename(columns={'RitasID':'StringID'}, inplace=True)"
   ]
  },
  {
   "cell_type": "code",
   "execution_count": null,
   "id": "2fe0cbf8",
   "metadata": {},
   "outputs": [],
   "source": [
    "total_linda=total.merge(data3[['StringID','OpenDate']],how='left',on='StringID')"
   ]
  },
  {
   "cell_type": "code",
   "execution_count": null,
   "id": "a4ca7aad",
   "metadata": {},
   "outputs": [],
   "source": [
    "total_linda.groupby('Year')['SalesMny'].sum()"
   ]
  },
  {
   "cell_type": "code",
   "execution_count": null,
   "id": "36ca6da3",
   "metadata": {},
   "outputs": [],
   "source": [
    "total_linda['OpenDate']=total_linda.OpenDate.fillna('None')"
   ]
  },
  {
   "cell_type": "code",
   "execution_count": null,
   "id": "afb3965a",
   "metadata": {},
   "outputs": [],
   "source": [
    "months=['Oct','Nov','Dec']\n",
    "total_shops=total_linda[total_linda.Month_Name.isin(months)].pivot_table(index=[\n",
    "    'StringID','OpenDate'],columns=['Month_Name','Year'],values='SalesMny',\n",
    "                       aggfunc='sum',fill_value=0).reset_index()\n",
    "total_shops[total_shops.StringID==1]"
   ]
  },
  {
   "cell_type": "code",
   "execution_count": null,
   "id": "89cd49c1",
   "metadata": {},
   "outputs": [],
   "source": [
    "comps=total.pivot_table(index='StringID',columns='Year',values='SalesMny',aggfunc='sum',fill_value=0).reset_index()\n",
    "comp_shops=comps[(comps[2022]>0)&(comps[2023]>0)].StringID"
   ]
  },
  {
   "cell_type": "code",
   "execution_count": null,
   "id": "262a5203",
   "metadata": {},
   "outputs": [],
   "source": [
    "comp_shops"
   ]
  },
  {
   "cell_type": "code",
   "execution_count": null,
   "id": "817b876a",
   "metadata": {},
   "outputs": [],
   "source": [
    "comps=total_linda[(total_linda.Month_Name.isin(months))&(total_linda.StringID.isin(comp_shops))].pivot_table(index=[\n",
    "    'StringID','OpenDate'],columns=['Month_Name','Year'],values='SalesMny',\n",
    "                       aggfunc='sum',fill_value=0).reset_index()\n",
    "comps[comps.StringID==26]"
   ]
  },
  {
   "cell_type": "code",
   "execution_count": null,
   "id": "8b69dc58",
   "metadata": {},
   "outputs": [],
   "source": [
    "# writer=pd.ExcelWriter('Shop Sales Q4 23 vs 22.xlsx')\n",
    "# total_shops.to_excel(writer, sheet_name='All Shops')\n",
    "# comps.to_excel(writer,sheet_name='Comp Shops')\n",
    "# writer.close()"
   ]
  },
  {
   "cell_type": "code",
   "execution_count": null,
   "id": "817ba27e",
   "metadata": {},
   "outputs": [],
   "source": [
    "total[(total.StringID==238)&(total.ProductSizeName=='Misc')&(total.Year==2023)].groupby('Week')['SalesMny'].sum()"
   ]
  },
  {
   "cell_type": "code",
   "execution_count": null,
   "id": "a3a7b6bd",
   "metadata": {},
   "outputs": [],
   "source": [
    "total[(total.ShopName.str.contains('Mobile'))&(total.ProductTypeName=='MobileCart')].ShopID.nunique()"
   ]
  },
  {
   "cell_type": "code",
   "execution_count": null,
   "id": "756dea96",
   "metadata": {},
   "outputs": [],
   "source": [
    "total[(total.ProductSizeName=='Misc')&(total.Year==2023)].groupby(['ProductTypeName','ShopID'])['SalesMny'].sum()"
   ]
  },
  {
   "cell_type": "code",
   "execution_count": null,
   "id": "f1725634",
   "metadata": {},
   "outputs": [],
   "source": [
    "total[(total.ShopID>=10000)&(total.Year==2023)&~(total.ShopName.str.contains('Mobile'))].ShopID.unique()"
   ]
  },
  {
   "cell_type": "code",
   "execution_count": null,
   "id": "3ebf60c2",
   "metadata": {},
   "outputs": [],
   "source": [
    "# total_linda.pivot_table(index=[\n",
    "#     'StringID','OpenDate','State'],values='SalesMny',columns='Year',\n",
    "#                        aggfunc='sum',fill_value=0).reset_index().to_excel('For Linda Shop Opening Dates v2.xlsx')\n"
   ]
  },
  {
   "cell_type": "code",
   "execution_count": null,
   "id": "86eaa146",
   "metadata": {},
   "outputs": [],
   "source": []
  }
 ],
 "metadata": {
  "kernelspec": {
   "display_name": "Python 3 (ipykernel)",
   "language": "python",
   "name": "python3"
  },
  "language_info": {
   "codemirror_mode": {
    "name": "ipython",
    "version": 3
   },
   "file_extension": ".py",
   "mimetype": "text/x-python",
   "name": "python",
   "nbconvert_exporter": "python",
   "pygments_lexer": "ipython3",
   "version": "3.9.12"
  }
 },
 "nbformat": 4,
 "nbformat_minor": 5
}
