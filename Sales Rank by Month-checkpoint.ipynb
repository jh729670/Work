{
 "cells": [
  {
   "cell_type": "code",
   "execution_count": 2,
   "id": "2b7d92d5",
   "metadata": {},
   "outputs": [],
   "source": [
    "import pandas as pd\n",
    "import os"
   ]
  },
  {
   "cell_type": "code",
   "execution_count": 48,
   "id": "9fa5b747",
   "metadata": {},
   "outputs": [],
   "source": [
    "os.chdir(r'G:\\FinanceReports')"
   ]
  },
  {
   "cell_type": "code",
   "execution_count": 49,
   "id": "8a37c035",
   "metadata": {},
   "outputs": [],
   "source": [
    "data=pd.read_excel('2021-SRSsales-productLevel-wk1-53.xlsx', sheet_name='2021')"
   ]
  },
  {
   "cell_type": "code",
   "execution_count": 50,
   "id": "400059d6",
   "metadata": {},
   "outputs": [],
   "source": [
    "os.chdir(r'L:\\J.Harned\\For Linda')"
   ]
  },
  {
   "cell_type": "code",
   "execution_count": 51,
   "id": "7f7116d7",
   "metadata": {},
   "outputs": [],
   "source": [
    "franchise=pd.read_excel('Franchise List.xlsx')"
   ]
  },
  {
   "cell_type": "code",
   "execution_count": 52,
   "id": "89d3fe19",
   "metadata": {},
   "outputs": [
    {
     "name": "stdout",
     "output_type": "stream",
     "text": [
      "<class 'pandas.core.frame.DataFrame'>\n",
      "RangeIndex: 3140 entries, 0 to 3139\n",
      "Data columns (total 13 columns):\n",
      " #   Column            Non-Null Count  Dtype \n",
      "---  ------            --------------  ----- \n",
      " 0   StringID          3140 non-null   int64 \n",
      " 1   Shop Name         3139 non-null   object\n",
      " 2   Shop Status       3128 non-null   object\n",
      " 3   Shop Type         3132 non-null   object\n",
      " 4   FC                2586 non-null   object\n",
      " 5   Street Address 1  1744 non-null   object\n",
      " 6   City              2994 non-null   object\n",
      " 7   Street Address 2  622 non-null    object\n",
      " 8   State             3101 non-null   object\n",
      " 9   Zip               3140 non-null   object\n",
      " 10  Site Type         2486 non-null   object\n",
      " 11  Drive Thru        3140 non-null   object\n",
      " 12  Open Date         2197 non-null   object\n",
      "dtypes: int64(1), object(12)\n",
      "memory usage: 319.0+ KB\n"
     ]
    }
   ],
   "source": [
    "franchise.info()"
   ]
  },
  {
   "cell_type": "code",
   "execution_count": 53,
   "id": "9a036613",
   "metadata": {},
   "outputs": [],
   "source": [
    "franchise=franchise.drop(franchise.columns[[2,3,4,5,6,7,8,9]],axis=1)"
   ]
  },
  {
   "cell_type": "code",
   "execution_count": 54,
   "id": "7b2489df",
   "metadata": {},
   "outputs": [
    {
     "data": {
      "text/plain": [
       "Index(['ShopID', 'intStoreID', 'ProductCode', 'ProdSizeCode', 'DiscountCode',\n",
       "       'Register', 'SalesQty', 'SalesMny', 'StartDate', 'EndDate', 'EditDate',\n",
       "       'Week', 'DataSource', 'ShopName', 'State', 'Region', 'ShopStatus',\n",
       "       'LegacyShopType', 'LegacyShopStatus', 'ProductTypeName',\n",
       "       'ProductSizeName', 'SpecialVenue', 'CoOpStatus', 'CoOpName',\n",
       "       'CoOpRate'],\n",
       "      dtype='object')"
      ]
     },
     "execution_count": 54,
     "metadata": {},
     "output_type": "execute_result"
    }
   ],
   "source": [
    "data.columns"
   ]
  },
  {
   "cell_type": "code",
   "execution_count": 68,
   "id": "76188dbb",
   "metadata": {},
   "outputs": [
    {
     "ename": "ValueError",
     "evalue": "invalid literal for int() with base 10: '1.0'",
     "output_type": "error",
     "traceback": [
      "\u001b[1;31m---------------------------------------------------------------------------\u001b[0m",
      "\u001b[1;31mValueError\u001b[0m                                Traceback (most recent call last)",
      "Input \u001b[1;32mIn [68]\u001b[0m, in \u001b[0;36m<cell line: 1>\u001b[1;34m()\u001b[0m\n\u001b[1;32m----> 1\u001b[0m data[\u001b[38;5;124m'\u001b[39m\u001b[38;5;124mStringID\u001b[39m\u001b[38;5;124m'\u001b[39m]\u001b[38;5;241m=\u001b[39m\u001b[43mdata\u001b[49m\u001b[38;5;241;43m.\u001b[39;49m\u001b[43mStringID\u001b[49m\u001b[38;5;241;43m.\u001b[39;49m\u001b[43mastype\u001b[49m\u001b[43m(\u001b[49m\u001b[38;5;124;43m'\u001b[39;49m\u001b[38;5;124;43mint\u001b[39;49m\u001b[38;5;124;43m'\u001b[39;49m\u001b[43m)\u001b[49m\n\u001b[0;32m      2\u001b[0m data\u001b[38;5;241m=\u001b[39mpd\u001b[38;5;241m.\u001b[39mmerge(data,franchise,on\u001b[38;5;241m=\u001b[39m[\u001b[38;5;124m'\u001b[39m\u001b[38;5;124mStringID\u001b[39m\u001b[38;5;124m'\u001b[39m])\n\u001b[0;32m      3\u001b[0m data[\u001b[38;5;124m'\u001b[39m\u001b[38;5;124mStringID\u001b[39m\u001b[38;5;124m'\u001b[39m]\u001b[38;5;241m=\u001b[39mdata\u001b[38;5;241m.\u001b[39mShopID\u001b[38;5;241m.\u001b[39mastype(\u001b[38;5;124m'\u001b[39m\u001b[38;5;124mstr\u001b[39m\u001b[38;5;124m'\u001b[39m)\n",
      "File \u001b[1;32m~\\Anaconda3\\lib\\site-packages\\pandas\\core\\generic.py:5912\u001b[0m, in \u001b[0;36mNDFrame.astype\u001b[1;34m(self, dtype, copy, errors)\u001b[0m\n\u001b[0;32m   5905\u001b[0m     results \u001b[38;5;241m=\u001b[39m [\n\u001b[0;32m   5906\u001b[0m         \u001b[38;5;28mself\u001b[39m\u001b[38;5;241m.\u001b[39miloc[:, i]\u001b[38;5;241m.\u001b[39mastype(dtype, copy\u001b[38;5;241m=\u001b[39mcopy)\n\u001b[0;32m   5907\u001b[0m         \u001b[38;5;28;01mfor\u001b[39;00m i \u001b[38;5;129;01min\u001b[39;00m \u001b[38;5;28mrange\u001b[39m(\u001b[38;5;28mlen\u001b[39m(\u001b[38;5;28mself\u001b[39m\u001b[38;5;241m.\u001b[39mcolumns))\n\u001b[0;32m   5908\u001b[0m     ]\n\u001b[0;32m   5910\u001b[0m \u001b[38;5;28;01melse\u001b[39;00m:\n\u001b[0;32m   5911\u001b[0m     \u001b[38;5;66;03m# else, only a single dtype is given\u001b[39;00m\n\u001b[1;32m-> 5912\u001b[0m     new_data \u001b[38;5;241m=\u001b[39m \u001b[38;5;28;43mself\u001b[39;49m\u001b[38;5;241;43m.\u001b[39;49m\u001b[43m_mgr\u001b[49m\u001b[38;5;241;43m.\u001b[39;49m\u001b[43mastype\u001b[49m\u001b[43m(\u001b[49m\u001b[43mdtype\u001b[49m\u001b[38;5;241;43m=\u001b[39;49m\u001b[43mdtype\u001b[49m\u001b[43m,\u001b[49m\u001b[43m \u001b[49m\u001b[43mcopy\u001b[49m\u001b[38;5;241;43m=\u001b[39;49m\u001b[43mcopy\u001b[49m\u001b[43m,\u001b[49m\u001b[43m \u001b[49m\u001b[43merrors\u001b[49m\u001b[38;5;241;43m=\u001b[39;49m\u001b[43merrors\u001b[49m\u001b[43m)\u001b[49m\n\u001b[0;32m   5913\u001b[0m     \u001b[38;5;28;01mreturn\u001b[39;00m \u001b[38;5;28mself\u001b[39m\u001b[38;5;241m.\u001b[39m_constructor(new_data)\u001b[38;5;241m.\u001b[39m__finalize__(\u001b[38;5;28mself\u001b[39m, method\u001b[38;5;241m=\u001b[39m\u001b[38;5;124m\"\u001b[39m\u001b[38;5;124mastype\u001b[39m\u001b[38;5;124m\"\u001b[39m)\n\u001b[0;32m   5915\u001b[0m \u001b[38;5;66;03m# GH 33113: handle empty frame or series\u001b[39;00m\n",
      "File \u001b[1;32m~\\Anaconda3\\lib\\site-packages\\pandas\\core\\internals\\managers.py:419\u001b[0m, in \u001b[0;36mBaseBlockManager.astype\u001b[1;34m(self, dtype, copy, errors)\u001b[0m\n\u001b[0;32m    418\u001b[0m \u001b[38;5;28;01mdef\u001b[39;00m \u001b[38;5;21mastype\u001b[39m(\u001b[38;5;28mself\u001b[39m: T, dtype, copy: \u001b[38;5;28mbool\u001b[39m \u001b[38;5;241m=\u001b[39m \u001b[38;5;28;01mFalse\u001b[39;00m, errors: \u001b[38;5;28mstr\u001b[39m \u001b[38;5;241m=\u001b[39m \u001b[38;5;124m\"\u001b[39m\u001b[38;5;124mraise\u001b[39m\u001b[38;5;124m\"\u001b[39m) \u001b[38;5;241m-\u001b[39m\u001b[38;5;241m>\u001b[39m T:\n\u001b[1;32m--> 419\u001b[0m     \u001b[38;5;28;01mreturn\u001b[39;00m \u001b[38;5;28;43mself\u001b[39;49m\u001b[38;5;241;43m.\u001b[39;49m\u001b[43mapply\u001b[49m\u001b[43m(\u001b[49m\u001b[38;5;124;43m\"\u001b[39;49m\u001b[38;5;124;43mastype\u001b[39;49m\u001b[38;5;124;43m\"\u001b[39;49m\u001b[43m,\u001b[49m\u001b[43m \u001b[49m\u001b[43mdtype\u001b[49m\u001b[38;5;241;43m=\u001b[39;49m\u001b[43mdtype\u001b[49m\u001b[43m,\u001b[49m\u001b[43m \u001b[49m\u001b[43mcopy\u001b[49m\u001b[38;5;241;43m=\u001b[39;49m\u001b[43mcopy\u001b[49m\u001b[43m,\u001b[49m\u001b[43m \u001b[49m\u001b[43merrors\u001b[49m\u001b[38;5;241;43m=\u001b[39;49m\u001b[43merrors\u001b[49m\u001b[43m)\u001b[49m\n",
      "File \u001b[1;32m~\\Anaconda3\\lib\\site-packages\\pandas\\core\\internals\\managers.py:304\u001b[0m, in \u001b[0;36mBaseBlockManager.apply\u001b[1;34m(self, f, align_keys, ignore_failures, **kwargs)\u001b[0m\n\u001b[0;32m    302\u001b[0m         applied \u001b[38;5;241m=\u001b[39m b\u001b[38;5;241m.\u001b[39mapply(f, \u001b[38;5;241m*\u001b[39m\u001b[38;5;241m*\u001b[39mkwargs)\n\u001b[0;32m    303\u001b[0m     \u001b[38;5;28;01melse\u001b[39;00m:\n\u001b[1;32m--> 304\u001b[0m         applied \u001b[38;5;241m=\u001b[39m \u001b[38;5;28mgetattr\u001b[39m(b, f)(\u001b[38;5;241m*\u001b[39m\u001b[38;5;241m*\u001b[39mkwargs)\n\u001b[0;32m    305\u001b[0m \u001b[38;5;28;01mexcept\u001b[39;00m (\u001b[38;5;167;01mTypeError\u001b[39;00m, \u001b[38;5;167;01mNotImplementedError\u001b[39;00m):\n\u001b[0;32m    306\u001b[0m     \u001b[38;5;28;01mif\u001b[39;00m \u001b[38;5;129;01mnot\u001b[39;00m ignore_failures:\n",
      "File \u001b[1;32m~\\Anaconda3\\lib\\site-packages\\pandas\\core\\internals\\blocks.py:580\u001b[0m, in \u001b[0;36mBlock.astype\u001b[1;34m(self, dtype, copy, errors)\u001b[0m\n\u001b[0;32m    562\u001b[0m \u001b[38;5;124;03m\"\"\"\u001b[39;00m\n\u001b[0;32m    563\u001b[0m \u001b[38;5;124;03mCoerce to the new dtype.\u001b[39;00m\n\u001b[0;32m    564\u001b[0m \n\u001b[1;32m   (...)\u001b[0m\n\u001b[0;32m    576\u001b[0m \u001b[38;5;124;03mBlock\u001b[39;00m\n\u001b[0;32m    577\u001b[0m \u001b[38;5;124;03m\"\"\"\u001b[39;00m\n\u001b[0;32m    578\u001b[0m values \u001b[38;5;241m=\u001b[39m \u001b[38;5;28mself\u001b[39m\u001b[38;5;241m.\u001b[39mvalues\n\u001b[1;32m--> 580\u001b[0m new_values \u001b[38;5;241m=\u001b[39m \u001b[43mastype_array_safe\u001b[49m\u001b[43m(\u001b[49m\u001b[43mvalues\u001b[49m\u001b[43m,\u001b[49m\u001b[43m \u001b[49m\u001b[43mdtype\u001b[49m\u001b[43m,\u001b[49m\u001b[43m \u001b[49m\u001b[43mcopy\u001b[49m\u001b[38;5;241;43m=\u001b[39;49m\u001b[43mcopy\u001b[49m\u001b[43m,\u001b[49m\u001b[43m \u001b[49m\u001b[43merrors\u001b[49m\u001b[38;5;241;43m=\u001b[39;49m\u001b[43merrors\u001b[49m\u001b[43m)\u001b[49m\n\u001b[0;32m    582\u001b[0m new_values \u001b[38;5;241m=\u001b[39m maybe_coerce_values(new_values)\n\u001b[0;32m    583\u001b[0m newb \u001b[38;5;241m=\u001b[39m \u001b[38;5;28mself\u001b[39m\u001b[38;5;241m.\u001b[39mmake_block(new_values)\n",
      "File \u001b[1;32m~\\Anaconda3\\lib\\site-packages\\pandas\\core\\dtypes\\cast.py:1292\u001b[0m, in \u001b[0;36mastype_array_safe\u001b[1;34m(values, dtype, copy, errors)\u001b[0m\n\u001b[0;32m   1289\u001b[0m     dtype \u001b[38;5;241m=\u001b[39m dtype\u001b[38;5;241m.\u001b[39mnumpy_dtype\n\u001b[0;32m   1291\u001b[0m \u001b[38;5;28;01mtry\u001b[39;00m:\n\u001b[1;32m-> 1292\u001b[0m     new_values \u001b[38;5;241m=\u001b[39m \u001b[43mastype_array\u001b[49m\u001b[43m(\u001b[49m\u001b[43mvalues\u001b[49m\u001b[43m,\u001b[49m\u001b[43m \u001b[49m\u001b[43mdtype\u001b[49m\u001b[43m,\u001b[49m\u001b[43m \u001b[49m\u001b[43mcopy\u001b[49m\u001b[38;5;241;43m=\u001b[39;49m\u001b[43mcopy\u001b[49m\u001b[43m)\u001b[49m\n\u001b[0;32m   1293\u001b[0m \u001b[38;5;28;01mexcept\u001b[39;00m (\u001b[38;5;167;01mValueError\u001b[39;00m, \u001b[38;5;167;01mTypeError\u001b[39;00m):\n\u001b[0;32m   1294\u001b[0m     \u001b[38;5;66;03m# e.g. astype_nansafe can fail on object-dtype of strings\u001b[39;00m\n\u001b[0;32m   1295\u001b[0m     \u001b[38;5;66;03m#  trying to convert to float\u001b[39;00m\n\u001b[0;32m   1296\u001b[0m     \u001b[38;5;28;01mif\u001b[39;00m errors \u001b[38;5;241m==\u001b[39m \u001b[38;5;124m\"\u001b[39m\u001b[38;5;124mignore\u001b[39m\u001b[38;5;124m\"\u001b[39m:\n",
      "File \u001b[1;32m~\\Anaconda3\\lib\\site-packages\\pandas\\core\\dtypes\\cast.py:1237\u001b[0m, in \u001b[0;36mastype_array\u001b[1;34m(values, dtype, copy)\u001b[0m\n\u001b[0;32m   1234\u001b[0m     values \u001b[38;5;241m=\u001b[39m values\u001b[38;5;241m.\u001b[39mastype(dtype, copy\u001b[38;5;241m=\u001b[39mcopy)\n\u001b[0;32m   1236\u001b[0m \u001b[38;5;28;01melse\u001b[39;00m:\n\u001b[1;32m-> 1237\u001b[0m     values \u001b[38;5;241m=\u001b[39m \u001b[43mastype_nansafe\u001b[49m\u001b[43m(\u001b[49m\u001b[43mvalues\u001b[49m\u001b[43m,\u001b[49m\u001b[43m \u001b[49m\u001b[43mdtype\u001b[49m\u001b[43m,\u001b[49m\u001b[43m \u001b[49m\u001b[43mcopy\u001b[49m\u001b[38;5;241;43m=\u001b[39;49m\u001b[43mcopy\u001b[49m\u001b[43m)\u001b[49m\n\u001b[0;32m   1239\u001b[0m \u001b[38;5;66;03m# in pandas we don't store numpy str dtypes, so convert to object\u001b[39;00m\n\u001b[0;32m   1240\u001b[0m \u001b[38;5;28;01mif\u001b[39;00m \u001b[38;5;28misinstance\u001b[39m(dtype, np\u001b[38;5;241m.\u001b[39mdtype) \u001b[38;5;129;01mand\u001b[39;00m \u001b[38;5;28missubclass\u001b[39m(values\u001b[38;5;241m.\u001b[39mdtype\u001b[38;5;241m.\u001b[39mtype, \u001b[38;5;28mstr\u001b[39m):\n",
      "File \u001b[1;32m~\\Anaconda3\\lib\\site-packages\\pandas\\core\\dtypes\\cast.py:1154\u001b[0m, in \u001b[0;36mastype_nansafe\u001b[1;34m(arr, dtype, copy, skipna)\u001b[0m\n\u001b[0;32m   1150\u001b[0m \u001b[38;5;28;01melif\u001b[39;00m is_object_dtype(arr\u001b[38;5;241m.\u001b[39mdtype):\n\u001b[0;32m   1151\u001b[0m \n\u001b[0;32m   1152\u001b[0m     \u001b[38;5;66;03m# work around NumPy brokenness, #1987\u001b[39;00m\n\u001b[0;32m   1153\u001b[0m     \u001b[38;5;28;01mif\u001b[39;00m np\u001b[38;5;241m.\u001b[39missubdtype(dtype\u001b[38;5;241m.\u001b[39mtype, np\u001b[38;5;241m.\u001b[39minteger):\n\u001b[1;32m-> 1154\u001b[0m         \u001b[38;5;28;01mreturn\u001b[39;00m \u001b[43mlib\u001b[49m\u001b[38;5;241;43m.\u001b[39;49m\u001b[43mastype_intsafe\u001b[49m\u001b[43m(\u001b[49m\u001b[43marr\u001b[49m\u001b[43m,\u001b[49m\u001b[43m \u001b[49m\u001b[43mdtype\u001b[49m\u001b[43m)\u001b[49m\n\u001b[0;32m   1156\u001b[0m     \u001b[38;5;66;03m# if we have a datetime/timedelta array of objects\u001b[39;00m\n\u001b[0;32m   1157\u001b[0m     \u001b[38;5;66;03m# then coerce to a proper dtype and recall astype_nansafe\u001b[39;00m\n\u001b[0;32m   1159\u001b[0m     \u001b[38;5;28;01melif\u001b[39;00m is_datetime64_dtype(dtype):\n",
      "File \u001b[1;32m~\\Anaconda3\\lib\\site-packages\\pandas\\_libs\\lib.pyx:668\u001b[0m, in \u001b[0;36mpandas._libs.lib.astype_intsafe\u001b[1;34m()\u001b[0m\n",
      "\u001b[1;31mValueError\u001b[0m: invalid literal for int() with base 10: '1.0'"
     ]
    }
   ],
   "source": [
    "data['StringID']=data.StringID.astype('int')\n",
    "data=pd.merge(data,franchise,on=['StringID'])\n",
    "data['StringID']=data.ShopID.astype('str')\n",
    "data['StringID']=data.StringID.str[-4:]\n",
    "data['StringID']=data.StringID.astype('int')\n",
    "data.StringID.unique()"
   ]
  },
  {
   "cell_type": "code",
   "execution_count": null,
   "id": "0de5ce0a",
   "metadata": {},
   "outputs": [],
   "source": [
    "data.head(20)"
   ]
  },
  {
   "cell_type": "code",
   "execution_count": 61,
   "id": "9c3ce76f",
   "metadata": {},
   "outputs": [],
   "source": [
    "Jan=[1,2,3,4,5]\n",
    "Feb=[9,6,7,8]\n",
    "Mar=[10,11,12,13,14]\n",
    "Apr=[18,15,16,17]\n",
    "May=[22,19,20,21]\n",
    "June=[27,23,24,25,26]\n",
    "July=[31,28,29,30]\n",
    "Aug=[35,32,33,34]\n",
    "Sept=[40,36,37,38,39]\n",
    "Oct=[44,41,42,43]\n",
    "Nov=[48,45,46,47]\n",
    "Dec=[49,50,51,52,53]\n",
    "#remove=[30060,10026,21360,11360]\n",
    "#data[(data.Week.isin(Jan))&(data.YTDTotalShopSales!=0)&(~data.RitasID.isin(remove))]"
   ]
  },
  {
   "cell_type": "code",
   "execution_count": 62,
   "id": "6128a694",
   "metadata": {},
   "outputs": [
    {
     "data": {
      "text/html": [
       "<div>\n",
       "<style scoped>\n",
       "    .dataframe tbody tr th:only-of-type {\n",
       "        vertical-align: middle;\n",
       "    }\n",
       "\n",
       "    .dataframe tbody tr th {\n",
       "        vertical-align: top;\n",
       "    }\n",
       "\n",
       "    .dataframe thead th {\n",
       "        text-align: right;\n",
       "    }\n",
       "</style>\n",
       "<table border=\"1\" class=\"dataframe\">\n",
       "  <thead>\n",
       "    <tr style=\"text-align: right;\">\n",
       "      <th></th>\n",
       "      <th>StringID</th>\n",
       "      <th>ShopName</th>\n",
       "      <th>State</th>\n",
       "      <th>SpecialVenue</th>\n",
       "      <th>Drive Thru</th>\n",
       "      <th>Site Type</th>\n",
       "      <th>Open Date</th>\n",
       "      <th>SalesMny</th>\n",
       "    </tr>\n",
       "  </thead>\n",
       "  <tbody>\n",
       "    <tr>\n",
       "      <th>3</th>\n",
       "      <td>73</td>\n",
       "      <td>Fort Myers</td>\n",
       "      <td>FL</td>\n",
       "      <td>No</td>\n",
       "      <td>Yes</td>\n",
       "      <td>Free Standing</td>\n",
       "      <td>07/25/1995</td>\n",
       "      <td>85217.042</td>\n",
       "    </tr>\n",
       "    <tr>\n",
       "      <th>27</th>\n",
       "      <td>835</td>\n",
       "      <td>West Palm Beach</td>\n",
       "      <td>FL</td>\n",
       "      <td>No</td>\n",
       "      <td>No</td>\n",
       "      <td>In Line/Strip</td>\n",
       "      <td>07/23/2010</td>\n",
       "      <td>67537.410</td>\n",
       "    </tr>\n",
       "    <tr>\n",
       "      <th>17</th>\n",
       "      <td>585</td>\n",
       "      <td>Southern Palm Crossing</td>\n",
       "      <td>FL</td>\n",
       "      <td>No</td>\n",
       "      <td>No</td>\n",
       "      <td>In Line/Strip</td>\n",
       "      <td>04/28/2008</td>\n",
       "      <td>65641.020</td>\n",
       "    </tr>\n",
       "    <tr>\n",
       "      <th>51</th>\n",
       "      <td>1119</td>\n",
       "      <td>Brea</td>\n",
       "      <td>CA</td>\n",
       "      <td>No</td>\n",
       "      <td>No</td>\n",
       "      <td>In Line/Strip</td>\n",
       "      <td>05/02/2015</td>\n",
       "      <td>53475.060</td>\n",
       "    </tr>\n",
       "    <tr>\n",
       "      <th>48</th>\n",
       "      <td>1065</td>\n",
       "      <td>West LA</td>\n",
       "      <td>CA</td>\n",
       "      <td>No</td>\n",
       "      <td>No</td>\n",
       "      <td>In Line/Strip</td>\n",
       "      <td>07/25/2014</td>\n",
       "      <td>50773.858</td>\n",
       "    </tr>\n",
       "    <tr>\n",
       "      <th>...</th>\n",
       "      <td>...</td>\n",
       "      <td>...</td>\n",
       "      <td>...</td>\n",
       "      <td>...</td>\n",
       "      <td>...</td>\n",
       "      <td>...</td>\n",
       "      <td>...</td>\n",
       "      <td>...</td>\n",
       "    </tr>\n",
       "    <tr>\n",
       "      <th>59</th>\n",
       "      <td>1187</td>\n",
       "      <td>Quakertown</td>\n",
       "      <td>PA</td>\n",
       "      <td>No</td>\n",
       "      <td>No</td>\n",
       "      <td>Free Standing</td>\n",
       "      <td>05/06/2019</td>\n",
       "      <td>607.225</td>\n",
       "    </tr>\n",
       "    <tr>\n",
       "      <th>78</th>\n",
       "      <td>1364</td>\n",
       "      <td>Catonsville</td>\n",
       "      <td>MD</td>\n",
       "      <td>No</td>\n",
       "      <td>No</td>\n",
       "      <td>Free Standing</td>\n",
       "      <td>10/28/2018</td>\n",
       "      <td>86.160</td>\n",
       "    </tr>\n",
       "    <tr>\n",
       "      <th>2</th>\n",
       "      <td>54</td>\n",
       "      <td>Glenside</td>\n",
       "      <td>PA</td>\n",
       "      <td>No</td>\n",
       "      <td>No</td>\n",
       "      <td>Free Standing</td>\n",
       "      <td>04/05/1995</td>\n",
       "      <td>27.960</td>\n",
       "    </tr>\n",
       "    <tr>\n",
       "      <th>90</th>\n",
       "      <td>1390</td>\n",
       "      <td>Altoona</td>\n",
       "      <td>PA</td>\n",
       "      <td>No</td>\n",
       "      <td>No</td>\n",
       "      <td>In Line/Strip</td>\n",
       "      <td>03/14/2019</td>\n",
       "      <td>20.000</td>\n",
       "    </tr>\n",
       "    <tr>\n",
       "      <th>7</th>\n",
       "      <td>292</td>\n",
       "      <td>Seaford</td>\n",
       "      <td>DE</td>\n",
       "      <td>No</td>\n",
       "      <td>No</td>\n",
       "      <td>End Cap</td>\n",
       "      <td>04/18/2003</td>\n",
       "      <td>0.120</td>\n",
       "    </tr>\n",
       "  </tbody>\n",
       "</table>\n",
       "<p>104 rows × 8 columns</p>\n",
       "</div>"
      ],
      "text/plain": [
       "    StringID                ShopName State SpecialVenue Drive Thru  \\\n",
       "3         73              Fort Myers    FL           No        Yes   \n",
       "27       835         West Palm Beach    FL           No         No   \n",
       "17       585  Southern Palm Crossing    FL           No         No   \n",
       "51      1119                    Brea    CA           No         No   \n",
       "48      1065                 West LA    CA           No         No   \n",
       "..       ...                     ...   ...          ...        ...   \n",
       "59      1187              Quakertown    PA           No         No   \n",
       "78      1364             Catonsville    MD           No         No   \n",
       "2         54                Glenside    PA           No         No   \n",
       "90      1390                 Altoona    PA           No         No   \n",
       "7        292                 Seaford    DE           No         No   \n",
       "\n",
       "        Site Type   Open Date   SalesMny  \n",
       "3   Free Standing  07/25/1995  85217.042  \n",
       "27  In Line/Strip  07/23/2010  67537.410  \n",
       "17  In Line/Strip  04/28/2008  65641.020  \n",
       "51  In Line/Strip  05/02/2015  53475.060  \n",
       "48  In Line/Strip  07/25/2014  50773.858  \n",
       "..            ...         ...        ...  \n",
       "59  Free Standing  05/06/2019    607.225  \n",
       "78  Free Standing  10/28/2018     86.160  \n",
       "2   Free Standing  04/05/1995     27.960  \n",
       "90  In Line/Strip  03/14/2019     20.000  \n",
       "7         End Cap  04/18/2003      0.120  \n",
       "\n",
       "[104 rows x 8 columns]"
      ]
     },
     "execution_count": 62,
     "metadata": {},
     "output_type": "execute_result"
    }
   ],
   "source": [
    "data[(data.Week.isin(Jan))&(data.SalesMny!=0)].groupby(['StringID','ShopName','State','SpecialVenue','Drive Thru','Site Type','Open Date'])['SalesMny'].agg('sum').reset_index().sort_values(by='SalesMny',ascending=False)"
   ]
  },
  {
   "cell_type": "code",
   "execution_count": 16,
   "id": "bb644840",
   "metadata": {},
   "outputs": [
    {
     "name": "stderr",
     "output_type": "stream",
     "text": [
      "C:\\Users\\jharned\\Anaconda3\\lib\\site-packages\\xlsxwriter\\workbook.py:339: UserWarning: Calling close() on already closed file.\n",
      "  warn(\"Calling close() on already closed file.\")\n"
     ]
    }
   ],
   "source": [
    "os.chdir(r'L:\\J.Harned\\For Linda')\n",
    "writer=pd.ExcelWriter('2021 Sales Rank by Month Total Sales.xlsx')\n",
    "data[(data.Week.isin(Jan))&(data.SalesMny!=0)].groupby(['StringID','ShopName','State','SpecialVenue'])['SalesMny'].agg('sum').reset_index().sort_values(by='SalesMny',ascending=False).to_excel(writer,sheet_name='Jan',index=False)\n",
    "data[(data.Week.isin(Feb))&(data.SalesMny!=0)].groupby(['StringID','ShopName','State','SpecialVenue'])['SalesMny'].agg('sum').reset_index().sort_values(by='SalesMny',ascending=False).to_excel(writer,sheet_name='Feb',index=False)\n",
    "data[(data.Week.isin(Mar))&(data.SalesMny!=0)].groupby(['StringID','ShopName','State','SpecialVenue'])['SalesMny'].agg('sum').reset_index().sort_values(by='SalesMny',ascending=False).to_excel(writer,sheet_name='Mar',index=False)\n",
    "data[(data.Week.isin(Apr))&(data.SalesMny!=0)].groupby(['StringID','ShopName','State','SpecialVenue'])['SalesMny'].agg('sum').reset_index().sort_values(by='SalesMny',ascending=False).to_excel(writer,sheet_name='Apr',index=False)\n",
    "data[(data.Week.isin(May))&(data.SalesMny!=0)].groupby(['StringID','ShopName','State','SpecialVenue'])['SalesMny'].agg('sum').reset_index().sort_values(by='SalesMny',ascending=False).to_excel(writer,sheet_name='May',index=False)\n",
    "data[(data.Week.isin(June))&(data.SalesMny!=0)].groupby(['StringID','ShopName','State','SpecialVenue'])['SalesMny'].agg('sum').reset_index().sort_values(by='SalesMny',ascending=False).to_excel(writer,sheet_name='June',index=False)\n",
    "data[(data.Week.isin(July))&(data.SalesMny!=0)].groupby(['StringID','ShopName','State','SpecialVenue'])['SalesMny'].agg('sum').reset_index().sort_values(by='SalesMny',ascending=False).to_excel(writer,sheet_name='July',index=False)\n",
    "data[(data.Week.isin(Aug))&(data.SalesMny!=0)].groupby(['StringID','ShopName','State','SpecialVenue'])['SalesMny'].agg('sum').reset_index().sort_values(by='SalesMny',ascending=False).to_excel(writer,sheet_name='Aug',index=False)\n",
    "data[(data.Week.isin(Sept))&(data.SalesMny!=0)].groupby(['StringID','ShopName','State','SpecialVenue'])['SalesMny'].agg('sum').reset_index().sort_values(by='SalesMny',ascending=False).to_excel(writer,sheet_name='Sept',index=False)\n",
    "data[(data.Week.isin(Oct))&(data.SalesMny!=0)].groupby(['StringID','ShopName','State','SpecialVenue'])['SalesMny'].agg('sum').reset_index().sort_values(by='SalesMny',ascending=False).to_excel(writer,sheet_name='Oct',index=False)\n",
    "data[(data.Week.isin(Nov))&(data.SalesMny!=0)].groupby(['StringID','ShopName','State','SpecialVenue'])['SalesMny'].agg('sum').reset_index().sort_values(by='SalesMny',ascending=False).to_excel(writer,sheet_name='Nov',index=False)\n",
    "data[(data.Week.isin(Dec))&(data.SalesMny!=0)].groupby(['StringID','ShopName','State','SpecialVenue'])['SalesMny'].agg('sum').reset_index().sort_values(by='SalesMny',ascending=False).to_excel(writer,sheet_name='Dec',index=False)\n",
    "writer.close()\n",
    "writer.save()"
   ]
  },
  {
   "cell_type": "code",
   "execution_count": null,
   "id": "4d03d37a",
   "metadata": {},
   "outputs": [],
   "source": []
  }
 ],
 "metadata": {
  "kernelspec": {
   "display_name": "Python 3 (ipykernel)",
   "language": "python",
   "name": "python3"
  },
  "language_info": {
   "codemirror_mode": {
    "name": "ipython",
    "version": 3
   },
   "file_extension": ".py",
   "mimetype": "text/x-python",
   "name": "python",
   "nbconvert_exporter": "python",
   "pygments_lexer": "ipython3",
   "version": "3.9.12"
  }
 },
 "nbformat": 4,
 "nbformat_minor": 5
}
