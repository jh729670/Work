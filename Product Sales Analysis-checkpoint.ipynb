{
 "cells": [
  {
   "cell_type": "code",
   "execution_count": 42,
   "id": "17273ef1",
   "metadata": {},
   "outputs": [],
   "source": [
    "import os\n",
    "import numpy as np\n",
    "import pandas as pd\n",
    "import matplotlib.pyplot as plt\n",
    "from matplotlib.pyplot import figure\n",
    "from openpyxl import load_workbook\n",
    "pd.options.display.float_format = '{:.2f}'.format"
   ]
  },
  {
   "cell_type": "code",
   "execution_count": 3,
   "id": "11434810",
   "metadata": {},
   "outputs": [],
   "source": [
    "os.chdir(r'L:\\07 Sales Analysis\\Ad Hoc')"
   ]
  },
  {
   "cell_type": "code",
   "execution_count": 5,
   "id": "0a748895",
   "metadata": {},
   "outputs": [],
   "source": [
    "data=pd.read_excel('2022 SRS.xlsx')"
   ]
  },
  {
   "cell_type": "code",
   "execution_count": 6,
   "id": "d33baf3d",
   "metadata": {},
   "outputs": [
    {
     "data": {
      "text/plain": [
       "Index(['Shop .', 'Shop Name', 'Shop Status', 'Shop Type', 'Site Type',\n",
       "       'Week-ending date', 'Year', 'Week Number', 'Edit Date', 'Amount',\n",
       "       'Product Type', 'Product Size', 'Product Type ID', 'Product Size ID'],\n",
       "      dtype='object')"
      ]
     },
     "execution_count": 6,
     "metadata": {},
     "output_type": "execute_result"
    }
   ],
   "source": [
    "data.columns"
   ]
  },
  {
   "cell_type": "code",
   "execution_count": 7,
   "id": "1c0ce20c",
   "metadata": {},
   "outputs": [
    {
     "data": {
      "text/plain": [
       "array(['Lodi', 'Laurel', 'Court Street', 'Seminole', 'Ocean County Mall',\n",
       "       'Glen Rock', 'Lawrence', 'Franklin Mills Mall', 'Hilton Head',\n",
       "       'Greenville SC', 'Seneca', '13529 Beach Blvd.-Jacksonville FL',\n",
       "       'Melbourne', 'Naples', 'Moorestown Mall', 'Ocala',\n",
       "       '409 Mills Ave-Greenville SC', 'Burbank IL',\n",
       "       'The Shops at Bedford Crossing', 'Galveston', 'Tatum Point',\n",
       "       'Castro Valley', 'Arcadia Towne Center', 'Burtonsville', 'Reno',\n",
       "       '119 S Boyd Street-Winter Garden FL', 'Kings Dominion',\n",
       "       'Naples Mobile 1-1', '5860 Lower York Rd-Lahaska PA',\n",
       "       '2600 White Hall Blvd-White Hall WV', 'Santa Clarita',\n",
       "       'Marley Station', 'Vero Beach', 'Glendale Foothills', 'Foley',\n",
       "       'Plaza Shopping Center', 'Leesburg', 'Eagleview', 'Newbury Park',\n",
       "       'San Carlos', 'Walmart Yorktown VA', 'West LA', 'Quarry Lake',\n",
       "       'Hickory Falls', 'Colorado Springs', 'Vienna',\n",
       "       'Southern Palm Crossing', 'Alameda', 'Conway AR',\n",
       "       'Putt-Putt Fun Center', 'Fort Collins', 'Fremont', 'Surfside',\n",
       "       'Collins Avenue', 'Hialeah', 'Bayonne', 'Northwood Plaza',\n",
       "       'Coral Springs', '11567 Regency Village Dr.-Orlando FL',\n",
       "       'Santa Clara', '313 Johnson St-Hollywood FL',\n",
       "       '3011 E Las Olas Blvd-Fort Lauderdale FL', 'Savannah',\n",
       "       'Arlington TX', 'Pigeon Forge', 'Riverton UT', 'Jordan Landing',\n",
       "       'Parker', 'Hilliard', 'Dana Point', 'Murrieta',\n",
       "       'East Colorado Springs', '160 Malabar Rd SW-North Palm Bay FL',\n",
       "       '7525 Tilghman Street-Fogelsville PA', 'Madison AL',\n",
       "       'Whitehall Ferry Terminal', 'Harpers Farm Road',\n",
       "       'Kings Contrivance Village Center', 'Fort Myers',\n",
       "       'State Farm Arena', '5030 W State 46 Rd-Sanford FL',\n",
       "       '421 NY-59-Monsey NY', '110 W Main St-Carmel IN',\n",
       "       '4255 Tamiami Trail-Port Charlotte FL',\n",
       "       '14337 S. US Highway 301-Wimauma FL',\n",
       "       '3115 US Hwy 98 N-Lakeland FL', 'Westminster', 'Ridgeside Drive',\n",
       "       'Lakewood', '101 Woodcutter St-Exton PA', 'Brentwood',\n",
       "       '1840 Christian Care Way-KY', 'Middlesex', 'Hampton VA',\n",
       "       '1201 University Blvd-Tuscaloosa AL', 'Asheville', 'Shrewsbury',\n",
       "       'Mt. Joy', 'Tuscaloosa Mobile 1-1', 'Ambler', 'Houston Heights',\n",
       "       'Wyncote', 'Bel Air', 'Shippensburg', 'North Arlington',\n",
       "       'Holland MI', 'Brea', 'Henderson Road', 'Curry Hollow', 'Absecon',\n",
       "       'Fallston', 'Jacksonville Beach', 'Quakertown',\n",
       "       '4299 Chantilly Shopping Cnt-Chantilly VA', 'Catonsville',\n",
       "       'Ballantyne', 'Durham Road', 'Seaford',\n",
       "       '4255 Tamiami Trail-Port Charlotte FL Mobile', 'Domino Lane',\n",
       "       '804 2nd Loop Rd-Florence SC', 'Hazleton', 'Havertown',\n",
       "       'Kennett Square', 'Rising Sun', 'Elkins Park', 'Pine Hill',\n",
       "       '2nd and Grange', 'Rockland', 'Wissahickon', 'Glenside',\n",
       "       'Abington', 'Reno Mobile 1-2', 'Hunting Park', 'Maryland Avenue',\n",
       "       'Blandon', '2015 Main Street-Northampton PA', 'Levittown',\n",
       "       '3610 Bristol Rd-Bensalem PA', 'Philadelphia Pike',\n",
       "       'Community Plaza', 'Joppa Road', 'Woodbridge', 'Pequannock',\n",
       "       'Pennsville', 'Aston', 'Folsom', 'Drexel Hill', 'Royersford',\n",
       "       'Coventry', 'Bethlehem', 'Brodheadsville', 'Forest Hill',\n",
       "       'The Arbors', 'Emmorton Road', 'South Brunswick', 'Berlin',\n",
       "       'Flourtown', 'West Chester Pike', 'Carroll Island', 'E-Town',\n",
       "       'Point Pleasant', 'City Avenue', 'Emaus Avenue', 'St. Augustine',\n",
       "       'La Plata', 'Hockessin', 'Medford', 'Pottstown', 'Oxford',\n",
       "       'Boyertown', 'Walnutport', 'Flanders Village Mall', 'Scott Twp',\n",
       "       'Collingdale', 'Downingtown', 'Rehoboth Beach', 'Voorhees',\n",
       "       'South Street West', '4900 Carlisle Pk-Mechanicsburg PA',\n",
       "       'Trinity Point', '3638 E Landis Ave-Vineland NJ', 'Kirkwood',\n",
       "       'Severna Park', 'Milford', 'Dover', 'Kent Island', 'Aberdeen',\n",
       "       'Edison', 'Freehold', 'Hamilton Square', 'Neptune',\n",
       "       'South Plainfield', 'Brick', 'East Windsor', 'Bridgeton',\n",
       "       'Sayreville', 'Clinton', 'Franklin Square', 'Bloomfield', 'Nutley',\n",
       "       'Rhawn Street', 'Newtown', 'Grant Avenue', 'Brookhaven',\n",
       "       'Richboro', '222 E Main St-Collegeville PA', 'Rockledge',\n",
       "       'Gettysburg', 'West Chester', 'Warminster', 'Penn Hills',\n",
       "       'Hometown', 'Wind Gap', 'Roosevelt Mall', 'Mt. Penn', 'Lehighton',\n",
       "       'Schnecksville', 'Feasterville', 'Loucks Road', 'Mount Pocono',\n",
       "       'Solomons', 'Fishers', 'Union Beach', 'Selinsgrove', 'Middletown',\n",
       "       'Fairfax', '470 Schooleys Mountain Rd-Hackettstown NJ', 'Media',\n",
       "       '23 State Rt. 12-Flemington NJ', 'Chalfont', 'Dickson City',\n",
       "       'Wyndmoor', 'Fishtown', 'Little Falls', 'Cinnaminson', 'Lancaster',\n",
       "       'Nazareth', 'Whitehouse Station', 'Independence Plaza', 'Dundalk',\n",
       "       'Mt Airy', 'West Oak Lane', 'Manalapan', 'Pasadena', 'Penndel',\n",
       "       'Gap', 'Glassboro', 'Mantua', 'West Hartford', 'Germantown',\n",
       "       'Elkton', 'Scranton', 'Stroudsburg', 'Croydon', 'South Windsor',\n",
       "       'Prince Street', 'Woodhaven', 'Montgomeryville', 'Lansdale',\n",
       "       'Pine Valley', 'Stewartsville', 'Deer Park', 'Oceanside',\n",
       "       'Westmont', 'Runnemede', 'Tilghman', 'Union', 'Wescosville',\n",
       "       '29 Easton Rd-Warrington PA', 'Crofton', 'Hagerstown', 'Mahwah',\n",
       "       'Westerville', 'Morgantown', 'Concord Pike', 'Whitehall', 'Paoli',\n",
       "       'Lawrenceville', 'Furlong', 'Millville', 'Franklin Park',\n",
       "       'Willow Grove', 'Roselle', 'North East', 'Danville', 'Holland',\n",
       "       'Sewell', 'Glen Burnie', 'Savannah Mobile 1-1', 'Sicklerville',\n",
       "       'Morrisville', 'Birdsboro', 'Palmer Township', 'Lewistown',\n",
       "       'Lemoyne', 'Princeton', 'Bedford',\n",
       "       'Toms River - Fischer Boulevard', 'Hermitage',\n",
       "       '106 Marlboro Ave-Easton MD', 'Rio Grande',\n",
       "       '5  Mission Road-Bordentown NJ', 'Eatontown', '15th and Spruce',\n",
       "       'Highspire', 'Shillington', 'Hillsborough', 'North Brunswick',\n",
       "       'Charlotte Hall', 'Apple Valley', '427 State St-Erie PA',\n",
       "       'Joppatowne', 'Marple Township', 'Dunkirk', 'Limekiln Pike',\n",
       "       'Hopelawn', '1130 Main St.-Hellertown PA',\n",
       "       '1380 Easton Rd-Warrington PA', '50 W. Bay Ave.-Manahawkin NJ',\n",
       "       '430 Lancaster Ave-Malvern PA',\n",
       "       '738 Prince Frederick Blvd-Prince Frederick MD',\n",
       "       '340 Town Center Ave.-Suwanee GA', 'New London', 'East Orange',\n",
       "       'Burlington', 'Kingston', 'Palmyra', 'Claymont', 'Rocky Hill',\n",
       "       'Rhode Island Avenue', 'Silverside', 'Ellisburg Circle', 'Wexford',\n",
       "       'Chadds Ford', 'Oxon Hill', 'Newark', 'Smyrna', 'Bear',\n",
       "       'Frederick', 'Salisbury', 'Towson', 'Ellicott City',\n",
       "       'Silver Spring', 'Kinney Place', 'Hunt Valley', 'Owings Mills',\n",
       "       'Ewing', 'Hamilton', 'Old Bridge', 'Mercerville', 'Rahway',\n",
       "       'Hammonton', 'Northfield', 'Berkeley Heights', 'Bridgewater',\n",
       "       'Stuyvesant Avenue', 'Dolson Ave.', 'Academy', 'Sinking Spring',\n",
       "       '5th Street Highway', 'Babcock and Glenwood', 'Holme Circle',\n",
       "       'Williamsport', 'White Oak', 'Cleona', 'Bloomsburg', 'Cranberry',\n",
       "       'East Lampeter', 'Lititz', 'Pottsville', 'Harbison', 'Macungie',\n",
       "       'Newport News', 'Greenbrier Shoppes', 'Trooper',\n",
       "       'Frankford Avenue', '621 Boll Weevil Cr-Enterprise AL', 'Dunmore',\n",
       "       'Monticello Avenue', 'Penns Cup', 'Manheim Pike', 'Fort Mill',\n",
       "       'Edgewater', 'Manheim', 'Bethel Park', 'Evesboro',\n",
       "       'Reisterstown Plaza', 'Upper Darby', 'Belle Vernon',\n",
       "       'Zieglerville', 'Willingboro', 'Wisteria Drive',\n",
       "       'Ritas in the Vista', 'New Town Village', 'Piscataway',\n",
       "       'Wood-Ridge', 'Brooklyn-Midwood', 'Southington', 'Mayfair',\n",
       "       'Gahanna', 'Woodbury', 'River Place', 'Edmondson Avenue',\n",
       "       'Derwood', 'Vernon', 'Gulf Shores', 'Kettering',\n",
       "       'Schuylkill Haven', 'Logan Township', 'Linglestown',\n",
       "       'Union Deposit Road', 'Sterling Heights', 'Squirrel Hill',\n",
       "       'Waldorf', 'Bowie', 'Fells Point', 'Middlebury CT',\n",
       "       'Bethany Beach', '1609 N. Atherton St-State College PA',\n",
       "       'Farmington', 'Lutherville-Timonium', 'Oakland', 'York',\n",
       "       'Windsor Mill', 'Ephrata', '1806 Rozzelles Ferry Rd-Charlotte NC',\n",
       "       'Norristown', 'Englewood',\n",
       "       '711 West 40th St. at the Rotunda-Baltimore MD', 'Elkridge',\n",
       "       'Leavells Square', 'Hoboken', 'Rosedale', 'Virginia Beach',\n",
       "       'Harleysville', 'Altoona', 'Overlea Fullerton',\n",
       "       '51st Street-Brooklyn', '1028 Lincoln Pl-Brooklyn NY', 'Bryn Mawr',\n",
       "       'Red Lion', 'Canton Crossing', 'Pughtown', 'Blue Bell',\n",
       "       'Linthicum Heights', 'South Street', 'Scotch Plains',\n",
       "       '25836 Middlebelt Rd-Farmington Hills MI', 'Queen Street',\n",
       "       'Carlisle', '157 N Northwest Hwy-Park Ridge IL', 'Castle Shannon',\n",
       "       'Essex', 'Eddystone', 'Gore Road', 'Irvington',\n",
       "       '125 E 9th St-Berwick PA', 'Huntingdon Valley',\n",
       "       '1811 E. 7th St-Brooklyn NY', 'Cherry Hill', 'Bay Ridge Road',\n",
       "       'Annapolis', 'Inner Harbor', 'Browns Mills', 'Plymouth Meeting',\n",
       "       'Perry Hall', 'Steubenville Pike', 'Hampstead', 'Jackson',\n",
       "       'Toms River', 'McMurray', 'Perimeter', '8945 Ridge Ave-Phila PA',\n",
       "       '250 W Camden Ave-Moorestown NJ', '1213 Liberty Rd-Eldersburg MD',\n",
       "       '1111 Odenton Rd-Odenton MD', '2614 Corning Rd-Horseheads NY',\n",
       "       'Yorktown', '695 Rt. 9 S.-Little Egg Harbor NJ', 'Carowinds',\n",
       "       'Forestville', 'Capitol Hill', 'Nolensville', 'Rehoboth Avenue',\n",
       "       'Rochester', 'Curry Hollow - Drive-Thru',\n",
       "       '1 N. Forest Beach-Hilton Head SC',\n",
       "       '8900 Baltimore Ave-College Park',\n",
       "       '6796 Reisterstown Rd-Baltimore MD',\n",
       "       '9700 Groffs Mill Dr-Owings Mills MD',\n",
       "       'Six Flags America-Mitchellville MD', '51 E 4th St-Bridgeport PA',\n",
       "       'Rivers Casino', '1016 Diffley Rd-Eagan MN',\n",
       "       '3131 Rt. 38-Mt. Laurel NJ', '7211 Muncaster Mill Rd-Derwood MD',\n",
       "       '41st and Coastal Highway', 'Jersey Shore Premium Outlets',\n",
       "       '8615 Liberty Rd-Randallstown MD', 'West Des Moines',\n",
       "       '902 Boardwalk-Ocean City NJ', 'East Colorado Springs Mobile 1-1',\n",
       "       'Blandon Mobile 1-2', 'Surf City',\n",
       "       '6 S. Atlantic Ave-Ocean City MD', 'Cape May',\n",
       "       '5351 Lincoln Hwy.-Gap PA', '85 Doe Run Rd-Manheim PA',\n",
       "       '1458 Chestnut St-Emmaus PA',\n",
       "       'Six Flags Great Adventure-Jackson NJ', 'Atlantic City',\n",
       "       'Mann Center', 'Durham Bulls Athletic Park',\n",
       "       'University of South Carolina', 'Dutch Wonderland',\n",
       "       'Prince Frederick Mobile', '5931 International Dr-Orlando FL',\n",
       "       '5940 W Union Hills Dr-Glendale Foothills AZ',\n",
       "       'Oakland Mobile 1-1', 'Holland Rd VA Mobile 1-3',\n",
       "       'Putt-Putt Fun Center - Mobile', 'Foley Mobile 1-1',\n",
       "       'Madison AL Mobile 1-1', 'Hickory Falls Mobile 1-1',\n",
       "       'Holland Rd VA Mobile 1-1', 'Seaford Mobile', 'Pottsville Mobile',\n",
       "       'Quakertown - Mobile', 'Roselle Mobile 1-2', 'Eldersburg Mobile',\n",
       "       'Queenstown Premium Outlets Mobile 1-1', 'Bloomsburg Mobile'],\n",
       "      dtype=object)"
      ]
     },
     "execution_count": 7,
     "metadata": {},
     "output_type": "execute_result"
    }
   ],
   "source": [
    "data['Shop Name'].unique()"
   ]
  },
  {
   "cell_type": "code",
   "execution_count": 8,
   "id": "7ac6ff53",
   "metadata": {},
   "outputs": [
    {
     "data": {
      "text/plain": [
       "533"
      ]
     },
     "execution_count": 8,
     "metadata": {},
     "output_type": "execute_result"
    }
   ],
   "source": [
    "data['Shop Name'].nunique()"
   ]
  },
  {
   "cell_type": "code",
   "execution_count": 9,
   "id": "97e8471d",
   "metadata": {},
   "outputs": [
    {
     "data": {
      "text/plain": [
       "array(['Walk-in', 'Walk-up', 'Mall', 'Walk-in / Walk-up',\n",
       "       'Mobile with POS', 'Fixed Special Venue', 'Fixed Standard',\n",
       "       'Mobile'], dtype=object)"
      ]
     },
     "execution_count": 9,
     "metadata": {},
     "output_type": "execute_result"
    }
   ],
   "source": [
    "data['Shop Type'].unique()"
   ]
  },
  {
   "cell_type": "code",
   "execution_count": 12,
   "id": "3095bbb2",
   "metadata": {},
   "outputs": [
    {
     "data": {
      "text/plain": [
       "Shop Type\n",
       "Fixed Special Venue      69841.53\n",
       "Fixed Standard          116188.78\n",
       "Mall                    303046.33\n",
       "Mobile                  245263.79\n",
       "Mobile with POS         233864.73\n",
       "Walk-in                8383973.01\n",
       "Walk-in / Walk-up      2002937.76\n",
       "Walk-up               28686602.31\n",
       "Name: Amount, dtype: float64"
      ]
     },
     "execution_count": 12,
     "metadata": {},
     "output_type": "execute_result"
    }
   ],
   "source": [
    "data.groupby('Shop Type')['Amount'].sum()"
   ]
  },
  {
   "cell_type": "code",
   "execution_count": 13,
   "id": "b60e3b22",
   "metadata": {},
   "outputs": [],
   "source": [
    "os.chdir(r'G:\\FinanceReports\\2022\\Wk34')"
   ]
  },
  {
   "cell_type": "code",
   "execution_count": 14,
   "id": "f8f2b1ce",
   "metadata": {},
   "outputs": [],
   "source": [
    "products=pd.read_excel('2022-SRSsales-productLevel-wk1-34.xlsx',sheet_name='2022')"
   ]
  },
  {
   "cell_type": "code",
   "execution_count": 56,
   "id": "a98c91f0",
   "metadata": {},
   "outputs": [],
   "source": [
    "sales_region=products.groupby('Region')['SalesMny'].sum().reset_index()"
   ]
  },
  {
   "cell_type": "code",
   "execution_count": 26,
   "id": "fe5051c2",
   "metadata": {},
   "outputs": [],
   "source": [
    "quanity=pd.DataFrame(products.groupby('ProductTypeName')['SalesQty'].sum().nlargest(10)).reset_index()"
   ]
  },
  {
   "cell_type": "code",
   "execution_count": 23,
   "id": "ad5cef97",
   "metadata": {},
   "outputs": [
    {
     "data": {
      "text/plain": [
       "False    478138\n",
       "Name: ProductTypeName, dtype: int64"
      ]
     },
     "execution_count": 23,
     "metadata": {},
     "output_type": "execute_result"
    }
   ],
   "source": [
    "products.ProductTypeName.isna().value_counts()"
   ]
  },
  {
   "cell_type": "code",
   "execution_count": 38,
   "id": "4b347238",
   "metadata": {},
   "outputs": [
    {
     "data": {
      "text/plain": [
       "Text(0, 0.5, 'Sales Quantity')"
      ]
     },
     "execution_count": 38,
     "metadata": {},
     "output_type": "execute_result"
    },
    {
     "data": {
      "image/png": "[encoded data removed]",
      "text/plain": [
       "<Figure size 1440x720 with 1 Axes>"
      ]
     },
     "metadata": {
      "needs_background": "light"
     },
     "output_type": "display_data"
    }
   ],
   "source": [
    "figure(figsize=(20,10))\n",
    "plt.bar(quanity.ProductTypeName,quanity.SalesQty)\n",
    "plt.title('Highest Selling Products')\n",
    "plt.xlabel('Products')\n",
    "plt.ylabel('Sales Quantity')"
   ]
  },
  {
   "cell_type": "code",
   "execution_count": 41,
   "id": "012e96fc",
   "metadata": {},
   "outputs": [
    {
     "data": {
      "text/plain": [
       "Region        ProductTypeName    \n",
       "Mid-Atlantic  Italian Ice            7298689\n",
       "              Custard                6280822\n",
       "              Gelati                 5670994\n",
       "              Blendini/Concrete      1161356\n",
       "              Additional Toppings     966662\n",
       "                                      ...   \n",
       "West          Discount                     0\n",
       "Northeast     Discount                     0\n",
       "Midwest       Discount                     0\n",
       "Northeast     3rd Party Delivery           0\n",
       "Southwest     Discount                     0\n",
       "Name: SalesQty, Length: 133, dtype: int64"
      ]
     },
     "execution_count": 41,
     "metadata": {},
     "output_type": "execute_result"
    }
   ],
   "source": [
    "products.groupby(['Region','ProductTypeName'])['SalesQty'].sum().sort_values(ascending=False)"
   ]
  },
  {
   "cell_type": "code",
   "execution_count": 46,
   "id": "33e67123",
   "metadata": {},
   "outputs": [
    {
     "name": "stdout",
     "output_type": "stream",
     "text": [
      "8\n",
      "['Walk-up' 'Walk-in' 'Mall' 'Walk-in / Walk-up' 'Special Venue'\n",
      " 'Mobile with POS' 'Mobile' 'Fixed Standard']\n"
     ]
    }
   ],
   "source": [
    "print(products.LegacyShopType.nunique())\n",
    "print(products.LegacyShopType.unique())"
   ]
  },
  {
   "cell_type": "code",
   "execution_count": 48,
   "id": "e4bcf4ea",
   "metadata": {},
   "outputs": [
    {
     "data": {
      "text/plain": [
       "LegacyShopType\n",
       "Fixed Standard        373709.14\n",
       "Mall                  693004.03\n",
       "Mobile               1162131.74\n",
       "Mobile with POS       791536.88\n",
       "Special Venue         473320.45\n",
       "Walk-in             25043026.36\n",
       "Walk-in / Walk-up    6991706.37\n",
       "Walk-up             98365380.37\n",
       "Name: SalesMny, dtype: float64"
      ]
     },
     "execution_count": 48,
     "metadata": {},
     "output_type": "execute_result"
    }
   ],
   "source": [
    "products.groupby('LegacyShopType')['SalesMny'].sum()"
   ]
  },
  {
   "cell_type": "code",
   "execution_count": 60,
   "id": "925079c1",
   "metadata": {},
   "outputs": [
    {
     "data": {
      "text/plain": [
       "246"
      ]
     },
     "execution_count": 60,
     "metadata": {},
     "output_type": "execute_result"
    }
   ],
   "source": [
    "co_op=products[products['CoOpStatus']=='Yes']\n",
    "co_op.ShopID.nunique()"
   ]
  },
  {
   "cell_type": "code",
   "execution_count": 64,
   "id": "94ad281d",
   "metadata": {},
   "outputs": [],
   "source": [
    "region_product=products.groupby(['Region','ProductSizeName'])[['SalesMny','SalesQty']].sum().reset_index().sort_values(ascending=False,by='SalesMny')"
   ]
  },
  {
   "cell_type": "code",
   "execution_count": 69,
   "id": "db8e562a",
   "metadata": {},
   "outputs": [],
   "source": [
    "region_productType=products.groupby(['Region','ProductTypeName'])[['SalesMny','SalesQty']].sum().reset_index().sort_values(ascending=False, by='SalesMny')"
   ]
  },
  {
   "cell_type": "code",
   "execution_count": 73,
   "id": "cd2899fc",
   "metadata": {},
   "outputs": [
    {
     "name": "stderr",
     "output_type": "stream",
     "text": [
      "C:\\Users\\jharned\\Anaconda3\\lib\\site-packages\\xlsxwriter\\workbook.py:339: UserWarning: Calling close() on already closed file.\n",
      "  warn(\"Calling close() on already closed file.\")\n"
     ]
    }
   ],
   "source": [
    "writer=pd.ExcelWriter('SRS Analysis.xlsx')\n",
    "quanity.to_excel(writer, sheet_name='Product Type Quanity', index=False)\n",
    "sales_region.to_excel(writer, sheet_name='Sales by Region', index=False)\n",
    "products.groupby('LegacyShopType')['SalesMny'].sum().reset_index().to_excel(writer, sheet_name='Legacy Shop Sales', index=False)\n",
    "region_product.to_excel(writer, sheet_name='Region Product Qty Sale', index=False)\n",
    "region_productType.to_excel(writer, sheet_name='Region ProductType QtySale', index=False)\n",
    "writer.save()\n",
    "writer.close()"
   ]
  },
  {
   "cell_type": "code",
   "execution_count": 76,
   "id": "cde8bed0",
   "metadata": {},
   "outputs": [],
   "source": [
    "products.groupby(['Region','State','ProductTypeName'])[['SalesMny','SalesQty']].sum().reset_index().to_excel('Region State Analysis.xlsx',index=False)"
   ]
  },
  {
   "cell_type": "code",
   "execution_count": 77,
   "id": "a2e10046",
   "metadata": {},
   "outputs": [
    {
     "data": {
      "text/html": [
       "<div>\n",
       "<style scoped>\n",
       "    .dataframe tbody tr th:only-of-type {\n",
       "        vertical-align: middle;\n",
       "    }\n",
       "\n",
       "    .dataframe tbody tr th {\n",
       "        vertical-align: top;\n",
       "    }\n",
       "\n",
       "    .dataframe thead th {\n",
       "        text-align: right;\n",
       "    }\n",
       "</style>\n",
       "<table border=\"1\" class=\"dataframe\">\n",
       "  <thead>\n",
       "    <tr style=\"text-align: right;\">\n",
       "      <th></th>\n",
       "      <th>Shop .</th>\n",
       "      <th>Shop Name</th>\n",
       "      <th>Shop Status</th>\n",
       "      <th>Shop Type</th>\n",
       "      <th>Site Type</th>\n",
       "      <th>Week-ending date</th>\n",
       "      <th>Year</th>\n",
       "      <th>Week Number</th>\n",
       "      <th>Edit Date</th>\n",
       "      <th>Amount</th>\n",
       "      <th>Product Type</th>\n",
       "      <th>Product Size</th>\n",
       "      <th>Product Type ID</th>\n",
       "      <th>Product Size ID</th>\n",
       "    </tr>\n",
       "  </thead>\n",
       "  <tbody>\n",
       "    <tr>\n",
       "      <th>0</th>\n",
       "      <td>617</td>\n",
       "      <td>Lodi</td>\n",
       "      <td>Rita's Store</td>\n",
       "      <td>Walk-in</td>\n",
       "      <td>In Line/Strip</td>\n",
       "      <td>2022-01-02</td>\n",
       "      <td>2022</td>\n",
       "      <td>1</td>\n",
       "      <td>2022-01-03 17:43:05.507</td>\n",
       "      <td>86.71</td>\n",
       "      <td>Italian Ice</td>\n",
       "      <td>Kids Ice</td>\n",
       "      <td>1</td>\n",
       "      <td>5</td>\n",
       "    </tr>\n",
       "    <tr>\n",
       "      <th>1</th>\n",
       "      <td>617</td>\n",
       "      <td>Lodi</td>\n",
       "      <td>Rita's Store</td>\n",
       "      <td>Walk-in</td>\n",
       "      <td>In Line/Strip</td>\n",
       "      <td>2022-01-02</td>\n",
       "      <td>2022</td>\n",
       "      <td>1</td>\n",
       "      <td>2022-01-03 17:43:05.507</td>\n",
       "      <td>215.40</td>\n",
       "      <td>Italian Ice</td>\n",
       "      <td>Small Ice</td>\n",
       "      <td>1</td>\n",
       "      <td>1246</td>\n",
       "    </tr>\n",
       "    <tr>\n",
       "      <th>2</th>\n",
       "      <td>617</td>\n",
       "      <td>Lodi</td>\n",
       "      <td>Rita's Store</td>\n",
       "      <td>Walk-in</td>\n",
       "      <td>In Line/Strip</td>\n",
       "      <td>2022-01-02</td>\n",
       "      <td>2022</td>\n",
       "      <td>1</td>\n",
       "      <td>2022-01-03 17:43:05.507</td>\n",
       "      <td>122.70</td>\n",
       "      <td>Italian Ice</td>\n",
       "      <td>Large Ice</td>\n",
       "      <td>1</td>\n",
       "      <td>7</td>\n",
       "    </tr>\n",
       "    <tr>\n",
       "      <th>3</th>\n",
       "      <td>617</td>\n",
       "      <td>Lodi</td>\n",
       "      <td>Rita's Store</td>\n",
       "      <td>Walk-in</td>\n",
       "      <td>In Line/Strip</td>\n",
       "      <td>2022-01-02</td>\n",
       "      <td>2022</td>\n",
       "      <td>1</td>\n",
       "      <td>2022-01-03 17:43:05.507</td>\n",
       "      <td>0.00</td>\n",
       "      <td>Italian Ice</td>\n",
       "      <td>Ice Flights</td>\n",
       "      <td>1</td>\n",
       "      <td>454</td>\n",
       "    </tr>\n",
       "    <tr>\n",
       "      <th>4</th>\n",
       "      <td>617</td>\n",
       "      <td>Lodi</td>\n",
       "      <td>Rita's Store</td>\n",
       "      <td>Walk-in</td>\n",
       "      <td>In Line/Strip</td>\n",
       "      <td>2022-01-02</td>\n",
       "      <td>2022</td>\n",
       "      <td>1</td>\n",
       "      <td>2022-01-03 17:43:05.507</td>\n",
       "      <td>226.88</td>\n",
       "      <td>Italian Ice</td>\n",
       "      <td>Quart Ice</td>\n",
       "      <td>1</td>\n",
       "      <td>8</td>\n",
       "    </tr>\n",
       "    <tr>\n",
       "      <th>...</th>\n",
       "      <td>...</td>\n",
       "      <td>...</td>\n",
       "      <td>...</td>\n",
       "      <td>...</td>\n",
       "      <td>...</td>\n",
       "      <td>...</td>\n",
       "      <td>...</td>\n",
       "      <td>...</td>\n",
       "      <td>...</td>\n",
       "      <td>...</td>\n",
       "      <td>...</td>\n",
       "      <td>...</td>\n",
       "      <td>...</td>\n",
       "      <td>...</td>\n",
       "    </tr>\n",
       "    <tr>\n",
       "      <th>195255</th>\n",
       "      <td>712</td>\n",
       "      <td>9700 Groffs Mill Dr-Owings Mills MD</td>\n",
       "      <td>Rita's Store</td>\n",
       "      <td>Walk-up</td>\n",
       "      <td>End Cap</td>\n",
       "      <td>2022-05-08</td>\n",
       "      <td>2022</td>\n",
       "      <td>19</td>\n",
       "      <td>2022-05-10 01:15:26.530</td>\n",
       "      <td>-6.18</td>\n",
       "      <td>Discount</td>\n",
       "      <td>Discount</td>\n",
       "      <td>Discount</td>\n",
       "      <td>Discount</td>\n",
       "    </tr>\n",
       "    <tr>\n",
       "      <th>195256</th>\n",
       "      <td>712</td>\n",
       "      <td>9700 Groffs Mill Dr-Owings Mills MD</td>\n",
       "      <td>Rita's Store</td>\n",
       "      <td>Walk-up</td>\n",
       "      <td>End Cap</td>\n",
       "      <td>2022-05-08</td>\n",
       "      <td>2022</td>\n",
       "      <td>19</td>\n",
       "      <td>2022-05-10 01:15:26.530</td>\n",
       "      <td>-11.07</td>\n",
       "      <td>Discount</td>\n",
       "      <td>Discount</td>\n",
       "      <td>Discount</td>\n",
       "      <td>Discount</td>\n",
       "    </tr>\n",
       "    <tr>\n",
       "      <th>195257</th>\n",
       "      <td>257</td>\n",
       "      <td>5351 Lincoln Hwy.-Gap PA</td>\n",
       "      <td>Rita's Store</td>\n",
       "      <td>Walk-up</td>\n",
       "      <td>Free Standing</td>\n",
       "      <td>2022-05-08</td>\n",
       "      <td>2022</td>\n",
       "      <td>19</td>\n",
       "      <td>2022-05-10 01:15:26.530</td>\n",
       "      <td>-9.60</td>\n",
       "      <td>Discount</td>\n",
       "      <td>Discount</td>\n",
       "      <td>Discount</td>\n",
       "      <td>Discount</td>\n",
       "    </tr>\n",
       "    <tr>\n",
       "      <th>195258</th>\n",
       "      <td>417</td>\n",
       "      <td>85 Doe Run Rd-Manheim PA</td>\n",
       "      <td>Rita's Store</td>\n",
       "      <td>Walk-up</td>\n",
       "      <td>End Cap</td>\n",
       "      <td>2022-05-08</td>\n",
       "      <td>2022</td>\n",
       "      <td>19</td>\n",
       "      <td>2022-05-10 01:15:26.530</td>\n",
       "      <td>-168.83</td>\n",
       "      <td>Discount</td>\n",
       "      <td>Discount</td>\n",
       "      <td>Discount</td>\n",
       "      <td>Discount</td>\n",
       "    </tr>\n",
       "    <tr>\n",
       "      <th>195259</th>\n",
       "      <td>934</td>\n",
       "      <td>5940 W Union Hills Dr-Glendale Foothills AZ</td>\n",
       "      <td>Rita's Store</td>\n",
       "      <td>Walk-up</td>\n",
       "      <td>Free Standing</td>\n",
       "      <td>2022-05-08</td>\n",
       "      <td>2022</td>\n",
       "      <td>19</td>\n",
       "      <td>2022-05-10 01:15:26.530</td>\n",
       "      <td>-23.81</td>\n",
       "      <td>Discount</td>\n",
       "      <td>Discount</td>\n",
       "      <td>Discount</td>\n",
       "      <td>Discount</td>\n",
       "    </tr>\n",
       "  </tbody>\n",
       "</table>\n",
       "<p>195260 rows × 14 columns</p>\n",
       "</div>"
      ],
      "text/plain": [
       "        Shop .                                    Shop Name   Shop Status  \\\n",
       "0          617                                         Lodi  Rita's Store   \n",
       "1          617                                         Lodi  Rita's Store   \n",
       "2          617                                         Lodi  Rita's Store   \n",
       "3          617                                         Lodi  Rita's Store   \n",
       "4          617                                         Lodi  Rita's Store   \n",
       "...        ...                                          ...           ...   \n",
       "195255     712          9700 Groffs Mill Dr-Owings Mills MD  Rita's Store   \n",
       "195256     712          9700 Groffs Mill Dr-Owings Mills MD  Rita's Store   \n",
       "195257     257                     5351 Lincoln Hwy.-Gap PA  Rita's Store   \n",
       "195258     417                     85 Doe Run Rd-Manheim PA  Rita's Store   \n",
       "195259     934  5940 W Union Hills Dr-Glendale Foothills AZ  Rita's Store   \n",
       "\n",
       "       Shop Type      Site Type Week-ending date  Year  Week Number  \\\n",
       "0        Walk-in  In Line/Strip       2022-01-02  2022            1   \n",
       "1        Walk-in  In Line/Strip       2022-01-02  2022            1   \n",
       "2        Walk-in  In Line/Strip       2022-01-02  2022            1   \n",
       "3        Walk-in  In Line/Strip       2022-01-02  2022            1   \n",
       "4        Walk-in  In Line/Strip       2022-01-02  2022            1   \n",
       "...          ...            ...              ...   ...          ...   \n",
       "195255   Walk-up        End Cap       2022-05-08  2022           19   \n",
       "195256   Walk-up        End Cap       2022-05-08  2022           19   \n",
       "195257   Walk-up  Free Standing       2022-05-08  2022           19   \n",
       "195258   Walk-up        End Cap       2022-05-08  2022           19   \n",
       "195259   Walk-up  Free Standing       2022-05-08  2022           19   \n",
       "\n",
       "                     Edit Date  Amount Product Type Product Size  \\\n",
       "0      2022-01-03 17:43:05.507   86.71  Italian Ice     Kids Ice   \n",
       "1      2022-01-03 17:43:05.507  215.40  Italian Ice    Small Ice   \n",
       "2      2022-01-03 17:43:05.507  122.70  Italian Ice    Large Ice   \n",
       "3      2022-01-03 17:43:05.507    0.00  Italian Ice  Ice Flights   \n",
       "4      2022-01-03 17:43:05.507  226.88  Italian Ice    Quart Ice   \n",
       "...                        ...     ...          ...          ...   \n",
       "195255 2022-05-10 01:15:26.530   -6.18     Discount     Discount   \n",
       "195256 2022-05-10 01:15:26.530  -11.07     Discount     Discount   \n",
       "195257 2022-05-10 01:15:26.530   -9.60     Discount     Discount   \n",
       "195258 2022-05-10 01:15:26.530 -168.83     Discount     Discount   \n",
       "195259 2022-05-10 01:15:26.530  -23.81     Discount     Discount   \n",
       "\n",
       "       Product Type ID Product Size ID  \n",
       "0                    1               5  \n",
       "1                    1            1246  \n",
       "2                    1               7  \n",
       "3                    1             454  \n",
       "4                    1               8  \n",
       "...                ...             ...  \n",
       "195255        Discount        Discount  \n",
       "195256        Discount        Discount  \n",
       "195257        Discount        Discount  \n",
       "195258        Discount        Discount  \n",
       "195259        Discount        Discount  \n",
       "\n",
       "[195260 rows x 14 columns]"
      ]
     },
     "execution_count": 77,
     "metadata": {},
     "output_type": "execute_result"
    }
   ],
   "source": [
    "data"
   ]
  },
  {
   "cell_type": "code",
   "execution_count": 87,
   "id": "429315ae",
   "metadata": {},
   "outputs": [
    {
     "ename": "TypeError",
     "evalue": "'>=' not supported between instances of 'str' and 'int'",
     "output_type": "error",
     "traceback": [
      "\u001b[1;31m---------------------------------------------------------------------------\u001b[0m",
      "\u001b[1;31mTypeError\u001b[0m                                 Traceback (most recent call last)",
      "Input \u001b[1;32mIn [87]\u001b[0m, in \u001b[0;36m<cell line: 1>\u001b[1;34m()\u001b[0m\n\u001b[1;32m----> 1\u001b[0m data[\u001b[38;5;124m'\u001b[39m\u001b[38;5;124mSales\u001b[39m\u001b[38;5;124m'\u001b[39m]\u001b[38;5;241m=\u001b[39m\u001b[43mdata\u001b[49m\u001b[43m[\u001b[49m\u001b[38;5;124;43m'\u001b[39;49m\u001b[38;5;124;43mProduct Size ID\u001b[39;49m\u001b[38;5;124;43m'\u001b[39;49m\u001b[43m]\u001b[49m\u001b[38;5;241;43m.\u001b[39;49m\u001b[43mapply\u001b[49m\u001b[43m(\u001b[49m\u001b[43m \u001b[49m\u001b[38;5;28;43;01mlambda\u001b[39;49;00m\u001b[43m \u001b[49m\u001b[43mx\u001b[49m\u001b[43m:\u001b[49m\u001b[43m \u001b[49m\u001b[43mx\u001b[49m\u001b[38;5;241;43m*\u001b[39;49m\u001b[43mdata\u001b[49m\u001b[43m[\u001b[49m\u001b[38;5;124;43m'\u001b[39;49m\u001b[38;5;124;43mAmount\u001b[39;49m\u001b[38;5;124;43m'\u001b[39;49m\u001b[43m]\u001b[49m\u001b[43m \u001b[49m\u001b[38;5;28;43;01mif\u001b[39;49;00m\u001b[43m \u001b[49m\u001b[43mx\u001b[49m\u001b[43m \u001b[49m\u001b[38;5;241;43m>\u001b[39;49m\u001b[38;5;241;43m=\u001b[39;49m\u001b[38;5;241;43m1\u001b[39;49m\u001b[43m \u001b[49m\u001b[38;5;28;43;01melse\u001b[39;49;00m\u001b[43m \u001b[49m\u001b[38;5;241;43m0\u001b[39;49m\u001b[43m)\u001b[49m\n",
      "File \u001b[1;32m~\\Anaconda3\\lib\\site-packages\\pandas\\core\\series.py:4433\u001b[0m, in \u001b[0;36mSeries.apply\u001b[1;34m(self, func, convert_dtype, args, **kwargs)\u001b[0m\n\u001b[0;32m   4323\u001b[0m \u001b[38;5;28;01mdef\u001b[39;00m \u001b[38;5;21mapply\u001b[39m(\n\u001b[0;32m   4324\u001b[0m     \u001b[38;5;28mself\u001b[39m,\n\u001b[0;32m   4325\u001b[0m     func: AggFuncType,\n\u001b[1;32m   (...)\u001b[0m\n\u001b[0;32m   4328\u001b[0m     \u001b[38;5;241m*\u001b[39m\u001b[38;5;241m*\u001b[39mkwargs,\n\u001b[0;32m   4329\u001b[0m ) \u001b[38;5;241m-\u001b[39m\u001b[38;5;241m>\u001b[39m DataFrame \u001b[38;5;241m|\u001b[39m Series:\n\u001b[0;32m   4330\u001b[0m     \u001b[38;5;124;03m\"\"\"\u001b[39;00m\n\u001b[0;32m   4331\u001b[0m \u001b[38;5;124;03m    Invoke function on values of Series.\u001b[39;00m\n\u001b[0;32m   4332\u001b[0m \n\u001b[1;32m   (...)\u001b[0m\n\u001b[0;32m   4431\u001b[0m \u001b[38;5;124;03m    dtype: float64\u001b[39;00m\n\u001b[0;32m   4432\u001b[0m \u001b[38;5;124;03m    \"\"\"\u001b[39;00m\n\u001b[1;32m-> 4433\u001b[0m     \u001b[38;5;28;01mreturn\u001b[39;00m \u001b[43mSeriesApply\u001b[49m\u001b[43m(\u001b[49m\u001b[38;5;28;43mself\u001b[39;49m\u001b[43m,\u001b[49m\u001b[43m \u001b[49m\u001b[43mfunc\u001b[49m\u001b[43m,\u001b[49m\u001b[43m \u001b[49m\u001b[43mconvert_dtype\u001b[49m\u001b[43m,\u001b[49m\u001b[43m \u001b[49m\u001b[43margs\u001b[49m\u001b[43m,\u001b[49m\u001b[43m \u001b[49m\u001b[43mkwargs\u001b[49m\u001b[43m)\u001b[49m\u001b[38;5;241;43m.\u001b[39;49m\u001b[43mapply\u001b[49m\u001b[43m(\u001b[49m\u001b[43m)\u001b[49m\n",
      "File \u001b[1;32m~\\Anaconda3\\lib\\site-packages\\pandas\\core\\apply.py:1082\u001b[0m, in \u001b[0;36mSeriesApply.apply\u001b[1;34m(self)\u001b[0m\n\u001b[0;32m   1078\u001b[0m \u001b[38;5;28;01mif\u001b[39;00m \u001b[38;5;28misinstance\u001b[39m(\u001b[38;5;28mself\u001b[39m\u001b[38;5;241m.\u001b[39mf, \u001b[38;5;28mstr\u001b[39m):\n\u001b[0;32m   1079\u001b[0m     \u001b[38;5;66;03m# if we are a string, try to dispatch\u001b[39;00m\n\u001b[0;32m   1080\u001b[0m     \u001b[38;5;28;01mreturn\u001b[39;00m \u001b[38;5;28mself\u001b[39m\u001b[38;5;241m.\u001b[39mapply_str()\n\u001b[1;32m-> 1082\u001b[0m \u001b[38;5;28;01mreturn\u001b[39;00m \u001b[38;5;28;43mself\u001b[39;49m\u001b[38;5;241;43m.\u001b[39;49m\u001b[43mapply_standard\u001b[49m\u001b[43m(\u001b[49m\u001b[43m)\u001b[49m\n",
      "File \u001b[1;32m~\\Anaconda3\\lib\\site-packages\\pandas\\core\\apply.py:1137\u001b[0m, in \u001b[0;36mSeriesApply.apply_standard\u001b[1;34m(self)\u001b[0m\n\u001b[0;32m   1131\u001b[0m         values \u001b[38;5;241m=\u001b[39m obj\u001b[38;5;241m.\u001b[39mastype(\u001b[38;5;28mobject\u001b[39m)\u001b[38;5;241m.\u001b[39m_values\n\u001b[0;32m   1132\u001b[0m         \u001b[38;5;66;03m# error: Argument 2 to \"map_infer\" has incompatible type\u001b[39;00m\n\u001b[0;32m   1133\u001b[0m         \u001b[38;5;66;03m# \"Union[Callable[..., Any], str, List[Union[Callable[..., Any], str]],\u001b[39;00m\n\u001b[0;32m   1134\u001b[0m         \u001b[38;5;66;03m# Dict[Hashable, Union[Union[Callable[..., Any], str],\u001b[39;00m\n\u001b[0;32m   1135\u001b[0m         \u001b[38;5;66;03m# List[Union[Callable[..., Any], str]]]]]\"; expected\u001b[39;00m\n\u001b[0;32m   1136\u001b[0m         \u001b[38;5;66;03m# \"Callable[[Any], Any]\"\u001b[39;00m\n\u001b[1;32m-> 1137\u001b[0m         mapped \u001b[38;5;241m=\u001b[39m \u001b[43mlib\u001b[49m\u001b[38;5;241;43m.\u001b[39;49m\u001b[43mmap_infer\u001b[49m\u001b[43m(\u001b[49m\n\u001b[0;32m   1138\u001b[0m \u001b[43m            \u001b[49m\u001b[43mvalues\u001b[49m\u001b[43m,\u001b[49m\n\u001b[0;32m   1139\u001b[0m \u001b[43m            \u001b[49m\u001b[43mf\u001b[49m\u001b[43m,\u001b[49m\u001b[43m  \u001b[49m\u001b[38;5;66;43;03m# type: ignore[arg-type]\u001b[39;49;00m\n\u001b[0;32m   1140\u001b[0m \u001b[43m            \u001b[49m\u001b[43mconvert\u001b[49m\u001b[38;5;241;43m=\u001b[39;49m\u001b[38;5;28;43mself\u001b[39;49m\u001b[38;5;241;43m.\u001b[39;49m\u001b[43mconvert_dtype\u001b[49m\u001b[43m,\u001b[49m\n\u001b[0;32m   1141\u001b[0m \u001b[43m        \u001b[49m\u001b[43m)\u001b[49m\n\u001b[0;32m   1143\u001b[0m \u001b[38;5;28;01mif\u001b[39;00m \u001b[38;5;28mlen\u001b[39m(mapped) \u001b[38;5;129;01mand\u001b[39;00m \u001b[38;5;28misinstance\u001b[39m(mapped[\u001b[38;5;241m0\u001b[39m], ABCSeries):\n\u001b[0;32m   1144\u001b[0m     \u001b[38;5;66;03m# GH#43986 Need to do list(mapped) in order to get treated as nested\u001b[39;00m\n\u001b[0;32m   1145\u001b[0m     \u001b[38;5;66;03m#  See also GH#25959 regarding EA support\u001b[39;00m\n\u001b[0;32m   1146\u001b[0m     \u001b[38;5;28;01mreturn\u001b[39;00m obj\u001b[38;5;241m.\u001b[39m_constructor_expanddim(\u001b[38;5;28mlist\u001b[39m(mapped), index\u001b[38;5;241m=\u001b[39mobj\u001b[38;5;241m.\u001b[39mindex)\n",
      "File \u001b[1;32m~\\Anaconda3\\lib\\site-packages\\pandas\\_libs\\lib.pyx:2870\u001b[0m, in \u001b[0;36mpandas._libs.lib.map_infer\u001b[1;34m()\u001b[0m\n",
      "Input \u001b[1;32mIn [87]\u001b[0m, in \u001b[0;36m<lambda>\u001b[1;34m(x)\u001b[0m\n\u001b[1;32m----> 1\u001b[0m data[\u001b[38;5;124m'\u001b[39m\u001b[38;5;124mSales\u001b[39m\u001b[38;5;124m'\u001b[39m]\u001b[38;5;241m=\u001b[39mdata[\u001b[38;5;124m'\u001b[39m\u001b[38;5;124mProduct Size ID\u001b[39m\u001b[38;5;124m'\u001b[39m]\u001b[38;5;241m.\u001b[39mapply( \u001b[38;5;28;01mlambda\u001b[39;00m x: x\u001b[38;5;241m*\u001b[39mdata[\u001b[38;5;124m'\u001b[39m\u001b[38;5;124mAmount\u001b[39m\u001b[38;5;124m'\u001b[39m] \u001b[38;5;28;01mif\u001b[39;00m \u001b[43mx\u001b[49m\u001b[43m \u001b[49m\u001b[38;5;241;43m>\u001b[39;49m\u001b[38;5;241;43m=\u001b[39;49m\u001b[38;5;241;43m1\u001b[39;49m \u001b[38;5;28;01melse\u001b[39;00m \u001b[38;5;241m0\u001b[39m)\n",
      "\u001b[1;31mTypeError\u001b[0m: '>=' not supported between instances of 'str' and 'int'"
     ]
    }
   ],
   "source": [
    "data['Sales']=data['Product Size ID'].apply( lambda x: x*data['Amount'] if x >=1 else 0)"
   ]
  },
  {
   "cell_type": "code",
   "execution_count": 88,
   "id": "3ec49495",
   "metadata": {},
   "outputs": [
    {
     "data": {
      "text/plain": [
       "dtype('O')"
      ]
     },
     "execution_count": 88,
     "metadata": {},
     "output_type": "execute_result"
    }
   ],
   "source": [
    "data['Product Size ID'].dtype"
   ]
  },
  {
   "cell_type": "code",
   "execution_count": 90,
   "id": "3459fa8d",
   "metadata": {},
   "outputs": [
    {
     "data": {
      "text/plain": [
       "array(['5', '1246', '7', '454', '8', '1214', '1215', '1216', '1218',\n",
       "       '1219', '32', '299', '112', '113', '1247', '20', '1159', '1224',\n",
       "       '1225', '1226', '1227', '1229', '1230', '23', '87', '261', '1138',\n",
       "       '349', '128', '130', '132', '134', '135', '136', '1198', '1200',\n",
       "       '1201', '1203', '183', '1076', '1253', '1254', '1117', '1258',\n",
       "       '1259', '103', '105', '282', '1252', '1222', '1000', '1221', '999',\n",
       "       '445', '446', '998', '1199', '1139', '1135', '496', '1021', '1171',\n",
       "       '422', '1025', '1041', '1120', '416', '1158', '1119', '1121',\n",
       "       '125', '1022', '1189', '1144', '480', '100', '1040', '458', '481',\n",
       "       '1188', '1161', '456', '137', '1051', '455', '106', '133', '1172',\n",
       "       '514', '316', '311', '104', '1169', '114', '1205', '122', '1190',\n",
       "       '457', '1060', '129', '1165', '1170', '426', '424', '425', '1180',\n",
       "       '347', '115', '418', '1192', '99', '1160', '1250', '1231', '1249',\n",
       "       '1185', '76', '111', '518', '516', '21', '504', '19', '1232',\n",
       "       '138', '438', '1206', '1245', '1164', '1181', '1204', '22', '140',\n",
       "       '1255', '1256', '109', '1248', '513', '1136', '1137', '547', '515',\n",
       "       '124', '116', '1162', '27', '1044', '126', '348', '1182', '127',\n",
       "       '123', '1260', '131', '507', '508', '1183', '262', '439', '108',\n",
       "       '86', '102', '107', '1048', '1217', '6', '502', '110', '85', '399',\n",
       "       '462', '484', '1061', '1079', '1125', '453', '441', '511', '1046',\n",
       "       '1050', '119', '117', '442', '506', '185', '10', '186', '444',\n",
       "       '139', '509', '91', '353', '354', '395', '101', '1146', '1141',\n",
       "       '1193', '505', '120', '417', '1168', 'MobileCart', 'Discount'],\n",
       "      dtype=object)"
      ]
     },
     "execution_count": 90,
     "metadata": {},
     "output_type": "execute_result"
    }
   ],
   "source": [
    "data['Product Size ID'].unique()"
   ]
  },
  {
   "cell_type": "code",
   "execution_count": 96,
   "id": "d270dccc",
   "metadata": {},
   "outputs": [
    {
     "ename": "TypeError",
     "evalue": "unsupported operand type(s) for |: 'str' and 'str'",
     "output_type": "error",
     "traceback": [
      "\u001b[1;31m---------------------------------------------------------------------------\u001b[0m",
      "\u001b[1;31mTypeError\u001b[0m                                 Traceback (most recent call last)",
      "Input \u001b[1;32mIn [96]\u001b[0m, in \u001b[0;36m<cell line: 1>\u001b[1;34m()\u001b[0m\n\u001b[1;32m----> 1\u001b[0m data[data[\u001b[38;5;124m'\u001b[39m\u001b[38;5;124mProduct Size\u001b[39m\u001b[38;5;124m'\u001b[39m]\u001b[38;5;241m!=\u001b[39m\u001b[38;5;124;43m'\u001b[39;49m\u001b[38;5;124;43mDiscount\u001b[39;49m\u001b[38;5;124;43m'\u001b[39;49m\u001b[38;5;241;43m|\u001b[39;49m\u001b[38;5;124;43m'\u001b[39;49m\u001b[38;5;124;43mMoblieCart\u001b[39;49m\u001b[38;5;124;43m'\u001b[39;49m]\n",
      "\u001b[1;31mTypeError\u001b[0m: unsupported operand type(s) for |: 'str' and 'str'"
     ]
    }
   ],
   "source": [
    "data[data['Product Size']!='Discount'|'MoblieCart']"
   ]
  },
  {
   "cell_type": "code",
   "execution_count": null,
   "id": "cd929453",
   "metadata": {},
   "outputs": [],
   "source": []
  }
 ],
 "metadata": {
  "kernelspec": {
   "display_name": "Python 3 (ipykernel)",
   "language": "python",
   "name": "python3"
  },
  "language_info": {
   "codemirror_mode": {
    "name": "ipython",
    "version": 3
   },
   "file_extension": ".py",
   "mimetype": "text/x-python",
   "name": "python",
   "nbconvert_exporter": "python",
   "pygments_lexer": "ipython3",
   "version": "3.9.12"
  }
 },
 "nbformat": 4,
 "nbformat_minor": 5
}
