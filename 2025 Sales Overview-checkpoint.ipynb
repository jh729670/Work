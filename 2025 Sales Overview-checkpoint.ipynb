{
 "cells": [
  {
   "cell_type": "code",
   "execution_count": 1,
   "id": "c4f3622e",
   "metadata": {},
   "outputs": [
    {
     "name": "stdout",
     "output_type": "stream",
     "text": [
      "<pyodbc.Connection object at 0x00000213A5C23370>\n"
     ]
    }
   ],
   "source": [
    "#Imports the necessary libraries\n",
    "import pandas as pd\n",
    "import os\n",
    "import numpy as np\n",
    "import pyodbc as odbc\n",
    "from datetime import date,timedelta,datetime\n",
    "os.chdir(r'L:\\J.Harned\\Calendar')\n",
    "calendar=pd.read_excel('2025 Sales Calendar.xlsx')\n",
    "calendar['Year']=calendar.EndDate.dt.year\n",
    "os.chdir(r'G:\\FinanceReports\\2025\\Wk4')\n",
    "# Names the needed driver, server name, and database\n",
    "driver_name='SQL Server'\n",
    "server_name='10.0.1.218'\n",
    "database='ritascoolnet_live'\n",
    "#Creates the connection string\n",
    "connection_string=f\"\"\"\n",
    "DRIVER={{{driver_name}}};\n",
    "SERVER={server_name};\n",
    "DATABASE={database};\n",
    "Trust_Connection=yes\"\"\"\n",
    "#Creates the Connection to SQL Server\n",
    "connection=odbc.connect(connection_string)\n",
    "print(connection)"
   ]
  },
  {
   "cell_type": "code",
   "execution_count": 2,
   "id": "8affd5db",
   "metadata": {},
   "outputs": [
    {
     "name": "stderr",
     "output_type": "stream",
     "text": [
      "C:\\Users\\jharned\\AppData\\Local\\Temp\\ipykernel_34532\\1121217600.py:3: UserWarning: pandas only supports SQLAlchemy connectable (engine/connection) or database string URI or sqlite3 DBAPI2 connection. Other DBAPI2 objects are not tested. Please consider using SQLAlchemy.\n",
      "  data=pd.read_sql_query('''SELECT *\n",
      "C:\\Users\\jharned\\AppData\\Local\\Temp\\ipykernel_34532\\1121217600.py:8: UserWarning: pandas only supports SQLAlchemy connectable (engine/connection) or database string URI or sqlite3 DBAPI2 connection. Other DBAPI2 objects are not tested. Please consider using SQLAlchemy.\n",
      "  df=pd.read_sql_query('''SELECT *\n",
      "C:\\Users\\jharned\\AppData\\Local\\Temp\\ipykernel_34532\\1121217600.py:12: UserWarning: pandas only supports SQLAlchemy connectable (engine/connection) or database string URI or sqlite3 DBAPI2 connection. Other DBAPI2 objects are not tested. Please consider using SQLAlchemy.\n",
      "  data3=pd.read_sql_query('''Select intstoreid as intStoreID,RitasID as ShopID, FC,CoolNetGroup,LegacyStoreType,State,MSAName,DMA,StoreName as ShopName,\n",
      "C:\\Users\\jharned\\AppData\\Local\\Temp\\ipykernel_34532\\1121217600.py:14: UserWarning: pandas only supports SQLAlchemy connectable (engine/connection) or database string URI or sqlite3 DBAPI2 connection. Other DBAPI2 objects are not tested. Please consider using SQLAlchemy.\n",
      "  product_sales_24=pd.read_sql_query('''Select * from ritascoolnet_live.dbo.tblProductSalesTransactions Where Year(dteEndDate)=2024 ''',connection)\n",
      "C:\\Users\\jharned\\AppData\\Local\\Temp\\ipykernel_34532\\1121217600.py:15: UserWarning: pandas only supports SQLAlchemy connectable (engine/connection) or database string URI or sqlite3 DBAPI2 connection. Other DBAPI2 objects are not tested. Please consider using SQLAlchemy.\n",
      "  product_sales_25=pd.read_sql_query('''Select * from ritascoolnet_live.dbo.tblProductSalesTransactions Where Year(dteEndDate)=2025 ''',connection)\n"
     ]
    }
   ],
   "source": [
    "# Queries the tables from SQL\n",
    "# Reads in the Weekly Sales in 2025\n",
    "data=pd.read_sql_query('''SELECT *\n",
    "  FROM [ritas_bi].[dbo].[tmp_raw_plda]\n",
    "  WHERE YEAR(EndDate)=2025\n",
    "  ORDER BY Week DESC''',connection)\n",
    "# Reads in the Weekly Sales in 2024\n",
    "df=pd.read_sql_query('''SELECT *\n",
    "  FROM [ritas_bi].[dbo].[tmp_raw_plda]\n",
    "  WHERE YEAR(EndDate)=2024''',connection)\n",
    "#ShopDetail\n",
    "data3=pd.read_sql_query('''Select intstoreid as intStoreID,RitasID as ShopID, FC,CoolNetGroup,LegacyStoreType,State,MSAName,DMA,StoreName as ShopName,\n",
    "CoOpName,Franchisee,[Parent Shop #] as ParentID,StoreStatus,[Re Open Date] as ReOpenDate,OpenDate,StoreType from ritascoolnet_live.dbo.vShopDetail''',connection)\n",
    "product_sales_24=pd.read_sql_query('''Select * from ritascoolnet_live.dbo.tblProductSalesTransactions Where Year(dteEndDate)=2024 ''',connection)\n",
    "product_sales_25=pd.read_sql_query('''Select * from ritascoolnet_live.dbo.tblProductSalesTransactions Where Year(dteEndDate)=2025 ''',connection)\n",
    "product_sales_24=product_sales_24[~product_sales_24.intStoreid.isnull()]"
   ]
  },
  {
   "cell_type": "code",
   "execution_count": 3,
   "id": "56693ec8",
   "metadata": {},
   "outputs": [],
   "source": [
    "data['Year']=2025\n",
    "df['Year']=2024\n",
    "product_sales_24['Year']=2024\n",
    "product_sales_25['Year']=2025"
   ]
  },
  {
   "cell_type": "code",
   "execution_count": 4,
   "id": "1d7df8b6",
   "metadata": {},
   "outputs": [
    {
     "name": "stderr",
     "output_type": "stream",
     "text": [
      "C:\\Users\\jharned\\AppData\\Local\\Temp\\ipykernel_34532\\3679232069.py:1: UserWarning: pandas only supports SQLAlchemy connectable (engine/connection) or database string URI or sqlite3 DBAPI2 connection. Other DBAPI2 objects are not tested. Please consider using SQLAlchemy.\n",
      "  sv=pd.read_sql_query('''Select * from ritascoolnet_live.dbo.vShopDetail''',connection)\n"
     ]
    }
   ],
   "source": [
    "sv=pd.read_sql_query('''Select * from ritascoolnet_live.dbo.vShopDetail''',connection)\n",
    "sv=sv[['intstoreid','RitasID','Special Venue']]\n",
    "sv=sv.rename(columns={'intstoreid':'intStoreID','RitasID':'ShopID','Special Venue':'SV'})"
   ]
  },
  {
   "cell_type": "code",
   "execution_count": 5,
   "id": "c513ad75",
   "metadata": {},
   "outputs": [],
   "source": [
    "total_df=pd.concat([data,df]) # Combines 2024 and 2025 Sales Data\n",
    "total_df=total_df.merge(sv,how='left',on=['intStoreID','ShopID']) # Merges Special Venue with Sales Data\n",
    "# total_df.loc[total_df.StartDate=='2023-03-20','Week']='12'\n",
    "# total_df.loc[total_df.StartDate=='2023-03-27','Week']='13'\n",
    "# total_df.loc[total_df.StartDate=='2023-10-29','StartDate']='2023-10-30'\n",
    "total_df=total_df.merge(calendar[['EndDate','Week','Month']],how='left',on=['EndDate','Week']) # Adds the month column from calendar\n",
    "total_df.Week=total_df.Week.astype('int')\n",
    "total_df=total_df[total_df.Week<=data.Week.max()]# Filters on the max week"
   ]
  },
  {
   "cell_type": "code",
   "execution_count": 6,
   "id": "4f2b50b1",
   "metadata": {},
   "outputs": [
    {
     "name": "stderr",
     "output_type": "stream",
     "text": [
      "C:\\Users\\jharned\\AppData\\Local\\Temp\\ipykernel_34532\\1298018583.py:1: FutureWarning: The behavior of DataFrame concatenation with empty or all-NA entries is deprecated. In a future version, this will no longer exclude empty or all-NA columns when determining the result dtypes. To retain the old behavior, exclude the relevant entries before the concat operation.\n",
      "  product_sales=pd.concat([product_sales_24,product_sales_25])\n"
     ]
    },
    {
     "data": {
      "text/html": [
       "<div>\n",
       "<style scoped>\n",
       "    .dataframe tbody tr th:only-of-type {\n",
       "        vertical-align: middle;\n",
       "    }\n",
       "\n",
       "    .dataframe tbody tr th {\n",
       "        vertical-align: top;\n",
       "    }\n",
       "\n",
       "    .dataframe thead th {\n",
       "        text-align: right;\n",
       "    }\n",
       "</style>\n",
       "<table border=\"1\" class=\"dataframe\">\n",
       "  <thead>\n",
       "    <tr style=\"text-align: right;\">\n",
       "      <th></th>\n",
       "      <th>intProductSalesTransactionID</th>\n",
       "      <th>intRitasStoreID</th>\n",
       "      <th>intTransactionCount</th>\n",
       "      <th>dteStartDate</th>\n",
       "      <th>EndDate</th>\n",
       "      <th>dteCreatedOn</th>\n",
       "      <th>vchSource</th>\n",
       "      <th>intNumberOfDays</th>\n",
       "      <th>intRegister</th>\n",
       "      <th>intUECount</th>\n",
       "      <th>intDDCount</th>\n",
       "      <th>intGHCount</th>\n",
       "      <th>intStoreid</th>\n",
       "      <th>Year</th>\n",
       "      <th>Week</th>\n",
       "      <th>Retail_GC</th>\n",
       "    </tr>\n",
       "  </thead>\n",
       "  <tbody>\n",
       "    <tr>\n",
       "      <th>0</th>\n",
       "      <td>3987717</td>\n",
       "      <td>1552</td>\n",
       "      <td>1733</td>\n",
       "      <td>2024-01-01</td>\n",
       "      <td>2024-01-07</td>\n",
       "      <td>2024-01-09 13:14:51.827</td>\n",
       "      <td>None</td>\n",
       "      <td>7</td>\n",
       "      <td>1</td>\n",
       "      <td>0</td>\n",
       "      <td>0</td>\n",
       "      <td>0</td>\n",
       "      <td>5485.0</td>\n",
       "      <td>2024</td>\n",
       "      <td>1.0</td>\n",
       "      <td>1733</td>\n",
       "    </tr>\n",
       "    <tr>\n",
       "      <th>1</th>\n",
       "      <td>3988749</td>\n",
       "      <td>22</td>\n",
       "      <td>875</td>\n",
       "      <td>2024-01-01</td>\n",
       "      <td>2024-01-07</td>\n",
       "      <td>2024-01-09 23:30:54.950</td>\n",
       "      <td>SMART</td>\n",
       "      <td>7</td>\n",
       "      <td>1</td>\n",
       "      <td>0</td>\n",
       "      <td>22</td>\n",
       "      <td>0</td>\n",
       "      <td>5455.0</td>\n",
       "      <td>2024</td>\n",
       "      <td>1.0</td>\n",
       "      <td>853</td>\n",
       "    </tr>\n",
       "    <tr>\n",
       "      <th>2</th>\n",
       "      <td>3988750</td>\n",
       "      <td>142</td>\n",
       "      <td>490</td>\n",
       "      <td>2024-01-01</td>\n",
       "      <td>2024-01-07</td>\n",
       "      <td>2024-01-09 23:30:54.950</td>\n",
       "      <td>SMART</td>\n",
       "      <td>7</td>\n",
       "      <td>1</td>\n",
       "      <td>0</td>\n",
       "      <td>9</td>\n",
       "      <td>0</td>\n",
       "      <td>5458.0</td>\n",
       "      <td>2024</td>\n",
       "      <td>1.0</td>\n",
       "      <td>481</td>\n",
       "    </tr>\n",
       "    <tr>\n",
       "      <th>3</th>\n",
       "      <td>3988751</td>\n",
       "      <td>245</td>\n",
       "      <td>511</td>\n",
       "      <td>2024-01-01</td>\n",
       "      <td>2024-01-07</td>\n",
       "      <td>2024-01-09 23:30:54.950</td>\n",
       "      <td>SMART</td>\n",
       "      <td>7</td>\n",
       "      <td>1</td>\n",
       "      <td>0</td>\n",
       "      <td>24</td>\n",
       "      <td>0</td>\n",
       "      <td>626.0</td>\n",
       "      <td>2024</td>\n",
       "      <td>1.0</td>\n",
       "      <td>487</td>\n",
       "    </tr>\n",
       "    <tr>\n",
       "      <th>4</th>\n",
       "      <td>3988752</td>\n",
       "      <td>325</td>\n",
       "      <td>8</td>\n",
       "      <td>2024-01-01</td>\n",
       "      <td>2024-01-07</td>\n",
       "      <td>2024-01-09 23:30:54.950</td>\n",
       "      <td>SMART</td>\n",
       "      <td>3</td>\n",
       "      <td>1</td>\n",
       "      <td>0</td>\n",
       "      <td>0</td>\n",
       "      <td>0</td>\n",
       "      <td>3870.0</td>\n",
       "      <td>2024</td>\n",
       "      <td>1.0</td>\n",
       "      <td>8</td>\n",
       "    </tr>\n",
       "    <tr>\n",
       "      <th>...</th>\n",
       "      <td>...</td>\n",
       "      <td>...</td>\n",
       "      <td>...</td>\n",
       "      <td>...</td>\n",
       "      <td>...</td>\n",
       "      <td>...</td>\n",
       "      <td>...</td>\n",
       "      <td>...</td>\n",
       "      <td>...</td>\n",
       "      <td>...</td>\n",
       "      <td>...</td>\n",
       "      <td>...</td>\n",
       "      <td>...</td>\n",
       "      <td>...</td>\n",
       "      <td>...</td>\n",
       "      <td>...</td>\n",
       "    </tr>\n",
       "    <tr>\n",
       "      <th>21463</th>\n",
       "      <td>7152361</td>\n",
       "      <td>1539</td>\n",
       "      <td>39</td>\n",
       "      <td>2025-01-27</td>\n",
       "      <td>2025-02-02</td>\n",
       "      <td>2025-01-29 09:10:01.547</td>\n",
       "      <td>SMART</td>\n",
       "      <td>2</td>\n",
       "      <td>1</td>\n",
       "      <td>0</td>\n",
       "      <td>0</td>\n",
       "      <td>0</td>\n",
       "      <td>NaN</td>\n",
       "      <td>2025</td>\n",
       "      <td>NaN</td>\n",
       "      <td>39</td>\n",
       "    </tr>\n",
       "    <tr>\n",
       "      <th>21464</th>\n",
       "      <td>7152362</td>\n",
       "      <td>1542</td>\n",
       "      <td>133</td>\n",
       "      <td>2025-01-27</td>\n",
       "      <td>2025-02-02</td>\n",
       "      <td>2025-01-29 09:10:01.547</td>\n",
       "      <td>SMART</td>\n",
       "      <td>2</td>\n",
       "      <td>1</td>\n",
       "      <td>0</td>\n",
       "      <td>0</td>\n",
       "      <td>0</td>\n",
       "      <td>NaN</td>\n",
       "      <td>2025</td>\n",
       "      <td>NaN</td>\n",
       "      <td>133</td>\n",
       "    </tr>\n",
       "    <tr>\n",
       "      <th>21465</th>\n",
       "      <td>7152363</td>\n",
       "      <td>1545</td>\n",
       "      <td>10</td>\n",
       "      <td>2025-01-27</td>\n",
       "      <td>2025-02-02</td>\n",
       "      <td>2025-01-29 09:10:01.547</td>\n",
       "      <td>SMART</td>\n",
       "      <td>1</td>\n",
       "      <td>1</td>\n",
       "      <td>0</td>\n",
       "      <td>0</td>\n",
       "      <td>0</td>\n",
       "      <td>NaN</td>\n",
       "      <td>2025</td>\n",
       "      <td>NaN</td>\n",
       "      <td>10</td>\n",
       "    </tr>\n",
       "    <tr>\n",
       "      <th>21466</th>\n",
       "      <td>7152364</td>\n",
       "      <td>1571</td>\n",
       "      <td>81</td>\n",
       "      <td>2025-01-27</td>\n",
       "      <td>2025-02-02</td>\n",
       "      <td>2025-01-29 09:10:01.547</td>\n",
       "      <td>SMART</td>\n",
       "      <td>2</td>\n",
       "      <td>1</td>\n",
       "      <td>0</td>\n",
       "      <td>0</td>\n",
       "      <td>0</td>\n",
       "      <td>NaN</td>\n",
       "      <td>2025</td>\n",
       "      <td>NaN</td>\n",
       "      <td>81</td>\n",
       "    </tr>\n",
       "    <tr>\n",
       "      <th>21467</th>\n",
       "      <td>7152365</td>\n",
       "      <td>10836</td>\n",
       "      <td>133</td>\n",
       "      <td>2025-01-27</td>\n",
       "      <td>2025-02-02</td>\n",
       "      <td>2025-01-29 09:10:01.547</td>\n",
       "      <td>SMART</td>\n",
       "      <td>2</td>\n",
       "      <td>1</td>\n",
       "      <td>0</td>\n",
       "      <td>0</td>\n",
       "      <td>0</td>\n",
       "      <td>NaN</td>\n",
       "      <td>2025</td>\n",
       "      <td>NaN</td>\n",
       "      <td>133</td>\n",
       "    </tr>\n",
       "  </tbody>\n",
       "</table>\n",
       "<p>21468 rows × 16 columns</p>\n",
       "</div>"
      ],
      "text/plain": [
       "       intProductSalesTransactionID intRitasStoreID  intTransactionCount  \\\n",
       "0                           3987717            1552                 1733   \n",
       "1                           3988749              22                  875   \n",
       "2                           3988750             142                  490   \n",
       "3                           3988751             245                  511   \n",
       "4                           3988752             325                    8   \n",
       "...                             ...             ...                  ...   \n",
       "21463                       7152361            1539                   39   \n",
       "21464                       7152362            1542                  133   \n",
       "21465                       7152363            1545                   10   \n",
       "21466                       7152364            1571                   81   \n",
       "21467                       7152365           10836                  133   \n",
       "\n",
       "      dteStartDate    EndDate            dteCreatedOn vchSource  \\\n",
       "0       2024-01-01 2024-01-07 2024-01-09 13:14:51.827      None   \n",
       "1       2024-01-01 2024-01-07 2024-01-09 23:30:54.950     SMART   \n",
       "2       2024-01-01 2024-01-07 2024-01-09 23:30:54.950     SMART   \n",
       "3       2024-01-01 2024-01-07 2024-01-09 23:30:54.950     SMART   \n",
       "4       2024-01-01 2024-01-07 2024-01-09 23:30:54.950     SMART   \n",
       "...            ...        ...                     ...       ...   \n",
       "21463   2025-01-27 2025-02-02 2025-01-29 09:10:01.547     SMART   \n",
       "21464   2025-01-27 2025-02-02 2025-01-29 09:10:01.547     SMART   \n",
       "21465   2025-01-27 2025-02-02 2025-01-29 09:10:01.547     SMART   \n",
       "21466   2025-01-27 2025-02-02 2025-01-29 09:10:01.547     SMART   \n",
       "21467   2025-01-27 2025-02-02 2025-01-29 09:10:01.547     SMART   \n",
       "\n",
       "       intNumberOfDays  intRegister  intUECount  intDDCount  intGHCount  \\\n",
       "0                    7            1           0           0           0   \n",
       "1                    7            1           0          22           0   \n",
       "2                    7            1           0           9           0   \n",
       "3                    7            1           0          24           0   \n",
       "4                    3            1           0           0           0   \n",
       "...                ...          ...         ...         ...         ...   \n",
       "21463                2            1           0           0           0   \n",
       "21464                2            1           0           0           0   \n",
       "21465                1            1           0           0           0   \n",
       "21466                2            1           0           0           0   \n",
       "21467                2            1           0           0           0   \n",
       "\n",
       "       intStoreid  Year  Week  Retail_GC  \n",
       "0          5485.0  2024   1.0       1733  \n",
       "1          5455.0  2024   1.0        853  \n",
       "2          5458.0  2024   1.0        481  \n",
       "3           626.0  2024   1.0        487  \n",
       "4          3870.0  2024   1.0          8  \n",
       "...           ...   ...   ...        ...  \n",
       "21463         NaN  2025   NaN         39  \n",
       "21464         NaN  2025   NaN        133  \n",
       "21465         NaN  2025   NaN         10  \n",
       "21466         NaN  2025   NaN         81  \n",
       "21467         NaN  2025   NaN        133  \n",
       "\n",
       "[21468 rows x 16 columns]"
      ]
     },
     "execution_count": 6,
     "metadata": {},
     "output_type": "execute_result"
    }
   ],
   "source": [
    "product_sales=pd.concat([product_sales_24,product_sales_25])\n",
    "product_sales=product_sales.rename(columns={'dteEndDate':'EndDate'})\n",
    "weeks=total_df[['EndDate','Week']].drop_duplicates(keep='first')\n",
    "ps=product_sales.merge(weeks[['EndDate','Week']],how='left',on='EndDate')\n",
    "ps['Retail_GC']=ps.intTransactionCount-ps.intUECount\\\n",
    "-ps.intDDCount-ps.intGHCount\n",
    "ps"
   ]
  },
  {
   "cell_type": "code",
   "execution_count": 7,
   "id": "b10fa350",
   "metadata": {},
   "outputs": [],
   "source": [
    "threepd=ps.rename(columns={'intRitasStoreID':'ShopID','intTransactionCount':'Guest_Count'})\n",
    "total_gc=threepd.groupby(['ShopID','Year','Week'])['Guest_Count'].sum().reset_index()\n",
    "total_gc.ShopID=total_gc.ShopID.astype('int')\n",
    "total_gc.Week=total_gc.Week.astype('int')"
   ]
  },
  {
   "cell_type": "code",
   "execution_count": 8,
   "id": "8b440615",
   "metadata": {},
   "outputs": [
    {
     "data": {
      "text/plain": [
       "1894322.7284"
      ]
     },
     "execution_count": 8,
     "metadata": {},
     "output_type": "execute_result"
    }
   ],
   "source": [
    "\n",
    "\n",
    "total_gc=total_gc[total_gc.Week<=data.Week.max()] #filters on the max week for Guest COunts\n",
    "total_gc['ShopID']=pd.to_numeric(total_gc.ShopID,errors='coerce')# Converts ShopID to integers\n",
    "total_gc=total_gc.merge(calendar[['Week','Year','Month']],on=['Week','Year'],how='left') #Adds month column to Guest Counts\n",
    "\n",
    "total_gc=total_gc.merge(data3[['ShopID','State']],on='ShopID',how='left').drop_duplicates(subset=['Week','Year','ShopID','Guest_Count','Month'],\n",
    "                                                                                keep='first')\n",
    "total_df[total_df.EndDate.dt.year==2024].SalesMny.sum()\n"
   ]
  },
  {
   "cell_type": "code",
   "execution_count": 9,
   "id": "a36d585f",
   "metadata": {},
   "outputs": [],
   "source": [
    "core_list=['NJ','PA','DE','MD']\n",
    "total_df['Area']=total_df['State'].apply(lambda x: 'Core' if x in core_list else 'Developing')\n",
    "total_gc['Area']=total_gc['State'].apply(lambda x: 'Core' if x in core_list else 'Developing')"
   ]
  },
  {
   "cell_type": "code",
   "execution_count": 10,
   "id": "31fe7c63",
   "metadata": {},
   "outputs": [
    {
     "data": {
      "text/plain": [
       "1894322.7284"
      ]
     },
     "execution_count": 10,
     "metadata": {},
     "output_type": "execute_result"
    }
   ],
   "source": [
    "total_df[total_df.Year==2024].SalesMny.sum()"
   ]
  },
  {
   "cell_type": "code",
   "execution_count": 11,
   "id": "77209808",
   "metadata": {},
   "outputs": [],
   "source": [
    "# gc_region=total_gc.merge(total_df[['ShopID','Area']],on='ShopID',how='left').drop_duplicates(keep='first').groupby([\n",
    "# 'Area','Year'\n",
    "# ])['GC'].sum().reset_index()\n"
   ]
  },
  {
   "cell_type": "code",
   "execution_count": 12,
   "id": "13edaebe",
   "metadata": {},
   "outputs": [],
   "source": [
    "gc_region=total_gc.groupby([\n",
    "'Area','Year'\n",
    "])['Guest_Count'].sum().reset_index()"
   ]
  },
  {
   "cell_type": "code",
   "execution_count": 13,
   "id": "709e1879",
   "metadata": {},
   "outputs": [
    {
     "data": {
      "text/plain": [
       "(31633, 29)"
      ]
     },
     "execution_count": 13,
     "metadata": {},
     "output_type": "execute_result"
    }
   ],
   "source": [
    "total_df.shape"
   ]
  },
  {
   "cell_type": "code",
   "execution_count": 14,
   "id": "3623d2ce",
   "metadata": {},
   "outputs": [
    {
     "name": "stdout",
     "output_type": "stream",
     "text": [
      "Enter Month Number:1\n"
     ]
    }
   ],
   "source": [
    "month=int(input('Enter Month Number:')) # Type the month name you would like to view"
   ]
  },
  {
   "cell_type": "markdown",
   "id": "e0c0aca4",
   "metadata": {},
   "source": [
    "# YTD Total System Sales"
   ]
  },
  {
   "cell_type": "code",
   "execution_count": 15,
   "id": "e9eee56e",
   "metadata": {},
   "outputs": [
    {
     "data": {
      "text/plain": [
       "3569041.02"
      ]
     },
     "execution_count": 15,
     "metadata": {},
     "output_type": "execute_result"
    }
   ],
   "source": [
    "sales_region=round(total_df.groupby(['Area','Year'])[['ShopID','SalesMny']].agg({'ShopID':'nunique','SalesMny':'sum'}),2).reset_index()\n",
    "tsr=sales_region.merge(gc_region,on=['Area','Year'],how='left')\n",
    "tsr['AvgChk']=round(tsr.SalesMny/tsr.Guest_Count,2)\n",
    "tsr.SalesMny.sum()"
   ]
  },
  {
   "cell_type": "code",
   "execution_count": 16,
   "id": "b1d160a5",
   "metadata": {},
   "outputs": [
    {
     "data": {
      "text/plain": [
       "1894322.73"
      ]
     },
     "execution_count": 16,
     "metadata": {},
     "output_type": "execute_result"
    }
   ],
   "source": [
    "tsr[tsr.Year==2024].SalesMny.sum()\n"
   ]
  },
  {
   "cell_type": "code",
   "execution_count": 17,
   "id": "8a2b52e3",
   "metadata": {},
   "outputs": [
    {
     "data": {
      "text/plain": [
       "1674718.2956"
      ]
     },
     "execution_count": 17,
     "metadata": {},
     "output_type": "execute_result"
    }
   ],
   "source": [
    "data.SalesMny.sum()"
   ]
  },
  {
   "cell_type": "markdown",
   "id": "6d0d4b62",
   "metadata": {},
   "source": [
    "# Month Total System Sales"
   ]
  },
  {
   "cell_type": "code",
   "execution_count": 18,
   "id": "39d5157c",
   "metadata": {},
   "outputs": [],
   "source": [
    "# sales_month=total_df[total_df.Month==total_df.Month.max()].groupby(\n",
    "#     ['Area','Year'])[['ShopID','SalesMny']].agg(\n",
    "#     {'ShopID':'nunique','SalesMny':'sum'}).reset_index()\n",
    "# gc_month_region=total_gc[total_gc.Month==total_gc.Month.max()].merge(total_df[['ShopID','Area']],on='ShopID',how='left').drop_duplicates(keep='first').groupby([\n",
    "# 'Area','Year'\n",
    "# ])['GC'].sum().reset_index()\n",
    "# tsr_mtd=sales_month.merge(gc_month_region,on=['Area','Year'],how='left')\n",
    "# tsr_mtd['AvgChk']=round(tsr_mtd.SalesMny/tsr_mtd.GC,2)\n",
    "# tsr_mtd"
   ]
  },
  {
   "cell_type": "code",
   "execution_count": 19,
   "id": "cee549e4",
   "metadata": {},
   "outputs": [
    {
     "data": {
      "text/plain": [
       "Area           CoreCoreDevelopingDeveloping\n",
       "Year                                   8098\n",
       "ShopID                                  305\n",
       "SalesMny                        3569041.024\n",
       "Guest_Count                          301629\n",
       "AvgChk                                 45.4\n",
       "dtype: object"
      ]
     },
     "execution_count": 19,
     "metadata": {},
     "output_type": "execute_result"
    }
   ],
   "source": [
    "sales_month=total_df[total_df.Month==month].groupby(\n",
    "    ['Area','Year'])[['ShopID','SalesMny']].agg(\n",
    "    {'ShopID':'nunique','SalesMny':'sum'}).reset_index()\n",
    "gc_month_region=total_gc[total_gc.Month==month].groupby([\n",
    "'Area','Year'\n",
    "])['Guest_Count'].sum().reset_index()\n",
    "tsr_mtd=sales_month.merge(gc_month_region,on=['Area','Year'],how='left')\n",
    "tsr_mtd['AvgChk']=round(tsr_mtd.SalesMny/tsr_mtd.Guest_Count,2)\n",
    "tsr_mtd.sum()"
   ]
  },
  {
   "cell_type": "markdown",
   "id": "e0901ed4",
   "metadata": {},
   "source": [
    "# Week Total System Sales"
   ]
  },
  {
   "cell_type": "code",
   "execution_count": 20,
   "id": "679b8261",
   "metadata": {},
   "outputs": [],
   "source": [
    "# sales_week=total_df[total_df.Week==total_df.Week.max()].groupby(\n",
    "#     ['Region','Year'])[['ShopID','SalesMny']].agg(\n",
    "#     {'ShopID':'nunique','SalesMny':'sum'}).reset_index()\n",
    "# gc_week_region=total_gc[total_gc.Week==total_gc.Week.max()].merge(total_df[['ShopID','Region']],on='ShopID',how='left').drop_duplicates(keep='first').groupby([\n",
    "# 'Region','Year'\n",
    "# ])['GC'].sum().reset_index()\n",
    "# tsr_wtd=sales_week.merge(gc_week_region,on=['Region','Year'],how='left')\n",
    "# tsr_wtd['AvgChk']=round(tsr_wtd.SalesMny/tsr_wtd.GC,2)\n",
    "# tsr_wtd"
   ]
  },
  {
   "cell_type": "code",
   "execution_count": 21,
   "id": "41ef39d0",
   "metadata": {},
   "outputs": [
    {
     "name": "stdout",
     "output_type": "stream",
     "text": [
      "<class 'pandas.core.frame.DataFrame'>\n",
      "Index: 31633 entries, 0 to 808612\n",
      "Data columns (total 29 columns):\n",
      " #   Column            Non-Null Count  Dtype         \n",
      "---  ------            --------------  -----         \n",
      " 0   ShopID            31633 non-null  int64         \n",
      " 1   intStoreID        31633 non-null  int64         \n",
      " 2   ProductCode       31633 non-null  int64         \n",
      " 3   ProdSizeCode      31633 non-null  int64         \n",
      " 4   DiscountCode      31633 non-null  int64         \n",
      " 5   Register          31633 non-null  int64         \n",
      " 6   SalesQty          31633 non-null  int64         \n",
      " 7   SalesMny          31633 non-null  float64       \n",
      " 8   StartDate         31633 non-null  datetime64[ns]\n",
      " 9   EndDate           31633 non-null  datetime64[ns]\n",
      " 10  EditDate          31633 non-null  datetime64[ns]\n",
      " 11  Week              31633 non-null  int32         \n",
      " 12  DataSource        31633 non-null  object        \n",
      " 13  ShopName          31633 non-null  object        \n",
      " 14  State             31633 non-null  object        \n",
      " 15  Region            31633 non-null  object        \n",
      " 16  ShopStatus        31633 non-null  object        \n",
      " 17  LegacyShopType    31633 non-null  object        \n",
      " 18  LegacyShopStatus  31633 non-null  object        \n",
      " 19  ProductTypeName   31633 non-null  object        \n",
      " 20  ProductSizeName   31633 non-null  object        \n",
      " 21  SpecialVenue      31633 non-null  object        \n",
      " 22  CoOpStatus        31633 non-null  object        \n",
      " 23  CoOpName          4567 non-null   object        \n",
      " 24  CoOpRate          31633 non-null  float64       \n",
      " 25  Year              31633 non-null  int64         \n",
      " 26  SV                31633 non-null  object        \n",
      " 27  Month             31633 non-null  int64         \n",
      " 28  Area              31633 non-null  object        \n",
      "dtypes: datetime64[ns](3), float64(2), int32(1), int64(9), object(14)\n",
      "memory usage: 7.1+ MB\n"
     ]
    }
   ],
   "source": [
    "total_df.info()"
   ]
  },
  {
   "cell_type": "code",
   "execution_count": 22,
   "id": "3580be58",
   "metadata": {},
   "outputs": [
    {
     "data": {
      "text/plain": [
       "Area           CoreCoreDevelopingDeveloping\n",
       "Year                                   8098\n",
       "ShopID                                  262\n",
       "SalesMny                        947764.6941\n",
       "Guest_Count                           81386\n",
       "AvgChk                                44.64\n",
       "dtype: object"
      ]
     },
     "execution_count": 22,
     "metadata": {},
     "output_type": "execute_result"
    }
   ],
   "source": [
    "sales_week=total_df[total_df.Week==data.Week.max()].groupby(\n",
    "    ['Area','Year'])[['ShopID','SalesMny']].agg(\n",
    "    {'ShopID':'nunique','SalesMny':'sum'}).reset_index()\n",
    "gc_week_region=total_gc[total_gc.Week==total_gc.Week.max()].groupby([\n",
    "'Area','Year'\n",
    "])['Guest_Count'].sum().reset_index()\n",
    "tsr_wtd=sales_week.merge(gc_week_region,on=['Area','Year'],how='left')\n",
    "tsr_wtd['AvgChk']=round(tsr_wtd.SalesMny/tsr_wtd.Guest_Count,2)\n",
    "tsr_wtd.sum()"
   ]
  },
  {
   "cell_type": "markdown",
   "id": "6252a119",
   "metadata": {},
   "source": [
    "# Special Venues YTD"
   ]
  },
  {
   "cell_type": "code",
   "execution_count": 23,
   "id": "25eca355",
   "metadata": {},
   "outputs": [],
   "source": [
    "sv_ytd=round(total_df[(total_df.SV=='Yes')].groupby(['Area','Year'])[['ShopID','SalesMny']].agg({'ShopID':'nunique','SalesMny':'sum'}),2).reset_index()"
   ]
  },
  {
   "cell_type": "markdown",
   "id": "fa41d2cf",
   "metadata": {},
   "source": [
    "# Special Venues MTD"
   ]
  },
  {
   "cell_type": "code",
   "execution_count": 24,
   "id": "c8a92a15",
   "metadata": {},
   "outputs": [],
   "source": [
    "sv_mtd=total_df[(total_df.SV=='Yes')&(total_df.Month==month)].groupby(['Area','Year'])[['ShopID','SalesMny']].agg({'ShopID':'nunique','SalesMny':'sum'}).reset_index()"
   ]
  },
  {
   "cell_type": "markdown",
   "id": "dc90cfe7",
   "metadata": {},
   "source": [
    "# Special Venues WTD"
   ]
  },
  {
   "cell_type": "code",
   "execution_count": 25,
   "id": "bad21c41",
   "metadata": {},
   "outputs": [],
   "source": [
    "sv_wtd=round(total_df[(total_df.SV=='Yes')&(total_df.Week==data.Week.max())].groupby(['Area','Year'])[['ShopID','SalesMny']].agg({'ShopID':'nunique','SalesMny':'sum'}),2).reset_index()\n"
   ]
  },
  {
   "cell_type": "markdown",
   "id": "9b1f71f7",
   "metadata": {},
   "source": [
    "# 3PD and Open Catering Sales YTD"
   ]
  },
  {
   "cell_type": "code",
   "execution_count": 26,
   "id": "35732a0c",
   "metadata": {},
   "outputs": [],
   "source": [
    "alist=['3rd Party Delivery','Full Service Catering (Open $)','Online Ordering']\n",
    "pd3_oc_ytd=total_df[(total_df.ProductTypeName.isin(alist))&(total_df.SV=='No')].groupby(['Area','Year','ProductTypeName'])[['SalesMny']].agg({'SalesMny':'sum'}).reset_index()\n",
    "pd3_oc_ytd=pd3_oc_ytd.iloc[:,[0,1,-1,2]]"
   ]
  },
  {
   "cell_type": "markdown",
   "id": "49dea9fd",
   "metadata": {},
   "source": [
    "# 3PD and Open Catering Sales MTD"
   ]
  },
  {
   "cell_type": "code",
   "execution_count": 27,
   "id": "5ce1756b",
   "metadata": {},
   "outputs": [],
   "source": [
    "pd3_oc_mtd=total_df[(total_df.ProductTypeName.isin(alist))&(total_df.Month==month)&(total_df.SV=='No')].groupby(['Area','Year','ProductTypeName'])[['SalesMny']].agg({'SalesMny':'sum'}).reset_index()\n",
    "pd3_oc_mtd=pd3_oc_mtd.iloc[:,[0,1,-1,2]]"
   ]
  },
  {
   "cell_type": "markdown",
   "id": "cd3798d0",
   "metadata": {},
   "source": [
    "# 3PD and Open Catering Sales WTD"
   ]
  },
  {
   "cell_type": "code",
   "execution_count": 28,
   "id": "c065bd27",
   "metadata": {},
   "outputs": [],
   "source": [
    "pd3_oc_wtd=total_df[(total_df.ProductTypeName.isin(alist))&(total_df.Week==data.Week.max())&(total_df.SV=='No')].groupby(['Area','Year','ProductTypeName'])[['SalesMny']].agg({'SalesMny':'sum'}).reset_index()\n",
    "pd3_oc_wtd=pd3_oc_wtd.iloc[:,[0,1,-1,2]]"
   ]
  },
  {
   "cell_type": "markdown",
   "id": "d016813e",
   "metadata": {},
   "source": [
    "# Mobile Sales YTD"
   ]
  },
  {
   "cell_type": "code",
   "execution_count": 29,
   "id": "c812967c",
   "metadata": {},
   "outputs": [],
   "source": [
    "mobile_ytd=total_df[(total_df.LegacyShopType.str.contains('Mobile'))&(total_df.SV=='No')&(\n",
    "    total_df.ProductTypeName!='Full Service Catering (Open $)')].groupby(['Area','Year'])[['ShopID','SalesMny']].agg({'ShopID':'nunique','SalesMny':'sum'}).reset_index()"
   ]
  },
  {
   "cell_type": "code",
   "execution_count": 30,
   "id": "5067f554",
   "metadata": {},
   "outputs": [],
   "source": [
    "mobile_mtd=total_df[(total_df.LegacyShopType.str.contains('Mobile'))&(total_df.SV=='No')&(\n",
    "    total_df.ProductTypeName!='Full Service Catering (Open $)')&(total_df.Month==month)].groupby(\n",
    "    ['Area','Year'])[['ShopID','SalesMny']].agg({'ShopID':'nunique','SalesMny':'sum'}).reset_index()"
   ]
  },
  {
   "cell_type": "code",
   "execution_count": 31,
   "id": "f6fae0fd",
   "metadata": {},
   "outputs": [],
   "source": [
    "mobile_wtd=total_df[(total_df.LegacyShopType.str.contains('Mobile'))&(total_df.SV=='No')&(\n",
    "    total_df.ProductTypeName!='Full Service Catering (Open $)')&(total_df.Week==data.Week.max())].groupby(\n",
    "    ['Area','Year'])[['ShopID','SalesMny']].agg({'ShopID':'nunique','SalesMny':'sum'}).reset_index()"
   ]
  },
  {
   "cell_type": "markdown",
   "id": "a7db6c55",
   "metadata": {},
   "source": [
    "# Retail Sales YTD"
   ]
  },
  {
   "cell_type": "code",
   "execution_count": 32,
   "id": "95a91e43",
   "metadata": {},
   "outputs": [],
   "source": [
    "# retail_gc=total_gc.merge(total_df[['ShopID','Region']],on='ShopID',how='left').drop_duplicates(keep='first')\n"
   ]
  },
  {
   "cell_type": "code",
   "execution_count": 33,
   "id": "7659e2d5",
   "metadata": {},
   "outputs": [],
   "source": [
    "retail_ytd=total_df[~(total_df.LegacyShopType.str.contains('Mobile'))&(total_df.SV=='No')&~(\n",
    "    total_df.ProductTypeName.isin(alist))].groupby(\n",
    "    ['Area','Year'])[['ShopID','SalesMny']].agg({'ShopID':'nunique','SalesMny':'sum'}).reset_index()\n",
    "retail_ytd\n",
    "shops=total_df[~(total_df.LegacyShopType.str.contains('Mobile'))&(total_df.SV=='No')&~(\n",
    "    total_df.ProductTypeName.isin(alist))].ShopID.unique()\n",
    "shops\n",
    "gc_ytd=total_gc[total_gc.ShopID.isin(shops)].groupby([\n",
    "'Area','Year'\n",
    "])['Guest_Count'].sum().reset_index()\n",
    "retail_ytd=retail_ytd.merge(gc_ytd,on=['Area','Year'],how='left')\n",
    "retail_ytd['AvgChk']=retail_ytd.SalesMny/retail_ytd.Guest_Count\n"
   ]
  },
  {
   "cell_type": "code",
   "execution_count": 34,
   "id": "f92a3903",
   "metadata": {},
   "outputs": [
    {
     "data": {
      "text/html": [
       "<div>\n",
       "<style scoped>\n",
       "    .dataframe tbody tr th:only-of-type {\n",
       "        vertical-align: middle;\n",
       "    }\n",
       "\n",
       "    .dataframe tbody tr th {\n",
       "        vertical-align: top;\n",
       "    }\n",
       "\n",
       "    .dataframe thead th {\n",
       "        text-align: right;\n",
       "    }\n",
       "</style>\n",
       "<table border=\"1\" class=\"dataframe\">\n",
       "  <thead>\n",
       "    <tr style=\"text-align: right;\">\n",
       "      <th></th>\n",
       "      <th>Area</th>\n",
       "      <th>Year</th>\n",
       "      <th>ShopID</th>\n",
       "      <th>SalesMny</th>\n",
       "      <th>Guest_Count</th>\n",
       "      <th>AvgChk</th>\n",
       "    </tr>\n",
       "  </thead>\n",
       "  <tbody>\n",
       "    <tr>\n",
       "      <th>0</th>\n",
       "      <td>Core</td>\n",
       "      <td>2024</td>\n",
       "      <td>37</td>\n",
       "      <td>2.732675e+05</td>\n",
       "      <td>32253</td>\n",
       "      <td>8.472624</td>\n",
       "    </tr>\n",
       "    <tr>\n",
       "      <th>1</th>\n",
       "      <td>Core</td>\n",
       "      <td>2025</td>\n",
       "      <td>41</td>\n",
       "      <td>2.581776e+05</td>\n",
       "      <td>29991</td>\n",
       "      <td>8.608502</td>\n",
       "    </tr>\n",
       "    <tr>\n",
       "      <th>2</th>\n",
       "      <td>Developing</td>\n",
       "      <td>2024</td>\n",
       "      <td>90</td>\n",
       "      <td>1.102091e+06</td>\n",
       "      <td>112035</td>\n",
       "      <td>9.837020</td>\n",
       "    </tr>\n",
       "    <tr>\n",
       "      <th>3</th>\n",
       "      <td>Developing</td>\n",
       "      <td>2025</td>\n",
       "      <td>102</td>\n",
       "      <td>1.089194e+06</td>\n",
       "      <td>110332</td>\n",
       "      <td>9.871966</td>\n",
       "    </tr>\n",
       "  </tbody>\n",
       "</table>\n",
       "</div>"
      ],
      "text/plain": [
       "         Area  Year  ShopID      SalesMny  Guest_Count    AvgChk\n",
       "0        Core  2024      37  2.732675e+05        32253  8.472624\n",
       "1        Core  2025      41  2.581776e+05        29991  8.608502\n",
       "2  Developing  2024      90  1.102091e+06       112035  9.837020\n",
       "3  Developing  2025     102  1.089194e+06       110332  9.871966"
      ]
     },
     "execution_count": 34,
     "metadata": {},
     "output_type": "execute_result"
    }
   ],
   "source": [
    "retail_ytd"
   ]
  },
  {
   "cell_type": "markdown",
   "id": "a368005c",
   "metadata": {},
   "source": [
    "# Retail Sales MTD"
   ]
  },
  {
   "cell_type": "code",
   "execution_count": 35,
   "id": "9ae927bc",
   "metadata": {},
   "outputs": [],
   "source": [
    "retail_mtd=total_df[~(total_df.LegacyShopType.str.contains('Mobile'))&(total_df.SV=='No')&~(\n",
    "    total_df.ProductTypeName.isin(alist))&(total_df.Month==month)].groupby(\n",
    "    ['Area','Year'])[['ShopID','SalesMny']].agg({'ShopID':'nunique','SalesMny':'sum'}).reset_index()\n",
    "shops=total_df[~(total_df.LegacyShopType.str.contains('Mobile'))&(total_df.SV=='No')&~(\n",
    "    total_df.ProductTypeName.isin(alist))&(total_df.Month==month)].ShopID.unique()\n",
    "gc_mtd=total_gc[total_gc.ShopID.isin(shops)&(total_gc.Month==month)].groupby([\n",
    "'Area','Year'\n",
    "])['Guest_Count'].sum().reset_index()\n",
    "retail_mtd=retail_mtd.merge(gc_mtd,on=['Area','Year'],how='left')\n",
    "retail_mtd['AvgChk']=retail_mtd.SalesMny/retail_mtd.Guest_Count"
   ]
  },
  {
   "cell_type": "code",
   "execution_count": 36,
   "id": "9a061f1a",
   "metadata": {},
   "outputs": [
    {
     "data": {
      "text/html": [
       "<div>\n",
       "<style scoped>\n",
       "    .dataframe tbody tr th:only-of-type {\n",
       "        vertical-align: middle;\n",
       "    }\n",
       "\n",
       "    .dataframe tbody tr th {\n",
       "        vertical-align: top;\n",
       "    }\n",
       "\n",
       "    .dataframe thead th {\n",
       "        text-align: right;\n",
       "    }\n",
       "</style>\n",
       "<table border=\"1\" class=\"dataframe\">\n",
       "  <thead>\n",
       "    <tr style=\"text-align: right;\">\n",
       "      <th></th>\n",
       "      <th>Area</th>\n",
       "      <th>Year</th>\n",
       "      <th>ShopID</th>\n",
       "      <th>SalesMny</th>\n",
       "      <th>Guest_Count</th>\n",
       "      <th>AvgChk</th>\n",
       "    </tr>\n",
       "  </thead>\n",
       "  <tbody>\n",
       "    <tr>\n",
       "      <th>0</th>\n",
       "      <td>Core</td>\n",
       "      <td>2024</td>\n",
       "      <td>37</td>\n",
       "      <td>2.732675e+05</td>\n",
       "      <td>32253</td>\n",
       "      <td>8.472624</td>\n",
       "    </tr>\n",
       "    <tr>\n",
       "      <th>1</th>\n",
       "      <td>Core</td>\n",
       "      <td>2025</td>\n",
       "      <td>41</td>\n",
       "      <td>2.581776e+05</td>\n",
       "      <td>29991</td>\n",
       "      <td>8.608502</td>\n",
       "    </tr>\n",
       "    <tr>\n",
       "      <th>2</th>\n",
       "      <td>Developing</td>\n",
       "      <td>2024</td>\n",
       "      <td>90</td>\n",
       "      <td>1.102091e+06</td>\n",
       "      <td>112035</td>\n",
       "      <td>9.837020</td>\n",
       "    </tr>\n",
       "    <tr>\n",
       "      <th>3</th>\n",
       "      <td>Developing</td>\n",
       "      <td>2025</td>\n",
       "      <td>102</td>\n",
       "      <td>1.089194e+06</td>\n",
       "      <td>110332</td>\n",
       "      <td>9.871966</td>\n",
       "    </tr>\n",
       "  </tbody>\n",
       "</table>\n",
       "</div>"
      ],
      "text/plain": [
       "         Area  Year  ShopID      SalesMny  Guest_Count    AvgChk\n",
       "0        Core  2024      37  2.732675e+05        32253  8.472624\n",
       "1        Core  2025      41  2.581776e+05        29991  8.608502\n",
       "2  Developing  2024      90  1.102091e+06       112035  9.837020\n",
       "3  Developing  2025     102  1.089194e+06       110332  9.871966"
      ]
     },
     "execution_count": 36,
     "metadata": {},
     "output_type": "execute_result"
    }
   ],
   "source": [
    "retail_mtd"
   ]
  },
  {
   "cell_type": "markdown",
   "id": "05b63c81",
   "metadata": {},
   "source": [
    "# Retail Sales WTD"
   ]
  },
  {
   "cell_type": "code",
   "execution_count": 37,
   "id": "ccc73cac",
   "metadata": {},
   "outputs": [],
   "source": [
    "retail_wtd=total_df[~(total_df.LegacyShopType.str.contains('Mobile'))&(total_df.SV=='No')&~(\n",
    "    total_df.ProductTypeName.isin(alist))&(total_df.Week==data.Week.max())].groupby(\n",
    "    ['Area','Year'])[['ShopID','SalesMny']].agg({'ShopID':'nunique','SalesMny':'sum'}).reset_index()\n",
    "shops=total_df[~(total_df.LegacyShopType.str.contains('Mobile'))&(total_df.SV=='No')&~(\n",
    "    total_df.ProductTypeName.isin(alist))&(total_df.Week==data.Week.max())].ShopID.unique()\n",
    "gc_wtd=total_gc[total_gc.ShopID.isin(shops)&(total_gc.Week==total_gc.Week.max())].groupby([\n",
    "'Area','Year'\n",
    "])['Guest_Count'].sum().reset_index()\n",
    "retail_wtd=retail_wtd.merge(gc_wtd,on=['Area','Year'],how='left')\n",
    "retail_wtd['AvgChk']=retail_wtd.SalesMny/retail_wtd.Guest_Count"
   ]
  },
  {
   "cell_type": "code",
   "execution_count": 38,
   "id": "594a5926",
   "metadata": {},
   "outputs": [
    {
     "data": {
      "text/plain": [
       "1894322.7284"
      ]
     },
     "execution_count": 38,
     "metadata": {},
     "output_type": "execute_result"
    }
   ],
   "source": [
    "total_df[total_df.Year==2024].SalesMny.sum()"
   ]
  },
  {
   "cell_type": "code",
   "execution_count": 39,
   "id": "de4e9bdd",
   "metadata": {},
   "outputs": [
    {
     "data": {
      "text/plain": [
       "1894322.7284000001"
      ]
     },
     "execution_count": 39,
     "metadata": {},
     "output_type": "execute_result"
    }
   ],
   "source": [
    "retail_ytd[retail_ytd.Year==2024].SalesMny.sum()+mobile_ytd[mobile_ytd.Year==2024].SalesMny.sum()+pd3_oc_ytd[pd3_oc_ytd.Year==2024].SalesMny.sum()+sv_ytd[sv_ytd.Year==2024].SalesMny.sum()"
   ]
  },
  {
   "cell_type": "markdown",
   "id": "79692245",
   "metadata": {},
   "source": [
    "# Retail Comp Sales YTD"
   ]
  },
  {
   "cell_type": "code",
   "execution_count": 40,
   "id": "bac9c8a5",
   "metadata": {},
   "outputs": [
    {
     "data": {
      "text/plain": [
       "array([2025, 2024], dtype=int64)"
      ]
     },
     "execution_count": 40,
     "metadata": {},
     "output_type": "execute_result"
    }
   ],
   "source": [
    "total_df.Year.unique()"
   ]
  },
  {
   "cell_type": "code",
   "execution_count": 41,
   "id": "46d7b232",
   "metadata": {},
   "outputs": [],
   "source": [
    "comps=total_df.pivot_table(index='ShopID',columns='Year',values='SalesMny',aggfunc='sum',fill_value=0).reset_index()\n",
    "comps=comps[comps.ShopID<10000]\n",
    "comp_list=comps[(comps[2024]>0)&(comps[2025]>0)].ShopID.unique()"
   ]
  },
  {
   "cell_type": "code",
   "execution_count": 42,
   "id": "378084c9",
   "metadata": {},
   "outputs": [
    {
     "data": {
      "text/plain": [
       "array([  22,   39,   73,  114,  142,  245,  250,  306,  347,  400,  413,\n",
       "        445,  463,  467,  468,  485,  498,  501,  536,  556,  585,  617,\n",
       "        628,  638,  691,  712,  714,  753,  764,  779,  835,  836,  843,\n",
       "        847,  863,  892,  903,  905,  934,  952, 1040, 1044, 1055, 1065,\n",
       "       1071, 1072, 1119, 1130, 1133, 1159, 1171, 1234, 1268, 1302, 1318,\n",
       "       1334, 1335, 1336, 1337, 1352, 1356, 1357, 1362, 1369, 1371, 1377,\n",
       "       1378, 1379, 1381, 1390, 1396, 1397, 1400, 1405, 1416, 1417, 1419,\n",
       "       1422, 1423, 1442, 1449, 1451, 1455, 1459, 1460, 1465, 1466, 1467,\n",
       "       1468, 1469, 1471, 1473, 1478, 1480, 1483, 1489, 1490, 1495, 1499,\n",
       "       1502, 1504, 1505, 1507, 1512, 1515, 1517, 1518], dtype=int64)"
      ]
     },
     "execution_count": 42,
     "metadata": {},
     "output_type": "execute_result"
    }
   ],
   "source": [
    "comp_list"
   ]
  },
  {
   "cell_type": "code",
   "execution_count": 43,
   "id": "2f2ac66c",
   "metadata": {},
   "outputs": [
    {
     "data": {
      "text/html": [
       "<div>\n",
       "<style scoped>\n",
       "    .dataframe tbody tr th:only-of-type {\n",
       "        vertical-align: middle;\n",
       "    }\n",
       "\n",
       "    .dataframe tbody tr th {\n",
       "        vertical-align: top;\n",
       "    }\n",
       "\n",
       "    .dataframe thead th {\n",
       "        text-align: right;\n",
       "    }\n",
       "</style>\n",
       "<table border=\"1\" class=\"dataframe\">\n",
       "  <thead>\n",
       "    <tr style=\"text-align: right;\">\n",
       "      <th></th>\n",
       "      <th>Area</th>\n",
       "      <th>ShopCount</th>\n",
       "      <th>CYSales</th>\n",
       "      <th>PYSales</th>\n",
       "      <th>2025</th>\n",
       "      <th>2024</th>\n",
       "      <th>CYAvgChk</th>\n",
       "      <th>PYAvgChk</th>\n",
       "    </tr>\n",
       "  </thead>\n",
       "  <tbody>\n",
       "    <tr>\n",
       "      <th>0</th>\n",
       "      <td>Core</td>\n",
       "      <td>26</td>\n",
       "      <td>226051.6802</td>\n",
       "      <td>2.614649e+05</td>\n",
       "      <td>27435</td>\n",
       "      <td>32689</td>\n",
       "      <td>8.239536</td>\n",
       "      <td>7.998558</td>\n",
       "    </tr>\n",
       "    <tr>\n",
       "      <th>1</th>\n",
       "      <td>Developing</td>\n",
       "      <td>80</td>\n",
       "      <td>955477.3691</td>\n",
       "      <td>1.060946e+06</td>\n",
       "      <td>97298</td>\n",
       "      <td>107839</td>\n",
       "      <td>9.820113</td>\n",
       "      <td>9.838239</td>\n",
       "    </tr>\n",
       "  </tbody>\n",
       "</table>\n",
       "</div>"
      ],
      "text/plain": [
       "         Area  ShopCount      CYSales       PYSales   2025    2024  CYAvgChk  \\\n",
       "0        Core         26  226051.6802  2.614649e+05  27435   32689  8.239536   \n",
       "1  Developing         80  955477.3691  1.060946e+06  97298  107839  9.820113   \n",
       "\n",
       "   PYAvgChk  \n",
       "0  7.998558  \n",
       "1  9.838239  "
      ]
     },
     "execution_count": 43,
     "metadata": {},
     "output_type": "execute_result"
    }
   ],
   "source": [
    "comp_ytd=total_df[~(total_df.LegacyShopType.str.contains('Mobile'))&(total_df.SV=='No')&~(\n",
    "total_df.ProductTypeName.isin(alist))&(total_df.ShopID.isin(comp_list))].pivot_table(index='Area',columns=['Year'],\n",
    "                                                                                        values=['ShopID','SalesMny'],aggfunc=['nunique',\n",
    "                                                                                                                              'sum']).reset_index()\n",
    "comp_ytd=comp_ytd.iloc[:,[0,3,6,5]]\n",
    "comp_gc=total_gc[total_gc.ShopID.isin(comp_list)].pivot_table(index='Area',columns='Year',values='Guest_Count',aggfunc='sum').reset_index()\n",
    "comp_gc=comp_gc.iloc[:,[0,2,1]]\n",
    "columns=['Area','ShopCount','CYSales','PYSales']\n",
    "comp_ytd.columns=columns\n",
    "comp_ytd=comp_ytd.merge(comp_gc,on='Area')\n",
    "comp_ytd['CYAvgChk']=comp_ytd['CYSales']/comp_ytd[2025]\n",
    "comp_ytd['PYAvgChk']=comp_ytd['PYSales']/comp_ytd[2024]\n",
    "comp_ytd"
   ]
  },
  {
   "cell_type": "markdown",
   "id": "d2416a3e",
   "metadata": {},
   "source": [
    "# Retail Comp Sales MTD"
   ]
  },
  {
   "cell_type": "code",
   "execution_count": 44,
   "id": "89a692f4",
   "metadata": {},
   "outputs": [],
   "source": [
    "comps=total_df[total_df.Month==month].pivot_table(index='ShopID',columns='Year',values='SalesMny',aggfunc='sum',fill_value=0).reset_index()\n",
    "comp_list=comps[(comps[2024]>0)&(comps[2025]>0)].ShopID.unique()\n",
    "comp_mtd=total_df[~(total_df.LegacyShopType.str.contains('Mobile'))&(total_df.SV=='No')&~(\n",
    "total_df.ProductTypeName.isin(alist))&(total_df.ShopID.isin(comp_list))&(total_df.Month==month)].pivot_table(index='Area',columns=['Year'],\n",
    "                                                                                        values=['ShopID','SalesMny'],aggfunc=['nunique',\n",
    "                                                                                                                              'sum']).reset_index()\n",
    "comp_mtd=comp_mtd.iloc[:,[0,3,6,5]]\n",
    "comp_gc=total_gc[total_gc.ShopID.isin(comp_list)&(total_gc.Month==month)].pivot_table(index='Area',columns='Year',values='Guest_Count',aggfunc='sum').reset_index()\n",
    "comp_gc=comp_gc.iloc[:,[0,2,1]]\n",
    "columns=['Area','ShopCount','CYSales','PYSales']\n",
    "comp_mtd.columns=columns\n",
    "comp_mtd=comp_mtd.merge(comp_gc,on='Area')\n",
    "comp_mtd['CYAvgChk']=comp_mtd['CYSales']/comp_mtd[2025]\n",
    "comp_mtd['PYAvgChk']=comp_mtd['PYSales']/comp_mtd[2024]"
   ]
  },
  {
   "cell_type": "code",
   "execution_count": 45,
   "id": "2d19c61e",
   "metadata": {},
   "outputs": [
    {
     "data": {
      "text/html": [
       "<div>\n",
       "<style scoped>\n",
       "    .dataframe tbody tr th:only-of-type {\n",
       "        vertical-align: middle;\n",
       "    }\n",
       "\n",
       "    .dataframe tbody tr th {\n",
       "        vertical-align: top;\n",
       "    }\n",
       "\n",
       "    .dataframe thead th {\n",
       "        text-align: right;\n",
       "    }\n",
       "</style>\n",
       "<table border=\"1\" class=\"dataframe\">\n",
       "  <thead>\n",
       "    <tr style=\"text-align: right;\">\n",
       "      <th>Year</th>\n",
       "      <th>ShopID</th>\n",
       "      <th>2024</th>\n",
       "      <th>2025</th>\n",
       "    </tr>\n",
       "  </thead>\n",
       "  <tbody>\n",
       "    <tr>\n",
       "      <th>0</th>\n",
       "      <td>18</td>\n",
       "      <td>0.000</td>\n",
       "      <td>0.0000</td>\n",
       "    </tr>\n",
       "    <tr>\n",
       "      <th>1</th>\n",
       "      <td>22</td>\n",
       "      <td>33525.816</td>\n",
       "      <td>28908.3800</td>\n",
       "    </tr>\n",
       "    <tr>\n",
       "      <th>2</th>\n",
       "      <td>39</td>\n",
       "      <td>23722.065</td>\n",
       "      <td>22827.4600</td>\n",
       "    </tr>\n",
       "    <tr>\n",
       "      <th>3</th>\n",
       "      <td>42</td>\n",
       "      <td>0.000</td>\n",
       "      <td>1.0000</td>\n",
       "    </tr>\n",
       "    <tr>\n",
       "      <th>4</th>\n",
       "      <td>73</td>\n",
       "      <td>24454.630</td>\n",
       "      <td>25023.9075</td>\n",
       "    </tr>\n",
       "    <tr>\n",
       "      <th>...</th>\n",
       "      <td>...</td>\n",
       "      <td>...</td>\n",
       "      <td>...</td>\n",
       "    </tr>\n",
       "    <tr>\n",
       "      <th>188</th>\n",
       "      <td>11416</td>\n",
       "      <td>0.000</td>\n",
       "      <td>142.9100</td>\n",
       "    </tr>\n",
       "    <tr>\n",
       "      <th>189</th>\n",
       "      <td>11419</td>\n",
       "      <td>3870.780</td>\n",
       "      <td>6362.3100</td>\n",
       "    </tr>\n",
       "    <tr>\n",
       "      <th>190</th>\n",
       "      <td>11453</td>\n",
       "      <td>1731.060</td>\n",
       "      <td>2606.8600</td>\n",
       "    </tr>\n",
       "    <tr>\n",
       "      <th>191</th>\n",
       "      <td>11502</td>\n",
       "      <td>0.000</td>\n",
       "      <td>360.0000</td>\n",
       "    </tr>\n",
       "    <tr>\n",
       "      <th>192</th>\n",
       "      <td>20374</td>\n",
       "      <td>119869.310</td>\n",
       "      <td>0.0000</td>\n",
       "    </tr>\n",
       "  </tbody>\n",
       "</table>\n",
       "<p>193 rows × 3 columns</p>\n",
       "</div>"
      ],
      "text/plain": [
       "Year  ShopID        2024        2025\n",
       "0         18       0.000      0.0000\n",
       "1         22   33525.816  28908.3800\n",
       "2         39   23722.065  22827.4600\n",
       "3         42       0.000      1.0000\n",
       "4         73   24454.630  25023.9075\n",
       "..       ...         ...         ...\n",
       "188    11416       0.000    142.9100\n",
       "189    11419    3870.780   6362.3100\n",
       "190    11453    1731.060   2606.8600\n",
       "191    11502       0.000    360.0000\n",
       "192    20374  119869.310      0.0000\n",
       "\n",
       "[193 rows x 3 columns]"
      ]
     },
     "execution_count": 45,
     "metadata": {},
     "output_type": "execute_result"
    }
   ],
   "source": [
    "comps=total_df[total_df.Month==month].pivot_table(index='ShopID',columns='Year',values='SalesMny',aggfunc='sum',fill_value=0).reset_index()\n",
    "comps"
   ]
  },
  {
   "cell_type": "code",
   "execution_count": 46,
   "id": "4c4a9636",
   "metadata": {},
   "outputs": [
    {
     "data": {
      "text/html": [
       "<div>\n",
       "<style scoped>\n",
       "    .dataframe tbody tr th:only-of-type {\n",
       "        vertical-align: middle;\n",
       "    }\n",
       "\n",
       "    .dataframe tbody tr th {\n",
       "        vertical-align: top;\n",
       "    }\n",
       "\n",
       "    .dataframe thead th {\n",
       "        text-align: right;\n",
       "    }\n",
       "</style>\n",
       "<table border=\"1\" class=\"dataframe\">\n",
       "  <thead>\n",
       "    <tr style=\"text-align: right;\">\n",
       "      <th>Year</th>\n",
       "      <th>Area</th>\n",
       "      <th>2024</th>\n",
       "      <th>2025</th>\n",
       "    </tr>\n",
       "  </thead>\n",
       "  <tbody>\n",
       "    <tr>\n",
       "      <th>0</th>\n",
       "      <td>Core</td>\n",
       "      <td>32689</td>\n",
       "      <td>27435</td>\n",
       "    </tr>\n",
       "    <tr>\n",
       "      <th>1</th>\n",
       "      <td>Developing</td>\n",
       "      <td>110033</td>\n",
       "      <td>99462</td>\n",
       "    </tr>\n",
       "  </tbody>\n",
       "</table>\n",
       "</div>"
      ],
      "text/plain": [
       "Year        Area    2024   2025\n",
       "0           Core   32689  27435\n",
       "1     Developing  110033  99462"
      ]
     },
     "execution_count": 46,
     "metadata": {},
     "output_type": "execute_result"
    }
   ],
   "source": [
    "total_gc[total_gc.ShopID.isin(comp_list)&(total_gc.Month==month)].pivot_table(index='Area',columns='Year',values='Guest_Count',aggfunc='sum').reset_index()"
   ]
  },
  {
   "cell_type": "code",
   "execution_count": 47,
   "id": "b71902b6",
   "metadata": {},
   "outputs": [
    {
     "data": {
      "text/plain": [
       "1"
      ]
     },
     "execution_count": 47,
     "metadata": {},
     "output_type": "execute_result"
    }
   ],
   "source": [
    "total_gc.Month.max()"
   ]
  },
  {
   "cell_type": "markdown",
   "id": "ed9c62b0",
   "metadata": {},
   "source": [
    "# Retail Comp Sales WTD"
   ]
  },
  {
   "cell_type": "code",
   "execution_count": 48,
   "id": "a130961f",
   "metadata": {},
   "outputs": [],
   "source": [
    "comps=total_df[total_df.Week==total_df.Week.max()].pivot_table(index='ShopID',columns='Year',values='SalesMny',aggfunc='sum',fill_value=0).reset_index()\n",
    "comp_list=comps[(comps[2024]>0)&(comps[2025]>0)].ShopID.unique()\n",
    "comp_wtd=total_df[~(total_df.LegacyShopType.str.contains('Mobile'))&(total_df.SV=='No')&~(\n",
    "total_df.ProductTypeName.isin(alist))&(total_df.ShopID.isin(comp_list))&(total_df.Week==total_df.Week.max())].pivot_table(index='Area',columns=['Year'],\n",
    "                                                                                        values=['ShopID','SalesMny'],aggfunc=['nunique',\n",
    "                                                                                                                              'sum']).reset_index()\n",
    "comp_wtd=comp_wtd.iloc[:,[0,3,6,5]]\n",
    "comp_gc=total_gc[total_gc.ShopID.isin(comp_list)&(total_gc.Week==total_df.Week.max())].pivot_table(index='Area',columns='Year',values='Guest_Count',aggfunc='sum').reset_index()\n",
    "comp_gc=comp_gc.iloc[:,[0,2,1]]\n",
    "columns=['Area','ShopCount','CYSales','PYSales']\n",
    "comp_wtd.columns=columns\n",
    "comp_wtd=comp_wtd.merge(comp_gc,on='Area')\n",
    "comp_wtd['CYAvgChk']=comp_wtd['CYSales']/comp_wtd[2025]\n",
    "comp_wtd['PYAvgChk']=comp_wtd['PYSales']/comp_wtd[2024]"
   ]
  },
  {
   "cell_type": "code",
   "execution_count": 49,
   "id": "f1653cd7",
   "metadata": {},
   "outputs": [],
   "source": [
    "cal_dates=total_df.groupby('Year')[['EndDate','Week']].max().reset_index()\n",
    "cal_dates=cal_dates[['EndDate','Week','Year']]"
   ]
  },
  {
   "cell_type": "code",
   "execution_count": 50,
   "id": "30446f8a",
   "metadata": {},
   "outputs": [],
   "source": [
    "cal_dates['EndDate']=pd.to_datetime(cal_dates['EndDate']).dt.strftime('%m/%d/%Y')\n"
   ]
  },
  {
   "cell_type": "code",
   "execution_count": 51,
   "id": "26eb777e",
   "metadata": {},
   "outputs": [],
   "source": [
    "writer=pd.ExcelWriter('Weekly Data Sets WE '+str(data.EndDate.max().strftime('%m-%d-%y'))+' Week '+str(data.Week.max())+'.xlsx')\n",
    "retail_wtd.to_excel(writer, sheet_name='TSS-WE',index=False)\n",
    "retail_mtd.to_excel(writer, sheet_name='TSS-MTD',index=False)\n",
    "retail_ytd.to_excel(writer, sheet_name='TSS-YTD',index=False)\n",
    "comp_wtd.to_excel(writer, sheet_name='SSS-WE',index=False)\n",
    "comp_mtd.to_excel(writer, sheet_name='SSS-MTD',index=False)\n",
    "comp_ytd.to_excel(writer, sheet_name='SSS-YTD',index=False)\n",
    "pd3_oc_wtd.to_excel(writer, sheet_name='3PD-OC WE',index=False)\n",
    "pd3_oc_mtd.to_excel(writer, sheet_name='3PD-OC MTD',index=False)\n",
    "pd3_oc_ytd.to_excel(writer, sheet_name='3PD-OC YTD',index=False)\n",
    "mobile_wtd.to_excel(writer, sheet_name='MOB WE',index=False)\n",
    "mobile_mtd.to_excel(writer, sheet_name='MOB MTD',index=False)\n",
    "mobile_ytd.to_excel(writer, sheet_name='MOB YTD',index=False)\n",
    "sv_wtd.to_excel(writer, sheet_name='SV WE',index=False)\n",
    "sv_mtd.to_excel(writer, sheet_name='SV MTD',index=False)\n",
    "sv_ytd.to_excel(writer, sheet_name='SV YTD',index=False)\n",
    "tsr_wtd.to_excel(writer, sheet_name='TSR WE',index=False)\n",
    "tsr_mtd.to_excel(writer, sheet_name='TSR MTD',index=False)\n",
    "tsr.to_excel(writer, sheet_name='TSR YTD',index=False)\n",
    "cal_dates.sort_values(by='Year',ascending=False).to_excel(writer,sheet_name='Cal Dates',index=False)\n",
    "ws=writer.sheets['Cal Dates']\n",
    "\n",
    "text1='Total Sales for the Week Ending '+str(total_df.EndDate.max().strftime('%m/%d/%Y'))\n",
    "text2='Total Sales Year to Date as of '+str(total_df.EndDate.max().strftime('%m/%d/%Y'))\n",
    "text3='Same Store Sales for the Week Ending '+str(total_df.EndDate.max().strftime('%m/%d/%Y'))\n",
    "\n",
    "ws.write(4,0,text1)\n",
    "ws.write(5,0,text2)\n",
    "ws.write(6,0,text3)\n",
    "\n",
    "writer.close()"
   ]
  },
  {
   "cell_type": "code",
   "execution_count": null,
   "id": "b475d514",
   "metadata": {},
   "outputs": [],
   "source": []
  }
 ],
 "metadata": {
  "kernelspec": {
   "display_name": "Python 3 (ipykernel)",
   "language": "python",
   "name": "python3"
  },
  "language_info": {
   "codemirror_mode": {
    "name": "ipython",
    "version": 3
   },
   "file_extension": ".py",
   "mimetype": "text/x-python",
   "name": "python",
   "nbconvert_exporter": "python",
   "pygments_lexer": "ipython3",
   "version": "3.9.12"
  }
 },
 "nbformat": 4,
 "nbformat_minor": 5
}
