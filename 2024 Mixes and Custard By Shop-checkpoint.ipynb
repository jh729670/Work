{
 "cells": [
  {
   "cell_type": "code",
   "execution_count": 1,
   "id": "06837821",
   "metadata": {},
   "outputs": [],
   "source": [
    "import pandas as pd\n",
    "import os\n",
    "import datetime\n",
    "import numpy as np\n",
    "import pyodbc as odbc\n",
    "import seaborn as sns\n",
    "import matplotlib.pyplot as plt"
   ]
  },
  {
   "cell_type": "code",
   "execution_count": 2,
   "id": "37eb8292",
   "metadata": {},
   "outputs": [],
   "source": [
    "# os.chdir(r'G:\\FinanceReports\\2023\\Wk25')\n",
    "# srs=pd.read_excel('2023-SRSsales-productLevel-wk25.xlsx', sheet_name='2023')# This gets us what the shops have sold"
   ]
  },
  {
   "cell_type": "code",
   "execution_count": 3,
   "id": "e9c53081",
   "metadata": {},
   "outputs": [],
   "source": [
    "#changes the directory \n",
    "os.chdir(r'G:\\FinanceReports\\2024\\Wk39')\n",
    "# invoice=pd.read_excel('2023 Invoice History.xlsx', sheet_name='2023 Details')# This gets us what the shops have ordered\n",
    "# sra=pd.read_excel('Open Shops Only-01.23.2024.xlsx',sheet_name='Worksheet')"
   ]
  },
  {
   "cell_type": "code",
   "execution_count": 4,
   "id": "199c0abc",
   "metadata": {},
   "outputs": [
    {
     "name": "stdout",
     "output_type": "stream",
     "text": [
      "<pyodbc.Connection object at 0x000001B312F33370>\n"
     ]
    },
    {
     "name": "stderr",
     "output_type": "stream",
     "text": [
      "C:\\Users\\jharned\\AppData\\Local\\Temp\\ipykernel_7640\\2320903483.py:18: UserWarning: pandas only supports SQLAlchemy connectable (engine/connection) or database string URI or sqlite3 DBAPI2 connection. Other DBAPI2 objects are not tested. Please consider using SQLAlchemy.\n",
      "  data2=pd.read_sql_query('''Select intStoreID, intRitasStoreID, vchStoreState,vchStoreName,dteOpenDate,dteTransferDate,dteSeasonalOpenDate,dteSeasonalCloseDate from ritascoolnet_live.dbo.GOOGLE_MAP_store''',connection)\n",
      "C:\\Users\\jharned\\AppData\\Local\\Temp\\ipykernel_7640\\2320903483.py:20: UserWarning: pandas only supports SQLAlchemy connectable (engine/connection) or database string URI or sqlite3 DBAPI2 connection. Other DBAPI2 objects are not tested. Please consider using SQLAlchemy.\n",
      "  data3=pd.read_sql_query('''Select intstoreid,RitasID, FC,CoolNetGroup,LegacyStoreType,StoreStatus,State from ritascoolnet_live.dbo.vShopDetail''',connection)\n",
      "C:\\Users\\jharned\\AppData\\Local\\Temp\\ipykernel_7640\\2320903483.py:23: UserWarning: pandas only supports SQLAlchemy connectable (engine/connection) or database string URI or sqlite3 DBAPI2 connection. Other DBAPI2 objects are not tested. Please consider using SQLAlchemy.\n",
      "  srs=pd.read_sql_query('''SELECT *\n",
      "C:\\Users\\jharned\\AppData\\Local\\Temp\\ipykernel_7640\\2320903483.py:27: UserWarning: pandas only supports SQLAlchemy connectable (engine/connection) or database string URI or sqlite3 DBAPI2 connection. Other DBAPI2 objects are not tested. Please consider using SQLAlchemy.\n",
      "  ops=pd.read_sql_query('''select intstoreid as intStoreID, RitasID,OperationsDirector as Director from ritas_bi.dbo.shopSalesRankingWeekly''',connection)\n"
     ]
    }
   ],
   "source": [
    "# Names the needed driver, server name, and database\n",
    "driver_name='SQL Server'\n",
    "server_name='10.0.1.218'\n",
    "database='ritascoolnet_live'\n",
    "\n",
    "#Creates the connection string\n",
    "connection_string=f\"\"\"\n",
    "DRIVER={{{driver_name}}};\n",
    "SERVER={server_name};\n",
    "DATABASE={database};\n",
    "Trust_Connection=yes\"\"\"\n",
    "\n",
    "#Creates the Connection to SQL Server\n",
    "connection=odbc.connect(connection_string)\n",
    "print(connection)\n",
    "\n",
    "# Reads in the Google Map to be able to join the inStoreID to the RitasID\n",
    "data2=pd.read_sql_query('''Select intStoreID, intRitasStoreID, vchStoreState,vchStoreName,dteOpenDate,dteTransferDate,dteSeasonalOpenDate,dteSeasonalCloseDate from ritascoolnet_live.dbo.GOOGLE_MAP_store''',connection)\n",
    "#Reads in the CoolNet Group Name\n",
    "data3=pd.read_sql_query('''Select intstoreid,RitasID, FC,CoolNetGroup,LegacyStoreType,StoreStatus,State from ritascoolnet_live.dbo.vShopDetail''',connection)\n",
    "# Queries the tables from SQL\n",
    "# Reads in the Weekly Sales in 2023\n",
    "srs=pd.read_sql_query('''SELECT *\n",
    "  FROM [ritas_bi].[dbo].[tmp_raw_plda]\n",
    "  WHERE YEAR(StartDate)=2024\n",
    "  ORDER BY Week DESC''',connection)\n",
    "ops=pd.read_sql_query('''select intstoreid as intStoreID, RitasID,OperationsDirector as Director from ritas_bi.dbo.shopSalesRankingWeekly''',connection)"
   ]
  },
  {
   "cell_type": "code",
   "execution_count": null,
   "id": "ce549358",
   "metadata": {},
   "outputs": [
    {
     "name": "stdout",
     "output_type": "stream",
     "text": [
      "<pyodbc.Connection object at 0x000001B31363E510>\n"
     ]
    },
    {
     "name": "stderr",
     "output_type": "stream",
     "text": [
      "C:\\Users\\jharned\\AppData\\Local\\Temp\\ipykernel_7640\\2937486448.py:16: UserWarning: pandas only supports SQLAlchemy connectable (engine/connection) or database string URI or sqlite3 DBAPI2 connection. Other DBAPI2 objects are not tested. Please consider using SQLAlchemy.\n",
      "  invoice_history=pd.read_sql_query(\"\"\"SELECT * from MAS_RFC.dbo.AR_InvoiceHistoryHeader Where Year(InvoiceDate)>=2024\"\"\",connection)\n",
      "C:\\Users\\jharned\\AppData\\Local\\Temp\\ipykernel_7640\\2937486448.py:17: UserWarning: pandas only supports SQLAlchemy connectable (engine/connection) or database string URI or sqlite3 DBAPI2 connection. Other DBAPI2 objects are not tested. Please consider using SQLAlchemy.\n",
      "  customer=pd.read_sql_query('''select * from MAS_RFC.dbo.AR_Customer''',connection)\n",
      "C:\\Users\\jharned\\AppData\\Local\\Temp\\ipykernel_7640\\2937486448.py:18: UserWarning: pandas only supports SQLAlchemy connectable (engine/connection) or database string URI or sqlite3 DBAPI2 connection. Other DBAPI2 objects are not tested. Please consider using SQLAlchemy.\n",
      "  invoice_detail=pd.read_sql_query('''select InvoiceNo,ItemCode,ItemCodeDesc,ItemType,UnitPrice,QuantityShipped, UDF_ROYALTY_AMT,UDF_STD_UNIT_PRICE,ProductLine,CommentText from MAS_RFC.dbo.AR_InvoiceHistoryDetail''',connection)\n"
     ]
    }
   ],
   "source": [
    "# Names the needed driver, server name, and database\n",
    "driver_name='SQL Server'\n",
    "server_name='10.0.1.127'\n",
    "database='MAS_RFC'\n",
    "\n",
    "#Creates the connection string\n",
    "connection_string=f\"\"\"\n",
    "DRIVER={{{driver_name}}};\n",
    "SERVER={server_name};\n",
    "DATABASE={database};\n",
    "Trust_Connection=yes\"\"\"\n",
    "\n",
    "connection=odbc.connect(connection_string)\n",
    "print(connection)\n",
    "\n",
    "invoice_history=pd.read_sql_query(\"\"\"SELECT * from MAS_RFC.dbo.AR_InvoiceHistoryHeader Where Year(InvoiceDate)>=2024\"\"\",connection)\n",
    "customer=pd.read_sql_query('''select * from MAS_RFC.dbo.AR_Customer''',connection)\n",
    "invoice_detail=pd.read_sql_query('''select InvoiceNo,ItemCode,ItemCodeDesc,ItemType,UnitPrice,QuantityShipped, UDF_ROYALTY_AMT,UDF_STD_UNIT_PRICE,ProductLine,CommentText from MAS_RFC.dbo.AR_InvoiceHistoryDetail''',connection)\n",
    "product_line=pd.read_sql_query('''select * from MAS_RFC.dbo.IM_ProductLine''',connection)"
   ]
  },
  {
   "cell_type": "code",
   "execution_count": null,
   "id": "00d45879",
   "metadata": {},
   "outputs": [],
   "source": [
    "product_line.head()"
   ]
  },
  {
   "cell_type": "code",
   "execution_count": null,
   "id": "e757766a",
   "metadata": {},
   "outputs": [],
   "source": [
    "inv_hist=invoice_history[['CustomerNo','InvoiceNo','InvoiceType','ShipDate','InvoiceDate','BillToState']]\n",
    "inv_merged=inv_hist.merge(invoice_detail,on='InvoiceNo',how='left')\n",
    "inv_merge=inv_hist.merge(invoice_detail,on='InvoiceNo',how='inner').drop_duplicates(keep='first')\n",
    "inv_merge['Ext Base Cost']=inv_merge.QuantityShipped*inv_merge.UDF_STD_UNIT_PRICE\n",
    "inv_merge['Ext Royalty']=inv_merge.QuantityShipped*inv_merge.UDF_ROYALTY_AMT\n",
    "cust=customer[['CustomerNo','CustomerName','City','ARDivisionNo','UDF_ROYALTY_METHOD','UDF_DISTRIBUTOR']]\n",
    "all_merge=inv_merge.merge(cust,on='CustomerNo',how='inner').drop_duplicates(keep='first')\n",
    "filtered=all_merge[(all_merge.ItemType=='1')&(all_merge.ARDivisionNo=='01')]\n",
    "invoice=filtered.merge(product_line[['ProductLine','ProductLineDesc']],on='ProductLine').drop_duplicates(keep='first')"
   ]
  },
  {
   "cell_type": "code",
   "execution_count": null,
   "id": "0c257d60",
   "metadata": {},
   "outputs": [],
   "source": [
    "invoice.groupby('ItemCode')['QuantityShipped'].sum()"
   ]
  },
  {
   "cell_type": "code",
   "execution_count": null,
   "id": "9311f83f",
   "metadata": {},
   "outputs": [],
   "source": [
    "data3=data3.dropna()\n",
    "data3['RitasID']=data3['RitasID'].astype('int')\n",
    "data3.rename(columns={'RitasID':'ParentID','intstoreid':'intStoreID'},inplace=True)"
   ]
  },
  {
   "cell_type": "code",
   "execution_count": null,
   "id": "4ed5b5e1",
   "metadata": {},
   "outputs": [],
   "source": [
    "data3[data3.CoolNetGroup.str.contains('Kasner')]"
   ]
  },
  {
   "cell_type": "code",
   "execution_count": null,
   "id": "3b786c1e",
   "metadata": {},
   "outputs": [],
   "source": [
    "data2.rename(columns={'intRitasStoreID':'ParentID','vchStoreState':'State'},inplace=True)"
   ]
  },
  {
   "cell_type": "code",
   "execution_count": null,
   "id": "9c0efd55",
   "metadata": {},
   "outputs": [],
   "source": [
    "data2[data2.ParentID=='9']"
   ]
  },
  {
   "cell_type": "code",
   "execution_count": null,
   "id": "bdeaa277",
   "metadata": {},
   "outputs": [],
   "source": [
    "query=pd.merge(data3, data2[['intStoreID','vchStoreName','dteSeasonalOpenDate','dteSeasonalCloseDate']],on='intStoreID',how='left')\n",
    "query\n",
    "query_1=query[['ParentID','vchStoreName','State','FC','LegacyStoreType','StoreStatus','dteSeasonalOpenDate','dteSeasonalCloseDate','CoolNetGroup']]\n",
    "query_1=query_1.drop_duplicates(subset='ParentID',keep='last')\n",
    "query_1.ParentID=query_1.ParentID.astype('int')\n",
    "query_1=query_1[query_1.ParentID>0]"
   ]
  },
  {
   "cell_type": "code",
   "execution_count": null,
   "id": "17cbc878",
   "metadata": {},
   "outputs": [],
   "source": [
    "query_1[query_1.ParentID==243]"
   ]
  },
  {
   "cell_type": "code",
   "execution_count": null,
   "id": "50ac0f8a",
   "metadata": {},
   "outputs": [],
   "source": [
    "invoice.info()"
   ]
  },
  {
   "cell_type": "code",
   "execution_count": null,
   "id": "2e881df3",
   "metadata": {},
   "outputs": [],
   "source": [
    "#os.chdir(r'L:\\J.Harned\\Royalty')\n",
    "#invoice=pd.read_excel('2022 Invoice History - ms reports.xlsx', sheet_name='Detail')# This gets us what the shops have ordered"
   ]
  },
  {
   "cell_type": "code",
   "execution_count": null,
   "id": "a80a6d44",
   "metadata": {},
   "outputs": [],
   "source": [
    "#Last date of invoices in file\n",
    "# srs=srs[srs.EndDate.max()]\n",
    "#Filters only dates from 9/18/22 and before\n",
    "invoice=invoice[invoice.InvoiceDate<=srs.EndDate.max()]"
   ]
  },
  {
   "cell_type": "code",
   "execution_count": null,
   "id": "227efd89",
   "metadata": {},
   "outputs": [],
   "source": [
    "srs.EndDate.max()"
   ]
  },
  {
   "cell_type": "code",
   "execution_count": null,
   "id": "83cde7cd",
   "metadata": {},
   "outputs": [],
   "source": [
    "invoice.InvoiceDate.max()"
   ]
  },
  {
   "cell_type": "code",
   "execution_count": null,
   "id": "f9726e4d",
   "metadata": {},
   "outputs": [],
   "source": [
    "srs.EndDate=srs.EndDate.dt.strftime('%Y-%m-%d')"
   ]
  },
  {
   "cell_type": "code",
   "execution_count": null,
   "id": "17be7ca7",
   "metadata": {},
   "outputs": [],
   "source": [
    "srs.info()"
   ]
  },
  {
   "cell_type": "code",
   "execution_count": null,
   "id": "04467ea9",
   "metadata": {},
   "outputs": [],
   "source": [
    "invoice.ProductLineDesc.unique()"
   ]
  },
  {
   "cell_type": "code",
   "execution_count": null,
   "id": "52213722",
   "metadata": {},
   "outputs": [],
   "source": [
    "srs.loc[srs.ProductSizeName.str.contains('water',case=False),'ProductSizeName'].unique()"
   ]
  },
  {
   "cell_type": "code",
   "execution_count": null,
   "id": "9bfedd0f",
   "metadata": {},
   "outputs": [],
   "source": [
    "#Renames columns\n",
    "invoice.rename(columns={'CustomerNo':'ShopID'},inplace=True)"
   ]
  },
  {
   "cell_type": "code",
   "execution_count": null,
   "id": "b21b2575",
   "metadata": {},
   "outputs": [],
   "source": [
    "#Gets month variable and creates a column for the numeric value of the month\n",
    "invoice['Month']=invoice.ShipDate.dt.month\n",
    "#Gets month variable and creates a column for the numeric value of the month\n",
    "srs['Month']=srs.StartDate.dt.month"
   ]
  },
  {
   "cell_type": "code",
   "execution_count": null,
   "id": "bc64e3ee",
   "metadata": {},
   "outputs": [],
   "source": [
    "#Converts ShopID to Parent ID in order to roll up all necessary sales\n",
    "srs['ParentID']=srs.ShopID.astype('str')\n",
    "srs['ParentID']=srs.ParentID.str[-4:]\n",
    "srs['ParentID']=srs.ParentID.astype('int')"
   ]
  },
  {
   "cell_type": "code",
   "execution_count": null,
   "id": "ead080fb",
   "metadata": {},
   "outputs": [],
   "source": [
    "srs=srs.merge(ops[['intStoreID','Director']],on='intStoreID',how='left')"
   ]
  },
  {
   "cell_type": "code",
   "execution_count": null,
   "id": "b6ca92ec",
   "metadata": {},
   "outputs": [],
   "source": [
    "srs.head()"
   ]
  },
  {
   "cell_type": "code",
   "execution_count": null,
   "id": "e39f7974",
   "metadata": {},
   "outputs": [],
   "source": [
    "invoice=invoice[invoice.ShopID!='TRAINMS']\n",
    "invoice.ShopID=pd.to_numeric(invoice.ShopID,errors='coerce')"
   ]
  },
  {
   "cell_type": "code",
   "execution_count": null,
   "id": "4c8e8d67",
   "metadata": {},
   "outputs": [],
   "source": [
    "cogs=invoice[(invoice.ProductLineDesc=='MIXES')|(invoice.ProductLineDesc=='CUSTARD')\n",
    "         |(invoice.ProductLineDesc=='MIXES - SUGARFREE')|(invoice.ProductLineDesc=='CUSTARD - KOSHER')|\n",
    "         ((invoice.ProductLineDesc=='BOTTLED WATER'))|(invoice.ProductLineDesc=='OTHER INGRED - AMBIENT')\n",
    "        |(invoice.ProductLineDesc=='OTHER INGRED - REFRIG')|(invoice.ProductLineDesc=='NATURAL - MIXES')\n",
    "        |(invoice.ProductLineDesc=='PRETZELS')|(invoice.ProductLineDesc=='MUSTARD - IN INVENTORY')\n",
    "        |(invoice.ProductLineDesc=='CUSTARD CONE/CUP SETS')|(invoice.ProductLineDesc=='SUGAR')|(invoice.ProductLineDesc=='PAPER PRODUCTS')|\n",
    "         (invoice.ProductLineDesc=='WAFFLE CONE')|(invoice.ProductLineDesc=='PRODUCT CREDITS')]\n",
    "cogs=cogs.groupby('ShopID')['Ext Base Cost'].sum().reset_index()\n",
    "#Converts ShopID to Parent ID in order to roll up all necessary sales\n",
    "cogs['ParentID']=cogs.ShopID.astype('str')\n",
    "cogs['ParentID']=cogs.ParentID.str[-4:]\n",
    "cogs['ParentID']=cogs.ParentID.astype('int')\n",
    "cogs=cogs.drop('ShopID',axis=1)"
   ]
  },
  {
   "cell_type": "code",
   "execution_count": null,
   "id": "27527156",
   "metadata": {},
   "outputs": [],
   "source": [
    "f_p=cogs\n",
    "f_p=f_p.rename(columns={'Ext Base Cost':'Food & Paper Cost'})\n",
    "f_p"
   ]
  },
  {
   "cell_type": "code",
   "execution_count": null,
   "id": "9e67ee83",
   "metadata": {},
   "outputs": [],
   "source": [
    "sw=invoice[invoice.ProductLineDesc=='SMALL WARES'].groupby('ShopID')['Ext Base Cost'].sum().reset_index()\n",
    "sw['ParentID']=sw.ShopID.astype('str')\n",
    "sw['ParentID']=sw.ParentID.str[-4:]\n",
    "sw['ParentID']=sw.ParentID.astype('int')\n",
    "sw=sw.drop('ShopID',axis=1)\n",
    "sw=sw.rename(columns={'Ext Base Cost':'Small Wares Cost'})"
   ]
  },
  {
   "cell_type": "code",
   "execution_count": null,
   "id": "57c776d7",
   "metadata": {},
   "outputs": [],
   "source": [
    "cj=invoice[invoice.ProductLineDesc=='CLEANING/JANITOR SUPPLIES'].groupby('ShopID')['Ext Base Cost'].sum().reset_index()\n",
    "cj['ParentID']=cj.ShopID.astype('str')\n",
    "cj['ParentID']=cj.ParentID.str[-4:]\n",
    "cj['ParentID']=cj.ParentID.astype('int')\n",
    "cj=cj.drop('ShopID',axis=1)\n",
    "cj=cj.rename(columns={'Ext Base Cost':'Cleaning & Janitorial Cost'})\n",
    "costs=f_p.merge(sw,on='ParentID',how='outer').merge(cj, on='ParentID',how='outer')\n",
    "costs=costs.iloc[:,[1,0,2,3]].fillna(0)\n",
    "costs=costs.merge(invoice[['ShopID','CustomerName']],left_on='ParentID',right_on='ShopID').drop_duplicates(keep='first')\n",
    "costs=costs.iloc[:,[0,-1,1,2,3]]\n",
    "costs"
   ]
  },
  {
   "cell_type": "code",
   "execution_count": null,
   "id": "d46c556a",
   "metadata": {},
   "outputs": [],
   "source": [
    "sales=srs.merge(query_1[['ParentID','FC']],on='ParentID',how='left')\n",
    "sales=sales.fillna('')\n",
    "shop_names=srs[['ParentID','ShopName','Director']].sort_values(by='ParentID').drop_duplicates(keep='first',subset='ParentID')\n",
    "sales=sales.drop(['ShopName','Director'],axis=1)\n",
    "sales=sales.merge(shop_names[['ParentID','ShopName']],on='ParentID',how='left')\n",
    "sales=sales.groupby(['ParentID','FC','ShopName'])['SalesMny'].sum().reset_index()\n",
    "sales=sales.merge(costs,on='ParentID',how='outer')\n",
    "sales.loc[sales.ParentID==6,'CustomerName']='PA RHAWN STREET'\n",
    "sales.loc[sales.ParentID==155,'CustomerName']='PA ROOSEVELT MALL'\n",
    "sales.loc[sales.ParentID==866,'CustomerName']='PA HERSHEY PARK'\n",
    "sales.loc[sales.ParentID==1568,'CustomerName']='PA LINCOLN FINANCIAL FIELD'\n",
    "sales.loc[sales.ShopName.isnull(),'ShopName']=sales.CustomerName\n",
    "sales=sales.drop('CustomerName',axis=1)\n",
    "sales=sales.iloc[:,[0,2,1,3,4,5,6]]\n",
    "sales=sales.merge(shop_names[['ParentID','Director']],on='ParentID',how='left')\n",
    "sales=sales.iloc[:,[0,1,-1,2,3,4,5,6]]\n",
    "sales[['SalesMny','Food & Paper Cost','Small Wares Cost','Cleaning & Janitorial Cost']]=\\\n",
    "sales[['SalesMny','Food & Paper Cost','Small Wares Cost','Cleaning & Janitorial Cost']].fillna(0)\n",
    "sales.iloc[:,2:4]=sales.iloc[:,2:4].fillna('')\n",
    "sales.iloc[:,4:]=sales.iloc[:,4:].fillna(0)\n",
    "sales['Food_Paper%']=sales.iloc[:,5]/sales.iloc[:,4]\n",
    "sales['Small_Wares%']=sales.iloc[:,6]/sales.iloc[:,4]\n",
    "sales['Cleaning%']=sales.iloc[:,7]/sales.iloc[:,4]\n",
    "sales=sales.iloc[:,[0,1,2,3,4,5,8,6,9,7,10]]\n",
    "sales=sales.replace([np.inf,'NaN',np.NaN],0)\n",
    "sales"
   ]
  },
  {
   "cell_type": "code",
   "execution_count": null,
   "id": "ba670145",
   "metadata": {},
   "outputs": [],
   "source": [
    "sales.SalesMny.sum()"
   ]
  },
  {
   "cell_type": "code",
   "execution_count": null,
   "id": "744ffc00",
   "metadata": {},
   "outputs": [],
   "source": [
    "#From Invoice only chooses Custard and Mix Products\n",
    "inv_royalty=invoice[(invoice.ProductLineDesc=='CUSTARD')|(invoice.ProductLineDesc=='MIXES')|(invoice.ProductLineDesc=='MIXES - SUGARFREE')|(\n",
    "    invoice.ProductLineDesc=='CUSTARD - KOSHER')|(invoice.ProductLineDesc=='BOTTLED WATER')|(invoice.ProductLineDesc=='REPORTED ROYALTY')|(invoice.ProductLineDesc=='SALES ROYALTY')]\n",
    "inv_royalty.shape"
   ]
  },
  {
   "cell_type": "code",
   "execution_count": null,
   "id": "f3518fc7",
   "metadata": {},
   "outputs": [],
   "source": [
    "inv_royalty[inv_royalty.ProductLineDesc=='BOTTLED WATER'].UDF_DISTRIBUTOR.unique()"
   ]
  },
  {
   "cell_type": "code",
   "execution_count": null,
   "id": "3c727f5c",
   "metadata": {},
   "outputs": [],
   "source": [
    "#Grabs only the Product Types that are part of royalty calc\n",
    "royalty=srs[(srs.ProductTypeName=='Italian Ice')|(srs.ProductTypeName=='Gelati')|(srs.ProductTypeName.str.contains('Blender'))|(srs.ProductTypeName=='Custard')|(srs.ProductTypeName=='Milkshakes')|(srs.ProductTypeName.str.contains('Frozen'))|(srs.ProductTypeName=='Hand Scooped Custard')|\n",
    "(srs.ProductTypeName=='Concrete')|(srs.ProductTypeName=='Blendini')|(srs.ProductSizeName.str.contains('water'))|(\n",
    "srs.ProductSizeName.str.contains('Custard Pints'))|(srs.ProductTypeName=='Smoothie')]"
   ]
  },
  {
   "cell_type": "code",
   "execution_count": null,
   "id": "42a31f26",
   "metadata": {},
   "outputs": [],
   "source": [
    "srs_group=royalty.groupby(['ParentID','State','Director'])['SalesMny'].sum().reset_index()"
   ]
  },
  {
   "cell_type": "code",
   "execution_count": null,
   "id": "464f79c2",
   "metadata": {},
   "outputs": [],
   "source": [
    "srs_group[srs_group.ParentID==9]"
   ]
  },
  {
   "cell_type": "code",
   "execution_count": null,
   "id": "be9e4925",
   "metadata": {},
   "outputs": [],
   "source": [
    "srs.ProductTypeName.unique()"
   ]
  },
  {
   "cell_type": "code",
   "execution_count": null,
   "id": "186b4a51",
   "metadata": {},
   "outputs": [],
   "source": [
    "inv_royalty.ItemCodeDesc=inv_royalty.ItemCodeDesc.str.split('(').str[0]"
   ]
  },
  {
   "cell_type": "code",
   "execution_count": null,
   "id": "c379aa92",
   "metadata": {},
   "outputs": [],
   "source": [
    "#Converts ShopID to Parent ID in order to roll up all necessary sales\n",
    "inv_royalty['ParentID']=inv_royalty.ShopID.astype('str')\n",
    "inv_royalty['ParentID']=inv_royalty.ParentID.str[-4:]\n",
    "inv_royalty['ParentID']=inv_royalty.ParentID.astype('int')"
   ]
  },
  {
   "cell_type": "code",
   "execution_count": null,
   "id": "2fe463b2",
   "metadata": {},
   "outputs": [],
   "source": [
    "inv_royalty.ParentID"
   ]
  },
  {
   "cell_type": "code",
   "execution_count": null,
   "id": "89546ac2",
   "metadata": {},
   "outputs": [],
   "source": [
    "flavors=inv_royalty.pivot_table(index='ParentID',columns='ItemCodeDesc',values='QuantityShipped',aggfunc='sum',fill_value=0).reset_index()"
   ]
  },
  {
   "cell_type": "code",
   "execution_count": null,
   "id": "f4f95f42",
   "metadata": {},
   "outputs": [],
   "source": [
    "flavors[flavors.ParentID==463]"
   ]
  },
  {
   "cell_type": "code",
   "execution_count": null,
   "id": "d662479b",
   "metadata": {},
   "outputs": [],
   "source": [
    "royalty=inv_royalty.groupby('ParentID')['Ext Royalty'].sum().reset_index()"
   ]
  },
  {
   "cell_type": "code",
   "execution_count": null,
   "id": "c2f1fdd8",
   "metadata": {},
   "outputs": [],
   "source": [
    "merged=pd.merge(srs_group,flavors,on='ParentID',how='outer')"
   ]
  },
  {
   "cell_type": "code",
   "execution_count": null,
   "id": "46688b27",
   "metadata": {},
   "outputs": [],
   "source": [
    "# sra.rename(columns={'Ritas ID':'ParentID'},inplace=True)"
   ]
  },
  {
   "cell_type": "code",
   "execution_count": null,
   "id": "e981d1d8",
   "metadata": {},
   "outputs": [],
   "source": [
    "merged"
   ]
  },
  {
   "cell_type": "code",
   "execution_count": null,
   "id": "22aa9a7d",
   "metadata": {},
   "outputs": [],
   "source": [
    "totals=pd.merge(query_1,merged,on='ParentID',how='right')"
   ]
  },
  {
   "cell_type": "code",
   "execution_count": null,
   "id": "d6ce8da4",
   "metadata": {},
   "outputs": [],
   "source": [
    "# totals=pd.merge(merged,sra[['ParentID','Shop Name','FC','CoolNet Group','State','Special Venue']],on='ParentID')"
   ]
  },
  {
   "cell_type": "code",
   "execution_count": null,
   "id": "74b53223",
   "metadata": {},
   "outputs": [],
   "source": [
    "totals"
   ]
  },
  {
   "cell_type": "code",
   "execution_count": null,
   "id": "929f36a8",
   "metadata": {},
   "outputs": [],
   "source": [
    "totals=pd.merge(totals,royalty,on='ParentID',how='outer').drop_duplicates(keep='first')"
   ]
  },
  {
   "cell_type": "code",
   "execution_count": null,
   "id": "2b9c812f",
   "metadata": {},
   "outputs": [],
   "source": [
    "totals"
   ]
  },
  {
   "cell_type": "code",
   "execution_count": null,
   "id": "80db8125",
   "metadata": {},
   "outputs": [],
   "source": [
    "totals.drop(columns='State_y',axis=1,inplace=True)\n",
    "totals.rename(columns={'State_x':'State'},inplace=True)"
   ]
  },
  {
   "cell_type": "code",
   "execution_count": null,
   "id": "06e199a7",
   "metadata": {},
   "outputs": [],
   "source": [
    "totals['ARS']=round(totals['Ext Royalty']/.065,2)\n",
    "totals['ARS_SRS Var']=round((totals.SalesMny-totals.ARS)/totals.ARS,4)"
   ]
  },
  {
   "cell_type": "code",
   "execution_count": null,
   "id": "5f2e602b",
   "metadata": {},
   "outputs": [],
   "source": [
    "# totals=totals.iloc[:,[0,53,57,55,56,54,1,58,59,60,35,4,5,6,7,8,9,11,12,13,14,15,16,17,18,19,20,21,22,23,24,27,28,29,30,31,32,\n",
    "#             33,34,36,37,38,39,40,41,42,43,44,45,46,47,48,50,51,52,2,3,10,49,25,26,]].fillna(0)#.to_excel('Mixes & Custard by Shop.xlsx',index=False)"
   ]
  },
  {
   "cell_type": "code",
   "execution_count": null,
   "id": "363dd594",
   "metadata": {},
   "outputs": [],
   "source": [
    "totals.drop(columns=['2.5 GAL CHOCO CUST CREDIT','2.5 GAL VANILLA CUST CREDIT'],axis=1,inplace=True)#'2.5 GAL VANILLA CUST CREDIT'"
   ]
  },
  {
   "cell_type": "code",
   "execution_count": null,
   "id": "7d5fbe0e",
   "metadata": {},
   "outputs": [],
   "source": [
    "totals.info()"
   ]
  },
  {
   "cell_type": "code",
   "execution_count": null,
   "id": "2c042875",
   "metadata": {},
   "outputs": [],
   "source": [
    "totals=totals.iloc[:,np.r_[0,1,2,3,4,5,6,7,8,9,-3,-2,-1,10:len(totals.columns)-3]].fillna(0)"
   ]
  },
  {
   "cell_type": "code",
   "execution_count": null,
   "id": "88105b09",
   "metadata": {},
   "outputs": [],
   "source": [
    "custard=totals.columns[totals.columns.str.contains('CUSTARD')]\n",
    "totals['Total_Custard']=totals.loc[:,custard].sum(axis=1)\n"
   ]
  },
  {
   "cell_type": "code",
   "execution_count": null,
   "id": "90652804",
   "metadata": {},
   "outputs": [],
   "source": [
    "mixes=totals.columns[(totals.columns.str.contains('MIX'))|\n",
    "               (totals.columns.str.contains('APPLE'))|\n",
    "               (totals.columns.str.contains('LEMON'))|\n",
    "              (totals.columns.str.contains('SOUR PATCH'))|\n",
    "              (totals.columns.str.contains('RASP'))|\n",
    "                (totals.columns.str.contains('S/F'))|(totals.columns.str.contains('SPLASH'))]\n",
    "totals['Total_Mixes']=totals.loc[:,mixes].sum(axis=1)\n",
    "totals"
   ]
  },
  {
   "cell_type": "code",
   "execution_count": null,
   "id": "0331ff87",
   "metadata": {},
   "outputs": [],
   "source": [
    "totals['Total_Cases']=totals['Total_Mixes']+totals['Total_Custard']\n",
    "totals"
   ]
  },
  {
   "cell_type": "code",
   "execution_count": null,
   "id": "d2aadda0",
   "metadata": {},
   "outputs": [],
   "source": [
    "totals.info()"
   ]
  },
  {
   "cell_type": "code",
   "execution_count": null,
   "id": "4336a410",
   "metadata": {},
   "outputs": [],
   "source": [
    "totals=totals.iloc[:,np.r_[0,1,2,3,4,5,6,7,8,9,10,11,-3,-2,-1,12:len(totals.columns)-3]]"
   ]
  },
  {
   "cell_type": "code",
   "execution_count": null,
   "id": "cd157e65",
   "metadata": {},
   "outputs": [],
   "source": [
    "totals.info()"
   ]
  },
  {
   "cell_type": "code",
   "execution_count": null,
   "id": "102f0b31",
   "metadata": {},
   "outputs": [],
   "source": [
    "totals.replace([np.inf,-np.inf],np.nan, inplace=True)\n",
    "totals.dropna(subset=['ARS_SRS Var'],how='all',inplace=True)"
   ]
  },
  {
   "cell_type": "code",
   "execution_count": null,
   "id": "35760377",
   "metadata": {},
   "outputs": [],
   "source": [
    "totals"
   ]
  },
  {
   "cell_type": "code",
   "execution_count": null,
   "id": "11ea214c",
   "metadata": {},
   "outputs": [],
   "source": [
    "# pd.set_option('display.max_columns', None)\n",
    "totals[totals.ParentID==3]"
   ]
  },
  {
   "cell_type": "code",
   "execution_count": null,
   "id": "29db3b03",
   "metadata": {},
   "outputs": [],
   "source": [
    "totals=totals.merge(cogs,on='ParentID')\n",
    "totals=totals.rename(columns={'Ext Base Cost':'COGS'})\n",
    "totals['Food_Cost%']=totals['COGS']/totals['SalesMny']"
   ]
  },
  {
   "cell_type": "code",
   "execution_count": null,
   "id": "4d15edc3",
   "metadata": {},
   "outputs": [],
   "source": [
    "exclude=[6,155]\n",
    "totals_filtered=totals[~(totals['LegacyStoreType']=='Special Venue')&(~totals['CoolNetGroup'].str.contains('Zelikovitz',na=False))&(~totals.ParentID.isin(exclude))&(\n",
    "(totals['ARS']>0))]#.to_excel('test.xlsx',index=False)"
   ]
  },
  {
   "cell_type": "code",
   "execution_count": null,
   "id": "38dfd4c7",
   "metadata": {},
   "outputs": [],
   "source": [
    "std=round(totals_filtered['ARS_SRS Var'].std(),2)\n",
    "mean=round(totals_filtered['ARS_SRS Var'].mean(),2)\n",
    "median=totals_filtered['ARS_SRS Var'].median()\n",
    "std_one=round(mean+std,2)\n",
    "std_minus_one=round(mean-std,2)\n",
    "std_upper=round(mean+(std*2),2)\n",
    "std_lower=round(mean-(std*2),2)\n"
   ]
  },
  {
   "cell_type": "code",
   "execution_count": null,
   "id": "33bd4f76",
   "metadata": {},
   "outputs": [],
   "source": [
    "totals_filtered['ARS_SRS Var'].mean()"
   ]
  },
  {
   "cell_type": "code",
   "execution_count": null,
   "id": "75c409a4",
   "metadata": {},
   "outputs": [],
   "source": [
    "std"
   ]
  },
  {
   "cell_type": "code",
   "execution_count": null,
   "id": "d00667cc",
   "metadata": {},
   "outputs": [],
   "source": [
    "mean_sales=totals_filtered.SalesMny.mean()\n",
    "mean_ARS=totals_filtered.ARS.mean()\n",
    "mean_royalty=totals_filtered['Ext Royalty'].mean()\n",
    "mean_var=totals_filtered['ARS_SRS Var'].mean()"
   ]
  },
  {
   "cell_type": "code",
   "execution_count": null,
   "id": "9a90233d",
   "metadata": {},
   "outputs": [],
   "source": [
    "totals_filtered['Abs_Value']=totals_filtered['ARS_SRS Var'].abs()"
   ]
  },
  {
   "cell_type": "code",
   "execution_count": null,
   "id": "54207231",
   "metadata": {},
   "outputs": [],
   "source": [
    "summary=pd.DataFrame({'Category':['Sales','ARS','Royalty','Variance'],\n",
    "            'Averages':[mean_sales,mean_ARS,mean_royalty,mean_var]})"
   ]
  },
  {
   "cell_type": "code",
   "execution_count": null,
   "id": "b5ec70b1",
   "metadata": {},
   "outputs": [],
   "source": [
    "top_ten=totals_filtered.loc[:,['ParentID','vchStoreName','LegacyStoreType','StoreStatus','State','Director','FC','CoolNetGroup','dteSeasonalOpenDate','dteSeasonalCloseDate','SalesMny','COGS','Food_Cost%','Ext Royalty','ARS','ARS_SRS Var',\n",
    "           'Abs_Value','Total_Mixes','Total_Custard','Total_Cases',\"RITA'S BTLD WATER 24 CT \",'BLUEBERRY/BLUE RASP ','CHERRY MIX ',\n",
    "            'COTTON CANDY MIX ','LEMON BASE ','MANGO MIX ','ROOT BEER MIX ','STRAWBERRY MIX ','SWEDISH FISH MIX ','VANILLA MIX ',\n",
    "             'WILD BLACK CHERRY MIX ','CHOCO CUSTARD ','VANILLA CUSTARD ']]"
   ]
  },
  {
   "cell_type": "code",
   "execution_count": null,
   "id": "7a9e3060",
   "metadata": {},
   "outputs": [],
   "source": [
    "one=top_ten[(top_ten['ARS_SRS Var']<std_one)&(top_ten['ARS_SRS Var']>std_minus_one)]\n",
    "two=top_ten[(top_ten['ARS_SRS Var'].between(std_one,std_upper))|(top_ten['ARS_SRS Var'].between(std_lower,std_minus_one))]\n",
    "three=top_ten[(top_ten['ARS_SRS Var']>std_upper)|(top_ten['ARS_SRS Var']<std_lower)]"
   ]
  },
  {
   "cell_type": "code",
   "execution_count": null,
   "id": "0ebeb259",
   "metadata": {},
   "outputs": [],
   "source": [
    "one['Risk_Level']='Low'\n",
    "two['Risk_Level']='Medium'\n",
    "three['Risk_Level']='High'"
   ]
  },
  {
   "cell_type": "code",
   "execution_count": null,
   "id": "d0db19e9",
   "metadata": {},
   "outputs": [],
   "source": [
    "low=pd.merge(top_ten,one[['ParentID','Risk_Level']],on='ParentID')\n",
    "med=pd.merge(top_ten,two[['ParentID','Risk_Level']],on='ParentID')\n",
    "high=pd.merge(top_ten,three[['ParentID','Risk_Level']],on='ParentID')\n",
    "\n",
    "risk_levels=pd.concat([low,med,high])\n",
    "risk_levels.info()"
   ]
  },
  {
   "cell_type": "code",
   "execution_count": null,
   "id": "95edf6f5",
   "metadata": {},
   "outputs": [],
   "source": [
    "risk_levels.sort_values(by='ParentID')"
   ]
  },
  {
   "cell_type": "code",
   "execution_count": null,
   "id": "efb8b081",
   "metadata": {},
   "outputs": [],
   "source": [
    "risk_levels=risk_levels.iloc[:,[0,1,2,3,4,5,6,7,8,9,10,11,12,13,14,15,16,17,18,19,20,21,22,23,24,25,26,27,28,29,30,31,32,33]]"
   ]
  },
  {
   "cell_type": "code",
   "execution_count": null,
   "id": "5a3f822a",
   "metadata": {},
   "outputs": [],
   "source": [
    "high_risk=risk_levels[risk_levels.Risk_Level=='High'].groupby('FC')['ParentID'].count().reset_index()\n",
    "high_risk=high_risk.rename(columns={'ParentID':'High_Risk_Shops'})\n",
    "fc_list=risk_levels.filter(regex='ParentID|vchStoreName|FC|MANGO|CHERRY|VANILLA|LEMON|CUSTARD')\n",
    "fc_list=fc_list.drop('WILD BLACK CHERRY MIX ',axis=1)\n",
    "cherry=fc_list[fc_list['CHERRY MIX ']==0].iloc[:,0:4]\n",
    "cherry=cherry.groupby('FC')['CHERRY MIX '].count().reset_index()\n",
    "mango=fc_list[fc_list['MANGO MIX ']==0][['ParentID','vchStoreName','FC','MANGO MIX ']]\n",
    "mango=mango.groupby('FC')['MANGO MIX '].count().reset_index()\n",
    "nilla=fc_list[fc_list['VANILLA MIX ']==0][['ParentID','vchStoreName','FC','VANILLA MIX ']]\n",
    "nilla=nilla.groupby('FC')['VANILLA MIX '].count().reset_index()\n",
    "lemon=fc_list[fc_list['LEMON BASE ']==0][['ParentID','vchStoreName','FC','LEMON BASE ']]\n",
    "lemon=lemon.groupby('FC')['LEMON BASE '].count().reset_index()\n",
    "nilla_c=fc_list[fc_list['VANILLA CUSTARD ']==0][['ParentID','vchStoreName','FC','VANILLA CUSTARD ']]\n",
    "nilla_c=nilla_c.groupby('FC')['VANILLA CUSTARD '].count().reset_index()\n",
    "choco_c=fc_list[fc_list['CHOCO CUSTARD ']==0][['ParentID','vchStoreName','FC','CHOCO CUSTARD ']]\n",
    "choco_c=choco_c.groupby('FC')['CHOCO CUSTARD '].count().reset_index()\n",
    "fc_flag=high_risk.merge(mango,how='outer').merge(cherry,how='outer').merge(\n",
    "    nilla,how='outer').merge(lemon,how='outer').merge(nilla_c,how='outer').merge(choco_c,how='outer').fillna(0)\n",
    "fc_flag"
   ]
  },
  {
   "cell_type": "code",
   "execution_count": null,
   "id": "d6aa1499",
   "metadata": {},
   "outputs": [],
   "source": [
    "risk_levels[risk_levels.Risk_Level=='High'].groupby('FC')['ParentID'].count().reset_index()"
   ]
  },
  {
   "cell_type": "code",
   "execution_count": null,
   "id": "02ddc9bf",
   "metadata": {},
   "outputs": [],
   "source": [
    "risk_levels.columns"
   ]
  },
  {
   "cell_type": "code",
   "execution_count": null,
   "id": "3b1ce57c",
   "metadata": {},
   "outputs": [],
   "source": [
    "paul=risk_levels[risk_levels.Director.str.contains('Paul',na=False)].pivot_table(index=['ParentID','vchStoreName','FC'],columns='Director',values='Abs_Value').apply(\n",
    "lambda x:x.nlargest(10))"
   ]
  },
  {
   "cell_type": "code",
   "execution_count": null,
   "id": "cb52c7b0",
   "metadata": {},
   "outputs": [],
   "source": [
    "john=risk_levels[risk_levels.Director.str.contains('John',na=False)].pivot_table(index=['ParentID','vchStoreName','FC'],columns='Director',values='Abs_Value').apply(\n",
    "lambda x:x.nlargest(10))\n",
    "dave=risk_levels[risk_levels.Director.str.contains('Dave',na=False)].pivot_table(index=['ParentID','vchStoreName','FC'],columns='Director',values='Abs_Value').apply(\n",
    "lambda x:x.nlargest(10))"
   ]
  },
  {
   "cell_type": "code",
   "execution_count": null,
   "id": "b644281d",
   "metadata": {},
   "outputs": [],
   "source": [
    "# john.index.name='Index'\n",
    "# paul.index.name='Index'\n",
    "# dave.index.name='Index'\n",
    "# director=pd.merge(paul,john,on='Index').merge(dave,on='Index')\n",
    "high_risk=risk_levels[['ParentID','vchStoreName','FC','ARS_SRS Var','Abs_Value']].nlargest(10,'Abs_Value').drop('Abs_Value',axis=1)\n",
    "john=risk_levels[risk_levels.Director.str.contains('John',na=False)][['ParentID','vchStoreName','FC','ARS_SRS Var','Abs_Value']].nlargest(10,'Abs_Value').drop('Abs_Value',axis=1)\n",
    "dave=risk_levels[risk_levels.Director.str.contains('Dave',na=False)][['ParentID','vchStoreName','FC','ARS_SRS Var','Abs_Value']].nlargest(10,'Abs_Value').drop('Abs_Value',axis=1)  \n",
    "paul=risk_levels[risk_levels.Director.str.contains('Paul',na=False)][['ParentID','vchStoreName','FC','ARS_SRS Var','Abs_Value']].nlargest(10,'Abs_Value').drop('Abs_Value',axis=1)  \n",
    "writer6=pd.ExcelWriter('High Risk.xlsx')\n",
    "john.to_excel(writer6,sheet_name='John D',index=False)\n",
    "paul.to_excel(writer6,sheet_name='Paul G',index=False)\n",
    "dave.to_excel(writer6, sheet_name='Dave R',index=False)\n",
    "high_risk.to_excel(writer6,sheet_name='High Risk',index=False)\n",
    "writer6.close()"
   ]
  },
  {
   "cell_type": "code",
   "execution_count": null,
   "id": "dc232939",
   "metadata": {},
   "outputs": [],
   "source": [
    "# risk_levels[risk_levels.Director!=0].groupby(['Director'])[['ARS_SRS Var','Abs_Value']].apply(\n",
    "#     lambda x:x.nlargest(10,'Abs_Value')).reset_index().drop('level_1',axis=1).merge(risk_levels[['ParentID',\n",
    "#                                                                                                'vchStoreName',\n",
    "#                                                                                                'FC','Director',\n",
    "#                                                                                                'ARS_SRS Var']],\n",
    "#                                                                                    on=['Director','ARS_SRS Var']).pivot_table(\n",
    "# index=['ParentID','vchStoreName','FC'],columns='Director',values=['ARS_SRS Var'])"
   ]
  },
  {
   "cell_type": "code",
   "execution_count": null,
   "id": "f55b6149",
   "metadata": {},
   "outputs": [],
   "source": [
    "john"
   ]
  },
  {
   "cell_type": "code",
   "execution_count": null,
   "id": "3f4262eb",
   "metadata": {},
   "outputs": [],
   "source": [
    "#writer=pd.ExcelWriter('Mixes & Custard by Shop 5.21.2023.xlsx')\n",
    "#one.to_excel(writer,sheet_name='Ones',index=False)\n",
    "#two.to_excel(writer, sheet_name='Twos',index=False)\n",
    "#three.to_excel(writer, sheet_name='Threes',index=False)\n",
    "#writer.save()\n",
    "#writer.close()"
   ]
  },
  {
   "cell_type": "code",
   "execution_count": null,
   "id": "34f20141",
   "metadata": {},
   "outputs": [],
   "source": [
    "totals_filtered['ARS_SRS Var'].hist(bins=20)"
   ]
  },
  {
   "cell_type": "markdown",
   "id": "9de9e5f5",
   "metadata": {},
   "source": [
    "# Weekly Order"
   ]
  },
  {
   "cell_type": "code",
   "execution_count": null,
   "id": "14ca6d09",
   "metadata": {},
   "outputs": [],
   "source": [
    "weekly=inv_royalty[~inv_royalty.ProductLineDesc.str.contains('WATER')].set_index('InvoiceDate')"
   ]
  },
  {
   "cell_type": "code",
   "execution_count": null,
   "id": "5c8c81f3",
   "metadata": {},
   "outputs": [],
   "source": [
    "inv_royalty.info()"
   ]
  },
  {
   "cell_type": "code",
   "execution_count": null,
   "id": "5886db11",
   "metadata": {},
   "outputs": [],
   "source": [
    "weekly.resample('W').agg({'QuantityShipped':'sum'})"
   ]
  },
  {
   "cell_type": "code",
   "execution_count": null,
   "id": "9742da0a",
   "metadata": {},
   "outputs": [],
   "source": [
    "srs.set_index('StartDate').resample('W').agg({'SalesMny':'sum','ParentID':'nunique'})"
   ]
  },
  {
   "cell_type": "code",
   "execution_count": null,
   "id": "c69cd9bd",
   "metadata": {},
   "outputs": [],
   "source": [
    "weekly[weekly.ProductLineDesc=='CUSTARD - KOSHER'].QuantityShipped.sum()"
   ]
  },
  {
   "cell_type": "code",
   "execution_count": null,
   "id": "95ef4630",
   "metadata": {},
   "outputs": [],
   "source": [
    "weekly.reset_index()"
   ]
  },
  {
   "cell_type": "code",
   "execution_count": null,
   "id": "46b47199",
   "metadata": {},
   "outputs": [],
   "source": [
    "# resampled=weekly.groupby(['ParentID','UDF_DISTRIBUTOR','ProductLineDesc','InvoiceDate']).resample('W').sum()"
   ]
  },
  {
   "cell_type": "code",
   "execution_count": null,
   "id": "54ade875",
   "metadata": {},
   "outputs": [],
   "source": [
    "resampled=weekly.reset_index().groupby([pd.Grouper(key='InvoiceDate',freq='w'),'ParentID','UDF_DISTRIBUTOR','ProductLineDesc'])['QuantityShipped'].sum().reset_index()"
   ]
  },
  {
   "cell_type": "code",
   "execution_count": null,
   "id": "8b39107e",
   "metadata": {},
   "outputs": [],
   "source": [
    "# resampled.drop(columns='ParentID',axis=1,inplace=True)"
   ]
  },
  {
   "cell_type": "code",
   "execution_count": null,
   "id": "c3614801",
   "metadata": {},
   "outputs": [],
   "source": [
    "resampled.reset_index(inplace=True)"
   ]
  },
  {
   "cell_type": "code",
   "execution_count": null,
   "id": "e3730bc5",
   "metadata": {},
   "outputs": [],
   "source": [
    "resampled.UDF_DISTRIBUTOR.unique()"
   ]
  },
  {
   "cell_type": "code",
   "execution_count": null,
   "id": "1aa0437d",
   "metadata": {},
   "outputs": [],
   "source": [
    "resampled"
   ]
  },
  {
   "cell_type": "code",
   "execution_count": null,
   "id": "e75babc8",
   "metadata": {},
   "outputs": [],
   "source": [
    "custard=resampled[resampled.ProductLineDesc.str.contains('CUSTARD')].pivot_table(index='ParentID',columns='InvoiceDate',values='QuantityShipped',aggfunc='sum',fill_value=0)\n",
    "custard=custard.iloc[:,-4:]\n",
    "custard['Totals']=custard.sum(axis=1)\n",
    "custard=pd.merge(custard,query_1[['ParentID','vchStoreName','CoolNetGroup','FC','State']],on='ParentID')\n",
    "custard=custard.iloc[:,np.r_[0,-4,-3,-2,-1,1:len(custard.columns)-4]]\n",
    "mixes=resampled[resampled.ProductLineDesc.str.contains('MIXES')].pivot_table(index='ParentID',columns='InvoiceDate',values='QuantityShipped',aggfunc='sum',fill_value=0)\n",
    "mixes=mixes.iloc[:,-4:]\n",
    "mixes['Totals']=mixes.sum(axis=1)\n",
    "mixes=pd.merge(mixes,query_1[['ParentID','vchStoreName','CoolNetGroup','FC','State']],on='ParentID')\n",
    "mixes=mixes.iloc[:,np.r_[0,-4,-3,-2,-1,1:len(mixes.columns)-4]]\n",
    "mf=mixes[mixes.Totals==0].groupby('FC')['Totals'].count().reset_index()\n",
    "mf=mf.rename(columns={'Totals':'No_Mix_MTD'})\n",
    "cf=custard[custard.Totals==0].groupby('FC')['Totals'].count().reset_index()\n",
    "cf=cf.rename(columns={'Totals':'No_Custard_MTD'})\n",
    "fc_flag.merge(mf,how='outer').merge(cf,how='outer').fillna(0)\n",
    "writer1=pd.ExcelWriter('Monthly Custard & Mix Orders.xlsx',datetime_format='mm/dd/yyyy')\n",
    "text1='Ritas Franchise Operations,LLC'\n",
    "text2='Monthly Custard Orders'\n",
    "text3='Monthly Mix Orders'\n",
    "text4='4 Week Running Totals thru '+str(srs.EndDate.max())\n",
    "text5='Source Code: MAS_RFC AR_InvoiceHistoryHeader, AR_Customer, AR_InvoiceHistoryDetail, IM_ProductLine'\n",
    "wb=writer1.book\n",
    "shit_cell=wb.add_format({'bg_color':'red',\n",
    "                        'border':2})\n",
    "custard.sort_values(by='Totals').to_excel(writer1, startrow=5, startcol=0,sheet_name='Monthly Custard Orders',index=False)\n",
    "ws1=writer1.sheets['Monthly Custard Orders']\n",
    "header_format=wb.add_format({'bold':True,\n",
    "                           'italic':True})\n",
    "ws1.conditional_format('J1:J700',\n",
    "                      {'type':'formula',\n",
    "                      'criteria':'=AND(J1<=3,J1<>\"\")',\n",
    "                      'value':3,\n",
    "                      'format':shit_cell})\n",
    "\n",
    "ws1.set_column('B:D',40)\n",
    "ws1.set_column('F:I',10)\n",
    "ws1.write(0,1,text1,header_format)\n",
    "ws1.write(1,1,text2,header_format)\n",
    "ws1.write(2,1,text4,header_format)\n",
    "ws1.write(3,1,text5, header_format)\n",
    "mixes.sort_values(by='Totals').to_excel(writer1, startrow=5,startcol=0,sheet_name='Monthly Mix Orders',index=False)\n",
    "ws2=writer1.sheets['Monthly Mix Orders']\n",
    "ws2.write(0,1,text1,header_format)\n",
    "ws2.write(1,1,text3,header_format)\n",
    "ws2.write(2,1,text4,header_format)\n",
    "ws2.write(3,1,text5, header_format)\n",
    "ws2.conditional_format('J1:J700',\n",
    "                      {'type':'formula',\n",
    "                      'criteria':'=AND(J1<=3,J1<>\"\")',\n",
    "                      'value':3,\n",
    "                      'format':shit_cell})\n",
    "ws2.set_column('B:D',40)\n",
    "ws2.set_column('F:I',10)\n",
    "writer1.close()"
   ]
  },
  {
   "cell_type": "code",
   "execution_count": null,
   "id": "1378d7c6",
   "metadata": {},
   "outputs": [],
   "source": [
    "jmc=resampled[resampled.UDF_DISTRIBUTOR=='JMC']"
   ]
  },
  {
   "cell_type": "code",
   "execution_count": null,
   "id": "ac2e7299",
   "metadata": {},
   "outputs": [],
   "source": [
    "jmc_pivot=round(jmc.pivot_table(index=['ParentID'],columns=['InvoiceDate'],values='QuantityShipped',aggfunc='sum',fill_value=0),0)\n",
    "jmc_pivot=pd.merge(jmc_pivot,query_1[['ParentID','vchStoreName','CoolNetGroup','FC','State']],on='ParentID')"
   ]
  },
  {
   "cell_type": "code",
   "execution_count": null,
   "id": "ead70a98",
   "metadata": {},
   "outputs": [],
   "source": [
    "jmc_pivot=jmc_pivot.iloc[:,np.r_[0,-4,-3,-2,-1,1:len(jmc_pivot.columns)-4]]"
   ]
  },
  {
   "cell_type": "code",
   "execution_count": null,
   "id": "6753274a",
   "metadata": {},
   "outputs": [],
   "source": [
    "jmc_last=jmc_pivot.iloc[:,np.r_[0,-1,-2,-3,-4,1:len(jmc_pivot.columns)-4]]\n",
    "jmc_last=jmc_last.set_index(['ParentID','vchStoreName','CoolNetGroup','FC','State']).iloc[:,-4:]\n",
    "jmc_last['Total']=jmc_last.sum(axis=1)\n",
    "jm=jmc_last[jmc_last.Total==0].groupby(['FC'])['Total'].count().reset_index()\n",
    "jm=jm.rename(columns={'Total':'No_JMC_MTD'})\n",
    "fc_flag=fc_flag.merge(mf,how='outer').merge(cf,how='outer').merge(jm,how='outer').fillna(0)\n",
    "fc_flag=fc_flag.set_index('FC')\n",
    "fc_flag.loc['Total']=fc_flag.sum(axis=0)\n",
    "fc_flag\n",
    "jmc_last.to_excel('JMC Mix and Custard.xlsx',sheet_name='JMC Mix and Cust')"
   ]
  },
  {
   "cell_type": "code",
   "execution_count": null,
   "id": "3254b471",
   "metadata": {},
   "outputs": [],
   "source": [
    "fc_flag.drop(0,axis=0,inplace=True)"
   ]
  },
  {
   "cell_type": "code",
   "execution_count": null,
   "id": "20baf1b5",
   "metadata": {},
   "outputs": [],
   "source": [
    "# jmc_pivot=pd.merge(jmc_pivot,totals[['ParentID','FC','State']],on='ParentID',how='left')\n",
    "# jmc_pivot"
   ]
  },
  {
   "cell_type": "code",
   "execution_count": null,
   "id": "d2347323",
   "metadata": {},
   "outputs": [],
   "source": [
    "bal_mixes=resampled[(resampled.UDF_DISTRIBUTOR.str.contains('BAL'))&(resampled.ProductLineDesc.str.contains('MIXES'))]\n"
   ]
  },
  {
   "cell_type": "code",
   "execution_count": null,
   "id": "832a70b8",
   "metadata": {},
   "outputs": [],
   "source": [
    "bal_mixes[bal_mixes.ParentID==3]"
   ]
  },
  {
   "cell_type": "code",
   "execution_count": null,
   "id": "c24cca4f",
   "metadata": {},
   "outputs": [],
   "source": [
    "bal_mixes_pivot=bal_mixes.pivot_table(index=['ParentID'],columns=['InvoiceDate'],values='QuantityShipped',aggfunc='sum',fill_value=0)\n",
    "bal_mixes_pivot=pd.merge(bal_mixes_pivot,query_1[['ParentID','vchStoreName','CoolNetGroup','FC','State']],on='ParentID')"
   ]
  },
  {
   "cell_type": "code",
   "execution_count": null,
   "id": "f5cced1c",
   "metadata": {},
   "outputs": [],
   "source": [
    "bal_mixes_pivot=bal_mixes_pivot.iloc[:,np.r_[0,-4,-3,-2,-1,1:len(bal_mixes_pivot.columns)-4]]"
   ]
  },
  {
   "cell_type": "code",
   "execution_count": null,
   "id": "6879fe46",
   "metadata": {},
   "outputs": [],
   "source": [
    "bal_cust=resampled[(resampled.UDF_DISTRIBUTOR.str.contains('BAL'))&(resampled.ProductLineDesc.str.contains('CUSTARD'))]"
   ]
  },
  {
   "cell_type": "code",
   "execution_count": null,
   "id": "f1d9c559",
   "metadata": {},
   "outputs": [],
   "source": [
    "bal_cust_pivot=bal_cust.pivot_table(index=['ParentID'],columns=['InvoiceDate'],values='QuantityShipped',aggfunc='sum',fill_value=0)\n",
    "bal_cust_pivot=pd.merge(bal_cust_pivot,query_1[['ParentID','vchStoreName','CoolNetGroup','FC','State']],on='ParentID')"
   ]
  },
  {
   "cell_type": "code",
   "execution_count": null,
   "id": "c1df02cf",
   "metadata": {},
   "outputs": [],
   "source": [
    "bal_cust_pivot=bal_cust_pivot.iloc[:,np.r_[0,-4,-3,-2,-1,1:len(bal_cust_pivot.columns)-4]]"
   ]
  },
  {
   "cell_type": "code",
   "execution_count": null,
   "id": "5aa04b67",
   "metadata": {},
   "outputs": [],
   "source": [
    "#water=resampled[resampled.PRODUCTLINEDESC.str.contains('BOTTLED')]"
   ]
  },
  {
   "cell_type": "code",
   "execution_count": null,
   "id": "54088880",
   "metadata": {},
   "outputs": [],
   "source": [
    "#water_pivot=water.pivot_table(index=['ParentID'],columns=['INVOICEDATE'],values='QUANTITYSHIPPED',fill_value=0)\n",
    "#water_pivot=pd.merge(water_pivot,sra[['ParentID','Shop Name']],on='ParentID')"
   ]
  },
  {
   "cell_type": "code",
   "execution_count": null,
   "id": "52fcafd0",
   "metadata": {},
   "outputs": [],
   "source": [
    "resampled_pivot=resampled.pivot_table(index=['ParentID'],columns=['InvoiceDate'],values='QuantityShipped',fill_value=0)"
   ]
  },
  {
   "cell_type": "code",
   "execution_count": null,
   "id": "7e0d54d6",
   "metadata": {},
   "outputs": [],
   "source": [
    "resampled_pivot.reset_index(inplace=True)"
   ]
  },
  {
   "cell_type": "code",
   "execution_count": null,
   "id": "00decb1d",
   "metadata": {},
   "outputs": [],
   "source": [
    "resampled_pivot"
   ]
  },
  {
   "cell_type": "code",
   "execution_count": null,
   "id": "2a39dfa7",
   "metadata": {},
   "outputs": [],
   "source": [
    "invoice.info()"
   ]
  },
  {
   "cell_type": "code",
   "execution_count": null,
   "id": "d6066feb",
   "metadata": {},
   "outputs": [],
   "source": [
    "resampled_pivot=pd.merge(resampled_pivot,query_1[['ParentID','vchStoreName','CoolNetGroup','FC','State']],on='ParentID')"
   ]
  },
  {
   "cell_type": "code",
   "execution_count": null,
   "id": "9a216ac1",
   "metadata": {},
   "outputs": [],
   "source": [
    "new_invoice=invoice.rename(columns={'ShopID':'ParentID'})\n",
    "new_invoice['ParentID']=new_invoice.ParentID.astype('int')\n",
    "new_invoice=pd.merge(new_invoice,query_1[['ParentID','vchStoreName','CoolNetGroup','FC','State']],on='ParentID')\n",
    "weekly_invoice=new_invoice.set_index('InvoiceDate')"
   ]
  },
  {
   "cell_type": "code",
   "execution_count": null,
   "id": "cc7b1eb9",
   "metadata": {},
   "outputs": [],
   "source": [
    "# sugar=weekly_invoice[weekly_invoice.PRODUCTLINEDESC=='SUGAR'].groupby(['ParentID','Shop Name','FC','State']).resample('W').sum()\n",
    "# sugar=sugar.drop('ParentID',axis=1)\n",
    "# sugar_pivot=sugar.pivot_table(index=['ParentID','Shop Name','FC','State'],columns=['INVOICEDATE'],values='QUANTITYSHIPPED',aggfunc='sum',fill_value=0)"
   ]
  },
  {
   "cell_type": "code",
   "execution_count": null,
   "id": "c8ccebd7",
   "metadata": {},
   "outputs": [],
   "source": [
    "sugar=weekly_invoice[weekly_invoice.ProductLineDesc=='SUGAR'].groupby(['ParentID','vchStoreName','CoolNetGroup','FC','State','ItemCodeDesc','ItemCode'])['QuantityShipped'].sum().reset_index()\n",
    "sugar_pivot=sugar.pivot_table(index=['ParentID','vchStoreName','CoolNetGroup','FC','State'],columns=['ItemCode','ItemCodeDesc'],values='QuantityShipped',aggfunc='sum',fill_value=0,margins=True)"
   ]
  },
  {
   "cell_type": "code",
   "execution_count": null,
   "id": "4e32d7cd",
   "metadata": {},
   "outputs": [],
   "source": [
    "sugar_pivot=sugar_pivot.iloc[np.arange(-1,len(sugar_pivot)-1),0:,]"
   ]
  },
  {
   "cell_type": "code",
   "execution_count": null,
   "id": "048bc899",
   "metadata": {},
   "outputs": [],
   "source": [
    "weekly_invoice['vchStoreName'].fillna('No Name',inplace=True)"
   ]
  },
  {
   "cell_type": "code",
   "execution_count": null,
   "id": "f1d41c29",
   "metadata": {},
   "outputs": [],
   "source": [
    "all_shops=pd.DataFrame({'ParentID':pd.Series(weekly_invoice.ParentID.unique())})\n",
    "fc=weekly_invoice.groupby('ParentID')[['vchStoreName','CoolNetGroup','FC','State']].max().reset_index()\n"
   ]
  },
  {
   "cell_type": "code",
   "execution_count": null,
   "id": "b061883f",
   "metadata": {},
   "outputs": [],
   "source": [
    "fc"
   ]
  },
  {
   "cell_type": "code",
   "execution_count": null,
   "id": "8065c616",
   "metadata": {},
   "outputs": [],
   "source": [
    "shop_info=pd.merge(all_shops,fc[['ParentID','vchStoreName','CoolNetGroup','FC','State']],on=['ParentID'],how='right')\n",
    "shop_info"
   ]
  },
  {
   "cell_type": "code",
   "execution_count": null,
   "id": "9f07d6d6",
   "metadata": {},
   "outputs": [],
   "source": [
    "shop_info.fillna('Missing',inplace=True)"
   ]
  },
  {
   "cell_type": "code",
   "execution_count": null,
   "id": "851c3318",
   "metadata": {},
   "outputs": [],
   "source": [
    "shop_info"
   ]
  },
  {
   "cell_type": "code",
   "execution_count": null,
   "id": "e9856936",
   "metadata": {},
   "outputs": [],
   "source": [
    "sugar_pivot=sugar_pivot.reset_index()"
   ]
  },
  {
   "cell_type": "code",
   "execution_count": null,
   "id": "733dfa97",
   "metadata": {},
   "outputs": [],
   "source": [
    "sugar_pivot"
   ]
  },
  {
   "cell_type": "code",
   "execution_count": null,
   "id": "e0b561d4",
   "metadata": {},
   "outputs": [],
   "source": [
    "# new_sugar=pd.merge(shop_info,sugar_pivot,on=['ParentID','vchStoreName','CoolNetGroup','FC','State'],how='left')\n",
    "# new_sugar.iloc[:,5:]=new_sugar.iloc[:,5:].fillna(0)"
   ]
  },
  {
   "cell_type": "code",
   "execution_count": null,
   "id": "96cff6fc",
   "metadata": {},
   "outputs": [],
   "source": [
    "# new_sugar"
   ]
  },
  {
   "cell_type": "code",
   "execution_count": null,
   "id": "bab706bc",
   "metadata": {},
   "outputs": [],
   "source": [
    "# mixes=weekly_invoice[weekly_invoice.PRODUCTLINEDESC.str.contains('MIXES')].groupby(['ParentID','Shop Name','FC','State']).resample('W').sum()\n",
    "# mixes=mixes.drop('ParentID',axis=1)\n",
    "# mixes_pivot=mixes.pivot_table(index=['ParentID','Shop Name','FC','State'],columns=['INVOICEDATE'],values='QUANTITYSHIPPED',aggfunc='sum',fill_value=0)"
   ]
  },
  {
   "cell_type": "code",
   "execution_count": null,
   "id": "3cdf8941",
   "metadata": {},
   "outputs": [],
   "source": [
    "weekly_invoice.ItemCode"
   ]
  },
  {
   "cell_type": "code",
   "execution_count": null,
   "id": "d8441b8e",
   "metadata": {},
   "outputs": [],
   "source": [
    "mixes=weekly_invoice[weekly_invoice.ProductLineDesc.str.contains('MIXES')].groupby(['ParentID','vchStoreName','CoolNetGroup','FC','State','ItemCodeDesc','ItemCode'])['QuantityShipped'].sum().reset_index()\n",
    "mixes_pivot=mixes.pivot_table(index=['ParentID','vchStoreName','CoolNetGroup','FC','State'],columns=['ItemCode','ItemCodeDesc'],values='QuantityShipped',aggfunc='sum',fill_value=0,margins=True)"
   ]
  },
  {
   "cell_type": "code",
   "execution_count": null,
   "id": "2d5378b7",
   "metadata": {},
   "outputs": [],
   "source": [
    "mixes_pivot=mixes_pivot.reset_index()"
   ]
  },
  {
   "cell_type": "code",
   "execution_count": null,
   "id": "ce25dbf9",
   "metadata": {},
   "outputs": [],
   "source": [
    "mixes_pivot"
   ]
  },
  {
   "cell_type": "code",
   "execution_count": null,
   "id": "07d7f3a2",
   "metadata": {},
   "outputs": [],
   "source": [
    "mixes_pivot=mixes_pivot.iloc[np.arange(-1,len(mixes_pivot)-1),0:,]\n",
    "mixes_pivot"
   ]
  },
  {
   "cell_type": "code",
   "execution_count": null,
   "id": "d15c0644",
   "metadata": {},
   "outputs": [],
   "source": [
    "# mixes_new=pd.merge(shop_info,mixes_pivot,on=['ParentID','vchStoreName','CoolNetGroup','FC','State'],how='left')\n",
    "# mixes_new.iloc[:,5:]=mixes_new.iloc[:,5:].fillna(0)\n",
    "# # mixes_new['Shop Name']=mixes_new['Shop Name'].fillna('Missing Store Name')"
   ]
  },
  {
   "cell_type": "code",
   "execution_count": null,
   "id": "fe07df62",
   "metadata": {},
   "outputs": [],
   "source": [
    "# mixes_new=mixes_new.append(mixes_new.iloc[:,5:].sum(axis=0),ignore_index=True)"
   ]
  },
  {
   "cell_type": "code",
   "execution_count": null,
   "id": "44cde977",
   "metadata": {},
   "outputs": [],
   "source": [
    "# mixes_new.iloc[-1,[0,1,2,3,4]]=''\n",
    "# mixes_new.iloc[-1,[4]]='Total'\n",
    "# mixes_new=mixes_new.iloc[np.arange(-1,len(mixes_new)-1),0:,]"
   ]
  },
  {
   "cell_type": "code",
   "execution_count": null,
   "id": "2901710c",
   "metadata": {},
   "outputs": [],
   "source": [
    "# custard=weekly_invoice[weekly_invoice.PRODUCTLINEDESC.str.contains('CUSTARD')].groupby(['ParentID','Shop Name','FC','State']).resample('W').sum()\n",
    "# custard=custard.drop('ParentID',axis=1)\n",
    "# custard_pivot=custard.pivot_table(index=['ParentID','Shop Name','FC','State'],columns=['INVOICEDATE'],values='QUANTITYSHIPPED',aggfunc='sum',fill_value=0)"
   ]
  },
  {
   "cell_type": "code",
   "execution_count": null,
   "id": "dc53368e",
   "metadata": {},
   "outputs": [],
   "source": [
    "custard=weekly_invoice[weekly_invoice.ProductLineDesc.str.contains('CUSTARD')].groupby(['ParentID','vchStoreName','CoolNetGroup','FC','State','ItemCodeDesc','ItemCode'])['QuantityShipped'].sum().reset_index()\n",
    "custard_pivot=custard.pivot_table(index=['ParentID','vchStoreName','CoolNetGroup','FC','State'],columns=['ItemCode','ItemCodeDesc'],values='QuantityShipped',aggfunc='sum',fill_value=0,margins=True)\n",
    "custard_pivot=custard_pivot.iloc[np.arange(-1,len(custard_pivot)-1),0:,]"
   ]
  },
  {
   "cell_type": "code",
   "execution_count": null,
   "id": "1d64b866",
   "metadata": {},
   "outputs": [],
   "source": [
    "# custard_pivot=custard_pivot.iloc[:,[-1,7,2,4,5,3,0,1,6]]\n",
    "custard_pivot"
   ]
  },
  {
   "cell_type": "code",
   "execution_count": null,
   "id": "8b673994",
   "metadata": {},
   "outputs": [],
   "source": [
    "# custard_new=pd.merge(shop_info,custard_pivot,on=['ParentID','vchStoreName','CoolNetGroup','FC','State'],how='left')\n",
    "# custard_new.iloc[:,5:]=custard_new.iloc[:,5:].fillna(0)"
   ]
  },
  {
   "cell_type": "code",
   "execution_count": null,
   "id": "055c2779",
   "metadata": {},
   "outputs": [],
   "source": [
    "# custard_new.iloc[:,5:].sum(axis=0)"
   ]
  },
  {
   "cell_type": "code",
   "execution_count": null,
   "id": "3de93f5d",
   "metadata": {},
   "outputs": [],
   "source": [
    "# paper=weekly_invoice[weekly_invoice.PRODUCTLINEDESC.str.contains('PAPER')].groupby(['ParentID','Shop Name','FC','State']).resample('W').sum()\n",
    "# paper=paper.drop('ParentID',axis=1)\n",
    "# paper_pivot=paper.pivot_table(index=['ParentID','Shop Name','FC','State'],columns=['INVOICEDATE'],values='QUANTITYSHIPPED',aggfunc='sum',fill_value=0)"
   ]
  },
  {
   "cell_type": "code",
   "execution_count": null,
   "id": "5540a6db",
   "metadata": {},
   "outputs": [],
   "source": [
    "paper=weekly_invoice[weekly_invoice.ProductLineDesc.str.contains('PAPER')].groupby(['ParentID','vchStoreName','CoolNetGroup','FC','State','ItemCodeDesc','ItemCode'])['QuantityShipped'].sum().reset_index()\n",
    "paper_pivot=paper.pivot_table(index=['ParentID','vchStoreName','CoolNetGroup','FC','State'],columns=['ItemCode','ItemCodeDesc'],values='QuantityShipped',aggfunc='sum',fill_value=0,margins=True)\n",
    "paper_pivot=paper_pivot.iloc[np.arange(-1,len(paper_pivot)-1),0:,]                                          "
   ]
  },
  {
   "cell_type": "code",
   "execution_count": null,
   "id": "e04b7785",
   "metadata": {},
   "outputs": [],
   "source": [
    "# paper_new=pd.merge(shop_info,paper_pivot,on=['ParentID','vchStoreName','CoolNetGroup','FC','State'],how='left')\n",
    "# paper_new.iloc[:,5:]=paper_new.iloc[:,5:].fillna(0)\n",
    "# # paper_new['Shop Name']=paper_new['Shop Name'].fillna('Missing Store Name')"
   ]
  },
  {
   "cell_type": "code",
   "execution_count": null,
   "id": "ba6e0674",
   "metadata": {},
   "outputs": [],
   "source": [
    "other=weekly_invoice[weekly_invoice.ProductLineDesc.str.contains('OTHER INGRED')].groupby(['ParentID','vchStoreName','CoolNetGroup','FC','State','ItemCodeDesc','ItemCode'])['QuantityShipped'].sum().reset_index()\n",
    "other_pivot=other.pivot_table(index=['ParentID','vchStoreName','CoolNetGroup','FC','State'],columns=['ItemCode','ItemCodeDesc'],values='QuantityShipped',aggfunc='sum',fill_value=0).reset_index()\n",
    "other_pivot.columns\n",
    "# other_pivot=other_pivot.loc[:,['CRUSHED CHERRIES (6-1/2 GAL)','CRUSHED PINEAPPLES (2-1/2 GAL)','DICED BLK CHERRIES (3-1/2 GAL)','CHOCOLATE BASE (2/.5GAL)','CHOCOLATE SPRINKLES (25LB)',\n",
    "#                   'HERSHEY HOT FUDGE (4/48oz)','HERSHEY CARAMEL (4/48oz)','MARASCHINO CHERRIES (3-1/2GAL)',\n",
    "#                   'RAINBOW SPRINKLES (25LB)','LIME CONCENTRATE (12/5OZ)','FRZN LEMON JUICE (12/5 OZ PKS)'\n",
    "# ]]"
   ]
  },
  {
   "cell_type": "code",
   "execution_count": null,
   "id": "017ad571",
   "metadata": {},
   "outputs": [],
   "source": [
    "other_pivot=other_pivot.loc[:,[(    'ParentID',                               ''),('vchStoreName',                               ''),\n",
    "                   ('CoolNetGroup',                               ''),(          'FC',                               ''),\n",
    "                   (       'State',                               ''),('0201',   'CRUSHED CHERRIES (6-1/2 GAL)'),('2727',   'CRUSHED PINEAPPLES (2-1/2 GAL)'),\n",
    "                  ('0236',   'DICED BLK CHERRIES (3-1/2 GAL)'),('2723',   'CHOCOLATE BASE (2/.5GAL)'),('0266',   'CHOCOLATE SPRINKLES (25LB)'),\n",
    "                  ('2720',   'HERSHEY HOT FUDGE (4/48oz)'),('2719',   'HERSHEY CARAMEL (4/48oz)'),('0254',   'MARASCHINO CHERRIES (3-1/2GAL)'),\n",
    "                  ('0265',   'RAINBOW SPRINKLES (25LB)'),('2721',   'LIME CONCENTRATE (12/5OZ)'),('0215',   'FRZN LEMON JUICE (12/5 OZ PKS)')]]"
   ]
  },
  {
   "cell_type": "code",
   "execution_count": null,
   "id": "0f33107e",
   "metadata": {},
   "outputs": [],
   "source": [
    "other_pivot[other_pivot.ParentID==463]"
   ]
  },
  {
   "cell_type": "code",
   "execution_count": null,
   "id": "e09f9714",
   "metadata": {},
   "outputs": [],
   "source": [
    "other_pivot.loc['Total']=other_pivot.iloc[:,5:].sum(axis=0)\n",
    "other_pivot.iloc[-1,[0,1,2,3,4]]=''\n",
    "other_pivot.iloc[-1,[4]]='Total'\n",
    "other_pivot=other_pivot.iloc[np.arange(-1,len(other_pivot)-1),0:,]\n",
    "other_pivot"
   ]
  },
  {
   "cell_type": "code",
   "execution_count": null,
   "id": "5432e3e9",
   "metadata": {},
   "outputs": [],
   "source": [
    "# other_new=pd.merge(shop_info,other_pivot,on=['ParentID','vchStoreName','CoolNetGroup','FC','State'],how='left')\n",
    "# other_new.iloc[:,5:]=other_new.iloc[:,5:].fillna(0)\n",
    "# other_new['Shop Name']=other_new['Shop Name'].fillna('Missing Store Name')"
   ]
  },
  {
   "cell_type": "code",
   "execution_count": null,
   "id": "df80487f",
   "metadata": {},
   "outputs": [],
   "source": [
    "\n",
    "writer=pd.ExcelWriter('Top Royalty Key Item Movement For Week Ending '+str(srs.EndDate.max())+'.xlsx',datetime_format='mm/dd/yyyy')\n",
    "summary.to_excel(writer,sheet_name='Summary',index=False)\n",
    "wb=writer.book\n",
    "risk_levels.sort_values(by='ParentID').to_excel(writer,startrow=5,startcol=0,sheet_name='All Shops',index=False)\n",
    "worksheet=writer.sheets['All Shops']\n",
    "header_format=wb.add_format({'bold':True,\n",
    "             'italic':True})\n",
    "shit_cell=wb.add_format({'border':2,\n",
    "                        'bg_color':'red'})\n",
    "dollar_value=wb.add_format({'num_format':'$#,##0'})\n",
    "perc_value=wb.add_format({'num_format':'0%'})\n",
    "date_format=wb.add_format({'num_format':'m/d/yyyy'})\n",
    "worksheet.conditional_format('A1:AH700',\n",
    "                            {'type':'formula',\n",
    "                            'criteria':'=AND(A1=0,A1<>\"\")',\n",
    "                            'value':0,\n",
    "                            'format':shit_cell})\n",
    "text1='Ritas Franchise Operations,LLC'\n",
    "text2='2024 YTD Top Custard and Mix Flavor Orders by Shop'\n",
    "text3='Orders thru '+str(invoice.InvoiceDate.max().strftime('%m/%d/%y'))\n",
    "worksheet.set_column('A:T',20)\n",
    "worksheet.set_column('K:O',15,dollar_value)\n",
    "worksheet.set_column('P:Q',15,perc_value)\n",
    "worksheet.set_column('M:M',15,perc_value)\n",
    "worksheet.set_column('I:J',20,date_format)\n",
    "worksheet.set_column('U:AH',24)\n",
    "worksheet.write(0,1,text1,header_format)\n",
    "worksheet.write(1,1,text2,header_format)\n",
    "worksheet.write(2,1,text3,header_format)\n",
    "one.to_excel(writer,sheet_name='Low Risk',index=False)\n",
    "two.to_excel(writer, sheet_name='Medium Risk',index=False)\n",
    "three.to_excel(writer, startrow=5,startcol=0,sheet_name='High Risk',index=False)\n",
    "worksheet1=writer.sheets['High Risk']\n",
    "worksheet1.conditional_format('U1:AH700',\n",
    "                            {'type':'formula',\n",
    "                            'criteria':'=AND(U1=0,U1<>\"\")',\n",
    "                            'value':0,\n",
    "                            'format':shit_cell})\n",
    "worksheet1.set_column('A:T',20)\n",
    "worksheet1.set_column('K:O',15,dollar_value)\n",
    "worksheet1.set_column('P:Q',15,perc_value)\n",
    "worksheet1.set_column('M:M',15,perc_value)\n",
    "worksheet1.set_column('I:J',20,date_format)\n",
    "worksheet1.set_column('U:AH',24)\n",
    "worksheet1.write(0,1,text1,header_format)\n",
    "worksheet1.write(1,1,text2,header_format)\n",
    "worksheet1.write(2,1,text3,header_format)\n",
    "fc_flag.to_excel(writer,sheet_name='Red Flag')\n",
    "writer.close()\n",
    "writer2=pd.ExcelWriter('Orders Frequency For Week Ending '+str(srs.EndDate.max())+'.xlsx',datetime_format='mm/dd/yyyy')\n",
    "jmc_pivot.to_excel(writer2, sheet_name='JMC Mixes & Custard',index=False)\n",
    "bal_mixes_pivot.to_excel(writer2, sheet_name='Bunzl Mixes',index=False)\n",
    "bal_cust_pivot.to_excel(writer2, sheet_name='Balford Custard',index=False)\n",
    "wb1=writer2.book\n",
    "form=wb1.add_format({'align':'center','valign':'vcenter'})\n",
    "ws=writer2.sheets['JMC Mixes & Custard']\n",
    "ws1=writer2.sheets['Bunzl Mixes']\n",
    "ws2=writer2.sheets['Balford Custard']\n",
    "ws.set_column('B:D',47,form)\n",
    "ws.set_column('E:ZZ',10,form)\n",
    "ws1.set_column('B:D',47,form)\n",
    "ws1.set_column('E:ZZ',10,form)\n",
    "ws2.set_column('B:D',47,form)\n",
    "ws2.set_column('E:ZZ',10,form)\n",
    "\n",
    "\n",
    "writer2.close()\n",
    "writer3=pd.ExcelWriter('YTD Case Movement By All Shops For Week Ending '+str(srs.EndDate.max())+'.xlsx',datetime_format='mm/dd/yyyy')\n",
    "mixes_pivot.to_excel(writer3,sheet_name='Mixes')\n",
    "custard_pivot.reset_index().to_excel(writer3, sheet_name='Custard')\n",
    "sugar_pivot.reset_index().to_excel(writer3, sheet_name='Sugar')\n",
    "paper_pivot.reset_index().to_excel(writer3,sheet_name='Paper')\n",
    "other_pivot.to_excel(writer3, sheet_name='Other Ingrediants')\n",
    "writer3.close()"
   ]
  },
  {
   "cell_type": "code",
   "execution_count": null,
   "id": "aa22abe4",
   "metadata": {},
   "outputs": [],
   "source": [
    "import xlsxwriter\n",
    "with pd.ExcelWriter('2024 COGS thru '+str(srs.EndDate.max())+'.xlsx') as writer:\n",
    "    sales.to_excel(writer, sheet_name='COGS',startrow=5,startcol=0,index=False,engine='xlsxwriter')\n",
    "    wb=writer.book\n",
    "    ws=writer.sheets['COGS']\n",
    "    header_format=wb.add_format({'bold':True,\n",
    "             'italic':True})\n",
    "    dollar_value=wb.add_format({'num_format':'$#,##0',\n",
    "                              'align':'center','valign':'vcenter'})\n",
    "    perc_value=wb.add_format({'num_format':'0.0%',\n",
    "                             'align':'center','valign':'vcenter'})\n",
    "    text_format=wb.add_format({'align':'center','valign':'vcenter'})\n",
    "    border_format=wb.add_format({'right':2,'left':2,'bottom':2,'top':2})\n",
    "    ws.conditional_format(xlsxwriter.utility.xl_range(5,0,len(sales)+5,len(sales.columns)-1),\n",
    "                              {'type': 'no_errors', 'format': border_format})\n",
    "    \n",
    "    text1='Ritas Franchise Operations,LLC'\n",
    "    text2='Cost of Goods Sold By Categroy'\n",
    "    text3='Orders thru '+str(invoice.InvoiceDate.max().strftime('%m/%d/%y'))\n",
    "    text4='Sales thru '+str(srs.EndDate.max())\n",
    "    \n",
    "    ws.write(0,1,text1,header_format)\n",
    "    ws.write(1,1,text2,header_format)\n",
    "    ws.write(2,1,text3,header_format)\n",
    "    ws.write(3,1,text4,header_format)\n",
    "    \n",
    "    ws.set_column('A:D',20,text_format)\n",
    "    ws.set_column('B:B',45,text_format)\n",
    "    ws.set_column('E:F',17,dollar_value)\n",
    "    ws.set_column('H:H',16,dollar_value)\n",
    "    ws.set_column('J:J',24,dollar_value)\n",
    "    ws.set_column('G:G',15,perc_value)\n",
    "    ws.set_column('I:I',15,perc_value)\n",
    "    ws.set_column('K:K',15,perc_value)\n",
    "    ws.insert_image('A1','Logo.png')\n",
    "    ws.hide_gridlines(2)\n",
    "    ws.autofilter(5,0,sales.shape[0],sales.shape[1]-1)"
   ]
  },
  {
   "cell_type": "code",
   "execution_count": null,
   "id": "bf2fc406",
   "metadata": {},
   "outputs": [],
   "source": [
    "sales"
   ]
  },
  {
   "cell_type": "code",
   "execution_count": null,
   "id": "f5b0696a",
   "metadata": {},
   "outputs": [],
   "source": [
    "srs.SalesMny.sum()"
   ]
  },
  {
   "cell_type": "code",
   "execution_count": null,
   "id": "e1d0bac7",
   "metadata": {},
   "outputs": [],
   "source": []
  }
 ],
 "metadata": {
  "kernelspec": {
   "display_name": "Python 3 (ipykernel)",
   "language": "python",
   "name": "python3"
  },
  "language_info": {
   "codemirror_mode": {
    "name": "ipython",
    "version": 3
   },
   "file_extension": ".py",
   "mimetype": "text/x-python",
   "name": "python",
   "nbconvert_exporter": "python",
   "pygments_lexer": "ipython3",
   "version": "3.9.12"
  }
 },
 "nbformat": 4,
 "nbformat_minor": 5
}
