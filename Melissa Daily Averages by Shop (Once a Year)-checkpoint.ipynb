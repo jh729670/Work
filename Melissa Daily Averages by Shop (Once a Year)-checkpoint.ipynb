{
 "cells": [
  {
   "cell_type": "code",
   "execution_count": 1,
   "id": "7ca02503",
   "metadata": {},
   "outputs": [],
   "source": [
    "import pandas as pd\n",
    "import os \n",
    "import seaborn as sns\n",
    "import numpy as np\n",
    "import matplotlib.pyplot as plt\n",
    "from datetime import datetime,date,timedelta\n",
    "import pyodbc as odbc\n",
    "import xlsxwriter\n",
    "os.chdir(r'G:\\FinanceReports\\2024\\Wk52')"
   ]
  },
  {
   "cell_type": "code",
   "execution_count": 2,
   "id": "f8c5b2fc",
   "metadata": {},
   "outputs": [],
   "source": [
    "# Names the needed driver, server name, and database\n",
    "driver_name='SQL Server'\n",
    "server_name='10.0.1.218'\n",
    "database='ritascoolnet_live'"
   ]
  },
  {
   "cell_type": "code",
   "execution_count": 3,
   "id": "b8342d8a",
   "metadata": {},
   "outputs": [],
   "source": [
    "#Creates the connection string\n",
    "connection_string=f\"\"\"\n",
    "DRIVER={{{driver_name}}};\n",
    "SERVER={server_name};\n",
    "DATABASE={database};\n",
    "Trust_Connection=yes\"\"\""
   ]
  },
  {
   "cell_type": "code",
   "execution_count": 4,
   "id": "e7e5d8ef",
   "metadata": {},
   "outputs": [
    {
     "name": "stdout",
     "output_type": "stream",
     "text": [
      "<pyodbc.Connection object at 0x000002DEE0234B90>\n"
     ]
    }
   ],
   "source": [
    "#Creates the Connection to SQL Server\n",
    "connection=odbc.connect(connection_string)\n",
    "print(connection)"
   ]
  },
  {
   "cell_type": "code",
   "execution_count": 5,
   "id": "faeb629a",
   "metadata": {},
   "outputs": [
    {
     "name": "stderr",
     "output_type": "stream",
     "text": [
      "C:\\Users\\jharned\\AppData\\Local\\Temp\\ipykernel_26036\\3134687351.py:1: UserWarning: pandas only supports SQLAlchemy connectable (engine/connection) or database string URI or sqlite3 DBAPI2 connection. Other DBAPI2 objects are not tested. Please consider using SQLAlchemy.\n",
      "  names=pd.read_sql_query('''Select intstoreid as intStoreID,RitasID, FC,CoolNetGroup,LegacyStoreType,State,MSAName,DMA,StoreName as ShopName,CoOpName, Region from ritascoolnet_live.dbo.vShopDetail''',\n",
      "C:\\Users\\jharned\\AppData\\Local\\Temp\\ipykernel_26036\\3134687351.py:3: UserWarning: pandas only supports SQLAlchemy connectable (engine/connection) or database string URI or sqlite3 DBAPI2 connection. Other DBAPI2 objects are not tested. Please consider using SQLAlchemy.\n",
      "  prod_names=pd.read_sql_query('''Select intProductTypeID as ProductCode, vchProductTypeName as ProductTypeName from ritascoolnet_live.dbo.tblproducttype''',\n",
      "C:\\Users\\jharned\\AppData\\Local\\Temp\\ipykernel_26036\\3134687351.py:5: UserWarning: pandas only supports SQLAlchemy connectable (engine/connection) or database string URI or sqlite3 DBAPI2 connection. Other DBAPI2 objects are not tested. Please consider using SQLAlchemy.\n",
      "  prod_size=pd.read_sql_query('''Select intProductSizeID as ProdSizeCode, vchProductSizeName as ProductSizeName from ritascoolnet_live.dbo.tblproductsize''',\n",
      "C:\\Users\\jharned\\AppData\\Local\\Temp\\ipykernel_26036\\3134687351.py:7: UserWarning: pandas only supports SQLAlchemy connectable (engine/connection) or database string URI or sqlite3 DBAPI2 connection. Other DBAPI2 objects are not tested. Please consider using SQLAlchemy.\n",
      "  product=pd.read_sql_query('''select * from ritascoolnet_live.dbo.vProductSalesReportingDaily''',connection)\n"
     ]
    }
   ],
   "source": [
    "names=pd.read_sql_query('''Select intstoreid as intStoreID,RitasID, FC,CoolNetGroup,LegacyStoreType,State,MSAName,DMA,StoreName as ShopName,CoOpName, Region from ritascoolnet_live.dbo.vShopDetail''',\n",
    "                        connection)\n",
    "prod_names=pd.read_sql_query('''Select intProductTypeID as ProductCode, vchProductTypeName as ProductTypeName from ritascoolnet_live.dbo.tblproducttype''',\n",
    "                        connection)\n",
    "prod_size=pd.read_sql_query('''Select intProductSizeID as ProdSizeCode, vchProductSizeName as ProductSizeName from ritascoolnet_live.dbo.tblproductsize''',\n",
    "                        connection)\n",
    "product=pd.read_sql_query('''select * from ritascoolnet_live.dbo.vProductSalesReportingDaily''',connection)\n",
    "daily=product.merge(names[['intStoreID','RitasID','ShopName','FC','Region','State']],on=['intStoreID','RitasID'])\\\n",
    ".merge(prod_size[['ProdSizeCode','ProductSizeName']],left_on='intProductSizeID',right_on='ProdSizeCode')\\\n",
    ".merge(prod_names[['ProductCode','ProductTypeName']],left_on='intproducttypeid',right_on='ProductCode')\n"
   ]
  },
  {
   "cell_type": "code",
   "execution_count": 6,
   "id": "79f69ce6",
   "metadata": {},
   "outputs": [],
   "source": [
    "daily=daily[daily.dteDate.dt.year==2024]"
   ]
  },
  {
   "cell_type": "code",
   "execution_count": 7,
   "id": "dd5eb055",
   "metadata": {},
   "outputs": [
    {
     "data": {
      "text/html": [
       "<div>\n",
       "<style scoped>\n",
       "    .dataframe tbody tr th:only-of-type {\n",
       "        vertical-align: middle;\n",
       "    }\n",
       "\n",
       "    .dataframe tbody tr th {\n",
       "        vertical-align: top;\n",
       "    }\n",
       "\n",
       "    .dataframe thead th {\n",
       "        text-align: right;\n",
       "    }\n",
       "</style>\n",
       "<table border=\"1\" class=\"dataframe\">\n",
       "  <thead>\n",
       "    <tr style=\"text-align: right;\">\n",
       "      <th></th>\n",
       "      <th>intStoreID</th>\n",
       "      <th>intParentStoreID</th>\n",
       "      <th>RitasID</th>\n",
       "      <th>intproducttypeid</th>\n",
       "      <th>intProductSizeID</th>\n",
       "      <th>SalesQty</th>\n",
       "      <th>SalesMny</th>\n",
       "      <th>dteDate</th>\n",
       "      <th>Channel</th>\n",
       "      <th>ShopName</th>\n",
       "      <th>FC</th>\n",
       "      <th>Region</th>\n",
       "      <th>State</th>\n",
       "      <th>ProdSizeCode</th>\n",
       "      <th>ProductSizeName</th>\n",
       "      <th>ProductCode</th>\n",
       "      <th>ProductTypeName</th>\n",
       "    </tr>\n",
       "  </thead>\n",
       "  <tbody>\n",
       "  </tbody>\n",
       "</table>\n",
       "</div>"
      ],
      "text/plain": [
       "Empty DataFrame\n",
       "Columns: [intStoreID, intParentStoreID, RitasID, intproducttypeid, intProductSizeID, SalesQty, SalesMny, dteDate, Channel, ShopName, FC, Region, State, ProdSizeCode, ProductSizeName, ProductCode, ProductTypeName]\n",
       "Index: []"
      ]
     },
     "execution_count": 7,
     "metadata": {},
     "output_type": "execute_result"
    }
   ],
   "source": [
    "daily[(daily.dteDate.dt.year==2024)&(daily.RitasID==1551)]"
   ]
  },
  {
   "cell_type": "code",
   "execution_count": 8,
   "id": "53011c4f",
   "metadata": {},
   "outputs": [
    {
     "data": {
      "text/html": [
       "<div>\n",
       "<style scoped>\n",
       "    .dataframe tbody tr th:only-of-type {\n",
       "        vertical-align: middle;\n",
       "    }\n",
       "\n",
       "    .dataframe tbody tr th {\n",
       "        vertical-align: top;\n",
       "    }\n",
       "\n",
       "    .dataframe thead th {\n",
       "        text-align: right;\n",
       "    }\n",
       "</style>\n",
       "<table border=\"1\" class=\"dataframe\">\n",
       "  <thead>\n",
       "    <tr style=\"text-align: right;\">\n",
       "      <th></th>\n",
       "      <th>RitasID</th>\n",
       "      <th>dteDate</th>\n",
       "    </tr>\n",
       "  </thead>\n",
       "  <tbody>\n",
       "    <tr>\n",
       "      <th>0</th>\n",
       "      <td>1</td>\n",
       "      <td>219</td>\n",
       "    </tr>\n",
       "    <tr>\n",
       "      <th>1</th>\n",
       "      <td>2</td>\n",
       "      <td>252</td>\n",
       "    </tr>\n",
       "    <tr>\n",
       "      <th>2</th>\n",
       "      <td>3</td>\n",
       "      <td>222</td>\n",
       "    </tr>\n",
       "    <tr>\n",
       "      <th>3</th>\n",
       "      <td>4</td>\n",
       "      <td>220</td>\n",
       "    </tr>\n",
       "    <tr>\n",
       "      <th>4</th>\n",
       "      <td>6</td>\n",
       "      <td>227</td>\n",
       "    </tr>\n",
       "    <tr>\n",
       "      <th>...</th>\n",
       "      <td>...</td>\n",
       "      <td>...</td>\n",
       "    </tr>\n",
       "    <tr>\n",
       "      <th>540</th>\n",
       "      <td>1542</td>\n",
       "      <td>48</td>\n",
       "    </tr>\n",
       "    <tr>\n",
       "      <th>541</th>\n",
       "      <td>1543</td>\n",
       "      <td>94</td>\n",
       "    </tr>\n",
       "    <tr>\n",
       "      <th>542</th>\n",
       "      <td>1545</td>\n",
       "      <td>35</td>\n",
       "    </tr>\n",
       "    <tr>\n",
       "      <th>543</th>\n",
       "      <td>1561</td>\n",
       "      <td>105</td>\n",
       "    </tr>\n",
       "    <tr>\n",
       "      <th>544</th>\n",
       "      <td>1571</td>\n",
       "      <td>86</td>\n",
       "    </tr>\n",
       "  </tbody>\n",
       "</table>\n",
       "<p>545 rows × 2 columns</p>\n",
       "</div>"
      ],
      "text/plain": [
       "     RitasID  dteDate\n",
       "0          1      219\n",
       "1          2      252\n",
       "2          3      222\n",
       "3          4      220\n",
       "4          6      227\n",
       "..       ...      ...\n",
       "540     1542       48\n",
       "541     1543       94\n",
       "542     1545       35\n",
       "543     1561      105\n",
       "544     1571       86\n",
       "\n",
       "[545 rows x 2 columns]"
      ]
     },
     "execution_count": 8,
     "metadata": {},
     "output_type": "execute_result"
    }
   ],
   "source": [
    "days_open=daily[(daily.RitasID<10000)&(daily.dteDate.dt.year==2024)].groupby('RitasID')['dteDate'].nunique().reset_index()\n",
    "days_open"
   ]
  },
  {
   "cell_type": "code",
   "execution_count": 9,
   "id": "5cd29e38",
   "metadata": {},
   "outputs": [],
   "source": [
    "lto=['Large Frozen Coffee','Small Frozen Coffee','5-Layer Gelati','Large Frozen Lemonade',\n",
    "    'Small Frozen Lemonade']\n",
    "lto_items=daily[(daily.RitasID<10000)&(daily.ProductSizeName.isin(lto))].groupby(\n",
    "    ['RitasID','ProductSizeName'])[['SalesQty','dteDate']].agg({\n",
    "    'SalesQty':'sum',\n",
    "    'dteDate':'nunique'\n",
    "}).reset_index()"
   ]
  },
  {
   "cell_type": "code",
   "execution_count": 10,
   "id": "dc6ca070",
   "metadata": {},
   "outputs": [],
   "source": [
    "# menu_items=daily[(daily.RitasID<10000)&~(daily.ProductSizeName.isin(lto))].groupby(\n",
    "#     ['RitasID','ProductSizeName'])['SalesQty'].sum().reset_index()\n"
   ]
  },
  {
   "cell_type": "code",
   "execution_count": 11,
   "id": "4911c988",
   "metadata": {},
   "outputs": [],
   "source": [
    "menu_items=daily[(daily.RitasID<10000)].groupby(\n",
    "    ['RitasID','ProductSizeName'])['SalesQty'].sum().reset_index()"
   ]
  },
  {
   "cell_type": "code",
   "execution_count": 12,
   "id": "0cc04112",
   "metadata": {},
   "outputs": [],
   "source": [
    "menu_items=menu_items.merge(days_open,on='RitasID',how='left')"
   ]
  },
  {
   "cell_type": "code",
   "execution_count": 13,
   "id": "6d64ee0b",
   "metadata": {},
   "outputs": [],
   "source": [
    "menu_items['Daily_Avg']=round(menu_items.SalesQty/menu_items.dteDate,2)\n",
    "lto_items['Daily_Avg']=round(lto_items.SalesQty/lto_items.dteDate,2)\n"
   ]
  },
  {
   "cell_type": "code",
   "execution_count": 14,
   "id": "94a2338d",
   "metadata": {},
   "outputs": [],
   "source": [
    "menu_items.rename(columns={'intRitasStoreID':'ShopID','vchProductSizeName':'ProductSizeName',\n",
    "                          'SalesQty':'Quantity','dteDate':'Days_Open'},inplace=True)\n",
    "lto_items.rename(columns={'intRitasStoreID':'ShopID','vchProductSizeName':'ProductSizeName',\n",
    "                          'SalesQty':'Quantity','dteDate':'Days_Open'},inplace=True)"
   ]
  },
  {
   "cell_type": "code",
   "execution_count": 15,
   "id": "531fbc74",
   "metadata": {},
   "outputs": [
    {
     "data": {
      "text/html": [
       "<div>\n",
       "<style scoped>\n",
       "    .dataframe tbody tr th:only-of-type {\n",
       "        vertical-align: middle;\n",
       "    }\n",
       "\n",
       "    .dataframe tbody tr th {\n",
       "        vertical-align: top;\n",
       "    }\n",
       "\n",
       "    .dataframe thead th {\n",
       "        text-align: right;\n",
       "    }\n",
       "</style>\n",
       "<table border=\"1\" class=\"dataframe\">\n",
       "  <thead>\n",
       "    <tr style=\"text-align: right;\">\n",
       "      <th></th>\n",
       "      <th>RitasID</th>\n",
       "      <th>ProductSizeName</th>\n",
       "      <th>Quantity</th>\n",
       "      <th>Days_Open</th>\n",
       "      <th>Daily_Avg</th>\n",
       "    </tr>\n",
       "  </thead>\n",
       "  <tbody>\n",
       "    <tr>\n",
       "      <th>0</th>\n",
       "      <td>1</td>\n",
       "      <td>5-Layer Gelati</td>\n",
       "      <td>361</td>\n",
       "      <td>138</td>\n",
       "      <td>2.62</td>\n",
       "    </tr>\n",
       "    <tr>\n",
       "      <th>1</th>\n",
       "      <td>1</td>\n",
       "      <td>Large Frozen Coffee</td>\n",
       "      <td>257</td>\n",
       "      <td>139</td>\n",
       "      <td>1.85</td>\n",
       "    </tr>\n",
       "    <tr>\n",
       "      <th>2</th>\n",
       "      <td>1</td>\n",
       "      <td>Large Frozen Lemonade</td>\n",
       "      <td>90</td>\n",
       "      <td>61</td>\n",
       "      <td>1.48</td>\n",
       "    </tr>\n",
       "    <tr>\n",
       "      <th>3</th>\n",
       "      <td>1</td>\n",
       "      <td>Small Frozen Coffee</td>\n",
       "      <td>307</td>\n",
       "      <td>148</td>\n",
       "      <td>2.07</td>\n",
       "    </tr>\n",
       "    <tr>\n",
       "      <th>4</th>\n",
       "      <td>1</td>\n",
       "      <td>Small Frozen Lemonade</td>\n",
       "      <td>106</td>\n",
       "      <td>72</td>\n",
       "      <td>1.47</td>\n",
       "    </tr>\n",
       "    <tr>\n",
       "      <th>...</th>\n",
       "      <td>...</td>\n",
       "      <td>...</td>\n",
       "      <td>...</td>\n",
       "      <td>...</td>\n",
       "      <td>...</td>\n",
       "    </tr>\n",
       "    <tr>\n",
       "      <th>2641</th>\n",
       "      <td>1561</td>\n",
       "      <td>Small Frozen Lemonade</td>\n",
       "      <td>128</td>\n",
       "      <td>61</td>\n",
       "      <td>2.10</td>\n",
       "    </tr>\n",
       "    <tr>\n",
       "      <th>2642</th>\n",
       "      <td>1571</td>\n",
       "      <td>5-Layer Gelati</td>\n",
       "      <td>121</td>\n",
       "      <td>54</td>\n",
       "      <td>2.24</td>\n",
       "    </tr>\n",
       "    <tr>\n",
       "      <th>2643</th>\n",
       "      <td>1571</td>\n",
       "      <td>Large Frozen Coffee</td>\n",
       "      <td>88</td>\n",
       "      <td>50</td>\n",
       "      <td>1.76</td>\n",
       "    </tr>\n",
       "    <tr>\n",
       "      <th>2644</th>\n",
       "      <td>1571</td>\n",
       "      <td>Small Frozen Coffee</td>\n",
       "      <td>136</td>\n",
       "      <td>59</td>\n",
       "      <td>2.31</td>\n",
       "    </tr>\n",
       "    <tr>\n",
       "      <th>2645</th>\n",
       "      <td>1571</td>\n",
       "      <td>Small Frozen Lemonade</td>\n",
       "      <td>1</td>\n",
       "      <td>1</td>\n",
       "      <td>1.00</td>\n",
       "    </tr>\n",
       "  </tbody>\n",
       "</table>\n",
       "<p>2646 rows × 5 columns</p>\n",
       "</div>"
      ],
      "text/plain": [
       "      RitasID        ProductSizeName  Quantity  Days_Open  Daily_Avg\n",
       "0           1         5-Layer Gelati       361        138       2.62\n",
       "1           1    Large Frozen Coffee       257        139       1.85\n",
       "2           1  Large Frozen Lemonade        90         61       1.48\n",
       "3           1    Small Frozen Coffee       307        148       2.07\n",
       "4           1  Small Frozen Lemonade       106         72       1.47\n",
       "...       ...                    ...       ...        ...        ...\n",
       "2641     1561  Small Frozen Lemonade       128         61       2.10\n",
       "2642     1571         5-Layer Gelati       121         54       2.24\n",
       "2643     1571    Large Frozen Coffee        88         50       1.76\n",
       "2644     1571    Small Frozen Coffee       136         59       2.31\n",
       "2645     1571  Small Frozen Lemonade         1          1       1.00\n",
       "\n",
       "[2646 rows x 5 columns]"
      ]
     },
     "execution_count": 15,
     "metadata": {},
     "output_type": "execute_result"
    }
   ],
   "source": [
    "lto_items"
   ]
  },
  {
   "cell_type": "code",
   "execution_count": 16,
   "id": "dbc7f9af",
   "metadata": {},
   "outputs": [],
   "source": [
    "with pd.ExcelWriter('Melissa 2024 Daily Avg by Shop 12.31.2024.xlsx',engine='xlsxwriter')as writer:\n",
    "    menu_items.to_excel(writer,sheet_name='Menu Items',index=False,startrow=5)\n",
    "    lto_items.to_excel(writer, sheet_name='LTO Items',index=False,startrow=5)\n",
    "    wb=writer.book\n",
    "    vol_format=wb.add_format({'num_format':'#,##0',\n",
    "                                 'align':'center',\n",
    "                                 'valign':'vcenter'})\n",
    "    header_format=wb.add_format({'bold':True,\n",
    "                                    'italic':True})\n",
    "    border_format=wb.add_format({'top':2,'bottom':2,'left':2,'right':2})\n",
    "    align=wb.add_format({'align':'center',\n",
    "                            'valign':'vcenter'})\n",
    "    title='Ritas Franchise Company,LLC'\n",
    "    title1='2024 Average Daily Products Sold'\n",
    "    title2='Sales thru '+str(daily.dteDate.max().strftime('%m-%d-%y'))\n",
    "    title3='Source Code: dbo.vProductSalesReportingDaily'\n",
    "    ws=writer.sheets['Menu Items']\n",
    "    ws1=writer.sheets['LTO Items']\n",
    "    ws.conditional_format(xlsxwriter.utility.xl_range(5,0,len(menu_items)+5,len(menu_items.columns)-1),\n",
    "                              {'type': 'no_errors', 'format': border_format})\n",
    "    ws1.conditional_format(xlsxwriter.utility.xl_range(5,0,len(lto_items)+5,len(lto_items.columns)-1),\n",
    "                              {'type': 'no_errors', 'format': border_format})\n",
    "    ws.write(0,1,title,header_format)\n",
    "    ws.write(1,1,title1,header_format)\n",
    "    ws.write(2,1,title2,header_format)\n",
    "    ws.write(3,1,title3,header_format)\n",
    "    ws.set_column('A:A',12,align)\n",
    "    ws.set_column('B:B',45,align)\n",
    "    ws.set_column('D:E',18.2,align)\n",
    "    ws.set_column('C:C',18,vol_format)\n",
    "    ws.hide_gridlines(2)\n",
    "    ws.insert_image('A1','Logo.png')\n",
    "    \n",
    "    ws1.write(0,1,title,header_format)\n",
    "    ws1.write(1,1,title1,header_format)\n",
    "    ws1.write(2,1,title2,header_format)\n",
    "    ws1.write(3,1,title3,header_format)\n",
    "    ws1.set_column('A:A',12,align)\n",
    "    ws1.set_column('B:B',45,align)\n",
    "    ws1.set_column('C:E',18.2,align)\n",
    "    ws1.hide_gridlines(2)\n",
    "    ws1.insert_image('A1','Logo.png')\n",
    "    "
   ]
  },
  {
   "cell_type": "code",
   "execution_count": null,
   "id": "79eb7965",
   "metadata": {},
   "outputs": [],
   "source": []
  }
 ],
 "metadata": {
  "kernelspec": {
   "display_name": "Python 3 (ipykernel)",
   "language": "python",
   "name": "python3"
  },
  "language_info": {
   "codemirror_mode": {
    "name": "ipython",
    "version": 3
   },
   "file_extension": ".py",
   "mimetype": "text/x-python",
   "name": "python",
   "nbconvert_exporter": "python",
   "pygments_lexer": "ipython3",
   "version": "3.9.12"
  }
 },
 "nbformat": 4,
 "nbformat_minor": 5
}
