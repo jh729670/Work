{
 "cells": [
  {
   "cell_type": "code",
   "execution_count": 1,
   "id": "ab243b78",
   "metadata": {},
   "outputs": [],
   "source": [
    "import pyodbc as odbc\n",
    "import pandas as pd\n",
    "import os"
   ]
  },
  {
   "cell_type": "code",
   "execution_count": 2,
   "id": "3c38e29e",
   "metadata": {},
   "outputs": [],
   "source": [
    "driver_name='SQL Server'\n",
    "server_name='10.0.1.218'\n",
    "database='ritascoolnet_live'\n",
    "connection_string=f\"\"\"\n",
    "DRIVER={{{driver_name}}};\n",
    "SERVER={server_name};\n",
    "DATABASE={database};\n",
    "Trust_Connection=yes\"\"\"\n",
    "connection=odbc.connect(connection_string)"
   ]
  },
  {
   "cell_type": "code",
   "execution_count": 5,
   "id": "a8077fd3",
   "metadata": {},
   "outputs": [
    {
     "name": "stderr",
     "output_type": "stream",
     "text": [
      "C:\\Users\\jharned\\Anaconda3\\lib\\site-packages\\pandas\\io\\sql.py:761: UserWarning: pandas only support SQLAlchemy connectable(engine/connection) ordatabase string URI or sqlite3 DBAPI2 connectionother DBAPI2 objects are not tested, please consider using SQLAlchemy\n",
      "  warnings.warn(\n"
     ]
    }
   ],
   "source": [
    "df=pd.read_sql_query('''SELECT * FROM [ritas_bi].[dbo].[tmp_raw_plda]\n",
    "  WHERE YEAR(StartDate)=2022 ''',connection)"
   ]
  },
  {
   "cell_type": "code",
   "execution_count": 10,
   "id": "38435d04",
   "metadata": {},
   "outputs": [
    {
     "data": {
      "text/html": [
       "<div>\n",
       "<style scoped>\n",
       "    .dataframe tbody tr th:only-of-type {\n",
       "        vertical-align: middle;\n",
       "    }\n",
       "\n",
       "    .dataframe tbody tr th {\n",
       "        vertical-align: top;\n",
       "    }\n",
       "\n",
       "    .dataframe thead th {\n",
       "        text-align: right;\n",
       "    }\n",
       "</style>\n",
       "<table border=\"1\" class=\"dataframe\">\n",
       "  <thead>\n",
       "    <tr style=\"text-align: right;\">\n",
       "      <th></th>\n",
       "      <th>ShopID</th>\n",
       "      <th>intStoreID</th>\n",
       "      <th>ProductCode</th>\n",
       "      <th>ProdSizeCode</th>\n",
       "      <th>DiscountCode</th>\n",
       "      <th>Register</th>\n",
       "      <th>SalesQty</th>\n",
       "      <th>SalesMny</th>\n",
       "      <th>StartDate</th>\n",
       "      <th>EndDate</th>\n",
       "      <th>...</th>\n",
       "      <th>Region</th>\n",
       "      <th>ShopStatus</th>\n",
       "      <th>LegacyShopType</th>\n",
       "      <th>LegacyShopStatus</th>\n",
       "      <th>ProductTypeName</th>\n",
       "      <th>ProductSizeName</th>\n",
       "      <th>SpecialVenue</th>\n",
       "      <th>CoOpStatus</th>\n",
       "      <th>CoOpName</th>\n",
       "      <th>CoOpRate</th>\n",
       "    </tr>\n",
       "  </thead>\n",
       "  <tbody>\n",
       "  </tbody>\n",
       "</table>\n",
       "<p>0 rows × 25 columns</p>\n",
       "</div>"
      ],
      "text/plain": [
       "Empty DataFrame\n",
       "Columns: [ShopID, intStoreID, ProductCode, ProdSizeCode, DiscountCode, Register, SalesQty, SalesMny, StartDate, EndDate, EditDate, Week, DataSource, ShopName, State, Region, ShopStatus, LegacyShopType, LegacyShopStatus, ProductTypeName, ProductSizeName, SpecialVenue, CoOpStatus, CoOpName, CoOpRate]\n",
       "Index: []\n",
       "\n",
       "[0 rows x 25 columns]"
      ]
     },
     "execution_count": 10,
     "metadata": {},
     "output_type": "execute_result"
    }
   ],
   "source": [
    "df"
   ]
  },
  {
   "cell_type": "code",
   "execution_count": 5,
   "id": "a6d6daaa",
   "metadata": {},
   "outputs": [
    {
     "data": {
      "text/plain": [
       "array([ 8, 39, 38, 14, 36, 10, 13, 37, 34, 18, 21, 30,  9, 16, 33, 26, 12,\n",
       "       35, 27, 17, 29, 25, 28, 31, 19, 32, 24, 11, 15, 22, 20, 23, 43, 40,\n",
       "       41,  6, 42,  7, 51,  4, 50, 45,  3, 48, 46, 52, 49,  5,  2, 47,  1,\n",
       "       44], dtype=int64)"
      ]
     },
     "execution_count": 5,
     "metadata": {},
     "output_type": "execute_result"
    }
   ],
   "source": [
    "df.Week.unique()"
   ]
  },
  {
   "cell_type": "code",
   "execution_count": 6,
   "id": "b04b570f",
   "metadata": {},
   "outputs": [
    {
     "data": {
      "text/plain": [
       "array([   26,   628,   681,   711,   714,   843,   940,  1053,  1410,\n",
       "        1427,  1457, 10026], dtype=int64)"
      ]
     },
     "execution_count": 6,
     "metadata": {},
     "output_type": "execute_result"
    }
   ],
   "source": [
    "carolinas=['NC','SC']\n",
    "closed=['409 Mills Ave-Greenville SC','Seneca']\n",
    "df=df[(df.State.isin(carolinas))&(df.SpecialVenue=='No')&(~df.ShopName.str.contains('Mobile'))&(~df.ShopName.isin(closed))]\n",
    "df.ShopID.unique()"
   ]
  },
  {
   "cell_type": "code",
   "execution_count": 92,
   "id": "6e9b2f84",
   "metadata": {},
   "outputs": [
    {
     "data": {
      "text/plain": [
       "array(['Hilton Head', '804 2nd Loop Rd-Florence SC', 'The Arbors ',\n",
       "       'Ballantyne', 'Plaza Shopping Center', 'Greenville SC',\n",
       "       'Ritas in the Vista', 'Asheville', 'Fort Mill',\n",
       "       '1806 Rozzelles Ferry Rd-Charlotte NC',\n",
       "       '1208 S Ocean Blvd-Myrtle Beach SC',\n",
       "       '1 N. Forest Beach-Hilton Head SC'], dtype=object)"
      ]
     },
     "execution_count": 92,
     "metadata": {},
     "output_type": "execute_result"
    }
   ],
   "source": [
    "df.ShopName.unique()"
   ]
  },
  {
   "cell_type": "code",
   "execution_count": 93,
   "id": "a81d67bc",
   "metadata": {},
   "outputs": [],
   "source": [
    "gelati=df[df.ProductSizeName=='5-Layer Gelati']"
   ]
  },
  {
   "cell_type": "code",
   "execution_count": 94,
   "id": "ac074ae2",
   "metadata": {},
   "outputs": [],
   "source": [
    "gelati=gelati[(gelati.StartDate>='2022-06-06')&(gelati.EndDate<='2022-07-03')]\n",
    "gelati=round(gelati.pivot_table(index=['ShopID','ShopName'],columns='Week',values=['SalesMny','SalesQty'], aggfunc='sum',fill_value=0),2).reset_index()"
   ]
  },
  {
   "cell_type": "code",
   "execution_count": 95,
   "id": "7fb9f373",
   "metadata": {},
   "outputs": [],
   "source": [
    "ice=df[(df.ProductTypeName=='Italian Ice')&(df.StartDate>='2022-07-10')&(df.EndDate<='2022-08-06')]\n",
    "ice=round(ice.pivot_table(index=['ShopID','ShopName'],columns='Week',values=['SalesMny','SalesQty'],aggfunc='sum',fill_value=0),2).reset_index()"
   ]
  },
  {
   "cell_type": "code",
   "execution_count": 96,
   "id": "c3ef91b9",
   "metadata": {},
   "outputs": [],
   "source": [
    "frozen_bev=df[(df.ProductTypeName=='Frozen Drinks')&(df.StartDate>='2022-04-18')&(df.EndDate<='2022-05-15')]\n",
    "frozen_bev1=df[(df.ProductTypeName=='Frozen Drinks')&(df.StartDate>='2022-08-07')&(df.EndDate<='2022-09-11')]"
   ]
  },
  {
   "cell_type": "code",
   "execution_count": 97,
   "id": "38248dfc",
   "metadata": {},
   "outputs": [],
   "source": [
    "all_bev=pd.concat([frozen_bev,frozen_bev1])"
   ]
  },
  {
   "cell_type": "code",
   "execution_count": 98,
   "id": "9c1a2026",
   "metadata": {},
   "outputs": [],
   "source": [
    "all_bev=round(all_bev.pivot_table(index=['ShopID','ShopName'],columns='Week',values=['SalesMny','SalesQty'],aggfunc='sum',fill_value=0),2).reset_index()"
   ]
  },
  {
   "cell_type": "code",
   "execution_count": 102,
   "id": "ea2046eb",
   "metadata": {},
   "outputs": [],
   "source": [
    "os.chdir(r'L:\\J.Harned\\Marketing\\Carolina')\n",
    "writer=pd.ExcelWriter('Carolina Data.xlsx')\n",
    "all_bev.to_excel(writer, sheet_name='Frozen_Beverage')\n",
    "ice.to_excel(writer, sheet_name='Italian Ice')\n",
    "gelati.to_excel(writer, sheet_name='Gelati')\n",
    "writer.close()\n",
    "writer.save()"
   ]
  },
  {
   "cell_type": "code",
   "execution_count": 10,
   "id": "f89ebc6e",
   "metadata": {},
   "outputs": [
    {
     "data": {
      "text/html": [
       "<div>\n",
       "<style scoped>\n",
       "    .dataframe tbody tr th:only-of-type {\n",
       "        vertical-align: middle;\n",
       "    }\n",
       "\n",
       "    .dataframe tbody tr th {\n",
       "        vertical-align: top;\n",
       "    }\n",
       "\n",
       "    .dataframe thead th {\n",
       "        text-align: right;\n",
       "    }\n",
       "</style>\n",
       "<table border=\"1\" class=\"dataframe\">\n",
       "  <thead>\n",
       "    <tr style=\"text-align: right;\">\n",
       "      <th></th>\n",
       "      <th>ShopID</th>\n",
       "      <th>ShopName</th>\n",
       "      <th>SalesMny</th>\n",
       "    </tr>\n",
       "  </thead>\n",
       "  <tbody>\n",
       "    <tr>\n",
       "      <th>0</th>\n",
       "      <td>26</td>\n",
       "      <td>Hilton Head</td>\n",
       "      <td>223944.1971</td>\n",
       "    </tr>\n",
       "    <tr>\n",
       "      <th>1</th>\n",
       "      <td>628</td>\n",
       "      <td>804 2nd Loop Rd-Florence SC</td>\n",
       "      <td>110365.5300</td>\n",
       "    </tr>\n",
       "    <tr>\n",
       "      <th>2</th>\n",
       "      <td>681</td>\n",
       "      <td>The Arbors</td>\n",
       "      <td>249347.8649</td>\n",
       "    </tr>\n",
       "    <tr>\n",
       "      <th>3</th>\n",
       "      <td>711</td>\n",
       "      <td>Ballantyne</td>\n",
       "      <td>173785.1445</td>\n",
       "    </tr>\n",
       "    <tr>\n",
       "      <th>4</th>\n",
       "      <td>714</td>\n",
       "      <td>Plaza Shopping Center</td>\n",
       "      <td>134040.4071</td>\n",
       "    </tr>\n",
       "    <tr>\n",
       "      <th>5</th>\n",
       "      <td>843</td>\n",
       "      <td>Greenville SC</td>\n",
       "      <td>102647.9585</td>\n",
       "    </tr>\n",
       "    <tr>\n",
       "      <th>6</th>\n",
       "      <td>940</td>\n",
       "      <td>Ritas in the Vista</td>\n",
       "      <td>113378.0630</td>\n",
       "    </tr>\n",
       "    <tr>\n",
       "      <th>7</th>\n",
       "      <td>1053</td>\n",
       "      <td>Asheville</td>\n",
       "      <td>51612.2971</td>\n",
       "    </tr>\n",
       "    <tr>\n",
       "      <th>8</th>\n",
       "      <td>1410</td>\n",
       "      <td>Fort Mill</td>\n",
       "      <td>67254.2330</td>\n",
       "    </tr>\n",
       "    <tr>\n",
       "      <th>9</th>\n",
       "      <td>1427</td>\n",
       "      <td>1806 Rozzelles Ferry Rd-Charlotte NC</td>\n",
       "      <td>99503.4022</td>\n",
       "    </tr>\n",
       "    <tr>\n",
       "      <th>10</th>\n",
       "      <td>10026</td>\n",
       "      <td>1 N. Forest Beach-Hilton Head SC</td>\n",
       "      <td>224745.1174</td>\n",
       "    </tr>\n",
       "  </tbody>\n",
       "</table>\n",
       "</div>"
      ],
      "text/plain": [
       "    ShopID                              ShopName     SalesMny\n",
       "0       26                           Hilton Head  223944.1971\n",
       "1      628           804 2nd Loop Rd-Florence SC  110365.5300\n",
       "2      681                           The Arbors   249347.8649\n",
       "3      711                            Ballantyne  173785.1445\n",
       "4      714                 Plaza Shopping Center  134040.4071\n",
       "5      843                         Greenville SC  102647.9585\n",
       "6      940                    Ritas in the Vista  113378.0630\n",
       "7     1053                             Asheville   51612.2971\n",
       "8     1410                             Fort Mill   67254.2330\n",
       "9     1427  1806 Rozzelles Ferry Rd-Charlotte NC   99503.4022\n",
       "10   10026      1 N. Forest Beach-Hilton Head SC  224745.1174"
      ]
     },
     "execution_count": 10,
     "metadata": {},
     "output_type": "execute_result"
    }
   ],
   "source": [
    "df[(df.State.isin(carolinas))&(df.Week>=9)&(df.Week<=27)].groupby(['ShopID','ShopName'])['SalesMny'].sum().reset_index()"
   ]
  },
  {
   "cell_type": "code",
   "execution_count": 11,
   "id": "1702edc6",
   "metadata": {},
   "outputs": [
    {
     "data": {
      "text/html": [
       "<div>\n",
       "<style scoped>\n",
       "    .dataframe tbody tr th:only-of-type {\n",
       "        vertical-align: middle;\n",
       "    }\n",
       "\n",
       "    .dataframe tbody tr th {\n",
       "        vertical-align: top;\n",
       "    }\n",
       "\n",
       "    .dataframe thead th {\n",
       "        text-align: right;\n",
       "    }\n",
       "</style>\n",
       "<table border=\"1\" class=\"dataframe\">\n",
       "  <thead>\n",
       "    <tr style=\"text-align: right;\">\n",
       "      <th></th>\n",
       "      <th>ShopID</th>\n",
       "      <th>ShopName</th>\n",
       "      <th>SalesMny</th>\n",
       "    </tr>\n",
       "  </thead>\n",
       "  <tbody>\n",
       "    <tr>\n",
       "      <th>0</th>\n",
       "      <td>26</td>\n",
       "      <td>Hilton Head</td>\n",
       "      <td>303760.6876</td>\n",
       "    </tr>\n",
       "    <tr>\n",
       "      <th>1</th>\n",
       "      <td>628</td>\n",
       "      <td>804 2nd Loop Rd-Florence SC</td>\n",
       "      <td>133114.5300</td>\n",
       "    </tr>\n",
       "    <tr>\n",
       "      <th>2</th>\n",
       "      <td>681</td>\n",
       "      <td>The Arbors</td>\n",
       "      <td>304994.0779</td>\n",
       "    </tr>\n",
       "    <tr>\n",
       "      <th>3</th>\n",
       "      <td>711</td>\n",
       "      <td>Ballantyne</td>\n",
       "      <td>215889.6270</td>\n",
       "    </tr>\n",
       "    <tr>\n",
       "      <th>4</th>\n",
       "      <td>714</td>\n",
       "      <td>Plaza Shopping Center</td>\n",
       "      <td>165845.2121</td>\n",
       "    </tr>\n",
       "    <tr>\n",
       "      <th>5</th>\n",
       "      <td>843</td>\n",
       "      <td>Greenville SC</td>\n",
       "      <td>124997.8895</td>\n",
       "    </tr>\n",
       "    <tr>\n",
       "      <th>6</th>\n",
       "      <td>940</td>\n",
       "      <td>Ritas in the Vista</td>\n",
       "      <td>137679.8230</td>\n",
       "    </tr>\n",
       "    <tr>\n",
       "      <th>7</th>\n",
       "      <td>1053</td>\n",
       "      <td>Asheville</td>\n",
       "      <td>60942.3356</td>\n",
       "    </tr>\n",
       "    <tr>\n",
       "      <th>8</th>\n",
       "      <td>1410</td>\n",
       "      <td>Fort Mill</td>\n",
       "      <td>81874.6210</td>\n",
       "    </tr>\n",
       "    <tr>\n",
       "      <th>9</th>\n",
       "      <td>1427</td>\n",
       "      <td>1806 Rozzelles Ferry Rd-Charlotte NC</td>\n",
       "      <td>122987.2348</td>\n",
       "    </tr>\n",
       "    <tr>\n",
       "      <th>10</th>\n",
       "      <td>10026</td>\n",
       "      <td>1 N. Forest Beach-Hilton Head SC</td>\n",
       "      <td>301430.9974</td>\n",
       "    </tr>\n",
       "  </tbody>\n",
       "</table>\n",
       "</div>"
      ],
      "text/plain": [
       "    ShopID                              ShopName     SalesMny\n",
       "0       26                           Hilton Head  303760.6876\n",
       "1      628           804 2nd Loop Rd-Florence SC  133114.5300\n",
       "2      681                           The Arbors   304994.0779\n",
       "3      711                            Ballantyne  215889.6270\n",
       "4      714                 Plaza Shopping Center  165845.2121\n",
       "5      843                         Greenville SC  124997.8895\n",
       "6      940                    Ritas in the Vista  137679.8230\n",
       "7     1053                             Asheville   60942.3356\n",
       "8     1410                             Fort Mill   81874.6210\n",
       "9     1427  1806 Rozzelles Ferry Rd-Charlotte NC  122987.2348\n",
       "10   10026      1 N. Forest Beach-Hilton Head SC  301430.9974"
      ]
     },
     "execution_count": 11,
     "metadata": {},
     "output_type": "execute_result"
    }
   ],
   "source": [
    "df[(df.State.isin(carolinas))&(df.Week>=9)&(df.Week<=31)].groupby(['ShopID','ShopName'])['SalesMny'].sum().reset_index()"
   ]
  },
  {
   "cell_type": "code",
   "execution_count": 12,
   "id": "849a4948",
   "metadata": {},
   "outputs": [
    {
     "name": "stderr",
     "output_type": "stream",
     "text": [
      "C:\\Users\\jharned\\Anaconda3\\lib\\site-packages\\xlsxwriter\\workbook.py:339: UserWarning: Calling close() on already closed file.\n",
      "  warn(\"Calling close() on already closed file.\")\n"
     ]
    }
   ],
   "source": [
    "os.chdir(r'L:\\J.Harned\\Marketing\\Carolina')\n",
    "writer=pd.ExcelWriter('Carolina Sales.xlsx')\n",
    "df[(df.State.isin(carolinas))&(df.Week>=9)&(df.Week<=27)].groupby(['ShopID','ShopName'])['SalesMny'].sum().reset_index().to_excel(writer,sheet_name='Week 9-27',index=False)\n",
    "df[(df.State.isin(carolinas))&(df.Week>=9)&(df.Week<=31)].groupby(['ShopID','ShopName'])['SalesMny'].sum().reset_index().to_excel(writer,sheet_name='Week 9-31',index=False)\n",
    "writer.save()\n",
    "writer.close()"
   ]
  },
  {
   "cell_type": "code",
   "execution_count": null,
   "id": "0b2ec3b9",
   "metadata": {},
   "outputs": [],
   "source": []
  }
 ],
 "metadata": {
  "kernelspec": {
   "display_name": "Python 3 (ipykernel)",
   "language": "python",
   "name": "python3"
  },
  "language_info": {
   "codemirror_mode": {
    "name": "ipython",
    "version": 3
   },
   "file_extension": ".py",
   "mimetype": "text/x-python",
   "name": "python",
   "nbconvert_exporter": "python",
   "pygments_lexer": "ipython3",
   "version": "3.9.12"
  }
 },
 "nbformat": 4,
 "nbformat_minor": 5
}
