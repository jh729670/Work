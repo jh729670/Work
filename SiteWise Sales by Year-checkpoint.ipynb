{
 "cells": [
  {
   "cell_type": "code",
   "execution_count": 1,
   "id": "26851a78",
   "metadata": {},
   "outputs": [],
   "source": [
    "import pandas as pd\n",
    "import datetime as dt\n",
    "import pyodbc as odbc\n",
    "import os\n",
    "import numpy as np"
   ]
  },
  {
   "cell_type": "code",
   "execution_count": 2,
   "id": "622f065e",
   "metadata": {},
   "outputs": [],
   "source": [
    "# Names the needed driver, server name, and database\n",
    "driver_name='SQL Server'\n",
    "server_name='10.0.1.218'\n",
    "database='ritascoolnet_live'"
   ]
  },
  {
   "cell_type": "code",
   "execution_count": 3,
   "id": "e975f771",
   "metadata": {},
   "outputs": [],
   "source": [
    "#Creates the connection string\n",
    "connection_string=f\"\"\"\n",
    "DRIVER={{{driver_name}}};\n",
    "SERVER={server_name};\n",
    "DATABASE={database};\n",
    "Trust_Connection=yes\"\"\""
   ]
  },
  {
   "cell_type": "code",
   "execution_count": 4,
   "id": "ff8e52da",
   "metadata": {},
   "outputs": [
    {
     "name": "stdout",
     "output_type": "stream",
     "text": [
      "<pyodbc.Connection object at 0x000002B428821850>\n"
     ]
    }
   ],
   "source": [
    "#Creates the Connection to SQL Server\n",
    "connection=odbc.connect(connection_string)\n",
    "print(connection)"
   ]
  },
  {
   "cell_type": "code",
   "execution_count": 5,
   "id": "5bd449c3",
   "metadata": {},
   "outputs": [
    {
     "name": "stderr",
     "output_type": "stream",
     "text": [
      "C:\\Users\\jharned\\Anaconda3\\lib\\site-packages\\pandas\\io\\sql.py:761: UserWarning: pandas only support SQLAlchemy connectable(engine/connection) ordatabase string URI or sqlite3 DBAPI2 connectionother DBAPI2 objects are not tested, please consider using SQLAlchemy\n",
      "  warnings.warn(\n",
      "C:\\Users\\jharned\\Anaconda3\\lib\\site-packages\\pandas\\io\\sql.py:761: UserWarning: pandas only support SQLAlchemy connectable(engine/connection) ordatabase string URI or sqlite3 DBAPI2 connectionother DBAPI2 objects are not tested, please consider using SQLAlchemy\n",
      "  warnings.warn(\n",
      "C:\\Users\\jharned\\Anaconda3\\lib\\site-packages\\pandas\\io\\sql.py:761: UserWarning: pandas only support SQLAlchemy connectable(engine/connection) ordatabase string URI or sqlite3 DBAPI2 connectionother DBAPI2 objects are not tested, please consider using SQLAlchemy\n",
      "  warnings.warn(\n"
     ]
    }
   ],
   "source": [
    "# Queries the tables from SQL\n",
    "# Reads in the Weekly Sales in 2023\n",
    "sales23=pd.read_sql_query('''SELECT *\n",
    "  FROM [ritas_bi].[dbo].[tmp_raw_plda]\n",
    "  WHERE YEAR(StartDate)=2023\n",
    "  ORDER BY Week DESC''',connection)\n",
    "# Reads in the Weekly Sales in 2022\n",
    "sales22=pd.read_sql_query('''SELECT *\n",
    "  FROM [ritas_bi].[dbo].[tmp_raw_plda]\n",
    "  WHERE YEAR(StartDate)=2022''',connection)\n",
    "# Reads in Weekly Sales in 2021\n",
    "sales21=pd.read_sql_query('''SELECT *\n",
    "  FROM [ritas_bi].[dbo].[tmp_raw_pldb]\n",
    "  WHERE YEAR(StartDate)=2021''',connection)"
   ]
  },
  {
   "cell_type": "code",
   "execution_count": 7,
   "id": "e4895026",
   "metadata": {},
   "outputs": [
    {
     "data": {
      "text/plain": [
       "145273025.97809997"
      ]
     },
     "execution_count": 7,
     "metadata": {},
     "output_type": "execute_result"
    }
   ],
   "source": [
    "sales21.SalesMny.sum()"
   ]
  },
  {
   "cell_type": "code",
   "execution_count": 8,
   "id": "5c002fb8",
   "metadata": {},
   "outputs": [],
   "source": [
    "#Creates RitasID that we can use to combine Mobile and Satellite Shops sales to their Parent Shop\n",
    "# sales21['RitasID']=sales21.ShopID.astype('str')\n",
    "# sales21['RitasID']=sales21['RitasID'].str[-4:]\n",
    "# sales21['RitasID']=sales21['RitasID'].astype('int')\n",
    "#sorted(sales.RitasID.unique())"
   ]
  },
  {
   "cell_type": "code",
   "execution_count": 9,
   "id": "c2267a0f",
   "metadata": {},
   "outputs": [],
   "source": [
    "#Creates RitasID that we can use to combine Mobile and Satellite Shops sales to their Parent Shop\n",
    "# sales22['RitasID']=sales22.ShopID.astype('str')\n",
    "# sales22['RitasID']=sales22['RitasID'].str[-4:]\n",
    "# sales22['RitasID']=sales22['RitasID'].astype('int')\n",
    "#sorted(sales.RitasID.unique())"
   ]
  },
  {
   "cell_type": "code",
   "execution_count": 10,
   "id": "392d5f78",
   "metadata": {},
   "outputs": [],
   "source": [
    "#Creates RitasID that we can use to combine Mobile and Satellite Shops sales to their Parent Shop\n",
    "# sales23['RitasID']=sales23.ShopID.astype('str')\n",
    "# sales23['RitasID']=sales23['RitasID'].str[-4:]\n",
    "# sales23['RitasID']=sales23['RitasID'].astype('int')\n",
    "# #sorted(sales.RitasID.unique())"
   ]
  },
  {
   "cell_type": "code",
   "execution_count": 6,
   "id": "d2fa2a79",
   "metadata": {},
   "outputs": [
    {
     "data": {
      "text/plain": [
       "157572192.98650002"
      ]
     },
     "execution_count": 6,
     "metadata": {},
     "output_type": "execute_result"
    }
   ],
   "source": [
    "sales22.SalesMny.sum()"
   ]
  },
  {
   "cell_type": "code",
   "execution_count": 8,
   "id": "56fd029d",
   "metadata": {},
   "outputs": [
    {
     "data": {
      "text/plain": [
       "145273025.9781"
      ]
     },
     "execution_count": 8,
     "metadata": {},
     "output_type": "execute_result"
    }
   ],
   "source": [
    "sales21.SalesMny.sum()"
   ]
  },
  {
   "cell_type": "code",
   "execution_count": 24,
   "id": "a7b82440",
   "metadata": {},
   "outputs": [],
   "source": [
    "group_21=sales21[sales21.ShopID<10000].groupby('ShopID')[['SalesMny','Week']].agg({\n",
    "    'SalesMny':'sum',\n",
    "    'Week':['max','min','nunique']\n",
    "})\n",
    "group_21['Weeks_Open']=group_21.iloc[:,1]-group_21.iloc[:,2]+1"
   ]
  },
  {
   "cell_type": "code",
   "execution_count": 25,
   "id": "84dbd692",
   "metadata": {},
   "outputs": [
    {
     "data": {
      "text/html": [
       "<div>\n",
       "<style scoped>\n",
       "    .dataframe tbody tr th:only-of-type {\n",
       "        vertical-align: middle;\n",
       "    }\n",
       "\n",
       "    .dataframe tbody tr th {\n",
       "        vertical-align: top;\n",
       "    }\n",
       "\n",
       "    .dataframe thead tr th {\n",
       "        text-align: left;\n",
       "    }\n",
       "\n",
       "    .dataframe thead tr:last-of-type th {\n",
       "        text-align: right;\n",
       "    }\n",
       "</style>\n",
       "<table border=\"1\" class=\"dataframe\">\n",
       "  <thead>\n",
       "    <tr>\n",
       "      <th></th>\n",
       "      <th>SalesMny</th>\n",
       "      <th colspan=\"3\" halign=\"left\">Week</th>\n",
       "      <th>Weeks_Open</th>\n",
       "    </tr>\n",
       "    <tr>\n",
       "      <th></th>\n",
       "      <th>sum</th>\n",
       "      <th>max</th>\n",
       "      <th>min</th>\n",
       "      <th>nunique</th>\n",
       "      <th></th>\n",
       "    </tr>\n",
       "    <tr>\n",
       "      <th>ShopID</th>\n",
       "      <th></th>\n",
       "      <th></th>\n",
       "      <th></th>\n",
       "      <th></th>\n",
       "      <th></th>\n",
       "    </tr>\n",
       "  </thead>\n",
       "  <tbody>\n",
       "    <tr>\n",
       "      <th>1</th>\n",
       "      <td>334092.8000</td>\n",
       "      <td>38</td>\n",
       "      <td>8</td>\n",
       "      <td>31</td>\n",
       "      <td>31</td>\n",
       "    </tr>\n",
       "    <tr>\n",
       "      <th>2</th>\n",
       "      <td>406201.2300</td>\n",
       "      <td>41</td>\n",
       "      <td>8</td>\n",
       "      <td>34</td>\n",
       "      <td>34</td>\n",
       "    </tr>\n",
       "    <tr>\n",
       "      <th>3</th>\n",
       "      <td>251030.7285</td>\n",
       "      <td>39</td>\n",
       "      <td>9</td>\n",
       "      <td>31</td>\n",
       "      <td>31</td>\n",
       "    </tr>\n",
       "    <tr>\n",
       "      <th>4</th>\n",
       "      <td>236673.6300</td>\n",
       "      <td>39</td>\n",
       "      <td>8</td>\n",
       "      <td>32</td>\n",
       "      <td>32</td>\n",
       "    </tr>\n",
       "    <tr>\n",
       "      <th>6</th>\n",
       "      <td>335120.4884</td>\n",
       "      <td>41</td>\n",
       "      <td>8</td>\n",
       "      <td>34</td>\n",
       "      <td>34</td>\n",
       "    </tr>\n",
       "    <tr>\n",
       "      <th>...</th>\n",
       "      <td>...</td>\n",
       "      <td>...</td>\n",
       "      <td>...</td>\n",
       "      <td>...</td>\n",
       "      <td>...</td>\n",
       "    </tr>\n",
       "    <tr>\n",
       "      <th>1448</th>\n",
       "      <td>91480.8325</td>\n",
       "      <td>52</td>\n",
       "      <td>26</td>\n",
       "      <td>27</td>\n",
       "      <td>27</td>\n",
       "    </tr>\n",
       "    <tr>\n",
       "      <th>1450</th>\n",
       "      <td>262025.3055</td>\n",
       "      <td>52</td>\n",
       "      <td>8</td>\n",
       "      <td>45</td>\n",
       "      <td>45</td>\n",
       "    </tr>\n",
       "    <tr>\n",
       "      <th>1451</th>\n",
       "      <td>250358.4180</td>\n",
       "      <td>52</td>\n",
       "      <td>1</td>\n",
       "      <td>52</td>\n",
       "      <td>52</td>\n",
       "    </tr>\n",
       "    <tr>\n",
       "      <th>1453</th>\n",
       "      <td>45101.6460</td>\n",
       "      <td>52</td>\n",
       "      <td>39</td>\n",
       "      <td>14</td>\n",
       "      <td>14</td>\n",
       "    </tr>\n",
       "    <tr>\n",
       "      <th>1462</th>\n",
       "      <td>109.7300</td>\n",
       "      <td>47</td>\n",
       "      <td>46</td>\n",
       "      <td>2</td>\n",
       "      <td>2</td>\n",
       "    </tr>\n",
       "  </tbody>\n",
       "</table>\n",
       "<p>524 rows × 5 columns</p>\n",
       "</div>"
      ],
      "text/plain": [
       "           SalesMny Week             Weeks_Open\n",
       "                sum  max min nunique           \n",
       "ShopID                                         \n",
       "1       334092.8000   38   8      31         31\n",
       "2       406201.2300   41   8      34         34\n",
       "3       251030.7285   39   9      31         31\n",
       "4       236673.6300   39   8      32         32\n",
       "6       335120.4884   41   8      34         34\n",
       "...             ...  ...  ..     ...        ...\n",
       "1448     91480.8325   52  26      27         27\n",
       "1450    262025.3055   52   8      45         45\n",
       "1451    250358.4180   52   1      52         52\n",
       "1453     45101.6460   52  39      14         14\n",
       "1462       109.7300   47  46       2          2\n",
       "\n",
       "[524 rows x 5 columns]"
      ]
     },
     "execution_count": 25,
     "metadata": {},
     "output_type": "execute_result"
    }
   ],
   "source": [
    "group_21"
   ]
  },
  {
   "cell_type": "code",
   "execution_count": 26,
   "id": "95e91551",
   "metadata": {},
   "outputs": [],
   "source": [
    "group_22=sales22[sales22.ShopID<10000].groupby('ShopID')[['SalesMny','Week']].agg({\n",
    "    'SalesMny':'sum',\n",
    "    'Week':['max','min','nunique']\n",
    "})\n",
    "group_22['Weeks_Open']=group_22.iloc[:,1]-group_22.iloc[:,2]+1"
   ]
  },
  {
   "cell_type": "code",
   "execution_count": 27,
   "id": "c3a1491d",
   "metadata": {},
   "outputs": [
    {
     "data": {
      "text/html": [
       "<div>\n",
       "<style scoped>\n",
       "    .dataframe tbody tr th:only-of-type {\n",
       "        vertical-align: middle;\n",
       "    }\n",
       "\n",
       "    .dataframe tbody tr th {\n",
       "        vertical-align: top;\n",
       "    }\n",
       "\n",
       "    .dataframe thead tr th {\n",
       "        text-align: left;\n",
       "    }\n",
       "\n",
       "    .dataframe thead tr:last-of-type th {\n",
       "        text-align: right;\n",
       "    }\n",
       "</style>\n",
       "<table border=\"1\" class=\"dataframe\">\n",
       "  <thead>\n",
       "    <tr>\n",
       "      <th></th>\n",
       "      <th>SalesMny</th>\n",
       "      <th colspan=\"3\" halign=\"left\">Week</th>\n",
       "      <th>Weeks_Open</th>\n",
       "    </tr>\n",
       "    <tr>\n",
       "      <th></th>\n",
       "      <th>sum</th>\n",
       "      <th>max</th>\n",
       "      <th>min</th>\n",
       "      <th>nunique</th>\n",
       "      <th></th>\n",
       "    </tr>\n",
       "    <tr>\n",
       "      <th>ShopID</th>\n",
       "      <th></th>\n",
       "      <th></th>\n",
       "      <th></th>\n",
       "      <th></th>\n",
       "      <th></th>\n",
       "    </tr>\n",
       "  </thead>\n",
       "  <tbody>\n",
       "    <tr>\n",
       "      <th>1</th>\n",
       "      <td>372821.1790</td>\n",
       "      <td>43</td>\n",
       "      <td>8</td>\n",
       "      <td>33</td>\n",
       "      <td>36</td>\n",
       "    </tr>\n",
       "    <tr>\n",
       "      <th>2</th>\n",
       "      <td>499034.9450</td>\n",
       "      <td>41</td>\n",
       "      <td>9</td>\n",
       "      <td>33</td>\n",
       "      <td>33</td>\n",
       "    </tr>\n",
       "    <tr>\n",
       "      <th>3</th>\n",
       "      <td>256647.8307</td>\n",
       "      <td>39</td>\n",
       "      <td>6</td>\n",
       "      <td>33</td>\n",
       "      <td>34</td>\n",
       "    </tr>\n",
       "    <tr>\n",
       "      <th>4</th>\n",
       "      <td>263541.0212</td>\n",
       "      <td>39</td>\n",
       "      <td>8</td>\n",
       "      <td>32</td>\n",
       "      <td>32</td>\n",
       "    </tr>\n",
       "    <tr>\n",
       "      <th>6</th>\n",
       "      <td>378659.3401</td>\n",
       "      <td>41</td>\n",
       "      <td>8</td>\n",
       "      <td>34</td>\n",
       "      <td>34</td>\n",
       "    </tr>\n",
       "    <tr>\n",
       "      <th>...</th>\n",
       "      <td>...</td>\n",
       "      <td>...</td>\n",
       "      <td>...</td>\n",
       "      <td>...</td>\n",
       "      <td>...</td>\n",
       "    </tr>\n",
       "    <tr>\n",
       "      <th>1476</th>\n",
       "      <td>142824.8085</td>\n",
       "      <td>45</td>\n",
       "      <td>25</td>\n",
       "      <td>21</td>\n",
       "      <td>21</td>\n",
       "    </tr>\n",
       "    <tr>\n",
       "      <th>1478</th>\n",
       "      <td>180693.1500</td>\n",
       "      <td>52</td>\n",
       "      <td>11</td>\n",
       "      <td>42</td>\n",
       "      <td>42</td>\n",
       "    </tr>\n",
       "    <tr>\n",
       "      <th>1479</th>\n",
       "      <td>44901.2958</td>\n",
       "      <td>49</td>\n",
       "      <td>40</td>\n",
       "      <td>10</td>\n",
       "      <td>10</td>\n",
       "    </tr>\n",
       "    <tr>\n",
       "      <th>1482</th>\n",
       "      <td>220384.3307</td>\n",
       "      <td>50</td>\n",
       "      <td>30</td>\n",
       "      <td>21</td>\n",
       "      <td>21</td>\n",
       "    </tr>\n",
       "    <tr>\n",
       "      <th>1492</th>\n",
       "      <td>273491.6000</td>\n",
       "      <td>38</td>\n",
       "      <td>15</td>\n",
       "      <td>15</td>\n",
       "      <td>24</td>\n",
       "    </tr>\n",
       "  </tbody>\n",
       "</table>\n",
       "<p>528 rows × 5 columns</p>\n",
       "</div>"
      ],
      "text/plain": [
       "           SalesMny Week             Weeks_Open\n",
       "                sum  max min nunique           \n",
       "ShopID                                         \n",
       "1       372821.1790   43   8      33         36\n",
       "2       499034.9450   41   9      33         33\n",
       "3       256647.8307   39   6      33         34\n",
       "4       263541.0212   39   8      32         32\n",
       "6       378659.3401   41   8      34         34\n",
       "...             ...  ...  ..     ...        ...\n",
       "1476    142824.8085   45  25      21         21\n",
       "1478    180693.1500   52  11      42         42\n",
       "1479     44901.2958   49  40      10         10\n",
       "1482    220384.3307   50  30      21         21\n",
       "1492    273491.6000   38  15      15         24\n",
       "\n",
       "[528 rows x 5 columns]"
      ]
     },
     "execution_count": 27,
     "metadata": {},
     "output_type": "execute_result"
    }
   ],
   "source": [
    "group_22"
   ]
  },
  {
   "cell_type": "code",
   "execution_count": 13,
   "id": "454126c2",
   "metadata": {},
   "outputs": [
    {
     "data": {
      "text/html": [
       "<div>\n",
       "<style scoped>\n",
       "    .dataframe tbody tr th:only-of-type {\n",
       "        vertical-align: middle;\n",
       "    }\n",
       "\n",
       "    .dataframe tbody tr th {\n",
       "        vertical-align: top;\n",
       "    }\n",
       "\n",
       "    .dataframe thead th {\n",
       "        text-align: right;\n",
       "    }\n",
       "</style>\n",
       "<table border=\"1\" class=\"dataframe\">\n",
       "  <thead>\n",
       "    <tr style=\"text-align: right;\">\n",
       "      <th></th>\n",
       "      <th>ShopID</th>\n",
       "      <th>ShopName</th>\n",
       "      <th>Week</th>\n",
       "      <th>SalesMny</th>\n",
       "    </tr>\n",
       "  </thead>\n",
       "  <tbody>\n",
       "    <tr>\n",
       "      <th>0</th>\n",
       "      <td>1</td>\n",
       "      <td>Woodhaven</td>\n",
       "      <td>8</td>\n",
       "      <td>2.990</td>\n",
       "    </tr>\n",
       "    <tr>\n",
       "      <th>1</th>\n",
       "      <td>1</td>\n",
       "      <td>Woodhaven</td>\n",
       "      <td>9</td>\n",
       "      <td>6327.982</td>\n",
       "    </tr>\n",
       "    <tr>\n",
       "      <th>2</th>\n",
       "      <td>1</td>\n",
       "      <td>Woodhaven</td>\n",
       "      <td>10</td>\n",
       "      <td>6800.941</td>\n",
       "    </tr>\n",
       "    <tr>\n",
       "      <th>3</th>\n",
       "      <td>1</td>\n",
       "      <td>Woodhaven</td>\n",
       "      <td>11</td>\n",
       "      <td>8258.021</td>\n",
       "    </tr>\n",
       "    <tr>\n",
       "      <th>4</th>\n",
       "      <td>1</td>\n",
       "      <td>Woodhaven</td>\n",
       "      <td>12</td>\n",
       "      <td>17778.261</td>\n",
       "    </tr>\n",
       "    <tr>\n",
       "      <th>...</th>\n",
       "      <td>...</td>\n",
       "      <td>...</td>\n",
       "      <td>...</td>\n",
       "      <td>...</td>\n",
       "    </tr>\n",
       "    <tr>\n",
       "      <th>10487</th>\n",
       "      <td>30332</td>\n",
       "      <td>Blandon Mobile 1-2</td>\n",
       "      <td>23</td>\n",
       "      <td>848.500</td>\n",
       "    </tr>\n",
       "    <tr>\n",
       "      <th>10488</th>\n",
       "      <td>30332</td>\n",
       "      <td>Blandon Mobile 1-2</td>\n",
       "      <td>24</td>\n",
       "      <td>2614.500</td>\n",
       "    </tr>\n",
       "    <tr>\n",
       "      <th>10489</th>\n",
       "      <td>30332</td>\n",
       "      <td>Blandon Mobile 1-2</td>\n",
       "      <td>25</td>\n",
       "      <td>828.000</td>\n",
       "    </tr>\n",
       "    <tr>\n",
       "      <th>10490</th>\n",
       "      <td>31360</td>\n",
       "      <td>1 Lincoln Financial Way-Phila PA</td>\n",
       "      <td>19</td>\n",
       "      <td>16674.500</td>\n",
       "    </tr>\n",
       "    <tr>\n",
       "      <th>10491</th>\n",
       "      <td>31360</td>\n",
       "      <td>1 Lincoln Financial Way-Phila PA</td>\n",
       "      <td>21</td>\n",
       "      <td>80115.000</td>\n",
       "    </tr>\n",
       "  </tbody>\n",
       "</table>\n",
       "<p>10492 rows × 4 columns</p>\n",
       "</div>"
      ],
      "text/plain": [
       "       ShopID                          ShopName  Week   SalesMny\n",
       "0           1                         Woodhaven     8      2.990\n",
       "1           1                         Woodhaven     9   6327.982\n",
       "2           1                         Woodhaven    10   6800.941\n",
       "3           1                         Woodhaven    11   8258.021\n",
       "4           1                         Woodhaven    12  17778.261\n",
       "...       ...                               ...   ...        ...\n",
       "10487   30332                Blandon Mobile 1-2    23    848.500\n",
       "10488   30332                Blandon Mobile 1-2    24   2614.500\n",
       "10489   30332                Blandon Mobile 1-2    25    828.000\n",
       "10490   31360  1 Lincoln Financial Way-Phila PA    19  16674.500\n",
       "10491   31360  1 Lincoln Financial Way-Phila PA    21  80115.000\n",
       "\n",
       "[10492 rows x 4 columns]"
      ]
     },
     "execution_count": 13,
     "metadata": {},
     "output_type": "execute_result"
    }
   ],
   "source": [
    "sales23.groupby(['ShopID','ShopName','Week'])['SalesMny'].sum().reset_index()"
   ]
  },
  {
   "cell_type": "code",
   "execution_count": null,
   "id": "8a3466f6",
   "metadata": {},
   "outputs": [],
   "source": []
  },
  {
   "cell_type": "code",
   "execution_count": 18,
   "id": "14d33abe",
   "metadata": {},
   "outputs": [],
   "source": [
    "os.chdir(r'G:\\FinanceReports\\2023')\n",
    "# writer=pd.ExcelWriter('SiteWise Sales by Year.xlsx')\n",
    "# sales23.groupby(['RitasID','Week'])['SalesMny'].sum().reset_index().to_excel(writer, sheet_name='2023',index=False)\n",
    "# sales22.groupby(['RitasID','Week'])['SalesMny'].sum().reset_index().to_excel(writer, sheet_name='2022',index=False)\n",
    "# sales21.groupby(['RitasID','Week'])['SalesMny'].sum().reset_index().to_excel(writer, sheet_name='2021',index=False)\n",
    "# writer.save()\n",
    "# writer.close()"
   ]
  },
  {
   "cell_type": "code",
   "execution_count": 28,
   "id": "4463e9bc",
   "metadata": {},
   "outputs": [
    {
     "name": "stderr",
     "output_type": "stream",
     "text": [
      "C:\\Users\\jharned\\Anaconda3\\lib\\site-packages\\xlsxwriter\\workbook.py:339: UserWarning: Calling close() on already closed file.\n",
      "  warn(\"Calling close() on already closed file.\")\n"
     ]
    }
   ],
   "source": [
    "writer2=pd.ExcelWriter('SiteWise Sales by Year v2.xlsx')\n",
    "group_21.to_excel(writer2, sheet_name='2021')\n",
    "group_22.to_excel(writer2, sheet_name='2022')\n",
    "writer2.save()\n",
    "writer2.close()"
   ]
  },
  {
   "cell_type": "code",
   "execution_count": null,
   "id": "39775cf5",
   "metadata": {},
   "outputs": [],
   "source": []
  }
 ],
 "metadata": {
  "kernelspec": {
   "display_name": "Python 3 (ipykernel)",
   "language": "python",
   "name": "python3"
  },
  "language_info": {
   "codemirror_mode": {
    "name": "ipython",
    "version": 3
   },
   "file_extension": ".py",
   "mimetype": "text/x-python",
   "name": "python",
   "nbconvert_exporter": "python",
   "pygments_lexer": "ipython3",
   "version": "3.9.12"
  }
 },
 "nbformat": 4,
 "nbformat_minor": 5
}
