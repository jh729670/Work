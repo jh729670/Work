{
 "cells": [
  {
   "cell_type": "markdown",
   "id": "09b6934e",
   "metadata": {},
   "source": [
    "# Royalty Regression\n",
    "## Prints out Excel Spreadsheets that will be pasted into Existing spreadsheet that will update \n",
    "## the new information\n",
    "### This should be done on a monthly basis (For Now)"
   ]
  },
  {
   "cell_type": "code",
   "execution_count": 1,
   "id": "3a12d064",
   "metadata": {},
   "outputs": [],
   "source": [
    "#Imports proper libraries\n",
    "import pandas as pd\n",
    "import numpy as np\n",
    "import matplotlib.pyplot as plt\n",
    "from sklearn.linear_model import LinearRegression\n",
    "import sklearn.metrics\n",
    "from sklearn.model_selection import train_test_split\n",
    "import statsmodels.api as sm\n",
    "import os\n",
    "import joblib\n",
    "import pyodbc as odbc"
   ]
  },
  {
   "cell_type": "code",
   "execution_count": 2,
   "id": "83daa331",
   "metadata": {},
   "outputs": [],
   "source": [
    "#changes the directory \n",
    "os.chdir(r'L:\\J.Harned\\Royalty\\Royalty Regression')\n",
    "invoice=pd.read_excel('2023 Invoice History.xlsx', sheet_name='2023 Details')# This gets us what the shops have ordered"
   ]
  },
  {
   "cell_type": "code",
   "execution_count": 3,
   "id": "d9fe4091",
   "metadata": {},
   "outputs": [],
   "source": [
    "os.chdir(r'G:\\FinanceReports\\2023\\Wk15')\n",
    "srs=pd.read_excel('2023-SRSsales-productLevel-wk15.xlsx', sheet_name='2023')# This gets us what the shops have sold"
   ]
  },
  {
   "cell_type": "code",
   "execution_count": 4,
   "id": "9d0b1d62",
   "metadata": {},
   "outputs": [],
   "source": [
    "#srs_2021=pd.read_excel('2022-SRSsales-productLevel-wk1-38.xlsx', sheet_name='2021')"
   ]
  },
  {
   "cell_type": "code",
   "execution_count": 5,
   "id": "8c918bcd",
   "metadata": {},
   "outputs": [
    {
     "data": {
      "text/plain": [
       "Timestamp('2023-04-21 00:00:00')"
      ]
     },
     "execution_count": 5,
     "metadata": {},
     "output_type": "execute_result"
    }
   ],
   "source": [
    "#Shows the last date of the invoice column. Invoice and Sales Should be as close to the same date as possible\n",
    "invoice.INVOICEDATE.max()"
   ]
  },
  {
   "cell_type": "code",
   "execution_count": 6,
   "id": "c7f8a6d8",
   "metadata": {},
   "outputs": [
    {
     "data": {
      "text/plain": [
       "Timestamp('2023-04-16 00:00:00')"
      ]
     },
     "execution_count": 6,
     "metadata": {},
     "output_type": "execute_result"
    }
   ],
   "source": [
    "srs.EndDate.max()"
   ]
  },
  {
   "cell_type": "code",
   "execution_count": 7,
   "id": "63c6f200",
   "metadata": {},
   "outputs": [
    {
     "data": {
      "text/plain": [
       "Index(['ShopID', 'intStoreID', 'ProductCode', 'ProdSizeCode', 'DiscountCode',\n",
       "       'Register', 'SalesQty', 'SalesMny', 'StartDate', 'EndDate', 'EditDate',\n",
       "       'Week', 'DataSource', 'ShopName', 'State', 'Region', 'ShopStatus',\n",
       "       'LegacyShopType', 'LegacyShopStatus', 'ProductTypeName',\n",
       "       'ProductSizeName', 'SpecialVenue', 'CoOpStatus', 'CoOpName',\n",
       "       'CoOpRate'],\n",
       "      dtype='object')"
      ]
     },
     "execution_count": 7,
     "metadata": {},
     "output_type": "execute_result"
    }
   ],
   "source": [
    "srs.columns"
   ]
  },
  {
   "cell_type": "code",
   "execution_count": 8,
   "id": "34eecb0f",
   "metadata": {},
   "outputs": [],
   "source": [
    "#Last date of invoices in file\n",
    "srs=srs[srs['EndDate']<='2023-04-16']"
   ]
  },
  {
   "cell_type": "code",
   "execution_count": 9,
   "id": "6bde5b62",
   "metadata": {},
   "outputs": [
    {
     "data": {
      "text/plain": [
       "(144624, 25)"
      ]
     },
     "execution_count": 9,
     "metadata": {},
     "output_type": "execute_result"
    }
   ],
   "source": [
    "srs.shape"
   ]
  },
  {
   "cell_type": "code",
   "execution_count": 10,
   "id": "7d52bdc9",
   "metadata": {},
   "outputs": [],
   "source": [
    "#Filters only dates from 9/18/22 and before\n",
    "invoice=invoice[invoice.INVOICEDATE<='2023-04-16']"
   ]
  },
  {
   "cell_type": "code",
   "execution_count": 11,
   "id": "ca15b98e",
   "metadata": {},
   "outputs": [],
   "source": [
    "#Renames columns\n",
    "invoice.rename(columns={'CUSTOMERNO':'ShopID'},inplace=True)"
   ]
  },
  {
   "cell_type": "code",
   "execution_count": 12,
   "id": "7e1f27d7",
   "metadata": {},
   "outputs": [],
   "source": [
    "#Gets month variable and creates a column for the numeric value of the month\n",
    "invoice['Month']=invoice.SHIPDATE.dt.month"
   ]
  },
  {
   "cell_type": "code",
   "execution_count": 13,
   "id": "18ea2406",
   "metadata": {},
   "outputs": [],
   "source": [
    "#Gets month variable and creates a column for the numeric value of the month\n",
    "srs['Month']=srs.StartDate.dt.month"
   ]
  },
  {
   "cell_type": "code",
   "execution_count": 14,
   "id": "7db25aac",
   "metadata": {},
   "outputs": [],
   "source": [
    "srs['ParentID']=srs.ShopID.astype('str')\n",
    "srs['ParentID']=srs.ParentID.str[-4:]\n",
    "srs['ParentID']=srs.ParentID.astype('int')"
   ]
  },
  {
   "cell_type": "code",
   "execution_count": 15,
   "id": "3d9af072",
   "metadata": {},
   "outputs": [
    {
     "data": {
      "text/plain": [
       "Index(['ShopID', 'CUSTOMERNAME', 'ADDRESSLINE1', 'ADDRESSLINE2',\n",
       "       'ADDRESSLINE3', 'City', 'STATE', 'ZIPCODE', 'INVOICENO', 'INVOICETYPE',\n",
       "       'SHIPDATE', 'INVOICEDATE', 'INVOICEDUEDATE', 'CUSTOMERPONO', 'ITEMCODE',\n",
       "       'ITEMCODEDESC', 'ITEMTYPE', 'QUANTITYSHIPPED', 'UNITPRICE',\n",
       "       'UDF_ADVERTISING_AMT', 'UDF_ROYALTY_AMT', 'UDF_STD_UNIT_PRICE',\n",
       "       'FREIGHTAMT', 'PRODUCTLINE', 'PRODUCTLINEDESC', 'BILLTOSTATE',\n",
       "       'ARDIVISIONNO', 'UDF_ROYALTY_METHOD', 'COMMENTTEXT', 'UDF_DISTRIBUTOR',\n",
       "       'Ext Base Cost', 'Ext Royalty', 'Ext Ad Fund', 'Month'],\n",
       "      dtype='object')"
      ]
     },
     "execution_count": 15,
     "metadata": {},
     "output_type": "execute_result"
    }
   ],
   "source": [
    "invoice.columns"
   ]
  },
  {
   "cell_type": "code",
   "execution_count": 16,
   "id": "1f50b782",
   "metadata": {},
   "outputs": [
    {
     "data": {
      "text/plain": [
       "array(['MIXES', 'MIXES - SUGARFREE', 'OTHER INGRED - AMBIENT',\n",
       "       'PAPER PRODUCTS', 'FUEL SURCHARGE', 'OTHER INGRED - REFRIG',\n",
       "       'CUSTARD', 'BOTTLED WATER', 'UNIFORMS', 'WAFFLE CONE',\n",
       "       'REPORTED ROYALTY', 'SMALL WARES', 'CLEANING/JANITOR SUPPLIES',\n",
       "       'SUGAR', 'PRETZELS', 'TABLET & SCANNERS', 'CUSTARD - KOSHER',\n",
       "       'CUSTARD CONE/CUP SETS', 'SALES ROYALTY', 'MISC ROYALTY/AD FUND'],\n",
       "      dtype=object)"
      ]
     },
     "execution_count": 16,
     "metadata": {},
     "output_type": "execute_result"
    }
   ],
   "source": [
    "invoice.PRODUCTLINEDESC.unique()"
   ]
  },
  {
   "cell_type": "code",
   "execution_count": 17,
   "id": "3eb2c933",
   "metadata": {},
   "outputs": [
    {
     "data": {
      "text/plain": [
       "(26871, 34)"
      ]
     },
     "execution_count": 17,
     "metadata": {},
     "output_type": "execute_result"
    }
   ],
   "source": [
    "#From Invoice only chooses Custard and Mix Products\n",
    "inv_royalty=invoice[(invoice.PRODUCTLINEDESC=='CUSTARD')|(invoice.PRODUCTLINEDESC=='MIXES')|(invoice.PRODUCTLINEDESC=='MIXES - SUGARFREE')|(invoice.PRODUCTLINEDESC=='CUSTARD - KOSHER')]\n",
    "inv_royalty.shape"
   ]
  },
  {
   "cell_type": "code",
   "execution_count": 18,
   "id": "54f97f47",
   "metadata": {},
   "outputs": [
    {
     "data": {
      "text/html": [
       "<div>\n",
       "<style scoped>\n",
       "    .dataframe tbody tr th:only-of-type {\n",
       "        vertical-align: middle;\n",
       "    }\n",
       "\n",
       "    .dataframe tbody tr th {\n",
       "        vertical-align: top;\n",
       "    }\n",
       "\n",
       "    .dataframe thead th {\n",
       "        text-align: right;\n",
       "    }\n",
       "</style>\n",
       "<table border=\"1\" class=\"dataframe\">\n",
       "  <thead>\n",
       "    <tr style=\"text-align: right;\">\n",
       "      <th></th>\n",
       "      <th>Month</th>\n",
       "      <th>ShopID</th>\n",
       "      <th>CUSTOMERNAME</th>\n",
       "      <th>Ext Royalty</th>\n",
       "    </tr>\n",
       "  </thead>\n",
       "  <tbody>\n",
       "    <tr>\n",
       "      <th>0</th>\n",
       "      <td>1</td>\n",
       "      <td>22</td>\n",
       "      <td>FL COURT STREET</td>\n",
       "      <td>2598.790</td>\n",
       "    </tr>\n",
       "    <tr>\n",
       "      <th>1</th>\n",
       "      <td>1</td>\n",
       "      <td>26</td>\n",
       "      <td>SC HILTON HEAD</td>\n",
       "      <td>-347.655</td>\n",
       "    </tr>\n",
       "    <tr>\n",
       "      <th>2</th>\n",
       "      <td>1</td>\n",
       "      <td>37</td>\n",
       "      <td>DE MARYLAND AVE</td>\n",
       "      <td>1680.770</td>\n",
       "    </tr>\n",
       "    <tr>\n",
       "      <th>3</th>\n",
       "      <td>1</td>\n",
       "      <td>39</td>\n",
       "      <td>FL SEMINOLE</td>\n",
       "      <td>2654.140</td>\n",
       "    </tr>\n",
       "    <tr>\n",
       "      <th>4</th>\n",
       "      <td>1</td>\n",
       "      <td>61</td>\n",
       "      <td>PA TILGHMAN</td>\n",
       "      <td>718.380</td>\n",
       "    </tr>\n",
       "  </tbody>\n",
       "</table>\n",
       "</div>"
      ],
      "text/plain": [
       "   Month  ShopID     CUSTOMERNAME  Ext Royalty\n",
       "0      1      22  FL COURT STREET     2598.790\n",
       "1      1      26   SC HILTON HEAD     -347.655\n",
       "2      1      37  DE MARYLAND AVE     1680.770\n",
       "3      1      39      FL SEMINOLE     2654.140\n",
       "4      1      61      PA TILGHMAN      718.380"
      ]
     },
     "execution_count": 18,
     "metadata": {},
     "output_type": "execute_result"
    }
   ],
   "source": [
    "#Gets the royalty amount paid by the Franchisees and groups them by Month and Shop. Need this to compute the ARS\n",
    "royalty_month=inv_royalty.groupby(['Month','ShopID','CUSTOMERNAME'])['Ext Royalty'].sum().reset_index()\n",
    "royalty_month.head()"
   ]
  },
  {
   "cell_type": "code",
   "execution_count": 19,
   "id": "6dcd79c8",
   "metadata": {},
   "outputs": [
    {
     "data": {
      "text/plain": [
       "ShopID\n",
       "1       2.894737\n",
       "2       2.869565\n",
       "3       1.618182\n",
       "4       2.571429\n",
       "6       6.000000\n",
       "          ...   \n",
       "1479    1.879683\n",
       "1482    2.169231\n",
       "1489    3.012500\n",
       "1492    5.714286\n",
       "1520    2.037736\n",
       "Name: QUANTITYSHIPPED, Length: 502, dtype: float64"
      ]
     },
     "execution_count": 19,
     "metadata": {},
     "output_type": "execute_result"
    }
   ],
   "source": [
    "inv_royalty.groupby(['ShopID'])['QUANTITYSHIPPED'].mean()"
   ]
  },
  {
   "cell_type": "code",
   "execution_count": 20,
   "id": "a7901899",
   "metadata": {},
   "outputs": [
    {
     "data": {
      "text/html": [
       "<div>\n",
       "<style scoped>\n",
       "    .dataframe tbody tr th:only-of-type {\n",
       "        vertical-align: middle;\n",
       "    }\n",
       "\n",
       "    .dataframe tbody tr th {\n",
       "        vertical-align: top;\n",
       "    }\n",
       "\n",
       "    .dataframe thead tr th {\n",
       "        text-align: left;\n",
       "    }\n",
       "\n",
       "    .dataframe thead tr:last-of-type th {\n",
       "        text-align: right;\n",
       "    }\n",
       "</style>\n",
       "<table border=\"1\" class=\"dataframe\">\n",
       "  <thead>\n",
       "    <tr>\n",
       "      <th></th>\n",
       "      <th></th>\n",
       "      <th></th>\n",
       "      <th colspan=\"2\" halign=\"left\">QUANTITYSHIPPED</th>\n",
       "    </tr>\n",
       "    <tr>\n",
       "      <th></th>\n",
       "      <th></th>\n",
       "      <th></th>\n",
       "      <th>mean</th>\n",
       "      <th>sum</th>\n",
       "    </tr>\n",
       "    <tr>\n",
       "      <th>ShopID</th>\n",
       "      <th>CUSTOMERNAME</th>\n",
       "      <th>Month</th>\n",
       "      <th></th>\n",
       "      <th></th>\n",
       "    </tr>\n",
       "  </thead>\n",
       "  <tbody>\n",
       "    <tr>\n",
       "      <th rowspan=\"3\" valign=\"top\">1</th>\n",
       "      <th rowspan=\"3\" valign=\"top\">PA  WOODHAVEN</th>\n",
       "      <th>2</th>\n",
       "      <td>1.666667</td>\n",
       "      <td>20.0</td>\n",
       "    </tr>\n",
       "    <tr>\n",
       "      <th>3</th>\n",
       "      <td>3.363636</td>\n",
       "      <td>74.0</td>\n",
       "    </tr>\n",
       "    <tr>\n",
       "      <th>4</th>\n",
       "      <td>4.000000</td>\n",
       "      <td>16.0</td>\n",
       "    </tr>\n",
       "    <tr>\n",
       "      <th rowspan=\"2\" valign=\"top\">2</th>\n",
       "      <th rowspan=\"2\" valign=\"top\">PA ACADEMY</th>\n",
       "      <th>2</th>\n",
       "      <td>3.785714</td>\n",
       "      <td>53.0</td>\n",
       "    </tr>\n",
       "    <tr>\n",
       "      <th>3</th>\n",
       "      <td>2.500000</td>\n",
       "      <td>75.0</td>\n",
       "    </tr>\n",
       "  </tbody>\n",
       "</table>\n",
       "</div>"
      ],
      "text/plain": [
       "                           QUANTITYSHIPPED      \n",
       "                                      mean   sum\n",
       "ShopID CUSTOMERNAME  Month                      \n",
       "1      PA  WOODHAVEN 2            1.666667  20.0\n",
       "                     3            3.363636  74.0\n",
       "                     4            4.000000  16.0\n",
       "2      PA ACADEMY    2            3.785714  53.0\n",
       "                     3            2.500000  75.0"
      ]
     },
     "execution_count": 20,
     "metadata": {},
     "output_type": "execute_result"
    }
   ],
   "source": [
    "#Inv_group variable grouped by Shop ID Customer Name , Month and Product desc. Most Important is Quantity Shipped sum and mean for the months\n",
    "inv_group=inv_royalty.groupby(['ShopID','CUSTOMERNAME','Month'])[['QUANTITYSHIPPED']].agg({'QUANTITYSHIPPED':['mean','sum']})\n",
    "inv_group.head()"
   ]
  },
  {
   "cell_type": "code",
   "execution_count": 21,
   "id": "cf291d4d",
   "metadata": {},
   "outputs": [],
   "source": [
    "#Renames grouped Columns in order to perform the merge\n",
    "inv_group.columns=['Quantity Mean','Quantity Sum']\n",
    "inv_group=inv_group.reset_index()"
   ]
  },
  {
   "cell_type": "code",
   "execution_count": 22,
   "id": "7312dceb",
   "metadata": {},
   "outputs": [
    {
     "data": {
      "text/html": [
       "<div>\n",
       "<style scoped>\n",
       "    .dataframe tbody tr th:only-of-type {\n",
       "        vertical-align: middle;\n",
       "    }\n",
       "\n",
       "    .dataframe tbody tr th {\n",
       "        vertical-align: top;\n",
       "    }\n",
       "\n",
       "    .dataframe thead th {\n",
       "        text-align: right;\n",
       "    }\n",
       "</style>\n",
       "<table border=\"1\" class=\"dataframe\">\n",
       "  <thead>\n",
       "    <tr style=\"text-align: right;\">\n",
       "      <th></th>\n",
       "      <th>ShopID</th>\n",
       "      <th>CUSTOMERNAME</th>\n",
       "      <th>Month</th>\n",
       "      <th>Quantity Mean</th>\n",
       "      <th>Quantity Sum</th>\n",
       "    </tr>\n",
       "  </thead>\n",
       "  <tbody>\n",
       "    <tr>\n",
       "      <th>0</th>\n",
       "      <td>1</td>\n",
       "      <td>PA  WOODHAVEN</td>\n",
       "      <td>2</td>\n",
       "      <td>1.666667</td>\n",
       "      <td>20.0</td>\n",
       "    </tr>\n",
       "    <tr>\n",
       "      <th>1</th>\n",
       "      <td>1</td>\n",
       "      <td>PA  WOODHAVEN</td>\n",
       "      <td>3</td>\n",
       "      <td>3.363636</td>\n",
       "      <td>74.0</td>\n",
       "    </tr>\n",
       "    <tr>\n",
       "      <th>2</th>\n",
       "      <td>1</td>\n",
       "      <td>PA  WOODHAVEN</td>\n",
       "      <td>4</td>\n",
       "      <td>4.000000</td>\n",
       "      <td>16.0</td>\n",
       "    </tr>\n",
       "    <tr>\n",
       "      <th>3</th>\n",
       "      <td>2</td>\n",
       "      <td>PA ACADEMY</td>\n",
       "      <td>2</td>\n",
       "      <td>3.785714</td>\n",
       "      <td>53.0</td>\n",
       "    </tr>\n",
       "    <tr>\n",
       "      <th>4</th>\n",
       "      <td>2</td>\n",
       "      <td>PA ACADEMY</td>\n",
       "      <td>3</td>\n",
       "      <td>2.500000</td>\n",
       "      <td>75.0</td>\n",
       "    </tr>\n",
       "    <tr>\n",
       "      <th>...</th>\n",
       "      <td>...</td>\n",
       "      <td>...</td>\n",
       "      <td>...</td>\n",
       "      <td>...</td>\n",
       "      <td>...</td>\n",
       "    </tr>\n",
       "    <tr>\n",
       "      <th>1532</th>\n",
       "      <td>1492</td>\n",
       "      <td>MD ORIOLE PARK-CAMDEN YARDS</td>\n",
       "      <td>3</td>\n",
       "      <td>3.000000</td>\n",
       "      <td>15.0</td>\n",
       "    </tr>\n",
       "    <tr>\n",
       "      <th>1533</th>\n",
       "      <td>1492</td>\n",
       "      <td>MD ORIOLE PARK-CAMDEN YARDS</td>\n",
       "      <td>4</td>\n",
       "      <td>12.500000</td>\n",
       "      <td>25.0</td>\n",
       "    </tr>\n",
       "    <tr>\n",
       "      <th>1534</th>\n",
       "      <td>1520</td>\n",
       "      <td>MD 3721 BOSTON ST - BALTIMORE</td>\n",
       "      <td>2</td>\n",
       "      <td>1.333333</td>\n",
       "      <td>44.0</td>\n",
       "    </tr>\n",
       "    <tr>\n",
       "      <th>1535</th>\n",
       "      <td>1520</td>\n",
       "      <td>MD 3721 BOSTON ST - BALTIMORE</td>\n",
       "      <td>3</td>\n",
       "      <td>7.500000</td>\n",
       "      <td>30.0</td>\n",
       "    </tr>\n",
       "    <tr>\n",
       "      <th>1536</th>\n",
       "      <td>1520</td>\n",
       "      <td>MD 3721 BOSTON ST - BALTIMORE</td>\n",
       "      <td>4</td>\n",
       "      <td>2.125000</td>\n",
       "      <td>34.0</td>\n",
       "    </tr>\n",
       "  </tbody>\n",
       "</table>\n",
       "<p>1537 rows × 5 columns</p>\n",
       "</div>"
      ],
      "text/plain": [
       "      ShopID                   CUSTOMERNAME  Month  Quantity Mean  \\\n",
       "0          1                  PA  WOODHAVEN      2       1.666667   \n",
       "1          1                  PA  WOODHAVEN      3       3.363636   \n",
       "2          1                  PA  WOODHAVEN      4       4.000000   \n",
       "3          2                     PA ACADEMY      2       3.785714   \n",
       "4          2                     PA ACADEMY      3       2.500000   \n",
       "...      ...                            ...    ...            ...   \n",
       "1532    1492    MD ORIOLE PARK-CAMDEN YARDS      3       3.000000   \n",
       "1533    1492    MD ORIOLE PARK-CAMDEN YARDS      4      12.500000   \n",
       "1534    1520  MD 3721 BOSTON ST - BALTIMORE      2       1.333333   \n",
       "1535    1520  MD 3721 BOSTON ST - BALTIMORE      3       7.500000   \n",
       "1536    1520  MD 3721 BOSTON ST - BALTIMORE      4       2.125000   \n",
       "\n",
       "      Quantity Sum  \n",
       "0             20.0  \n",
       "1             74.0  \n",
       "2             16.0  \n",
       "3             53.0  \n",
       "4             75.0  \n",
       "...            ...  \n",
       "1532          15.0  \n",
       "1533          25.0  \n",
       "1534          44.0  \n",
       "1535          30.0  \n",
       "1536          34.0  \n",
       "\n",
       "[1537 rows x 5 columns]"
      ]
     },
     "execution_count": 22,
     "metadata": {},
     "output_type": "execute_result"
    }
   ],
   "source": [
    "inv_group"
   ]
  },
  {
   "cell_type": "code",
   "execution_count": 23,
   "id": "0bdbc49b",
   "metadata": {},
   "outputs": [
    {
     "data": {
      "text/plain": [
       "Index(['ShopID', 'intStoreID', 'ProductCode', 'ProdSizeCode', 'DiscountCode',\n",
       "       'Register', 'SalesQty', 'SalesMny', 'StartDate', 'EndDate', 'EditDate',\n",
       "       'Week', 'DataSource', 'ShopName', 'State', 'Region', 'ShopStatus',\n",
       "       'LegacyShopType', 'LegacyShopStatus', 'ProductTypeName',\n",
       "       'ProductSizeName', 'SpecialVenue', 'CoOpStatus', 'CoOpName', 'CoOpRate',\n",
       "       'Month', 'ParentID'],\n",
       "      dtype='object')"
      ]
     },
     "execution_count": 23,
     "metadata": {},
     "output_type": "execute_result"
    }
   ],
   "source": [
    "srs.columns"
   ]
  },
  {
   "cell_type": "code",
   "execution_count": 24,
   "id": "db4c1f2b",
   "metadata": {},
   "outputs": [],
   "source": [
    "#Grabs only the Product Types that are part of royalty calc\n",
    "royalty=srs[(srs.ProductTypeName=='Italian Ice')|(srs.ProductTypeName=='Gelati')|(srs.ProductTypeName=='Misto')|(srs.ProductTypeName=='Custard')|(srs.ProductTypeName=='Milkshakes')|(srs.ProductTypeName=='Frozen Beverages')|(srs.ProductTypeName=='Hand Scooped Custard')|\n",
    "(srs.ProductTypeName=='Concrete')|(srs.ProductTypeName=='Blendini')]"
   ]
  },
  {
   "cell_type": "code",
   "execution_count": 25,
   "id": "75eab02b",
   "metadata": {},
   "outputs": [
    {
     "data": {
      "text/html": [
       "<div>\n",
       "<style scoped>\n",
       "    .dataframe tbody tr th:only-of-type {\n",
       "        vertical-align: middle;\n",
       "    }\n",
       "\n",
       "    .dataframe tbody tr th {\n",
       "        vertical-align: top;\n",
       "    }\n",
       "\n",
       "    .dataframe thead th {\n",
       "        text-align: right;\n",
       "    }\n",
       "</style>\n",
       "<table border=\"1\" class=\"dataframe\">\n",
       "  <thead>\n",
       "    <tr style=\"text-align: right;\">\n",
       "      <th></th>\n",
       "      <th>ShopID</th>\n",
       "      <th>Month</th>\n",
       "      <th>SalesQty</th>\n",
       "      <th>SalesMny</th>\n",
       "    </tr>\n",
       "  </thead>\n",
       "  <tbody>\n",
       "    <tr>\n",
       "      <th>0</th>\n",
       "      <td>1</td>\n",
       "      <td>2</td>\n",
       "      <td>1116</td>\n",
       "      <td>5829.2420</td>\n",
       "    </tr>\n",
       "    <tr>\n",
       "      <th>1</th>\n",
       "      <td>1</td>\n",
       "      <td>3</td>\n",
       "      <td>8256</td>\n",
       "      <td>42016.3040</td>\n",
       "    </tr>\n",
       "    <tr>\n",
       "      <th>2</th>\n",
       "      <td>1</td>\n",
       "      <td>4</td>\n",
       "      <td>6105</td>\n",
       "      <td>31070.3780</td>\n",
       "    </tr>\n",
       "    <tr>\n",
       "      <th>3</th>\n",
       "      <td>2</td>\n",
       "      <td>2</td>\n",
       "      <td>2025</td>\n",
       "      <td>10525.3360</td>\n",
       "    </tr>\n",
       "    <tr>\n",
       "      <th>4</th>\n",
       "      <td>2</td>\n",
       "      <td>3</td>\n",
       "      <td>11300</td>\n",
       "      <td>57532.6715</td>\n",
       "    </tr>\n",
       "  </tbody>\n",
       "</table>\n",
       "</div>"
      ],
      "text/plain": [
       "   ShopID  Month  SalesQty    SalesMny\n",
       "0       1      2      1116   5829.2420\n",
       "1       1      3      8256  42016.3040\n",
       "2       1      4      6105  31070.3780\n",
       "3       2      2      2025  10525.3360\n",
       "4       2      3     11300  57532.6715"
      ]
     },
     "execution_count": 25,
     "metadata": {},
     "output_type": "execute_result"
    }
   ],
   "source": [
    "#Groups Royaly variable by Shop ID and Month\n",
    "royalty_group=royalty.groupby(['ShopID','Month'])[['SalesQty','SalesMny']].sum().reset_index()\n",
    "royalty_group.head()"
   ]
  },
  {
   "cell_type": "code",
   "execution_count": 78,
   "id": "560b7edb",
   "metadata": {},
   "outputs": [
    {
     "data": {
      "text/plain": [
       "28985160.6188"
      ]
     },
     "execution_count": 78,
     "metadata": {},
     "output_type": "execute_result"
    }
   ],
   "source": [
    "royalty_group.SalesMny.sum()"
   ]
  },
  {
   "cell_type": "code",
   "execution_count": 46,
   "id": "6cd91ff8",
   "metadata": {},
   "outputs": [],
   "source": [
    "#Merges Royalty sum of custard and mixes sales with invoice sum of custard and mixes shipped\n",
    "merge_df=pd.merge(royalty_group,inv_group, on=['ShopID','Month'],how='outer')\n",
    "#merge_df['CUSTOMERNAME']=test['CUSTOMERNAME'].fillna(method='ffill')\n",
    "merge_df.fillna(0,inplace=True)\n",
    "#merge_df.drop('CUSTOMERNAME',axis=1,inplace=True)"
   ]
  },
  {
   "cell_type": "code",
   "execution_count": null,
   "id": "3fc50e9c",
   "metadata": {},
   "outputs": [],
   "source": []
  },
  {
   "cell_type": "code",
   "execution_count": 47,
   "id": "5d5aa88a",
   "metadata": {},
   "outputs": [],
   "source": [
    "merge_df['ParentID']=merge_df.ShopID.astype('str')\n",
    "merge_df['ParentID']=merge_df.ParentID.str[-4:]\n",
    "merge_df['ParentID']=merge_df.ParentID.astype('int')"
   ]
  },
  {
   "cell_type": "code",
   "execution_count": 48,
   "id": "7696d412",
   "metadata": {},
   "outputs": [],
   "source": [
    "merge_df=merge_df.drop('ShopID',axis=1)"
   ]
  },
  {
   "cell_type": "code",
   "execution_count": 49,
   "id": "fcce344f",
   "metadata": {},
   "outputs": [],
   "source": [
    "filtered_srs=srs[srs.ShopID<10000]"
   ]
  },
  {
   "cell_type": "code",
   "execution_count": 50,
   "id": "c351dddc",
   "metadata": {},
   "outputs": [],
   "source": [
    "testing_df=merge_df.groupby(['ParentID','Month'])[['Quantity Sum','SalesQty','SalesMny']].sum().reset_index()"
   ]
  },
  {
   "cell_type": "code",
   "execution_count": 58,
   "id": "52a160b3",
   "metadata": {},
   "outputs": [],
   "source": [
    "merge_df=pd.merge(testing_df,filtered_srs[['ParentID','ShopName']],on='ParentID').drop_duplicates(keep='first').reset_index()"
   ]
  },
  {
   "cell_type": "code",
   "execution_count": 60,
   "id": "17ed1f70",
   "metadata": {},
   "outputs": [],
   "source": [
    "merge_df.drop('index',axis=1,inplace=True)"
   ]
  },
  {
   "cell_type": "code",
   "execution_count": 61,
   "id": "a10d79d2",
   "metadata": {},
   "outputs": [
    {
     "data": {
      "text/html": [
       "<div>\n",
       "<style scoped>\n",
       "    .dataframe tbody tr th:only-of-type {\n",
       "        vertical-align: middle;\n",
       "    }\n",
       "\n",
       "    .dataframe tbody tr th {\n",
       "        vertical-align: top;\n",
       "    }\n",
       "\n",
       "    .dataframe thead th {\n",
       "        text-align: right;\n",
       "    }\n",
       "</style>\n",
       "<table border=\"1\" class=\"dataframe\">\n",
       "  <thead>\n",
       "    <tr style=\"text-align: right;\">\n",
       "      <th></th>\n",
       "      <th>ParentID</th>\n",
       "      <th>Month</th>\n",
       "      <th>Quantity Sum</th>\n",
       "      <th>SalesQty</th>\n",
       "      <th>SalesMny</th>\n",
       "      <th>ShopName</th>\n",
       "    </tr>\n",
       "  </thead>\n",
       "  <tbody>\n",
       "    <tr>\n",
       "      <th>55</th>\n",
       "      <td>26</td>\n",
       "      <td>1</td>\n",
       "      <td>-10.5</td>\n",
       "      <td>0.0</td>\n",
       "      <td>0.00</td>\n",
       "      <td>Hilton Head</td>\n",
       "    </tr>\n",
       "    <tr>\n",
       "      <th>56</th>\n",
       "      <td>26</td>\n",
       "      <td>2</td>\n",
       "      <td>43.0</td>\n",
       "      <td>2967.0</td>\n",
       "      <td>15263.53</td>\n",
       "      <td>Hilton Head</td>\n",
       "    </tr>\n",
       "    <tr>\n",
       "      <th>57</th>\n",
       "      <td>26</td>\n",
       "      <td>3</td>\n",
       "      <td>101.0</td>\n",
       "      <td>10451.0</td>\n",
       "      <td>54435.59</td>\n",
       "      <td>Hilton Head</td>\n",
       "    </tr>\n",
       "    <tr>\n",
       "      <th>58</th>\n",
       "      <td>26</td>\n",
       "      <td>4</td>\n",
       "      <td>114.5</td>\n",
       "      <td>10884.0</td>\n",
       "      <td>55145.66</td>\n",
       "      <td>Hilton Head</td>\n",
       "    </tr>\n",
       "  </tbody>\n",
       "</table>\n",
       "</div>"
      ],
      "text/plain": [
       "    ParentID  Month  Quantity Sum  SalesQty  SalesMny     ShopName\n",
       "55        26      1         -10.5       0.0      0.00  Hilton Head\n",
       "56        26      2          43.0    2967.0  15263.53  Hilton Head\n",
       "57        26      3         101.0   10451.0  54435.59  Hilton Head\n",
       "58        26      4         114.5   10884.0  55145.66  Hilton Head"
      ]
     },
     "execution_count": 61,
     "metadata": {},
     "output_type": "execute_result"
    }
   ],
   "source": [
    "merge_df[merge_df.ShopName=='Hilton Head']"
   ]
  },
  {
   "cell_type": "code",
   "execution_count": 62,
   "id": "944a94a1",
   "metadata": {},
   "outputs": [],
   "source": [
    "#rearranges columns of merge_df\n",
    "merge_df=merge_df[['ShopName','ParentID','Month','Quantity Sum','SalesQty','SalesMny']]\n",
    "#Changes Name of SalesMny to Actual Sales\n",
    "merge_df.rename(columns={\"SalesMny\":\"Actual Sales\"}, inplace=True)"
   ]
  },
  {
   "cell_type": "code",
   "execution_count": 63,
   "id": "7e26bfe4",
   "metadata": {},
   "outputs": [
    {
     "data": {
      "text/html": [
       "<div>\n",
       "<style scoped>\n",
       "    .dataframe tbody tr th:only-of-type {\n",
       "        vertical-align: middle;\n",
       "    }\n",
       "\n",
       "    .dataframe tbody tr th {\n",
       "        vertical-align: top;\n",
       "    }\n",
       "\n",
       "    .dataframe thead th {\n",
       "        text-align: right;\n",
       "    }\n",
       "</style>\n",
       "<table border=\"1\" class=\"dataframe\">\n",
       "  <thead>\n",
       "    <tr style=\"text-align: right;\">\n",
       "      <th></th>\n",
       "      <th>ShopName</th>\n",
       "      <th>ParentID</th>\n",
       "      <th>Month</th>\n",
       "      <th>Quantity Sum</th>\n",
       "      <th>SalesQty</th>\n",
       "      <th>Actual Sales</th>\n",
       "    </tr>\n",
       "  </thead>\n",
       "  <tbody>\n",
       "    <tr>\n",
       "      <th>0</th>\n",
       "      <td>Woodhaven</td>\n",
       "      <td>1</td>\n",
       "      <td>2</td>\n",
       "      <td>20.0</td>\n",
       "      <td>1116.0</td>\n",
       "      <td>5829.2420</td>\n",
       "    </tr>\n",
       "    <tr>\n",
       "      <th>1</th>\n",
       "      <td>Woodhaven</td>\n",
       "      <td>1</td>\n",
       "      <td>3</td>\n",
       "      <td>74.0</td>\n",
       "      <td>8256.0</td>\n",
       "      <td>42016.3040</td>\n",
       "    </tr>\n",
       "    <tr>\n",
       "      <th>2</th>\n",
       "      <td>Woodhaven</td>\n",
       "      <td>1</td>\n",
       "      <td>4</td>\n",
       "      <td>16.0</td>\n",
       "      <td>6105.0</td>\n",
       "      <td>31070.3780</td>\n",
       "    </tr>\n",
       "    <tr>\n",
       "      <th>3</th>\n",
       "      <td>Academy</td>\n",
       "      <td>2</td>\n",
       "      <td>2</td>\n",
       "      <td>53.0</td>\n",
       "      <td>2025.0</td>\n",
       "      <td>10525.3360</td>\n",
       "    </tr>\n",
       "    <tr>\n",
       "      <th>4</th>\n",
       "      <td>Academy</td>\n",
       "      <td>2</td>\n",
       "      <td>3</td>\n",
       "      <td>75.0</td>\n",
       "      <td>11300.0</td>\n",
       "      <td>57532.6715</td>\n",
       "    </tr>\n",
       "    <tr>\n",
       "      <th>...</th>\n",
       "      <td>...</td>\n",
       "      <td>...</td>\n",
       "      <td>...</td>\n",
       "      <td>...</td>\n",
       "      <td>...</td>\n",
       "      <td>...</td>\n",
       "    </tr>\n",
       "    <tr>\n",
       "      <th>1589</th>\n",
       "      <td>7 Venture Dr-Bluffton SC</td>\n",
       "      <td>1489</td>\n",
       "      <td>3</td>\n",
       "      <td>136.0</td>\n",
       "      <td>9968.0</td>\n",
       "      <td>49090.4155</td>\n",
       "    </tr>\n",
       "    <tr>\n",
       "      <th>1590</th>\n",
       "      <td>7 Venture Dr-Bluffton SC</td>\n",
       "      <td>1489</td>\n",
       "      <td>4</td>\n",
       "      <td>62.0</td>\n",
       "      <td>4487.0</td>\n",
       "      <td>21925.1275</td>\n",
       "    </tr>\n",
       "    <tr>\n",
       "      <th>1591</th>\n",
       "      <td>3724 Boston St-Baltimore MD</td>\n",
       "      <td>1520</td>\n",
       "      <td>2</td>\n",
       "      <td>44.0</td>\n",
       "      <td>375.0</td>\n",
       "      <td>1778.2500</td>\n",
       "    </tr>\n",
       "    <tr>\n",
       "      <th>1592</th>\n",
       "      <td>3724 Boston St-Baltimore MD</td>\n",
       "      <td>1520</td>\n",
       "      <td>3</td>\n",
       "      <td>30.0</td>\n",
       "      <td>5059.0</td>\n",
       "      <td>22763.7600</td>\n",
       "    </tr>\n",
       "    <tr>\n",
       "      <th>1593</th>\n",
       "      <td>3724 Boston St-Baltimore MD</td>\n",
       "      <td>1520</td>\n",
       "      <td>4</td>\n",
       "      <td>34.0</td>\n",
       "      <td>5381.0</td>\n",
       "      <td>25175.4900</td>\n",
       "    </tr>\n",
       "  </tbody>\n",
       "</table>\n",
       "<p>1594 rows × 6 columns</p>\n",
       "</div>"
      ],
      "text/plain": [
       "                         ShopName  ParentID  Month  Quantity Sum  SalesQty  \\\n",
       "0                       Woodhaven         1      2          20.0    1116.0   \n",
       "1                       Woodhaven         1      3          74.0    8256.0   \n",
       "2                       Woodhaven         1      4          16.0    6105.0   \n",
       "3                         Academy         2      2          53.0    2025.0   \n",
       "4                         Academy         2      3          75.0   11300.0   \n",
       "...                           ...       ...    ...           ...       ...   \n",
       "1589     7 Venture Dr-Bluffton SC      1489      3         136.0    9968.0   \n",
       "1590     7 Venture Dr-Bluffton SC      1489      4          62.0    4487.0   \n",
       "1591  3724 Boston St-Baltimore MD      1520      2          44.0     375.0   \n",
       "1592  3724 Boston St-Baltimore MD      1520      3          30.0    5059.0   \n",
       "1593  3724 Boston St-Baltimore MD      1520      4          34.0    5381.0   \n",
       "\n",
       "      Actual Sales  \n",
       "0        5829.2420  \n",
       "1       42016.3040  \n",
       "2       31070.3780  \n",
       "3       10525.3360  \n",
       "4       57532.6715  \n",
       "...            ...  \n",
       "1589    49090.4155  \n",
       "1590    21925.1275  \n",
       "1591     1778.2500  \n",
       "1592    22763.7600  \n",
       "1593    25175.4900  \n",
       "\n",
       "[1594 rows x 6 columns]"
      ]
     },
     "execution_count": 63,
     "metadata": {},
     "output_type": "execute_result"
    }
   ],
   "source": [
    "merge_df"
   ]
  },
  {
   "cell_type": "code",
   "execution_count": 34,
   "id": "e04f7038",
   "metadata": {},
   "outputs": [],
   "source": [
    "#yearly shipped, quantity sales, and sales of custard and mixes\n",
    "yearly=round(merge_df.groupby(['ShopName','ParentID'])[['Quantity Sum','SalesQty','Actual Sales']].agg('sum').reset_index(),2)"
   ]
  },
  {
   "cell_type": "code",
   "execution_count": 35,
   "id": "55bc936d",
   "metadata": {},
   "outputs": [
    {
     "data": {
      "text/html": [
       "<div>\n",
       "<style scoped>\n",
       "    .dataframe tbody tr th:only-of-type {\n",
       "        vertical-align: middle;\n",
       "    }\n",
       "\n",
       "    .dataframe tbody tr th {\n",
       "        vertical-align: top;\n",
       "    }\n",
       "\n",
       "    .dataframe thead th {\n",
       "        text-align: right;\n",
       "    }\n",
       "</style>\n",
       "<table border=\"1\" class=\"dataframe\">\n",
       "  <thead>\n",
       "    <tr style=\"text-align: right;\">\n",
       "      <th></th>\n",
       "      <th>ShopName</th>\n",
       "      <th>ParentID</th>\n",
       "      <th>Quantity Sum</th>\n",
       "      <th>SalesQty</th>\n",
       "      <th>Actual Sales</th>\n",
       "    </tr>\n",
       "  </thead>\n",
       "  <tbody>\n",
       "    <tr>\n",
       "      <th>0</th>\n",
       "      <td>101 E Abram St-Arlington TX</td>\n",
       "      <td>1371</td>\n",
       "      <td>86.00</td>\n",
       "      <td>7212.0</td>\n",
       "      <td>34210.42</td>\n",
       "    </tr>\n",
       "    <tr>\n",
       "      <th>1</th>\n",
       "      <td>101 Haddon Ave.-Westmont NJ</td>\n",
       "      <td>382</td>\n",
       "      <td>156.00</td>\n",
       "      <td>15121.0</td>\n",
       "      <td>66077.23</td>\n",
       "    </tr>\n",
       "    <tr>\n",
       "      <th>2</th>\n",
       "      <td>101 Woodcutter St-Exton PA</td>\n",
       "      <td>1450</td>\n",
       "      <td>101.75</td>\n",
       "      <td>12756.0</td>\n",
       "      <td>57384.74</td>\n",
       "    </tr>\n",
       "    <tr>\n",
       "      <th>3</th>\n",
       "      <td>1010 Court St-Clearwater FL</td>\n",
       "      <td>22</td>\n",
       "      <td>306.00</td>\n",
       "      <td>38586.0</td>\n",
       "      <td>177881.65</td>\n",
       "    </tr>\n",
       "    <tr>\n",
       "      <th>4</th>\n",
       "      <td>1016 Diffley Rd-Eagan MN</td>\n",
       "      <td>1018</td>\n",
       "      <td>77.00</td>\n",
       "      <td>2468.0</td>\n",
       "      <td>11935.18</td>\n",
       "    </tr>\n",
       "    <tr>\n",
       "      <th>...</th>\n",
       "      <td>...</td>\n",
       "      <td>...</td>\n",
       "      <td>...</td>\n",
       "      <td>...</td>\n",
       "      <td>...</td>\n",
       "    </tr>\n",
       "    <tr>\n",
       "      <th>493</th>\n",
       "      <td>Wyncote</td>\n",
       "      <td>101</td>\n",
       "      <td>54.00</td>\n",
       "      <td>7249.0</td>\n",
       "      <td>33845.38</td>\n",
       "    </tr>\n",
       "    <tr>\n",
       "      <th>494</th>\n",
       "      <td>Wyndmoor</td>\n",
       "      <td>11</td>\n",
       "      <td>117.00</td>\n",
       "      <td>14577.0</td>\n",
       "      <td>65028.12</td>\n",
       "    </tr>\n",
       "    <tr>\n",
       "      <th>495</th>\n",
       "      <td>York</td>\n",
       "      <td>123</td>\n",
       "      <td>179.00</td>\n",
       "      <td>18745.0</td>\n",
       "      <td>87669.82</td>\n",
       "    </tr>\n",
       "    <tr>\n",
       "      <th>496</th>\n",
       "      <td>Yorktown</td>\n",
       "      <td>853</td>\n",
       "      <td>60.00</td>\n",
       "      <td>4253.0</td>\n",
       "      <td>25355.94</td>\n",
       "    </tr>\n",
       "    <tr>\n",
       "      <th>497</th>\n",
       "      <td>Zieglerville</td>\n",
       "      <td>486</td>\n",
       "      <td>128.00</td>\n",
       "      <td>8892.0</td>\n",
       "      <td>39353.37</td>\n",
       "    </tr>\n",
       "  </tbody>\n",
       "</table>\n",
       "<p>498 rows × 5 columns</p>\n",
       "</div>"
      ],
      "text/plain": [
       "                        ShopName  ParentID  Quantity Sum  SalesQty  \\\n",
       "0    101 E Abram St-Arlington TX      1371         86.00    7212.0   \n",
       "1    101 Haddon Ave.-Westmont NJ       382        156.00   15121.0   \n",
       "2     101 Woodcutter St-Exton PA      1450        101.75   12756.0   \n",
       "3    1010 Court St-Clearwater FL        22        306.00   38586.0   \n",
       "4       1016 Diffley Rd-Eagan MN      1018         77.00    2468.0   \n",
       "..                           ...       ...           ...       ...   \n",
       "493                      Wyncote       101         54.00    7249.0   \n",
       "494                     Wyndmoor        11        117.00   14577.0   \n",
       "495                         York       123        179.00   18745.0   \n",
       "496                     Yorktown       853         60.00    4253.0   \n",
       "497                 Zieglerville       486        128.00    8892.0   \n",
       "\n",
       "     Actual Sales  \n",
       "0        34210.42  \n",
       "1        66077.23  \n",
       "2        57384.74  \n",
       "3       177881.65  \n",
       "4        11935.18  \n",
       "..            ...  \n",
       "493      33845.38  \n",
       "494      65028.12  \n",
       "495      87669.82  \n",
       "496      25355.94  \n",
       "497      39353.37  \n",
       "\n",
       "[498 rows x 5 columns]"
      ]
     },
     "execution_count": 35,
     "metadata": {},
     "output_type": "execute_result"
    }
   ],
   "source": [
    "yearly"
   ]
  },
  {
   "cell_type": "code",
   "execution_count": 36,
   "id": "d120f997",
   "metadata": {},
   "outputs": [
    {
     "data": {
      "text/html": [
       "<div>\n",
       "<style scoped>\n",
       "    .dataframe tbody tr th:only-of-type {\n",
       "        vertical-align: middle;\n",
       "    }\n",
       "\n",
       "    .dataframe tbody tr th {\n",
       "        vertical-align: top;\n",
       "    }\n",
       "\n",
       "    .dataframe thead th {\n",
       "        text-align: right;\n",
       "    }\n",
       "</style>\n",
       "<table border=\"1\" class=\"dataframe\">\n",
       "  <thead>\n",
       "    <tr style=\"text-align: right;\">\n",
       "      <th></th>\n",
       "      <th>Month</th>\n",
       "      <th>ShopID</th>\n",
       "    </tr>\n",
       "  </thead>\n",
       "  <tbody>\n",
       "    <tr>\n",
       "      <th>0</th>\n",
       "      <td>1</td>\n",
       "      <td>111</td>\n",
       "    </tr>\n",
       "    <tr>\n",
       "      <th>1</th>\n",
       "      <td>2</td>\n",
       "      <td>446</td>\n",
       "    </tr>\n",
       "    <tr>\n",
       "      <th>2</th>\n",
       "      <td>3</td>\n",
       "      <td>494</td>\n",
       "    </tr>\n",
       "    <tr>\n",
       "      <th>3</th>\n",
       "      <td>4</td>\n",
       "      <td>479</td>\n",
       "    </tr>\n",
       "    <tr>\n",
       "      <th>4</th>\n",
       "      <td>12</td>\n",
       "      <td>7</td>\n",
       "    </tr>\n",
       "  </tbody>\n",
       "</table>\n",
       "</div>"
      ],
      "text/plain": [
       "   Month  ShopID\n",
       "0      1     111\n",
       "1      2     446\n",
       "2      3     494\n",
       "3      4     479\n",
       "4     12       7"
      ]
     },
     "execution_count": 36,
     "metadata": {},
     "output_type": "execute_result"
    }
   ],
   "source": [
    "#Gets Number of Unique Shops that Ordered Product by Month\n",
    "month_avg=inv_royalty.groupby('Month')[['ShopID']].nunique().reset_index()\n",
    "month_avg"
   ]
  },
  {
   "cell_type": "code",
   "execution_count": 37,
   "id": "42fde206",
   "metadata": {},
   "outputs": [
    {
     "data": {
      "text/plain": [
       "Month\n",
       "1      3471.20\n",
       "2     13078.12\n",
       "3     28380.00\n",
       "4     17151.81\n",
       "12       39.00\n",
       "Name: QUANTITYSHIPPED, dtype: float64"
      ]
     },
     "execution_count": 37,
     "metadata": {},
     "output_type": "execute_result"
    }
   ],
   "source": [
    "inv_royalty.groupby('Month')['QUANTITYSHIPPED'].sum()"
   ]
  },
  {
   "cell_type": "code",
   "execution_count": 38,
   "id": "31c6ae18",
   "metadata": {},
   "outputs": [
    {
     "data": {
      "text/html": [
       "<div>\n",
       "<style scoped>\n",
       "    .dataframe tbody tr th:only-of-type {\n",
       "        vertical-align: middle;\n",
       "    }\n",
       "\n",
       "    .dataframe tbody tr th {\n",
       "        vertical-align: top;\n",
       "    }\n",
       "\n",
       "    .dataframe thead th {\n",
       "        text-align: right;\n",
       "    }\n",
       "</style>\n",
       "<table border=\"1\" class=\"dataframe\">\n",
       "  <thead>\n",
       "    <tr style=\"text-align: right;\">\n",
       "      <th></th>\n",
       "      <th>Month</th>\n",
       "      <th>QUANTITYSHIPPED</th>\n",
       "      <th>Monthly_AVG</th>\n",
       "    </tr>\n",
       "  </thead>\n",
       "  <tbody>\n",
       "    <tr>\n",
       "      <th>0</th>\n",
       "      <td>1</td>\n",
       "      <td>3471.20</td>\n",
       "      <td>31.272072</td>\n",
       "    </tr>\n",
       "    <tr>\n",
       "      <th>1</th>\n",
       "      <td>2</td>\n",
       "      <td>13078.12</td>\n",
       "      <td>29.323139</td>\n",
       "    </tr>\n",
       "    <tr>\n",
       "      <th>2</th>\n",
       "      <td>3</td>\n",
       "      <td>28380.00</td>\n",
       "      <td>57.449393</td>\n",
       "    </tr>\n",
       "    <tr>\n",
       "      <th>3</th>\n",
       "      <td>4</td>\n",
       "      <td>17151.81</td>\n",
       "      <td>35.807537</td>\n",
       "    </tr>\n",
       "    <tr>\n",
       "      <th>4</th>\n",
       "      <td>12</td>\n",
       "      <td>39.00</td>\n",
       "      <td>0.087444</td>\n",
       "    </tr>\n",
       "  </tbody>\n",
       "</table>\n",
       "</div>"
      ],
      "text/plain": [
       "   Month  QUANTITYSHIPPED  Monthly_AVG\n",
       "0      1          3471.20    31.272072\n",
       "1      2         13078.12    29.323139\n",
       "2      3         28380.00    57.449393\n",
       "3      4         17151.81    35.807537\n",
       "4     12            39.00     0.087444"
      ]
     },
     "execution_count": 38,
     "metadata": {},
     "output_type": "execute_result"
    }
   ],
   "source": [
    "company_month=inv_royalty.groupby('Month')[['QUANTITYSHIPPED']].sum().reset_index()\n",
    "company_month['Monthly_AVG']=company_month.apply(lambda x: x['QUANTITYSHIPPED']/month_avg.at[0,'ShopID'] if x['Month']==1 else\n",
    "x['QUANTITYSHIPPED']/month_avg.at[1,'ShopID'] if x['Month']==2 else\n",
    "x['QUANTITYSHIPPED']/month_avg.at[2,'ShopID'] if x['Month']==3 else\n",
    "x['QUANTITYSHIPPED']/month_avg.at[3,'ShopID'] if x['Month']==4 else                                                  \n",
    "x['QUANTITYSHIPPED']/month_avg.at[1,'ShopID'],axis=1)\n",
    "company_month"
   ]
  },
  {
   "cell_type": "code",
   "execution_count": 64,
   "id": "b5520db4",
   "metadata": {
    "scrolled": true
   },
   "outputs": [
    {
     "data": {
      "text/html": [
       "<div>\n",
       "<style scoped>\n",
       "    .dataframe tbody tr th:only-of-type {\n",
       "        vertical-align: middle;\n",
       "    }\n",
       "\n",
       "    .dataframe tbody tr th {\n",
       "        vertical-align: top;\n",
       "    }\n",
       "\n",
       "    .dataframe thead th {\n",
       "        text-align: right;\n",
       "    }\n",
       "</style>\n",
       "<table border=\"1\" class=\"dataframe\">\n",
       "  <thead>\n",
       "    <tr style=\"text-align: right;\">\n",
       "      <th></th>\n",
       "      <th>Month</th>\n",
       "      <th>Quantity Sum</th>\n",
       "      <th>SalesQty</th>\n",
       "    </tr>\n",
       "  </thead>\n",
       "  <tbody>\n",
       "    <tr>\n",
       "      <th>0</th>\n",
       "      <td>2</td>\n",
       "      <td>20.0</td>\n",
       "      <td>1116.0</td>\n",
       "    </tr>\n",
       "    <tr>\n",
       "      <th>1</th>\n",
       "      <td>3</td>\n",
       "      <td>74.0</td>\n",
       "      <td>8256.0</td>\n",
       "    </tr>\n",
       "    <tr>\n",
       "      <th>2</th>\n",
       "      <td>4</td>\n",
       "      <td>16.0</td>\n",
       "      <td>6105.0</td>\n",
       "    </tr>\n",
       "    <tr>\n",
       "      <th>3</th>\n",
       "      <td>2</td>\n",
       "      <td>53.0</td>\n",
       "      <td>2025.0</td>\n",
       "    </tr>\n",
       "    <tr>\n",
       "      <th>4</th>\n",
       "      <td>3</td>\n",
       "      <td>75.0</td>\n",
       "      <td>11300.0</td>\n",
       "    </tr>\n",
       "    <tr>\n",
       "      <th>...</th>\n",
       "      <td>...</td>\n",
       "      <td>...</td>\n",
       "      <td>...</td>\n",
       "    </tr>\n",
       "    <tr>\n",
       "      <th>1589</th>\n",
       "      <td>3</td>\n",
       "      <td>136.0</td>\n",
       "      <td>9968.0</td>\n",
       "    </tr>\n",
       "    <tr>\n",
       "      <th>1590</th>\n",
       "      <td>4</td>\n",
       "      <td>62.0</td>\n",
       "      <td>4487.0</td>\n",
       "    </tr>\n",
       "    <tr>\n",
       "      <th>1591</th>\n",
       "      <td>2</td>\n",
       "      <td>44.0</td>\n",
       "      <td>375.0</td>\n",
       "    </tr>\n",
       "    <tr>\n",
       "      <th>1592</th>\n",
       "      <td>3</td>\n",
       "      <td>30.0</td>\n",
       "      <td>5059.0</td>\n",
       "    </tr>\n",
       "    <tr>\n",
       "      <th>1593</th>\n",
       "      <td>4</td>\n",
       "      <td>34.0</td>\n",
       "      <td>5381.0</td>\n",
       "    </tr>\n",
       "  </tbody>\n",
       "</table>\n",
       "<p>1594 rows × 3 columns</p>\n",
       "</div>"
      ],
      "text/plain": [
       "      Month  Quantity Sum  SalesQty\n",
       "0         2          20.0    1116.0\n",
       "1         3          74.0    8256.0\n",
       "2         4          16.0    6105.0\n",
       "3         2          53.0    2025.0\n",
       "4         3          75.0   11300.0\n",
       "...     ...           ...       ...\n",
       "1589      3         136.0    9968.0\n",
       "1590      4          62.0    4487.0\n",
       "1591      2          44.0     375.0\n",
       "1592      3          30.0    5059.0\n",
       "1593      4          34.0    5381.0\n",
       "\n",
       "[1594 rows x 3 columns]"
      ]
     },
     "execution_count": 64,
     "metadata": {},
     "output_type": "execute_result"
    }
   ],
   "source": [
    "#Gets the features for the regression model and uploads the model\n",
    "os.chdir(r'L:\\J.Harned\\Royalty\\Royalty Regression')\n",
    "reg=joblib.load('royalty_regression_model')\n",
    "features=merge_df.drop(['ShopName','ParentID','Actual Sales'],axis=1)\n",
    "#features.drop('Quantity Mean',axis=1,inplace=True)\n",
    "features"
   ]
  },
  {
   "cell_type": "code",
   "execution_count": 55,
   "id": "7ef8fed6",
   "metadata": {},
   "outputs": [
    {
     "data": {
      "text/plain": [
       "(1594, 3)"
      ]
     },
     "execution_count": 55,
     "metadata": {},
     "output_type": "execute_result"
    }
   ],
   "source": [
    "features.shape"
   ]
  },
  {
   "cell_type": "code",
   "execution_count": 65,
   "id": "dae4d463",
   "metadata": {},
   "outputs": [],
   "source": [
    "#Makes the prediction of sales\n",
    "predicted_sales=reg.predict(features)\n",
    "merge_df=pd.concat([merge_df, pd.DataFrame(predicted_sales)],axis=1)\n"
   ]
  },
  {
   "cell_type": "code",
   "execution_count": 67,
   "id": "7392f9c6",
   "metadata": {},
   "outputs": [],
   "source": [
    "#Creates the Variance column\n",
    "merge_df.rename(columns={0:'Predicted_Sales'},inplace=True)\n",
    "merge_df['Variance']=(merge_df['Actual Sales']-merge_df.Predicted_Sales)/merge_df.Predicted_Sales\n",
    "regression=merge_df"
   ]
  },
  {
   "cell_type": "code",
   "execution_count": 68,
   "id": "55f5b03d",
   "metadata": {},
   "outputs": [
    {
     "data": {
      "text/html": [
       "<div>\n",
       "<style scoped>\n",
       "    .dataframe tbody tr th:only-of-type {\n",
       "        vertical-align: middle;\n",
       "    }\n",
       "\n",
       "    .dataframe tbody tr th {\n",
       "        vertical-align: top;\n",
       "    }\n",
       "\n",
       "    .dataframe thead th {\n",
       "        text-align: right;\n",
       "    }\n",
       "</style>\n",
       "<table border=\"1\" class=\"dataframe\">\n",
       "  <thead>\n",
       "    <tr style=\"text-align: right;\">\n",
       "      <th></th>\n",
       "      <th>ShopName</th>\n",
       "      <th>ParentID</th>\n",
       "      <th>Month</th>\n",
       "      <th>Quantity Sum</th>\n",
       "      <th>SalesQty</th>\n",
       "      <th>Actual Sales</th>\n",
       "      <th>Predicted_Sales</th>\n",
       "      <th>Variance</th>\n",
       "    </tr>\n",
       "  </thead>\n",
       "  <tbody>\n",
       "    <tr>\n",
       "      <th>0</th>\n",
       "      <td>Woodhaven</td>\n",
       "      <td>1</td>\n",
       "      <td>2</td>\n",
       "      <td>20.0</td>\n",
       "      <td>1116.0</td>\n",
       "      <td>5829.2420</td>\n",
       "      <td>4140.867663</td>\n",
       "      <td>0.407734</td>\n",
       "    </tr>\n",
       "    <tr>\n",
       "      <th>1</th>\n",
       "      <td>Woodhaven</td>\n",
       "      <td>1</td>\n",
       "      <td>3</td>\n",
       "      <td>74.0</td>\n",
       "      <td>8256.0</td>\n",
       "      <td>42016.3040</td>\n",
       "      <td>35139.269589</td>\n",
       "      <td>0.195708</td>\n",
       "    </tr>\n",
       "    <tr>\n",
       "      <th>2</th>\n",
       "      <td>Woodhaven</td>\n",
       "      <td>1</td>\n",
       "      <td>4</td>\n",
       "      <td>16.0</td>\n",
       "      <td>6105.0</td>\n",
       "      <td>31070.3780</td>\n",
       "      <td>26379.289511</td>\n",
       "      <td>0.177832</td>\n",
       "    </tr>\n",
       "    <tr>\n",
       "      <th>3</th>\n",
       "      <td>Academy</td>\n",
       "      <td>2</td>\n",
       "      <td>2</td>\n",
       "      <td>53.0</td>\n",
       "      <td>2025.0</td>\n",
       "      <td>10525.3360</td>\n",
       "      <td>7810.988632</td>\n",
       "      <td>0.347504</td>\n",
       "    </tr>\n",
       "    <tr>\n",
       "      <th>4</th>\n",
       "      <td>Academy</td>\n",
       "      <td>2</td>\n",
       "      <td>3</td>\n",
       "      <td>75.0</td>\n",
       "      <td>11300.0</td>\n",
       "      <td>57532.6715</td>\n",
       "      <td>48521.045082</td>\n",
       "      <td>0.185726</td>\n",
       "    </tr>\n",
       "    <tr>\n",
       "      <th>...</th>\n",
       "      <td>...</td>\n",
       "      <td>...</td>\n",
       "      <td>...</td>\n",
       "      <td>...</td>\n",
       "      <td>...</td>\n",
       "      <td>...</td>\n",
       "      <td>...</td>\n",
       "      <td>...</td>\n",
       "    </tr>\n",
       "    <tr>\n",
       "      <th>1589</th>\n",
       "      <td>7 Venture Dr-Bluffton SC</td>\n",
       "      <td>1489</td>\n",
       "      <td>3</td>\n",
       "      <td>136.0</td>\n",
       "      <td>9968.0</td>\n",
       "      <td>49090.4155</td>\n",
       "      <td>42053.045828</td>\n",
       "      <td>0.167345</td>\n",
       "    </tr>\n",
       "    <tr>\n",
       "      <th>1590</th>\n",
       "      <td>7 Venture Dr-Bluffton SC</td>\n",
       "      <td>1489</td>\n",
       "      <td>4</td>\n",
       "      <td>62.0</td>\n",
       "      <td>4487.0</td>\n",
       "      <td>21925.1275</td>\n",
       "      <td>18802.575861</td>\n",
       "      <td>0.166070</td>\n",
       "    </tr>\n",
       "    <tr>\n",
       "      <th>1591</th>\n",
       "      <td>3724 Boston St-Baltimore MD</td>\n",
       "      <td>1520</td>\n",
       "      <td>2</td>\n",
       "      <td>44.0</td>\n",
       "      <td>375.0</td>\n",
       "      <td>1778.2500</td>\n",
       "      <td>641.701944</td>\n",
       "      <td>1.771146</td>\n",
       "    </tr>\n",
       "    <tr>\n",
       "      <th>1592</th>\n",
       "      <td>3724 Boston St-Baltimore MD</td>\n",
       "      <td>1520</td>\n",
       "      <td>3</td>\n",
       "      <td>30.0</td>\n",
       "      <td>5059.0</td>\n",
       "      <td>22763.7600</td>\n",
       "      <td>21512.985983</td>\n",
       "      <td>0.058140</td>\n",
       "    </tr>\n",
       "    <tr>\n",
       "      <th>1593</th>\n",
       "      <td>3724 Boston St-Baltimore MD</td>\n",
       "      <td>1520</td>\n",
       "      <td>4</td>\n",
       "      <td>34.0</td>\n",
       "      <td>5381.0</td>\n",
       "      <td>25175.4900</td>\n",
       "      <td>23014.717868</td>\n",
       "      <td>0.093887</td>\n",
       "    </tr>\n",
       "  </tbody>\n",
       "</table>\n",
       "<p>1594 rows × 8 columns</p>\n",
       "</div>"
      ],
      "text/plain": [
       "                         ShopName  ParentID  Month  Quantity Sum  SalesQty  \\\n",
       "0                       Woodhaven         1      2          20.0    1116.0   \n",
       "1                       Woodhaven         1      3          74.0    8256.0   \n",
       "2                       Woodhaven         1      4          16.0    6105.0   \n",
       "3                         Academy         2      2          53.0    2025.0   \n",
       "4                         Academy         2      3          75.0   11300.0   \n",
       "...                           ...       ...    ...           ...       ...   \n",
       "1589     7 Venture Dr-Bluffton SC      1489      3         136.0    9968.0   \n",
       "1590     7 Venture Dr-Bluffton SC      1489      4          62.0    4487.0   \n",
       "1591  3724 Boston St-Baltimore MD      1520      2          44.0     375.0   \n",
       "1592  3724 Boston St-Baltimore MD      1520      3          30.0    5059.0   \n",
       "1593  3724 Boston St-Baltimore MD      1520      4          34.0    5381.0   \n",
       "\n",
       "      Actual Sales  Predicted_Sales  Variance  \n",
       "0        5829.2420      4140.867663  0.407734  \n",
       "1       42016.3040     35139.269589  0.195708  \n",
       "2       31070.3780     26379.289511  0.177832  \n",
       "3       10525.3360      7810.988632  0.347504  \n",
       "4       57532.6715     48521.045082  0.185726  \n",
       "...            ...              ...       ...  \n",
       "1589    49090.4155     42053.045828  0.167345  \n",
       "1590    21925.1275     18802.575861  0.166070  \n",
       "1591     1778.2500       641.701944  1.771146  \n",
       "1592    22763.7600     21512.985983  0.058140  \n",
       "1593    25175.4900     23014.717868  0.093887  \n",
       "\n",
       "[1594 rows x 8 columns]"
      ]
     },
     "execution_count": 68,
     "metadata": {},
     "output_type": "execute_result"
    }
   ],
   "source": [
    "merge_df"
   ]
  },
  {
   "cell_type": "markdown",
   "id": "ff071331",
   "metadata": {},
   "source": [
    "# State Regression Analysis"
   ]
  },
  {
   "cell_type": "code",
   "execution_count": 69,
   "id": "7d482ad2",
   "metadata": {},
   "outputs": [],
   "source": [
    "#Inv_group variable grouped by Shop ID Customer Name , Month and Product desc. Most Important is Quantity Shipped sum and mean for the months\n",
    "state_inv_group=inv_royalty.groupby(['STATE','Month'])[['QUANTITYSHIPPED']].sum().reset_index()\n",
    "state_inv_group.rename(columns={'STATE':'State'},inplace=True)"
   ]
  },
  {
   "cell_type": "code",
   "execution_count": 70,
   "id": "74ed7925",
   "metadata": {},
   "outputs": [
    {
     "data": {
      "text/html": [
       "<div>\n",
       "<style scoped>\n",
       "    .dataframe tbody tr th:only-of-type {\n",
       "        vertical-align: middle;\n",
       "    }\n",
       "\n",
       "    .dataframe tbody tr th {\n",
       "        vertical-align: top;\n",
       "    }\n",
       "\n",
       "    .dataframe thead th {\n",
       "        text-align: right;\n",
       "    }\n",
       "</style>\n",
       "<table border=\"1\" class=\"dataframe\">\n",
       "  <thead>\n",
       "    <tr style=\"text-align: right;\">\n",
       "      <th></th>\n",
       "      <th>State</th>\n",
       "      <th>Month</th>\n",
       "      <th>SalesQty</th>\n",
       "      <th>SalesMny</th>\n",
       "    </tr>\n",
       "  </thead>\n",
       "  <tbody>\n",
       "    <tr>\n",
       "      <th>0</th>\n",
       "      <td>AL</td>\n",
       "      <td>1</td>\n",
       "      <td>6510</td>\n",
       "      <td>29993.4585</td>\n",
       "    </tr>\n",
       "    <tr>\n",
       "      <th>1</th>\n",
       "      <td>AL</td>\n",
       "      <td>2</td>\n",
       "      <td>8159</td>\n",
       "      <td>40013.4170</td>\n",
       "    </tr>\n",
       "    <tr>\n",
       "      <th>2</th>\n",
       "      <td>AL</td>\n",
       "      <td>3</td>\n",
       "      <td>16898</td>\n",
       "      <td>90717.2125</td>\n",
       "    </tr>\n",
       "    <tr>\n",
       "      <th>3</th>\n",
       "      <td>AL</td>\n",
       "      <td>4</td>\n",
       "      <td>7502</td>\n",
       "      <td>39848.2500</td>\n",
       "    </tr>\n",
       "    <tr>\n",
       "      <th>4</th>\n",
       "      <td>AZ</td>\n",
       "      <td>1</td>\n",
       "      <td>9406</td>\n",
       "      <td>42412.9730</td>\n",
       "    </tr>\n",
       "    <tr>\n",
       "      <th>...</th>\n",
       "      <td>...</td>\n",
       "      <td>...</td>\n",
       "      <td>...</td>\n",
       "      <td>...</td>\n",
       "    </tr>\n",
       "    <tr>\n",
       "      <th>101</th>\n",
       "      <td>VA</td>\n",
       "      <td>4</td>\n",
       "      <td>46097</td>\n",
       "      <td>259521.0000</td>\n",
       "    </tr>\n",
       "    <tr>\n",
       "      <th>102</th>\n",
       "      <td>WV</td>\n",
       "      <td>1</td>\n",
       "      <td>2768</td>\n",
       "      <td>9122.5000</td>\n",
       "    </tr>\n",
       "    <tr>\n",
       "      <th>103</th>\n",
       "      <td>WV</td>\n",
       "      <td>2</td>\n",
       "      <td>3626</td>\n",
       "      <td>12309.7150</td>\n",
       "    </tr>\n",
       "    <tr>\n",
       "      <th>104</th>\n",
       "      <td>WV</td>\n",
       "      <td>3</td>\n",
       "      <td>4149</td>\n",
       "      <td>13746.5550</td>\n",
       "    </tr>\n",
       "    <tr>\n",
       "      <th>105</th>\n",
       "      <td>WV</td>\n",
       "      <td>4</td>\n",
       "      <td>2743</td>\n",
       "      <td>9107.0000</td>\n",
       "    </tr>\n",
       "  </tbody>\n",
       "</table>\n",
       "<p>106 rows × 4 columns</p>\n",
       "</div>"
      ],
      "text/plain": [
       "    State  Month  SalesQty     SalesMny\n",
       "0      AL      1      6510   29993.4585\n",
       "1      AL      2      8159   40013.4170\n",
       "2      AL      3     16898   90717.2125\n",
       "3      AL      4      7502   39848.2500\n",
       "4      AZ      1      9406   42412.9730\n",
       "..    ...    ...       ...          ...\n",
       "101    VA      4     46097  259521.0000\n",
       "102    WV      1      2768    9122.5000\n",
       "103    WV      2      3626   12309.7150\n",
       "104    WV      3      4149   13746.5550\n",
       "105    WV      4      2743    9107.0000\n",
       "\n",
       "[106 rows x 4 columns]"
      ]
     },
     "execution_count": 70,
     "metadata": {},
     "output_type": "execute_result"
    }
   ],
   "source": [
    "#Groups Royalty variable by Shop ID and Month\n",
    "state_royalty=royalty.groupby(['State','Month'])[['SalesQty','SalesMny']].sum().reset_index()\n",
    "state_royalty"
   ]
  },
  {
   "cell_type": "code",
   "execution_count": 71,
   "id": "c956f994",
   "metadata": {},
   "outputs": [
    {
     "data": {
      "text/html": [
       "<div>\n",
       "<style scoped>\n",
       "    .dataframe tbody tr th:only-of-type {\n",
       "        vertical-align: middle;\n",
       "    }\n",
       "\n",
       "    .dataframe tbody tr th {\n",
       "        vertical-align: top;\n",
       "    }\n",
       "\n",
       "    .dataframe thead th {\n",
       "        text-align: right;\n",
       "    }\n",
       "</style>\n",
       "<table border=\"1\" class=\"dataframe\">\n",
       "  <thead>\n",
       "    <tr style=\"text-align: right;\">\n",
       "      <th></th>\n",
       "      <th>State</th>\n",
       "      <th>Month</th>\n",
       "      <th>QUANTITYSHIPPED</th>\n",
       "      <th>SalesQty</th>\n",
       "      <th>SalesMny</th>\n",
       "    </tr>\n",
       "  </thead>\n",
       "  <tbody>\n",
       "    <tr>\n",
       "      <th>0</th>\n",
       "      <td>AL</td>\n",
       "      <td>1</td>\n",
       "      <td>76.0</td>\n",
       "      <td>6510</td>\n",
       "      <td>29993.4585</td>\n",
       "    </tr>\n",
       "    <tr>\n",
       "      <th>1</th>\n",
       "      <td>AL</td>\n",
       "      <td>2</td>\n",
       "      <td>93.5</td>\n",
       "      <td>8159</td>\n",
       "      <td>40013.4170</td>\n",
       "    </tr>\n",
       "    <tr>\n",
       "      <th>2</th>\n",
       "      <td>AL</td>\n",
       "      <td>3</td>\n",
       "      <td>171.0</td>\n",
       "      <td>16898</td>\n",
       "      <td>90717.2125</td>\n",
       "    </tr>\n",
       "    <tr>\n",
       "      <th>3</th>\n",
       "      <td>AL</td>\n",
       "      <td>4</td>\n",
       "      <td>109.0</td>\n",
       "      <td>7502</td>\n",
       "      <td>39848.2500</td>\n",
       "    </tr>\n",
       "    <tr>\n",
       "      <th>4</th>\n",
       "      <td>AZ</td>\n",
       "      <td>1</td>\n",
       "      <td>68.0</td>\n",
       "      <td>9406</td>\n",
       "      <td>42412.9730</td>\n",
       "    </tr>\n",
       "    <tr>\n",
       "      <th>...</th>\n",
       "      <td>...</td>\n",
       "      <td>...</td>\n",
       "      <td>...</td>\n",
       "      <td>...</td>\n",
       "      <td>...</td>\n",
       "    </tr>\n",
       "    <tr>\n",
       "      <th>99</th>\n",
       "      <td>VA</td>\n",
       "      <td>4</td>\n",
       "      <td>411.0</td>\n",
       "      <td>46097</td>\n",
       "      <td>259521.0000</td>\n",
       "    </tr>\n",
       "    <tr>\n",
       "      <th>100</th>\n",
       "      <td>WV</td>\n",
       "      <td>1</td>\n",
       "      <td>36.5</td>\n",
       "      <td>2768</td>\n",
       "      <td>9122.5000</td>\n",
       "    </tr>\n",
       "    <tr>\n",
       "      <th>101</th>\n",
       "      <td>WV</td>\n",
       "      <td>2</td>\n",
       "      <td>26.0</td>\n",
       "      <td>3626</td>\n",
       "      <td>12309.7150</td>\n",
       "    </tr>\n",
       "    <tr>\n",
       "      <th>102</th>\n",
       "      <td>WV</td>\n",
       "      <td>3</td>\n",
       "      <td>68.0</td>\n",
       "      <td>4149</td>\n",
       "      <td>13746.5550</td>\n",
       "    </tr>\n",
       "    <tr>\n",
       "      <th>103</th>\n",
       "      <td>WV</td>\n",
       "      <td>4</td>\n",
       "      <td>-1.0</td>\n",
       "      <td>2743</td>\n",
       "      <td>9107.0000</td>\n",
       "    </tr>\n",
       "  </tbody>\n",
       "</table>\n",
       "<p>104 rows × 5 columns</p>\n",
       "</div>"
      ],
      "text/plain": [
       "    State  Month  QUANTITYSHIPPED  SalesQty     SalesMny\n",
       "0      AL      1             76.0      6510   29993.4585\n",
       "1      AL      2             93.5      8159   40013.4170\n",
       "2      AL      3            171.0     16898   90717.2125\n",
       "3      AL      4            109.0      7502   39848.2500\n",
       "4      AZ      1             68.0      9406   42412.9730\n",
       "..    ...    ...              ...       ...          ...\n",
       "99     VA      4            411.0     46097  259521.0000\n",
       "100    WV      1             36.5      2768    9122.5000\n",
       "101    WV      2             26.0      3626   12309.7150\n",
       "102    WV      3             68.0      4149   13746.5550\n",
       "103    WV      4             -1.0      2743    9107.0000\n",
       "\n",
       "[104 rows x 5 columns]"
      ]
     },
     "execution_count": 71,
     "metadata": {},
     "output_type": "execute_result"
    }
   ],
   "source": [
    "state_merge=pd.merge(state_inv_group,state_royalty,on=['State','Month'])\n",
    "state_merge"
   ]
  },
  {
   "cell_type": "code",
   "execution_count": 72,
   "id": "d3a0ccea",
   "metadata": {},
   "outputs": [],
   "source": [
    "#Gets the features for the regression model and uploads the model\n",
    "#os.chdir(r'L:\\J.Harned\\Royalty\\Royalty Regression')\n",
    "#reg=joblib.load('royalty_regression_model')"
   ]
  },
  {
   "cell_type": "code",
   "execution_count": 73,
   "id": "71df35f7",
   "metadata": {},
   "outputs": [
    {
     "data": {
      "text/html": [
       "<div>\n",
       "<style scoped>\n",
       "    .dataframe tbody tr th:only-of-type {\n",
       "        vertical-align: middle;\n",
       "    }\n",
       "\n",
       "    .dataframe tbody tr th {\n",
       "        vertical-align: top;\n",
       "    }\n",
       "\n",
       "    .dataframe thead th {\n",
       "        text-align: right;\n",
       "    }\n",
       "</style>\n",
       "<table border=\"1\" class=\"dataframe\">\n",
       "  <thead>\n",
       "    <tr style=\"text-align: right;\">\n",
       "      <th></th>\n",
       "      <th>Month</th>\n",
       "      <th>QUANTITYSHIPPED</th>\n",
       "      <th>SalesQty</th>\n",
       "    </tr>\n",
       "  </thead>\n",
       "  <tbody>\n",
       "    <tr>\n",
       "      <th>0</th>\n",
       "      <td>1</td>\n",
       "      <td>76.0</td>\n",
       "      <td>6510</td>\n",
       "    </tr>\n",
       "    <tr>\n",
       "      <th>1</th>\n",
       "      <td>2</td>\n",
       "      <td>93.5</td>\n",
       "      <td>8159</td>\n",
       "    </tr>\n",
       "    <tr>\n",
       "      <th>2</th>\n",
       "      <td>3</td>\n",
       "      <td>171.0</td>\n",
       "      <td>16898</td>\n",
       "    </tr>\n",
       "    <tr>\n",
       "      <th>3</th>\n",
       "      <td>4</td>\n",
       "      <td>109.0</td>\n",
       "      <td>7502</td>\n",
       "    </tr>\n",
       "    <tr>\n",
       "      <th>4</th>\n",
       "      <td>1</td>\n",
       "      <td>68.0</td>\n",
       "      <td>9406</td>\n",
       "    </tr>\n",
       "    <tr>\n",
       "      <th>...</th>\n",
       "      <td>...</td>\n",
       "      <td>...</td>\n",
       "      <td>...</td>\n",
       "    </tr>\n",
       "    <tr>\n",
       "      <th>99</th>\n",
       "      <td>4</td>\n",
       "      <td>411.0</td>\n",
       "      <td>46097</td>\n",
       "    </tr>\n",
       "    <tr>\n",
       "      <th>100</th>\n",
       "      <td>1</td>\n",
       "      <td>36.5</td>\n",
       "      <td>2768</td>\n",
       "    </tr>\n",
       "    <tr>\n",
       "      <th>101</th>\n",
       "      <td>2</td>\n",
       "      <td>26.0</td>\n",
       "      <td>3626</td>\n",
       "    </tr>\n",
       "    <tr>\n",
       "      <th>102</th>\n",
       "      <td>3</td>\n",
       "      <td>68.0</td>\n",
       "      <td>4149</td>\n",
       "    </tr>\n",
       "    <tr>\n",
       "      <th>103</th>\n",
       "      <td>4</td>\n",
       "      <td>-1.0</td>\n",
       "      <td>2743</td>\n",
       "    </tr>\n",
       "  </tbody>\n",
       "</table>\n",
       "<p>104 rows × 3 columns</p>\n",
       "</div>"
      ],
      "text/plain": [
       "     Month  QUANTITYSHIPPED  SalesQty\n",
       "0        1             76.0      6510\n",
       "1        2             93.5      8159\n",
       "2        3            171.0     16898\n",
       "3        4            109.0      7502\n",
       "4        1             68.0      9406\n",
       "..     ...              ...       ...\n",
       "99       4            411.0     46097\n",
       "100      1             36.5      2768\n",
       "101      2             26.0      3626\n",
       "102      3             68.0      4149\n",
       "103      4             -1.0      2743\n",
       "\n",
       "[104 rows x 3 columns]"
      ]
     },
     "execution_count": 73,
     "metadata": {},
     "output_type": "execute_result"
    }
   ],
   "source": [
    "state_features=state_merge.drop(['State','SalesMny'],axis=1)\n",
    "state_features"
   ]
  },
  {
   "cell_type": "code",
   "execution_count": 74,
   "id": "e50c5859",
   "metadata": {},
   "outputs": [
    {
     "name": "stderr",
     "output_type": "stream",
     "text": [
      "C:\\Users\\jharned\\Anaconda3\\lib\\site-packages\\sklearn\\base.py:493: FutureWarning: The feature names should match those that were passed during fit. Starting version 1.2, an error will be raised.\n",
      "Feature names unseen at fit time:\n",
      "- QUANTITYSHIPPED\n",
      "Feature names seen at fit time, yet now missing:\n",
      "- Quantity Sum\n",
      "\n",
      "  warnings.warn(message, FutureWarning)\n"
     ]
    }
   ],
   "source": [
    "state_predicted_sales=reg.predict(state_features)\n",
    "state_reg=pd.concat([state_merge, pd.DataFrame(state_predicted_sales)],axis=1)"
   ]
  },
  {
   "cell_type": "code",
   "execution_count": 75,
   "id": "e3d1e778",
   "metadata": {},
   "outputs": [],
   "source": [
    "state_reg.rename(columns={0:'Predicted_Sales'},inplace=True)"
   ]
  },
  {
   "cell_type": "code",
   "execution_count": 76,
   "id": "5c419fa0",
   "metadata": {},
   "outputs": [],
   "source": [
    "#state_reg['Variance']=(state_reg.SalesMny-state_reg.Predicted_Sales)/state_reg.Predicted_Sales\n",
    "#state_reg.to_excel('State Regression Results March 23.xlsx',index=False)"
   ]
  },
  {
   "cell_type": "code",
   "execution_count": 77,
   "id": "dd470b0e",
   "metadata": {},
   "outputs": [
    {
     "name": "stderr",
     "output_type": "stream",
     "text": [
      "C:\\Users\\jharned\\Anaconda3\\lib\\site-packages\\xlsxwriter\\workbook.py:339: UserWarning: Calling close() on already closed file.\n",
      "  warn(\"Calling close() on already closed file.\")\n"
     ]
    }
   ],
   "source": [
    "#Saves the Dataframes to excel. These will be pasted into the____ file and be automatically updated\n",
    "os.chdir(r'L:\\J.Harned\\Royalty\\Royalty Regression')\n",
    "writer=pd.ExcelWriter('Monthly Custard and Mixes Orders thru 4.24.23.xlsx')\n",
    "#merge_df.to_excel(writer,sheet_name='Monthly Orders',index=False)\n",
    "regression.to_excel(writer, sheet_name='Regression Results', index=False)\n",
    "state_reg.to_excel(writer, sheet_name='State Regression Results',index=False)\n",
    "yearly.to_excel(writer, sheet_name='Yearly Orders',index=False)\n",
    "company_month.to_excel(writer, sheet_name='Monthy Average shipped',index=False)\n",
    "royalty_month.to_excel(writer, sheet_name='Royalty By Month',index=False)\n",
    "writer.save()\n",
    "writer.close()"
   ]
  },
  {
   "cell_type": "code",
   "execution_count": null,
   "id": "96dd6a95",
   "metadata": {},
   "outputs": [],
   "source": [
    "features"
   ]
  },
  {
   "cell_type": "code",
   "execution_count": null,
   "id": "7cc4404a",
   "metadata": {},
   "outputs": [],
   "source": [
    "merge_df.groupby(['Month','ShopID'])[['Quantity Sum']].sum().agg({'Quantity Sum':['mean','median','std']})"
   ]
  },
  {
   "cell_type": "code",
   "execution_count": null,
   "id": "03715cf2",
   "metadata": {},
   "outputs": [],
   "source": [
    "merge_df.groupby(['Month'])[['Quantity Sum']].sum()/num_shops"
   ]
  },
  {
   "cell_type": "markdown",
   "id": "108d29fa",
   "metadata": {},
   "source": [
    "# July Analysis"
   ]
  },
  {
   "cell_type": "code",
   "execution_count": null,
   "id": "3bd192cc",
   "metadata": {},
   "outputs": [],
   "source": [
    "srs['Month']=srs.StartDate.dt.month\n",
    "srs_2021['Month']=srs_2021.StartDate.dt.month"
   ]
  },
  {
   "cell_type": "code",
   "execution_count": null,
   "id": "db74a154",
   "metadata": {},
   "outputs": [],
   "source": [
    "srs[srs.Month==7].groupby('ShopID')[['SalesQty','SalesMny']].agg('sum')"
   ]
  },
  {
   "cell_type": "code",
   "execution_count": null,
   "id": "90ed8a06",
   "metadata": {},
   "outputs": [],
   "source": [
    "srs_2021[srs_2021.Week==26]"
   ]
  },
  {
   "cell_type": "markdown",
   "id": "373247c2",
   "metadata": {},
   "source": [
    "# 10.19.22 Product Sales and Quanity Sold Analysis\n",
    "## Comparing Product Sold vs Retail Price by shop\n"
   ]
  },
  {
   "cell_type": "code",
   "execution_count": null,
   "id": "bf588089",
   "metadata": {},
   "outputs": [],
   "source": [
    "#Grabs only the Product Types that are part of royalty calc\n",
    "royalty=srs[(srs.ProductTypeName=='Italian Ice')|(srs.ProductTypeName=='Gelati')|(srs.ProductTypeName=='Misto')|(srs.ProductTypeName=='Custard')|(srs.ProductTypeName=='Milkshakes')|(srs.ProductTypeName=='Frozen Beverages')|(srs.ProductTypeName=='Hand Scooped Custard')]"
   ]
  },
  {
   "cell_type": "code",
   "execution_count": null,
   "id": "de217639",
   "metadata": {},
   "outputs": [],
   "source": [
    "royalty.columns"
   ]
  },
  {
   "cell_type": "code",
   "execution_count": null,
   "id": "38337d67",
   "metadata": {},
   "outputs": [],
   "source": [
    "sales_store=royalty.groupby(['ShopID','ProductCode','ProdSizeCode','ProductTypeName','ProductSizeName'])[['SalesQty','SalesMny']].agg('sum').reset_index()"
   ]
  },
  {
   "cell_type": "code",
   "execution_count": null,
   "id": "99de052e",
   "metadata": {},
   "outputs": [],
   "source": [
    "sales_store['Avg_Price']=round(sales_store.SalesMny/sales_store.SalesQty,2)"
   ]
  },
  {
   "cell_type": "code",
   "execution_count": null,
   "id": "a1bb1745",
   "metadata": {},
   "outputs": [],
   "source": [
    "sales_store.to_excel('Avg Price.xlsx',sheet_name='AvgPrice')"
   ]
  },
  {
   "cell_type": "code",
   "execution_count": null,
   "id": "a67fcfd6",
   "metadata": {},
   "outputs": [],
   "source": [
    "sales_store.transpose().to_excel('Test.xlsx')"
   ]
  },
  {
   "cell_type": "code",
   "execution_count": null,
   "id": "8df39b86",
   "metadata": {},
   "outputs": [],
   "source": [
    "retail=pd.read_excel('Avg Price.xlsx',sheet_name='retailprices')"
   ]
  },
  {
   "cell_type": "code",
   "execution_count": null,
   "id": "a5f0ed08",
   "metadata": {},
   "outputs": [],
   "source": [
    "retail.head()"
   ]
  },
  {
   "cell_type": "code",
   "execution_count": null,
   "id": "d5c31fd2",
   "metadata": {},
   "outputs": [],
   "source": [
    "retail.pivot_table(index=['Store ID','Italian Ice - Kids Ice','Italian Ice - Small Ice'])"
   ]
  },
  {
   "cell_type": "code",
   "execution_count": null,
   "id": "713c3594",
   "metadata": {},
   "outputs": [],
   "source": [
    "retail.drop(retail.iloc[:,[0,1,2,3,4]],axis=1).transpose().reset_index(index=[1:531])"
   ]
  },
  {
   "cell_type": "code",
   "execution_count": null,
   "id": "212c485a",
   "metadata": {},
   "outputs": [],
   "source": [
    "for i, row in retail.iterrows():\n",
    "    print(i, row)"
   ]
  },
  {
   "cell_type": "code",
   "execution_count": null,
   "id": "a1c5ded7",
   "metadata": {},
   "outputs": [],
   "source": [
    "retail.resetrange(len(retail))"
   ]
  },
  {
   "cell_type": "markdown",
   "id": "11b703f9",
   "metadata": {},
   "source": [
    "### Regression Analysis"
   ]
  },
  {
   "cell_type": "code",
   "execution_count": null,
   "id": "3f0e0837",
   "metadata": {},
   "outputs": [],
   "source": [
    "%matplotlib inline\n",
    "os.chdir(r'G:\\FinanceReports\\2022\\Wk52')\n"
   ]
  },
  {
   "cell_type": "code",
   "execution_count": null,
   "id": "0d7fb705",
   "metadata": {},
   "outputs": [],
   "source": [
    "merge_df.head()"
   ]
  },
  {
   "cell_type": "code",
   "execution_count": null,
   "id": "2f8f8d95",
   "metadata": {},
   "outputs": [],
   "source": [
    "merge_df.plot(kind='scatter',x='SalesMny',y='SalesQty')"
   ]
  },
  {
   "cell_type": "code",
   "execution_count": null,
   "id": "33d551dc",
   "metadata": {},
   "outputs": [],
   "source": [
    "merge_df.plot(kind='scatter',x='SalesMny',y='Quantity Sum')"
   ]
  },
  {
   "cell_type": "code",
   "execution_count": null,
   "id": "1baca076",
   "metadata": {},
   "outputs": [],
   "source": [
    "merge_df.plot(kind='scatter',x='Month',y='SalesMny')"
   ]
  },
  {
   "cell_type": "code",
   "execution_count": null,
   "id": "b666977f",
   "metadata": {},
   "outputs": [],
   "source": [
    "sales_store.ProductTypeName"
   ]
  },
  {
   "cell_type": "code",
   "execution_count": null,
   "id": "c2da06f7",
   "metadata": {},
   "outputs": [],
   "source": [
    "target=merge_df.iloc[:,-1]\n",
    "target=pd.DataFrame(target)\n",
    "target"
   ]
  },
  {
   "cell_type": "code",
   "execution_count": null,
   "id": "f395e877",
   "metadata": {},
   "outputs": [],
   "source": [
    "stores=merge_df[['CUSTOMERNAME','ShopID']]"
   ]
  },
  {
   "cell_type": "code",
   "execution_count": null,
   "id": "5ef1f749",
   "metadata": {},
   "outputs": [],
   "source": [
    "stores"
   ]
  },
  {
   "cell_type": "code",
   "execution_count": null,
   "id": "a70e734b",
   "metadata": {
    "scrolled": false
   },
   "outputs": [],
   "source": [
    "features=merge_df.drop(['CUSTOMERNAME','ShopID','SalesMny'],axis=1)\n",
    "features.drop('Quantity Mean',axis=1,inplace=True)\n",
    "features"
   ]
  },
  {
   "cell_type": "code",
   "execution_count": null,
   "id": "61db2e59",
   "metadata": {},
   "outputs": [],
   "source": [
    "x_train, x_test,y_train,y_test=train_test_split(features,target,test_size=.2, random_state=42)"
   ]
  },
  {
   "cell_type": "code",
   "execution_count": null,
   "id": "ab0dd243",
   "metadata": {},
   "outputs": [],
   "source": [
    "reg=LinearRegression()\n",
    "\n",
    "model=reg.fit(x_train,y_train)"
   ]
  },
  {
   "cell_type": "code",
   "execution_count": null,
   "id": "56aec07b",
   "metadata": {},
   "outputs": [],
   "source": [
    "model.intercept_, model.coef_"
   ]
  },
  {
   "cell_type": "code",
   "execution_count": null,
   "id": "f61c06e1",
   "metadata": {},
   "outputs": [],
   "source": [
    "model.score(x_test,y_test)"
   ]
  },
  {
   "cell_type": "code",
   "execution_count": null,
   "id": "6ae1aab4",
   "metadata": {},
   "outputs": [],
   "source": [
    "y_pred=reg.predict(x_test)"
   ]
  },
  {
   "cell_type": "code",
   "execution_count": null,
   "id": "447580e4",
   "metadata": {},
   "outputs": [],
   "source": [
    "os.chdir(r'L:\\J.Harned\\Royalty\\Royalty Regression')\n",
    "joblib.dump(model,'royalty_regression_model')"
   ]
  },
  {
   "cell_type": "code",
   "execution_count": null,
   "id": "0d5c08fb",
   "metadata": {},
   "outputs": [],
   "source": [
    "from sklearn.metrics import mean_absolute_error\n",
    "mean_absolute_error(y_test,y_pred)"
   ]
  },
  {
   "cell_type": "code",
   "execution_count": null,
   "id": "78c2afb4",
   "metadata": {},
   "outputs": [],
   "source": [
    "mod=sm.OLS(y_train,x_train)  \n",
    "mod.fit().summary()"
   ]
  },
  {
   "cell_type": "code",
   "execution_count": null,
   "id": "d7dbfe8f",
   "metadata": {},
   "outputs": [],
   "source": [
    "from sklearn.ensemble import RandomForestRegressor\n",
    "rfr=RandomForestRegressor()\n",
    "rfr.fit(x_train,y_train.values.ravel())"
   ]
  },
  {
   "cell_type": "code",
   "execution_count": null,
   "id": "1407d00f",
   "metadata": {},
   "outputs": [],
   "source": [
    "pred_y=rfr.predict(x_test)\n",
    "pred_y"
   ]
  },
  {
   "cell_type": "code",
   "execution_count": null,
   "id": "b4fd148c",
   "metadata": {},
   "outputs": [],
   "source": [
    "mean_absolute_error(y_test,pred_y)"
   ]
  },
  {
   "cell_type": "code",
   "execution_count": null,
   "id": "4e5f334d",
   "metadata": {},
   "outputs": [],
   "source": []
  }
 ],
 "metadata": {
  "kernelspec": {
   "display_name": "Python 3 (ipykernel)",
   "language": "python",
   "name": "python3"
  },
  "language_info": {
   "codemirror_mode": {
    "name": "ipython",
    "version": 3
   },
   "file_extension": ".py",
   "mimetype": "text/x-python",
   "name": "python",
   "nbconvert_exporter": "python",
   "pygments_lexer": "ipython3",
   "version": "3.9.12"
  }
 },
 "nbformat": 4,
 "nbformat_minor": 5
}
