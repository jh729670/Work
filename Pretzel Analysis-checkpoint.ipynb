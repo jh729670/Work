{
 "cells": [
  {
   "cell_type": "code",
   "execution_count": 1,
   "id": "1837faad",
   "metadata": {},
   "outputs": [],
   "source": [
    "import pandas as pd\n",
    "import os\n",
    "import matplotlib.pyplot as plt\n",
    "import seaborn as sns\n",
    "import xlwings as xw\n",
    "%matplotlib inline"
   ]
  },
  {
   "cell_type": "code",
   "execution_count": 2,
   "id": "07dbe81e",
   "metadata": {},
   "outputs": [],
   "source": [
    "os.chdir(r'G:\\FinanceReports\\2022\\Wk52')"
   ]
  },
  {
   "cell_type": "code",
   "execution_count": 3,
   "id": "60ad0c88",
   "metadata": {},
   "outputs": [],
   "source": [
    "data_1=pd.read_excel('2022-SRSsales-productLevel-wk1-52 1.18.2023.xlsx',sheet_name='2022')"
   ]
  },
  {
   "cell_type": "code",
   "execution_count": 15,
   "id": "2c992b00",
   "metadata": {},
   "outputs": [],
   "source": [
    "os.chdir(r'G:\\FinanceReports\\2023\\Wk13')"
   ]
  },
  {
   "cell_type": "code",
   "execution_count": 16,
   "id": "3efcbb5c",
   "metadata": {},
   "outputs": [],
   "source": [
    "data=pd.read_excel('2023-SRSsales-productLevel-wk13.xlsx',sheet_name='2023')"
   ]
  },
  {
   "cell_type": "code",
   "execution_count": 17,
   "id": "911eed8b",
   "metadata": {},
   "outputs": [],
   "source": [
    "total=pd.concat([data_1,data])"
   ]
  },
  {
   "cell_type": "code",
   "execution_count": 18,
   "id": "7286a262",
   "metadata": {},
   "outputs": [
    {
     "data": {
      "text/plain": [
       "(744436, 27)"
      ]
     },
     "execution_count": 18,
     "metadata": {},
     "output_type": "execute_result"
    }
   ],
   "source": [
    "total.shape"
   ]
  },
  {
   "cell_type": "code",
   "execution_count": 19,
   "id": "0c64537e",
   "metadata": {},
   "outputs": [],
   "source": [
    "total.drop_duplicates(keep='first', inplace=True)"
   ]
  },
  {
   "cell_type": "code",
   "execution_count": 20,
   "id": "6e2dac41",
   "metadata": {},
   "outputs": [],
   "source": [
    "states=['NJ','PA','DE']\n",
    "pretzel=[122,123,124,125,126]\n",
    "total['Year']=total.StartDate.dt.year\n",
    "shops=total[(total.State.isin(states))&(total.ProdSizeCode.isin(pretzel))]"
   ]
  },
  {
   "cell_type": "code",
   "execution_count": 21,
   "id": "e59fdf6e",
   "metadata": {},
   "outputs": [
    {
     "data": {
      "text/plain": [
       "(9191, 27)"
      ]
     },
     "execution_count": 21,
     "metadata": {},
     "output_type": "execute_result"
    }
   ],
   "source": [
    "shops.shape"
   ]
  },
  {
   "cell_type": "code",
   "execution_count": 22,
   "id": "0772ec36",
   "metadata": {},
   "outputs": [],
   "source": [
    "shops_pivot=round(shops.pivot_table(index=['ProductSizeName'],columns='Year',values=['SalesMny','SalesQty'],aggfunc='sum'),2).reset_index()"
   ]
  },
  {
   "cell_type": "code",
   "execution_count": 23,
   "id": "b66a401f",
   "metadata": {},
   "outputs": [],
   "source": [
    "sum_totals=round(total[total.State.isin(states)].groupby(['Year'])[['SalesMny','SalesQty']].sum().reset_index(),2)"
   ]
  },
  {
   "cell_type": "code",
   "execution_count": 24,
   "id": "d3271dd3",
   "metadata": {},
   "outputs": [
    {
     "data": {
      "text/html": [
       "<div>\n",
       "<style scoped>\n",
       "    .dataframe tbody tr th:only-of-type {\n",
       "        vertical-align: middle;\n",
       "    }\n",
       "\n",
       "    .dataframe tbody tr th {\n",
       "        vertical-align: top;\n",
       "    }\n",
       "\n",
       "    .dataframe thead tr th {\n",
       "        text-align: left;\n",
       "    }\n",
       "</style>\n",
       "<table border=\"1\" class=\"dataframe\">\n",
       "  <thead>\n",
       "    <tr>\n",
       "      <th></th>\n",
       "      <th>ProductSizeName</th>\n",
       "      <th colspan=\"2\" halign=\"left\">SalesMny</th>\n",
       "      <th colspan=\"2\" halign=\"left\">SalesQty</th>\n",
       "    </tr>\n",
       "    <tr>\n",
       "      <th>Year</th>\n",
       "      <th></th>\n",
       "      <th>2022</th>\n",
       "      <th>2023</th>\n",
       "      <th>2022</th>\n",
       "      <th>2023</th>\n",
       "    </tr>\n",
       "  </thead>\n",
       "  <tbody>\n",
       "    <tr>\n",
       "      <th>0</th>\n",
       "      <td>Big Cheese Super Pretzel</td>\n",
       "      <td>347451.00</td>\n",
       "      <td>66667.26</td>\n",
       "      <td>115176</td>\n",
       "      <td>20704</td>\n",
       "    </tr>\n",
       "    <tr>\n",
       "      <th>1</th>\n",
       "      <td>King Size Super Pretzel</td>\n",
       "      <td>80153.11</td>\n",
       "      <td>21805.22</td>\n",
       "      <td>38928</td>\n",
       "      <td>9689</td>\n",
       "    </tr>\n",
       "    <tr>\n",
       "      <th>2</th>\n",
       "      <td>Philly Pretzel</td>\n",
       "      <td>354207.44</td>\n",
       "      <td>50558.91</td>\n",
       "      <td>302890</td>\n",
       "      <td>38858</td>\n",
       "    </tr>\n",
       "    <tr>\n",
       "      <th>3</th>\n",
       "      <td>Pretzel Braid</td>\n",
       "      <td>157174.07</td>\n",
       "      <td>27671.19</td>\n",
       "      <td>58311</td>\n",
       "      <td>9229</td>\n",
       "    </tr>\n",
       "    <tr>\n",
       "      <th>4</th>\n",
       "      <td>Super Pretzel - Small</td>\n",
       "      <td>145742.10</td>\n",
       "      <td>24211.18</td>\n",
       "      <td>114091</td>\n",
       "      <td>17076</td>\n",
       "    </tr>\n",
       "  </tbody>\n",
       "</table>\n",
       "</div>"
      ],
      "text/plain": [
       "               ProductSizeName   SalesMny           SalesQty       \n",
       "Year                                 2022      2023     2022   2023\n",
       "0     Big Cheese Super Pretzel  347451.00  66667.26   115176  20704\n",
       "1      King Size Super Pretzel   80153.11  21805.22    38928   9689\n",
       "2               Philly Pretzel  354207.44  50558.91   302890  38858\n",
       "3                Pretzel Braid  157174.07  27671.19    58311   9229\n",
       "4        Super Pretzel - Small  145742.10  24211.18   114091  17076"
      ]
     },
     "execution_count": 24,
     "metadata": {},
     "output_type": "execute_result"
    }
   ],
   "source": [
    "shops_pivot"
   ]
  },
  {
   "cell_type": "code",
   "execution_count": 25,
   "id": "e753b4be",
   "metadata": {},
   "outputs": [
    {
     "data": {
      "text/plain": [
       "2673570"
      ]
     },
     "execution_count": 25,
     "metadata": {},
     "output_type": "execute_result"
    }
   ],
   "source": [
    "sum_totals.iloc[1,2]"
   ]
  },
  {
   "cell_type": "code",
   "execution_count": 26,
   "id": "8428817b",
   "metadata": {},
   "outputs": [
    {
     "data": {
      "text/plain": [
       "(410310, 27)"
      ]
     },
     "execution_count": 26,
     "metadata": {},
     "output_type": "execute_result"
    }
   ],
   "source": [
    "all_shops=total[total.State.isin(states)]\n",
    "all_shops.shape"
   ]
  },
  {
   "cell_type": "code",
   "execution_count": 72,
   "id": "ab28d6f5",
   "metadata": {
    "scrolled": false
   },
   "outputs": [],
   "source": [
    "sales_mix=all_shops.pivot_table(index='ProductSizeName',values='SalesMny', fill_value=0,aggfunc=lambda x: sum(x)/sum(all_shops['SalesMny'])).reset_index()"
   ]
  },
  {
   "cell_type": "code",
   "execution_count": 73,
   "id": "e8b0bc8e",
   "metadata": {},
   "outputs": [],
   "source": [
    "qty_mix=all_shops.pivot_table(index='ProductSizeName',values='SalesQty', fill_value=0,aggfunc=lambda x: sum(x)/sum(all_shops['SalesQty'])).reset_index()"
   ]
  },
  {
   "cell_type": "code",
   "execution_count": 34,
   "id": "69deb8fb",
   "metadata": {},
   "outputs": [
    {
     "data": {
      "text/html": [
       "<div>\n",
       "<style scoped>\n",
       "    .dataframe tbody tr th:only-of-type {\n",
       "        vertical-align: middle;\n",
       "    }\n",
       "\n",
       "    .dataframe tbody tr th {\n",
       "        vertical-align: top;\n",
       "    }\n",
       "\n",
       "    .dataframe thead th {\n",
       "        text-align: right;\n",
       "    }\n",
       "</style>\n",
       "<table border=\"1\" class=\"dataframe\">\n",
       "  <thead>\n",
       "    <tr style=\"text-align: right;\">\n",
       "      <th></th>\n",
       "      <th>ProductSizeName</th>\n",
       "      <th>SalesQty</th>\n",
       "    </tr>\n",
       "  </thead>\n",
       "  <tbody>\n",
       "    <tr>\n",
       "      <th>0</th>\n",
       "      <td>10in Colorful Ice Guy</td>\n",
       "      <td>0.00</td>\n",
       "    </tr>\n",
       "    <tr>\n",
       "      <th>1</th>\n",
       "      <td>12 oz Rainbow Gelati</td>\n",
       "      <td>0.00</td>\n",
       "    </tr>\n",
       "    <tr>\n",
       "      <th>2</th>\n",
       "      <td>12 oz Rainbow Ice</td>\n",
       "      <td>0.00</td>\n",
       "    </tr>\n",
       "    <tr>\n",
       "      <th>3</th>\n",
       "      <td>12 oz. Frozen Drink</td>\n",
       "      <td>0.00</td>\n",
       "    </tr>\n",
       "    <tr>\n",
       "      <th>4</th>\n",
       "      <td>12 oz. Mustard Bottle</td>\n",
       "      <td>0.00</td>\n",
       "    </tr>\n",
       "    <tr>\n",
       "      <th>...</th>\n",
       "      <td>...</td>\n",
       "      <td>...</td>\n",
       "    </tr>\n",
       "    <tr>\n",
       "      <th>174</th>\n",
       "      <td>Waffle Cone/Bowl Upcharge</td>\n",
       "      <td>0.86</td>\n",
       "    </tr>\n",
       "    <tr>\n",
       "      <th>175</th>\n",
       "      <td>Waffle drizzle/dipped/topped</td>\n",
       "      <td>0.00</td>\n",
       "    </tr>\n",
       "    <tr>\n",
       "      <th>176</th>\n",
       "      <td>Whipped Cream</td>\n",
       "      <td>0.02</td>\n",
       "    </tr>\n",
       "    <tr>\n",
       "      <th>177</th>\n",
       "      <td>Womens Tshirt  Small - Xl</td>\n",
       "      <td>0.00</td>\n",
       "    </tr>\n",
       "    <tr>\n",
       "      <th>178</th>\n",
       "      <td>Womens Tshirt XXL+</td>\n",
       "      <td>0.00</td>\n",
       "    </tr>\n",
       "  </tbody>\n",
       "</table>\n",
       "<p>179 rows × 2 columns</p>\n",
       "</div>"
      ],
      "text/plain": [
       "                  ProductSizeName  SalesQty\n",
       "0           10in Colorful Ice Guy      0.00\n",
       "1            12 oz Rainbow Gelati      0.00\n",
       "2               12 oz Rainbow Ice      0.00\n",
       "3             12 oz. Frozen Drink      0.00\n",
       "4           12 oz. Mustard Bottle      0.00\n",
       "..                            ...       ...\n",
       "174     Waffle Cone/Bowl Upcharge      0.86\n",
       "175  Waffle drizzle/dipped/topped      0.00\n",
       "176                 Whipped Cream      0.02\n",
       "177     Womens Tshirt  Small - Xl      0.00\n",
       "178            Womens Tshirt XXL+      0.00\n",
       "\n",
       "[179 rows x 2 columns]"
      ]
     },
     "execution_count": 34,
     "metadata": {},
     "output_type": "execute_result"
    }
   ],
   "source": [
    "qty_mix"
   ]
  },
  {
   "cell_type": "code",
   "execution_count": 75,
   "id": "b5a4ef55",
   "metadata": {},
   "outputs": [],
   "source": [
    "qty_mix_year=all_shops.pivot_table(index='ProductSizeName',columns='Year',values='SalesQty', fill_value=0,aggfunc='sum').apply(lambda x:\n",
    "                                                                                                                 x/sum(x)).reset_index()"
   ]
  },
  {
   "cell_type": "code",
   "execution_count": 46,
   "id": "10b2e89c",
   "metadata": {},
   "outputs": [
    {
     "data": {
      "text/html": [
       "<div>\n",
       "<style scoped>\n",
       "    .dataframe tbody tr th:only-of-type {\n",
       "        vertical-align: middle;\n",
       "    }\n",
       "\n",
       "    .dataframe tbody tr th {\n",
       "        vertical-align: top;\n",
       "    }\n",
       "\n",
       "    .dataframe thead th {\n",
       "        text-align: right;\n",
       "    }\n",
       "</style>\n",
       "<table border=\"1\" class=\"dataframe\">\n",
       "  <thead>\n",
       "    <tr style=\"text-align: right;\">\n",
       "      <th>Year</th>\n",
       "      <th>2022</th>\n",
       "      <th>2023</th>\n",
       "    </tr>\n",
       "    <tr>\n",
       "      <th>ProductSizeName</th>\n",
       "      <th></th>\n",
       "      <th></th>\n",
       "    </tr>\n",
       "  </thead>\n",
       "  <tbody>\n",
       "    <tr>\n",
       "      <th>10in Colorful Ice Guy</th>\n",
       "      <td>0.00</td>\n",
       "      <td>0.00</td>\n",
       "    </tr>\n",
       "    <tr>\n",
       "      <th>12 oz Rainbow Gelati</th>\n",
       "      <td>0.00</td>\n",
       "      <td>0.00</td>\n",
       "    </tr>\n",
       "    <tr>\n",
       "      <th>12 oz Rainbow Ice</th>\n",
       "      <td>0.00</td>\n",
       "      <td>0.00</td>\n",
       "    </tr>\n",
       "    <tr>\n",
       "      <th>12 oz. Frozen Drink</th>\n",
       "      <td>0.00</td>\n",
       "      <td>0.00</td>\n",
       "    </tr>\n",
       "    <tr>\n",
       "      <th>12 oz. Mustard Bottle</th>\n",
       "      <td>0.00</td>\n",
       "      <td>0.00</td>\n",
       "    </tr>\n",
       "    <tr>\n",
       "      <th>...</th>\n",
       "      <td>...</td>\n",
       "      <td>...</td>\n",
       "    </tr>\n",
       "    <tr>\n",
       "      <th>Waffle Cone/Bowl Upcharge</th>\n",
       "      <td>0.87</td>\n",
       "      <td>0.73</td>\n",
       "    </tr>\n",
       "    <tr>\n",
       "      <th>Waffle drizzle/dipped/topped</th>\n",
       "      <td>0.00</td>\n",
       "      <td>0.00</td>\n",
       "    </tr>\n",
       "    <tr>\n",
       "      <th>Whipped Cream</th>\n",
       "      <td>0.02</td>\n",
       "      <td>0.07</td>\n",
       "    </tr>\n",
       "    <tr>\n",
       "      <th>Womens Tshirt  Small - Xl</th>\n",
       "      <td>0.00</td>\n",
       "      <td>0.00</td>\n",
       "    </tr>\n",
       "    <tr>\n",
       "      <th>Womens Tshirt XXL+</th>\n",
       "      <td>0.00</td>\n",
       "      <td>0.00</td>\n",
       "    </tr>\n",
       "  </tbody>\n",
       "</table>\n",
       "<p>179 rows × 2 columns</p>\n",
       "</div>"
      ],
      "text/plain": [
       "Year                          2022  2023\n",
       "ProductSizeName                         \n",
       "10in Colorful Ice Guy         0.00  0.00\n",
       "12 oz Rainbow Gelati          0.00  0.00\n",
       "12 oz Rainbow Ice             0.00  0.00\n",
       "12 oz. Frozen Drink           0.00  0.00\n",
       "12 oz. Mustard Bottle         0.00  0.00\n",
       "...                            ...   ...\n",
       "Waffle Cone/Bowl Upcharge     0.87  0.73\n",
       "Waffle drizzle/dipped/topped  0.00  0.00\n",
       "Whipped Cream                 0.02  0.07\n",
       "Womens Tshirt  Small - Xl     0.00  0.00\n",
       "Womens Tshirt XXL+            0.00  0.00\n",
       "\n",
       "[179 rows x 2 columns]"
      ]
     },
     "execution_count": 46,
     "metadata": {},
     "output_type": "execute_result"
    }
   ],
   "source": [
    "qty_mix_year"
   ]
  },
  {
   "cell_type": "code",
   "execution_count": 77,
   "id": "8958179c",
   "metadata": {},
   "outputs": [],
   "source": [
    "sales_mix_year=all_shops.pivot_table(index='ProductSizeName',columns='Year',values='SalesMny', fill_value=0,aggfunc='sum').apply(lambda x:\n",
    "                                                                                                                 x/sum(x)).reset_index()"
   ]
  },
  {
   "cell_type": "code",
   "execution_count": 48,
   "id": "ca3a459e",
   "metadata": {},
   "outputs": [
    {
     "data": {
      "text/html": [
       "<div>\n",
       "<style scoped>\n",
       "    .dataframe tbody tr th:only-of-type {\n",
       "        vertical-align: middle;\n",
       "    }\n",
       "\n",
       "    .dataframe tbody tr th {\n",
       "        vertical-align: top;\n",
       "    }\n",
       "\n",
       "    .dataframe thead th {\n",
       "        text-align: right;\n",
       "    }\n",
       "</style>\n",
       "<table border=\"1\" class=\"dataframe\">\n",
       "  <thead>\n",
       "    <tr style=\"text-align: right;\">\n",
       "      <th>Year</th>\n",
       "      <th>2022</th>\n",
       "      <th>2023</th>\n",
       "    </tr>\n",
       "    <tr>\n",
       "      <th>ProductSizeName</th>\n",
       "      <th></th>\n",
       "      <th></th>\n",
       "    </tr>\n",
       "  </thead>\n",
       "  <tbody>\n",
       "    <tr>\n",
       "      <th>10in Colorful Ice Guy</th>\n",
       "      <td>0.00</td>\n",
       "      <td>0.00</td>\n",
       "    </tr>\n",
       "    <tr>\n",
       "      <th>12 oz Rainbow Gelati</th>\n",
       "      <td>0.00</td>\n",
       "      <td>0.00</td>\n",
       "    </tr>\n",
       "    <tr>\n",
       "      <th>12 oz Rainbow Ice</th>\n",
       "      <td>0.00</td>\n",
       "      <td>0.00</td>\n",
       "    </tr>\n",
       "    <tr>\n",
       "      <th>12 oz. Frozen Drink</th>\n",
       "      <td>0.00</td>\n",
       "      <td>0.00</td>\n",
       "    </tr>\n",
       "    <tr>\n",
       "      <th>12 oz. Mustard Bottle</th>\n",
       "      <td>0.00</td>\n",
       "      <td>0.00</td>\n",
       "    </tr>\n",
       "    <tr>\n",
       "      <th>...</th>\n",
       "      <td>...</td>\n",
       "      <td>...</td>\n",
       "    </tr>\n",
       "    <tr>\n",
       "      <th>Waffle Cone/Bowl Upcharge</th>\n",
       "      <td>0.21</td>\n",
       "      <td>0.19</td>\n",
       "    </tr>\n",
       "    <tr>\n",
       "      <th>Waffle drizzle/dipped/topped</th>\n",
       "      <td>0.00</td>\n",
       "      <td>0.00</td>\n",
       "    </tr>\n",
       "    <tr>\n",
       "      <th>Whipped Cream</th>\n",
       "      <td>0.00</td>\n",
       "      <td>0.01</td>\n",
       "    </tr>\n",
       "    <tr>\n",
       "      <th>Womens Tshirt  Small - Xl</th>\n",
       "      <td>0.00</td>\n",
       "      <td>0.00</td>\n",
       "    </tr>\n",
       "    <tr>\n",
       "      <th>Womens Tshirt XXL+</th>\n",
       "      <td>0.00</td>\n",
       "      <td>0.00</td>\n",
       "    </tr>\n",
       "  </tbody>\n",
       "</table>\n",
       "<p>179 rows × 2 columns</p>\n",
       "</div>"
      ],
      "text/plain": [
       "Year                          2022  2023\n",
       "ProductSizeName                         \n",
       "10in Colorful Ice Guy         0.00  0.00\n",
       "12 oz Rainbow Gelati          0.00  0.00\n",
       "12 oz Rainbow Ice             0.00  0.00\n",
       "12 oz. Frozen Drink           0.00  0.00\n",
       "12 oz. Mustard Bottle         0.00  0.00\n",
       "...                            ...   ...\n",
       "Waffle Cone/Bowl Upcharge     0.21  0.19\n",
       "Waffle drizzle/dipped/topped  0.00  0.00\n",
       "Whipped Cream                 0.00  0.01\n",
       "Womens Tshirt  Small - Xl     0.00  0.00\n",
       "Womens Tshirt XXL+            0.00  0.00\n",
       "\n",
       "[179 rows x 2 columns]"
      ]
     },
     "execution_count": 48,
     "metadata": {},
     "output_type": "execute_result"
    }
   ],
   "source": [
    "sales_mix_year"
   ]
  },
  {
   "cell_type": "code",
   "execution_count": 49,
   "id": "229dfc59",
   "metadata": {},
   "outputs": [
    {
     "data": {
      "text/html": [
       "<div>\n",
       "<style scoped>\n",
       "    .dataframe tbody tr th:only-of-type {\n",
       "        vertical-align: middle;\n",
       "    }\n",
       "\n",
       "    .dataframe tbody tr th {\n",
       "        vertical-align: top;\n",
       "    }\n",
       "\n",
       "    .dataframe thead th {\n",
       "        text-align: right;\n",
       "    }\n",
       "</style>\n",
       "<table border=\"1\" class=\"dataframe\">\n",
       "  <thead>\n",
       "    <tr style=\"text-align: right;\">\n",
       "      <th></th>\n",
       "      <th></th>\n",
       "      <th>mean</th>\n",
       "      <th>max</th>\n",
       "      <th>min</th>\n",
       "    </tr>\n",
       "    <tr>\n",
       "      <th>ShopID</th>\n",
       "      <th>ProductSizeName</th>\n",
       "      <th></th>\n",
       "      <th></th>\n",
       "      <th></th>\n",
       "    </tr>\n",
       "  </thead>\n",
       "  <tbody>\n",
       "    <tr>\n",
       "      <th>1</th>\n",
       "      <th>Philly Pretzel</th>\n",
       "      <td>257.648649</td>\n",
       "      <td>411</td>\n",
       "      <td>29</td>\n",
       "    </tr>\n",
       "    <tr>\n",
       "      <th>2</th>\n",
       "      <th>Philly Pretzel</th>\n",
       "      <td>299.974359</td>\n",
       "      <td>484</td>\n",
       "      <td>79</td>\n",
       "    </tr>\n",
       "    <tr>\n",
       "      <th rowspan=\"2\" valign=\"top\">3</th>\n",
       "      <th>Big Cheese Super Pretzel</th>\n",
       "      <td>125.212121</td>\n",
       "      <td>256</td>\n",
       "      <td>41</td>\n",
       "    </tr>\n",
       "    <tr>\n",
       "      <th>Super Pretzel - Small</th>\n",
       "      <td>241.135135</td>\n",
       "      <td>555</td>\n",
       "      <td>75</td>\n",
       "    </tr>\n",
       "    <tr>\n",
       "      <th>4</th>\n",
       "      <th>Big Cheese Super Pretzel</th>\n",
       "      <td>28.864865</td>\n",
       "      <td>55</td>\n",
       "      <td>5</td>\n",
       "    </tr>\n",
       "    <tr>\n",
       "      <th>...</th>\n",
       "      <th>...</th>\n",
       "      <td>...</td>\n",
       "      <td>...</td>\n",
       "      <td>...</td>\n",
       "    </tr>\n",
       "    <tr>\n",
       "      <th>1450</th>\n",
       "      <th>Philly Pretzel</th>\n",
       "      <td>8.176471</td>\n",
       "      <td>24</td>\n",
       "      <td>1</td>\n",
       "    </tr>\n",
       "    <tr>\n",
       "      <th rowspan=\"2\" valign=\"top\">1478</th>\n",
       "      <th>Big Cheese Super Pretzel</th>\n",
       "      <td>84.245614</td>\n",
       "      <td>167</td>\n",
       "      <td>28</td>\n",
       "    </tr>\n",
       "    <tr>\n",
       "      <th>Super Pretzel - Small</th>\n",
       "      <td>156.736842</td>\n",
       "      <td>245</td>\n",
       "      <td>62</td>\n",
       "    </tr>\n",
       "    <tr>\n",
       "      <th>1479</th>\n",
       "      <th>Super Pretzel - Small</th>\n",
       "      <td>19.866667</td>\n",
       "      <td>45</td>\n",
       "      <td>1</td>\n",
       "    </tr>\n",
       "    <tr>\n",
       "      <th>21360</th>\n",
       "      <th>Philly Pretzel</th>\n",
       "      <td>58.666667</td>\n",
       "      <td>136</td>\n",
       "      <td>0</td>\n",
       "    </tr>\n",
       "  </tbody>\n",
       "</table>\n",
       "<p>339 rows × 3 columns</p>\n",
       "</div>"
      ],
      "text/plain": [
       "                                       mean  max  min\n",
       "ShopID ProductSizeName                               \n",
       "1      Philly Pretzel            257.648649  411   29\n",
       "2      Philly Pretzel            299.974359  484   79\n",
       "3      Big Cheese Super Pretzel  125.212121  256   41\n",
       "       Super Pretzel - Small     241.135135  555   75\n",
       "4      Big Cheese Super Pretzel   28.864865   55    5\n",
       "...                                     ...  ...  ...\n",
       "1450   Philly Pretzel              8.176471   24    1\n",
       "1478   Big Cheese Super Pretzel   84.245614  167   28\n",
       "       Super Pretzel - Small     156.736842  245   62\n",
       "1479   Super Pretzel - Small      19.866667   45    1\n",
       "21360  Philly Pretzel             58.666667  136    0\n",
       "\n",
       "[339 rows x 3 columns]"
      ]
     },
     "execution_count": 49,
     "metadata": {},
     "output_type": "execute_result"
    }
   ],
   "source": [
    "shops.groupby(['ShopID','ProductSizeName'])['SalesQty'].agg(['mean','max','min'])"
   ]
  },
  {
   "cell_type": "code",
   "execution_count": 63,
   "id": "9b24be59",
   "metadata": {},
   "outputs": [],
   "source": [
    "mean_min_max=shops.groupby(['ShopID','Year','ProductSizeName'])['SalesQty'].agg(['sum','mean','max','min']).reset_index()"
   ]
  },
  {
   "cell_type": "code",
   "execution_count": 78,
   "id": "85df96d7",
   "metadata": {},
   "outputs": [
    {
     "name": "stderr",
     "output_type": "stream",
     "text": [
      "C:\\Users\\jharned\\Anaconda3\\lib\\site-packages\\xlsxwriter\\workbook.py:339: UserWarning: Calling close() on already closed file.\n",
      "  warn(\"Calling close() on already closed file.\")\n"
     ]
    }
   ],
   "source": [
    "writer=pd.ExcelWriter('Pretzel.xlsx')\n",
    "shops_pivot.to_excel(writer,sheet_name='Pretzel Sales and QTY')\n",
    "sales_mix.to_excel(writer,sheet_name='Sales Mix',index=False)\n",
    "sales_mix_year.to_excel(writer,sheet_name='Sales Mix by Year',index=False)\n",
    "qty_mix.to_excel(writer, sheet_name='Qty Mix',index=False)\n",
    "qty_mix_year.to_excel(writer, sheet_name='Qty Mix by Year',index=False)\n",
    "mean_min_max.to_excel(writer, sheet_name='Mean,Max,Min')\n",
    "writer.save()\n",
    "writer.close()"
   ]
  },
  {
   "cell_type": "code",
   "execution_count": null,
   "id": "ff0d9113",
   "metadata": {},
   "outputs": [],
   "source": []
  }
 ],
 "metadata": {
  "kernelspec": {
   "display_name": "Python 3 (ipykernel)",
   "language": "python",
   "name": "python3"
  },
  "language_info": {
   "codemirror_mode": {
    "name": "ipython",
    "version": 3
   },
   "file_extension": ".py",
   "mimetype": "text/x-python",
   "name": "python",
   "nbconvert_exporter": "python",
   "pygments_lexer": "ipython3",
   "version": "3.9.12"
  }
 },
 "nbformat": 4,
 "nbformat_minor": 5
}
