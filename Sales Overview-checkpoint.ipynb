{
 "cells": [
  {
   "cell_type": "code",
   "execution_count": 1,
   "id": "c4f3622e",
   "metadata": {},
   "outputs": [
    {
     "name": "stdout",
     "output_type": "stream",
     "text": [
      "<pyodbc.Connection object at 0x0000021CEC760370>\n"
     ]
    }
   ],
   "source": [
    "#Imports the necessary libraries\n",
    "import pandas as pd\n",
    "import os\n",
    "import numpy as np\n",
    "import pyodbc as odbc\n",
    "from datetime import date,timedelta,datetime\n",
    "os.chdir(r'L:\\J.Harned\\Calendar')\n",
    "calendar=pd.read_excel('2024 Sales Calendar.xlsx')\n",
    "calendar['Year']=calendar.StartDate.dt.year\n",
    "os.chdir(r'G:\\FinanceReports\\2024\\Wk39')\n",
    "# Names the needed driver, server name, and database\n",
    "driver_name='SQL Server'\n",
    "server_name='10.0.1.218'\n",
    "database='ritascoolnet_live'\n",
    "#Creates the connection string\n",
    "connection_string=f\"\"\"\n",
    "DRIVER={{{driver_name}}};\n",
    "SERVER={server_name};\n",
    "DATABASE={database};\n",
    "Trust_Connection=yes\"\"\"\n",
    "#Creates the Connection to SQL Server\n",
    "connection=odbc.connect(connection_string)\n",
    "print(connection)"
   ]
  },
  {
   "cell_type": "code",
   "execution_count": 2,
   "id": "8affd5db",
   "metadata": {},
   "outputs": [
    {
     "name": "stderr",
     "output_type": "stream",
     "text": [
      "C:\\Users\\jharned\\AppData\\Local\\Temp\\ipykernel_27088\\3135156464.py:3: UserWarning: pandas only supports SQLAlchemy connectable (engine/connection) or database string URI or sqlite3 DBAPI2 connection. Other DBAPI2 objects are not tested. Please consider using SQLAlchemy.\n",
      "  data=pd.read_sql_query('''SELECT *\n",
      "C:\\Users\\jharned\\AppData\\Local\\Temp\\ipykernel_27088\\3135156464.py:8: UserWarning: pandas only supports SQLAlchemy connectable (engine/connection) or database string URI or sqlite3 DBAPI2 connection. Other DBAPI2 objects are not tested. Please consider using SQLAlchemy.\n",
      "  df=pd.read_sql_query('''SELECT *\n",
      "C:\\Users\\jharned\\AppData\\Local\\Temp\\ipykernel_27088\\3135156464.py:12: UserWarning: pandas only supports SQLAlchemy connectable (engine/connection) or database string URI or sqlite3 DBAPI2 connection. Other DBAPI2 objects are not tested. Please consider using SQLAlchemy.\n",
      "  data3=pd.read_sql_query('''Select intstoreid as intStoreID,RitasID as ShopID, FC,CoolNetGroup,LegacyStoreType,State,MSAName,DMA,StoreName as ShopName,\n",
      "C:\\Users\\jharned\\AppData\\Local\\Temp\\ipykernel_27088\\3135156464.py:14: UserWarning: pandas only supports SQLAlchemy connectable (engine/connection) or database string URI or sqlite3 DBAPI2 connection. Other DBAPI2 objects are not tested. Please consider using SQLAlchemy.\n",
      "  product_sales=pd.read_sql_query('''Select * from ritascoolnet_live.dbo.tblProductSalesTransactions Where Year(dteStartDate)>=2023 ''',connection)\n"
     ]
    }
   ],
   "source": [
    "# Queries the tables from SQL\n",
    "# Reads in the Weekly Sales in 2023\n",
    "data=pd.read_sql_query('''SELECT *\n",
    "  FROM [ritas_bi].[dbo].[tmp_raw_plda]\n",
    "  WHERE YEAR(StartDate)=2024\n",
    "  ORDER BY Week DESC''',connection)\n",
    "# Reads in the Weekly Sales in 2022\n",
    "df=pd.read_sql_query('''SELECT *\n",
    "  FROM [ritas_bi].[dbo].[tmp_raw_plda]\n",
    "  WHERE YEAR(StartDate)=2023''',connection)\n",
    "#ShopDetail\n",
    "data3=pd.read_sql_query('''Select intstoreid as intStoreID,RitasID as ShopID, FC,CoolNetGroup,LegacyStoreType,State,MSAName,DMA,StoreName as ShopName,\n",
    "CoOpName,Franchisee,[Parent Shop #] as ParentID,StoreStatus,[Re Open Date] as ReOpenDate,OpenDate,StoreType from ritascoolnet_live.dbo.vShopDetail''',connection)\n",
    "product_sales=pd.read_sql_query('''Select * from ritascoolnet_live.dbo.tblProductSalesTransactions Where Year(dteStartDate)>=2023 ''',connection)"
   ]
  },
  {
   "cell_type": "code",
   "execution_count": 3,
   "id": "d205730d",
   "metadata": {},
   "outputs": [
    {
     "data": {
      "text/html": [
       "<div>\n",
       "<style scoped>\n",
       "    .dataframe tbody tr th:only-of-type {\n",
       "        vertical-align: middle;\n",
       "    }\n",
       "\n",
       "    .dataframe tbody tr th {\n",
       "        vertical-align: top;\n",
       "    }\n",
       "\n",
       "    .dataframe thead th {\n",
       "        text-align: right;\n",
       "    }\n",
       "</style>\n",
       "<table border=\"1\" class=\"dataframe\">\n",
       "  <thead>\n",
       "    <tr style=\"text-align: right;\">\n",
       "      <th></th>\n",
       "      <th>ShopID</th>\n",
       "      <th>intStoreID</th>\n",
       "      <th>ProductCode</th>\n",
       "      <th>ProdSizeCode</th>\n",
       "      <th>DiscountCode</th>\n",
       "      <th>Register</th>\n",
       "      <th>SalesQty</th>\n",
       "      <th>SalesMny</th>\n",
       "      <th>StartDate</th>\n",
       "      <th>EndDate</th>\n",
       "      <th>...</th>\n",
       "      <th>Region</th>\n",
       "      <th>ShopStatus</th>\n",
       "      <th>LegacyShopType</th>\n",
       "      <th>LegacyShopStatus</th>\n",
       "      <th>ProductTypeName</th>\n",
       "      <th>ProductSizeName</th>\n",
       "      <th>SpecialVenue</th>\n",
       "      <th>CoOpStatus</th>\n",
       "      <th>CoOpName</th>\n",
       "      <th>CoOpRate</th>\n",
       "    </tr>\n",
       "  </thead>\n",
       "  <tbody>\n",
       "    <tr>\n",
       "      <th>0</th>\n",
       "      <td>247</td>\n",
       "      <td>5119</td>\n",
       "      <td>5</td>\n",
       "      <td>1218</td>\n",
       "      <td>126</td>\n",
       "      <td>1</td>\n",
       "      <td>10</td>\n",
       "      <td>64.90</td>\n",
       "      <td>2024-09-23</td>\n",
       "      <td>2024-09-29</td>\n",
       "      <td>...</td>\n",
       "      <td>Core</td>\n",
       "      <td>Open</td>\n",
       "      <td>Walk-up</td>\n",
       "      <td>Rita's Store</td>\n",
       "      <td>Custard</td>\n",
       "      <td>Small SS Sundae</td>\n",
       "      <td>No</td>\n",
       "      <td>Yes</td>\n",
       "      <td>Pittsburgh</td>\n",
       "      <td>0.020</td>\n",
       "    </tr>\n",
       "    <tr>\n",
       "      <th>1</th>\n",
       "      <td>246</td>\n",
       "      <td>4022</td>\n",
       "      <td>5</td>\n",
       "      <td>113</td>\n",
       "      <td>126</td>\n",
       "      <td>1</td>\n",
       "      <td>5</td>\n",
       "      <td>6.25</td>\n",
       "      <td>2024-09-23</td>\n",
       "      <td>2024-09-29</td>\n",
       "      <td>...</td>\n",
       "      <td>Core</td>\n",
       "      <td>Open</td>\n",
       "      <td>Walk-up</td>\n",
       "      <td>Rita's Store</td>\n",
       "      <td>Custard</td>\n",
       "      <td>Waffle Cone/Bowl Upcharge</td>\n",
       "      <td>No</td>\n",
       "      <td>Yes</td>\n",
       "      <td>Washington, D.C.</td>\n",
       "      <td>0.020</td>\n",
       "    </tr>\n",
       "    <tr>\n",
       "      <th>2</th>\n",
       "      <td>256</td>\n",
       "      <td>630</td>\n",
       "      <td>1</td>\n",
       "      <td>8</td>\n",
       "      <td>126</td>\n",
       "      <td>1</td>\n",
       "      <td>12</td>\n",
       "      <td>95.88</td>\n",
       "      <td>2024-09-23</td>\n",
       "      <td>2024-09-29</td>\n",
       "      <td>...</td>\n",
       "      <td>Core</td>\n",
       "      <td>Open</td>\n",
       "      <td>Walk-up</td>\n",
       "      <td>Rita's Store</td>\n",
       "      <td>Italian Ice</td>\n",
       "      <td>Quart Ice</td>\n",
       "      <td>No</td>\n",
       "      <td>No</td>\n",
       "      <td>None</td>\n",
       "      <td>0.000</td>\n",
       "    </tr>\n",
       "    <tr>\n",
       "      <th>3</th>\n",
       "      <td>249</td>\n",
       "      <td>5148</td>\n",
       "      <td>5</td>\n",
       "      <td>113</td>\n",
       "      <td>126</td>\n",
       "      <td>1</td>\n",
       "      <td>6</td>\n",
       "      <td>8.94</td>\n",
       "      <td>2024-09-23</td>\n",
       "      <td>2024-09-29</td>\n",
       "      <td>...</td>\n",
       "      <td>Core</td>\n",
       "      <td>Open</td>\n",
       "      <td>Walk-up</td>\n",
       "      <td>Rita's Store</td>\n",
       "      <td>Custard</td>\n",
       "      <td>Waffle Cone/Bowl Upcharge</td>\n",
       "      <td>No</td>\n",
       "      <td>Yes</td>\n",
       "      <td>Baltimore</td>\n",
       "      <td>0.015</td>\n",
       "    </tr>\n",
       "    <tr>\n",
       "      <th>4</th>\n",
       "      <td>248</td>\n",
       "      <td>3115</td>\n",
       "      <td>64</td>\n",
       "      <td>1146</td>\n",
       "      <td>126</td>\n",
       "      <td>1</td>\n",
       "      <td>3</td>\n",
       "      <td>16.50</td>\n",
       "      <td>2024-09-23</td>\n",
       "      <td>2024-09-29</td>\n",
       "      <td>...</td>\n",
       "      <td>Core</td>\n",
       "      <td>Open</td>\n",
       "      <td>Walk-up</td>\n",
       "      <td>Rita's Store</td>\n",
       "      <td>Frozen Coffee</td>\n",
       "      <td>Small Frozen Coffee</td>\n",
       "      <td>No</td>\n",
       "      <td>No</td>\n",
       "      <td>None</td>\n",
       "      <td>0.000</td>\n",
       "    </tr>\n",
       "    <tr>\n",
       "      <th>...</th>\n",
       "      <td>...</td>\n",
       "      <td>...</td>\n",
       "      <td>...</td>\n",
       "      <td>...</td>\n",
       "      <td>...</td>\n",
       "      <td>...</td>\n",
       "      <td>...</td>\n",
       "      <td>...</td>\n",
       "      <td>...</td>\n",
       "      <td>...</td>\n",
       "      <td>...</td>\n",
       "      <td>...</td>\n",
       "      <td>...</td>\n",
       "      <td>...</td>\n",
       "      <td>...</td>\n",
       "      <td>...</td>\n",
       "      <td>...</td>\n",
       "      <td>...</td>\n",
       "      <td>...</td>\n",
       "      <td>...</td>\n",
       "      <td>...</td>\n",
       "    </tr>\n",
       "    <tr>\n",
       "      <th>679290</th>\n",
       "      <td>245</td>\n",
       "      <td>626</td>\n",
       "      <td>5</td>\n",
       "      <td>1218</td>\n",
       "      <td>126</td>\n",
       "      <td>1</td>\n",
       "      <td>20</td>\n",
       "      <td>131.80</td>\n",
       "      <td>2024-01-01</td>\n",
       "      <td>2024-01-07</td>\n",
       "      <td>...</td>\n",
       "      <td>Core</td>\n",
       "      <td>Open</td>\n",
       "      <td>Mall</td>\n",
       "      <td>Rita's Store</td>\n",
       "      <td>Custard</td>\n",
       "      <td>Small SS Sundae</td>\n",
       "      <td>No</td>\n",
       "      <td>No</td>\n",
       "      <td>None</td>\n",
       "      <td>0.000</td>\n",
       "    </tr>\n",
       "    <tr>\n",
       "      <th>679291</th>\n",
       "      <td>245</td>\n",
       "      <td>626</td>\n",
       "      <td>5</td>\n",
       "      <td>1216</td>\n",
       "      <td>126</td>\n",
       "      <td>1</td>\n",
       "      <td>23</td>\n",
       "      <td>149.27</td>\n",
       "      <td>2024-01-01</td>\n",
       "      <td>2024-01-07</td>\n",
       "      <td>...</td>\n",
       "      <td>Core</td>\n",
       "      <td>Open</td>\n",
       "      <td>Mall</td>\n",
       "      <td>Rita's Store</td>\n",
       "      <td>Custard</td>\n",
       "      <td>Large SS Cup/Cone</td>\n",
       "      <td>No</td>\n",
       "      <td>No</td>\n",
       "      <td>None</td>\n",
       "      <td>0.000</td>\n",
       "    </tr>\n",
       "    <tr>\n",
       "      <th>679292</th>\n",
       "      <td>245</td>\n",
       "      <td>626</td>\n",
       "      <td>3</td>\n",
       "      <td>20</td>\n",
       "      <td>126</td>\n",
       "      <td>1</td>\n",
       "      <td>34</td>\n",
       "      <td>227.46</td>\n",
       "      <td>2024-01-01</td>\n",
       "      <td>2024-01-07</td>\n",
       "      <td>...</td>\n",
       "      <td>Core</td>\n",
       "      <td>Open</td>\n",
       "      <td>Mall</td>\n",
       "      <td>Rita's Store</td>\n",
       "      <td>Gelati</td>\n",
       "      <td>Large Gelati</td>\n",
       "      <td>No</td>\n",
       "      <td>No</td>\n",
       "      <td>None</td>\n",
       "      <td>0.000</td>\n",
       "    </tr>\n",
       "    <tr>\n",
       "      <th>679293</th>\n",
       "      <td>245</td>\n",
       "      <td>626</td>\n",
       "      <td>1</td>\n",
       "      <td>454</td>\n",
       "      <td>126</td>\n",
       "      <td>1</td>\n",
       "      <td>4</td>\n",
       "      <td>26.36</td>\n",
       "      <td>2024-01-01</td>\n",
       "      <td>2024-01-07</td>\n",
       "      <td>...</td>\n",
       "      <td>Core</td>\n",
       "      <td>Open</td>\n",
       "      <td>Mall</td>\n",
       "      <td>Rita's Store</td>\n",
       "      <td>Italian Ice</td>\n",
       "      <td>Ice Flights</td>\n",
       "      <td>No</td>\n",
       "      <td>No</td>\n",
       "      <td>None</td>\n",
       "      <td>0.000</td>\n",
       "    </tr>\n",
       "    <tr>\n",
       "      <th>679294</th>\n",
       "      <td>245</td>\n",
       "      <td>626</td>\n",
       "      <td>117</td>\n",
       "      <td>23</td>\n",
       "      <td>126</td>\n",
       "      <td>1</td>\n",
       "      <td>3</td>\n",
       "      <td>18.27</td>\n",
       "      <td>2024-01-01</td>\n",
       "      <td>2024-01-07</td>\n",
       "      <td>...</td>\n",
       "      <td>Core</td>\n",
       "      <td>Open</td>\n",
       "      <td>Mall</td>\n",
       "      <td>Rita's Store</td>\n",
       "      <td>Blendini</td>\n",
       "      <td>Blendini</td>\n",
       "      <td>No</td>\n",
       "      <td>No</td>\n",
       "      <td>None</td>\n",
       "      <td>0.000</td>\n",
       "    </tr>\n",
       "  </tbody>\n",
       "</table>\n",
       "<p>679295 rows × 25 columns</p>\n",
       "</div>"
      ],
      "text/plain": [
       "        ShopID  intStoreID  ProductCode  ProdSizeCode  DiscountCode  Register  \\\n",
       "0          247        5119            5          1218           126         1   \n",
       "1          246        4022            5           113           126         1   \n",
       "2          256         630            1             8           126         1   \n",
       "3          249        5148            5           113           126         1   \n",
       "4          248        3115           64          1146           126         1   \n",
       "...        ...         ...          ...           ...           ...       ...   \n",
       "679290     245         626            5          1218           126         1   \n",
       "679291     245         626            5          1216           126         1   \n",
       "679292     245         626            3            20           126         1   \n",
       "679293     245         626            1           454           126         1   \n",
       "679294     245         626          117            23           126         1   \n",
       "\n",
       "        SalesQty  SalesMny  StartDate    EndDate  ... Region  ShopStatus  \\\n",
       "0             10     64.90 2024-09-23 2024-09-29  ...   Core        Open   \n",
       "1              5      6.25 2024-09-23 2024-09-29  ...   Core        Open   \n",
       "2             12     95.88 2024-09-23 2024-09-29  ...   Core        Open   \n",
       "3              6      8.94 2024-09-23 2024-09-29  ...   Core        Open   \n",
       "4              3     16.50 2024-09-23 2024-09-29  ...   Core        Open   \n",
       "...          ...       ...        ...        ...  ...    ...         ...   \n",
       "679290        20    131.80 2024-01-01 2024-01-07  ...   Core        Open   \n",
       "679291        23    149.27 2024-01-01 2024-01-07  ...   Core        Open   \n",
       "679292        34    227.46 2024-01-01 2024-01-07  ...   Core        Open   \n",
       "679293         4     26.36 2024-01-01 2024-01-07  ...   Core        Open   \n",
       "679294         3     18.27 2024-01-01 2024-01-07  ...   Core        Open   \n",
       "\n",
       "       LegacyShopType LegacyShopStatus ProductTypeName  \\\n",
       "0             Walk-up     Rita's Store         Custard   \n",
       "1             Walk-up     Rita's Store         Custard   \n",
       "2             Walk-up     Rita's Store     Italian Ice   \n",
       "3             Walk-up     Rita's Store         Custard   \n",
       "4             Walk-up     Rita's Store   Frozen Coffee   \n",
       "...               ...              ...             ...   \n",
       "679290           Mall     Rita's Store         Custard   \n",
       "679291           Mall     Rita's Store         Custard   \n",
       "679292           Mall     Rita's Store          Gelati   \n",
       "679293           Mall     Rita's Store     Italian Ice   \n",
       "679294           Mall     Rita's Store        Blendini   \n",
       "\n",
       "                  ProductSizeName SpecialVenue CoOpStatus          CoOpName  \\\n",
       "0                 Small SS Sundae           No        Yes        Pittsburgh   \n",
       "1       Waffle Cone/Bowl Upcharge           No        Yes  Washington, D.C.   \n",
       "2                       Quart Ice           No         No              None   \n",
       "3       Waffle Cone/Bowl Upcharge           No        Yes         Baltimore   \n",
       "4             Small Frozen Coffee           No         No              None   \n",
       "...                           ...          ...        ...               ...   \n",
       "679290            Small SS Sundae           No         No              None   \n",
       "679291          Large SS Cup/Cone           No         No              None   \n",
       "679292               Large Gelati           No         No              None   \n",
       "679293                Ice Flights           No         No              None   \n",
       "679294                   Blendini           No         No              None   \n",
       "\n",
       "       CoOpRate  \n",
       "0         0.020  \n",
       "1         0.020  \n",
       "2         0.000  \n",
       "3         0.015  \n",
       "4         0.000  \n",
       "...         ...  \n",
       "679290    0.000  \n",
       "679291    0.000  \n",
       "679292    0.000  \n",
       "679293    0.000  \n",
       "679294    0.000  \n",
       "\n",
       "[679295 rows x 25 columns]"
      ]
     },
     "execution_count": 3,
     "metadata": {},
     "output_type": "execute_result"
    }
   ],
   "source": [
    "data"
   ]
  },
  {
   "cell_type": "code",
   "execution_count": 4,
   "id": "1d7df8b6",
   "metadata": {},
   "outputs": [
    {
     "name": "stderr",
     "output_type": "stream",
     "text": [
      "C:\\Users\\jharned\\AppData\\Local\\Temp\\ipykernel_27088\\3679232069.py:1: UserWarning: pandas only supports SQLAlchemy connectable (engine/connection) or database string URI or sqlite3 DBAPI2 connection. Other DBAPI2 objects are not tested. Please consider using SQLAlchemy.\n",
      "  sv=pd.read_sql_query('''Select * from ritascoolnet_live.dbo.vShopDetail''',connection)\n"
     ]
    }
   ],
   "source": [
    "sv=pd.read_sql_query('''Select * from ritascoolnet_live.dbo.vShopDetail''',connection)\n",
    "sv=sv[['intstoreid','RitasID','Special Venue']]\n",
    "sv=sv.rename(columns={'intstoreid':'intStoreID','RitasID':'ShopID','Special Venue':'SV'})"
   ]
  },
  {
   "cell_type": "code",
   "execution_count": 5,
   "id": "c513ad75",
   "metadata": {},
   "outputs": [
    {
     "name": "stderr",
     "output_type": "stream",
     "text": [
      "C:\\Users\\jharned\\AppData\\Local\\Temp\\ipykernel_27088\\1015335793.py:3: FutureWarning: Setting an item of incompatible dtype is deprecated and will raise in a future error of pandas. Value '12' has dtype incompatible with int64, please explicitly cast to a compatible dtype first.\n",
      "  total_df.loc[total_df.StartDate=='2023-03-20','Week']='12'\n"
     ]
    }
   ],
   "source": [
    "total_df=pd.concat([data,df]) # Combines 2023 and 2024 Sales Data\n",
    "total_df=total_df.merge(sv,how='left',on=['intStoreID','ShopID']) # Merges Special Venue with Sales Data\n",
    "total_df.loc[total_df.StartDate=='2023-03-20','Week']='12'\n",
    "total_df.loc[total_df.StartDate=='2023-03-27','Week']='13'\n",
    "total_df=total_df.merge(calendar[['StartDate','Week','Month']],how='left',on=['StartDate','Week']) # Adds the month column from calendar\n",
    "total_df.Week=total_df.Week.astype('int')\n",
    "total_df=total_df[total_df.Week<=data.Week.max()]# Filters on the max week"
   ]
  },
  {
   "cell_type": "code",
   "execution_count": 6,
   "id": "519d68bf",
   "metadata": {},
   "outputs": [
    {
     "data": {
      "text/plain": [
       "(39529, 12)"
      ]
     },
     "execution_count": 6,
     "metadata": {},
     "output_type": "execute_result"
    }
   ],
   "source": [
    "product_sales.shape"
   ]
  },
  {
   "cell_type": "code",
   "execution_count": 7,
   "id": "4f2b50b1",
   "metadata": {},
   "outputs": [
    {
     "data": {
      "text/html": [
       "<div>\n",
       "<style scoped>\n",
       "    .dataframe tbody tr th:only-of-type {\n",
       "        vertical-align: middle;\n",
       "    }\n",
       "\n",
       "    .dataframe tbody tr th {\n",
       "        vertical-align: top;\n",
       "    }\n",
       "\n",
       "    .dataframe thead th {\n",
       "        text-align: right;\n",
       "    }\n",
       "</style>\n",
       "<table border=\"1\" class=\"dataframe\">\n",
       "  <thead>\n",
       "    <tr style=\"text-align: right;\">\n",
       "      <th></th>\n",
       "      <th>intProductSalesTransactionID</th>\n",
       "      <th>intRitasStoreID</th>\n",
       "      <th>intTransactionCount</th>\n",
       "      <th>StartDate</th>\n",
       "      <th>dteEndDate</th>\n",
       "      <th>dteCreatedOn</th>\n",
       "      <th>vchSource</th>\n",
       "      <th>intNumberOfDays</th>\n",
       "      <th>intRegister</th>\n",
       "      <th>intUECount</th>\n",
       "      <th>intDDCount</th>\n",
       "      <th>intGHCount</th>\n",
       "      <th>Week</th>\n",
       "      <th>Retail_GC</th>\n",
       "      <th>Year</th>\n",
       "    </tr>\n",
       "  </thead>\n",
       "  <tbody>\n",
       "    <tr>\n",
       "      <th>0</th>\n",
       "      <td>1251236</td>\n",
       "      <td>65</td>\n",
       "      <td>491</td>\n",
       "      <td>2023-02-27</td>\n",
       "      <td>2023-03-05</td>\n",
       "      <td>2023-03-07 01:05:13.117</td>\n",
       "      <td>SMART</td>\n",
       "      <td>5</td>\n",
       "      <td>1</td>\n",
       "      <td>0</td>\n",
       "      <td>0</td>\n",
       "      <td>0</td>\n",
       "      <td>9.0</td>\n",
       "      <td>491</td>\n",
       "      <td>2023</td>\n",
       "    </tr>\n",
       "    <tr>\n",
       "      <th>1</th>\n",
       "      <td>1251237</td>\n",
       "      <td>66</td>\n",
       "      <td>413</td>\n",
       "      <td>2023-02-27</td>\n",
       "      <td>2023-03-05</td>\n",
       "      <td>2023-03-07 01:05:13.117</td>\n",
       "      <td>SMART</td>\n",
       "      <td>7</td>\n",
       "      <td>1</td>\n",
       "      <td>0</td>\n",
       "      <td>0</td>\n",
       "      <td>0</td>\n",
       "      <td>9.0</td>\n",
       "      <td>413</td>\n",
       "      <td>2023</td>\n",
       "    </tr>\n",
       "    <tr>\n",
       "      <th>2</th>\n",
       "      <td>1251238</td>\n",
       "      <td>68</td>\n",
       "      <td>543</td>\n",
       "      <td>2023-02-27</td>\n",
       "      <td>2023-03-05</td>\n",
       "      <td>2023-03-07 01:05:13.117</td>\n",
       "      <td>SMART</td>\n",
       "      <td>7</td>\n",
       "      <td>1</td>\n",
       "      <td>0</td>\n",
       "      <td>0</td>\n",
       "      <td>0</td>\n",
       "      <td>9.0</td>\n",
       "      <td>543</td>\n",
       "      <td>2023</td>\n",
       "    </tr>\n",
       "    <tr>\n",
       "      <th>3</th>\n",
       "      <td>1251239</td>\n",
       "      <td>69</td>\n",
       "      <td>218</td>\n",
       "      <td>2023-02-27</td>\n",
       "      <td>2023-03-05</td>\n",
       "      <td>2023-03-07 01:05:13.117</td>\n",
       "      <td>SMART</td>\n",
       "      <td>5</td>\n",
       "      <td>1</td>\n",
       "      <td>0</td>\n",
       "      <td>0</td>\n",
       "      <td>0</td>\n",
       "      <td>9.0</td>\n",
       "      <td>218</td>\n",
       "      <td>2023</td>\n",
       "    </tr>\n",
       "    <tr>\n",
       "      <th>4</th>\n",
       "      <td>1251240</td>\n",
       "      <td>70</td>\n",
       "      <td>242</td>\n",
       "      <td>2023-02-27</td>\n",
       "      <td>2023-03-05</td>\n",
       "      <td>2023-03-07 01:05:13.117</td>\n",
       "      <td>SMART</td>\n",
       "      <td>7</td>\n",
       "      <td>1</td>\n",
       "      <td>0</td>\n",
       "      <td>0</td>\n",
       "      <td>0</td>\n",
       "      <td>9.0</td>\n",
       "      <td>242</td>\n",
       "      <td>2023</td>\n",
       "    </tr>\n",
       "    <tr>\n",
       "      <th>...</th>\n",
       "      <td>...</td>\n",
       "      <td>...</td>\n",
       "      <td>...</td>\n",
       "      <td>...</td>\n",
       "      <td>...</td>\n",
       "      <td>...</td>\n",
       "      <td>...</td>\n",
       "      <td>...</td>\n",
       "      <td>...</td>\n",
       "      <td>...</td>\n",
       "      <td>...</td>\n",
       "      <td>...</td>\n",
       "      <td>...</td>\n",
       "      <td>...</td>\n",
       "      <td>...</td>\n",
       "    </tr>\n",
       "    <tr>\n",
       "      <th>39524</th>\n",
       "      <td>2005880</td>\n",
       "      <td>1053</td>\n",
       "      <td>135</td>\n",
       "      <td>2023-05-08</td>\n",
       "      <td>2023-05-14</td>\n",
       "      <td>2023-05-16 01:05:14.260</td>\n",
       "      <td>SMART</td>\n",
       "      <td>4</td>\n",
       "      <td>1</td>\n",
       "      <td>0</td>\n",
       "      <td>0</td>\n",
       "      <td>0</td>\n",
       "      <td>19.0</td>\n",
       "      <td>135</td>\n",
       "      <td>2023</td>\n",
       "    </tr>\n",
       "    <tr>\n",
       "      <th>39525</th>\n",
       "      <td>2005881</td>\n",
       "      <td>1055</td>\n",
       "      <td>394</td>\n",
       "      <td>2023-05-08</td>\n",
       "      <td>2023-05-14</td>\n",
       "      <td>2023-05-16 01:05:14.260</td>\n",
       "      <td>SMART</td>\n",
       "      <td>7</td>\n",
       "      <td>1</td>\n",
       "      <td>0</td>\n",
       "      <td>0</td>\n",
       "      <td>0</td>\n",
       "      <td>19.0</td>\n",
       "      <td>394</td>\n",
       "      <td>2023</td>\n",
       "    </tr>\n",
       "    <tr>\n",
       "      <th>39526</th>\n",
       "      <td>2005882</td>\n",
       "      <td>1060</td>\n",
       "      <td>631</td>\n",
       "      <td>2023-05-08</td>\n",
       "      <td>2023-05-14</td>\n",
       "      <td>2023-05-16 01:05:14.260</td>\n",
       "      <td>SMART</td>\n",
       "      <td>7</td>\n",
       "      <td>1</td>\n",
       "      <td>0</td>\n",
       "      <td>0</td>\n",
       "      <td>0</td>\n",
       "      <td>19.0</td>\n",
       "      <td>631</td>\n",
       "      <td>2023</td>\n",
       "    </tr>\n",
       "    <tr>\n",
       "      <th>39527</th>\n",
       "      <td>2005883</td>\n",
       "      <td>1065</td>\n",
       "      <td>814</td>\n",
       "      <td>2023-05-08</td>\n",
       "      <td>2023-05-14</td>\n",
       "      <td>2023-05-16 01:05:14.260</td>\n",
       "      <td>SMART</td>\n",
       "      <td>7</td>\n",
       "      <td>1</td>\n",
       "      <td>0</td>\n",
       "      <td>0</td>\n",
       "      <td>0</td>\n",
       "      <td>19.0</td>\n",
       "      <td>814</td>\n",
       "      <td>2023</td>\n",
       "    </tr>\n",
       "    <tr>\n",
       "      <th>39528</th>\n",
       "      <td>2005884</td>\n",
       "      <td>1071</td>\n",
       "      <td>197</td>\n",
       "      <td>2023-05-08</td>\n",
       "      <td>2023-05-14</td>\n",
       "      <td>2023-05-16 01:05:14.260</td>\n",
       "      <td>SMART</td>\n",
       "      <td>7</td>\n",
       "      <td>1</td>\n",
       "      <td>0</td>\n",
       "      <td>0</td>\n",
       "      <td>0</td>\n",
       "      <td>19.0</td>\n",
       "      <td>197</td>\n",
       "      <td>2023</td>\n",
       "    </tr>\n",
       "  </tbody>\n",
       "</table>\n",
       "<p>39529 rows × 15 columns</p>\n",
       "</div>"
      ],
      "text/plain": [
       "       intProductSalesTransactionID intRitasStoreID  intTransactionCount  \\\n",
       "0                           1251236              65                  491   \n",
       "1                           1251237              66                  413   \n",
       "2                           1251238              68                  543   \n",
       "3                           1251239              69                  218   \n",
       "4                           1251240              70                  242   \n",
       "...                             ...             ...                  ...   \n",
       "39524                       2005880            1053                  135   \n",
       "39525                       2005881            1055                  394   \n",
       "39526                       2005882            1060                  631   \n",
       "39527                       2005883            1065                  814   \n",
       "39528                       2005884            1071                  197   \n",
       "\n",
       "       StartDate dteEndDate            dteCreatedOn vchSource  \\\n",
       "0     2023-02-27 2023-03-05 2023-03-07 01:05:13.117     SMART   \n",
       "1     2023-02-27 2023-03-05 2023-03-07 01:05:13.117     SMART   \n",
       "2     2023-02-27 2023-03-05 2023-03-07 01:05:13.117     SMART   \n",
       "3     2023-02-27 2023-03-05 2023-03-07 01:05:13.117     SMART   \n",
       "4     2023-02-27 2023-03-05 2023-03-07 01:05:13.117     SMART   \n",
       "...          ...        ...                     ...       ...   \n",
       "39524 2023-05-08 2023-05-14 2023-05-16 01:05:14.260     SMART   \n",
       "39525 2023-05-08 2023-05-14 2023-05-16 01:05:14.260     SMART   \n",
       "39526 2023-05-08 2023-05-14 2023-05-16 01:05:14.260     SMART   \n",
       "39527 2023-05-08 2023-05-14 2023-05-16 01:05:14.260     SMART   \n",
       "39528 2023-05-08 2023-05-14 2023-05-16 01:05:14.260     SMART   \n",
       "\n",
       "       intNumberOfDays  intRegister  intUECount  intDDCount  intGHCount  Week  \\\n",
       "0                    5            1           0           0           0   9.0   \n",
       "1                    7            1           0           0           0   9.0   \n",
       "2                    7            1           0           0           0   9.0   \n",
       "3                    5            1           0           0           0   9.0   \n",
       "4                    7            1           0           0           0   9.0   \n",
       "...                ...          ...         ...         ...         ...   ...   \n",
       "39524                4            1           0           0           0  19.0   \n",
       "39525                7            1           0           0           0  19.0   \n",
       "39526                7            1           0           0           0  19.0   \n",
       "39527                7            1           0           0           0  19.0   \n",
       "39528                7            1           0           0           0  19.0   \n",
       "\n",
       "       Retail_GC  Year  \n",
       "0            491  2023  \n",
       "1            413  2023  \n",
       "2            543  2023  \n",
       "3            218  2023  \n",
       "4            242  2023  \n",
       "...          ...   ...  \n",
       "39524        135  2023  \n",
       "39525        394  2023  \n",
       "39526        631  2023  \n",
       "39527        814  2023  \n",
       "39528        197  2023  \n",
       "\n",
       "[39529 rows x 15 columns]"
      ]
     },
     "execution_count": 7,
     "metadata": {},
     "output_type": "execute_result"
    }
   ],
   "source": [
    "product_sales=product_sales.rename(columns={'dteStartDate':'StartDate'})\n",
    "weeks=total_df[['StartDate','Week']].drop_duplicates(keep='first')\n",
    "ps=product_sales.merge(weeks[['StartDate','Week']],how='left',on='StartDate')\n",
    "ps['Retail_GC']=ps.intTransactionCount-ps.intUECount\\\n",
    "-ps.intDDCount-ps.intGHCount\n",
    "ps['Year']=ps.StartDate.dt.year\n",
    "ps"
   ]
  },
  {
   "cell_type": "code",
   "execution_count": 8,
   "id": "d89b278c",
   "metadata": {},
   "outputs": [
    {
     "data": {
      "text/plain": [
       "15535622"
      ]
     },
     "execution_count": 8,
     "metadata": {},
     "output_type": "execute_result"
    }
   ],
   "source": [
    "ps[(ps.dteEndDate.dt.year==2024)].groupby('dteEndDate')['Retail_GC'].sum().iloc[:-1,].sum()"
   ]
  },
  {
   "cell_type": "code",
   "execution_count": 9,
   "id": "8ed06e49",
   "metadata": {},
   "outputs": [
    {
     "data": {
      "text/plain": [
       "585921"
      ]
     },
     "execution_count": 9,
     "metadata": {},
     "output_type": "execute_result"
    }
   ],
   "source": [
    "ps[(ps.dteEndDate=='2024-07-21')].Retail_GC.sum()"
   ]
  },
  {
   "cell_type": "code",
   "execution_count": 10,
   "id": "b10fa350",
   "metadata": {},
   "outputs": [],
   "source": [
    "threepd=ps.rename(columns={'intRitasStoreID':'ShopID'})\n",
    "total_gc=threepd.groupby(['ShopID','Year','Week'])['Retail_GC'].sum().reset_index()\n",
    "total_gc.ShopID=total_gc.ShopID.astype('int')\n",
    "total_gc.Week=total_gc.Week.astype('int')"
   ]
  },
  {
   "cell_type": "code",
   "execution_count": 11,
   "id": "eeac783e",
   "metadata": {},
   "outputs": [
    {
     "name": "stdout",
     "output_type": "stream",
     "text": [
      "<class 'pandas.core.frame.DataFrame'>\n",
      "RangeIndex: 679295 entries, 0 to 679294\n",
      "Data columns (total 25 columns):\n",
      " #   Column            Non-Null Count   Dtype         \n",
      "---  ------            --------------   -----         \n",
      " 0   ShopID            679295 non-null  int64         \n",
      " 1   intStoreID        679295 non-null  int64         \n",
      " 2   ProductCode       679295 non-null  int64         \n",
      " 3   ProdSizeCode      679295 non-null  int64         \n",
      " 4   DiscountCode      679295 non-null  int64         \n",
      " 5   Register          679295 non-null  int64         \n",
      " 6   SalesQty          679295 non-null  int64         \n",
      " 7   SalesMny          679295 non-null  float64       \n",
      " 8   StartDate         679295 non-null  datetime64[ns]\n",
      " 9   EndDate           679295 non-null  datetime64[ns]\n",
      " 10  EditDate          679295 non-null  datetime64[ns]\n",
      " 11  Week              679295 non-null  int64         \n",
      " 12  DataSource        679295 non-null  object        \n",
      " 13  ShopName          679295 non-null  object        \n",
      " 14  State             679295 non-null  object        \n",
      " 15  Region            679295 non-null  object        \n",
      " 16  ShopStatus        679295 non-null  object        \n",
      " 17  LegacyShopType    679295 non-null  object        \n",
      " 18  LegacyShopStatus  679295 non-null  object        \n",
      " 19  ProductTypeName   679295 non-null  object        \n",
      " 20  ProductSizeName   679295 non-null  object        \n",
      " 21  SpecialVenue      679295 non-null  object        \n",
      " 22  CoOpStatus        679295 non-null  object        \n",
      " 23  CoOpName          327371 non-null  object        \n",
      " 24  CoOpRate          679295 non-null  float64       \n",
      "dtypes: datetime64[ns](3), float64(2), int64(8), object(12)\n",
      "memory usage: 129.6+ MB\n"
     ]
    }
   ],
   "source": [
    "data.info()"
   ]
  },
  {
   "cell_type": "code",
   "execution_count": 12,
   "id": "8b440615",
   "metadata": {},
   "outputs": [
    {
     "data": {
      "text/plain": [
       "184482174.25129995"
      ]
     },
     "execution_count": 12,
     "metadata": {},
     "output_type": "execute_result"
    }
   ],
   "source": [
    "\n",
    "\n",
    "total_gc=total_gc[total_gc.Week<=data.Week.max()] #filters on the max week for Guest COunts\n",
    "total_gc['ShopID']=pd.to_numeric(total_gc.ShopID,errors='coerce')# Converts ShopID to integers\n",
    "total_gc=total_gc.merge(calendar[['Week','Year','Month']],on=['Week','Year'],how='left') #Adds month column to Guest Counts\n",
    "total_df['Year']=total_df.StartDate.dt.year #Adds Year column\n",
    "total_gc=total_gc.merge(data3[['ShopID','State']],on='ShopID',how='left').drop_duplicates(subset=['Week','Year','ShopID','Retail_GC','Month'],\n",
    "                                                                                keep='first')\n",
    "total_df[total_df.StartDate.dt.year==2024].SalesMny.sum()\n"
   ]
  },
  {
   "cell_type": "code",
   "execution_count": 13,
   "id": "a36d585f",
   "metadata": {},
   "outputs": [],
   "source": [
    "core_list=['NJ','PA','DE','MD']\n",
    "total_df['Area']=total_df['State'].apply(lambda x: 'Core' if x in core_list else 'Developing')\n",
    "total_gc['Area']=total_gc['State'].apply(lambda x: 'Core' if x in core_list else 'Developing')"
   ]
  },
  {
   "cell_type": "code",
   "execution_count": 14,
   "id": "31fe7c63",
   "metadata": {},
   "outputs": [
    {
     "data": {
      "text/plain": [
       "184482174.25129995"
      ]
     },
     "execution_count": 14,
     "metadata": {},
     "output_type": "execute_result"
    }
   ],
   "source": [
    "total_df[total_df.Year==2024].SalesMny.sum()"
   ]
  },
  {
   "cell_type": "code",
   "execution_count": 15,
   "id": "77209808",
   "metadata": {},
   "outputs": [],
   "source": [
    "# gc_region=total_gc.merge(total_df[['ShopID','Area']],on='ShopID',how='left').drop_duplicates(keep='first').groupby([\n",
    "# 'Area','Year'\n",
    "# ])['GC'].sum().reset_index()\n"
   ]
  },
  {
   "cell_type": "code",
   "execution_count": 16,
   "id": "13edaebe",
   "metadata": {},
   "outputs": [],
   "source": [
    "gc_region=total_gc.groupby([\n",
    "'Area','Year'\n",
    "])['Retail_GC'].sum().reset_index()"
   ]
  },
  {
   "cell_type": "code",
   "execution_count": 17,
   "id": "709e1879",
   "metadata": {},
   "outputs": [
    {
     "data": {
      "text/plain": [
       "(1282824, 29)"
      ]
     },
     "execution_count": 17,
     "metadata": {},
     "output_type": "execute_result"
    }
   ],
   "source": [
    "total_df.shape"
   ]
  },
  {
   "cell_type": "markdown",
   "id": "e0c0aca4",
   "metadata": {},
   "source": [
    "# YTD Total System Sales"
   ]
  },
  {
   "cell_type": "code",
   "execution_count": 18,
   "id": "e9eee56e",
   "metadata": {},
   "outputs": [
    {
     "data": {
      "text/plain": [
       "355168544.0"
      ]
     },
     "execution_count": 18,
     "metadata": {},
     "output_type": "execute_result"
    }
   ],
   "source": [
    "sales_region=round(total_df.groupby(['Area','Year'])[['ShopID','SalesMny']].agg({'ShopID':'nunique','SalesMny':'sum'}),2).reset_index()\n",
    "tsr=sales_region.merge(gc_region,on=['Area','Year'],how='left')\n",
    "tsr['AvgChk']=round(tsr.SalesMny/tsr.Retail_GC,2)\n",
    "tsr.SalesMny.sum()"
   ]
  },
  {
   "cell_type": "code",
   "execution_count": 19,
   "id": "b1d160a5",
   "metadata": {},
   "outputs": [
    {
     "data": {
      "text/plain": [
       "184482174.25"
      ]
     },
     "execution_count": 19,
     "metadata": {},
     "output_type": "execute_result"
    }
   ],
   "source": [
    "tsr[tsr.Year==2024].SalesMny.sum()\n"
   ]
  },
  {
   "cell_type": "code",
   "execution_count": 20,
   "id": "8a2b52e3",
   "metadata": {},
   "outputs": [
    {
     "data": {
      "text/plain": [
       "184482174.25129995"
      ]
     },
     "execution_count": 20,
     "metadata": {},
     "output_type": "execute_result"
    }
   ],
   "source": [
    "data.SalesMny.sum()"
   ]
  },
  {
   "cell_type": "markdown",
   "id": "6d0d4b62",
   "metadata": {},
   "source": [
    "# Month Total System Sales"
   ]
  },
  {
   "cell_type": "code",
   "execution_count": 21,
   "id": "39d5157c",
   "metadata": {},
   "outputs": [],
   "source": [
    "# sales_month=total_df[total_df.Month==total_df.Month.max()].groupby(\n",
    "#     ['Area','Year'])[['ShopID','SalesMny']].agg(\n",
    "#     {'ShopID':'nunique','SalesMny':'sum'}).reset_index()\n",
    "# gc_month_region=total_gc[total_gc.Month==total_gc.Month.max()].merge(total_df[['ShopID','Area']],on='ShopID',how='left').drop_duplicates(keep='first').groupby([\n",
    "# 'Area','Year'\n",
    "# ])['GC'].sum().reset_index()\n",
    "# tsr_mtd=sales_month.merge(gc_month_region,on=['Area','Year'],how='left')\n",
    "# tsr_mtd['AvgChk']=round(tsr_mtd.SalesMny/tsr_mtd.GC,2)\n",
    "# tsr_mtd"
   ]
  },
  {
   "cell_type": "code",
   "execution_count": 22,
   "id": "cee549e4",
   "metadata": {},
   "outputs": [
    {
     "data": {
      "text/plain": [
       "Area         CoreDeveloping\n",
       "Year                   4046\n",
       "ShopID                  541\n",
       "SalesMny       2593782.8839\n",
       "Retail_GC            226466\n",
       "AvgChk                23.16\n",
       "dtype: object"
      ]
     },
     "execution_count": 22,
     "metadata": {},
     "output_type": "execute_result"
    }
   ],
   "source": [
    "sales_month=total_df[total_df.Month==total_df.Month.max()].groupby(\n",
    "    ['Area','Year'])[['ShopID','SalesMny']].agg(\n",
    "    {'ShopID':'nunique','SalesMny':'sum'}).reset_index()\n",
    "gc_month_region=total_gc[total_gc.Month==total_gc.Month.max()].groupby([\n",
    "'Area','Year'\n",
    "])['Retail_GC'].sum().reset_index()\n",
    "tsr_mtd=sales_month.merge(gc_month_region,on=['Area','Year'],how='left')\n",
    "tsr_mtd['AvgChk']=round(tsr_mtd.SalesMny/tsr_mtd.Retail_GC,2)\n",
    "tsr_mtd.sum()"
   ]
  },
  {
   "cell_type": "markdown",
   "id": "e0901ed4",
   "metadata": {},
   "source": [
    "# Week Total System Sales"
   ]
  },
  {
   "cell_type": "code",
   "execution_count": 23,
   "id": "679b8261",
   "metadata": {},
   "outputs": [],
   "source": [
    "# sales_week=total_df[total_df.Week==total_df.Week.max()].groupby(\n",
    "#     ['Region','Year'])[['ShopID','SalesMny']].agg(\n",
    "#     {'ShopID':'nunique','SalesMny':'sum'}).reset_index()\n",
    "# gc_week_region=total_gc[total_gc.Week==total_gc.Week.max()].merge(total_df[['ShopID','Region']],on='ShopID',how='left').drop_duplicates(keep='first').groupby([\n",
    "# 'Region','Year'\n",
    "# ])['GC'].sum().reset_index()\n",
    "# tsr_wtd=sales_week.merge(gc_week_region,on=['Region','Year'],how='left')\n",
    "# tsr_wtd['AvgChk']=round(tsr_wtd.SalesMny/tsr_wtd.GC,2)\n",
    "# tsr_wtd"
   ]
  },
  {
   "cell_type": "code",
   "execution_count": 24,
   "id": "41ef39d0",
   "metadata": {},
   "outputs": [
    {
     "name": "stdout",
     "output_type": "stream",
     "text": [
      "<class 'pandas.core.frame.DataFrame'>\n",
      "Index: 1282824 entries, 0 to 1369791\n",
      "Data columns (total 29 columns):\n",
      " #   Column            Non-Null Count    Dtype         \n",
      "---  ------            --------------    -----         \n",
      " 0   ShopID            1282824 non-null  int64         \n",
      " 1   intStoreID        1282824 non-null  int64         \n",
      " 2   ProductCode       1282824 non-null  int64         \n",
      " 3   ProdSizeCode      1282824 non-null  int64         \n",
      " 4   DiscountCode      1282824 non-null  int64         \n",
      " 5   Register          1282824 non-null  int64         \n",
      " 6   SalesQty          1282824 non-null  int64         \n",
      " 7   SalesMny          1282824 non-null  float64       \n",
      " 8   StartDate         1282824 non-null  datetime64[ns]\n",
      " 9   EndDate           1282824 non-null  datetime64[ns]\n",
      " 10  EditDate          1282824 non-null  datetime64[ns]\n",
      " 11  Week              1282824 non-null  int32         \n",
      " 12  DataSource        1282824 non-null  object        \n",
      " 13  ShopName          1282824 non-null  object        \n",
      " 14  State             1282824 non-null  object        \n",
      " 15  Region            1282824 non-null  object        \n",
      " 16  ShopStatus        1282824 non-null  object        \n",
      " 17  LegacyShopType    1282824 non-null  object        \n",
      " 18  LegacyShopStatus  1282824 non-null  object        \n",
      " 19  ProductTypeName   1282824 non-null  object        \n",
      " 20  ProductSizeName   1282824 non-null  object        \n",
      " 21  SpecialVenue      1282824 non-null  object        \n",
      " 22  CoOpStatus        1282824 non-null  object        \n",
      " 23  CoOpName          602234 non-null   object        \n",
      " 24  CoOpRate          1282824 non-null  float64       \n",
      " 25  SV                1282824 non-null  object        \n",
      " 26  Month             1249165 non-null  float64       \n",
      " 27  Year              1282824 non-null  int32         \n",
      " 28  Area              1282824 non-null  object        \n",
      "dtypes: datetime64[ns](3), float64(3), int32(2), int64(7), object(14)\n",
      "memory usage: 283.8+ MB\n"
     ]
    }
   ],
   "source": [
    "total_df.info()"
   ]
  },
  {
   "cell_type": "code",
   "execution_count": 25,
   "id": "3580be58",
   "metadata": {},
   "outputs": [
    {
     "data": {
      "text/plain": [
       "Area         CoreCoreDevelopingDeveloping\n",
       "Year                                 8094\n",
       "ShopID                               1097\n",
       "SalesMny                     4986465.5415\n",
       "Retail_GC                          426609\n",
       "AvgChk                              47.23\n",
       "dtype: object"
      ]
     },
     "execution_count": 25,
     "metadata": {},
     "output_type": "execute_result"
    }
   ],
   "source": [
    "sales_week=total_df[total_df.Week==data.Week.max()].groupby(\n",
    "    ['Area','Year'])[['ShopID','SalesMny']].agg(\n",
    "    {'ShopID':'nunique','SalesMny':'sum'}).reset_index()\n",
    "gc_week_region=total_gc[total_gc.Week==total_gc.Week.max()].groupby([\n",
    "'Area','Year'\n",
    "])['Retail_GC'].sum().reset_index()\n",
    "tsr_wtd=sales_week.merge(gc_week_region,on=['Area','Year'],how='left')\n",
    "tsr_wtd['AvgChk']=round(tsr_wtd.SalesMny/tsr_wtd.Retail_GC,2)\n",
    "tsr_wtd.sum()"
   ]
  },
  {
   "cell_type": "markdown",
   "id": "6252a119",
   "metadata": {},
   "source": [
    "# Special Venues YTD"
   ]
  },
  {
   "cell_type": "code",
   "execution_count": 26,
   "id": "25eca355",
   "metadata": {},
   "outputs": [],
   "source": [
    "sv_ytd=round(total_df[(total_df.SV=='Yes')].groupby(['Area','Year'])[['ShopID','SalesMny']].agg({'ShopID':'nunique','SalesMny':'sum'}),2).reset_index()"
   ]
  },
  {
   "cell_type": "markdown",
   "id": "fa41d2cf",
   "metadata": {},
   "source": [
    "# Special Venues MTD"
   ]
  },
  {
   "cell_type": "code",
   "execution_count": 27,
   "id": "c8a92a15",
   "metadata": {},
   "outputs": [],
   "source": [
    "sv_mtd=total_df[(total_df.SV=='Yes')&(total_df.Month==total_df.Month.max())].groupby(['Area','Year'])[['ShopID','SalesMny']].agg({'ShopID':'nunique','SalesMny':'sum'}).reset_index()"
   ]
  },
  {
   "cell_type": "markdown",
   "id": "dc90cfe7",
   "metadata": {},
   "source": [
    "# Special Venues WTD"
   ]
  },
  {
   "cell_type": "code",
   "execution_count": 28,
   "id": "bad21c41",
   "metadata": {},
   "outputs": [],
   "source": [
    "sv_wtd=round(total_df[(total_df.SV=='Yes')&(total_df.Week==data.Week.max())].groupby(['Area','Year'])[['ShopID','SalesMny']].agg({'ShopID':'nunique','SalesMny':'sum'}),2).reset_index()\n"
   ]
  },
  {
   "cell_type": "markdown",
   "id": "9b1f71f7",
   "metadata": {},
   "source": [
    "# 3PD and Open Catering Sales YTD"
   ]
  },
  {
   "cell_type": "code",
   "execution_count": 29,
   "id": "35732a0c",
   "metadata": {},
   "outputs": [],
   "source": [
    "alist=['3rd Party Delivery','Full Service Catering (Open $)','Online Ordering']\n",
    "pd3_oc_ytd=total_df[(total_df.ProductTypeName.isin(alist))&(total_df.SV=='No')].groupby(['Area','Year','ProductTypeName'])[['SalesMny']].agg({'SalesMny':'sum'}).reset_index()\n",
    "pd3_oc_ytd=pd3_oc_ytd.iloc[:,[0,1,-1,2]]"
   ]
  },
  {
   "cell_type": "markdown",
   "id": "49dea9fd",
   "metadata": {},
   "source": [
    "# 3PD and Open Catering Sales MTD"
   ]
  },
  {
   "cell_type": "code",
   "execution_count": 30,
   "id": "5ce1756b",
   "metadata": {},
   "outputs": [],
   "source": [
    "pd3_oc_mtd=total_df[(total_df.ProductTypeName.isin(alist))&(total_df.Month==total_df.Month.max())&(total_df.SV=='No')].groupby(['Area','Year','ProductTypeName'])[['SalesMny']].agg({'SalesMny':'sum'}).reset_index()\n",
    "pd3_oc_mtd=pd3_oc_mtd.iloc[:,[0,1,-1,2]]"
   ]
  },
  {
   "cell_type": "markdown",
   "id": "cd3798d0",
   "metadata": {},
   "source": [
    "# 3PD and Open Catering Sales WTD"
   ]
  },
  {
   "cell_type": "code",
   "execution_count": 31,
   "id": "c065bd27",
   "metadata": {},
   "outputs": [],
   "source": [
    "pd3_oc_wtd=total_df[(total_df.ProductTypeName.isin(alist))&(total_df.Week==data.Week.max())&(total_df.SV=='No')].groupby(['Area','Year','ProductTypeName'])[['SalesMny']].agg({'SalesMny':'sum'}).reset_index()\n",
    "pd3_oc_wtd=pd3_oc_wtd.iloc[:,[0,1,-1,2]]"
   ]
  },
  {
   "cell_type": "markdown",
   "id": "d016813e",
   "metadata": {},
   "source": [
    "# Mobile Sales YTD"
   ]
  },
  {
   "cell_type": "code",
   "execution_count": 32,
   "id": "c812967c",
   "metadata": {},
   "outputs": [],
   "source": [
    "mobile_ytd=total_df[(total_df.LegacyShopType.str.contains('Mobile'))&(total_df.SV=='No')&(\n",
    "    total_df.ProductTypeName!='Full Service Catering (Open $)')].groupby(['Area','Year'])[['ShopID','SalesMny']].agg({'ShopID':'nunique','SalesMny':'sum'}).reset_index()"
   ]
  },
  {
   "cell_type": "code",
   "execution_count": 33,
   "id": "5067f554",
   "metadata": {},
   "outputs": [],
   "source": [
    "mobile_mtd=total_df[(total_df.LegacyShopType.str.contains('Mobile'))&(total_df.SV=='No')&(\n",
    "    total_df.ProductTypeName!='Full Service Catering (Open $)')&(total_df.Month==total_df.Month.max())].groupby(\n",
    "    ['Area','Year'])[['ShopID','SalesMny']].agg({'ShopID':'nunique','SalesMny':'sum'}).reset_index()"
   ]
  },
  {
   "cell_type": "code",
   "execution_count": 34,
   "id": "f6fae0fd",
   "metadata": {},
   "outputs": [],
   "source": [
    "mobile_wtd=total_df[(total_df.LegacyShopType.str.contains('Mobile'))&(total_df.SV=='No')&(\n",
    "    total_df.ProductTypeName!='Full Service Catering (Open $)')&(total_df.Week==data.Week.max())].groupby(\n",
    "    ['Area','Year'])[['ShopID','SalesMny']].agg({'ShopID':'nunique','SalesMny':'sum'}).reset_index()"
   ]
  },
  {
   "cell_type": "markdown",
   "id": "a7db6c55",
   "metadata": {},
   "source": [
    "# Retail Sales YTD"
   ]
  },
  {
   "cell_type": "code",
   "execution_count": 35,
   "id": "95a91e43",
   "metadata": {},
   "outputs": [],
   "source": [
    "# retail_gc=total_gc.merge(total_df[['ShopID','Region']],on='ShopID',how='left').drop_duplicates(keep='first')\n"
   ]
  },
  {
   "cell_type": "code",
   "execution_count": 36,
   "id": "7659e2d5",
   "metadata": {},
   "outputs": [],
   "source": [
    "retail_ytd=total_df[~(total_df.LegacyShopType.str.contains('Mobile'))&(total_df.SV=='No')&~(\n",
    "    total_df.ProductTypeName.isin(alist))].groupby(\n",
    "    ['Area','Year'])[['ShopID','SalesMny']].agg({'ShopID':'nunique','SalesMny':'sum'}).reset_index()\n",
    "retail_ytd\n",
    "shops=total_df[~(total_df.LegacyShopType.str.contains('Mobile'))&(total_df.SV=='No')&~(\n",
    "    total_df.ProductTypeName.isin(alist))].ShopID.unique()\n",
    "shops\n",
    "gc_ytd=total_gc[total_gc.ShopID.isin(shops)].groupby([\n",
    "'Area','Year'\n",
    "])['Retail_GC'].sum().reset_index()\n",
    "retail_ytd=retail_ytd.merge(gc_ytd,on=['Area','Year'],how='left')\n",
    "retail_ytd['AvgChk']=retail_ytd.SalesMny/retail_ytd.Retail_GC\n"
   ]
  },
  {
   "cell_type": "code",
   "execution_count": 37,
   "id": "f92a3903",
   "metadata": {},
   "outputs": [
    {
     "data": {
      "text/html": [
       "<div>\n",
       "<style scoped>\n",
       "    .dataframe tbody tr th:only-of-type {\n",
       "        vertical-align: middle;\n",
       "    }\n",
       "\n",
       "    .dataframe tbody tr th {\n",
       "        vertical-align: top;\n",
       "    }\n",
       "\n",
       "    .dataframe thead th {\n",
       "        text-align: right;\n",
       "    }\n",
       "</style>\n",
       "<table border=\"1\" class=\"dataframe\">\n",
       "  <thead>\n",
       "    <tr style=\"text-align: right;\">\n",
       "      <th></th>\n",
       "      <th>Area</th>\n",
       "      <th>Year</th>\n",
       "      <th>ShopID</th>\n",
       "      <th>SalesMny</th>\n",
       "      <th>Retail_GC</th>\n",
       "      <th>AvgChk</th>\n",
       "    </tr>\n",
       "  </thead>\n",
       "  <tbody>\n",
       "    <tr>\n",
       "      <th>0</th>\n",
       "      <td>Core</td>\n",
       "      <td>2023</td>\n",
       "      <td>380</td>\n",
       "      <td>1.160429e+08</td>\n",
       "      <td>11359980</td>\n",
       "      <td>10.215065</td>\n",
       "    </tr>\n",
       "    <tr>\n",
       "      <th>1</th>\n",
       "      <td>Core</td>\n",
       "      <td>2024</td>\n",
       "      <td>387</td>\n",
       "      <td>1.192173e+08</td>\n",
       "      <td>11243665</td>\n",
       "      <td>10.603066</td>\n",
       "    </tr>\n",
       "    <tr>\n",
       "      <th>2</th>\n",
       "      <td>Developing</td>\n",
       "      <td>2023</td>\n",
       "      <td>146</td>\n",
       "      <td>3.408279e+07</td>\n",
       "      <td>3206089</td>\n",
       "      <td>10.630643</td>\n",
       "    </tr>\n",
       "    <tr>\n",
       "      <th>3</th>\n",
       "      <td>Developing</td>\n",
       "      <td>2024</td>\n",
       "      <td>157</td>\n",
       "      <td>3.753648e+07</td>\n",
       "      <td>3467067</td>\n",
       "      <td>10.826580</td>\n",
       "    </tr>\n",
       "  </tbody>\n",
       "</table>\n",
       "</div>"
      ],
      "text/plain": [
       "         Area  Year  ShopID      SalesMny  Retail_GC     AvgChk\n",
       "0        Core  2023     380  1.160429e+08   11359980  10.215065\n",
       "1        Core  2024     387  1.192173e+08   11243665  10.603066\n",
       "2  Developing  2023     146  3.408279e+07    3206089  10.630643\n",
       "3  Developing  2024     157  3.753648e+07    3467067  10.826580"
      ]
     },
     "execution_count": 37,
     "metadata": {},
     "output_type": "execute_result"
    }
   ],
   "source": [
    "retail_ytd"
   ]
  },
  {
   "cell_type": "markdown",
   "id": "a368005c",
   "metadata": {},
   "source": [
    "# Retail Sales MTD"
   ]
  },
  {
   "cell_type": "code",
   "execution_count": 38,
   "id": "9ae927bc",
   "metadata": {},
   "outputs": [],
   "source": [
    "retail_mtd=total_df[~(total_df.LegacyShopType.str.contains('Mobile'))&(total_df.SV=='No')&~(\n",
    "    total_df.ProductTypeName.isin(alist))&(total_df.Month==total_df.Month.max())].groupby(\n",
    "    ['Area','Year'])[['ShopID','SalesMny']].agg({'ShopID':'nunique','SalesMny':'sum'}).reset_index()\n",
    "shops=total_df[~(total_df.LegacyShopType.str.contains('Mobile'))&(total_df.SV=='No')&~(\n",
    "    total_df.ProductTypeName.isin(alist))&(total_df.Month==total_df.Month.max())].ShopID.unique()\n",
    "gc_mtd=total_gc[total_gc.ShopID.isin(shops)&(total_gc.Month==total_gc.Month.max())].groupby([\n",
    "'Area','Year'\n",
    "])['Retail_GC'].sum().reset_index()\n",
    "retail_mtd=retail_mtd.merge(gc_mtd,on=['Area','Year'],how='left')\n",
    "retail_mtd['AvgChk']=retail_mtd.SalesMny/retail_mtd.Retail_GC"
   ]
  },
  {
   "cell_type": "markdown",
   "id": "05b63c81",
   "metadata": {},
   "source": [
    "# Retail Sales WTD"
   ]
  },
  {
   "cell_type": "code",
   "execution_count": 39,
   "id": "ccc73cac",
   "metadata": {},
   "outputs": [],
   "source": [
    "retail_wtd=total_df[~(total_df.LegacyShopType.str.contains('Mobile'))&(total_df.SV=='No')&~(\n",
    "    total_df.ProductTypeName.isin(alist))&(total_df.Week==data.Week.max())].groupby(\n",
    "    ['Area','Year'])[['ShopID','SalesMny']].agg({'ShopID':'nunique','SalesMny':'sum'}).reset_index()\n",
    "shops=total_df[~(total_df.LegacyShopType.str.contains('Mobile'))&(total_df.SV=='No')&~(\n",
    "    total_df.ProductTypeName.isin(alist))&(total_df.Week==data.Week.max())].ShopID.unique()\n",
    "gc_wtd=total_gc[total_gc.ShopID.isin(shops)&(total_gc.Week==total_gc.Week.max())].groupby([\n",
    "'Area','Year'\n",
    "])['Retail_GC'].sum().reset_index()\n",
    "retail_wtd=retail_wtd.merge(gc_wtd,on=['Area','Year'],how='left')\n",
    "retail_wtd['AvgChk']=retail_wtd.SalesMny/retail_wtd.Retail_GC"
   ]
  },
  {
   "cell_type": "code",
   "execution_count": 40,
   "id": "594a5926",
   "metadata": {},
   "outputs": [
    {
     "data": {
      "text/plain": [
       "184482174.25129995"
      ]
     },
     "execution_count": 40,
     "metadata": {},
     "output_type": "execute_result"
    }
   ],
   "source": [
    "total_df[total_df.Year==2024].SalesMny.sum()"
   ]
  },
  {
   "cell_type": "code",
   "execution_count": 41,
   "id": "de4e9bdd",
   "metadata": {},
   "outputs": [
    {
     "data": {
      "text/plain": [
       "184482174.25629997"
      ]
     },
     "execution_count": 41,
     "metadata": {},
     "output_type": "execute_result"
    }
   ],
   "source": [
    "retail_ytd[retail_ytd.Year==2024].SalesMny.sum()+mobile_ytd[mobile_ytd.Year==2024].SalesMny.sum()+pd3_oc_ytd[pd3_oc_ytd.Year==2024].SalesMny.sum()+sv_ytd[sv_ytd.Year==2024].SalesMny.sum()"
   ]
  },
  {
   "cell_type": "markdown",
   "id": "79692245",
   "metadata": {},
   "source": [
    "# Retail Comp Sales YTD"
   ]
  },
  {
   "cell_type": "code",
   "execution_count": 42,
   "id": "46d7b232",
   "metadata": {},
   "outputs": [],
   "source": [
    "comps=total_df.pivot_table(index='ShopID',columns='Year',values='SalesMny',aggfunc='sum',fill_value=0).reset_index()\n",
    "comps=comps[comps.ShopID<10000]\n",
    "comp_list=comps[(comps[2023]>0)&(comps[2024]>0)].ShopID.unique()"
   ]
  },
  {
   "cell_type": "code",
   "execution_count": 43,
   "id": "378084c9",
   "metadata": {},
   "outputs": [
    {
     "data": {
      "text/plain": [
       "array([   1,    2,    3,    4,    6,    7,    8,    9,   10,   11,   12,\n",
       "         14,   15,   16,   18,   19,   20,   21,   22,   26,   28,   29,\n",
       "         30,   31,   32,   34,   36,   37,   39,   40,   41,   42,   43,\n",
       "         44,   45,   47,   48,   53,   54,   55,   56,   57,   58,   59,\n",
       "         60,   61,   64,   65,   66,   68,   69,   70,   71,   73,   78,\n",
       "         81,   82,   83,   84,   85,   86,   87,   88,   89,   91,   92,\n",
       "         94,   95,   96,   97,   98,  100,  101,  102,  104,  105,  106,\n",
       "        108,  109,  111,  113,  114,  117,  118,  120,  122,  123,  124,\n",
       "        125,  127,  128,  129,  133,  134,  135,  136,  138,  139,  142,\n",
       "        144,  145,  148,  149,  150,  151,  152,  153,  154,  155,  156,\n",
       "        158,  159,  160,  161,  163,  164,  166,  167,  169,  170,  171,\n",
       "        172,  173,  175,  178,  180,  181,  182,  183,  184,  185,  186,\n",
       "        187,  188,  190,  192,  194,  195,  197,  198,  200,  204,  205,\n",
       "        206,  207,  209,  211,  212,  213,  214,  215,  217,  218,  221,\n",
       "        223,  224,  225,  227,  229,  230,  231,  235,  237,  238,  239,\n",
       "        241,  242,  243,  245,  246,  247,  248,  249,  250,  254,  256,\n",
       "        257,  259,  260,  261,  263,  267,  270,  271,  274,  278,  279,\n",
       "        280,  285,  286,  287,  288,  289,  290,  291,  292,  293,  295,\n",
       "        298,  299,  301,  303,  304,  305,  306,  309,  311,  312,  313,\n",
       "        314,  316,  322,  323,  330,  331,  332,  333,  334,  335,  337,\n",
       "        338,  339,  340,  341,  342,  343,  344,  345,  347,  349,  350,\n",
       "        353,  354,  355,  358,  359,  361,  362,  364,  365,  366,  368,\n",
       "        369,  370,  371,  372,  374,  376,  379,  380,  381,  382,  383,\n",
       "        384,  385,  386,  387,  388,  390,  391,  392,  393,  394,  397,\n",
       "        399,  400,  402,  403,  405,  410,  412,  413,  414,  417,  421,\n",
       "        423,  427,  428,  429,  435,  436,  438,  440,  441,  444,  445,\n",
       "        452,  453,  463,  467,  468,  472,  473,  474,  476,  477,  484,\n",
       "        485,  486,  487,  490,  493,  495,  496,  498,  501,  503,  510,\n",
       "        514,  516,  518,  519,  521,  525,  532,  534,  536,  543,  545,\n",
       "        550,  552,  559,  560,  564,  571,  575,  579,  585,  617,  626,\n",
       "        628,  638,  649,  650,  658,  663,  676,  681,  689,  691,  704,\n",
       "        711,  712,  714,  729,  731,  734,  746,  753,  764,  777,  779,\n",
       "        790,  803,  824,  835,  836,  843,  847,  853,  860,  863,  866,\n",
       "        872,  874,  882,  885,  886,  887,  888,  889,  892,  897,  899,\n",
       "        903,  905,  912,  928,  929,  930,  931,  932,  933,  934,  937,\n",
       "        940,  944,  952, 1018, 1040, 1044, 1045, 1046, 1047, 1049, 1053,\n",
       "       1055, 1060, 1065, 1071, 1072, 1088, 1119, 1121, 1126, 1130, 1132,\n",
       "       1133, 1159, 1160, 1170, 1171, 1172, 1187, 1212, 1231, 1237, 1253,\n",
       "       1254, 1265, 1266, 1268, 1269, 1271, 1272, 1273, 1302, 1318, 1322,\n",
       "       1334, 1335, 1336, 1337, 1347, 1348, 1351, 1352, 1355, 1356, 1357,\n",
       "       1362, 1364, 1365, 1368, 1369, 1371, 1376, 1377, 1378, 1379, 1381,\n",
       "       1383, 1387, 1389, 1390, 1393, 1394, 1395, 1396, 1397, 1398, 1400,\n",
       "       1401, 1403, 1404, 1405, 1406, 1407, 1409, 1413, 1416, 1417, 1418,\n",
       "       1419, 1420, 1422, 1423, 1424, 1431, 1435, 1436, 1440, 1442, 1445,\n",
       "       1446, 1449, 1450, 1451, 1453, 1454, 1455, 1456, 1457, 1458, 1459,\n",
       "       1460, 1462, 1465, 1466, 1467, 1468, 1469, 1471, 1472, 1473, 1474,\n",
       "       1476, 1477, 1478, 1479, 1480, 1482, 1483, 1484, 1489, 1492, 1495,\n",
       "       1500, 1504, 1515, 1519, 1520, 1522, 1530, 1534], dtype=int64)"
      ]
     },
     "execution_count": 43,
     "metadata": {},
     "output_type": "execute_result"
    }
   ],
   "source": [
    "comp_list"
   ]
  },
  {
   "cell_type": "code",
   "execution_count": 44,
   "id": "2f2ac66c",
   "metadata": {},
   "outputs": [
    {
     "data": {
      "text/html": [
       "<div>\n",
       "<style scoped>\n",
       "    .dataframe tbody tr th:only-of-type {\n",
       "        vertical-align: middle;\n",
       "    }\n",
       "\n",
       "    .dataframe tbody tr th {\n",
       "        vertical-align: top;\n",
       "    }\n",
       "\n",
       "    .dataframe thead th {\n",
       "        text-align: right;\n",
       "    }\n",
       "</style>\n",
       "<table border=\"1\" class=\"dataframe\">\n",
       "  <thead>\n",
       "    <tr style=\"text-align: right;\">\n",
       "      <th></th>\n",
       "      <th>Area</th>\n",
       "      <th>ShopCount</th>\n",
       "      <th>CYSales</th>\n",
       "      <th>PYSales</th>\n",
       "      <th>2024</th>\n",
       "      <th>2023</th>\n",
       "      <th>CYAvgChk</th>\n",
       "      <th>PYAvgChk</th>\n",
       "    </tr>\n",
       "  </thead>\n",
       "  <tbody>\n",
       "    <tr>\n",
       "      <th>0</th>\n",
       "      <td>Core</td>\n",
       "      <td>376</td>\n",
       "      <td>1.176277e+08</td>\n",
       "      <td>1.155902e+08</td>\n",
       "      <td>11299620</td>\n",
       "      <td>11466557</td>\n",
       "      <td>10.409884</td>\n",
       "      <td>10.080637</td>\n",
       "    </tr>\n",
       "    <tr>\n",
       "      <th>1</th>\n",
       "      <td>Developing</td>\n",
       "      <td>137</td>\n",
       "      <td>3.360923e+07</td>\n",
       "      <td>3.251212e+07</td>\n",
       "      <td>3297391</td>\n",
       "      <td>3227119</td>\n",
       "      <td>10.192673</td>\n",
       "      <td>10.074659</td>\n",
       "    </tr>\n",
       "  </tbody>\n",
       "</table>\n",
       "</div>"
      ],
      "text/plain": [
       "         Area  ShopCount       CYSales       PYSales      2024      2023  \\\n",
       "0        Core        376  1.176277e+08  1.155902e+08  11299620  11466557   \n",
       "1  Developing        137  3.360923e+07  3.251212e+07   3297391   3227119   \n",
       "\n",
       "    CYAvgChk   PYAvgChk  \n",
       "0  10.409884  10.080637  \n",
       "1  10.192673  10.074659  "
      ]
     },
     "execution_count": 44,
     "metadata": {},
     "output_type": "execute_result"
    }
   ],
   "source": [
    "comp_ytd=total_df[~(total_df.LegacyShopType.str.contains('Mobile'))&(total_df.SV=='No')&~(\n",
    "total_df.ProductTypeName.isin(alist))&(total_df.ShopID.isin(comp_list))].pivot_table(index='Area',columns=['Year'],\n",
    "                                                                                        values=['ShopID','SalesMny'],aggfunc=['nunique',\n",
    "                                                                                                                              'sum']).reset_index()\n",
    "comp_ytd=comp_ytd.iloc[:,[0,3,6,5]]\n",
    "comp_gc=total_gc[total_gc.ShopID.isin(comp_list)].pivot_table(index='Area',columns='Year',values='Retail_GC',aggfunc='sum').reset_index()\n",
    "comp_gc=comp_gc.iloc[:,[0,2,1]]\n",
    "columns=['Area','ShopCount','CYSales','PYSales']\n",
    "comp_ytd.columns=columns\n",
    "comp_ytd=comp_ytd.merge(comp_gc,on='Area')\n",
    "comp_ytd['CYAvgChk']=comp_ytd['CYSales']/comp_ytd[2024]\n",
    "comp_ytd['PYAvgChk']=comp_ytd['PYSales']/comp_ytd[2023]\n",
    "comp_ytd"
   ]
  },
  {
   "cell_type": "markdown",
   "id": "d2416a3e",
   "metadata": {},
   "source": [
    "# Retail Comp Sales MTD"
   ]
  },
  {
   "cell_type": "code",
   "execution_count": 45,
   "id": "89a692f4",
   "metadata": {},
   "outputs": [
    {
     "ename": "KeyError",
     "evalue": "2024",
     "output_type": "error",
     "traceback": [
      "\u001b[1;31m---------------------------------------------------------------------------\u001b[0m",
      "\u001b[1;31mKeyError\u001b[0m                                  Traceback (most recent call last)",
      "File \u001b[1;32m~\\Anaconda3\\lib\\site-packages\\pandas\\core\\indexes\\base.py:3790\u001b[0m, in \u001b[0;36mIndex.get_loc\u001b[1;34m(self, key)\u001b[0m\n\u001b[0;32m   3789\u001b[0m \u001b[38;5;28;01mtry\u001b[39;00m:\n\u001b[1;32m-> 3790\u001b[0m     \u001b[38;5;28;01mreturn\u001b[39;00m \u001b[38;5;28;43mself\u001b[39;49m\u001b[38;5;241;43m.\u001b[39;49m\u001b[43m_engine\u001b[49m\u001b[38;5;241;43m.\u001b[39;49m\u001b[43mget_loc\u001b[49m\u001b[43m(\u001b[49m\u001b[43mcasted_key\u001b[49m\u001b[43m)\u001b[49m\n\u001b[0;32m   3791\u001b[0m \u001b[38;5;28;01mexcept\u001b[39;00m \u001b[38;5;167;01mKeyError\u001b[39;00m \u001b[38;5;28;01mas\u001b[39;00m err:\n",
      "File \u001b[1;32mindex.pyx:152\u001b[0m, in \u001b[0;36mpandas._libs.index.IndexEngine.get_loc\u001b[1;34m()\u001b[0m\n",
      "File \u001b[1;32mindex.pyx:181\u001b[0m, in \u001b[0;36mpandas._libs.index.IndexEngine.get_loc\u001b[1;34m()\u001b[0m\n",
      "File \u001b[1;32mpandas\\_libs\\hashtable_class_helper.pxi:7080\u001b[0m, in \u001b[0;36mpandas._libs.hashtable.PyObjectHashTable.get_item\u001b[1;34m()\u001b[0m\n",
      "File \u001b[1;32mpandas\\_libs\\hashtable_class_helper.pxi:7088\u001b[0m, in \u001b[0;36mpandas._libs.hashtable.PyObjectHashTable.get_item\u001b[1;34m()\u001b[0m\n",
      "\u001b[1;31mKeyError\u001b[0m: 2024",
      "\nThe above exception was the direct cause of the following exception:\n",
      "\u001b[1;31mKeyError\u001b[0m                                  Traceback (most recent call last)",
      "Input \u001b[1;32mIn [45]\u001b[0m, in \u001b[0;36m<cell line: 2>\u001b[1;34m()\u001b[0m\n\u001b[0;32m      1\u001b[0m comps\u001b[38;5;241m=\u001b[39mtotal_df[total_df\u001b[38;5;241m.\u001b[39mMonth\u001b[38;5;241m==\u001b[39mtotal_df\u001b[38;5;241m.\u001b[39mMonth\u001b[38;5;241m.\u001b[39mmax()]\u001b[38;5;241m.\u001b[39mpivot_table(index\u001b[38;5;241m=\u001b[39m\u001b[38;5;124m'\u001b[39m\u001b[38;5;124mShopID\u001b[39m\u001b[38;5;124m'\u001b[39m,columns\u001b[38;5;241m=\u001b[39m\u001b[38;5;124m'\u001b[39m\u001b[38;5;124mYear\u001b[39m\u001b[38;5;124m'\u001b[39m,values\u001b[38;5;241m=\u001b[39m\u001b[38;5;124m'\u001b[39m\u001b[38;5;124mSalesMny\u001b[39m\u001b[38;5;124m'\u001b[39m,aggfunc\u001b[38;5;241m=\u001b[39m\u001b[38;5;124m'\u001b[39m\u001b[38;5;124msum\u001b[39m\u001b[38;5;124m'\u001b[39m,fill_value\u001b[38;5;241m=\u001b[39m\u001b[38;5;241m0\u001b[39m)\u001b[38;5;241m.\u001b[39mreset_index()\n\u001b[1;32m----> 2\u001b[0m comp_list\u001b[38;5;241m=\u001b[39mcomps[(comps[\u001b[38;5;241m2023\u001b[39m]\u001b[38;5;241m>\u001b[39m\u001b[38;5;241m0\u001b[39m)\u001b[38;5;241m&\u001b[39m(\u001b[43mcomps\u001b[49m\u001b[43m[\u001b[49m\u001b[38;5;241;43m2024\u001b[39;49m\u001b[43m]\u001b[49m\u001b[38;5;241m>\u001b[39m\u001b[38;5;241m0\u001b[39m)]\u001b[38;5;241m.\u001b[39mShopID\u001b[38;5;241m.\u001b[39munique()\n\u001b[0;32m      3\u001b[0m comp_mtd\u001b[38;5;241m=\u001b[39mtotal_df[\u001b[38;5;241m~\u001b[39m(total_df\u001b[38;5;241m.\u001b[39mLegacyShopType\u001b[38;5;241m.\u001b[39mstr\u001b[38;5;241m.\u001b[39mcontains(\u001b[38;5;124m'\u001b[39m\u001b[38;5;124mMobile\u001b[39m\u001b[38;5;124m'\u001b[39m))\u001b[38;5;241m&\u001b[39m(total_df\u001b[38;5;241m.\u001b[39mSV\u001b[38;5;241m==\u001b[39m\u001b[38;5;124m'\u001b[39m\u001b[38;5;124mNo\u001b[39m\u001b[38;5;124m'\u001b[39m)\u001b[38;5;241m&\u001b[39m\u001b[38;5;241m~\u001b[39m(\n\u001b[0;32m      4\u001b[0m total_df\u001b[38;5;241m.\u001b[39mProductTypeName\u001b[38;5;241m.\u001b[39misin(alist))\u001b[38;5;241m&\u001b[39m(total_df\u001b[38;5;241m.\u001b[39mShopID\u001b[38;5;241m.\u001b[39misin(comp_list))\u001b[38;5;241m&\u001b[39m(total_df\u001b[38;5;241m.\u001b[39mMonth\u001b[38;5;241m==\u001b[39mtotal_df\u001b[38;5;241m.\u001b[39mMonth\u001b[38;5;241m.\u001b[39mmax())]\u001b[38;5;241m.\u001b[39mpivot_table(index\u001b[38;5;241m=\u001b[39m\u001b[38;5;124m'\u001b[39m\u001b[38;5;124mArea\u001b[39m\u001b[38;5;124m'\u001b[39m,columns\u001b[38;5;241m=\u001b[39m[\u001b[38;5;124m'\u001b[39m\u001b[38;5;124mYear\u001b[39m\u001b[38;5;124m'\u001b[39m],\n\u001b[0;32m      5\u001b[0m                                                                                         values\u001b[38;5;241m=\u001b[39m[\u001b[38;5;124m'\u001b[39m\u001b[38;5;124mShopID\u001b[39m\u001b[38;5;124m'\u001b[39m,\u001b[38;5;124m'\u001b[39m\u001b[38;5;124mSalesMny\u001b[39m\u001b[38;5;124m'\u001b[39m],aggfunc\u001b[38;5;241m=\u001b[39m[\u001b[38;5;124m'\u001b[39m\u001b[38;5;124mnunique\u001b[39m\u001b[38;5;124m'\u001b[39m,\n\u001b[0;32m      6\u001b[0m                                                                                                                               \u001b[38;5;124m'\u001b[39m\u001b[38;5;124msum\u001b[39m\u001b[38;5;124m'\u001b[39m])\u001b[38;5;241m.\u001b[39mreset_index()\n\u001b[0;32m      7\u001b[0m comp_mtd\u001b[38;5;241m=\u001b[39mcomp_mtd\u001b[38;5;241m.\u001b[39miloc[:,[\u001b[38;5;241m0\u001b[39m,\u001b[38;5;241m3\u001b[39m,\u001b[38;5;241m6\u001b[39m,\u001b[38;5;241m5\u001b[39m]]\n",
      "File \u001b[1;32m~\\Anaconda3\\lib\\site-packages\\pandas\\core\\frame.py:3893\u001b[0m, in \u001b[0;36mDataFrame.__getitem__\u001b[1;34m(self, key)\u001b[0m\n\u001b[0;32m   3891\u001b[0m \u001b[38;5;28;01mif\u001b[39;00m \u001b[38;5;28mself\u001b[39m\u001b[38;5;241m.\u001b[39mcolumns\u001b[38;5;241m.\u001b[39mnlevels \u001b[38;5;241m>\u001b[39m \u001b[38;5;241m1\u001b[39m:\n\u001b[0;32m   3892\u001b[0m     \u001b[38;5;28;01mreturn\u001b[39;00m \u001b[38;5;28mself\u001b[39m\u001b[38;5;241m.\u001b[39m_getitem_multilevel(key)\n\u001b[1;32m-> 3893\u001b[0m indexer \u001b[38;5;241m=\u001b[39m \u001b[38;5;28;43mself\u001b[39;49m\u001b[38;5;241;43m.\u001b[39;49m\u001b[43mcolumns\u001b[49m\u001b[38;5;241;43m.\u001b[39;49m\u001b[43mget_loc\u001b[49m\u001b[43m(\u001b[49m\u001b[43mkey\u001b[49m\u001b[43m)\u001b[49m\n\u001b[0;32m   3894\u001b[0m \u001b[38;5;28;01mif\u001b[39;00m is_integer(indexer):\n\u001b[0;32m   3895\u001b[0m     indexer \u001b[38;5;241m=\u001b[39m [indexer]\n",
      "File \u001b[1;32m~\\Anaconda3\\lib\\site-packages\\pandas\\core\\indexes\\base.py:3797\u001b[0m, in \u001b[0;36mIndex.get_loc\u001b[1;34m(self, key)\u001b[0m\n\u001b[0;32m   3792\u001b[0m     \u001b[38;5;28;01mif\u001b[39;00m \u001b[38;5;28misinstance\u001b[39m(casted_key, \u001b[38;5;28mslice\u001b[39m) \u001b[38;5;129;01mor\u001b[39;00m (\n\u001b[0;32m   3793\u001b[0m         \u001b[38;5;28misinstance\u001b[39m(casted_key, abc\u001b[38;5;241m.\u001b[39mIterable)\n\u001b[0;32m   3794\u001b[0m         \u001b[38;5;129;01mand\u001b[39;00m \u001b[38;5;28many\u001b[39m(\u001b[38;5;28misinstance\u001b[39m(x, \u001b[38;5;28mslice\u001b[39m) \u001b[38;5;28;01mfor\u001b[39;00m x \u001b[38;5;129;01min\u001b[39;00m casted_key)\n\u001b[0;32m   3795\u001b[0m     ):\n\u001b[0;32m   3796\u001b[0m         \u001b[38;5;28;01mraise\u001b[39;00m InvalidIndexError(key)\n\u001b[1;32m-> 3797\u001b[0m     \u001b[38;5;28;01mraise\u001b[39;00m \u001b[38;5;167;01mKeyError\u001b[39;00m(key) \u001b[38;5;28;01mfrom\u001b[39;00m \u001b[38;5;21;01merr\u001b[39;00m\n\u001b[0;32m   3798\u001b[0m \u001b[38;5;28;01mexcept\u001b[39;00m \u001b[38;5;167;01mTypeError\u001b[39;00m:\n\u001b[0;32m   3799\u001b[0m     \u001b[38;5;66;03m# If we have a listlike key, _check_indexing_error will raise\u001b[39;00m\n\u001b[0;32m   3800\u001b[0m     \u001b[38;5;66;03m#  InvalidIndexError. Otherwise we fall through and re-raise\u001b[39;00m\n\u001b[0;32m   3801\u001b[0m     \u001b[38;5;66;03m#  the TypeError.\u001b[39;00m\n\u001b[0;32m   3802\u001b[0m     \u001b[38;5;28mself\u001b[39m\u001b[38;5;241m.\u001b[39m_check_indexing_error(key)\n",
      "\u001b[1;31mKeyError\u001b[0m: 2024"
     ]
    }
   ],
   "source": [
    "comps=total_df[total_df.Month==total_df.Month.max()].pivot_table(index='ShopID',columns='Year',values='SalesMny',aggfunc='sum',fill_value=0).reset_index()\n",
    "comp_list=comps[(comps[2023]>0)&(comps[2024]>0)].ShopID.unique()\n",
    "comp_mtd=total_df[~(total_df.LegacyShopType.str.contains('Mobile'))&(total_df.SV=='No')&~(\n",
    "total_df.ProductTypeName.isin(alist))&(total_df.ShopID.isin(comp_list))&(total_df.Month==total_df.Month.max())].pivot_table(index='Area',columns=['Year'],\n",
    "                                                                                        values=['ShopID','SalesMny'],aggfunc=['nunique',\n",
    "                                                                                                                              'sum']).reset_index()\n",
    "comp_mtd=comp_mtd.iloc[:,[0,3,6,5]]\n",
    "comp_gc=total_gc[total_gc.ShopID.isin(comp_list)&(total_gc.Month==total_df.Month.max())].pivot_table(index='Area',columns='Year',values='Retail_GC',aggfunc='sum').reset_index()\n",
    "comp_gc=comp_gc.iloc[:,[0,2,1]]\n",
    "columns=['Area','ShopCount','CYSales','PYSales']\n",
    "comp_mtd.columns=columns\n",
    "comp_mtd=comp_mtd.merge(comp_gc,on='Area')\n",
    "comp_mtd['CYAvgChk']=comp_mtd['CYSales']/comp_mtd[2024]\n",
    "comp_mtd['PYAvgChk']=comp_mtd['PYSales']/comp_mtd[2023]"
   ]
  },
  {
   "cell_type": "code",
   "execution_count": null,
   "id": "4c4a9636",
   "metadata": {},
   "outputs": [],
   "source": [
    "total_gc[total_gc.ShopID.isin(comp_list)&(total_gc.Month==total_df.Month.max())].pivot_table(index='Area',columns='Year',values='Retail_GC',aggfunc='sum').reset_index()"
   ]
  },
  {
   "cell_type": "code",
   "execution_count": null,
   "id": "b71902b6",
   "metadata": {},
   "outputs": [],
   "source": [
    "total_gc.Month.max()"
   ]
  },
  {
   "cell_type": "markdown",
   "id": "ed9c62b0",
   "metadata": {},
   "source": [
    "# Retail Comp Sales WTD"
   ]
  },
  {
   "cell_type": "code",
   "execution_count": null,
   "id": "a130961f",
   "metadata": {},
   "outputs": [],
   "source": [
    "comps=total_df[total_df.Week==total_df.Week.max()].pivot_table(index='ShopID',columns='Year',values='SalesMny',aggfunc='sum',fill_value=0).reset_index()\n",
    "comp_list=comps[(comps[2023]>0)&(comps[2024]>0)].ShopID.unique()\n",
    "comp_wtd=total_df[~(total_df.LegacyShopType.str.contains('Mobile'))&(total_df.SV=='No')&~(\n",
    "total_df.ProductTypeName.isin(alist))&(total_df.ShopID.isin(comp_list))&(total_df.Week==total_df.Week.max())].pivot_table(index='Area',columns=['Year'],\n",
    "                                                                                        values=['ShopID','SalesMny'],aggfunc=['nunique',\n",
    "                                                                                                                              'sum']).reset_index()\n",
    "comp_wtd=comp_wtd.iloc[:,[0,3,6,5]]\n",
    "comp_gc=total_gc[total_gc.ShopID.isin(comp_list)&(total_gc.Week==total_df.Week.max())].pivot_table(index='Area',columns='Year',values='Retail_GC',aggfunc='sum').reset_index()\n",
    "comp_gc=comp_gc.iloc[:,[0,2,1]]\n",
    "columns=['Area','ShopCount','CYSales','PYSales']\n",
    "comp_wtd.columns=columns\n",
    "comp_wtd=comp_wtd.merge(comp_gc,on='Area')\n",
    "comp_wtd['CYAvgChk']=comp_wtd['CYSales']/comp_wtd[2024]\n",
    "comp_wtd['PYAvgChk']=comp_wtd['PYSales']/comp_wtd[2023]"
   ]
  },
  {
   "cell_type": "code",
   "execution_count": null,
   "id": "26eb777e",
   "metadata": {},
   "outputs": [],
   "source": [
    "writer=pd.ExcelWriter('Weekly Data Sets WE '+str(data.EndDate.max().strftime('%m-%d-%y'))+' Week '+str(data.Week.max())+'.xlsx')\n",
    "retail_wtd.to_excel(writer, sheet_name='TSS-WE',index=False)\n",
    "retail_mtd.to_excel(writer, sheet_name='TSS-MTD',index=False)\n",
    "retail_ytd.to_excel(writer, sheet_name='TSS-YTD',index=False)\n",
    "comp_wtd.to_excel(writer, sheet_name='SSS-WE',index=False)\n",
    "comp_mtd.to_excel(writer, sheet_name='SSS-MTD',index=False)\n",
    "comp_ytd.to_excel(writer, sheet_name='SSS-YTD',index=False)\n",
    "pd3_oc_wtd.to_excel(writer, sheet_name='3PD-OC WE',index=False)\n",
    "pd3_oc_mtd.to_excel(writer, sheet_name='3PD-OC MTD',index=False)\n",
    "pd3_oc_ytd.to_excel(writer, sheet_name='3PD-OC YTD',index=False)\n",
    "mobile_wtd.to_excel(writer, sheet_name='MOB WE',index=False)\n",
    "mobile_mtd.to_excel(writer, sheet_name='MOB MTD',index=False)\n",
    "mobile_ytd.to_excel(writer, sheet_name='MOB YTD',index=False)\n",
    "sv_wtd.to_excel(writer, sheet_name='SV WE',index=False)\n",
    "sv_mtd.to_excel(writer, sheet_name='SV MTD',index=False)\n",
    "sv_ytd.to_excel(writer, sheet_name='SV YTD',index=False)\n",
    "tsr_wtd.to_excel(writer, sheet_name='TSR WE',index=False)\n",
    "tsr_mtd.to_excel(writer, sheet_name='TSR MTD',index=False)\n",
    "tsr.to_excel(writer, sheet_name='TSR YTD',index=False)\n",
    "writer.close()"
   ]
  },
  {
   "cell_type": "code",
   "execution_count": null,
   "id": "b475d514",
   "metadata": {},
   "outputs": [],
   "source": []
  }
 ],
 "metadata": {
  "kernelspec": {
   "display_name": "Python 3 (ipykernel)",
   "language": "python",
   "name": "python3"
  },
  "language_info": {
   "codemirror_mode": {
    "name": "ipython",
    "version": 3
   },
   "file_extension": ".py",
   "mimetype": "text/x-python",
   "name": "python",
   "nbconvert_exporter": "python",
   "pygments_lexer": "ipython3",
   "version": "3.9.12"
  }
 },
 "nbformat": 4,
 "nbformat_minor": 5
}
