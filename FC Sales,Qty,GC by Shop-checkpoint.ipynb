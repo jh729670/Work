{
 "cells": [
  {
   "cell_type": "code",
   "execution_count": 1,
   "id": "79ef332c",
   "metadata": {},
   "outputs": [],
   "source": [
    "import pandas as pd\n",
    "import os\n",
    "import numpy as np\n",
    "import pyodbc as odbc\n",
    "from datetime import date,timedelta"
   ]
  },
  {
   "cell_type": "code",
   "execution_count": 2,
   "id": "1aeeb0a6",
   "metadata": {},
   "outputs": [],
   "source": [
    "# Names the needed driver, server name, and database\n",
    "driver_name='SQL Server'\n",
    "server_name='10.0.1.218'\n",
    "database='ritascoolnet_live'"
   ]
  },
  {
   "cell_type": "code",
   "execution_count": 3,
   "id": "5fce1b3c",
   "metadata": {},
   "outputs": [],
   "source": [
    "#Creates the connection string\n",
    "connection_string=f\"\"\"\n",
    "DRIVER={{{driver_name}}};\n",
    "SERVER={server_name};\n",
    "DATABASE={database};\n",
    "Trust_Connection=yes\"\"\""
   ]
  },
  {
   "cell_type": "code",
   "execution_count": 5,
   "id": "4fe52fd4",
   "metadata": {},
   "outputs": [
    {
     "name": "stdout",
     "output_type": "stream",
     "text": [
      "<pyodbc.Connection object at 0x0000021467011100>\n"
     ]
    }
   ],
   "source": [
    "#Creates the Connection to SQL Server\n",
    "connection=odbc.connect(connection_string)\n",
    "print(connection)"
   ]
  },
  {
   "cell_type": "code",
   "execution_count": 39,
   "id": "6cedbb6a",
   "metadata": {},
   "outputs": [
    {
     "name": "stderr",
     "output_type": "stream",
     "text": [
      "C:\\Users\\jharned\\Anaconda3\\lib\\site-packages\\pandas\\io\\sql.py:761: UserWarning: pandas only support SQLAlchemy connectable(engine/connection) ordatabase string URI or sqlite3 DBAPI2 connectionother DBAPI2 objects are not tested, please consider using SQLAlchemy\n",
      "  warnings.warn(\n",
      "C:\\Users\\jharned\\Anaconda3\\lib\\site-packages\\pandas\\io\\sql.py:761: UserWarning: pandas only support SQLAlchemy connectable(engine/connection) ordatabase string URI or sqlite3 DBAPI2 connectionother DBAPI2 objects are not tested, please consider using SQLAlchemy\n",
      "  warnings.warn(\n",
      "C:\\Users\\jharned\\Anaconda3\\lib\\site-packages\\pandas\\io\\sql.py:761: UserWarning: pandas only support SQLAlchemy connectable(engine/connection) ordatabase string URI or sqlite3 DBAPI2 connectionother DBAPI2 objects are not tested, please consider using SQLAlchemy\n",
      "  warnings.warn(\n"
     ]
    }
   ],
   "source": [
    "#Reads in the CoolNet Group Name\n",
    "data2=pd.read_sql_query('''Select intstoreid,RitasID, FC,CoolNetGroup,LegacyStoreType,State from ritascoolnet_live.dbo.vShopDetail''',connection)\n",
    "# Queries the tables from SQL\n",
    "# Reads in the Weekly Sales in 2023\n",
    "data=pd.read_sql_query('''SELECT *\n",
    "  FROM [ritas_bi].[dbo].[tmp_raw_plda]\n",
    "  WHERE YEAR(StartDate)=2023\n",
    "  ORDER BY Week DESC''',connection)\n",
    "# Queries the tables from SQL\n",
    "# Reads in the Daily Guest Count from 2022 onwards\n",
    "data1=pd.read_sql_query('''SELECT * from ritascoolnet_live.dbo.smartDailyZTape Where intZTapeID=6 and Year(dteDate)>=2023''',connection)"
   ]
  },
  {
   "cell_type": "code",
   "execution_count": 40,
   "id": "6c44469b",
   "metadata": {},
   "outputs": [
    {
     "name": "stderr",
     "output_type": "stream",
     "text": [
      "C:\\Users\\jharned\\AppData\\Local\\Temp\\ipykernel_27404\\1102845687.py:4: SettingWithCopyWarning: \n",
      "A value is trying to be set on a copy of a slice from a DataFrame.\n",
      "Try using .loc[row_indexer,col_indexer] = value instead\n",
      "\n",
      "See the caveats in the documentation: https://pandas.pydata.org/pandas-docs/stable/user_guide/indexing.html#returning-a-view-versus-a-copy\n",
      "  satellite['StringID']=satellite.ShopID.astype('int')\n",
      "C:\\Users\\jharned\\AppData\\Local\\Temp\\ipykernel_27404\\1102845687.py:5: SettingWithCopyWarning: \n",
      "A value is trying to be set on a copy of a slice from a DataFrame.\n",
      "Try using .loc[row_indexer,col_indexer] = value instead\n",
      "\n",
      "See the caveats in the documentation: https://pandas.pydata.org/pandas-docs/stable/user_guide/indexing.html#returning-a-view-versus-a-copy\n",
      "  df['StringID']=df.ShopID.astype('int')\n",
      "C:\\Users\\jharned\\AppData\\Local\\Temp\\ipykernel_27404\\1102845687.py:6: SettingWithCopyWarning: \n",
      "A value is trying to be set on a copy of a slice from a DataFrame.\n",
      "Try using .loc[row_indexer,col_indexer] = value instead\n",
      "\n",
      "See the caveats in the documentation: https://pandas.pydata.org/pandas-docs/stable/user_guide/indexing.html#returning-a-view-versus-a-copy\n",
      "  df['StringID']=df.ShopID.astype('str')\n",
      "C:\\Users\\jharned\\AppData\\Local\\Temp\\ipykernel_27404\\1102845687.py:7: SettingWithCopyWarning: \n",
      "A value is trying to be set on a copy of a slice from a DataFrame.\n",
      "Try using .loc[row_indexer,col_indexer] = value instead\n",
      "\n",
      "See the caveats in the documentation: https://pandas.pydata.org/pandas-docs/stable/user_guide/indexing.html#returning-a-view-versus-a-copy\n",
      "  df['StringID']=df.StringID.str[-4:]\n",
      "C:\\Users\\jharned\\AppData\\Local\\Temp\\ipykernel_27404\\1102845687.py:8: SettingWithCopyWarning: \n",
      "A value is trying to be set on a copy of a slice from a DataFrame.\n",
      "Try using .loc[row_indexer,col_indexer] = value instead\n",
      "\n",
      "See the caveats in the documentation: https://pandas.pydata.org/pandas-docs/stable/user_guide/indexing.html#returning-a-view-versus-a-copy\n",
      "  df['StringID']=df.StringID.astype('int')\n"
     ]
    }
   ],
   "source": [
    "exclude=[10511,11390,20096,20882,21360,31360,11360,10061]\n",
    "df=data[~data.ShopID.isin(exclude)]\n",
    "satellite=data[data.ShopID.isin(exclude)]\n",
    "satellite['StringID']=satellite.ShopID.astype('int')\n",
    "df['StringID']=df.ShopID.astype('int')\n",
    "df['StringID']=df.ShopID.astype('str')\n",
    "df['StringID']=df.StringID.str[-4:]\n",
    "df['StringID']=df.StringID.astype('int')\n",
    "data=pd.concat([df,satellite])"
   ]
  },
  {
   "cell_type": "code",
   "execution_count": 32,
   "id": "94113b4b",
   "metadata": {},
   "outputs": [
    {
     "data": {
      "text/plain": [
       "Index(['ShopID', 'intStoreID', 'ProductCode', 'ProdSizeCode', 'DiscountCode',\n",
       "       'Register', 'SalesQty', 'SalesMny', 'StartDate', 'EndDate', 'EditDate',\n",
       "       'Week', 'DataSource', 'ShopName', 'State', 'Region', 'ShopStatus',\n",
       "       'LegacyShopType', 'LegacyShopStatus', 'ProductTypeName',\n",
       "       'ProductSizeName', 'SpecialVenue', 'CoOpStatus', 'CoOpName', 'CoOpRate',\n",
       "       'StringID'],\n",
       "      dtype='object')"
      ]
     },
     "execution_count": 32,
     "metadata": {},
     "output_type": "execute_result"
    }
   ],
   "source": [
    "data.columns"
   ]
  },
  {
   "cell_type": "code",
   "execution_count": 33,
   "id": "39b340f4",
   "metadata": {},
   "outputs": [
    {
     "name": "stdout",
     "output_type": "stream",
     "text": [
      "<class 'pandas.core.frame.DataFrame'>\n",
      "RangeIndex: 4346 entries, 0 to 4345\n",
      "Data columns (total 6 columns):\n",
      " #   Column           Non-Null Count  Dtype  \n",
      "---  ------           --------------  -----  \n",
      " 0   intstoreid       4346 non-null   int64  \n",
      " 1   RitasID          4214 non-null   float64\n",
      " 2   FC               2621 non-null   object \n",
      " 3   CoolNetGroup     4346 non-null   object \n",
      " 4   LegacyStoreType  2907 non-null   object \n",
      " 5   State            4346 non-null   object \n",
      "dtypes: float64(1), int64(1), object(4)\n",
      "memory usage: 203.8+ KB\n"
     ]
    }
   ],
   "source": [
    "data2.info()"
   ]
  },
  {
   "cell_type": "code",
   "execution_count": 42,
   "id": "79960511",
   "metadata": {},
   "outputs": [
    {
     "name": "stdout",
     "output_type": "stream",
     "text": [
      "<class 'pandas.core.frame.DataFrame'>\n",
      "RangeIndex: 80190 entries, 0 to 80189\n",
      "Data columns (total 8 columns):\n",
      " #   Column               Non-Null Count  Dtype         \n",
      "---  ------               --------------  -----         \n",
      " 0   intStoreID           80190 non-null  int64         \n",
      " 1   dteDate              80190 non-null  datetime64[ns]\n",
      " 2   intRegister          80190 non-null  int64         \n",
      " 3   bitAMPM              80190 non-null  bool          \n",
      " 4   intZTapeID           80190 non-null  int64         \n",
      " 5   vchValue             80190 non-null  object        \n",
      " 6   vchZTapeName_DELETE  80190 non-null  object        \n",
      " 7   intType              80190 non-null  int64         \n",
      "dtypes: bool(1), datetime64[ns](1), int64(4), object(2)\n",
      "memory usage: 4.4+ MB\n"
     ]
    }
   ],
   "source": [
    "data1.info()"
   ]
  },
  {
   "cell_type": "code",
   "execution_count": 43,
   "id": "faad9a22",
   "metadata": {},
   "outputs": [],
   "source": [
    "data1['vchValue']=data1.vchValue.astype('int')\n",
    "data1.rename(columns={'vchValue':'Guest_Count'},inplace=True)"
   ]
  },
  {
   "cell_type": "code",
   "execution_count": 50,
   "id": "f92af745",
   "metadata": {},
   "outputs": [],
   "source": [
    "guest_count=data1.groupby('intStoreID')['Guest_Count'].sum().reset_index()"
   ]
  },
  {
   "cell_type": "code",
   "execution_count": 44,
   "id": "346e2b63",
   "metadata": {},
   "outputs": [],
   "source": [
    "data2.rename(columns={'intstoreid':'intStoreID'},inplace=True)"
   ]
  },
  {
   "cell_type": "code",
   "execution_count": 45,
   "id": "1f6f7abe",
   "metadata": {},
   "outputs": [
    {
     "data": {
      "text/plain": [
       "Index(['ShopID', 'intStoreID', 'ProductCode', 'ProdSizeCode', 'DiscountCode',\n",
       "       'Register', 'SalesQty', 'SalesMny', 'StartDate', 'EndDate', 'EditDate',\n",
       "       'Week', 'DataSource', 'ShopName', 'State', 'Region', 'ShopStatus',\n",
       "       'LegacyShopType', 'LegacyShopStatus', 'ProductTypeName',\n",
       "       'ProductSizeName', 'SpecialVenue', 'CoOpStatus', 'CoOpName', 'CoOpRate',\n",
       "       'StringID'],\n",
       "      dtype='object')"
      ]
     },
     "execution_count": 45,
     "metadata": {},
     "output_type": "execute_result"
    }
   ],
   "source": [
    "df.columns"
   ]
  },
  {
   "cell_type": "code",
   "execution_count": 46,
   "id": "eb1bf9ce",
   "metadata": {},
   "outputs": [],
   "source": [
    "df=pd.merge(data,data2[['intStoreID','FC']],on='intStoreID',how='left').drop_duplicates(keep='first')"
   ]
  },
  {
   "cell_type": "code",
   "execution_count": 70,
   "id": "bc3527dd",
   "metadata": {},
   "outputs": [],
   "source": [
    "fc_group=df.groupby(['StringID','intStoreID','FC'])[['SalesMny','SalesQty','Week']].agg({'SalesMny':'sum',\n",
    "                                                                                        'SalesQty':'sum',\n",
    "                                                                                        'Week':['max','min']}).reset_index()\n",
    "fc_group['Weeks_Open']=fc_group.iloc[:,-2]-fc_group.iloc[:,-1]+1\n",
    "fc_group.columns=list(map(''.join, fc_group.columns.values))"
   ]
  },
  {
   "cell_type": "code",
   "execution_count": 71,
   "id": "ce7f50fc",
   "metadata": {},
   "outputs": [
    {
     "data": {
      "text/html": [
       "<div>\n",
       "<style scoped>\n",
       "    .dataframe tbody tr th:only-of-type {\n",
       "        vertical-align: middle;\n",
       "    }\n",
       "\n",
       "    .dataframe tbody tr th {\n",
       "        vertical-align: top;\n",
       "    }\n",
       "\n",
       "    .dataframe thead th {\n",
       "        text-align: right;\n",
       "    }\n",
       "</style>\n",
       "<table border=\"1\" class=\"dataframe\">\n",
       "  <thead>\n",
       "    <tr style=\"text-align: right;\">\n",
       "      <th></th>\n",
       "      <th>StringID</th>\n",
       "      <th>intStoreID</th>\n",
       "      <th>FC</th>\n",
       "      <th>SalesMnysum</th>\n",
       "      <th>SalesQtysum</th>\n",
       "      <th>Weekmax</th>\n",
       "      <th>Weekmin</th>\n",
       "      <th>Weeks_Open</th>\n",
       "    </tr>\n",
       "  </thead>\n",
       "  <tbody>\n",
       "    <tr>\n",
       "      <th>0</th>\n",
       "      <td>1</td>\n",
       "      <td>3817</td>\n",
       "      <td>Cierra Holden</td>\n",
       "      <td>285594.4970</td>\n",
       "      <td>65043</td>\n",
       "      <td>28</td>\n",
       "      <td>8</td>\n",
       "      <td>21</td>\n",
       "    </tr>\n",
       "    <tr>\n",
       "      <th>1</th>\n",
       "      <td>2</td>\n",
       "      <td>779</td>\n",
       "      <td>Cierra Holden</td>\n",
       "      <td>381590.0170</td>\n",
       "      <td>86949</td>\n",
       "      <td>28</td>\n",
       "      <td>8</td>\n",
       "      <td>21</td>\n",
       "    </tr>\n",
       "    <tr>\n",
       "      <th>2</th>\n",
       "      <td>3</td>\n",
       "      <td>5348</td>\n",
       "      <td>Cierra Holden</td>\n",
       "      <td>214201.2665</td>\n",
       "      <td>48832</td>\n",
       "      <td>28</td>\n",
       "      <td>9</td>\n",
       "      <td>20</td>\n",
       "    </tr>\n",
       "    <tr>\n",
       "      <th>3</th>\n",
       "      <td>4</td>\n",
       "      <td>3855</td>\n",
       "      <td>Cierra Holden</td>\n",
       "      <td>181947.6075</td>\n",
       "      <td>40048</td>\n",
       "      <td>28</td>\n",
       "      <td>9</td>\n",
       "      <td>20</td>\n",
       "    </tr>\n",
       "    <tr>\n",
       "      <th>4</th>\n",
       "      <td>6</td>\n",
       "      <td>783</td>\n",
       "      <td>Cierra Holden</td>\n",
       "      <td>273264.5155</td>\n",
       "      <td>66818</td>\n",
       "      <td>28</td>\n",
       "      <td>8</td>\n",
       "      <td>21</td>\n",
       "    </tr>\n",
       "    <tr>\n",
       "      <th>...</th>\n",
       "      <td>...</td>\n",
       "      <td>...</td>\n",
       "      <td>...</td>\n",
       "      <td>...</td>\n",
       "      <td>...</td>\n",
       "      <td>...</td>\n",
       "      <td>...</td>\n",
       "      <td>...</td>\n",
       "    </tr>\n",
       "    <tr>\n",
       "      <th>576</th>\n",
       "      <td>1520</td>\n",
       "      <td>5400</td>\n",
       "      <td>Lisa Harris</td>\n",
       "      <td>174275.2480</td>\n",
       "      <td>39769</td>\n",
       "      <td>28</td>\n",
       "      <td>9</td>\n",
       "      <td>20</td>\n",
       "    </tr>\n",
       "    <tr>\n",
       "      <th>577</th>\n",
       "      <td>11390</td>\n",
       "      <td>4933</td>\n",
       "      <td>Dave Roemer</td>\n",
       "      <td>53399.0409</td>\n",
       "      <td>17596</td>\n",
       "      <td>28</td>\n",
       "      <td>4</td>\n",
       "      <td>25</td>\n",
       "    </tr>\n",
       "    <tr>\n",
       "      <th>578</th>\n",
       "      <td>20096</td>\n",
       "      <td>4578</td>\n",
       "      <td>Paul Greenberg</td>\n",
       "      <td>44391.3000</td>\n",
       "      <td>7479</td>\n",
       "      <td>28</td>\n",
       "      <td>14</td>\n",
       "      <td>15</td>\n",
       "    </tr>\n",
       "    <tr>\n",
       "      <th>579</th>\n",
       "      <td>21360</td>\n",
       "      <td>4644</td>\n",
       "      <td>Cierra Holden</td>\n",
       "      <td>6759.0000</td>\n",
       "      <td>1145</td>\n",
       "      <td>21</td>\n",
       "      <td>21</td>\n",
       "      <td>1</td>\n",
       "    </tr>\n",
       "    <tr>\n",
       "      <th>580</th>\n",
       "      <td>31360</td>\n",
       "      <td>5444</td>\n",
       "      <td>Lindsey Goff</td>\n",
       "      <td>96789.5000</td>\n",
       "      <td>11791</td>\n",
       "      <td>21</td>\n",
       "      <td>19</td>\n",
       "      <td>3</td>\n",
       "    </tr>\n",
       "  </tbody>\n",
       "</table>\n",
       "<p>581 rows × 8 columns</p>\n",
       "</div>"
      ],
      "text/plain": [
       "     StringID  intStoreID              FC  SalesMnysum  SalesQtysum  Weekmax  \\\n",
       "0           1        3817   Cierra Holden  285594.4970        65043       28   \n",
       "1           2         779   Cierra Holden  381590.0170        86949       28   \n",
       "2           3        5348   Cierra Holden  214201.2665        48832       28   \n",
       "3           4        3855   Cierra Holden  181947.6075        40048       28   \n",
       "4           6         783   Cierra Holden  273264.5155        66818       28   \n",
       "..        ...         ...             ...          ...          ...      ...   \n",
       "576      1520        5400     Lisa Harris  174275.2480        39769       28   \n",
       "577     11390        4933     Dave Roemer   53399.0409        17596       28   \n",
       "578     20096        4578  Paul Greenberg   44391.3000         7479       28   \n",
       "579     21360        4644   Cierra Holden    6759.0000         1145       21   \n",
       "580     31360        5444    Lindsey Goff   96789.5000        11791       21   \n",
       "\n",
       "     Weekmin  Weeks_Open  \n",
       "0          8          21  \n",
       "1          8          21  \n",
       "2          9          20  \n",
       "3          9          20  \n",
       "4          8          21  \n",
       "..       ...         ...  \n",
       "576        9          20  \n",
       "577        4          25  \n",
       "578       14          15  \n",
       "579       21           1  \n",
       "580       19           3  \n",
       "\n",
       "[581 rows x 8 columns]"
      ]
     },
     "execution_count": 71,
     "metadata": {},
     "output_type": "execute_result"
    }
   ],
   "source": [
    "fc_group"
   ]
  },
  {
   "cell_type": "code",
   "execution_count": 73,
   "id": "3b0ce2c7",
   "metadata": {},
   "outputs": [],
   "source": [
    "all_df=pd.merge(fc_group,guest_count[['intStoreID','Guest_Count']],on='intStoreID',how='left')"
   ]
  },
  {
   "cell_type": "code",
   "execution_count": 75,
   "id": "16315eef",
   "metadata": {},
   "outputs": [],
   "source": [
    "all_df.rename(columns={'SalesMnysum':'Sales','SalesQtysum':'Qty'},inplace=True)"
   ]
  },
  {
   "cell_type": "code",
   "execution_count": 77,
   "id": "19db10a0",
   "metadata": {},
   "outputs": [],
   "source": [
    "all_df.drop(['Weekmax','Weekmin'],axis=1,inplace=True)"
   ]
  },
  {
   "cell_type": "code",
   "execution_count": 78,
   "id": "9badd0a8",
   "metadata": {},
   "outputs": [],
   "source": [
    "all_df['Avg_Sales']=all_df['Sales']/all_df['Weeks_Open']\n",
    "all_df['Avg_GC']=all_df['Guest_Count']/all_df['Weeks_Open']\n",
    "all_df['Check_Avg']=all_df['Sales']/all_df['Guest_Count']"
   ]
  },
  {
   "cell_type": "code",
   "execution_count": 80,
   "id": "09913885",
   "metadata": {},
   "outputs": [],
   "source": [
    "os.chdir(r'L:\\J.Harned\\FC Data')\n",
    "all_df.to_excel('FC Data.xlsx',index=False)"
   ]
  },
  {
   "cell_type": "code",
   "execution_count": null,
   "id": "079f439c",
   "metadata": {},
   "outputs": [],
   "source": []
  }
 ],
 "metadata": {
  "kernelspec": {
   "display_name": "Python 3 (ipykernel)",
   "language": "python",
   "name": "python3"
  },
  "language_info": {
   "codemirror_mode": {
    "name": "ipython",
    "version": 3
   },
   "file_extension": ".py",
   "mimetype": "text/x-python",
   "name": "python",
   "nbconvert_exporter": "python",
   "pygments_lexer": "ipython3",
   "version": "3.9.12"
  }
 },
 "nbformat": 4,
 "nbformat_minor": 5
}
