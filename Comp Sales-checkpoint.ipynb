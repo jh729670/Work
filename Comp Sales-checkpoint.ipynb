{
 "cells": [
  {
   "cell_type": "code",
   "execution_count": 18,
   "id": "def214b7",
   "metadata": {},
   "outputs": [],
   "source": [
    "#Imports the necessary libraries\n",
    "import pandas as pd\n",
    "import os\n",
    "import numpy as np\n",
    "import pyodbc as odbc\n",
    "from datetime import date,timedelta,datetime\n",
    "import xlsxwriter\n",
    "os.chdir(r'G:\\FinanceReports\\2024\\Wk35')"
   ]
  },
  {
   "cell_type": "code",
   "execution_count": 19,
   "id": "18808a84",
   "metadata": {},
   "outputs": [],
   "source": [
    "# Names the needed driver, server name, and database\n",
    "driver_name='SQL Server'\n",
    "server_name='10.0.1.218'\n",
    "database='ritascoolnet_live'"
   ]
  },
  {
   "cell_type": "code",
   "execution_count": 20,
   "id": "7f1571ab",
   "metadata": {},
   "outputs": [],
   "source": [
    "#Creates the connection string\n",
    "connection_string=f\"\"\"\n",
    "DRIVER={{{driver_name}}};\n",
    "SERVER={server_name};\n",
    "DATABASE={database};\n",
    "Trust_Connection=yes\"\"\""
   ]
  },
  {
   "cell_type": "code",
   "execution_count": 21,
   "id": "6fbe09ae",
   "metadata": {},
   "outputs": [
    {
     "name": "stdout",
     "output_type": "stream",
     "text": [
      "<pyodbc.Connection object at 0x000001FC58FD3ED0>\n"
     ]
    }
   ],
   "source": [
    "#Creates the Connection to SQL Server\n",
    "connection=odbc.connect(connection_string)\n",
    "print(connection)"
   ]
  },
  {
   "cell_type": "code",
   "execution_count": 22,
   "id": "8dc62357",
   "metadata": {},
   "outputs": [
    {
     "name": "stderr",
     "output_type": "stream",
     "text": [
      "C:\\Users\\jharned\\AppData\\Local\\Temp\\ipykernel_37084\\2176703149.py:4: UserWarning: pandas only supports SQLAlchemy connectable (engine/connection) or database string URI or sqlite3 DBAPI2 connection. Other DBAPI2 objects are not tested. Please consider using SQLAlchemy.\n",
      "  data=pd.read_sql_query('''SELECT *\n",
      "C:\\Users\\jharned\\AppData\\Local\\Temp\\ipykernel_37084\\2176703149.py:7: UserWarning: pandas only supports SQLAlchemy connectable (engine/connection) or database string URI or sqlite3 DBAPI2 connection. Other DBAPI2 objects are not tested. Please consider using SQLAlchemy.\n",
      "  product_sales=pd.read_sql_query('''Select * from ritascoolnet_live.dbo.tblProductSalesTransactions Where Year(dteStartDate)>=2023 ''',connection)\n"
     ]
    }
   ],
   "source": [
    "# Queries the tables from SQL\n",
    "# Reads in the Weekly Sales in 2023\n",
    "# Data3 Gets Guest Count\n",
    "data=pd.read_sql_query('''SELECT *\n",
    "  FROM [ritas_bi].[dbo].[tmp_raw_plda]\n",
    "  WHERE YEAR(StartDate)>=2023''',connection)\n",
    "product_sales=pd.read_sql_query('''Select * from ritascoolnet_live.dbo.tblProductSalesTransactions Where Year(dteStartDate)>=2023 ''',connection)"
   ]
  },
  {
   "cell_type": "code",
   "execution_count": 23,
   "id": "26805e3c",
   "metadata": {},
   "outputs": [],
   "source": [
    "data.loc[data.StartDate=='2023-03-20','Week']=12\n",
    "data.loc[data.StartDate=='2023-03-27','Week']=13\n",
    "data.loc[data.ShopID==31360,'ShopID']=1568"
   ]
  },
  {
   "cell_type": "code",
   "execution_count": 24,
   "id": "d0104c9b",
   "metadata": {},
   "outputs": [],
   "source": [
    "product_sales=product_sales.rename(columns={'dteStartDate':'StartDate'})\n",
    "weeks=data[['StartDate','Week']].drop_duplicates(keep='first')\n",
    "ps=product_sales.merge(weeks[['StartDate','Week']],how='left',on='StartDate')\n",
    "ps['Retail_GC']=ps.intTransactionCount-ps.intUECount\\\n",
    "-ps.intDDCount-ps.intGHCount\n",
    "ps['Year']=ps.StartDate.dt.year\n",
    "threepd=ps.rename(columns={'intRitasStoreID':'ShopID'})\n",
    "threepd.ShopID=threepd.ShopID.astype('int')\n",
    "gc=threepd.groupby(['ShopID','Year','Week','StartDate'])['Retail_GC'].sum().reset_index()\n",
    "gc.Week=gc.Week.astype('int')\n",
    "gc.loc[gc.ShopID==31360,'ShopID']=1568\n",
    "gc['ParentID']=gc.ShopID.astype('int')\n",
    "gc['ParentID']=gc.ShopID.astype('str')\n",
    "gc['ParentID']=gc.ParentID.str[-4:]\n",
    "gc['ParentID']=gc.ParentID.astype('int')\n",
    "gc_total=gc\n",
    "gc_total=gc_total[gc_total.ParentID!=491]"
   ]
  },
  {
   "cell_type": "code",
   "execution_count": 25,
   "id": "53a461c8",
   "metadata": {},
   "outputs": [],
   "source": [
    "gc_total=gc_total.pivot_table(index=['ParentID','Week'],columns='Year',values='Retail_GC',aggfunc='sum',fill_value=0).reset_index()"
   ]
  },
  {
   "cell_type": "code",
   "execution_count": 26,
   "id": "b90224c3",
   "metadata": {},
   "outputs": [
    {
     "data": {
      "text/plain": [
       "12802573"
      ]
     },
     "execution_count": 26,
     "metadata": {},
     "output_type": "execute_result"
    }
   ],
   "source": [
    "gc_total[gc_total.Week<=32][2024].sum()"
   ]
  },
  {
   "cell_type": "code",
   "execution_count": 27,
   "id": "0caaf478",
   "metadata": {},
   "outputs": [
    {
     "name": "stderr",
     "output_type": "stream",
     "text": [
      "C:\\Users\\jharned\\AppData\\Local\\Temp\\ipykernel_37084\\2989941079.py:5: SettingWithCopyWarning: \n",
      "A value is trying to be set on a copy of a slice from a DataFrame.\n",
      "Try using .loc[row_indexer,col_indexer] = value instead\n",
      "\n",
      "See the caveats in the documentation: https://pandas.pydata.org/pandas-docs/stable/user_guide/indexing.html#returning-a-view-versus-a-copy\n",
      "  sales['ParentID']=sales.ShopID.astype('int')\n",
      "C:\\Users\\jharned\\AppData\\Local\\Temp\\ipykernel_37084\\2989941079.py:6: SettingWithCopyWarning: \n",
      "A value is trying to be set on a copy of a slice from a DataFrame.\n",
      "Try using .loc[row_indexer,col_indexer] = value instead\n",
      "\n",
      "See the caveats in the documentation: https://pandas.pydata.org/pandas-docs/stable/user_guide/indexing.html#returning-a-view-versus-a-copy\n",
      "  sales['ParentID']=sales.ShopID.astype('str')\n",
      "C:\\Users\\jharned\\AppData\\Local\\Temp\\ipykernel_37084\\2989941079.py:7: SettingWithCopyWarning: \n",
      "A value is trying to be set on a copy of a slice from a DataFrame.\n",
      "Try using .loc[row_indexer,col_indexer] = value instead\n",
      "\n",
      "See the caveats in the documentation: https://pandas.pydata.org/pandas-docs/stable/user_guide/indexing.html#returning-a-view-versus-a-copy\n",
      "  sales['ParentID']=sales.ParentID.str[-4:]\n",
      "C:\\Users\\jharned\\AppData\\Local\\Temp\\ipykernel_37084\\2989941079.py:8: SettingWithCopyWarning: \n",
      "A value is trying to be set on a copy of a slice from a DataFrame.\n",
      "Try using .loc[row_indexer,col_indexer] = value instead\n",
      "\n",
      "See the caveats in the documentation: https://pandas.pydata.org/pandas-docs/stable/user_guide/indexing.html#returning-a-view-versus-a-copy\n",
      "  sales['ParentID']=sales.ParentID.astype('int')\n"
     ]
    }
   ],
   "source": [
    "data['Year']=data.StartDate.dt.year\n",
    "this_week=data[data.Year==2024].Week.max()\n",
    "sales=data[data.Week<=this_week]\n",
    "gc_total=gc_total[gc_total.Week<=this_week]\n",
    "sales['ParentID']=sales.ShopID.astype('int')\n",
    "sales['ParentID']=sales.ShopID.astype('str')\n",
    "sales['ParentID']=sales.ParentID.str[-4:]\n",
    "sales['ParentID']=sales.ParentID.astype('int')"
   ]
  },
  {
   "cell_type": "code",
   "execution_count": 28,
   "id": "d5095340",
   "metadata": {},
   "outputs": [
    {
     "data": {
      "text/plain": [
       "526"
      ]
     },
     "execution_count": 28,
     "metadata": {},
     "output_type": "execute_result"
    }
   ],
   "source": [
    "weekly_piv=sales.pivot_table(index=['ParentID'],columns='Year',values='SalesMny',aggfunc='sum',fill_value=0).reset_index()\n",
    "comp_shops=weekly_piv[(weekly_piv[2023]>0)&(weekly_piv[2024]>0)].ParentID.unique()\n",
    "len(comp_shops)"
   ]
  },
  {
   "cell_type": "code",
   "execution_count": 29,
   "id": "74ad7143",
   "metadata": {},
   "outputs": [
    {
     "data": {
      "text/html": [
       "<div>\n",
       "<style scoped>\n",
       "    .dataframe tbody tr th:only-of-type {\n",
       "        vertical-align: middle;\n",
       "    }\n",
       "\n",
       "    .dataframe tbody tr th {\n",
       "        vertical-align: top;\n",
       "    }\n",
       "\n",
       "    .dataframe thead th {\n",
       "        text-align: right;\n",
       "    }\n",
       "</style>\n",
       "<table border=\"1\" class=\"dataframe\">\n",
       "  <thead>\n",
       "    <tr style=\"text-align: right;\">\n",
       "      <th>Year</th>\n",
       "      <th>ParentID</th>\n",
       "      <th>2023</th>\n",
       "      <th>2024</th>\n",
       "    </tr>\n",
       "  </thead>\n",
       "  <tbody>\n",
       "    <tr>\n",
       "      <th>0</th>\n",
       "      <td>1</td>\n",
       "      <td>378708.5470</td>\n",
       "      <td>363171.1685</td>\n",
       "    </tr>\n",
       "    <tr>\n",
       "      <th>1</th>\n",
       "      <td>2</td>\n",
       "      <td>503639.6735</td>\n",
       "      <td>489864.6750</td>\n",
       "    </tr>\n",
       "    <tr>\n",
       "      <th>2</th>\n",
       "      <td>3</td>\n",
       "      <td>281547.3475</td>\n",
       "      <td>248809.9450</td>\n",
       "    </tr>\n",
       "    <tr>\n",
       "      <th>3</th>\n",
       "      <td>4</td>\n",
       "      <td>245024.7185</td>\n",
       "      <td>242387.5158</td>\n",
       "    </tr>\n",
       "    <tr>\n",
       "      <th>4</th>\n",
       "      <td>6</td>\n",
       "      <td>361687.5715</td>\n",
       "      <td>388237.6174</td>\n",
       "    </tr>\n",
       "    <tr>\n",
       "      <th>...</th>\n",
       "      <td>...</td>\n",
       "      <td>...</td>\n",
       "      <td>...</td>\n",
       "    </tr>\n",
       "    <tr>\n",
       "      <th>567</th>\n",
       "      <td>1561</td>\n",
       "      <td>0.0000</td>\n",
       "      <td>27953.4127</td>\n",
       "    </tr>\n",
       "    <tr>\n",
       "      <th>568</th>\n",
       "      <td>1563</td>\n",
       "      <td>0.0000</td>\n",
       "      <td>205774.0200</td>\n",
       "    </tr>\n",
       "    <tr>\n",
       "      <th>569</th>\n",
       "      <td>1568</td>\n",
       "      <td>384658.5000</td>\n",
       "      <td>201135.5000</td>\n",
       "    </tr>\n",
       "    <tr>\n",
       "      <th>570</th>\n",
       "      <td>1573</td>\n",
       "      <td>0.0000</td>\n",
       "      <td>576628.1500</td>\n",
       "    </tr>\n",
       "    <tr>\n",
       "      <th>571</th>\n",
       "      <td>1574</td>\n",
       "      <td>0.0000</td>\n",
       "      <td>144573.6200</td>\n",
       "    </tr>\n",
       "  </tbody>\n",
       "</table>\n",
       "<p>572 rows × 3 columns</p>\n",
       "</div>"
      ],
      "text/plain": [
       "Year  ParentID         2023         2024\n",
       "0            1  378708.5470  363171.1685\n",
       "1            2  503639.6735  489864.6750\n",
       "2            3  281547.3475  248809.9450\n",
       "3            4  245024.7185  242387.5158\n",
       "4            6  361687.5715  388237.6174\n",
       "..         ...          ...          ...\n",
       "567       1561       0.0000   27953.4127\n",
       "568       1563       0.0000  205774.0200\n",
       "569       1568  384658.5000  201135.5000\n",
       "570       1573       0.0000  576628.1500\n",
       "571       1574       0.0000  144573.6200\n",
       "\n",
       "[572 rows x 3 columns]"
      ]
     },
     "execution_count": 29,
     "metadata": {},
     "output_type": "execute_result"
    }
   ],
   "source": [
    "weekly_piv"
   ]
  },
  {
   "cell_type": "code",
   "execution_count": 30,
   "id": "0850066c",
   "metadata": {},
   "outputs": [],
   "source": [
    "weekly_piv_dates=sales.pivot_table(index=['ParentID','Week'],columns='Year',values='SalesMny',aggfunc='sum',fill_value=0).reset_index()"
   ]
  },
  {
   "cell_type": "code",
   "execution_count": 31,
   "id": "deb2ea1b",
   "metadata": {},
   "outputs": [],
   "source": [
    "merge=weekly_piv_dates.merge(gc_total,on=['ParentID','Week'],how='left',suffixes=[' Sales',' Retail GC'])\n",
    "comps=merge[merge.ParentID.isin(comp_shops)]"
   ]
  },
  {
   "cell_type": "code",
   "execution_count": 32,
   "id": "73615ea6",
   "metadata": {},
   "outputs": [
    {
     "data": {
      "text/plain": [
       "14191678.0"
      ]
     },
     "execution_count": 32,
     "metadata": {},
     "output_type": "execute_result"
    }
   ],
   "source": [
    "merge['2024 Retail GC'].sum()"
   ]
  },
  {
   "cell_type": "code",
   "execution_count": 33,
   "id": "31068b15",
   "metadata": {},
   "outputs": [],
   "source": [
    "weekly_comps=comps.groupby('Week')[['2024 Sales','2023 Sales','2024 Retail GC','2023 Retail GC']].sum()"
   ]
  },
  {
   "cell_type": "code",
   "execution_count": 34,
   "id": "e94a0ea9",
   "metadata": {},
   "outputs": [],
   "source": [
    "writer5=pd.ExcelWriter('Comp Sales and Guest Count for Wk'+str(this_week)+' v2.xlsx')\n",
    "comp_workbook=writer5.book\n",
    "format_header2=comp_workbook.add_format()\n",
    "format_header2.set_italic()\n",
    "format_header2.set_bold()\n",
    "format_num=comp_workbook.add_format({'num_format':'$#,##0',\n",
    "                                    'align':'center',\n",
    "                                    'valign':'vcenter'})\n",
    "format_qty=comp_workbook.add_format({'num_format':'#,##0',\n",
    "                                    'align':'center',\n",
    "                                    'valign':'vcenter'})\n",
    "border_format=comp_workbook.add_format({'top':2,'bottom':2,'left':2,'right':2})\n",
    "title='Ritas Franchise Company,LLC'\n",
    "comp_text='Weekly Comp Sales and Guest Count-No 3rd Party GC'\n",
    "comp_text2='2024 v 2023 Sales and Guest Counts thru Week '+str(this_week)\n",
    "comp_text3='As of '+str(data.EndDate.max().strftime('%m-%d-%y'))\n",
    "weekly_comps.to_excel(writer5,startrow=5,startcol=0, sheet_name='Comps')\n",
    "ws=writer5.sheets['Comps']\n",
    "ws.conditional_format(xlsxwriter.utility.xl_range(5,0,len(weekly_comps)+5,len(weekly_comps.columns)),\n",
    "                              {'type': 'no_errors', 'format': border_format})\n",
    "ws.write(0,1,title,format_header2)\n",
    "ws.write(1,1,comp_text,format_header2)\n",
    "ws.write(2,1,comp_text2,format_header2)\n",
    "ws.write(3,1,comp_text3,format_header2)\n",
    "ws.set_column('B:C',15,format_num)\n",
    "ws.set_column('D:E',15,format_qty)\n",
    "ws.insert_image('A1','Logo.png')\n",
    "ws.hide_gridlines(2)\n",
    "writer5.close()"
   ]
  },
  {
   "cell_type": "code",
   "execution_count": null,
   "id": "d6b4e1e7",
   "metadata": {},
   "outputs": [],
   "source": []
  }
 ],
 "metadata": {
  "kernelspec": {
   "display_name": "Python 3 (ipykernel)",
   "language": "python",
   "name": "python3"
  },
  "language_info": {
   "codemirror_mode": {
    "name": "ipython",
    "version": 3
   },
   "file_extension": ".py",
   "mimetype": "text/x-python",
   "name": "python",
   "nbconvert_exporter": "python",
   "pygments_lexer": "ipython3",
   "version": "3.9.12"
  }
 },
 "nbformat": 4,
 "nbformat_minor": 5
}
