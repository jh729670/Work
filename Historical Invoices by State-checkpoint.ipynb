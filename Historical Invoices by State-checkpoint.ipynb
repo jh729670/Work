{
 "cells": [
  {
   "cell_type": "code",
   "execution_count": 1,
   "id": "2d0b79b6",
   "metadata": {},
   "outputs": [],
   "source": [
    "import pandas as pd\n",
    "import os\n",
    "import datetime\n",
    "import numpy as np\n",
    "import pyodbc as odbc"
   ]
  },
  {
   "cell_type": "code",
   "execution_count": 2,
   "id": "5660b8d9",
   "metadata": {},
   "outputs": [],
   "source": [
    "import seaborn as sns\n",
    "import matplotlib.pyplot as plt\n",
    "from matplotlib.ticker import FormatStrFormatter,StrMethodFormatter"
   ]
  },
  {
   "cell_type": "code",
   "execution_count": 3,
   "id": "a26a73fc",
   "metadata": {},
   "outputs": [
    {
     "name": "stdout",
     "output_type": "stream",
     "text": [
      "<pyodbc.Connection object at 0x000002B7051B72A0>\n"
     ]
    }
   ],
   "source": [
    "# Names the needed driver, server name, and database\n",
    "driver_name='SQL Server'\n",
    "server_name='10.0.1.127'\n",
    "database='MAS_RFC'\n",
    "#Creates the connection string\n",
    "connection_string=f\"\"\"\n",
    "DRIVER={{{driver_name}}};\n",
    "SERVER={server_name};\n",
    "DATABASE={database};\n",
    "Trust_Connection=yes\"\"\"\n",
    "connection=odbc.connect(connection_string)\n",
    "print(connection)"
   ]
  },
  {
   "cell_type": "code",
   "execution_count": null,
   "id": "4947498c",
   "metadata": {},
   "outputs": [
    {
     "name": "stderr",
     "output_type": "stream",
     "text": [
      "C:\\Users\\jharned\\AppData\\Local\\Temp\\ipykernel_1604\\130728104.py:3: UserWarning: pandas only supports SQLAlchemy connectable (engine/connection) or database string URI or sqlite3 DBAPI2 connection. Other DBAPI2 objects are not tested. Please consider using SQLAlchemy.\n",
      "  invoice_history=pd.read_sql_query(\"\"\"SELECT * from MAS_RFC.dbo.AR_InvoiceHistoryHeader Where Year(InvoiceDate)>=2022\"\"\",connection)\n",
      "C:\\Users\\jharned\\AppData\\Local\\Temp\\ipykernel_1604\\130728104.py:4: UserWarning: pandas only supports SQLAlchemy connectable (engine/connection) or database string URI or sqlite3 DBAPI2 connection. Other DBAPI2 objects are not tested. Please consider using SQLAlchemy.\n",
      "  customer=pd.read_sql_query('''select * from MAS_RFC.dbo.AR_Customer''',connection)\n",
      "C:\\Users\\jharned\\AppData\\Local\\Temp\\ipykernel_1604\\130728104.py:5: UserWarning: pandas only supports SQLAlchemy connectable (engine/connection) or database string URI or sqlite3 DBAPI2 connection. Other DBAPI2 objects are not tested. Please consider using SQLAlchemy.\n",
      "  invoice_detail=pd.read_sql_query('''select InvoiceNo,ItemCode,ItemCodeDesc,ItemType,UnitPrice,QuantityShipped, UDF_ROYALTY_AMT,UDF_STD_UNIT_PRICE,ProductLine,CommentText from MAS_RFC.dbo.AR_InvoiceHistoryDetail''',connection)\n"
     ]
    }
   ],
   "source": [
    "# Four tables needed to run the report\n",
    "# All four are needed in order run report\n",
    "invoice_history=pd.read_sql_query(\"\"\"SELECT * from MAS_RFC.dbo.AR_InvoiceHistoryHeader Where Year(InvoiceDate)>=2022\"\"\",connection)\n",
    "customer=pd.read_sql_query('''select * from MAS_RFC.dbo.AR_Customer''',connection)\n",
    "invoice_detail=pd.read_sql_query('''select InvoiceNo,ItemCode,ItemCodeDesc,ItemType,UnitPrice,QuantityShipped, UDF_ROYALTY_AMT,UDF_STD_UNIT_PRICE,ProductLine,CommentText from MAS_RFC.dbo.AR_InvoiceHistoryDetail''',connection)\n",
    "product_line=pd.read_sql_query('''select * from MAS_RFC.dbo.IM_ProductLine''',connection)\n",
    "# Grabs the necessary columns from Invoice History\n",
    "inv_hist=invoice_history[['CustomerNo','InvoiceNo','InvoiceType','ShipDate','InvoiceDate','BillToState','InvoiceDueDate']]\n",
    "# Merges Invoice History with Invoice Detail on InvoiceNo column\n",
    "inv_merge=inv_hist.merge(invoice_detail,on='InvoiceNo',how='inner').drop_duplicates(keep='first')\n",
    "inv_merge['Ext Base Cost']=inv_merge.QuantityShipped*inv_merge.UDF_STD_UNIT_PRICE\n",
    "inv_merge['Ext Royalty']=inv_merge.QuantityShipped*inv_merge.UDF_ROYALTY_AMT\n",
    "cust=customer[['CustomerNo','CustomerName','City','ARDivisionNo','UDF_ROYALTY_METHOD','UDF_DISTRIBUTOR']]\n",
    "all_merge=inv_merge.merge(cust,on='CustomerNo',how='inner').drop_duplicates(keep='first')\n",
    "filtered=all_merge[all_merge.ARDivisionNo=='01']\n",
    "# filtered=all_merge[(all_merge.ItemType=='1')&(all_merge.ARDivisionNo=='01')]\n",
    "total_df=filtered.merge(product_line[['ProductLine','ProductLineDesc']],on='ProductLine').drop_duplicates(keep='first')\n",
    "total_df=total_df[total_df.InvoiceDate.dt.year<=2024]\n",
    "total_df=total_df[(total_df.CustomerNo!='TRAINMS')&(total_df.CustomerNo!='EAGLES1')&(total_df.CustomerNo!='CANA001')]\n",
    "total_df.loc[total_df.CustomerNo==1528,'BillToState']='PA'\n",
    "state=['PA','NJ','DE','MD']"
   ]
  },
  {
   "cell_type": "code",
   "execution_count": null,
   "id": "76a1f7da",
   "metadata": {},
   "outputs": [],
   "source": [
    "total_df['Year']=total_df.InvoiceDate.dt.year\n",
    "graph=total_df.groupby([pd.Grouper(key='InvoiceDate',freq='M'),'Year'])['Ext Royalty'].sum().reset_index()\n",
    "graph['Month']=graph.InvoiceDate.dt.strftime('%B')"
   ]
  },
  {
   "cell_type": "code",
   "execution_count": null,
   "id": "0db5c7cd",
   "metadata": {},
   "outputs": [],
   "source": [
    "graph"
   ]
  },
  {
   "cell_type": "code",
   "execution_count": null,
   "id": "e36088e5",
   "metadata": {
    "scrolled": false
   },
   "outputs": [],
   "source": [
    "fig, ax = plt.subplots(figsize=(15,10))\n",
    "sns.lineplot(data=graph, x='Month',y='Ext Royalty',hue='Year',markers=True,dashes=False,style='Year',palette='brg',\n",
    "            linewidth=2.5)\n",
    "ax.yaxis.set_major_formatter(StrMethodFormatter('${x:,.0f}'))\n",
    "ax.set_title('Monthly Royalty by Year 2022-24',fontsize=16)\n",
    "for x,y in zip(graph.Month,graph['Ext Royalty']):\n",
    "    plt.text(x=x, y=y-50000, s='${:,.0f}'.format(y));"
   ]
  },
  {
   "cell_type": "code",
   "execution_count": null,
   "id": "dc9337ff",
   "metadata": {},
   "outputs": [],
   "source": [
    "graph=total_df.groupby([pd.Grouper(key='InvoiceDate',freq='M'),'Year'])[['QuantityShipped','CustomerNo']]\\\n",
    ".agg({'QuantityShipped':'sum','CustomerNo':'nunique'}).reset_index()\n",
    "graph['Month']=graph.InvoiceDate.dt.strftime('%B')"
   ]
  },
  {
   "cell_type": "code",
   "execution_count": null,
   "id": "61ced168",
   "metadata": {},
   "outputs": [],
   "source": [
    "graph['Case_Per_Shop']=round(graph.QuantityShipped.div(graph.CustomerNo),2)\n",
    "fig, ax = plt.subplots(figsize=(15,10))\n",
    "sns.lineplot(data=graph, x='Month',y='Case_Per_Shop',hue='Year',markers=True,dashes=False,style='Year',palette='copper',\n",
    "            linewidth=2.5)\n",
    "ax.yaxis.set_major_formatter(StrMethodFormatter('{x:,.0f}'))\n",
    "ax.set_title('Avg Case Order Per Shop (2022-24)',fontsize=20)\n",
    "for x,y in zip(graph.Month,graph.Case_Per_Shop):\n",
    "    plt.text(x=x, y=y-10,s='{:,.0f}'.format(y));"
   ]
  },
  {
   "cell_type": "code",
   "execution_count": null,
   "id": "35a86fda",
   "metadata": {
    "scrolled": false
   },
   "outputs": [],
   "source": [
    "state=total_df.groupby(['BillToState',pd.Grouper(key='InvoiceDate',freq='M'),'Year'])[['QuantityShipped','CustomerNo']]\\\n",
    ".agg({'QuantityShipped':'sum','CustomerNo':'nunique'}).reset_index()\n",
    "state['Month']=state.InvoiceDate.dt.strftime('%B')\n",
    "state['Case_Per_Shop']=round(state.QuantityShipped.div(state.CustomerNo),2)\n",
    "state=state[state.BillToState!='']\n",
    "state=state[state.Year>=2022]\n",
    "st_li=list(enumerate(state.BillToState.unique()))\n",
    "for i in st_li:\n",
    "    fig, ax = plt.subplots(figsize=(15,10))\n",
    "    sns.barplot(data=state[state.BillToState==i[1]], x='Month',y='Case_Per_Shop',hue='Year',palette='RdYlGn',\n",
    "               order=['January','February','March','April','May','June','July','August','September','October',\n",
    "                     'November','December'])\n",
    "    ax.yaxis.set_major_formatter(StrMethodFormatter('{x:,.0f}'))\n",
    "    ax.set_title(str(i[1])+' Avg Case Order Per Shop (2022-24)',fontsize=20)\n",
    "    for j in ax.containers:\n",
    "        ax.bar_label(j,fmt='{:,.0f}');"
   ]
  },
  {
   "cell_type": "code",
   "execution_count": null,
   "id": "b0f18ddf",
   "metadata": {},
   "outputs": [],
   "source": [
    "state.sort_values(by='CustomerNo',ascending=False)"
   ]
  },
  {
   "cell_type": "code",
   "execution_count": null,
   "id": "addcf375",
   "metadata": {
    "scrolled": false
   },
   "outputs": [],
   "source": [
    "mixes=['CUSTARD','MIXES','CUSTARD - KOSHER','MIXES-SUGARFREE']\n",
    "state=total_df[total_df.ProductLineDesc.isin(mixes)]\\\n",
    ".groupby(['BillToState',pd.Grouper(key='InvoiceDate',freq='M'),'Year'])[['QuantityShipped','CustomerNo']]\\\n",
    ".agg({'QuantityShipped':'sum','CustomerNo':'nunique'}).reset_index()\n",
    "state['Month']=state.InvoiceDate.dt.strftime('%B')\n",
    "state['Case_Per_Shop']=round(state.QuantityShipped.div(state.CustomerNo),2)\n",
    "state=state[state.BillToState!='']\n",
    "state=state[state.Year>=2022]\n",
    "st_li=list(enumerate(state.BillToState.unique()))\n",
    "for i in st_li:\n",
    "    fig, ax = plt.subplots(figsize=(15,10))\n",
    "    sns.barplot(data=state[state.BillToState==i[1]], x='Month',y='Case_Per_Shop',hue='Year',palette='RdYlGn',\n",
    "               order=['January','February','March','April','May','June','July','August','September','October',\n",
    "                     'November','December'])\n",
    "    ax.yaxis.set_major_formatter(StrMethodFormatter('{x:,.0f}'))\n",
    "    ax.set_title(str(i[1])+' Avg Mix and Custard Case Order Per Shop (2022-24)',fontsize=20)\n",
    "    for j in ax.containers:\n",
    "        ax.bar_label(j,fmt='{:,.0f}');"
   ]
  },
  {
   "cell_type": "code",
   "execution_count": null,
   "id": "cd84d3a1",
   "metadata": {},
   "outputs": [],
   "source": [
    "mixes=['CUSTARD','MIXES','CUSTARD - KOSHER','MIXES-SUGARFREE']\n",
    "state=total_df[total_df.ProductLineDesc.isin(mixes)]\\\n",
    ".groupby(['BillToState',pd.Grouper(key='InvoiceDate',freq='M'),'Year'])[['QuantityShipped','CustomerNo']]\\\n",
    ".agg({'QuantityShipped':'sum','CustomerNo':'nunique'}).reset_index()\n",
    "state['Month']=state.InvoiceDate.dt.strftime('%B')\n",
    "state['Case_Per_Shop']=round(state.QuantityShipped.div(state.CustomerNo),2)\n",
    "state=state[state.BillToState!='']\n",
    "state=state[state.Year>=2022]\n",
    "state"
   ]
  },
  {
   "cell_type": "code",
   "execution_count": null,
   "id": "608295a8",
   "metadata": {},
   "outputs": [],
   "source": [
    "total_df.InvoiceDate.max()"
   ]
  },
  {
   "cell_type": "code",
   "execution_count": null,
   "id": "1070604d",
   "metadata": {},
   "outputs": [],
   "source": [
    "state=total_df[total_df.ProductLineDesc.isin(mixes)]\\\n",
    ".groupby(['BillToState'])[['QuantityShipped','CustomerNo']]\\\n",
    ".agg({'QuantityShipped':'sum','CustomerNo':'nunique'}).reset_index()\n",
    "state.nlargest(10,'CustomerNo')"
   ]
  },
  {
   "cell_type": "code",
   "execution_count": null,
   "id": "565b8a74",
   "metadata": {},
   "outputs": [],
   "source": []
  }
 ],
 "metadata": {
  "kernelspec": {
   "display_name": "Python 3 (ipykernel)",
   "language": "python",
   "name": "python3"
  },
  "language_info": {
   "codemirror_mode": {
    "name": "ipython",
    "version": 3
   },
   "file_extension": ".py",
   "mimetype": "text/x-python",
   "name": "python",
   "nbconvert_exporter": "python",
   "pygments_lexer": "ipython3",
   "version": "3.9.12"
  }
 },
 "nbformat": 4,
 "nbformat_minor": 5
}
