{
 "cells": [
  {
   "cell_type": "markdown",
   "id": "dc41cacb",
   "metadata": {},
   "source": [
    "# Royalty Regression Model\n",
    "### Use this for Calucting Predicted Monthly Sales"
   ]
  },
  {
   "cell_type": "code",
   "execution_count": 1,
   "id": "d8c98975",
   "metadata": {},
   "outputs": [],
   "source": [
    "import pandas as pd\n",
    "import numpy as np\n",
    "import matplotlib.pyplot as plt\n",
    "from sklearn.linear_model import LinearRegression\n",
    "import sklearn.metrics\n",
    "from sklearn.model_selection import train_test_split\n",
    "import statsmodels.api as sm\n",
    "import os\n",
    "import joblib"
   ]
  },
  {
   "cell_type": "code",
   "execution_count": 2,
   "id": "b9204003",
   "metadata": {},
   "outputs": [],
   "source": [
    "os.chdir(r'G:\\FinanceReports\\2022\\Wk52')\n",
    "srs=pd.read_excel('2022-SRSsales-productLevel-wk1-52 1.18.2023.xlsx', sheet_name='2022')# This gets us what the shops have sold"
   ]
  },
  {
   "cell_type": "code",
   "execution_count": 3,
   "id": "396d66e0",
   "metadata": {},
   "outputs": [],
   "source": [
    "#changes the directory \n",
    "os.chdir(r'L:\\J.Harned\\Royalty')\n",
    "invoice=pd.read_excel('2022 Invoice History - ms reports.xlsx', sheet_name='Detail')# This gets us what the shops have ordered"
   ]
  },
  {
   "cell_type": "code",
   "execution_count": 4,
   "id": "d64d8bbc",
   "metadata": {},
   "outputs": [],
   "source": [
    "#Last date of invoices in file\n",
    "srs=srs[srs['EndDate']<='2022-12-31']\n",
    "#Filters only dates from 12/31/2022 and before\n",
    "invoice=invoice[invoice.INVOICEDATE<='2022-12-31']"
   ]
  },
  {
   "cell_type": "code",
   "execution_count": 5,
   "id": "5c2aef9a",
   "metadata": {},
   "outputs": [],
   "source": [
    "#Renames columns\n",
    "invoice.rename(columns={'CUSTOMERNO':'ShopID'},inplace=True)\n",
    "#Gets month variable and creates a column for the numeric value of the month\n",
    "srs['Month']=srs.StartDate.dt.month\n",
    "#Gets month variable and creates a column for the numeric value of the month\n",
    "invoice['Month']=invoice.SHIPDATE.dt.month"
   ]
  },
  {
   "cell_type": "code",
   "execution_count": 6,
   "id": "58922817",
   "metadata": {},
   "outputs": [],
   "source": [
    "#From Invoice only chooses Custard and Mix Products\n",
    "inv_royalty=invoice[(invoice.PRODUCTLINEDESC=='CUSTARD')|(invoice.PRODUCTLINEDESC=='MIXES')|(invoice.PRODUCTLINEDESC=='MIXES - SUGARFREE')|(invoice.PRODUCTLINEDESC=='CUSTARD - KOSHER')]"
   ]
  },
  {
   "cell_type": "code",
   "execution_count": 7,
   "id": "367b3662",
   "metadata": {},
   "outputs": [],
   "source": [
    "#Gets the royalty amount paid by the Franchisees and groups them by Month and Shop. Need this to compute the ARS\n",
    "royalty_month=inv_royalty.groupby(['Month','ShopID','CUSTOMERNAME'])['Ext Royalty'].sum().reset_index()"
   ]
  },
  {
   "cell_type": "code",
   "execution_count": 8,
   "id": "9b7e6396",
   "metadata": {},
   "outputs": [],
   "source": [
    "#Inv_group variable grouped by Shop ID Customer Name , Month and Product desc. Most Important is Quantity Shipped sum and mean for the months\n",
    "inv_group=inv_royalty.groupby(['ShopID','CUSTOMERNAME','Month'])[['QUANTITYSHIPPED']].agg({'QUANTITYSHIPPED':['mean','sum']})\n",
    "#Renames grouped Columns in order to perform the merge\n",
    "inv_group.columns=['Quantity Mean','Quantity Sum']\n",
    "inv_group=inv_group.reset_index()"
   ]
  },
  {
   "cell_type": "code",
   "execution_count": 9,
   "id": "d246ab92",
   "metadata": {},
   "outputs": [],
   "source": [
    "#Grabs only the Product Types that are part of royalty calc\n",
    "royalty=srs[(srs.ProductTypeName=='Italian Ice')|(srs.ProductTypeName=='Gelati')|(srs.ProductTypeName=='Misto')|(srs.ProductTypeName=='Custard')|(srs.ProductTypeName=='Milkshakes')|(srs.ProductTypeName=='Frozen Beverages')|(srs.ProductTypeName=='Hand Scooped Custard')|\n",
    "(srs.ProductTypeName=='Concrete')|(srs.ProductTypeName=='Blendini')]\n",
    "#Groups Royaly variable by Shop ID and Month\n",
    "royalty=royalty.groupby(['ShopID','Month'])[['SalesQty','SalesMny']].sum().reset_index()"
   ]
  },
  {
   "cell_type": "code",
   "execution_count": 10,
   "id": "284703bb",
   "metadata": {},
   "outputs": [],
   "source": [
    "#Merges Royalty sum of custard and mixes sales with invoice sum of custard and mixes shipped\n",
    "merge_df=pd.merge(royalty,inv_group, on=['ShopID','Month'])\n",
    "#rearranges columns of merge_df\n",
    "merge_df=merge_df[['CUSTOMERNAME','ShopID','Month','Quantity Mean','Quantity Sum','SalesQty','SalesMny']]\n",
    "#Changes Name of SalesMny to Actual Sales\n",
    "#merge_df.rename(columns={\"SalesMny\":\"Actual Sales\"}, inplace=True)"
   ]
  },
  {
   "cell_type": "code",
   "execution_count": 11,
   "id": "3ee5c274",
   "metadata": {},
   "outputs": [
    {
     "data": {
      "text/html": [
       "<div>\n",
       "<style scoped>\n",
       "    .dataframe tbody tr th:only-of-type {\n",
       "        vertical-align: middle;\n",
       "    }\n",
       "\n",
       "    .dataframe tbody tr th {\n",
       "        vertical-align: top;\n",
       "    }\n",
       "\n",
       "    .dataframe thead th {\n",
       "        text-align: right;\n",
       "    }\n",
       "</style>\n",
       "<table border=\"1\" class=\"dataframe\">\n",
       "  <thead>\n",
       "    <tr style=\"text-align: right;\">\n",
       "      <th></th>\n",
       "      <th>CUSTOMERNAME</th>\n",
       "      <th>ShopID</th>\n",
       "      <th>Month</th>\n",
       "      <th>Quantity Mean</th>\n",
       "      <th>Quantity Sum</th>\n",
       "      <th>SalesQty</th>\n",
       "      <th>SalesMny</th>\n",
       "    </tr>\n",
       "  </thead>\n",
       "  <tbody>\n",
       "    <tr>\n",
       "      <th>0</th>\n",
       "      <td>PA  WOODHAVEN</td>\n",
       "      <td>1</td>\n",
       "      <td>2</td>\n",
       "      <td>2.571429</td>\n",
       "      <td>18.0</td>\n",
       "      <td>1890</td>\n",
       "      <td>7973.302</td>\n",
       "    </tr>\n",
       "    <tr>\n",
       "      <th>1</th>\n",
       "      <td>PA  WOODHAVEN</td>\n",
       "      <td>1</td>\n",
       "      <td>3</td>\n",
       "      <td>3.315789</td>\n",
       "      <td>63.0</td>\n",
       "      <td>8329</td>\n",
       "      <td>34891.222</td>\n",
       "    </tr>\n",
       "    <tr>\n",
       "      <th>2</th>\n",
       "      <td>PA  WOODHAVEN</td>\n",
       "      <td>1</td>\n",
       "      <td>4</td>\n",
       "      <td>2.483871</td>\n",
       "      <td>77.0</td>\n",
       "      <td>9575</td>\n",
       "      <td>40006.452</td>\n",
       "    </tr>\n",
       "    <tr>\n",
       "      <th>3</th>\n",
       "      <td>PA  WOODHAVEN</td>\n",
       "      <td>1</td>\n",
       "      <td>5</td>\n",
       "      <td>3.300000</td>\n",
       "      <td>66.0</td>\n",
       "      <td>14342</td>\n",
       "      <td>61534.163</td>\n",
       "    </tr>\n",
       "    <tr>\n",
       "      <th>4</th>\n",
       "      <td>PA  WOODHAVEN</td>\n",
       "      <td>1</td>\n",
       "      <td>6</td>\n",
       "      <td>2.468750</td>\n",
       "      <td>79.0</td>\n",
       "      <td>12372</td>\n",
       "      <td>53010.612</td>\n",
       "    </tr>\n",
       "    <tr>\n",
       "      <th>...</th>\n",
       "      <td>...</td>\n",
       "      <td>...</td>\n",
       "      <td>...</td>\n",
       "      <td>...</td>\n",
       "      <td>...</td>\n",
       "      <td>...</td>\n",
       "      <td>...</td>\n",
       "    </tr>\n",
       "    <tr>\n",
       "      <th>4398</th>\n",
       "      <td>MD ORIOLE PARK-CAMDEN YARDS</td>\n",
       "      <td>1492</td>\n",
       "      <td>5</td>\n",
       "      <td>20.000000</td>\n",
       "      <td>20.0</td>\n",
       "      <td>5686</td>\n",
       "      <td>47263.500</td>\n",
       "    </tr>\n",
       "    <tr>\n",
       "      <th>4399</th>\n",
       "      <td>MD ORIOLE PARK-CAMDEN YARDS</td>\n",
       "      <td>1492</td>\n",
       "      <td>6</td>\n",
       "      <td>7.000000</td>\n",
       "      <td>42.0</td>\n",
       "      <td>1646</td>\n",
       "      <td>13387.500</td>\n",
       "    </tr>\n",
       "    <tr>\n",
       "      <th>4400</th>\n",
       "      <td>MD ORIOLE PARK-CAMDEN YARDS</td>\n",
       "      <td>1492</td>\n",
       "      <td>7</td>\n",
       "      <td>6.285714</td>\n",
       "      <td>44.0</td>\n",
       "      <td>8521</td>\n",
       "      <td>72397.500</td>\n",
       "    </tr>\n",
       "    <tr>\n",
       "      <th>4401</th>\n",
       "      <td>MD ORIOLE PARK-CAMDEN YARDS</td>\n",
       "      <td>1492</td>\n",
       "      <td>8</td>\n",
       "      <td>7.166667</td>\n",
       "      <td>43.0</td>\n",
       "      <td>7749</td>\n",
       "      <td>66442.000</td>\n",
       "    </tr>\n",
       "    <tr>\n",
       "      <th>4402</th>\n",
       "      <td>MD ORIOLE PARK-CAMDEN YARDS</td>\n",
       "      <td>1492</td>\n",
       "      <td>9</td>\n",
       "      <td>8.571429</td>\n",
       "      <td>60.0</td>\n",
       "      <td>4976</td>\n",
       "      <td>41700.000</td>\n",
       "    </tr>\n",
       "  </tbody>\n",
       "</table>\n",
       "<p>4403 rows × 7 columns</p>\n",
       "</div>"
      ],
      "text/plain": [
       "                     CUSTOMERNAME  ShopID  Month  Quantity Mean  Quantity Sum  \\\n",
       "0                   PA  WOODHAVEN       1      2       2.571429          18.0   \n",
       "1                   PA  WOODHAVEN       1      3       3.315789          63.0   \n",
       "2                   PA  WOODHAVEN       1      4       2.483871          77.0   \n",
       "3                   PA  WOODHAVEN       1      5       3.300000          66.0   \n",
       "4                   PA  WOODHAVEN       1      6       2.468750          79.0   \n",
       "...                           ...     ...    ...            ...           ...   \n",
       "4398  MD ORIOLE PARK-CAMDEN YARDS    1492      5      20.000000          20.0   \n",
       "4399  MD ORIOLE PARK-CAMDEN YARDS    1492      6       7.000000          42.0   \n",
       "4400  MD ORIOLE PARK-CAMDEN YARDS    1492      7       6.285714          44.0   \n",
       "4401  MD ORIOLE PARK-CAMDEN YARDS    1492      8       7.166667          43.0   \n",
       "4402  MD ORIOLE PARK-CAMDEN YARDS    1492      9       8.571429          60.0   \n",
       "\n",
       "      SalesQty   SalesMny  \n",
       "0         1890   7973.302  \n",
       "1         8329  34891.222  \n",
       "2         9575  40006.452  \n",
       "3        14342  61534.163  \n",
       "4        12372  53010.612  \n",
       "...        ...        ...  \n",
       "4398      5686  47263.500  \n",
       "4399      1646  13387.500  \n",
       "4400      8521  72397.500  \n",
       "4401      7749  66442.000  \n",
       "4402      4976  41700.000  \n",
       "\n",
       "[4403 rows x 7 columns]"
      ]
     },
     "execution_count": 11,
     "metadata": {},
     "output_type": "execute_result"
    }
   ],
   "source": [
    "merge_df"
   ]
  },
  {
   "cell_type": "code",
   "execution_count": 12,
   "id": "b62eb171",
   "metadata": {},
   "outputs": [
    {
     "data": {
      "text/html": [
       "<div>\n",
       "<style scoped>\n",
       "    .dataframe tbody tr th:only-of-type {\n",
       "        vertical-align: middle;\n",
       "    }\n",
       "\n",
       "    .dataframe tbody tr th {\n",
       "        vertical-align: top;\n",
       "    }\n",
       "\n",
       "    .dataframe thead th {\n",
       "        text-align: right;\n",
       "    }\n",
       "</style>\n",
       "<table border=\"1\" class=\"dataframe\">\n",
       "  <thead>\n",
       "    <tr style=\"text-align: right;\">\n",
       "      <th></th>\n",
       "      <th>SalesMny</th>\n",
       "    </tr>\n",
       "  </thead>\n",
       "  <tbody>\n",
       "    <tr>\n",
       "      <th>0</th>\n",
       "      <td>7973.302</td>\n",
       "    </tr>\n",
       "    <tr>\n",
       "      <th>1</th>\n",
       "      <td>34891.222</td>\n",
       "    </tr>\n",
       "    <tr>\n",
       "      <th>2</th>\n",
       "      <td>40006.452</td>\n",
       "    </tr>\n",
       "    <tr>\n",
       "      <th>3</th>\n",
       "      <td>61534.163</td>\n",
       "    </tr>\n",
       "    <tr>\n",
       "      <th>4</th>\n",
       "      <td>53010.612</td>\n",
       "    </tr>\n",
       "    <tr>\n",
       "      <th>...</th>\n",
       "      <td>...</td>\n",
       "    </tr>\n",
       "    <tr>\n",
       "      <th>4398</th>\n",
       "      <td>47263.500</td>\n",
       "    </tr>\n",
       "    <tr>\n",
       "      <th>4399</th>\n",
       "      <td>13387.500</td>\n",
       "    </tr>\n",
       "    <tr>\n",
       "      <th>4400</th>\n",
       "      <td>72397.500</td>\n",
       "    </tr>\n",
       "    <tr>\n",
       "      <th>4401</th>\n",
       "      <td>66442.000</td>\n",
       "    </tr>\n",
       "    <tr>\n",
       "      <th>4402</th>\n",
       "      <td>41700.000</td>\n",
       "    </tr>\n",
       "  </tbody>\n",
       "</table>\n",
       "<p>4403 rows × 1 columns</p>\n",
       "</div>"
      ],
      "text/plain": [
       "       SalesMny\n",
       "0      7973.302\n",
       "1     34891.222\n",
       "2     40006.452\n",
       "3     61534.163\n",
       "4     53010.612\n",
       "...         ...\n",
       "4398  47263.500\n",
       "4399  13387.500\n",
       "4400  72397.500\n",
       "4401  66442.000\n",
       "4402  41700.000\n",
       "\n",
       "[4403 rows x 1 columns]"
      ]
     },
     "execution_count": 12,
     "metadata": {},
     "output_type": "execute_result"
    }
   ],
   "source": [
    "#Sets Target Varaiable as the Sales Column. This is what we are trying to predict\n",
    "target=merge_df.iloc[:,-1]\n",
    "target=pd.DataFrame(target)\n",
    "target"
   ]
  },
  {
   "cell_type": "code",
   "execution_count": 13,
   "id": "0aa82d0d",
   "metadata": {},
   "outputs": [
    {
     "data": {
      "text/html": [
       "<div>\n",
       "<style scoped>\n",
       "    .dataframe tbody tr th:only-of-type {\n",
       "        vertical-align: middle;\n",
       "    }\n",
       "\n",
       "    .dataframe tbody tr th {\n",
       "        vertical-align: top;\n",
       "    }\n",
       "\n",
       "    .dataframe thead th {\n",
       "        text-align: right;\n",
       "    }\n",
       "</style>\n",
       "<table border=\"1\" class=\"dataframe\">\n",
       "  <thead>\n",
       "    <tr style=\"text-align: right;\">\n",
       "      <th></th>\n",
       "      <th>Month</th>\n",
       "      <th>Quantity Sum</th>\n",
       "      <th>SalesQty</th>\n",
       "    </tr>\n",
       "  </thead>\n",
       "  <tbody>\n",
       "    <tr>\n",
       "      <th>0</th>\n",
       "      <td>2</td>\n",
       "      <td>18.0</td>\n",
       "      <td>1890</td>\n",
       "    </tr>\n",
       "    <tr>\n",
       "      <th>1</th>\n",
       "      <td>3</td>\n",
       "      <td>63.0</td>\n",
       "      <td>8329</td>\n",
       "    </tr>\n",
       "    <tr>\n",
       "      <th>2</th>\n",
       "      <td>4</td>\n",
       "      <td>77.0</td>\n",
       "      <td>9575</td>\n",
       "    </tr>\n",
       "    <tr>\n",
       "      <th>3</th>\n",
       "      <td>5</td>\n",
       "      <td>66.0</td>\n",
       "      <td>14342</td>\n",
       "    </tr>\n",
       "    <tr>\n",
       "      <th>4</th>\n",
       "      <td>6</td>\n",
       "      <td>79.0</td>\n",
       "      <td>12372</td>\n",
       "    </tr>\n",
       "    <tr>\n",
       "      <th>...</th>\n",
       "      <td>...</td>\n",
       "      <td>...</td>\n",
       "      <td>...</td>\n",
       "    </tr>\n",
       "    <tr>\n",
       "      <th>4398</th>\n",
       "      <td>5</td>\n",
       "      <td>20.0</td>\n",
       "      <td>5686</td>\n",
       "    </tr>\n",
       "    <tr>\n",
       "      <th>4399</th>\n",
       "      <td>6</td>\n",
       "      <td>42.0</td>\n",
       "      <td>1646</td>\n",
       "    </tr>\n",
       "    <tr>\n",
       "      <th>4400</th>\n",
       "      <td>7</td>\n",
       "      <td>44.0</td>\n",
       "      <td>8521</td>\n",
       "    </tr>\n",
       "    <tr>\n",
       "      <th>4401</th>\n",
       "      <td>8</td>\n",
       "      <td>43.0</td>\n",
       "      <td>7749</td>\n",
       "    </tr>\n",
       "    <tr>\n",
       "      <th>4402</th>\n",
       "      <td>9</td>\n",
       "      <td>60.0</td>\n",
       "      <td>4976</td>\n",
       "    </tr>\n",
       "  </tbody>\n",
       "</table>\n",
       "<p>4403 rows × 3 columns</p>\n",
       "</div>"
      ],
      "text/plain": [
       "      Month  Quantity Sum  SalesQty\n",
       "0         2          18.0      1890\n",
       "1         3          63.0      8329\n",
       "2         4          77.0      9575\n",
       "3         5          66.0     14342\n",
       "4         6          79.0     12372\n",
       "...     ...           ...       ...\n",
       "4398      5          20.0      5686\n",
       "4399      6          42.0      1646\n",
       "4400      7          44.0      8521\n",
       "4401      8          43.0      7749\n",
       "4402      9          60.0      4976\n",
       "\n",
       "[4403 rows x 3 columns]"
      ]
     },
     "execution_count": 13,
     "metadata": {},
     "output_type": "execute_result"
    }
   ],
   "source": [
    "#Sets the independent varaibles we want to runn the model on. Currently it is Month, Quantity Sum and Sales Qty.\n",
    "#These are the variables we want to use to predict sales\n",
    "features=merge_df.drop(['CUSTOMERNAME','ShopID','SalesMny'],axis=1)\n",
    "features.drop('Quantity Mean',axis=1,inplace=True)\n",
    "features"
   ]
  },
  {
   "cell_type": "code",
   "execution_count": 14,
   "id": "f6b0e867",
   "metadata": {},
   "outputs": [],
   "source": [
    "#Splits are data( features and targets) into a testing and training set\n",
    "x_train, x_test,y_train,y_test=train_test_split(features,target,test_size=.2, random_state=42)"
   ]
  },
  {
   "cell_type": "code",
   "execution_count": 15,
   "id": "d2ae8318",
   "metadata": {},
   "outputs": [],
   "source": [
    "# This is our simple Linear Regression model. We use the feature training set and the target training set to \"teach\" our model\n",
    "# what are the correct answers\n",
    "reg=LinearRegression()\n",
    "model=reg.fit(x_train,y_train)"
   ]
  },
  {
   "cell_type": "code",
   "execution_count": 16,
   "id": "aec9c315",
   "metadata": {},
   "outputs": [
    {
     "data": {
      "text/plain": [
       "(array([-819.49925229]), array([[124.99796501,  -9.96740799,   4.39938991]]))"
      ]
     },
     "execution_count": 16,
     "metadata": {},
     "output_type": "execute_result"
    }
   ],
   "source": [
    "#These are intercepts and coefficents of our model.\n",
    "model.intercept_, model.coef_"
   ]
  },
  {
   "cell_type": "code",
   "execution_count": 17,
   "id": "60dcf7b7",
   "metadata": {},
   "outputs": [
    {
     "data": {
      "text/plain": [
       "0.9124711787683919"
      ]
     },
     "execution_count": 17,
     "metadata": {},
     "output_type": "execute_result"
    }
   ],
   "source": [
    "#Model scores. Closer to 1 the better the model\n",
    "model.score(x_test,y_test)"
   ]
  },
  {
   "cell_type": "code",
   "execution_count": 18,
   "id": "308560a0",
   "metadata": {},
   "outputs": [
    {
     "data": {
      "text/plain": [
       "['royalty_regression_model']"
      ]
     },
     "execution_count": 18,
     "metadata": {},
     "output_type": "execute_result"
    }
   ],
   "source": [
    "#This will save our model for future use\n",
    "os.chdir(r'L:\\J.Harned\\Royalty\\Royalty Regression')\n",
    "joblib.dump(model,'royalty_regression_model')"
   ]
  },
  {
   "cell_type": "code",
   "execution_count": null,
   "id": "ce7df692",
   "metadata": {},
   "outputs": [],
   "source": []
  }
 ],
 "metadata": {
  "kernelspec": {
   "display_name": "Python 3 (ipykernel)",
   "language": "python",
   "name": "python3"
  },
  "language_info": {
   "codemirror_mode": {
    "name": "ipython",
    "version": 3
   },
   "file_extension": ".py",
   "mimetype": "text/x-python",
   "name": "python",
   "nbconvert_exporter": "python",
   "pygments_lexer": "ipython3",
   "version": "3.9.12"
  }
 },
 "nbformat": 4,
 "nbformat_minor": 5
}
