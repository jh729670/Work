{
 "cells": [
  {
   "cell_type": "code",
   "execution_count": 1,
   "id": "c4f3622e",
   "metadata": {},
   "outputs": [
    {
     "name": "stdout",
     "output_type": "stream",
     "text": [
      "<pyodbc.Connection object at 0x0000017EE7522370>\n"
     ]
    }
   ],
   "source": [
    "#Imports the necessary libraries\n",
    "import pandas as pd\n",
    "import os\n",
    "import numpy as np\n",
    "import pyodbc as odbc\n",
    "from datetime import date,timedelta,datetime\n",
    "os.chdir(r'L:\\J.Harned\\Calendar')\n",
    "calendar=pd.read_excel('2024 Sales Calendar.xlsx')\n",
    "calendar['Year']=calendar.StartDate.dt.year\n",
    "os.chdir(r'G:\\FinanceReports\\2024\\Wk49')\n",
    "# Names the needed driver, server name, and database\n",
    "driver_name='SQL Server'\n",
    "server_name='10.0.1.218'\n",
    "database='ritascoolnet_live'\n",
    "#Creates the connection string\n",
    "connection_string=f\"\"\"\n",
    "DRIVER={{{driver_name}}};\n",
    "SERVER={server_name};\n",
    "DATABASE={database};\n",
    "Trust_Connection=yes\"\"\"\n",
    "#Creates the Connection to SQL Server\n",
    "connection=odbc.connect(connection_string)\n",
    "print(connection)"
   ]
  },
  {
   "cell_type": "code",
   "execution_count": 2,
   "id": "8affd5db",
   "metadata": {},
   "outputs": [
    {
     "name": "stderr",
     "output_type": "stream",
     "text": [
      "C:\\Users\\jharned\\AppData\\Local\\Temp\\ipykernel_29500\\3135156464.py:3: UserWarning: pandas only supports SQLAlchemy connectable (engine/connection) or database string URI or sqlite3 DBAPI2 connection. Other DBAPI2 objects are not tested. Please consider using SQLAlchemy.\n",
      "  data=pd.read_sql_query('''SELECT *\n",
      "C:\\Users\\jharned\\AppData\\Local\\Temp\\ipykernel_29500\\3135156464.py:8: UserWarning: pandas only supports SQLAlchemy connectable (engine/connection) or database string URI or sqlite3 DBAPI2 connection. Other DBAPI2 objects are not tested. Please consider using SQLAlchemy.\n",
      "  df=pd.read_sql_query('''SELECT *\n",
      "C:\\Users\\jharned\\AppData\\Local\\Temp\\ipykernel_29500\\3135156464.py:12: UserWarning: pandas only supports SQLAlchemy connectable (engine/connection) or database string URI or sqlite3 DBAPI2 connection. Other DBAPI2 objects are not tested. Please consider using SQLAlchemy.\n",
      "  data3=pd.read_sql_query('''Select intstoreid as intStoreID,RitasID as ShopID, FC,CoolNetGroup,LegacyStoreType,State,MSAName,DMA,StoreName as ShopName,\n",
      "C:\\Users\\jharned\\AppData\\Local\\Temp\\ipykernel_29500\\3135156464.py:14: UserWarning: pandas only supports SQLAlchemy connectable (engine/connection) or database string URI or sqlite3 DBAPI2 connection. Other DBAPI2 objects are not tested. Please consider using SQLAlchemy.\n",
      "  product_sales=pd.read_sql_query('''Select * from ritascoolnet_live.dbo.tblProductSalesTransactions Where Year(dteStartDate)>=2023 ''',connection)\n"
     ]
    }
   ],
   "source": [
    "# Queries the tables from SQL\n",
    "# Reads in the Weekly Sales in 2023\n",
    "data=pd.read_sql_query('''SELECT *\n",
    "  FROM [ritas_bi].[dbo].[tmp_raw_plda]\n",
    "  WHERE YEAR(StartDate)=2024\n",
    "  ORDER BY Week DESC''',connection)\n",
    "# Reads in the Weekly Sales in 2022\n",
    "df=pd.read_sql_query('''SELECT *\n",
    "  FROM [ritas_bi].[dbo].[tmp_raw_plda]\n",
    "  WHERE YEAR(StartDate)=2023''',connection)\n",
    "#ShopDetail\n",
    "data3=pd.read_sql_query('''Select intstoreid as intStoreID,RitasID as ShopID, FC,CoolNetGroup,LegacyStoreType,State,MSAName,DMA,StoreName as ShopName,\n",
    "CoOpName,Franchisee,[Parent Shop #] as ParentID,StoreStatus,[Re Open Date] as ReOpenDate,OpenDate,StoreType from ritascoolnet_live.dbo.vShopDetail''',connection)\n",
    "product_sales=pd.read_sql_query('''Select * from ritascoolnet_live.dbo.tblProductSalesTransactions Where Year(dteStartDate)>=2023 ''',connection)"
   ]
  },
  {
   "cell_type": "code",
   "execution_count": 3,
   "id": "1d7df8b6",
   "metadata": {},
   "outputs": [
    {
     "name": "stderr",
     "output_type": "stream",
     "text": [
      "C:\\Users\\jharned\\AppData\\Local\\Temp\\ipykernel_29500\\3679232069.py:1: UserWarning: pandas only supports SQLAlchemy connectable (engine/connection) or database string URI or sqlite3 DBAPI2 connection. Other DBAPI2 objects are not tested. Please consider using SQLAlchemy.\n",
      "  sv=pd.read_sql_query('''Select * from ritascoolnet_live.dbo.vShopDetail''',connection)\n"
     ]
    }
   ],
   "source": [
    "sv=pd.read_sql_query('''Select * from ritascoolnet_live.dbo.vShopDetail''',connection)\n",
    "sv=sv[['intstoreid','RitasID','Special Venue']]\n",
    "sv=sv.rename(columns={'intstoreid':'intStoreID','RitasID':'ShopID','Special Venue':'SV'})"
   ]
  },
  {
   "cell_type": "code",
   "execution_count": 4,
   "id": "c513ad75",
   "metadata": {},
   "outputs": [
    {
     "name": "stderr",
     "output_type": "stream",
     "text": [
      "C:\\Users\\jharned\\AppData\\Local\\Temp\\ipykernel_29500\\2178623044.py:3: FutureWarning: Setting an item of incompatible dtype is deprecated and will raise in a future error of pandas. Value '12' has dtype incompatible with int64, please explicitly cast to a compatible dtype first.\n",
      "  total_df.loc[total_df.StartDate=='2023-03-20','Week']='12'\n"
     ]
    }
   ],
   "source": [
    "total_df=pd.concat([data,df]) # Combines 2023 and 2024 Sales Data\n",
    "total_df=total_df.merge(sv,how='left',on=['intStoreID','ShopID']) # Merges Special Venue with Sales Data\n",
    "total_df.loc[total_df.StartDate=='2023-03-20','Week']='12'\n",
    "total_df.loc[total_df.StartDate=='2023-03-27','Week']='13'\n",
    "total_df.loc[total_df.StartDate=='2023-10-29','StartDate']='2023-10-30'\n",
    "total_df=total_df.merge(calendar[['StartDate','Week','Month']],how='left',on=['StartDate','Week']) # Adds the month column from calendar\n",
    "total_df.Week=total_df.Week.astype('int')\n",
    "total_df=total_df[total_df.Week<=data.Week.max()]# Filters on the max week"
   ]
  },
  {
   "cell_type": "code",
   "execution_count": 5,
   "id": "519d68bf",
   "metadata": {},
   "outputs": [
    {
     "data": {
      "text/plain": [
       "(42117, 13)"
      ]
     },
     "execution_count": 5,
     "metadata": {},
     "output_type": "execute_result"
    }
   ],
   "source": [
    "product_sales.shape"
   ]
  },
  {
   "cell_type": "code",
   "execution_count": 6,
   "id": "4f2b50b1",
   "metadata": {},
   "outputs": [
    {
     "data": {
      "text/html": [
       "<div>\n",
       "<style scoped>\n",
       "    .dataframe tbody tr th:only-of-type {\n",
       "        vertical-align: middle;\n",
       "    }\n",
       "\n",
       "    .dataframe tbody tr th {\n",
       "        vertical-align: top;\n",
       "    }\n",
       "\n",
       "    .dataframe thead th {\n",
       "        text-align: right;\n",
       "    }\n",
       "</style>\n",
       "<table border=\"1\" class=\"dataframe\">\n",
       "  <thead>\n",
       "    <tr style=\"text-align: right;\">\n",
       "      <th></th>\n",
       "      <th>intProductSalesTransactionID</th>\n",
       "      <th>intRitasStoreID</th>\n",
       "      <th>intTransactionCount</th>\n",
       "      <th>StartDate</th>\n",
       "      <th>dteEndDate</th>\n",
       "      <th>dteCreatedOn</th>\n",
       "      <th>vchSource</th>\n",
       "      <th>intNumberOfDays</th>\n",
       "      <th>intRegister</th>\n",
       "      <th>intUECount</th>\n",
       "      <th>intDDCount</th>\n",
       "      <th>intGHCount</th>\n",
       "      <th>intStoreid</th>\n",
       "      <th>Week</th>\n",
       "      <th>Retail_GC</th>\n",
       "      <th>Year</th>\n",
       "    </tr>\n",
       "  </thead>\n",
       "  <tbody>\n",
       "    <tr>\n",
       "      <th>0</th>\n",
       "      <td>1057377</td>\n",
       "      <td>1478</td>\n",
       "      <td>383</td>\n",
       "      <td>2023-01-02</td>\n",
       "      <td>2023-01-08</td>\n",
       "      <td>2023-01-09 10:29:06.337</td>\n",
       "      <td>SMART</td>\n",
       "      <td>7</td>\n",
       "      <td>1</td>\n",
       "      <td>0</td>\n",
       "      <td>0</td>\n",
       "      <td>0</td>\n",
       "      <td>5257.0</td>\n",
       "      <td>1.0</td>\n",
       "      <td>383</td>\n",
       "      <td>2023</td>\n",
       "    </tr>\n",
       "    <tr>\n",
       "      <th>1</th>\n",
       "      <td>1057381</td>\n",
       "      <td>250</td>\n",
       "      <td>331</td>\n",
       "      <td>2023-01-02</td>\n",
       "      <td>2023-01-08</td>\n",
       "      <td>2023-01-09 11:22:28.730</td>\n",
       "      <td>SMART</td>\n",
       "      <td>7</td>\n",
       "      <td>1</td>\n",
       "      <td>0</td>\n",
       "      <td>0</td>\n",
       "      <td>0</td>\n",
       "      <td>4109.0</td>\n",
       "      <td>1.0</td>\n",
       "      <td>331</td>\n",
       "      <td>2023</td>\n",
       "    </tr>\n",
       "    <tr>\n",
       "      <th>2</th>\n",
       "      <td>1057382</td>\n",
       "      <td>127</td>\n",
       "      <td>0</td>\n",
       "      <td>2023-01-02</td>\n",
       "      <td>2023-01-08</td>\n",
       "      <td>2023-01-09 11:37:23.040</td>\n",
       "      <td>SMART</td>\n",
       "      <td>0</td>\n",
       "      <td>1</td>\n",
       "      <td>0</td>\n",
       "      <td>0</td>\n",
       "      <td>0</td>\n",
       "      <td>773.0</td>\n",
       "      <td>1.0</td>\n",
       "      <td>0</td>\n",
       "      <td>2023</td>\n",
       "    </tr>\n",
       "    <tr>\n",
       "      <th>3</th>\n",
       "      <td>1058258</td>\n",
       "      <td>22</td>\n",
       "      <td>1036</td>\n",
       "      <td>2023-01-02</td>\n",
       "      <td>2023-01-08</td>\n",
       "      <td>2023-01-10 01:05:04.303</td>\n",
       "      <td>SMART</td>\n",
       "      <td>7</td>\n",
       "      <td>1</td>\n",
       "      <td>0</td>\n",
       "      <td>0</td>\n",
       "      <td>0</td>\n",
       "      <td>523.0</td>\n",
       "      <td>1.0</td>\n",
       "      <td>1036</td>\n",
       "      <td>2023</td>\n",
       "    </tr>\n",
       "    <tr>\n",
       "      <th>4</th>\n",
       "      <td>1058259</td>\n",
       "      <td>39</td>\n",
       "      <td>643</td>\n",
       "      <td>2023-01-02</td>\n",
       "      <td>2023-01-08</td>\n",
       "      <td>2023-01-10 01:05:04.303</td>\n",
       "      <td>SMART</td>\n",
       "      <td>7</td>\n",
       "      <td>1</td>\n",
       "      <td>0</td>\n",
       "      <td>0</td>\n",
       "      <td>0</td>\n",
       "      <td>524.0</td>\n",
       "      <td>1.0</td>\n",
       "      <td>643</td>\n",
       "      <td>2023</td>\n",
       "    </tr>\n",
       "    <tr>\n",
       "      <th>...</th>\n",
       "      <td>...</td>\n",
       "      <td>...</td>\n",
       "      <td>...</td>\n",
       "      <td>...</td>\n",
       "      <td>...</td>\n",
       "      <td>...</td>\n",
       "      <td>...</td>\n",
       "      <td>...</td>\n",
       "      <td>...</td>\n",
       "      <td>...</td>\n",
       "      <td>...</td>\n",
       "      <td>...</td>\n",
       "      <td>...</td>\n",
       "      <td>...</td>\n",
       "      <td>...</td>\n",
       "      <td>...</td>\n",
       "    </tr>\n",
       "    <tr>\n",
       "      <th>42112</th>\n",
       "      <td>7021367</td>\n",
       "      <td>1543</td>\n",
       "      <td>131</td>\n",
       "      <td>2024-12-09</td>\n",
       "      <td>2024-12-15</td>\n",
       "      <td>2024-12-11 11:10:02.557</td>\n",
       "      <td>SMART</td>\n",
       "      <td>2</td>\n",
       "      <td>1</td>\n",
       "      <td>0</td>\n",
       "      <td>0</td>\n",
       "      <td>0</td>\n",
       "      <td>NaN</td>\n",
       "      <td>NaN</td>\n",
       "      <td>131</td>\n",
       "      <td>2024</td>\n",
       "    </tr>\n",
       "    <tr>\n",
       "      <th>42113</th>\n",
       "      <td>7021368</td>\n",
       "      <td>1545</td>\n",
       "      <td>45</td>\n",
       "      <td>2024-12-09</td>\n",
       "      <td>2024-12-15</td>\n",
       "      <td>2024-12-11 11:10:02.557</td>\n",
       "      <td>SMART</td>\n",
       "      <td>2</td>\n",
       "      <td>1</td>\n",
       "      <td>0</td>\n",
       "      <td>0</td>\n",
       "      <td>0</td>\n",
       "      <td>NaN</td>\n",
       "      <td>NaN</td>\n",
       "      <td>45</td>\n",
       "      <td>2024</td>\n",
       "    </tr>\n",
       "    <tr>\n",
       "      <th>42114</th>\n",
       "      <td>7021369</td>\n",
       "      <td>1571</td>\n",
       "      <td>162</td>\n",
       "      <td>2024-12-09</td>\n",
       "      <td>2024-12-15</td>\n",
       "      <td>2024-12-11 11:10:02.557</td>\n",
       "      <td>SMART</td>\n",
       "      <td>2</td>\n",
       "      <td>1</td>\n",
       "      <td>0</td>\n",
       "      <td>0</td>\n",
       "      <td>0</td>\n",
       "      <td>NaN</td>\n",
       "      <td>NaN</td>\n",
       "      <td>162</td>\n",
       "      <td>2024</td>\n",
       "    </tr>\n",
       "    <tr>\n",
       "      <th>42115</th>\n",
       "      <td>7021370</td>\n",
       "      <td>11390</td>\n",
       "      <td>1</td>\n",
       "      <td>2024-12-09</td>\n",
       "      <td>2024-12-15</td>\n",
       "      <td>2024-12-11 11:10:02.557</td>\n",
       "      <td>SMART</td>\n",
       "      <td>1</td>\n",
       "      <td>1</td>\n",
       "      <td>0</td>\n",
       "      <td>0</td>\n",
       "      <td>0</td>\n",
       "      <td>NaN</td>\n",
       "      <td>NaN</td>\n",
       "      <td>1</td>\n",
       "      <td>2024</td>\n",
       "    </tr>\n",
       "    <tr>\n",
       "      <th>42116</th>\n",
       "      <td>7021371</td>\n",
       "      <td>11453</td>\n",
       "      <td>44</td>\n",
       "      <td>2024-12-09</td>\n",
       "      <td>2024-12-15</td>\n",
       "      <td>2024-12-11 11:10:02.557</td>\n",
       "      <td>SMART</td>\n",
       "      <td>1</td>\n",
       "      <td>1</td>\n",
       "      <td>0</td>\n",
       "      <td>0</td>\n",
       "      <td>0</td>\n",
       "      <td>NaN</td>\n",
       "      <td>NaN</td>\n",
       "      <td>44</td>\n",
       "      <td>2024</td>\n",
       "    </tr>\n",
       "  </tbody>\n",
       "</table>\n",
       "<p>42117 rows × 16 columns</p>\n",
       "</div>"
      ],
      "text/plain": [
       "       intProductSalesTransactionID intRitasStoreID  intTransactionCount  \\\n",
       "0                           1057377            1478                  383   \n",
       "1                           1057381             250                  331   \n",
       "2                           1057382             127                    0   \n",
       "3                           1058258              22                 1036   \n",
       "4                           1058259              39                  643   \n",
       "...                             ...             ...                  ...   \n",
       "42112                       7021367            1543                  131   \n",
       "42113                       7021368            1545                   45   \n",
       "42114                       7021369            1571                  162   \n",
       "42115                       7021370           11390                    1   \n",
       "42116                       7021371           11453                   44   \n",
       "\n",
       "       StartDate dteEndDate            dteCreatedOn vchSource  \\\n",
       "0     2023-01-02 2023-01-08 2023-01-09 10:29:06.337     SMART   \n",
       "1     2023-01-02 2023-01-08 2023-01-09 11:22:28.730     SMART   \n",
       "2     2023-01-02 2023-01-08 2023-01-09 11:37:23.040     SMART   \n",
       "3     2023-01-02 2023-01-08 2023-01-10 01:05:04.303     SMART   \n",
       "4     2023-01-02 2023-01-08 2023-01-10 01:05:04.303     SMART   \n",
       "...          ...        ...                     ...       ...   \n",
       "42112 2024-12-09 2024-12-15 2024-12-11 11:10:02.557     SMART   \n",
       "42113 2024-12-09 2024-12-15 2024-12-11 11:10:02.557     SMART   \n",
       "42114 2024-12-09 2024-12-15 2024-12-11 11:10:02.557     SMART   \n",
       "42115 2024-12-09 2024-12-15 2024-12-11 11:10:02.557     SMART   \n",
       "42116 2024-12-09 2024-12-15 2024-12-11 11:10:02.557     SMART   \n",
       "\n",
       "       intNumberOfDays  intRegister  intUECount  intDDCount  intGHCount  \\\n",
       "0                    7            1           0           0           0   \n",
       "1                    7            1           0           0           0   \n",
       "2                    0            1           0           0           0   \n",
       "3                    7            1           0           0           0   \n",
       "4                    7            1           0           0           0   \n",
       "...                ...          ...         ...         ...         ...   \n",
       "42112                2            1           0           0           0   \n",
       "42113                2            1           0           0           0   \n",
       "42114                2            1           0           0           0   \n",
       "42115                1            1           0           0           0   \n",
       "42116                1            1           0           0           0   \n",
       "\n",
       "       intStoreid  Week  Retail_GC  Year  \n",
       "0          5257.0   1.0        383  2023  \n",
       "1          4109.0   1.0        331  2023  \n",
       "2           773.0   1.0          0  2023  \n",
       "3           523.0   1.0       1036  2023  \n",
       "4           524.0   1.0        643  2023  \n",
       "...           ...   ...        ...   ...  \n",
       "42112         NaN   NaN        131  2024  \n",
       "42113         NaN   NaN         45  2024  \n",
       "42114         NaN   NaN        162  2024  \n",
       "42115         NaN   NaN          1  2024  \n",
       "42116         NaN   NaN         44  2024  \n",
       "\n",
       "[42117 rows x 16 columns]"
      ]
     },
     "execution_count": 6,
     "metadata": {},
     "output_type": "execute_result"
    }
   ],
   "source": [
    "product_sales=product_sales.rename(columns={'dteStartDate':'StartDate'})\n",
    "weeks=total_df[['StartDate','Week']].drop_duplicates(keep='first')\n",
    "ps=product_sales.merge(weeks[['StartDate','Week']],how='left',on='StartDate')\n",
    "ps['Retail_GC']=ps.intTransactionCount-ps.intUECount\\\n",
    "-ps.intDDCount-ps.intGHCount\n",
    "ps['Year']=ps.StartDate.dt.year\n",
    "ps"
   ]
  },
  {
   "cell_type": "code",
   "execution_count": 7,
   "id": "d89b278c",
   "metadata": {},
   "outputs": [
    {
     "data": {
      "text/plain": [
       "16605941"
      ]
     },
     "execution_count": 7,
     "metadata": {},
     "output_type": "execute_result"
    }
   ],
   "source": [
    "ps[(ps.dteEndDate.dt.year==2024)].groupby('dteEndDate')['Retail_GC'].sum().iloc[:-1,].sum()"
   ]
  },
  {
   "cell_type": "code",
   "execution_count": 8,
   "id": "8ed06e49",
   "metadata": {},
   "outputs": [
    {
     "data": {
      "text/plain": [
       "587006"
      ]
     },
     "execution_count": 8,
     "metadata": {},
     "output_type": "execute_result"
    }
   ],
   "source": [
    "ps[(ps.dteEndDate=='2024-07-21')].Retail_GC.sum()"
   ]
  },
  {
   "cell_type": "code",
   "execution_count": 9,
   "id": "b10fa350",
   "metadata": {},
   "outputs": [],
   "source": [
    "threepd=ps.rename(columns={'intRitasStoreID':'ShopID'})\n",
    "total_gc=threepd.groupby(['ShopID','Year','Week'])['Retail_GC'].sum().reset_index()\n",
    "total_gc.ShopID=total_gc.ShopID.astype('int')\n",
    "total_gc.Week=total_gc.Week.astype('int')"
   ]
  },
  {
   "cell_type": "code",
   "execution_count": 10,
   "id": "eeac783e",
   "metadata": {},
   "outputs": [
    {
     "name": "stdout",
     "output_type": "stream",
     "text": [
      "<class 'pandas.core.frame.DataFrame'>\n",
      "RangeIndex: 777273 entries, 0 to 777272\n",
      "Data columns (total 25 columns):\n",
      " #   Column            Non-Null Count   Dtype         \n",
      "---  ------            --------------   -----         \n",
      " 0   ShopID            777273 non-null  int64         \n",
      " 1   intStoreID        777273 non-null  int64         \n",
      " 2   ProductCode       777273 non-null  int64         \n",
      " 3   ProdSizeCode      777273 non-null  int64         \n",
      " 4   DiscountCode      777273 non-null  int64         \n",
      " 5   Register          777273 non-null  int64         \n",
      " 6   SalesQty          777273 non-null  int64         \n",
      " 7   SalesMny          777273 non-null  float64       \n",
      " 8   StartDate         777273 non-null  datetime64[ns]\n",
      " 9   EndDate           777273 non-null  datetime64[ns]\n",
      " 10  EditDate          777273 non-null  datetime64[ns]\n",
      " 11  Week              777273 non-null  int64         \n",
      " 12  DataSource        777273 non-null  object        \n",
      " 13  ShopName          777273 non-null  object        \n",
      " 14  State             777273 non-null  object        \n",
      " 15  Region            777273 non-null  object        \n",
      " 16  ShopStatus        777273 non-null  object        \n",
      " 17  LegacyShopType    777273 non-null  object        \n",
      " 18  LegacyShopStatus  777273 non-null  object        \n",
      " 19  ProductTypeName   777273 non-null  object        \n",
      " 20  ProductSizeName   777273 non-null  object        \n",
      " 21  SpecialVenue      777273 non-null  object        \n",
      " 22  CoOpStatus        777273 non-null  object        \n",
      " 23  CoOpName          362045 non-null  object        \n",
      " 24  CoOpRate          777273 non-null  float64       \n",
      "dtypes: datetime64[ns](3), float64(2), int64(8), object(12)\n",
      "memory usage: 148.3+ MB\n"
     ]
    }
   ],
   "source": [
    "data.info()"
   ]
  },
  {
   "cell_type": "code",
   "execution_count": 11,
   "id": "8b440615",
   "metadata": {},
   "outputs": [
    {
     "data": {
      "text/plain": [
       "197934547.71739998"
      ]
     },
     "execution_count": 11,
     "metadata": {},
     "output_type": "execute_result"
    }
   ],
   "source": [
    "\n",
    "\n",
    "total_gc=total_gc[total_gc.Week<=data.Week.max()] #filters on the max week for Guest COunts\n",
    "total_gc['ShopID']=pd.to_numeric(total_gc.ShopID,errors='coerce')# Converts ShopID to integers\n",
    "total_gc=total_gc.merge(calendar[['Week','Year','Month']],on=['Week','Year'],how='left') #Adds month column to Guest Counts\n",
    "total_df['Year']=total_df.StartDate.dt.year #Adds Year column\n",
    "total_gc=total_gc.merge(data3[['ShopID','State']],on='ShopID',how='left').drop_duplicates(subset=['Week','Year','ShopID','Retail_GC','Month'],\n",
    "                                                                                keep='first')\n",
    "total_df[total_df.StartDate.dt.year==2024].SalesMny.sum()\n"
   ]
  },
  {
   "cell_type": "code",
   "execution_count": 12,
   "id": "a36d585f",
   "metadata": {},
   "outputs": [],
   "source": [
    "core_list=['NJ','PA','DE','MD']\n",
    "total_df['Area']=total_df['State'].apply(lambda x: 'Core' if x in core_list else 'Developing')\n",
    "total_gc['Area']=total_gc['State'].apply(lambda x: 'Core' if x in core_list else 'Developing')"
   ]
  },
  {
   "cell_type": "code",
   "execution_count": 13,
   "id": "31fe7c63",
   "metadata": {},
   "outputs": [
    {
     "data": {
      "text/plain": [
       "180746647.0708"
      ]
     },
     "execution_count": 13,
     "metadata": {},
     "output_type": "execute_result"
    }
   ],
   "source": [
    "total_df[total_df.Year==2023].SalesMny.sum()"
   ]
  },
  {
   "cell_type": "code",
   "execution_count": 14,
   "id": "529c49d3",
   "metadata": {},
   "outputs": [],
   "source": [
    "total_df[total_df.Year==2023].groupby(['ShopID','Area'])['SalesMny'].sum().reset_index().to_excel('test.xlsx',index=False)"
   ]
  },
  {
   "cell_type": "code",
   "execution_count": 15,
   "id": "77209808",
   "metadata": {},
   "outputs": [],
   "source": [
    "# gc_region=total_gc.merge(total_df[['ShopID','Area']],on='ShopID',how='left').drop_duplicates(keep='first').groupby([\n",
    "# 'Area','Year'\n",
    "# ])['GC'].sum().reset_index()\n"
   ]
  },
  {
   "cell_type": "code",
   "execution_count": 16,
   "id": "13edaebe",
   "metadata": {},
   "outputs": [],
   "source": [
    "gc_region=total_gc.groupby([\n",
    "'Area','Year'\n",
    "])['Retail_GC'].sum().reset_index()"
   ]
  },
  {
   "cell_type": "code",
   "execution_count": 17,
   "id": "709e1879",
   "metadata": {},
   "outputs": [
    {
     "data": {
      "text/plain": [
       "(1456240, 29)"
      ]
     },
     "execution_count": 17,
     "metadata": {},
     "output_type": "execute_result"
    }
   ],
   "source": [
    "total_df.shape"
   ]
  },
  {
   "cell_type": "code",
   "execution_count": 18,
   "id": "3623d2ce",
   "metadata": {},
   "outputs": [
    {
     "name": "stdout",
     "output_type": "stream",
     "text": [
      "Enter Month Number:12\n"
     ]
    }
   ],
   "source": [
    "month=int(input('Enter Month Number:')) # Type the month name you would like to view"
   ]
  },
  {
   "cell_type": "markdown",
   "id": "e0c0aca4",
   "metadata": {},
   "source": [
    "# YTD Total System Sales"
   ]
  },
  {
   "cell_type": "code",
   "execution_count": 19,
   "id": "e9eee56e",
   "metadata": {},
   "outputs": [
    {
     "data": {
      "text/plain": [
       "378681194.78"
      ]
     },
     "execution_count": 19,
     "metadata": {},
     "output_type": "execute_result"
    }
   ],
   "source": [
    "sales_region=round(total_df.groupby(['Area','Year'])[['ShopID','SalesMny']].agg({'ShopID':'nunique','SalesMny':'sum'}),2).reset_index()\n",
    "tsr=sales_region.merge(gc_region,on=['Area','Year'],how='left')\n",
    "tsr['AvgChk']=round(tsr.SalesMny/tsr.Retail_GC,2)\n",
    "tsr.SalesMny.sum()"
   ]
  },
  {
   "cell_type": "code",
   "execution_count": 20,
   "id": "b1d160a5",
   "metadata": {},
   "outputs": [
    {
     "data": {
      "text/plain": [
       "180746647.07"
      ]
     },
     "execution_count": 20,
     "metadata": {},
     "output_type": "execute_result"
    }
   ],
   "source": [
    "tsr[tsr.Year==2023].SalesMny.sum()\n"
   ]
  },
  {
   "cell_type": "code",
   "execution_count": 21,
   "id": "8a2b52e3",
   "metadata": {},
   "outputs": [
    {
     "data": {
      "text/plain": [
       "197934547.71739998"
      ]
     },
     "execution_count": 21,
     "metadata": {},
     "output_type": "execute_result"
    }
   ],
   "source": [
    "data.SalesMny.sum()"
   ]
  },
  {
   "cell_type": "markdown",
   "id": "6d0d4b62",
   "metadata": {},
   "source": [
    "# Month Total System Sales"
   ]
  },
  {
   "cell_type": "code",
   "execution_count": 22,
   "id": "39d5157c",
   "metadata": {},
   "outputs": [],
   "source": [
    "# sales_month=total_df[total_df.Month==total_df.Month.max()].groupby(\n",
    "#     ['Area','Year'])[['ShopID','SalesMny']].agg(\n",
    "#     {'ShopID':'nunique','SalesMny':'sum'}).reset_index()\n",
    "# gc_month_region=total_gc[total_gc.Month==total_gc.Month.max()].merge(total_df[['ShopID','Area']],on='ShopID',how='left').drop_duplicates(keep='first').groupby([\n",
    "# 'Area','Year'\n",
    "# ])['GC'].sum().reset_index()\n",
    "# tsr_mtd=sales_month.merge(gc_month_region,on=['Area','Year'],how='left')\n",
    "# tsr_mtd['AvgChk']=round(tsr_mtd.SalesMny/tsr_mtd.GC,2)\n",
    "# tsr_mtd"
   ]
  },
  {
   "cell_type": "code",
   "execution_count": 23,
   "id": "cee549e4",
   "metadata": {},
   "outputs": [
    {
     "data": {
      "text/plain": [
       "Area         CoreCoreDevelopingDeveloping\n",
       "Year                                 8094\n",
       "ShopID                                348\n",
       "SalesMny                     1865056.2126\n",
       "Retail_GC                          156095\n",
       "AvgChk                              46.83\n",
       "dtype: object"
      ]
     },
     "execution_count": 23,
     "metadata": {},
     "output_type": "execute_result"
    }
   ],
   "source": [
    "sales_month=total_df[total_df.Month==month].groupby(\n",
    "    ['Area','Year'])[['ShopID','SalesMny']].agg(\n",
    "    {'ShopID':'nunique','SalesMny':'sum'}).reset_index()\n",
    "gc_month_region=total_gc[total_gc.Month==month].groupby([\n",
    "'Area','Year'\n",
    "])['Retail_GC'].sum().reset_index()\n",
    "tsr_mtd=sales_month.merge(gc_month_region,on=['Area','Year'],how='left')\n",
    "tsr_mtd['AvgChk']=round(tsr_mtd.SalesMny/tsr_mtd.Retail_GC,2)\n",
    "tsr_mtd.sum()"
   ]
  },
  {
   "cell_type": "markdown",
   "id": "e0901ed4",
   "metadata": {},
   "source": [
    "# Week Total System Sales"
   ]
  },
  {
   "cell_type": "code",
   "execution_count": 24,
   "id": "679b8261",
   "metadata": {},
   "outputs": [],
   "source": [
    "# sales_week=total_df[total_df.Week==total_df.Week.max()].groupby(\n",
    "#     ['Region','Year'])[['ShopID','SalesMny']].agg(\n",
    "#     {'ShopID':'nunique','SalesMny':'sum'}).reset_index()\n",
    "# gc_week_region=total_gc[total_gc.Week==total_gc.Week.max()].merge(total_df[['ShopID','Region']],on='ShopID',how='left').drop_duplicates(keep='first').groupby([\n",
    "# 'Region','Year'\n",
    "# ])['GC'].sum().reset_index()\n",
    "# tsr_wtd=sales_week.merge(gc_week_region,on=['Region','Year'],how='left')\n",
    "# tsr_wtd['AvgChk']=round(tsr_wtd.SalesMny/tsr_wtd.GC,2)\n",
    "# tsr_wtd"
   ]
  },
  {
   "cell_type": "code",
   "execution_count": 25,
   "id": "41ef39d0",
   "metadata": {},
   "outputs": [
    {
     "name": "stdout",
     "output_type": "stream",
     "text": [
      "<class 'pandas.core.frame.DataFrame'>\n",
      "Index: 1456240 entries, 0 to 1468341\n",
      "Data columns (total 29 columns):\n",
      " #   Column            Non-Null Count    Dtype         \n",
      "---  ------            --------------    -----         \n",
      " 0   ShopID            1456240 non-null  int64         \n",
      " 1   intStoreID        1456240 non-null  int64         \n",
      " 2   ProductCode       1456240 non-null  int64         \n",
      " 3   ProdSizeCode      1456240 non-null  int64         \n",
      " 4   DiscountCode      1456240 non-null  int64         \n",
      " 5   Register          1456240 non-null  int64         \n",
      " 6   SalesQty          1456240 non-null  int64         \n",
      " 7   SalesMny          1456240 non-null  float64       \n",
      " 8   StartDate         1456240 non-null  datetime64[ns]\n",
      " 9   EndDate           1456240 non-null  datetime64[ns]\n",
      " 10  EditDate          1456240 non-null  datetime64[ns]\n",
      " 11  Week              1456240 non-null  int32         \n",
      " 12  DataSource        1456240 non-null  object        \n",
      " 13  ShopName          1456240 non-null  object        \n",
      " 14  State             1456240 non-null  object        \n",
      " 15  Region            1456240 non-null  object        \n",
      " 16  ShopStatus        1456240 non-null  object        \n",
      " 17  LegacyShopType    1456240 non-null  object        \n",
      " 18  LegacyShopStatus  1456240 non-null  object        \n",
      " 19  ProductTypeName   1456240 non-null  object        \n",
      " 20  ProductSizeName   1456240 non-null  object        \n",
      " 21  SpecialVenue      1456240 non-null  object        \n",
      " 22  CoOpStatus        1456240 non-null  object        \n",
      " 23  CoOpName          659208 non-null   object        \n",
      " 24  CoOpRate          1456240 non-null  float64       \n",
      " 25  SV                1456240 non-null  object        \n",
      " 26  Month             1422540 non-null  float64       \n",
      " 27  Year              1456240 non-null  int32         \n",
      " 28  Area              1456240 non-null  object        \n",
      "dtypes: datetime64[ns](3), float64(3), int32(2), int64(7), object(14)\n",
      "memory usage: 322.2+ MB\n"
     ]
    }
   ],
   "source": [
    "total_df.info()"
   ]
  },
  {
   "cell_type": "code",
   "execution_count": 26,
   "id": "3580be58",
   "metadata": {},
   "outputs": [
    {
     "data": {
      "text/plain": [
       "Area         CoreCoreDevelopingDeveloping\n",
       "Year                                 8094\n",
       "ShopID                                317\n",
       "SalesMny                      881324.4643\n",
       "Retail_GC                           74476\n",
       "AvgChk                              46.45\n",
       "dtype: object"
      ]
     },
     "execution_count": 26,
     "metadata": {},
     "output_type": "execute_result"
    }
   ],
   "source": [
    "sales_week=total_df[total_df.Week==data.Week.max()].groupby(\n",
    "    ['Area','Year'])[['ShopID','SalesMny']].agg(\n",
    "    {'ShopID':'nunique','SalesMny':'sum'}).reset_index()\n",
    "gc_week_region=total_gc[total_gc.Week==total_gc.Week.max()].groupby([\n",
    "'Area','Year'\n",
    "])['Retail_GC'].sum().reset_index()\n",
    "tsr_wtd=sales_week.merge(gc_week_region,on=['Area','Year'],how='left')\n",
    "tsr_wtd['AvgChk']=round(tsr_wtd.SalesMny/tsr_wtd.Retail_GC,2)\n",
    "tsr_wtd.sum()"
   ]
  },
  {
   "cell_type": "markdown",
   "id": "6252a119",
   "metadata": {},
   "source": [
    "# Special Venues YTD"
   ]
  },
  {
   "cell_type": "code",
   "execution_count": 27,
   "id": "25eca355",
   "metadata": {},
   "outputs": [],
   "source": [
    "sv_ytd=round(total_df[(total_df.SV=='Yes')].groupby(['Area','Year'])[['ShopID','SalesMny']].agg({'ShopID':'nunique','SalesMny':'sum'}),2).reset_index()"
   ]
  },
  {
   "cell_type": "markdown",
   "id": "fa41d2cf",
   "metadata": {},
   "source": [
    "# Special Venues MTD"
   ]
  },
  {
   "cell_type": "code",
   "execution_count": 28,
   "id": "c8a92a15",
   "metadata": {},
   "outputs": [],
   "source": [
    "sv_mtd=total_df[(total_df.SV=='Yes')&(total_df.Month==month)].groupby(['Area','Year'])[['ShopID','SalesMny']].agg({'ShopID':'nunique','SalesMny':'sum'}).reset_index()"
   ]
  },
  {
   "cell_type": "markdown",
   "id": "dc90cfe7",
   "metadata": {},
   "source": [
    "# Special Venues WTD"
   ]
  },
  {
   "cell_type": "code",
   "execution_count": 29,
   "id": "bad21c41",
   "metadata": {},
   "outputs": [],
   "source": [
    "sv_wtd=round(total_df[(total_df.SV=='Yes')&(total_df.Week==data.Week.max())].groupby(['Area','Year'])[['ShopID','SalesMny']].agg({'ShopID':'nunique','SalesMny':'sum'}),2).reset_index()\n"
   ]
  },
  {
   "cell_type": "markdown",
   "id": "9b1f71f7",
   "metadata": {},
   "source": [
    "# 3PD and Open Catering Sales YTD"
   ]
  },
  {
   "cell_type": "code",
   "execution_count": 30,
   "id": "35732a0c",
   "metadata": {},
   "outputs": [],
   "source": [
    "alist=['3rd Party Delivery','Full Service Catering (Open $)','Online Ordering']\n",
    "pd3_oc_ytd=total_df[(total_df.ProductTypeName.isin(alist))&(total_df.SV=='No')].groupby(['Area','Year','ProductTypeName'])[['SalesMny']].agg({'SalesMny':'sum'}).reset_index()\n",
    "pd3_oc_ytd=pd3_oc_ytd.iloc[:,[0,1,-1,2]]"
   ]
  },
  {
   "cell_type": "markdown",
   "id": "49dea9fd",
   "metadata": {},
   "source": [
    "# 3PD and Open Catering Sales MTD"
   ]
  },
  {
   "cell_type": "code",
   "execution_count": 31,
   "id": "5ce1756b",
   "metadata": {},
   "outputs": [],
   "source": [
    "pd3_oc_mtd=total_df[(total_df.ProductTypeName.isin(alist))&(total_df.Month==month)&(total_df.SV=='No')].groupby(['Area','Year','ProductTypeName'])[['SalesMny']].agg({'SalesMny':'sum'}).reset_index()\n",
    "pd3_oc_mtd=pd3_oc_mtd.iloc[:,[0,1,-1,2]]"
   ]
  },
  {
   "cell_type": "markdown",
   "id": "cd3798d0",
   "metadata": {},
   "source": [
    "# 3PD and Open Catering Sales WTD"
   ]
  },
  {
   "cell_type": "code",
   "execution_count": 32,
   "id": "c065bd27",
   "metadata": {},
   "outputs": [],
   "source": [
    "pd3_oc_wtd=total_df[(total_df.ProductTypeName.isin(alist))&(total_df.Week==data.Week.max())&(total_df.SV=='No')].groupby(['Area','Year','ProductTypeName'])[['SalesMny']].agg({'SalesMny':'sum'}).reset_index()\n",
    "pd3_oc_wtd=pd3_oc_wtd.iloc[:,[0,1,-1,2]]"
   ]
  },
  {
   "cell_type": "markdown",
   "id": "d016813e",
   "metadata": {},
   "source": [
    "# Mobile Sales YTD"
   ]
  },
  {
   "cell_type": "code",
   "execution_count": 33,
   "id": "c812967c",
   "metadata": {},
   "outputs": [],
   "source": [
    "mobile_ytd=total_df[(total_df.LegacyShopType.str.contains('Mobile'))&(total_df.SV=='No')&(\n",
    "    total_df.ProductTypeName!='Full Service Catering (Open $)')].groupby(['Area','Year'])[['ShopID','SalesMny']].agg({'ShopID':'nunique','SalesMny':'sum'}).reset_index()"
   ]
  },
  {
   "cell_type": "code",
   "execution_count": 34,
   "id": "5067f554",
   "metadata": {},
   "outputs": [],
   "source": [
    "mobile_mtd=total_df[(total_df.LegacyShopType.str.contains('Mobile'))&(total_df.SV=='No')&(\n",
    "    total_df.ProductTypeName!='Full Service Catering (Open $)')&(total_df.Month==month)].groupby(\n",
    "    ['Area','Year'])[['ShopID','SalesMny']].agg({'ShopID':'nunique','SalesMny':'sum'}).reset_index()"
   ]
  },
  {
   "cell_type": "code",
   "execution_count": 35,
   "id": "f6fae0fd",
   "metadata": {},
   "outputs": [],
   "source": [
    "mobile_wtd=total_df[(total_df.LegacyShopType.str.contains('Mobile'))&(total_df.SV=='No')&(\n",
    "    total_df.ProductTypeName!='Full Service Catering (Open $)')&(total_df.Week==data.Week.max())].groupby(\n",
    "    ['Area','Year'])[['ShopID','SalesMny']].agg({'ShopID':'nunique','SalesMny':'sum'}).reset_index()"
   ]
  },
  {
   "cell_type": "markdown",
   "id": "a7db6c55",
   "metadata": {},
   "source": [
    "# Retail Sales YTD"
   ]
  },
  {
   "cell_type": "code",
   "execution_count": 36,
   "id": "95a91e43",
   "metadata": {},
   "outputs": [],
   "source": [
    "# retail_gc=total_gc.merge(total_df[['ShopID','Region']],on='ShopID',how='left').drop_duplicates(keep='first')\n"
   ]
  },
  {
   "cell_type": "code",
   "execution_count": 37,
   "id": "7659e2d5",
   "metadata": {},
   "outputs": [],
   "source": [
    "retail_ytd=total_df[~(total_df.LegacyShopType.str.contains('Mobile'))&(total_df.SV=='No')&~(\n",
    "    total_df.ProductTypeName.isin(alist))].groupby(\n",
    "    ['Area','Year'])[['ShopID','SalesMny']].agg({'ShopID':'nunique','SalesMny':'sum'}).reset_index()\n",
    "retail_ytd\n",
    "shops=total_df[~(total_df.LegacyShopType.str.contains('Mobile'))&(total_df.SV=='No')&~(\n",
    "    total_df.ProductTypeName.isin(alist))].ShopID.unique()\n",
    "shops\n",
    "gc_ytd=total_gc[total_gc.ShopID.isin(shops)].groupby([\n",
    "'Area','Year'\n",
    "])['Retail_GC'].sum().reset_index()\n",
    "retail_ytd=retail_ytd.merge(gc_ytd,on=['Area','Year'],how='left')\n",
    "retail_ytd['AvgChk']=retail_ytd.SalesMny/retail_ytd.Retail_GC\n"
   ]
  },
  {
   "cell_type": "code",
   "execution_count": 38,
   "id": "f92a3903",
   "metadata": {},
   "outputs": [
    {
     "data": {
      "text/html": [
       "<div>\n",
       "<style scoped>\n",
       "    .dataframe tbody tr th:only-of-type {\n",
       "        vertical-align: middle;\n",
       "    }\n",
       "\n",
       "    .dataframe tbody tr th {\n",
       "        vertical-align: top;\n",
       "    }\n",
       "\n",
       "    .dataframe thead th {\n",
       "        text-align: right;\n",
       "    }\n",
       "</style>\n",
       "<table border=\"1\" class=\"dataframe\">\n",
       "  <thead>\n",
       "    <tr style=\"text-align: right;\">\n",
       "      <th></th>\n",
       "      <th>Area</th>\n",
       "      <th>Year</th>\n",
       "      <th>ShopID</th>\n",
       "      <th>SalesMny</th>\n",
       "      <th>Retail_GC</th>\n",
       "      <th>AvgChk</th>\n",
       "    </tr>\n",
       "  </thead>\n",
       "  <tbody>\n",
       "    <tr>\n",
       "      <th>0</th>\n",
       "      <td>Core</td>\n",
       "      <td>2023</td>\n",
       "      <td>381</td>\n",
       "      <td>1.200522e+08</td>\n",
       "      <td>11785031</td>\n",
       "      <td>10.186834</td>\n",
       "    </tr>\n",
       "    <tr>\n",
       "      <th>1</th>\n",
       "      <td>Core</td>\n",
       "      <td>2024</td>\n",
       "      <td>387</td>\n",
       "      <td>1.247039e+08</td>\n",
       "      <td>11780682</td>\n",
       "      <td>10.585453</td>\n",
       "    </tr>\n",
       "    <tr>\n",
       "      <th>2</th>\n",
       "      <td>Developing</td>\n",
       "      <td>2023</td>\n",
       "      <td>151</td>\n",
       "      <td>3.797267e+07</td>\n",
       "      <td>3588906</td>\n",
       "      <td>10.580569</td>\n",
       "    </tr>\n",
       "    <tr>\n",
       "      <th>3</th>\n",
       "      <td>Developing</td>\n",
       "      <td>2024</td>\n",
       "      <td>160</td>\n",
       "      <td>4.184520e+07</td>\n",
       "      <td>3878902</td>\n",
       "      <td>10.787899</td>\n",
       "    </tr>\n",
       "  </tbody>\n",
       "</table>\n",
       "</div>"
      ],
      "text/plain": [
       "         Area  Year  ShopID      SalesMny  Retail_GC     AvgChk\n",
       "0        Core  2023     381  1.200522e+08   11785031  10.186834\n",
       "1        Core  2024     387  1.247039e+08   11780682  10.585453\n",
       "2  Developing  2023     151  3.797267e+07    3588906  10.580569\n",
       "3  Developing  2024     160  4.184520e+07    3878902  10.787899"
      ]
     },
     "execution_count": 38,
     "metadata": {},
     "output_type": "execute_result"
    }
   ],
   "source": [
    "retail_ytd"
   ]
  },
  {
   "cell_type": "markdown",
   "id": "a368005c",
   "metadata": {},
   "source": [
    "# Retail Sales MTD"
   ]
  },
  {
   "cell_type": "code",
   "execution_count": 39,
   "id": "9ae927bc",
   "metadata": {},
   "outputs": [],
   "source": [
    "retail_mtd=total_df[~(total_df.LegacyShopType.str.contains('Mobile'))&(total_df.SV=='No')&~(\n",
    "    total_df.ProductTypeName.isin(alist))&(total_df.Month==month)].groupby(\n",
    "    ['Area','Year'])[['ShopID','SalesMny']].agg({'ShopID':'nunique','SalesMny':'sum'}).reset_index()\n",
    "shops=total_df[~(total_df.LegacyShopType.str.contains('Mobile'))&(total_df.SV=='No')&~(\n",
    "    total_df.ProductTypeName.isin(alist))&(total_df.Month==month)].ShopID.unique()\n",
    "gc_mtd=total_gc[total_gc.ShopID.isin(shops)&(total_gc.Month==month)].groupby([\n",
    "'Area','Year'\n",
    "])['Retail_GC'].sum().reset_index()\n",
    "retail_mtd=retail_mtd.merge(gc_mtd,on=['Area','Year'],how='left')\n",
    "retail_mtd['AvgChk']=retail_mtd.SalesMny/retail_mtd.Retail_GC"
   ]
  },
  {
   "cell_type": "code",
   "execution_count": 40,
   "id": "9a061f1a",
   "metadata": {},
   "outputs": [
    {
     "data": {
      "text/html": [
       "<div>\n",
       "<style scoped>\n",
       "    .dataframe tbody tr th:only-of-type {\n",
       "        vertical-align: middle;\n",
       "    }\n",
       "\n",
       "    .dataframe tbody tr th {\n",
       "        vertical-align: top;\n",
       "    }\n",
       "\n",
       "    .dataframe thead th {\n",
       "        text-align: right;\n",
       "    }\n",
       "</style>\n",
       "<table border=\"1\" class=\"dataframe\">\n",
       "  <thead>\n",
       "    <tr style=\"text-align: right;\">\n",
       "      <th></th>\n",
       "      <th>Area</th>\n",
       "      <th>Year</th>\n",
       "      <th>ShopID</th>\n",
       "      <th>SalesMny</th>\n",
       "      <th>Retail_GC</th>\n",
       "      <th>AvgChk</th>\n",
       "    </tr>\n",
       "  </thead>\n",
       "  <tbody>\n",
       "    <tr>\n",
       "      <th>0</th>\n",
       "      <td>Core</td>\n",
       "      <td>2023</td>\n",
       "      <td>51</td>\n",
       "      <td>169518.5757</td>\n",
       "      <td>18830</td>\n",
       "      <td>9.002580</td>\n",
       "    </tr>\n",
       "    <tr>\n",
       "      <th>1</th>\n",
       "      <td>Core</td>\n",
       "      <td>2024</td>\n",
       "      <td>63</td>\n",
       "      <td>190661.1604</td>\n",
       "      <td>19801</td>\n",
       "      <td>9.628865</td>\n",
       "    </tr>\n",
       "    <tr>\n",
       "      <th>2</th>\n",
       "      <td>Developing</td>\n",
       "      <td>2023</td>\n",
       "      <td>94</td>\n",
       "      <td>489412.6740</td>\n",
       "      <td>49372</td>\n",
       "      <td>9.912758</td>\n",
       "    </tr>\n",
       "    <tr>\n",
       "      <th>3</th>\n",
       "      <td>Developing</td>\n",
       "      <td>2024</td>\n",
       "      <td>110</td>\n",
       "      <td>524498.7025</td>\n",
       "      <td>50011</td>\n",
       "      <td>10.487667</td>\n",
       "    </tr>\n",
       "  </tbody>\n",
       "</table>\n",
       "</div>"
      ],
      "text/plain": [
       "         Area  Year  ShopID     SalesMny  Retail_GC     AvgChk\n",
       "0        Core  2023      51  169518.5757      18830   9.002580\n",
       "1        Core  2024      63  190661.1604      19801   9.628865\n",
       "2  Developing  2023      94  489412.6740      49372   9.912758\n",
       "3  Developing  2024     110  524498.7025      50011  10.487667"
      ]
     },
     "execution_count": 40,
     "metadata": {},
     "output_type": "execute_result"
    }
   ],
   "source": [
    "retail_mtd"
   ]
  },
  {
   "cell_type": "markdown",
   "id": "05b63c81",
   "metadata": {},
   "source": [
    "# Retail Sales WTD"
   ]
  },
  {
   "cell_type": "code",
   "execution_count": 41,
   "id": "ccc73cac",
   "metadata": {},
   "outputs": [],
   "source": [
    "retail_wtd=total_df[~(total_df.LegacyShopType.str.contains('Mobile'))&(total_df.SV=='No')&~(\n",
    "    total_df.ProductTypeName.isin(alist))&(total_df.Week==data.Week.max())].groupby(\n",
    "    ['Area','Year'])[['ShopID','SalesMny']].agg({'ShopID':'nunique','SalesMny':'sum'}).reset_index()\n",
    "shops=total_df[~(total_df.LegacyShopType.str.contains('Mobile'))&(total_df.SV=='No')&~(\n",
    "    total_df.ProductTypeName.isin(alist))&(total_df.Week==data.Week.max())].ShopID.unique()\n",
    "gc_wtd=total_gc[total_gc.ShopID.isin(shops)&(total_gc.Week==total_gc.Week.max())].groupby([\n",
    "'Area','Year'\n",
    "])['Retail_GC'].sum().reset_index()\n",
    "retail_wtd=retail_wtd.merge(gc_wtd,on=['Area','Year'],how='left')\n",
    "retail_wtd['AvgChk']=retail_wtd.SalesMny/retail_wtd.Retail_GC"
   ]
  },
  {
   "cell_type": "code",
   "execution_count": 42,
   "id": "594a5926",
   "metadata": {},
   "outputs": [
    {
     "data": {
      "text/plain": [
       "197934547.71739998"
      ]
     },
     "execution_count": 42,
     "metadata": {},
     "output_type": "execute_result"
    }
   ],
   "source": [
    "total_df[total_df.Year==2024].SalesMny.sum()"
   ]
  },
  {
   "cell_type": "code",
   "execution_count": 43,
   "id": "de4e9bdd",
   "metadata": {},
   "outputs": [
    {
     "data": {
      "text/plain": [
       "197934547.71240002"
      ]
     },
     "execution_count": 43,
     "metadata": {},
     "output_type": "execute_result"
    }
   ],
   "source": [
    "retail_ytd[retail_ytd.Year==2024].SalesMny.sum()+mobile_ytd[mobile_ytd.Year==2024].SalesMny.sum()+pd3_oc_ytd[pd3_oc_ytd.Year==2024].SalesMny.sum()+sv_ytd[sv_ytd.Year==2024].SalesMny.sum()"
   ]
  },
  {
   "cell_type": "markdown",
   "id": "79692245",
   "metadata": {},
   "source": [
    "# Retail Comp Sales YTD"
   ]
  },
  {
   "cell_type": "code",
   "execution_count": 44,
   "id": "46d7b232",
   "metadata": {},
   "outputs": [],
   "source": [
    "comps=total_df.pivot_table(index='ShopID',columns='Year',values='SalesMny',aggfunc='sum',fill_value=0).reset_index()\n",
    "comps=comps[comps.ShopID<10000]\n",
    "comp_list=comps[(comps[2023]>0)&(comps[2024]>0)].ShopID.unique()"
   ]
  },
  {
   "cell_type": "code",
   "execution_count": 45,
   "id": "378084c9",
   "metadata": {},
   "outputs": [
    {
     "data": {
      "text/plain": [
       "array([   1,    2,    3,    4,    6,    7,    8,    9,   10,   11,   12,\n",
       "         14,   15,   16,   18,   19,   20,   21,   22,   26,   28,   29,\n",
       "         30,   31,   32,   34,   36,   37,   39,   40,   41,   42,   43,\n",
       "         44,   45,   47,   48,   53,   54,   55,   56,   57,   58,   59,\n",
       "         60,   61,   64,   65,   66,   68,   69,   70,   71,   73,   78,\n",
       "         81,   82,   83,   84,   85,   86,   87,   88,   89,   91,   92,\n",
       "         94,   95,   96,   97,   98,  100,  101,  102,  104,  105,  106,\n",
       "        108,  109,  111,  113,  114,  117,  118,  120,  122,  123,  124,\n",
       "        125,  127,  128,  129,  133,  134,  135,  136,  138,  139,  142,\n",
       "        144,  145,  148,  149,  150,  151,  152,  153,  154,  155,  156,\n",
       "        158,  159,  160,  161,  163,  164,  166,  167,  169,  170,  171,\n",
       "        172,  173,  175,  178,  180,  181,  182,  183,  184,  185,  186,\n",
       "        187,  188,  190,  192,  194,  195,  197,  198,  200,  204,  205,\n",
       "        206,  207,  209,  211,  212,  213,  214,  215,  217,  218,  221,\n",
       "        223,  224,  225,  227,  229,  230,  231,  235,  237,  238,  239,\n",
       "        241,  242,  243,  245,  246,  247,  248,  249,  250,  254,  256,\n",
       "        257,  259,  260,  261,  263,  267,  270,  271,  274,  278,  279,\n",
       "        280,  285,  286,  287,  288,  289,  290,  291,  292,  293,  295,\n",
       "        298,  299,  301,  303,  304,  305,  306,  309,  311,  312,  313,\n",
       "        314,  316,  322,  323,  330,  331,  332,  333,  334,  335,  337,\n",
       "        338,  339,  340,  341,  342,  343,  344,  345,  347,  349,  350,\n",
       "        353,  354,  355,  358,  359,  361,  362,  364,  365,  366,  368,\n",
       "        369,  370,  371,  372,  374,  376,  379,  380,  381,  382,  383,\n",
       "        384,  385,  386,  387,  388,  390,  391,  392,  393,  394,  397,\n",
       "        399,  400,  402,  403,  405,  410,  412,  413,  414,  417,  421,\n",
       "        423,  427,  428,  429,  435,  436,  438,  440,  441,  444,  445,\n",
       "        452,  453,  463,  467,  468,  472,  473,  474,  476,  477,  484,\n",
       "        485,  486,  487,  490,  493,  495,  496,  498,  501,  503,  510,\n",
       "        514,  516,  518,  519,  521,  525,  532,  534,  536,  543,  545,\n",
       "        550,  552,  556,  559,  560,  564,  571,  575,  579,  585,  617,\n",
       "        626,  628,  638,  649,  650,  658,  663,  676,  681,  689,  691,\n",
       "        704,  711,  712,  714,  729,  731,  734,  746,  753,  764,  777,\n",
       "        779,  790,  803,  824,  835,  836,  843,  847,  853,  860,  863,\n",
       "        866,  872,  874,  882,  885,  886,  887,  888,  889,  892,  897,\n",
       "        899,  903,  905,  912,  927,  928,  929,  930,  931,  932,  933,\n",
       "        934,  937,  940,  944,  952, 1018, 1040, 1044, 1045, 1046, 1047,\n",
       "       1049, 1053, 1055, 1060, 1065, 1071, 1072, 1088, 1119, 1121, 1126,\n",
       "       1130, 1132, 1133, 1159, 1160, 1170, 1171, 1172, 1187, 1212, 1231,\n",
       "       1237, 1253, 1254, 1265, 1266, 1268, 1269, 1271, 1272, 1273, 1302,\n",
       "       1318, 1322, 1334, 1335, 1336, 1337, 1347, 1348, 1351, 1352, 1355,\n",
       "       1356, 1357, 1362, 1364, 1365, 1368, 1369, 1371, 1376, 1377, 1378,\n",
       "       1379, 1381, 1383, 1387, 1389, 1390, 1393, 1394, 1395, 1396, 1397,\n",
       "       1398, 1400, 1401, 1403, 1404, 1405, 1406, 1407, 1409, 1413, 1416,\n",
       "       1417, 1418, 1419, 1420, 1422, 1423, 1424, 1431, 1435, 1436, 1440,\n",
       "       1442, 1445, 1446, 1449, 1450, 1451, 1453, 1454, 1455, 1456, 1457,\n",
       "       1458, 1459, 1460, 1462, 1465, 1466, 1467, 1468, 1469, 1471, 1472,\n",
       "       1473, 1474, 1476, 1477, 1478, 1479, 1480, 1482, 1483, 1484, 1488,\n",
       "       1489, 1492, 1495, 1500, 1504, 1507, 1512, 1515, 1517, 1518, 1519,\n",
       "       1520, 1522, 1530, 1534], dtype=int64)"
      ]
     },
     "execution_count": 45,
     "metadata": {},
     "output_type": "execute_result"
    }
   ],
   "source": [
    "comp_list"
   ]
  },
  {
   "cell_type": "code",
   "execution_count": 46,
   "id": "2f2ac66c",
   "metadata": {},
   "outputs": [
    {
     "data": {
      "text/html": [
       "<div>\n",
       "<style scoped>\n",
       "    .dataframe tbody tr th:only-of-type {\n",
       "        vertical-align: middle;\n",
       "    }\n",
       "\n",
       "    .dataframe tbody tr th {\n",
       "        vertical-align: top;\n",
       "    }\n",
       "\n",
       "    .dataframe thead th {\n",
       "        text-align: right;\n",
       "    }\n",
       "</style>\n",
       "<table border=\"1\" class=\"dataframe\">\n",
       "  <thead>\n",
       "    <tr style=\"text-align: right;\">\n",
       "      <th></th>\n",
       "      <th>Area</th>\n",
       "      <th>ShopCount</th>\n",
       "      <th>CYSales</th>\n",
       "      <th>PYSales</th>\n",
       "      <th>2024</th>\n",
       "      <th>2023</th>\n",
       "      <th>CYAvgChk</th>\n",
       "      <th>PYAvgChk</th>\n",
       "    </tr>\n",
       "  </thead>\n",
       "  <tbody>\n",
       "    <tr>\n",
       "      <th>0</th>\n",
       "      <td>Core</td>\n",
       "      <td>377</td>\n",
       "      <td>1.230380e+08</td>\n",
       "      <td>1.195967e+08</td>\n",
       "      <td>11849623</td>\n",
       "      <td>11901270</td>\n",
       "      <td>10.383284</td>\n",
       "      <td>10.049068</td>\n",
       "    </tr>\n",
       "    <tr>\n",
       "      <th>1</th>\n",
       "      <td>Developing</td>\n",
       "      <td>142</td>\n",
       "      <td>3.887551e+07</td>\n",
       "      <td>3.636493e+07</td>\n",
       "      <td>3841192</td>\n",
       "      <td>3630006</td>\n",
       "      <td>10.120689</td>\n",
       "      <td>10.017870</td>\n",
       "    </tr>\n",
       "  </tbody>\n",
       "</table>\n",
       "</div>"
      ],
      "text/plain": [
       "         Area  ShopCount       CYSales       PYSales      2024      2023  \\\n",
       "0        Core        377  1.230380e+08  1.195967e+08  11849623  11901270   \n",
       "1  Developing        142  3.887551e+07  3.636493e+07   3841192   3630006   \n",
       "\n",
       "    CYAvgChk   PYAvgChk  \n",
       "0  10.383284  10.049068  \n",
       "1  10.120689  10.017870  "
      ]
     },
     "execution_count": 46,
     "metadata": {},
     "output_type": "execute_result"
    }
   ],
   "source": [
    "comp_ytd=total_df[~(total_df.LegacyShopType.str.contains('Mobile'))&(total_df.SV=='No')&~(\n",
    "total_df.ProductTypeName.isin(alist))&(total_df.ShopID.isin(comp_list))].pivot_table(index='Area',columns=['Year'],\n",
    "                                                                                        values=['ShopID','SalesMny'],aggfunc=['nunique',\n",
    "                                                                                                                              'sum']).reset_index()\n",
    "comp_ytd=comp_ytd.iloc[:,[0,3,6,5]]\n",
    "comp_gc=total_gc[total_gc.ShopID.isin(comp_list)].pivot_table(index='Area',columns='Year',values='Retail_GC',aggfunc='sum').reset_index()\n",
    "comp_gc=comp_gc.iloc[:,[0,2,1]]\n",
    "columns=['Area','ShopCount','CYSales','PYSales']\n",
    "comp_ytd.columns=columns\n",
    "comp_ytd=comp_ytd.merge(comp_gc,on='Area')\n",
    "comp_ytd['CYAvgChk']=comp_ytd['CYSales']/comp_ytd[2024]\n",
    "comp_ytd['PYAvgChk']=comp_ytd['PYSales']/comp_ytd[2023]\n",
    "comp_ytd"
   ]
  },
  {
   "cell_type": "markdown",
   "id": "d2416a3e",
   "metadata": {},
   "source": [
    "# Retail Comp Sales MTD"
   ]
  },
  {
   "cell_type": "code",
   "execution_count": 47,
   "id": "89a692f4",
   "metadata": {},
   "outputs": [],
   "source": [
    "comps=total_df[total_df.Month==month].pivot_table(index='ShopID',columns='Year',values='SalesMny',aggfunc='sum',fill_value=0).reset_index()\n",
    "comp_list=comps[(comps[2023]>0)&(comps[2024]>0)].ShopID.unique()\n",
    "comp_mtd=total_df[~(total_df.LegacyShopType.str.contains('Mobile'))&(total_df.SV=='No')&~(\n",
    "total_df.ProductTypeName.isin(alist))&(total_df.ShopID.isin(comp_list))&(total_df.Month==month)].pivot_table(index='Area',columns=['Year'],\n",
    "                                                                                        values=['ShopID','SalesMny'],aggfunc=['nunique',\n",
    "                                                                                                                              'sum']).reset_index()\n",
    "comp_mtd=comp_mtd.iloc[:,[0,3,6,5]]\n",
    "comp_gc=total_gc[total_gc.ShopID.isin(comp_list)&(total_gc.Month==month)].pivot_table(index='Area',columns='Year',values='Retail_GC',aggfunc='sum').reset_index()\n",
    "comp_gc=comp_gc.iloc[:,[0,2,1]]\n",
    "columns=['Area','ShopCount','CYSales','PYSales']\n",
    "comp_mtd.columns=columns\n",
    "comp_mtd=comp_mtd.merge(comp_gc,on='Area')\n",
    "comp_mtd['CYAvgChk']=comp_mtd['CYSales']/comp_mtd[2024]\n",
    "comp_mtd['PYAvgChk']=comp_mtd['PYSales']/comp_mtd[2023]"
   ]
  },
  {
   "cell_type": "code",
   "execution_count": 48,
   "id": "2d19c61e",
   "metadata": {},
   "outputs": [
    {
     "data": {
      "text/html": [
       "<div>\n",
       "<style scoped>\n",
       "    .dataframe tbody tr th:only-of-type {\n",
       "        vertical-align: middle;\n",
       "    }\n",
       "\n",
       "    .dataframe tbody tr th {\n",
       "        vertical-align: top;\n",
       "    }\n",
       "\n",
       "    .dataframe thead th {\n",
       "        text-align: right;\n",
       "    }\n",
       "</style>\n",
       "<table border=\"1\" class=\"dataframe\">\n",
       "  <thead>\n",
       "    <tr style=\"text-align: right;\">\n",
       "      <th>Year</th>\n",
       "      <th>ShopID</th>\n",
       "      <th>2023</th>\n",
       "      <th>2024</th>\n",
       "    </tr>\n",
       "  </thead>\n",
       "  <tbody>\n",
       "    <tr>\n",
       "      <th>0</th>\n",
       "      <td>22</td>\n",
       "      <td>14153.71</td>\n",
       "      <td>12803.09</td>\n",
       "    </tr>\n",
       "    <tr>\n",
       "      <th>1</th>\n",
       "      <td>32</td>\n",
       "      <td>0.00</td>\n",
       "      <td>0.00</td>\n",
       "    </tr>\n",
       "    <tr>\n",
       "      <th>2</th>\n",
       "      <td>39</td>\n",
       "      <td>10180.36</td>\n",
       "      <td>8967.10</td>\n",
       "    </tr>\n",
       "    <tr>\n",
       "      <th>3</th>\n",
       "      <td>42</td>\n",
       "      <td>0.00</td>\n",
       "      <td>1490.75</td>\n",
       "    </tr>\n",
       "    <tr>\n",
       "      <th>4</th>\n",
       "      <td>73</td>\n",
       "      <td>11677.53</td>\n",
       "      <td>11519.79</td>\n",
       "    </tr>\n",
       "    <tr>\n",
       "      <th>...</th>\n",
       "      <td>...</td>\n",
       "      <td>...</td>\n",
       "      <td>...</td>\n",
       "    </tr>\n",
       "    <tr>\n",
       "      <th>209</th>\n",
       "      <td>11418</td>\n",
       "      <td>213.80</td>\n",
       "      <td>0.00</td>\n",
       "    </tr>\n",
       "    <tr>\n",
       "      <th>210</th>\n",
       "      <td>11419</td>\n",
       "      <td>6497.20</td>\n",
       "      <td>4951.39</td>\n",
       "    </tr>\n",
       "    <tr>\n",
       "      <th>211</th>\n",
       "      <td>11453</td>\n",
       "      <td>451.50</td>\n",
       "      <td>517.02</td>\n",
       "    </tr>\n",
       "    <tr>\n",
       "      <th>212</th>\n",
       "      <td>20374</td>\n",
       "      <td>18951.96</td>\n",
       "      <td>0.00</td>\n",
       "    </tr>\n",
       "    <tr>\n",
       "      <th>213</th>\n",
       "      <td>31360</td>\n",
       "      <td>10665.50</td>\n",
       "      <td>0.00</td>\n",
       "    </tr>\n",
       "  </tbody>\n",
       "</table>\n",
       "<p>214 rows × 3 columns</p>\n",
       "</div>"
      ],
      "text/plain": [
       "Year  ShopID      2023      2024\n",
       "0         22  14153.71  12803.09\n",
       "1         32      0.00      0.00\n",
       "2         39  10180.36   8967.10\n",
       "3         42      0.00   1490.75\n",
       "4         73  11677.53  11519.79\n",
       "..       ...       ...       ...\n",
       "209    11418    213.80      0.00\n",
       "210    11419   6497.20   4951.39\n",
       "211    11453    451.50    517.02\n",
       "212    20374  18951.96      0.00\n",
       "213    31360  10665.50      0.00\n",
       "\n",
       "[214 rows x 3 columns]"
      ]
     },
     "execution_count": 48,
     "metadata": {},
     "output_type": "execute_result"
    }
   ],
   "source": [
    "comps=total_df[total_df.Month==month].pivot_table(index='ShopID',columns='Year',values='SalesMny',aggfunc='sum',fill_value=0).reset_index()\n",
    "comps"
   ]
  },
  {
   "cell_type": "code",
   "execution_count": 49,
   "id": "4c4a9636",
   "metadata": {},
   "outputs": [
    {
     "data": {
      "text/html": [
       "<div>\n",
       "<style scoped>\n",
       "    .dataframe tbody tr th:only-of-type {\n",
       "        vertical-align: middle;\n",
       "    }\n",
       "\n",
       "    .dataframe tbody tr th {\n",
       "        vertical-align: top;\n",
       "    }\n",
       "\n",
       "    .dataframe thead th {\n",
       "        text-align: right;\n",
       "    }\n",
       "</style>\n",
       "<table border=\"1\" class=\"dataframe\">\n",
       "  <thead>\n",
       "    <tr style=\"text-align: right;\">\n",
       "      <th>Year</th>\n",
       "      <th>Area</th>\n",
       "      <th>2023</th>\n",
       "      <th>2024</th>\n",
       "    </tr>\n",
       "  </thead>\n",
       "  <tbody>\n",
       "    <tr>\n",
       "      <th>0</th>\n",
       "      <td>Core</td>\n",
       "      <td>18447</td>\n",
       "      <td>16840</td>\n",
       "    </tr>\n",
       "    <tr>\n",
       "      <th>1</th>\n",
       "      <td>Developing</td>\n",
       "      <td>51609</td>\n",
       "      <td>44568</td>\n",
       "    </tr>\n",
       "  </tbody>\n",
       "</table>\n",
       "</div>"
      ],
      "text/plain": [
       "Year        Area   2023   2024\n",
       "0           Core  18447  16840\n",
       "1     Developing  51609  44568"
      ]
     },
     "execution_count": 49,
     "metadata": {},
     "output_type": "execute_result"
    }
   ],
   "source": [
    "total_gc[total_gc.ShopID.isin(comp_list)&(total_gc.Month==month)].pivot_table(index='Area',columns='Year',values='Retail_GC',aggfunc='sum').reset_index()"
   ]
  },
  {
   "cell_type": "code",
   "execution_count": 50,
   "id": "b71902b6",
   "metadata": {},
   "outputs": [
    {
     "data": {
      "text/plain": [
       "12"
      ]
     },
     "execution_count": 50,
     "metadata": {},
     "output_type": "execute_result"
    }
   ],
   "source": [
    "total_gc.Month.max()"
   ]
  },
  {
   "cell_type": "markdown",
   "id": "ed9c62b0",
   "metadata": {},
   "source": [
    "# Retail Comp Sales WTD"
   ]
  },
  {
   "cell_type": "code",
   "execution_count": 51,
   "id": "a130961f",
   "metadata": {},
   "outputs": [],
   "source": [
    "comps=total_df[total_df.Week==total_df.Week.max()].pivot_table(index='ShopID',columns='Year',values='SalesMny',aggfunc='sum',fill_value=0).reset_index()\n",
    "comp_list=comps[(comps[2023]>0)&(comps[2024]>0)].ShopID.unique()\n",
    "comp_wtd=total_df[~(total_df.LegacyShopType.str.contains('Mobile'))&(total_df.SV=='No')&~(\n",
    "total_df.ProductTypeName.isin(alist))&(total_df.ShopID.isin(comp_list))&(total_df.Week==total_df.Week.max())].pivot_table(index='Area',columns=['Year'],\n",
    "                                                                                        values=['ShopID','SalesMny'],aggfunc=['nunique',\n",
    "                                                                                                                              'sum']).reset_index()\n",
    "comp_wtd=comp_wtd.iloc[:,[0,3,6,5]]\n",
    "comp_gc=total_gc[total_gc.ShopID.isin(comp_list)&(total_gc.Week==total_df.Week.max())].pivot_table(index='Area',columns='Year',values='Retail_GC',aggfunc='sum').reset_index()\n",
    "comp_gc=comp_gc.iloc[:,[0,2,1]]\n",
    "columns=['Area','ShopCount','CYSales','PYSales']\n",
    "comp_wtd.columns=columns\n",
    "comp_wtd=comp_wtd.merge(comp_gc,on='Area')\n",
    "comp_wtd['CYAvgChk']=comp_wtd['CYSales']/comp_wtd[2024]\n",
    "comp_wtd['PYAvgChk']=comp_wtd['PYSales']/comp_wtd[2023]"
   ]
  },
  {
   "cell_type": "code",
   "execution_count": 57,
   "id": "f1653cd7",
   "metadata": {},
   "outputs": [],
   "source": [
    "cal_dates=total_df.groupby('Year')[['EndDate','Week']].max().reset_index()\n",
    "cal_dates=cal_dates[['EndDate','Week','Year']]"
   ]
  },
  {
   "cell_type": "code",
   "execution_count": 65,
   "id": "30446f8a",
   "metadata": {},
   "outputs": [
    {
     "name": "stderr",
     "output_type": "stream",
     "text": [
      "C:\\Users\\jharned\\AppData\\Local\\Temp\\ipykernel_29500\\4136943777.py:1: UserWarning: Could not infer format, so each element will be parsed individually, falling back to `dateutil`. To ensure parsing is consistent and as-expected, please specify a format.\n",
      "  cal_dates['EndDate']=pd.to_datetime(cal_dates['EndDate']).dt.strftime('%m/%d/%Y')\n"
     ]
    },
    {
     "data": {
      "text/html": [
       "<div>\n",
       "<style scoped>\n",
       "    .dataframe tbody tr th:only-of-type {\n",
       "        vertical-align: middle;\n",
       "    }\n",
       "\n",
       "    .dataframe tbody tr th {\n",
       "        vertical-align: top;\n",
       "    }\n",
       "\n",
       "    .dataframe thead th {\n",
       "        text-align: right;\n",
       "    }\n",
       "</style>\n",
       "<table border=\"1\" class=\"dataframe\">\n",
       "  <thead>\n",
       "    <tr style=\"text-align: right;\">\n",
       "      <th></th>\n",
       "      <th>EndDate</th>\n",
       "      <th>Week</th>\n",
       "      <th>Year</th>\n",
       "    </tr>\n",
       "  </thead>\n",
       "  <tbody>\n",
       "    <tr>\n",
       "      <th>0</th>\n",
       "      <td>12/10/2023</td>\n",
       "      <td>49</td>\n",
       "      <td>2023</td>\n",
       "    </tr>\n",
       "    <tr>\n",
       "      <th>1</th>\n",
       "      <td>12/08/2024</td>\n",
       "      <td>49</td>\n",
       "      <td>2024</td>\n",
       "    </tr>\n",
       "  </tbody>\n",
       "</table>\n",
       "</div>"
      ],
      "text/plain": [
       "      EndDate  Week  Year\n",
       "0  12/10/2023    49  2023\n",
       "1  12/08/2024    49  2024"
      ]
     },
     "execution_count": 65,
     "metadata": {},
     "output_type": "execute_result"
    }
   ],
   "source": [
    "cal_dates['EndDate']=pd.to_datetime(cal_dates['EndDate']).dt.strftime('%m/%d/%Y')\n"
   ]
  },
  {
   "cell_type": "code",
   "execution_count": 67,
   "id": "26eb777e",
   "metadata": {},
   "outputs": [],
   "source": [
    "writer=pd.ExcelWriter('Weekly Data Sets WE '+str(data.EndDate.max().strftime('%m-%d-%y'))+' Week '+str(data.Week.max())+'.xlsx')\n",
    "retail_wtd.to_excel(writer, sheet_name='TSS-WE',index=False)\n",
    "retail_mtd.to_excel(writer, sheet_name='TSS-MTD',index=False)\n",
    "retail_ytd.to_excel(writer, sheet_name='TSS-YTD',index=False)\n",
    "comp_wtd.to_excel(writer, sheet_name='SSS-WE',index=False)\n",
    "comp_mtd.to_excel(writer, sheet_name='SSS-MTD',index=False)\n",
    "comp_ytd.to_excel(writer, sheet_name='SSS-YTD',index=False)\n",
    "pd3_oc_wtd.to_excel(writer, sheet_name='3PD-OC WE',index=False)\n",
    "pd3_oc_mtd.to_excel(writer, sheet_name='3PD-OC MTD',index=False)\n",
    "pd3_oc_ytd.to_excel(writer, sheet_name='3PD-OC YTD',index=False)\n",
    "mobile_wtd.to_excel(writer, sheet_name='MOB WE',index=False)\n",
    "mobile_mtd.to_excel(writer, sheet_name='MOB MTD',index=False)\n",
    "mobile_ytd.to_excel(writer, sheet_name='MOB YTD',index=False)\n",
    "sv_wtd.to_excel(writer, sheet_name='SV WE',index=False)\n",
    "sv_mtd.to_excel(writer, sheet_name='SV MTD',index=False)\n",
    "sv_ytd.to_excel(writer, sheet_name='SV YTD',index=False)\n",
    "tsr_wtd.to_excel(writer, sheet_name='TSR WE',index=False)\n",
    "tsr_mtd.to_excel(writer, sheet_name='TSR MTD',index=False)\n",
    "tsr.to_excel(writer, sheet_name='TSR YTD',index=False)\n",
    "cal_dates.sort_values(by='Year',ascending=False).to_excel(writer,sheet_name='Cal Dates',index=False)\n",
    "ws=writer.sheets['Cal Dates']\n",
    "\n",
    "text1='Total Sales for the Week Ending '+str(total_df.EndDate.max().strftime('%m/%d/%Y'))\n",
    "text2='Total Sales Year to Date as of '+str(total_df.EndDate.max().strftime('%m/%d/%Y'))\n",
    "text3='Same Store Sales for the Week Ending '+str(total_df.EndDate.max().strftime('%m/%d/%Y'))\n",
    "\n",
    "ws.write(4,0,text1)\n",
    "ws.write(5,0,text2)\n",
    "ws.write(6,0,text3)\n",
    "\n",
    "writer.close()"
   ]
  },
  {
   "cell_type": "code",
   "execution_count": null,
   "id": "b475d514",
   "metadata": {},
   "outputs": [],
   "source": []
  }
 ],
 "metadata": {
  "kernelspec": {
   "display_name": "Python 3 (ipykernel)",
   "language": "python",
   "name": "python3"
  },
  "language_info": {
   "codemirror_mode": {
    "name": "ipython",
    "version": 3
   },
   "file_extension": ".py",
   "mimetype": "text/x-python",
   "name": "python",
   "nbconvert_exporter": "python",
   "pygments_lexer": "ipython3",
   "version": "3.9.12"
  }
 },
 "nbformat": 4,
 "nbformat_minor": 5
}
