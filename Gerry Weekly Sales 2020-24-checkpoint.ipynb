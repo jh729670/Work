{
 "cells": [
  {
   "cell_type": "code",
   "execution_count": 1,
   "id": "97dc1a08",
   "metadata": {},
   "outputs": [],
   "source": [
    "import pandas as pd\n",
    "import os\n",
    "import numpy as np\n",
    "import pyodbc as odbc\n",
    "import datetime as dt\n",
    "from datetime import date,timedelta,datetime\n",
    "import matplotlib.pyplot as plt\n",
    "import seaborn as sns\n",
    "import xlsxwriter"
   ]
  },
  {
   "cell_type": "code",
   "execution_count": 2,
   "id": "b982d5dc",
   "metadata": {},
   "outputs": [],
   "source": [
    "os.chdir(r'G:\\FinanceReports\\YTD Files')\n",
    "twenty=pd.read_excel('2020-SRSsales-productLevel-wk1-53.xlsx',sheet_name='2020')"
   ]
  },
  {
   "cell_type": "code",
   "execution_count": 3,
   "id": "a83a494c",
   "metadata": {},
   "outputs": [
    {
     "name": "stdout",
     "output_type": "stream",
     "text": [
      "<pyodbc.Connection object at 0x0000019CBF9CCE00>\n"
     ]
    },
    {
     "name": "stderr",
     "output_type": "stream",
     "text": [
      "C:\\Users\\jharned\\AppData\\Local\\Temp\\ipykernel_18772\\3322647019.py:16: UserWarning: pandas only supports SQLAlchemy connectable (engine/connection) or database string URI or sqlite3 DBAPI2 connection. Other DBAPI2 objects are not tested. Please consider using SQLAlchemy.\n",
      "  data=pd.read_sql_query('''SELECT *\n",
      "C:\\Users\\jharned\\AppData\\Local\\Temp\\ipykernel_18772\\3322647019.py:20: UserWarning: pandas only supports SQLAlchemy connectable (engine/connection) or database string URI or sqlite3 DBAPI2 connection. Other DBAPI2 objects are not tested. Please consider using SQLAlchemy.\n",
      "  data2=pd.read_sql_query('''SELECT *\n"
     ]
    }
   ],
   "source": [
    "#Names the needed driver, server name, and database\n",
    "driver_name='SQL Server'\n",
    "server_name='10.0.1.218'\n",
    "database='ritascoolnet_live'\n",
    "#Creates the connection string\n",
    "connection_string=f\"\"\"\n",
    "DRIVER={{{driver_name}}};\n",
    "SERVER={server_name};\n",
    "DATABASE={database};\n",
    "Trust_Connection=yes\"\"\"\n",
    "#Creates the Connection to SQL Server\n",
    "connection=odbc.connect(connection_string)\n",
    "print(connection)\n",
    "# Queries the tables from SQL\n",
    "# Reads in the Weekly Sales in 2023\n",
    "data=pd.read_sql_query('''SELECT *\n",
    "  FROM [ritas_bi].[dbo].[tmp_raw_plda]\n",
    "  WHERE YEAR(StartDate)>=2022\n",
    "  ORDER BY Week DESC''',connection)\n",
    "data2=pd.read_sql_query('''SELECT *\n",
    "  FROM [ritas_bi].[dbo].[tmp_raw_pldb]\n",
    "  WHERE YEAR(StartDate)=2021''',connection)"
   ]
  },
  {
   "cell_type": "code",
   "execution_count": 5,
   "id": "430866e5",
   "metadata": {},
   "outputs": [],
   "source": [
    "all_data=pd.concat([twenty,data2,data])\n",
    "all_data['Year']=all_data.StartDate.dt.year"
   ]
  },
  {
   "cell_type": "code",
   "execution_count": 6,
   "id": "feed85e7",
   "metadata": {},
   "outputs": [],
   "source": [
    "states=['AL','CA','CO','FL','GA','KY','MI','MN','NV','NC','SC','TN','TX','UT']"
   ]
  },
  {
   "cell_type": "code",
   "execution_count": 8,
   "id": "1b112ebb",
   "metadata": {},
   "outputs": [],
   "source": [
    "df=all_data[(all_data.State.isin(states))&(all_data.ShopID<10000)]\n"
   ]
  },
  {
   "cell_type": "code",
   "execution_count": 16,
   "id": "0fd88b00",
   "metadata": {},
   "outputs": [
    {
     "data": {
      "text/html": [
       "<div>\n",
       "<style scoped>\n",
       "    .dataframe tbody tr th:only-of-type {\n",
       "        vertical-align: middle;\n",
       "    }\n",
       "\n",
       "    .dataframe tbody tr th {\n",
       "        vertical-align: top;\n",
       "    }\n",
       "\n",
       "    .dataframe thead th {\n",
       "        text-align: right;\n",
       "    }\n",
       "</style>\n",
       "<table border=\"1\" class=\"dataframe\">\n",
       "  <thead>\n",
       "    <tr style=\"text-align: right;\">\n",
       "      <th></th>\n",
       "      <th>Year</th>\n",
       "      <th>Week</th>\n",
       "      <th>State</th>\n",
       "      <th>SalesMny</th>\n",
       "      <th>ShopID</th>\n",
       "    </tr>\n",
       "  </thead>\n",
       "  <tbody>\n",
       "    <tr>\n",
       "      <th>0</th>\n",
       "      <td>2019</td>\n",
       "      <td>1</td>\n",
       "      <td>AL</td>\n",
       "      <td>5006.2540</td>\n",
       "      <td>4</td>\n",
       "    </tr>\n",
       "    <tr>\n",
       "      <th>11</th>\n",
       "      <td>2020</td>\n",
       "      <td>1</td>\n",
       "      <td>AL</td>\n",
       "      <td>4316.9600</td>\n",
       "      <td>2</td>\n",
       "    </tr>\n",
       "    <tr>\n",
       "      <th>22</th>\n",
       "      <td>2020</td>\n",
       "      <td>2</td>\n",
       "      <td>AL</td>\n",
       "      <td>4294.7385</td>\n",
       "      <td>4</td>\n",
       "    </tr>\n",
       "    <tr>\n",
       "      <th>33</th>\n",
       "      <td>2020</td>\n",
       "      <td>3</td>\n",
       "      <td>AL</td>\n",
       "      <td>4950.0328</td>\n",
       "      <td>3</td>\n",
       "    </tr>\n",
       "    <tr>\n",
       "      <th>44</th>\n",
       "      <td>2020</td>\n",
       "      <td>4</td>\n",
       "      <td>AL</td>\n",
       "      <td>4240.7785</td>\n",
       "      <td>3</td>\n",
       "    </tr>\n",
       "    <tr>\n",
       "      <th>...</th>\n",
       "      <td>...</td>\n",
       "      <td>...</td>\n",
       "      <td>...</td>\n",
       "      <td>...</td>\n",
       "      <td>...</td>\n",
       "    </tr>\n",
       "    <tr>\n",
       "      <th>3238</th>\n",
       "      <td>2024</td>\n",
       "      <td>42</td>\n",
       "      <td>UT</td>\n",
       "      <td>6041.1059</td>\n",
       "      <td>2</td>\n",
       "    </tr>\n",
       "    <tr>\n",
       "      <th>3250</th>\n",
       "      <td>2024</td>\n",
       "      <td>43</td>\n",
       "      <td>UT</td>\n",
       "      <td>6200.0080</td>\n",
       "      <td>2</td>\n",
       "    </tr>\n",
       "    <tr>\n",
       "      <th>3262</th>\n",
       "      <td>2024</td>\n",
       "      <td>44</td>\n",
       "      <td>UT</td>\n",
       "      <td>4171.6235</td>\n",
       "      <td>2</td>\n",
       "    </tr>\n",
       "    <tr>\n",
       "      <th>3274</th>\n",
       "      <td>2024</td>\n",
       "      <td>45</td>\n",
       "      <td>UT</td>\n",
       "      <td>5510.4910</td>\n",
       "      <td>2</td>\n",
       "    </tr>\n",
       "    <tr>\n",
       "      <th>3286</th>\n",
       "      <td>2024</td>\n",
       "      <td>46</td>\n",
       "      <td>UT</td>\n",
       "      <td>5613.5925</td>\n",
       "      <td>2</td>\n",
       "    </tr>\n",
       "  </tbody>\n",
       "</table>\n",
       "<p>3287 rows × 5 columns</p>\n",
       "</div>"
      ],
      "text/plain": [
       "      Year  Week State   SalesMny  ShopID\n",
       "0     2019     1    AL  5006.2540       4\n",
       "11    2020     1    AL  4316.9600       2\n",
       "22    2020     2    AL  4294.7385       4\n",
       "33    2020     3    AL  4950.0328       3\n",
       "44    2020     4    AL  4240.7785       3\n",
       "...    ...   ...   ...        ...     ...\n",
       "3238  2024    42    UT  6041.1059       2\n",
       "3250  2024    43    UT  6200.0080       2\n",
       "3262  2024    44    UT  4171.6235       2\n",
       "3274  2024    45    UT  5510.4910       2\n",
       "3286  2024    46    UT  5613.5925       2\n",
       "\n",
       "[3287 rows x 5 columns]"
      ]
     },
     "execution_count": 16,
     "metadata": {},
     "output_type": "execute_result"
    }
   ],
   "source": [
    "df.groupby(['Year','Week','State'])[['SalesMny','ShopID']].agg({'SalesMny':'sum','ShopID':'nunique'}).reset_index().sort_values(by=['State','Year'])"
   ]
  },
  {
   "cell_type": "code",
   "execution_count": 19,
   "id": "d35284c4",
   "metadata": {},
   "outputs": [
    {
     "data": {
      "text/plain": [
       "array(['FL', 'NJ', 'PA', 'MD', 'GA', 'NC', 'TX', 'SC', 'VA', 'AZ', 'CA',\n",
       "       'AL', 'NY', 'CO', 'IA', 'TN', 'HI', 'IL', 'LA', 'AR', 'NV', 'UT',\n",
       "       'OH', 'NE'], dtype=object)"
      ]
     },
     "execution_count": 19,
     "metadata": {},
     "output_type": "execute_result"
    }
   ],
   "source": [
    "all_data[(all_data.Year==2020)&(all_data.Week==1)]."
   ]
  },
  {
   "cell_type": "code",
   "execution_count": null,
   "id": "18220eb1",
   "metadata": {},
   "outputs": [],
   "source": []
  }
 ],
 "metadata": {
  "kernelspec": {
   "display_name": "Python 3 (ipykernel)",
   "language": "python",
   "name": "python3"
  },
  "language_info": {
   "codemirror_mode": {
    "name": "ipython",
    "version": 3
   },
   "file_extension": ".py",
   "mimetype": "text/x-python",
   "name": "python",
   "nbconvert_exporter": "python",
   "pygments_lexer": "ipython3",
   "version": "3.9.12"
  }
 },
 "nbformat": 4,
 "nbformat_minor": 5
}
