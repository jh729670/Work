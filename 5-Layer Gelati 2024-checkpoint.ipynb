{
 "cells": [
  {
   "cell_type": "code",
   "execution_count": 1,
   "id": "161e26d8",
   "metadata": {},
   "outputs": [],
   "source": [
    "#Imports the necessary libraries\n",
    "import pandas as pd\n",
    "import os\n",
    "import numpy as np\n",
    "import pyodbc as odbc\n",
    "from datetime import date,timedelta,datetime\n",
    "os.chdir(r'G:\\FinanceReports\\2024\\Wk26')"
   ]
  },
  {
   "cell_type": "code",
   "execution_count": 2,
   "id": "4cea3862",
   "metadata": {},
   "outputs": [
    {
     "name": "stdout",
     "output_type": "stream",
     "text": [
      "<pyodbc.Connection object at 0x0000028514F2ED30>\n"
     ]
    }
   ],
   "source": [
    "# Names the needed driver, server name, and database\n",
    "driver_name='SQL Server'\n",
    "server_name='10.0.1.218'\n",
    "database='ritascoolnet_live'\n",
    "#Creates the connection string\n",
    "connection_string=f\"\"\"\n",
    "DRIVER={{{driver_name}}};\n",
    "SERVER={server_name};\n",
    "DATABASE={database};\n",
    "Trust_Connection=yes\"\"\"\n",
    "#Creates the Connection to SQL Server\n",
    "connection=odbc.connect(connection_string)\n",
    "print(connection)"
   ]
  },
  {
   "cell_type": "code",
   "execution_count": 3,
   "id": "b1897cf4",
   "metadata": {},
   "outputs": [
    {
     "name": "stderr",
     "output_type": "stream",
     "text": [
      "C:\\Users\\jharned\\AppData\\Local\\Temp\\ipykernel_36704\\965625088.py:4: UserWarning: pandas only supports SQLAlchemy connectable (engine/connection) or database string URI or sqlite3 DBAPI2 connection. Other DBAPI2 objects are not tested. Please consider using SQLAlchemy.\n",
      "  data=pd.read_sql_query('''SELECT *\n"
     ]
    }
   ],
   "source": [
    "# Queries the tables from SQL\n",
    "# Reads in the Weekly Sales in 2023\n",
    "# Data3 Gets Guest Count\n",
    "data=pd.read_sql_query('''SELECT *\n",
    "  FROM [ritas_bi].[dbo].[tmp_raw_plda]\n",
    "  WHERE YEAR(StartDate)=2024''',connection)"
   ]
  },
  {
   "cell_type": "code",
   "execution_count": 4,
   "id": "84177798",
   "metadata": {},
   "outputs": [],
   "source": [
    "gelati=data[data.Week>=24]"
   ]
  },
  {
   "cell_type": "code",
   "execution_count": 5,
   "id": "c0b0627b",
   "metadata": {},
   "outputs": [],
   "source": [
    "percent=gelati.pivot_table(index=['ShopID','ShopName'],columns='ProductSizeName',values='SalesMny',aggfunc='sum',fill_value=0,margins=True)\n",
    "percent=percent.div(percent.iloc[:,-1],axis=0)['5-Layer Gelati'].reset_index()\n",
    "percent=percent.rename(columns={'5-Layer Gelati':'%_Sales'})\n",
    "sales=gelati.pivot_table(index=['ShopID','ShopName'],values='SalesMny',aggfunc='sum',fill_value=0).reset_index()\\\n",
    ".sort_values(by='SalesMny',ascending=False)\n",
    "qty_sales=gelati.pivot_table(index=['ShopID','ShopName'],columns='ProductSizeName',values=['SalesMny','SalesQty'],aggfunc='sum',fill_value=0)\\\n",
    "[[('SalesMny','5-Layer Gelati'),('SalesQty','5-Layer Gelati')]].reset_index()\n",
    "columns=['ShopID','ShopName','Sales 5-Layer Gelati','Qty 5-Layer Gelati']\n",
    "qty_sales.columns=columns\n",
    "\n",
    "merged=sales.merge(qty_sales, on=['ShopID','ShopName'],how='left').merge(percent,on=['ShopID','ShopName'],how='left')\n",
    "\n",
    "writer=pd.ExcelWriter('5-Layer Gelati WE '+str(data.EndDate.max().strftime('%m-%d-%y'))+'.xlsx')\n",
    "merged.sort_values(by=['%_Sales'],ascending=False).to_excel(writer, startrow=5,startcol=0,sheet_name='5 Layer Gelati',index=False)\n",
    "wb=writer.book\n",
    "ws=writer.sheets['5 Layer Gelati']\n",
    "format_1=wb.add_format({'num_format':'$#,##0',\n",
    "                       'align':'center', 'valign':'vcenter'})\n",
    "format_2=wb.add_format({'num_format':'#,##0',\n",
    "                       'align':'center', 'valign':'vcenter'})\n",
    "format_3=wb.add_format({'num_format':'0.0%',\n",
    "                       'align':'center', 'valign':'vcenter'})\n",
    "header_format=wb.add_format({'bold':True,\n",
    "                            'italic':True,\n",
    "                            'align':'center', 'valign':'vcenter'})\n",
    "ws.set_column('A:A',14)\n",
    "ws.set_column('B:B',40)\n",
    "ws.set_column('C:D',31,format_1)\n",
    "ws.set_column('D:D',18,format_1)\n",
    "ws.set_column('E:E',16,format_2)\n",
    "ws.set_column('F:F',16,format_3)\n",
    "\n",
    "text1='Ritas Franchise Operations,LLC'\n",
    "text2='2024 5 Layer Gelati'\n",
    "text3='Sales thru 06/14/2024 '+' - '+str(gelati.EndDate.max().strftime('%m/%d/%y'))\n",
    "text4='Source Code: dbo.tmp_raw_plda'\n",
    "ws.write(0,2,text1,header_format)\n",
    "ws.write(1,2,text2,header_format)\n",
    "ws.write(2,2,text3,header_format)\n",
    "ws.write(3,2,text4,header_format)\n",
    "writer.close()\n"
   ]
  },
  {
   "cell_type": "code",
   "execution_count": 6,
   "id": "8479dd52",
   "metadata": {},
   "outputs": [
    {
     "data": {
      "text/plain": [
       "ShopID  ShopName                             \n",
       "1528    731 Wayne Ave-Chambersburg PA            4578.45\n",
       "182     538 W South St-Frederick MD              4191.75\n",
       "180     Gore Road                                3737.69\n",
       "215     73 Landis Ave-Bridgeton NJ               3655.84\n",
       "1522    3319 W Elm St-McHenry IL                 3460.05\n",
       "                                                  ...   \n",
       "1551    10165 McKinley Dr-Tampa Bay FL              0.00\n",
       "1552    7007 SeaWorld Dr-Orlando FL                 0.00\n",
       "1563    1500 S Capitol St-Washington DC             0.00\n",
       "1573    1 Busch Gardens Blvd-Williamsburg VA        0.00\n",
       "30332   Blandon Mobile 1-2                          0.00\n",
       "Name: 5-Layer Gelati, Length: 577, dtype: float64"
      ]
     },
     "execution_count": 6,
     "metadata": {},
     "output_type": "execute_result"
    }
   ],
   "source": [
    "gelati.pivot_table(index=['ShopID','ShopName'],columns='ProductSizeName',values='SalesMny',aggfunc='sum',fill_value=0)\\\n",
    "['5-Layer Gelati'].sort_values(ascending=False)"
   ]
  },
  {
   "cell_type": "code",
   "execution_count": 7,
   "id": "8207fed5",
   "metadata": {},
   "outputs": [
    {
     "data": {
      "text/html": [
       "<div>\n",
       "<style scoped>\n",
       "    .dataframe tbody tr th:only-of-type {\n",
       "        vertical-align: middle;\n",
       "    }\n",
       "\n",
       "    .dataframe tbody tr th {\n",
       "        vertical-align: top;\n",
       "    }\n",
       "\n",
       "    .dataframe thead th {\n",
       "        text-align: right;\n",
       "    }\n",
       "</style>\n",
       "<table border=\"1\" class=\"dataframe\">\n",
       "  <thead>\n",
       "    <tr style=\"text-align: right;\">\n",
       "      <th></th>\n",
       "      <th>ShopID</th>\n",
       "      <th>ShopName</th>\n",
       "      <th>5-Layer Gelati</th>\n",
       "    </tr>\n",
       "  </thead>\n",
       "  <tbody>\n",
       "    <tr>\n",
       "      <th>0</th>\n",
       "      <td>1</td>\n",
       "      <td>Woodhaven</td>\n",
       "      <td>0.008456</td>\n",
       "    </tr>\n",
       "    <tr>\n",
       "      <th>1</th>\n",
       "      <td>2</td>\n",
       "      <td>3244 Red Lion Rd-Phila PA</td>\n",
       "      <td>0.019525</td>\n",
       "    </tr>\n",
       "    <tr>\n",
       "      <th>2</th>\n",
       "      <td>3</td>\n",
       "      <td>5901 Rising Sun Ave-Phila PA</td>\n",
       "      <td>0.014536</td>\n",
       "    </tr>\n",
       "    <tr>\n",
       "      <th>3</th>\n",
       "      <td>4</td>\n",
       "      <td>Pine Valley</td>\n",
       "      <td>0.025185</td>\n",
       "    </tr>\n",
       "    <tr>\n",
       "      <th>4</th>\n",
       "      <td>6</td>\n",
       "      <td>Rhawn Street</td>\n",
       "      <td>0.021173</td>\n",
       "    </tr>\n",
       "    <tr>\n",
       "      <th>...</th>\n",
       "      <td>...</td>\n",
       "      <td>...</td>\n",
       "      <td>...</td>\n",
       "    </tr>\n",
       "    <tr>\n",
       "      <th>573</th>\n",
       "      <td>11419</td>\n",
       "      <td>4255 Tamiami Trail-Port Charlotte FL Mobile</td>\n",
       "      <td>0.000000</td>\n",
       "    </tr>\n",
       "    <tr>\n",
       "      <th>574</th>\n",
       "      <td>11453</td>\n",
       "      <td>Bowling Green Mobile</td>\n",
       "      <td>0.000000</td>\n",
       "    </tr>\n",
       "    <tr>\n",
       "      <th>575</th>\n",
       "      <td>20096</td>\n",
       "      <td>1 Premium Outlet Blvd-Tinton Falls NJ</td>\n",
       "      <td>0.000000</td>\n",
       "    </tr>\n",
       "    <tr>\n",
       "      <th>576</th>\n",
       "      <td>30332</td>\n",
       "      <td>Blandon Mobile 1-2</td>\n",
       "      <td>0.000000</td>\n",
       "    </tr>\n",
       "    <tr>\n",
       "      <th>577</th>\n",
       "      <td>All</td>\n",
       "      <td></td>\n",
       "      <td>0.024407</td>\n",
       "    </tr>\n",
       "  </tbody>\n",
       "</table>\n",
       "<p>578 rows × 3 columns</p>\n",
       "</div>"
      ],
      "text/plain": [
       "    ShopID                                     ShopName  5-Layer Gelati\n",
       "0        1                                    Woodhaven        0.008456\n",
       "1        2                    3244 Red Lion Rd-Phila PA        0.019525\n",
       "2        3                 5901 Rising Sun Ave-Phila PA        0.014536\n",
       "3        4                                  Pine Valley        0.025185\n",
       "4        6                                 Rhawn Street        0.021173\n",
       "..     ...                                          ...             ...\n",
       "573  11419  4255 Tamiami Trail-Port Charlotte FL Mobile        0.000000\n",
       "574  11453                         Bowling Green Mobile        0.000000\n",
       "575  20096        1 Premium Outlet Blvd-Tinton Falls NJ        0.000000\n",
       "576  30332                           Blandon Mobile 1-2        0.000000\n",
       "577    All                                                     0.024407\n",
       "\n",
       "[578 rows x 3 columns]"
      ]
     },
     "execution_count": 7,
     "metadata": {},
     "output_type": "execute_result"
    }
   ],
   "source": [
    "percent=gelati.pivot_table(index=['ShopID','ShopName'],columns='ProductSizeName',values='SalesMny',aggfunc='sum',fill_value=0,margins=True)\n",
    "percent.div(percent.iloc[:,-1],axis=0)['5-Layer Gelati'].reset_index()\n"
   ]
  },
  {
   "cell_type": "code",
   "execution_count": 8,
   "id": "5fdfb28a",
   "metadata": {},
   "outputs": [],
   "source": [
    "# percent=gelati.pivot_table(index=['ShopID','ShopName'],columns='ProductSizeName',values='SalesMny',aggfunc='sum',fill_value=0)\\\n",
    "# .apply(lambda x:x/sum(x))['5-Layer Gelati'].reset_index()"
   ]
  }
 ],
 "metadata": {
  "kernelspec": {
   "display_name": "Python 3 (ipykernel)",
   "language": "python",
   "name": "python3"
  },
  "language_info": {
   "codemirror_mode": {
    "name": "ipython",
    "version": 3
   },
   "file_extension": ".py",
   "mimetype": "text/x-python",
   "name": "python",
   "nbconvert_exporter": "python",
   "pygments_lexer": "ipython3",
   "version": "3.9.12"
  }
 },
 "nbformat": 4,
 "nbformat_minor": 5
}
