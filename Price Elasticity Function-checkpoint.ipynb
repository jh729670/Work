{
 "cells": [
  {
   "cell_type": "code",
   "execution_count": 1,
   "id": "e9c12627",
   "metadata": {},
   "outputs": [],
   "source": [
    "import pandas as pd\n",
    "import os\n",
    "import numpy as np\n",
    "import pyodbc as odbc\n",
    "from datetime import date,timedelta\n",
    "os.chdir(r'G:\\FinanceReports\\2024\\Wk52')"
   ]
  },
  {
   "cell_type": "code",
   "execution_count": 2,
   "id": "593a43fe",
   "metadata": {},
   "outputs": [
    {
     "name": "stdout",
     "output_type": "stream",
     "text": [
      "<pyodbc.Connection object at 0x000002471B1756B0>\n"
     ]
    },
    {
     "name": "stderr",
     "output_type": "stream",
     "text": [
      "C:\\Users\\jharned\\AppData\\Local\\Temp\\ipykernel_32252\\2904909756.py:14: UserWarning: pandas only supports SQLAlchemy connectable (engine/connection) or database string URI or sqlite3 DBAPI2 connection. Other DBAPI2 objects are not tested. Please consider using SQLAlchemy.\n",
      "  data=pd.read_sql_query('''SELECT *\n",
      "C:\\Users\\jharned\\AppData\\Local\\Temp\\ipykernel_32252\\2904909756.py:18: UserWarning: pandas only supports SQLAlchemy connectable (engine/connection) or database string URI or sqlite3 DBAPI2 connection. Other DBAPI2 objects are not tested. Please consider using SQLAlchemy.\n",
      "  data1=pd.read_sql_query('''SELECT *\n",
      "C:\\Users\\jharned\\AppData\\Local\\Temp\\ipykernel_32252\\2904909756.py:25: UserWarning: pandas only supports SQLAlchemy connectable (engine/connection) or database string URI or sqlite3 DBAPI2 connection. Other DBAPI2 objects are not tested. Please consider using SQLAlchemy.\n",
      "  data3=pd.read_sql_query('''Select intstoreid,RitasID as ShopID, FC,CoolNetGroup,LegacyStoreType,State,MSAName,DMA,StoreName as ShopName,StoreStatus,[Special Venue] as SV,SeasonClose from ritascoolnet_live.dbo.vShopDetail''',connection)\n"
     ]
    }
   ],
   "source": [
    "# Names the needed driver, server name, and database\n",
    "driver_name='SQL Server'\n",
    "server_name='10.0.1.218'\n",
    "database='ritascoolnet_live'\n",
    "#Creates the connection string\n",
    "connection_string=f\"\"\"\n",
    "DRIVER={{{driver_name}}};\n",
    "SERVER={server_name};\n",
    "DATABASE={database};\n",
    "Trust_Connection=yes\"\"\"\n",
    "#Creates the Connection to SQL Server\n",
    "connection=odbc.connect(connection_string)\n",
    "print(connection)\n",
    "data=pd.read_sql_query('''SELECT *\n",
    "  FROM [ritas_bi].[dbo].[tmp_raw_plda]\n",
    "  WHERE YEAR(StartDate)=2024\n",
    "  ORDER BY Week DESC''',connection)\n",
    "data1=pd.read_sql_query('''SELECT *\n",
    "  FROM [ritas_bi].[dbo].[tmp_raw_plda]\n",
    "  WHERE YEAR(StartDate)=2023\n",
    "  ORDER BY Week DESC''',connection)\n",
    "# data2=pd.read_sql_query('''SELECT *\n",
    "#   FROM [ritas_bi].[dbo].[tmp_raw_pldb]\n",
    "#   WHERE YEAR(StartDate)=2021''',connection)\n",
    "data3=pd.read_sql_query('''Select intstoreid,RitasID as ShopID, FC,CoolNetGroup,LegacyStoreType,State,MSAName,DMA,StoreName as ShopName,StoreStatus,[Special Venue] as SV,SeasonClose from ritascoolnet_live.dbo.vShopDetail''',connection)"
   ]
  },
  {
   "cell_type": "code",
   "execution_count": 3,
   "id": "fd009bc2",
   "metadata": {},
   "outputs": [],
   "source": [
    "data['Year']=data.StartDate.dt.year\n",
    "data1['Year']=data1.StartDate.dt.year\n",
    "df_1=pd.concat([data,data1])"
   ]
  },
  {
   "cell_type": "code",
   "execution_count": null,
   "id": "eac88ca6",
   "metadata": {},
   "outputs": [],
   "source": [
    "df_1[(df_1.ShopID==1379)&(df_1.Week<=39)].groupby('Year')['SalesMny'].sum()"
   ]
  },
  {
   "cell_type": "code",
   "execution_count": null,
   "id": "b6b0a54e",
   "metadata": {},
   "outputs": [],
   "source": [
    "data.Week.max()"
   ]
  },
  {
   "cell_type": "code",
   "execution_count": null,
   "id": "3fcd001e",
   "metadata": {},
   "outputs": [],
   "source": [
    "data.CoOpName.unique()"
   ]
  },
  {
   "cell_type": "code",
   "execution_count": null,
   "id": "64825d4d",
   "metadata": {},
   "outputs": [],
   "source": [
    "df_1.loc[df_1.CoOpName.isna(),'CoOpName']='None'"
   ]
  },
  {
   "cell_type": "code",
   "execution_count": null,
   "id": "b6684c1a",
   "metadata": {},
   "outputs": [],
   "source": [
    "def elasticity(name=[],week_min=1,week_max=data.Week.max()):\n",
    "    pd.options.display.float_format = '{:.2f}'.format\n",
    "    if name:            \n",
    "        elastic=df_1[(df_1.CoOpName.isin(name))&(df_1.Week.between(week_min,week_max))].pivot_table(\n",
    "            index=['ProductTypeName','ProductSizeName'],columns='Year',\n",
    "                                               values=['SalesMny','SalesQty'],aggfunc='sum',fill_value=0).reset_index()\n",
    "        elastic.columns=['_'.join(map(str,col)) for col in elastic.columns]\n",
    "        elastic['23_Price']=elastic.iloc[:,2]/elastic.iloc[:,4]\n",
    "        elastic['24_Price']=elastic.iloc[:,3]/elastic.iloc[:,5]\n",
    "        elastic['Qty_Chng']=(elastic.iloc[:,5]-elastic.iloc[:,4])/((elastic.iloc[:,5]+elastic.iloc[:,4])/2)\n",
    "        elastic['Price_Chng']=(elastic.iloc[:,7]-elastic.iloc[:,6])/((elastic.iloc[:,6]+elastic.iloc[:,7])/2)\n",
    "        elastic['Elasticity']=round(elastic['Qty_Chng']/elastic['Price_Chng'],2).abs()\n",
    "        elastic=elastic.fillna(0)\n",
    "        elastic.replace([np.inf,-np.inf],0,inplace=True)\n",
    "        elastic_drop=elastic.drop(elastic.iloc[:,[6,7,8,9]],axis=1)\n",
    "        elastic_drop.replace([np.inf,-np.inf],0,inplace=True)\n",
    "        elastic = elastic.loc[(elastic != 0).all(axis=1)]\n",
    "        elastic = elastic[elastic['Price_Chng'].abs() >= 0.02]\n",
    "        elastic.sort_values(by=('SalesMny_2024'), ascending=False, inplace=True)\n",
    "        return(elastic)"
   ]
  },
  {
   "cell_type": "code",
   "execution_count": null,
   "id": "5aed09db",
   "metadata": {
    "scrolled": false
   },
   "outputs": [],
   "source": [
    "pd.set_option('display.max_row',150)\n",
    "elasticity(name=['Philadelphia'],week_min=9,week_max=36).sort_values(by='Elasticity',ascending=True)"
   ]
  },
  {
   "cell_type": "code",
   "execution_count": null,
   "id": "b0828163",
   "metadata": {},
   "outputs": [],
   "source": [
    "# test=df_1[df_1.ShopID==1].pivot_table(index=['ProductTypeName','ProductSizeName'],columns='Year',\n",
    "#                                                values=['SalesMny','SalesQty'],aggfunc='sum').reset_index()\n",
    "# test"
   ]
  },
  {
   "cell_type": "code",
   "execution_count": null,
   "id": "c565313c",
   "metadata": {},
   "outputs": [],
   "source": [
    "def shop_elasticity(shopid=[],week_min=1,week_max=data.Week.max()):\n",
    "    pd.options.display.float_format = '{:.2f}'.format\n",
    "    if shopid:            \n",
    "        elastic=df_1[(df_1.ShopID.isin(shopid))&(df_1.Week.between(week_min,week_max))].pivot_table(\n",
    "            index=['ProductTypeName','ProductSizeName'],columns='Year',\n",
    "                                               values=['SalesMny','SalesQty'],aggfunc='sum',fill_value=0).reset_index()\n",
    "        elastic.columns=['_'.join(map(str,col)) for col in elastic.columns]\n",
    "        elastic['23_Price']=elastic.iloc[:,2]/elastic.iloc[:,4]\n",
    "        elastic['24_Price']=elastic.iloc[:,3]/elastic.iloc[:,5]\n",
    "        elastic['Qty_Chng']=(elastic.iloc[:,5]-elastic.iloc[:,4])/((elastic.iloc[:,5]+elastic.iloc[:,4])/2)\n",
    "        elastic['Price_Chng']=(elastic.iloc[:,7]-elastic.iloc[:,6])/((elastic.iloc[:,6]+elastic.iloc[:,7])/2)\n",
    "        elastic['Elasticity']=round(elastic['Qty_Chng']/elastic['Price_Chng'],2)\n",
    "        elastic=elastic.fillna(0)\n",
    "        elastic.replace([np.inf,-np.inf],0,inplace=True)\n",
    "        elastic_drop=elastic.drop(elastic.iloc[:,[6,7,8,9]],axis=1)\n",
    "        elastic_drop.replace([np.inf,-np.inf],0,inplace=True)\n",
    "        elastic = elastic.loc[(elastic != 0).all(axis=1)]\n",
    "#         elastic = elastic[(elastic['Price_Chng'] >= 0.02)|(elastic['Price_Chng']<=-.02)]\n",
    "        elastic.sort_values(by=('SalesMny_2024'), ascending=False, inplace=True)\n",
    "        return(elastic)"
   ]
  },
  {
   "cell_type": "code",
   "execution_count": null,
   "id": "4650e2ee",
   "metadata": {
    "scrolled": true
   },
   "outputs": [],
   "source": [
    "shop_elasticity(shopid=[224],week_min=1,week_max=52).sort_values(by='Elasticity')"
   ]
  },
  {
   "cell_type": "code",
   "execution_count": 6,
   "id": "1001ba46",
   "metadata": {},
   "outputs": [],
   "source": [
    "def delta(shopid=[],week_min=1,week_max=data.Week.max()):\n",
    "    pd.options.display.float_format = '{:.2f}'.format\n",
    "    if shopid:            \n",
    "        delta=df_1[(df_1.ShopID.isin(shopid))&(df_1.Week.between(week_min,week_max))].pivot_table(\n",
    "            index=['ProductTypeName','ProductSizeName'],columns='Year',\n",
    "            values=['SalesMny','SalesQty'],aggfunc='sum',fill_value=0).reset_index()\n",
    "        delta.columns=['_'.join(map(str,col)) for col in delta.columns]\n",
    "#         delta=delta[(delta['SalesQty_2023']>)&(delta['SalesQty_2024']>0)]\n",
    "        delta['Qty_Chng']=delta.iloc[:,5]-delta.iloc[:,4]\n",
    "        delta['Sales_Chng']=delta.iloc[:,3]-delta.iloc[:,2]\n",
    "        delta.sort_values(by='Sales_Chng',inplace=True)\n",
    "        delta.loc['Total']=delta.iloc[:,[2,3,4,5,6,7]].sum(axis=0)\n",
    "        delta['23_Price']=delta.iloc[:,2]/delta.iloc[:,4]\n",
    "        delta['24_Price']=delta.iloc[:,3]/delta.iloc[:,5]\n",
    "        return(delta)"
   ]
  },
  {
   "cell_type": "code",
   "execution_count": 9,
   "id": "9c865a09",
   "metadata": {
    "scrolled": false
   },
   "outputs": [],
   "source": [
    "pd.set_option('display.max_row',150)\n",
    "delta(shopid=[1379],week_min=1,week_max=40).to_excel('Jordan Landing Delta.xlsx',index=False)"
   ]
  },
  {
   "cell_type": "code",
   "execution_count": null,
   "id": "acfb0062",
   "metadata": {},
   "outputs": [],
   "source": [
    "5.45/5.01-1"
   ]
  },
  {
   "cell_type": "code",
   "execution_count": null,
   "id": "2471644a",
   "metadata": {},
   "outputs": [],
   "source": [
    "df_1.ProductTypeName.unique()"
   ]
  },
  {
   "cell_type": "code",
   "execution_count": null,
   "id": "24298f53",
   "metadata": {},
   "outputs": [],
   "source": []
  }
 ],
 "metadata": {
  "kernelspec": {
   "display_name": "Python 3 (ipykernel)",
   "language": "python",
   "name": "python3"
  },
  "language_info": {
   "codemirror_mode": {
    "name": "ipython",
    "version": 3
   },
   "file_extension": ".py",
   "mimetype": "text/x-python",
   "name": "python",
   "nbconvert_exporter": "python",
   "pygments_lexer": "ipython3",
   "version": "3.9.12"
  }
 },
 "nbformat": 4,
 "nbformat_minor": 5
}
